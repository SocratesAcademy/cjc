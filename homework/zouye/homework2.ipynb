{
 "cells": [
  {
   "cell_type": "markdown",
   "metadata": {},
   "source": [
    "# 计算新闻传播学\n",
    "## 邹烨 15210130105\n",
    "### 第二次作业——政府工作报告抓取"
   ]
  },
  {
   "cell_type": "code",
   "execution_count": 1,
   "metadata": {
    "collapsed": true
   },
   "outputs": [],
   "source": [
    "import urllib2\n",
    "from bs4 import BeautifulSoup"
   ]
  },
  {
   "cell_type": "code",
   "execution_count": 2,
   "metadata": {
    "collapsed": false
   },
   "outputs": [
    {
     "data": {
      "text/html": [
       "<iframe src=http://www.hprc.org.cn/wxzl/wxysl/lczf/ width=1000 height=500></iframe>"
      ],
      "text/plain": [
       "<IPython.core.display.HTML object>"
      ]
     },
     "execution_count": 2,
     "metadata": {},
     "output_type": "execute_result"
    }
   ],
   "source": [
    "from IPython.display import display_html, HTML\n",
    "HTML('<iframe src=http://www.hprc.org.cn/wxzl/wxysl/lczf/ width=1000 height=500></iframe>')"
   ]
  },
  {
   "cell_type": "code",
   "execution_count": 6,
   "metadata": {
    "collapsed": false
   },
   "outputs": [],
   "source": [
    "url = \"http://www.hprc.org.cn/wxzl/wxysl/lczf/\"\n",
    "content = urllib2.urlopen(url).read().decode('gb18030')\n",
    "soup = BeautifulSoup(content, 'html.parser')\n",
    "links = soup.select('.bl a')"
   ]
  },
  {
   "cell_type": "code",
   "execution_count": 7,
   "metadata": {
    "collapsed": false
   },
   "outputs": [],
   "source": [
    "hyperlinks = [url + i['href'].split('./')[1]for i in links]"
   ]
  },
  {
   "cell_type": "code",
   "execution_count": 8,
   "metadata": {
    "collapsed": false
   },
   "outputs": [
    {
     "data": {
      "text/plain": [
       "[u'http://www.hprc.org.cn/wxzl/wxysl/lczf/d12qgrdzfbg/201603/t20160318_369509.html',\n",
       " u'http://www.hprc.org.cn/wxzl/wxysl/lczf/d12qgrdzfbg/201503/t20150318_319434.html',\n",
       " u'http://www.hprc.org.cn/wxzl/wxysl/lczf/d12qgrdzfbg/201403/t20140315_270863.html',\n",
       " u'http://www.hprc.org.cn/wxzl/wxysl/lczf/d12qgrdzfbg/201402/t20140214_266528.html',\n",
       " u'http://www.hprc.org.cn/wxzl/wxysl/lczf/dishiyijie/201402/t20140214_266527.html',\n",
       " u'http://www.hprc.org.cn/wxzl/wxysl/lczf/dishiyijie/201103/t20110315_153641.html',\n",
       " u'http://www.hprc.org.cn/wxzl/wxysl/lczf/dishiyijie/201003/t20100315_44772.html',\n",
       " u'http://www.hprc.org.cn/wxzl/wxysl/lczf/dishiyijie/200908/t20090817_27504.html',\n",
       " u'http://www.hprc.org.cn/wxzl/wxysl/lczf/dishiyijie/200908/t20090817_27495.html',\n",
       " u'http://www.hprc.org.cn/wxzl/wxysl/lczf/dishiyijie_1/200908/t20090818_27775.html',\n",
       " u'http://www.hprc.org.cn/wxzl/wxysl/lczf/dishiyijie_1/200908/t20090818_27765.html',\n",
       " u'http://www.hprc.org.cn/wxzl/wxysl/lczf/dishiyijie_1/200908/t20090818_27757.html',\n",
       " u'http://www.hprc.org.cn/wxzl/wxysl/lczf/dishiyijie_1/200908/t20090818_27756.html',\n",
       " u'http://www.hprc.org.cn/wxzl/wxysl/lczf/dishiyijie_1/200908/t20090818_27753.html',\n",
       " u'http://www.hprc.org.cn/wxzl/wxysl/lczf/dishiyijie_2/200908/t20090818_27744.html',\n",
       " u'http://www.hprc.org.cn/wxzl/wxysl/lczf/dishiyijie_2/200908/t20090818_27741.html',\n",
       " u'http://www.hprc.org.cn/wxzl/wxysl/lczf/dishiyijie_2/200908/t20090818_27738.html',\n",
       " u'http://www.hprc.org.cn/wxzl/wxysl/lczf/dishiyijie_2/200908/t20090818_27737.html',\n",
       " u'http://www.hprc.org.cn/wxzl/wxysl/lczf/dishiyijie_2/200908/t20090818_27736.html',\n",
       " u'http://www.hprc.org.cn/wxzl/wxysl/lczf/dishiyijie_3/200908/t20090818_27709.html',\n",
       " u'http://www.hprc.org.cn/wxzl/wxysl/lczf/dishiyijie_3/200908/t20090818_27708.html',\n",
       " u'http://www.hprc.org.cn/wxzl/wxysl/lczf/dishiyijie_3/200908/t20090818_27707.html',\n",
       " u'http://www.hprc.org.cn/wxzl/wxysl/lczf/dishiyijie_3/200908/t20090818_27706.html',\n",
       " u'http://www.hprc.org.cn/wxzl/wxysl/lczf/dishiyijie_3/200908/t20090818_27705.html',\n",
       " u'http://www.hprc.org.cn/wxzl/wxysl/lczf/dishiyijie_4/200908/t20090818_27702.html',\n",
       " u'http://www.hprc.org.cn/wxzl/wxysl/lczf/dishiyijie_4/200908/t20090818_27700.html',\n",
       " u'http://www.hprc.org.cn/wxzl/wxysl/lczf/dishiyijie_4/200908/t20090818_27699.html',\n",
       " u'http://www.hprc.org.cn/wxzl/wxysl/lczf/dishiyijie_4/200908/t20090818_27678.html',\n",
       " u'http://www.hprc.org.cn/wxzl/wxysl/lczf/dishiyijie_4/200908/t20090818_27644.html',\n",
       " u'http://www.hprc.org.cn/wxzl/wxysl/lczf/dishiyijie_5/200908/t20090818_27642.html',\n",
       " u'http://www.hprc.org.cn/wxzl/wxysl/lczf/dishiyijie_5/200908/t20090818_27640.html',\n",
       " u'http://www.hprc.org.cn/wxzl/wxysl/lczf/dishiyijie_5/200908/t20090818_27616.html',\n",
       " u'http://www.hprc.org.cn/wxzl/wxysl/lczf/dishiyijie_5/200908/t20090818_27615.html',\n",
       " u'http://www.hprc.org.cn/wxzl/wxysl/lczf/dishiyijie_5/200908/t20090818_27614.html',\n",
       " u'http://www.hprc.org.cn/wxzl/wxysl/lczf/dishiyijie_6/200908/t20090818_27613.html',\n",
       " u'http://www.hprc.org.cn/wxzl/wxysl/lczf/dishiyijie_6/200908/t20090818_27612.html',\n",
       " u'http://www.hprc.org.cn/wxzl/wxysl/lczf/dishiyijie_6/200908/t20090818_27611.html',\n",
       " u'http://www.hprc.org.cn/wxzl/wxysl/lczf/dishiyijie_6/200908/t20090818_27567.html',\n",
       " u'http://www.hprc.org.cn/wxzl/wxysl/lczf/dishiyijie_6/200908/t20090818_27566.html',\n",
       " u'http://www.hprc.org.cn/wxzl/wxysl/lczf/dishiyijie_7/200908/t20090818_27565.html',\n",
       " u'http://www.hprc.org.cn/wxzl/wxysl/lczf/dishiyijie_8/200908/t20090818_27564.html',\n",
       " u'http://www.hprc.org.cn/wxzl/wxysl/lczf/dishiyijie_9/200908/t20090818_27562.html',\n",
       " u'http://www.hprc.org.cn/wxzl/wxysl/lczf/dishiyijie_9/200908/t20090818_27563.html',\n",
       " u'http://www.hprc.org.cn/wxzl/wxysl/lczf/dishiyijie_10/200908/t20090818_27561.html',\n",
       " u'http://www.hprc.org.cn/wxzl/wxysl/lczf/dishiyijie_10/200908/t20090818_27560.html',\n",
       " u'http://www.hprc.org.cn/wxzl/wxysl/lczf/dishiyijie_10/200908/t20090818_27559.html',\n",
       " u'http://www.hprc.org.cn/wxzl/wxysl/lczf/dishiyijie_10/200908/t20090818_27558.html']"
      ]
     },
     "execution_count": 8,
     "metadata": {},
     "output_type": "execute_result"
    }
   ],
   "source": [
    "hyperlinks"
   ]
  },
  {
   "cell_type": "code",
   "execution_count": 9,
   "metadata": {
    "collapsed": true
   },
   "outputs": [],
   "source": [
    "scripts = soup.select"
   ]
  },
  {
   "cell_type": "code",
   "execution_count": 10,
   "metadata": {
    "collapsed": false
   },
   "outputs": [
    {
     "data": {
      "text/plain": [
       "<bound method BeautifulSoup.select of <!DOCTYPE html PUBLIC \"-//W3C//DTD XHTML 1.0 Transitional//EN\" \"http://www.w3.org/TR/xhtml1/DTD/xhtml1-transitional.dtd\">\\n\\n<html xmlns=\"http://www.w3.org/1999/xhtml\">\\n<head>\\n<meta content=\"text/html; charset=unicode-escape\" http-equiv=\"Content-Type\"/>\\n<link href=\"/images/renmindaibiao.css\" rel=\"stylesheet\" type=\"text/css\">\\n<title>\\u5386\\u6b21\\u653f\\u5e9c\\u5de5\\u4f5c\\u62a5\\u544a_\\u56fd\\u53f2\\u7f51</title>\\n<style type=\"text/css\">\\n<!--\\nbody {\\n\\tmargin-left: 0px;\\n\\tmargin-top: 0px;\\n\\tmargin-right: 0px;\\n\\tmargin-bottom: 0px;\\n\\tbackground-color: #CECECE;\\n}\\n.bl a{ color:#000000; font-size:14px; text-decoration:none;}\\n-->\\n</style></link></head>\\n<body>\\n<style type=\"text/css\">\\nimg{border:0;}\\n.lsjt_nav td{color:#446512;}\\n.lsjt_nav td a{color:#446512;font-size:12px;font-weight:500;}\\na{text-decoration:none;}\\n.wxzxwords{\\n font-size:12px;\\nfont-weight:bold;\\ncolor:#FFFFFF;\\n}\\n.wxzxwords a{\\n font-size:12px;\\nfont-weight:bold;\\ncolor:#FFFFFF;\\ntext-decoration:none;\\n}\\n</style>\\n<table align=\"center\" border=\"0\" cellpadding=\"0\" cellspacing=\"0\" width=\"956\">\\n<tr>\\n<td>\\n<table background=\"/images/0106wxzx.jpg\" border=\"0\" cellpadding=\"0\" cellspacing=\"0\" height=\"214\" width=\"956\">\\n<tr>\\n<td height=\"37\" width=\"772\"></td>\\n<td align=\"left\" class=\"wxzxwords\" style=\"padding-top:8px;\" width=\"184\"><a href=\"http://www.hprc.org.cn\" target=\"_blank\">\\u56fd\\u53f2\\u7f51\\u9996\\u9875</a>\\xa0\\xa0|\\xa0\\xa0<a href=\"http://www.hprc.org.cn/gsgl/wzdt/\" target=\"_blank\">\\u7f51\\u7ad9\\u5730\\u56fe</a></td>\\n</tr>\\n<tr>\\n<td colspan=\"2\" height=\"177\">\\xa0</td>\\n</tr>\\n</table></td>\\n</tr>\\n<tr>\\n<td><table background=\"../../../images/tbtj_navbg1.gif\" border=\"0\" class=\"lsjt_nav\" height=\"32\" width=\"100%\">\\n<tr>\\n<td align=\"center\" width=\"9%\"><img height=\"15\" src=\"../../../images/tbtj_wxzx.jpg\" width=\"60\"/></td>\\n<td align=\"center\" width=\"7%\"><a href=\"/wxzl/tbtj/\">\\u7279\\u522b\\u63a8\\u8350</a></td>\\n<td align=\"center\" width=\"1%\">|</td>\\n<td align=\"center\" width=\"6%\"><a href=\"#\">\\u6587\\u732e\\u53f2\\u6599</a></td>\\n<td align=\"center\" width=\"1%\"> |</td>\\n<td align=\"center\" width=\"7%\"><a href=\"/wxzl/tjzl/qgndtj/\">\\u7edf\\u8ba1\\u8d44\\u6599</a></td>\\n<td align=\"center\" width=\"1%\">|</td>\\n<td align=\"center\" width=\"8%\"><a href=\"/wxzl/zfbps/\">\\u653f\\u5e9c\\u767d\\u76ae\\u4e66</a></td>\\n<td align=\"center\" width=\"1%\"> |</td>\\n<td align=\"center\" width=\"7%\"><a href=\"/wxzl/hyljkssl/\">\\u53e3\\u8ff0\\u53f2\\u6599</a></td>\\n<td align=\"center\" width=\"1%\">|</td>\\n<td align=\"center\" width=\"6%\"><a href=\"/wxzl/gsts/\">\\u56fd\\u53f2\\u56fe\\u4e66</a></td>\\n<td align=\"center\" width=\"1%\">|</td>\\n<td align=\"center\" width=\"7%\"><a href=\"/wxzl/zlzn/\">\\u6863\\u6848\\u6307\\u5357</a></td>\\n<td align=\"center\" width=\"1%\">|</td>\\n<td align=\"center\" width=\"6%\"><a href=\"/wxzl/slzj/200906/t20090626_11401.html\">\\u53f2\\u6599\\u5f81\\u96c6</a></td>\\n<td align=\"center\" width=\"1%\"></td>\\n<td align=\"center\" width=\"7%\"></td>\\n<td align=\"center\" width=\"1%\"></td>\\n<td align=\"center\" width=\"6%\"></td>\\n<td align=\"center\" width=\"1%\"></td>\\n<td align=\"center\" width=\"6%\"></td>\\n<td align=\"center\" width=\"8%\">\\xa0</td>\\n</tr>\\n</table></td>\\n</tr>\\n</table>\\n<table align=\"center\" background=\"/images/daibiao2.jpg\" border=\"0\" cellpadding=\"0\" cellspacing=\"0\" class=\"renda_zi2\" height=\"29\" width=\"956\">\\n<tr>\\n<td align=\"right\" width=\"119\"><strong>\\u60a8\\u6240\\u5728\\u7684\\u4f4d\\u7f6e\\uff1a</strong></td>\\n<td width=\"837\"><a href=\"/\">\\u9996\\u9875</a> &gt;&gt; \\u5386\\u6b21\\u653f\\u5e9c\\u5de5\\u4f5c\\u62a5\\u544a</td>\\n</tr>\\n</table>\\n<table align=\"center\" bgcolor=\"#E3E9DF\" border=\"0\" height=\"1585\" width=\"956\">\\n<tr>\\n<td valign=\"top\" width=\"273\">\\n<table bgcolor=\"#EAF4E9\" border=\"0\" cellpadding=\"0\" cellspacing=\"0\" class=\"renda_table1\" height=\"381\" style=\"margin-top:10px; margin-left:10px;\" width=\"261\">\\n<tr>\\n<td align=\"center\" bgcolor=\"#B8D1B3\" height=\"32\"><img src=\"/images/lijie1.jpg\"/></td>\\n</tr>\\n<tr>\\n<td height=\"320\"><table border=\"0\" class=\"renda_zi3\" height=\"329\" style=\"margin-left:5px;\" width=\"251\">\\n<tr>\\n<td><a href=\"#se\" target=\"_blank\">\\xb7\\u7b2c\\u5341\\u4e8c\\u5c4a\\u5168\\u56fd\\u4eba\\u6c11\\u4ee3\\u8868\\u5927\\u4f1a</a></td>\\n<tr>\\n<td><a href=\"#sy\" target=\"_blank\">\\xb7\\u7b2c\\u5341\\u4e00\\u5c4a\\u5168\\u56fd\\u4eba\\u6c11\\u4ee3\\u8868\\u5927\\u4f1a</a></td>\\n</tr>\\n<tr>\\n<td><a href=\"#s\" target=\"_blank\">\\xb7\\u7b2c\\u5341\\u5c4a\\u5168\\u56fd\\u4eba\\u6c11\\u4ee3\\u8868\\u5927\\u4f1a</a></td>\\n</tr>\\n<tr>\\n<td><a href=\"#j\" target=\"_blank\">\\xb7\\u7b2c\\u4e5d\\u5c4a\\u5168\\u56fd\\u4eba\\u6c11\\u4ee3\\u8868\\u5927\\u4f1a</a></td>\\n</tr>\\n<tr>\\n<td><a href=\"#b\" target=\"_blank\">\\xb7\\u7b2c\\u516b\\u5c4a\\u5168\\u56fd\\u4eba\\u6c11\\u4ee3\\u8868\\u5927\\u4f1a</a></td>\\n</tr>\\n<tr>\\n<td><a href=\"#q\" target=\"_blank\">\\xb7\\u7b2c\\u4e03\\u5c4a\\u5168\\u56fd\\u4eba\\u6c11\\u4ee3\\u8868\\u5927\\u4f1a</a></td>\\n</tr>\\n<tr>\\n<td><a href=\"#l\" target=\"_blank\">\\xb7\\u7b2c\\u516d\\u5c4a\\u5168\\u56fd\\u4eba\\u6c11\\u4ee3\\u8868\\u5927\\u4f1a</a></td>\\n</tr>\\n<tr>\\n<td><a href=\"#w\" target=\"_blank\">\\xb7\\u7b2c\\u4e94\\u5c4a\\u5168\\u56fd\\u4eba\\u6c11\\u4ee3\\u8868\\u5927\\u4f1a</a></td>\\n</tr>\\n<tr>\\n<td><a href=\"#si\" target=\"_blank\">\\xb7\\u7b2c\\u56db\\u5c4a\\u5168\\u56fd\\u4eba\\u6c11\\u4ee3\\u8868\\u5927\\u4f1a</a></td>\\n</tr>\\n<tr>\\n<td><a href=\"#san\" target=\"_blank\">\\xb7\\u7b2c\\u4e09\\u5c4a\\u5168\\u56fd\\u4eba\\u6c11\\u4ee3\\u8868\\u5927\\u4f1a</a></td>\\n</tr>\\n<tr>\\n<td><a href=\"#er\" target=\"_blank\">\\xb7\\u7b2c\\u4e8c\\u5c4a\\u5168\\u56fd\\u4eba\\u6c11\\u4ee3\\u8868\\u5927\\u4f1a</a></td>\\n</tr>\\n<tr>\\n<td><a href=\"#yi\" target=\"_blank\">\\xb7\\u7b2c\\u4e00\\u5c4a\\u5168\\u56fd\\u4eba\\u6c11\\u4ee3\\u8868\\u5927\\u4f1a</a></td>\\n</tr>\\n</tr></table></td>\\n</tr>\\n</table></td>\\n<td valign=\"top\" width=\"654\"><table bgcolor=\"#EEF6E9\" border=\"0\" height=\"1123\" style=\"margin-top:10px;\" width=\"648\">\\n<tr>\\n<td valign=\"top\"><table border=\"0\" cellpadding=\"0\" cellspacing=\"0\" height=\"23\" style=\"margin-top:30px; margin-left:160px;\" width=\"303\">\\n<tr>\\n<td id=\"#se\"><img src=\"/images/12jrdh.jpg\"/></td>\\n</tr>\\n</table>\\n<table border=\"0\" cellpadding=\"0\" cellspacing=\"0\" style=\"margin-left:10px; margin-top:10px;\" width=\"622\">\\n<tr>\\n<td><img src=\"/images/daibiaoshang1.jpg\"/></td>\\n</tr>\\n<tr>\\n<td bgcolor=\"#FFFFFF\" class=\"renda_zi4\" style=\"padding-left:30px;\"><table border=\"0\" width=\"538\">\\n<tr>\\n<td class=\"bl\" width=\"274\">\\xb7\\xa0<a href=\"./d12qgrdzfbg/201603/t20160318_369509.html\" target=\"_blank\" title=\"2016\\u5e74\\u653f\\u5e9c\\u5de5\\u4f5c\\u62a5\\u544a\">2016\\u5e74\\u653f\\u5e9c\\u5de5\\u4f5c\\u62a5\\u544a</a></td>\\n<td width=\"82\"></td>\\n<td width=\"168\">2016/03/18</td>\\n</tr>\\n<tr>\\n<td class=\"bl\" width=\"274\">\\xb7\\xa0<a href=\"./d12qgrdzfbg/201503/t20150318_319434.html\" target=\"_blank\" title=\"2015\\u5e74\\u653f\\u5e9c\\u5de5\\u4f5c\\u62a5\\u544a\">2015\\u5e74\\u653f\\u5e9c\\u5de5\\u4f5c\\u62a5\\u544a</a></td>\\n<td width=\"82\"></td>\\n<td width=\"168\">2015/03/16</td>\\n</tr>\\n<tr>\\n<td class=\"bl\" width=\"274\">\\xb7\\xa0<a href=\"./d12qgrdzfbg/201403/t20140315_270863.html\" target=\"_blank\" title=\"2014\\u5e74\\u653f\\u5e9c\\u5de5\\u4f5c\\u62a5\\u544a\">2014\\u5e74\\u653f\\u5e9c\\u5de5\\u4f5c\\u62a5\\u544a</a></td>\\n<td width=\"82\"></td>\\n<td width=\"168\">2014/03/15</td>\\n</tr>\\n<tr>\\n<td class=\"bl\" width=\"274\">\\xb7\\xa0<a href=\"./d12qgrdzfbg/201402/t20140214_266528.html\" target=\"_blank\" title=\"2013\\u5e74\\u653f\\u5e9c\\u5de5\\u4f5c\\u62a5\\u544a\">2013\\u5e74\\u653f\\u5e9c\\u5de5\\u4f5c\\u62a5\\u544a</a></td>\\n<td width=\"82\"></td>\\n<td width=\"168\">2014/02/14</td>\\n</tr>\\n</table></td>\\n</tr>\\n<tr>\\n<td><img src=\"/images/daibiaoxia1.jpg\"/></td>\\n</tr>\\n</table>\\n<table border=\"0\" cellpadding=\"0\" cellspacing=\"0\" height=\"23\" style=\"margin-top:30px; margin-left:160px;\" width=\"303\">\\n<tr>\\n<td id=\"#sy\"><img src=\"/images/renda1.jpg\"/></td>\\n</tr>\\n</table>\\n<table border=\"0\" cellpadding=\"0\" cellspacing=\"0\" style=\"margin-left:10px; margin-top:10px;\" width=\"622\">\\n<tr>\\n<td><img src=\"/images/daibiaoshang1.jpg\"/></td>\\n</tr>\\n<tr>\\n<td bgcolor=\"#FFFFFF\" class=\"renda_zi4\" style=\"padding-left:30px;\"><table border=\"0\" width=\"538\">\\n<tr>\\n<td class=\"bl\" width=\"274\">\\xb7\\xa0<a href=\"./dishiyijie/201402/t20140214_266527.html\" target=\"_blank\" title=\"2012\\u5e74\\u653f\\u5e9c\\u5de5\\u4f5c\\u62a5\\u544a\">2012\\u5e74\\u653f\\u5e9c\\u5de5\\u4f5c\\u62a5\\u544a</a></td>\\n<td width=\"82\"></td>\\n<td width=\"168\">2014/02/14</td>\\n</tr>\\n<tr>\\n<td class=\"bl\" width=\"274\">\\xb7\\xa0<a href=\"./dishiyijie/201103/t20110315_153641.html\" target=\"_blank\" title=\"2011\\u5e74\\u653f\\u5e9c\\u5de5\\u4f5c\\u62a5\\u544a\">2011\\u5e74\\u653f\\u5e9c\\u5de5\\u4f5c\\u62a5\\u544a</a></td>\\n<td width=\"82\">\\u6e29\\u5bb6\\u5b9d</td>\\n<td width=\"168\">2011/03/15</td>\\n</tr>\\n<tr>\\n<td class=\"bl\" width=\"274\">\\xb7\\xa0<a href=\"./dishiyijie/201003/t20100315_44772.html\" target=\"_blank\" title=\"2010\\u5e74\\u653f\\u5e9c\\u5de5\\u4f5c\\u62a5\\u544a\">2010\\u5e74\\u653f\\u5e9c\\u5de5\\u4f5c\\u62a5\\u544a</a></td>\\n<td width=\"82\">\\u6e29\\u5bb6\\u5b9d</td>\\n<td width=\"168\">2010/03/15</td>\\n</tr>\\n<tr>\\n<td class=\"bl\" width=\"274\">\\xb7\\xa0<a href=\"./dishiyijie/200908/t20090817_27504.html\" target=\"_blank\" title=\"2009\\u5e74\\u653f\\u5e9c\\u5de5\\u4f5c\\u62a5\\u544a\">2009\\u5e74\\u653f\\u5e9c\\u5de5\\u4f5c\\u62a5\\u544a</a></td>\\n<td width=\"82\">\\u6e29\\u5bb6\\u5b9d</td>\\n<td width=\"168\">2009/03/05</td>\\n</tr>\\n<tr>\\n<td class=\"bl\" width=\"274\">\\xb7\\xa0<a href=\"./dishiyijie/200908/t20090817_27495.html\" target=\"_blank\" title=\"2008\\u5e74\\u653f\\u5e9c\\u5de5\\u4f5c\\u62a5\\u544a\">2008\\u5e74\\u653f\\u5e9c\\u5de5\\u4f5c\\u62a5\\u544a</a></td>\\n<td width=\"82\">\\u6e29\\u5bb6\\u5b9d</td>\\n<td width=\"168\">2008/03/05</td>\\n</tr>\\n</table></td>\\n</tr>\\n<tr>\\n<td><img src=\"/images/daibiaoxia1.jpg\"/></td>\\n</tr>\\n</table>\\n<table border=\"0\" cellpadding=\"0\" cellspacing=\"0\" height=\"24\" style=\"margin-left:160px; margin-top:15px;\" width=\"303\">\\n<tr>\\n<td id=\"#s\"><img src=\"/images/renda3.jpg\"/></td>\\n</tr>\\n</table>\\n<table border=\"0\" cellpadding=\"0\" cellspacing=\"0\" style=\"margin-left:10px; margin-top:10px;\" width=\"622\">\\n<tr>\\n<td><img src=\"/images/daibiaoshang1.jpg\"/></td>\\n</tr>\\n<tr>\\n<td bgcolor=\"#FFFFFF\" class=\"renda_zi4\" style=\"padding-left:30px;\"><table border=\"0\" width=\"538\">\\n<tr>\\n<td class=\"bl\" width=\"274\">\\xb7\\xa0\\n                          <a href=\"./dishiyijie_1/200908/t20090818_27775.html\" target=\"_blank\" title=\"2007\\u653f\\u5e9c\\u5de5\\u4f5c\\u62a5\\u544a\">2007\\u653f\\u5e9c\\u5de5\\u4f5c\\u62a5\\u544a</a></td>\\n<td width=\"82\">\\u6e29\\u5bb6\\u5b9d</td>\\n<td width=\"168\">2007/03/05</td>\\n</tr>\\n<tr>\\n<td class=\"bl\" width=\"274\">\\xb7\\xa0\\n                          <a href=\"./dishiyijie_1/200908/t20090818_27765.html\" target=\"_blank\" title=\"2006\\u5e74\\u653f\\u5e9c\\u5de5\\u4f5c\\u62a5\\u544a\">2006\\u5e74\\u653f\\u5e9c\\u5de5\\u4f5c\\u62a5\\u544a</a></td>\\n<td width=\"82\">\\u6e29\\u5bb6\\u5b9d</td>\\n<td width=\"168\">2006/03/05</td>\\n</tr>\\n<tr>\\n<td class=\"bl\" width=\"274\">\\xb7\\xa0\\n                          <a href=\"./dishiyijie_1/200908/t20090818_27757.html\" target=\"_blank\" title=\"2005\\u5e74\\u653f\\u5e9c\\u5de5\\u4f5c\\u62a5\\u544a\">2005\\u5e74\\u653f\\u5e9c\\u5de5\\u4f5c\\u62a5\\u544a</a></td>\\n<td width=\"82\">\\u6e29\\u5bb6\\u5b9d</td>\\n<td width=\"168\">2005/03/05</td>\\n</tr>\\n<tr>\\n<td class=\"bl\" width=\"274\">\\xb7\\xa0\\n                          <a href=\"./dishiyijie_1/200908/t20090818_27756.html\" target=\"_blank\" title=\"2004\\u5e74\\u653f\\u5e9c\\u5de5\\u4f5c\\u62a5\\u544a\">2004\\u5e74\\u653f\\u5e9c\\u5de5\\u4f5c\\u62a5\\u544a</a></td>\\n<td width=\"82\">\\u6e29\\u5bb6\\u5b9d</td>\\n<td width=\"168\">2004/03/05</td>\\n</tr>\\n<tr>\\n<td class=\"bl\" width=\"274\">\\xb7\\xa0\\n                          <a href=\"./dishiyijie_1/200908/t20090818_27753.html\" target=\"_blank\" title=\"2003\\u5e74\\u653f\\u5e9c\\u5de5\\u4f5c\\u62a5\\u544a\">2003\\u5e74\\u653f\\u5e9c\\u5de5\\u4f5c\\u62a5\\u544a</a></td>\\n<td width=\"82\">\\u6731\\u9555\\u57fa</td>\\n<td width=\"168\">2003/03/05</td>\\n</tr>\\n</table></td>\\n</tr>\\n<tr>\\n<td><img src=\"/images/daibiaoxia1.jpg\"/></td>\\n</tr>\\n</table>\\n<table border=\"0\" cellpadding=\"0\" cellspacing=\"0\" height=\"25\" style=\"margin-left:160px; margin-top:15px;\" width=\"303\">\\n<tr>\\n<td id=\"#j\"><img src=\"/images/renda4.jpg\"/></td>\\n</tr>\\n</table>\\n<table border=\"0\" cellpadding=\"0\" cellspacing=\"0\" style=\"margin-left:10px; margin-top:10px;\" width=\"622\">\\n<tr>\\n<td><img src=\"/images/daibiaoshang1.jpg\"/></td>\\n</tr>\\n<tr>\\n<td bgcolor=\"#FFFFFF\" class=\"renda_zi4\" style=\"padding-left:30px;\"><table border=\"0\" width=\"538\">\\n<tr>\\n<td class=\"bl\" width=\"274\">\\xb7\\xa0\\n                          <a href=\"./dishiyijie_2/200908/t20090818_27744.html\" target=\"_blank\" title=\"2002\\u5e74\\u653f\\u5e9c\\u5de5\\u4f5c\\u62a5\\u544a\\u3000\\u3000\">2002\\u5e74\\u653f\\u5e9c\\u5de5\\u4f5c\\u62a5\\u544a\\u3000\\u3000</a></td>\\n<td width=\"82\">\\u6731\\u9555\\u57fa</td>\\n<td width=\"168\">2002/03/05</td>\\n</tr>\\n<tr>\\n<td class=\"bl\" width=\"274\">\\xb7\\xa0\\n                          <a href=\"./dishiyijie_2/200908/t20090818_27741.html\" target=\"_blank\" title=\"2001\\u5e74\\u653f\\u5e9c\\u5de5\\u4f5c\\u62a5\\u544a\">2001\\u5e74\\u653f\\u5e9c\\u5de5\\u4f5c\\u62a5\\u544a</a></td>\\n<td width=\"82\">\\u6731\\u9555\\u57fa</td>\\n<td width=\"168\">2001/03/05</td>\\n</tr>\\n<tr>\\n<td class=\"bl\" width=\"274\">\\xb7\\xa0\\n                          <a href=\"./dishiyijie_2/200908/t20090818_27738.html\" target=\"_blank\" title=\"2000\\u5e74\\u653f\\u5e9c\\u5de5\\u4f5c\\u62a5\\u544a\">2000\\u5e74\\u653f\\u5e9c\\u5de5\\u4f5c\\u62a5\\u544a</a></td>\\n<td width=\"82\">\\u6731\\u9555\\u57fa</td>\\n<td width=\"168\">2000/03/05</td>\\n</tr>\\n<tr>\\n<td class=\"bl\" width=\"274\">\\xb7\\xa0\\n                          <a href=\"./dishiyijie_2/200908/t20090818_27737.html\" target=\"_blank\" title=\"1999\\u5e74\\u653f\\u5e9c\\u5de5\\u4f5c\\u62a5\\u544a\">1999\\u5e74\\u653f\\u5e9c\\u5de5\\u4f5c\\u62a5\\u544a</a></td>\\n<td width=\"82\">\\u6731\\u9555\\u57fa</td>\\n<td width=\"168\">1999/03/05</td>\\n</tr>\\n<tr>\\n<td class=\"bl\" width=\"274\">\\xb7\\xa0\\n                          <a href=\"./dishiyijie_2/200908/t20090818_27736.html\" target=\"_blank\" title=\"1998\\u5e74\\u653f\\u5e9c\\u5de5\\u4f5c\\u62a5\\u544a\\u3000\">1998\\u5e74\\u653f\\u5e9c\\u5de5\\u4f5c\\u62a5\\u544a\\u3000</a></td>\\n<td width=\"82\">\\u674e\\u9e4f</td>\\n<td width=\"168\">1998/03/05</td>\\n</tr>\\n</table></td>\\n</tr>\\n<tr>\\n<td><img src=\"/images/daibiaoxia1.jpg\"/></td>\\n</tr>\\n</table>\\n<table border=\"0\" cellpadding=\"0\" cellspacing=\"0\" height=\"26\" style=\"margin-left:160px; margin-top:15px;\" width=\"303\">\\n<tr>\\n<td id=\"#b\"><img src=\"/images/renda5.jpg\"/></td>\\n</tr>\\n</table>\\n<table border=\"0\" cellpadding=\"0\" cellspacing=\"0\" style=\"margin-left:10px; margin-top:10px;\" width=\"622\">\\n<tr>\\n<td><img src=\"/images/daibiaoshang1.jpg\"/></td>\\n</tr>\\n<tr>\\n<td bgcolor=\"#FFFFFF\" class=\"renda_zi4\" style=\"padding-left:30px;\"><table border=\"0\" width=\"538\">\\n<tr>\\n<td class=\"bl\" width=\"274\">\\xb7\\xa0\\n                          <a href=\"./dishiyijie_3/200908/t20090818_27709.html\" target=\"_blank\" title=\"1997\\u5e74\\u653f\\u5e9c\\u5de5\\u4f5c\\u62a5\\u544a\">1997\\u5e74\\u653f\\u5e9c\\u5de5\\u4f5c\\u62a5\\u544a</a></td>\\n<td width=\"82\">\\u674e\\u9e4f</td>\\n<td width=\"168\">1997/03/01</td>\\n</tr>\\n<tr>\\n<td class=\"bl\" width=\"274\">\\xb7\\xa0\\n                          <a href=\"./dishiyijie_3/200908/t20090818_27708.html\" target=\"_blank\" title=\"1996\\u5e74\\u653f\\u5e9c\\u5de5\\u4f5c\\u62a5\\u544a\">1996\\u5e74\\u653f\\u5e9c\\u5de5\\u4f5c\\u62a5\\u544a</a></td>\\n<td width=\"82\">\\u674e\\u9e4f</td>\\n<td width=\"168\">1996/03/05</td>\\n</tr>\\n<tr>\\n<td class=\"bl\" width=\"274\">\\xb7\\xa0\\n                          <a href=\"./dishiyijie_3/200908/t20090818_27707.html\" target=\"_blank\" title=\"1995\\u5e74\\u653f\\u5e9c\\u5de5\\u4f5c\\u62a5\\u544a\">1995\\u5e74\\u653f\\u5e9c\\u5de5\\u4f5c\\u62a5\\u544a</a></td>\\n<td width=\"82\">\\u674e\\u9e4f</td>\\n<td width=\"168\">1995/03/05</td>\\n</tr>\\n<tr>\\n<td class=\"bl\" width=\"274\">\\xb7\\xa0\\n                          <a href=\"./dishiyijie_3/200908/t20090818_27706.html\" target=\"_blank\" title=\"1994\\u5e74\\u653f\\u5e9c\\u5de5\\u4f5c\\u62a5\\u544a\">1994\\u5e74\\u653f\\u5e9c\\u5de5\\u4f5c\\u62a5\\u544a</a></td>\\n<td width=\"82\">\\u674e\\u9e4f</td>\\n<td width=\"168\">1994/03/10</td>\\n</tr>\\n<tr>\\n<td class=\"bl\" width=\"274\">\\xb7\\xa0\\n                          <a href=\"./dishiyijie_3/200908/t20090818_27705.html\" target=\"_blank\" title=\"1993\\u5e74\\u653f\\u5e9c\\u5de5\\u4f5c\\u62a5\\u544a\">1993\\u5e74\\u653f\\u5e9c\\u5de5\\u4f5c\\u62a5\\u544a</a></td>\\n<td width=\"82\">\\u674e\\u9e4f</td>\\n<td width=\"168\">1993/03/15</td>\\n</tr>\\n</table></td>\\n</tr>\\n<tr>\\n<td><img src=\"/images/daibiaoxia1.jpg\"/></td>\\n</tr>\\n</table>\\n<table border=\"0\" cellpadding=\"0\" cellspacing=\"0\" height=\"26\" style=\"margin-left:160px; margin-top:15px;\" width=\"303\">\\n<tr>\\n<td id=\"#q\"><img src=\"/images/renda6.jpg\"/></td>\\n</tr>\\n</table>\\n<table border=\"0\" cellpadding=\"0\" cellspacing=\"0\" style=\"margin-left:10px; margin-top:10px;\" width=\"622\">\\n<tr>\\n<td><img src=\"/images/daibiaoshang1.jpg\"/></td>\\n</tr>\\n<tr>\\n<td bgcolor=\"#FFFFFF\" class=\"renda_zi4\" style=\"padding-left:30px;\"><table border=\"0\" width=\"538\">\\n<tr>\\n<td class=\"bl\" width=\"274\">\\xb7\\xa0\\n                          <a href=\"./dishiyijie_4/200908/t20090818_27702.html\" target=\"_blank\" title=\"1992\\u5e74\\u653f\\u5e9c\\u5de5\\u4f5c\\u62a5\\u544a\\u3000\\u3000\">1992\\u5e74\\u653f\\u5e9c\\u5de5\\u4f5c\\u62a5\\u544a\\u3000\\u3000</a></td>\\n<td width=\"82\">\\u674e\\u9e4f</td>\\n<td width=\"168\">1992/03/20</td>\\n</tr>\\n<tr>\\n<td class=\"bl\" width=\"274\">\\xb7\\xa0\\n                          <a href=\"./dishiyijie_4/200908/t20090818_27700.html\" target=\"_blank\" title=\"1991\\u5e74\\u653f\\u5e9c\\u5de5\\u4f5c\\u62a5\\u544a\">1991\\u5e74\\u653f\\u5e9c\\u5de5\\u4f5c\\u62a5\\u544a</a></td>\\n<td width=\"82\">\\u90b9\\u5bb6\\u534e</td>\\n<td width=\"168\">1991/03/26</td>\\n</tr>\\n<tr>\\n<td class=\"bl\" width=\"274\">\\xb7\\xa0\\n                          <a href=\"./dishiyijie_4/200908/t20090818_27699.html\" target=\"_blank\" title=\"1990\\u5e74\\u653f\\u5e9c\\u5de5\\u4f5c\\u62a5\\u544a\">1990\\u5e74\\u653f\\u5e9c\\u5de5\\u4f5c\\u62a5\\u544a</a></td>\\n<td width=\"82\">\\u674e\\u9e4f</td>\\n<td width=\"168\">1990/01/20</td>\\n</tr>\\n<tr>\\n<td class=\"bl\" width=\"274\">\\xb7\\xa0\\n                          <a href=\"./dishiyijie_4/200908/t20090818_27678.html\" target=\"_blank\" title=\"1989\\u5e74\\u653f\\u5e9c\\u5de5\\u4f5c\\u62a5\\u544a\">1989\\u5e74\\u653f\\u5e9c\\u5de5\\u4f5c\\u62a5\\u544a</a></td>\\n<td width=\"82\">\\u674e\\u9e4f</td>\\n<td width=\"168\">1989/03/20</td>\\n</tr>\\n<tr>\\n<td class=\"bl\" width=\"274\">\\xb7\\xa0\\n                          <a href=\"./dishiyijie_4/200908/t20090818_27644.html\" target=\"_blank\" title=\"1988\\u5e74\\u653f\\u5e9c\\u5de5\\u4f5c\\u62a5\\u544a\">1988\\u5e74\\u653f\\u5e9c\\u5de5\\u4f5c\\u62a5\\u544a</a></td>\\n<td width=\"82\">\\u674e\\u9e4f</td>\\n<td width=\"168\">1988/03/25</td>\\n</tr>\\n</table></td>\\n</tr>\\n<tr>\\n<td><img src=\"/images/daibiaoxia1.jpg\"/></td>\\n</tr>\\n</table>\\n<table border=\"0\" cellpadding=\"0\" cellspacing=\"0\" height=\"29\" style=\"margin-left:160px; margin-top:15px;\" width=\"303\">\\n<tr>\\n<td id=\"#l\"><img src=\"/images/renda7.jpg\"/></td>\\n</tr>\\n</table>\\n<table border=\"0\" cellpadding=\"0\" cellspacing=\"0\" style=\"margin-left:10px; margin-top:10px;\" width=\"622\">\\n<tr>\\n<td><img src=\"/images/daibiaoshang1.jpg\"/></td>\\n</tr>\\n<tr>\\n<td bgcolor=\"#FFFFFF\" class=\"renda_zi4\" style=\"padding-left:30px;\"><table border=\"0\" width=\"538\">\\n<tr>\\n<td class=\"bl\" width=\"274\">\\xb7\\xa0\\n                          <a href=\"./dishiyijie_5/200908/t20090818_27642.html\" target=\"_blank\" title=\"1987\\u5e74\\u653f\\u5e9c\\u5de5\\u4f5c\\u62a5\\u544a\">1987\\u5e74\\u653f\\u5e9c\\u5de5\\u4f5c\\u62a5\\u544a</a></td>\\n<td width=\"82\">\\u8d75\\u7d2b\\u9633</td>\\n<td width=\"168\">1987/03/25</td>\\n</tr>\\n<tr>\\n<td class=\"bl\" width=\"274\">\\xb7\\xa0\\n                          <a href=\"./dishiyijie_5/200908/t20090818_27640.html\" target=\"_blank\" title=\"1986\\u5e74\\u653f\\u5e9c\\u5de5\\u4f5c\\u62a5\\u544a\">1986\\u5e74\\u653f\\u5e9c\\u5de5\\u4f5c\\u62a5\\u544a</a></td>\\n<td width=\"82\">\\u8d75\\u7d2b\\u9633</td>\\n<td width=\"168\">1986/03/25</td>\\n</tr>\\n<tr>\\n<td class=\"bl\" width=\"274\">\\xb7\\xa0\\n                          <a href=\"./dishiyijie_5/200908/t20090818_27616.html\" target=\"_blank\" title=\"1985\\u5e74\\u653f\\u5e9c\\u5de5\\u4f5c\\u62a5\\u544a\">1985\\u5e74\\u653f\\u5e9c\\u5de5\\u4f5c\\u62a5\\u544a</a></td>\\n<td width=\"82\">\\u8d75\\u7d2b\\u9633</td>\\n<td width=\"168\">1985/03/27</td>\\n</tr>\\n<tr>\\n<td class=\"bl\" width=\"274\">\\xb7\\xa0\\n                          <a href=\"./dishiyijie_5/200908/t20090818_27615.html\" target=\"_blank\" title=\"1984\\u5e74\\u653f\\u5e9c\\u5de5\\u4f5c\\u62a5\\u544a\">1984\\u5e74\\u653f\\u5e9c\\u5de5\\u4f5c\\u62a5\\u544a</a></td>\\n<td width=\"82\">\\u8d75\\u7d2b\\u9633</td>\\n<td width=\"168\">1984/05/15</td>\\n</tr>\\n<tr>\\n<td class=\"bl\" width=\"274\">\\xb7\\xa0\\n                          <a href=\"./dishiyijie_5/200908/t20090818_27614.html\" target=\"_blank\" title=\"1983\\u5e74\\u653f\\u5e9c\\u5de5\\u4f5c\\u62a5\\u544a\">1983\\u5e74\\u653f\\u5e9c\\u5de5\\u4f5c\\u62a5\\u544a</a></td>\\n<td width=\"82\">\\u8d75\\u7d2b\\u9633</td>\\n<td width=\"168\">1983/06/06</td>\\n</tr>\\n</table></td>\\n</tr>\\n<tr>\\n<td><img src=\"/images/daibiaoxia1.jpg\"/></td>\\n</tr>\\n</table>\\n<table border=\"0\" cellpadding=\"0\" cellspacing=\"0\" height=\"25\" style=\"margin-left:160px; margin-top:15px;\" width=\"303\">\\n<tr>\\n<td id=\"#w\"><img src=\"/images/renda8.jpg\"/></td>\\n</tr>\\n</table>\\n<table border=\"0\" cellpadding=\"0\" cellspacing=\"0\" style=\"margin-left:10px; margin-top:10px;\" width=\"622\">\\n<tr>\\n<td><img src=\"/images/daibiaoshang1.jpg\"/></td>\\n</tr>\\n<tr>\\n<td bgcolor=\"#FFFFFF\" class=\"renda_zi4\" style=\"padding-left:30px;\"><table border=\"0\" width=\"538\">\\n<tr>\\n<td class=\"bl\" width=\"274\">\\xb7\\xa0\\n                          <a href=\"./dishiyijie_6/200908/t20090818_27613.html\" target=\"_blank\" title=\"1982\\u5e74\\u653f\\u5e9c\\u5de5\\u4f5c\\u62a5\\u544a\">1982\\u5e74\\u653f\\u5e9c\\u5de5\\u4f5c\\u62a5\\u544a</a></td>\\n<td width=\"82\">\\u8d75\\u7d2b\\u9633</td>\\n<td width=\"168\">1982/11/30</td>\\n</tr>\\n<tr>\\n<td class=\"bl\" width=\"274\">\\xb7\\xa0\\n                          <a href=\"./dishiyijie_6/200908/t20090818_27612.html\" target=\"_blank\" title=\"1981\\u5e74\\u653f\\u5e9c\\u5de5\\u4f5c\\u62a5\\u544a\">1981\\u5e74\\u653f\\u5e9c\\u5de5\\u4f5c\\u62a5\\u544a</a></td>\\n<td width=\"82\">\\u8d75\\u7d2b\\u9633</td>\\n<td width=\"168\">1981/11/30</td>\\n</tr>\\n<tr>\\n<td class=\"bl\" width=\"274\">\\xb7\\xa0\\n                          <a href=\"./dishiyijie_6/200908/t20090818_27611.html\" target=\"_blank\" title=\"1980\\u5e74\\u653f\\u5e9c\\u5de5\\u4f5c\\u62a5\\u544a\">1980\\u5e74\\u653f\\u5e9c\\u5de5\\u4f5c\\u62a5\\u544a</a></td>\\n<td width=\"82\">\\u59da\\u4f9d\\u6797</td>\\n<td width=\"168\">1980/08/30</td>\\n</tr>\\n<tr>\\n<td class=\"bl\" width=\"274\">\\xb7\\xa0\\n                          <a href=\"./dishiyijie_6/200908/t20090818_27567.html\" target=\"_blank\" title=\"1979\\u5e74\\u653f\\u5e9c\\u5de5\\u4f5c\\u62a5\\u544a\">1979\\u5e74\\u653f\\u5e9c\\u5de5\\u4f5c\\u62a5\\u544a</a></td>\\n<td width=\"82\">\\u534e\\u56fd\\u950b</td>\\n<td width=\"168\">1979/06/18</td>\\n</tr>\\n<tr>\\n<td class=\"bl\" width=\"274\">\\xb7\\xa0\\n                          <a href=\"./dishiyijie_6/200908/t20090818_27566.html\" target=\"_blank\" title=\"1978\\u5e74\\u653f\\u5e9c\\u5de5\\u4f5c\\u62a5\\u544a\">1978\\u5e74\\u653f\\u5e9c\\u5de5\\u4f5c\\u62a5\\u544a</a></td>\\n<td width=\"82\">\\u534e\\u56fd\\u950b</td>\\n<td width=\"168\">1978/02/26</td>\\n</tr>\\n</table></td>\\n</tr>\\n<tr>\\n<td><img src=\"/images/daibiaoxia1.jpg\"/></td>\\n</tr>\\n</table>\\n<table border=\"0\" cellpadding=\"0\" cellspacing=\"0\" height=\"25\" style=\"margin-left:160px; margin-top:15px;\" width=\"303\">\\n<tr>\\n<td id=\"#si\"><img src=\"/images/renda9.jpg\"/></td>\\n</tr>\\n</table>\\n<table border=\"0\" cellpadding=\"0\" cellspacing=\"0\" style=\"margin-left:10px; margin-top:10px;\" width=\"622\">\\n<tr>\\n<td><img src=\"/images/daibiaoshang1.jpg\"/></td>\\n</tr>\\n<tr>\\n<td bgcolor=\"#FFFFFF\" class=\"renda_zi4\" style=\"padding-left:30px;\"><table border=\"0\" width=\"538\">\\n<tr>\\n<td class=\"bl\" width=\"274\">\\xb7\\xa0\\n                          <a href=\"./dishiyijie_7/200908/t20090818_27565.html\" target=\"_blank\" title=\"1975\\u5e74\\u653f\\u5e9c\\u5de5\\u4f5c\\u62a5\\u544a\">1975\\u5e74\\u653f\\u5e9c\\u5de5\\u4f5c\\u62a5\\u544a</a></td>\\n<td width=\"82\">\\u5468\\u6069\\u6765</td>\\n<td width=\"168\">1975/01/13</td>\\n</tr>\\n</table></td>\\n</tr>\\n<tr>\\n<td><img src=\"/images/daibiaoxia1.jpg\"/></td>\\n</tr>\\n</table>\\n<table border=\"0\" cellpadding=\"0\" cellspacing=\"0\" height=\"24\" style=\"margin-left:160px; margin-top:15px;\" width=\"303\">\\n<tr>\\n<td id=\"#san\"><img src=\"/images/renda10.jpg\"/></td>\\n</tr>\\n</table>\\n<table border=\"0\" cellpadding=\"0\" cellspacing=\"0\" style=\"margin-left:10px; margin-top:10px;\" width=\"622\">\\n<tr>\\n<td><img src=\"/images/daibiaoshang1.jpg\"/></td>\\n</tr>\\n<tr>\\n<td bgcolor=\"#FFFFFF\" class=\"renda_zi4\" style=\"padding-left:30px;\"><table border=\"0\" width=\"538\">\\n<tr>\\n<td class=\"bl\" width=\"274\">\\xb7\\xa0\\n                          <a href=\"./dishiyijie_8/200908/t20090818_27564.html\" target=\"_blank\" title=\"1964\\u5e74\\u653f\\u5e9c\\u5de5\\u4f5c\\u62a5\\u544a\\uff08\\u6458\\u8981\\uff09\">1964\\u5e74\\u653f\\u5e9c\\u5de5\\u4f5c\\u62a5\\u544a\\uff08\\u6458\\u8981\\uff09</a></td>\\n<td width=\"82\">\\u5468\\u6069\\u6765</td>\\n<td width=\"168\">1964/12/21</td>\\n</tr>\\n</table></td>\\n</tr>\\n<tr>\\n<td><img src=\"/images/daibiaoxia1.jpg\"/></td>\\n</tr>\\n</table>\\n<table border=\"0\" cellpadding=\"0\" cellspacing=\"0\" style=\"margin-left:160px; margin-top:15px;\" width=\"303\">\\n<tr>\\n<td id=\"#er\"><img src=\"/images/renda11.jpg\"/></td>\\n</tr>\\n</table>\\n<table border=\"0\" cellpadding=\"0\" cellspacing=\"0\" style=\"margin-left:10px; margin-top:10px;\" width=\"622\">\\n<tr>\\n<td><img src=\"/images/daibiaoshang1.jpg\"/></td>\\n</tr>\\n<tr>\\n<td bgcolor=\"#FFFFFF\" class=\"renda_zi4\" style=\"padding-left:30px;\"><table border=\"0\" width=\"538\">\\n<tr>\\n<td class=\"bl\" width=\"274\">\\xb7\\xa0\\n                          <a href=\"./dishiyijie_9/200908/t20090818_27562.html\" target=\"_blank\" title=\"1959\\u5e74\\u653f\\u5e9c\\u5de5\\u4f5c\\u62a5\\u544a\">1959\\u5e74\\u653f\\u5e9c\\u5de5\\u4f5c\\u62a5\\u544a</a></td>\\n<td width=\"82\">\\u5468\\u6069\\u6765</td>\\n<td width=\"168\">1959/04/18</td>\\n</tr>\\n<tr>\\n<td class=\"bl\" width=\"274\">\\xb7\\xa0\\n                          <a href=\"./dishiyijie_9/200908/t20090818_27563.html\" target=\"_blank\" title=\"1960\\u5e74\\u653f\\u5e9c\\u5de5\\u4f5c\\u62a5\\u544a\">1960\\u5e74\\u653f\\u5e9c\\u5de5\\u4f5c\\u62a5\\u544a</a></td>\\n<td width=\"82\">\\u8c2d\\u9707\\u6797</td>\\n<td width=\"168\">1960/04/06</td>\\n</tr>\\n</table></td>\\n</tr>\\n<tr>\\n<td><img src=\"/images/daibiaoxia1.jpg\"/></td>\\n</tr>\\n</table>\\n<table border=\"0\" cellpadding=\"0\" cellspacing=\"0\" style=\"margin-left:160px; margin-top:15px;\" width=\"303\">\\n<tr>\\n<td id=\"#yi\"><img src=\"/images/renda12.jpg\"/></td>\\n</tr>\\n</table>\\n<table border=\"0\" cellpadding=\"0\" cellspacing=\"0\" style=\"margin-left:10px; margin-top:10px;\" width=\"622\">\\n<tr>\\n<td><img src=\"/images/daibiaoshang1.jpg\"/></td>\\n</tr>\\n<tr>\\n<td bgcolor=\"#FFFFFF\" class=\"renda_zi4\" style=\"padding-left:30px;\"><table border=\"0\" width=\"538\">\\n<tr>\\n<td class=\"bl\" width=\"274\">\\xb7\\xa0\\n                          <a href=\"./dishiyijie_10/200908/t20090818_27561.html\" target=\"_blank\" title=\"1957\\u5e74\\u653f\\u5e9c\\u5de5\\u4f5c\\u62a5\\u544a\">1957\\u5e74\\u653f\\u5e9c\\u5de5\\u4f5c\\u62a5\\u544a</a></td>\\n<td width=\"82\">\\u5468\\u6069\\u6765</td>\\n<td width=\"168\">1957/06/26</td>\\n</tr>\\n<tr>\\n<td class=\"bl\" width=\"274\">\\xb7\\xa0\\n                          <a href=\"./dishiyijie_10/200908/t20090818_27560.html\" target=\"_blank\" title=\"1956\\u5e74\\u653f\\u5e9c\\u5de5\\u4f5c\\u62a5\\u544a\">1956\\u5e74\\u653f\\u5e9c\\u5de5\\u4f5c\\u62a5\\u544a</a></td>\\n<td width=\"82\">\\u674e\\u5148\\u5ff5</td>\\n<td width=\"168\">1956/06/15</td>\\n</tr>\\n<tr>\\n<td class=\"bl\" width=\"274\">\\xb7\\xa0\\n                          <a href=\"./dishiyijie_10/200908/t20090818_27559.html\" target=\"_blank\" title=\"1955\\u5e74\\u653f\\u5e9c\\u5de5\\u4f5c\\u62a5\\u544a\">1955\\u5e74\\u653f\\u5e9c\\u5de5\\u4f5c\\u62a5\\u544a</a></td>\\n<td width=\"82\">\\u674e\\u5bcc\\u6625</td>\\n<td width=\"168\">1955/07/05</td>\\n</tr>\\n<tr>\\n<td class=\"bl\" width=\"274\">\\xb7\\xa0\\n                          <a href=\"./dishiyijie_10/200908/t20090818_27558.html\" target=\"_blank\" title=\"1954\\u5e74\\u653f\\u5e9c\\u5de5\\u4f5c\\u62a5\\u544a\">1954\\u5e74\\u653f\\u5e9c\\u5de5\\u4f5c\\u62a5\\u544a</a></td>\\n<td width=\"82\">\\u5468\\u6069\\u6765</td>\\n<td width=\"168\">1954/05/23</td>\\n</tr>\\n</table></td>\\n</tr>\\n<tr>\\n<td><img src=\"/images/daibiaoxia1.jpg\"/></td>\\n</tr>\\n</table></td>\\n</tr>\\n</table></td>\\n</tr>\\n</table>\\n</body></html>\\n\\n<style type=\"text/css\">\\n.lj {\\n\\tfont-size:12px;\\n\\tline-height: 25px;\\n\\t/*color: #737373;*/\\n\\tcolor:#643700;\\n}\\n.lj a{\\n\\tline-height: 25px;\\n\\tcolor:#643700;\\n}\\na {\\n\\ttext-decoration: none;\\n}\\n\\n</style>\\n<table align=\"center\" border=\"0\" cellpadding=\"0\" cellspacing=\"0\" width=\"956\">\\n<tr>\\n<td align=\"center\" bgcolor=\"#ffffff\" class=\"lj\" colspan=\"5\" height=\"25\" valign=\"middle\">\\u76f8\\u5173\\u94fe\\u63a5 -\\xa0<a href=\"http://www.iccs.cn/\" target=\"_blank\">\\u5f53\\u4ee3\\u4e2d\\u56fd\\u7814\\u7a76\\u6240</a>\\xa0-\\xa0<a href=\"http://www.cass.net.cn/\" target=\"_blank\">\\u4e2d\\u56fd\\u793e\\u4f1a\\u79d1\\u5b66\\u9662\\u7f51</a>\\xa0-\\xa0<a href=\"http://www.ldyx.org\" target=\"_blank\">\\u4e24\\u5f39\\u4e00\\u661f\\u5386\\u53f2\\u7814\\u7a76</a>\\xa0-\\xa0<a href=\"http://www.peopledaily.com.cn/\" target=\"_blank\">\\u4eba\\u6c11\\u7f51</a>\\xa0-\\xa0<a href=\"http://www.xinhuanet.com/\" target=\"_blank\">\\u65b0\\u534e\\u7f51</a>\\xa0-\\xa0<a href=\"http://www.npc.gov.cn/\" target=\"_blank\">\\u5168\\u56fd\\u4eba\\u5927\\u7f51</a>\\xa0-\\xa0<a href=\"http://www.gov.cn/\" target=\"_blank\">\\u4e2d\\u56fd\\u653f\\u5e9c\\u7f51</a>\\xa0-\\xa0<a href=\"http://www.cppcc.gov.cn/\" target=\"_blank\">\\u5168\\u56fd\\u653f\\u534f\\u7f51</a>\\xa0-\\xa0<a href=\"http://www.china.com.cn/\" target=\"_blank\">\\u4e2d\\u56fd\\u7f51</a>\\xa0\\xa0-\\xa0<a href=\"http://www.chinamil.com.cn/\" target=\"_blank\">\\u4e2d\\u56fd\\u519b\\u7f51</a>\\xa0-\\xa0<a href=\"http://www.wxyjs.org.cn/\" target=\"_blank\">\\u4e2d\\u592e\\u6587\\u732e\\u7814\\u7a76\\u5ba4</a></td>\\n</tr>\\n<tr>\\n<td bgcolor=\"#ffffff\" colspan=\"5\" height=\"1\" valign=\"top\"></td>\\n</tr>\\n<tr>\\n<td bgcolor=\"#ffffff\" colspan=\"5\" height=\"110\" valign=\"top\"><div align=\"center\" class=\"lj\"><span style=\"color:#643700\"><a href=\"/guanyuwomen/201001/t20100121_42035.html\" target=\"_blank\">\\u5173\\u4e8e\\u6211\\u4eec</a> - <a href=\"/guanyuwomen/201001/t20100121_42039.html\" target=\"_blank\">\\u8054\\u7cfb\\u6211\\u4eec</a> - <a href=\"/guanyuwomen/201001/t20100121_42037.html\" target=\"_blank\">\\u7248\\u6743\\u58f0\\u660e</a><br/>\\n      \\u5f53\\u4ee3\\u4e2d\\u56fd\\u7814\\u7a76\\u6240 \\u7248\\u6743\\u6240\\u6709\\u3000\\u5907\\u6848\\u5e8f\\u53f7:\\u4eacICP\\u590706035331\\u53f7<br/>\\n      \\u5730\\u5740:\\u5317\\u4eac\\u897f\\u57ce\\u533a\\u5730\\u5b89\\u95e8\\u897f\\u5927\\u8857\\u65cc\\u52c7\\u91cc\\uff18\\u53f7<br/>\\n    \\u90ae\\u7f16:100009\\u3000\\u7535\\u8bdd:66572305  66572306 Email:gsw@iccs.cn</span></div></td>\\n</tr>\\n</table>\\n<div style=\"display:none\">\\n<script type=\"text/javascript\">\\nvar _bdhmProtocol = ((\"https:\" == document.location.protocol) ? \" https://\" : \" http://\");\\ndocument.write(unescape(\"%3Cscript src='\" + _bdhmProtocol + \"hm.baidu.com/h.js%3F28a3153dcfb00d257d29dbb127cafeba' type='text/javascript'%3E%3C/script%3E\"));\\n</script>\\n</div>\\n\\n>"
      ]
     },
     "execution_count": 10,
     "metadata": {},
     "output_type": "execute_result"
    }
   ],
   "source": [
    "scripts"
   ]
  },
  {
   "cell_type": "code",
   "execution_count": 23,
   "metadata": {
    "collapsed": false
   },
   "outputs": [],
   "source": [
    "def crawler(url_i):\n",
    "    content = urllib2.urlopen(url_i).read().decode('gb18030')  \n",
    "    soup = BeautifulSoup(content, 'html.parser') \n",
    "    year = soup.find('span', {'class', 'huang16c'}).text[:4]\n",
    "    year = int(year)\n",
    "    report = ''.join(s.text for s in soup('p'))\n",
    "  \n",
    "    scripts = soup.find_all('script')\n",
    "    countPage = int(''.join(scripts[1]).split('countPage = ')[1].split('//')[0])\n",
    "    if countPage == 1:\n",
    "        pass\n",
    "    else:\n",
    "        for i in range(1, countPage):\n",
    "            url_child = url_i.split('.html')[0] +'_'+str(i)+'.html'\n",
    "            content = urllib2.urlopen(url_child).read().decode('gb18030') \n",
    "            soup = BeautifulSoup(content) \n",
    "            report_child = ''.join(s.text for s in soup('p'))\n",
    "            report = report + report_child\n",
    "    return year, report"
   ]
  },
  {
   "cell_type": "code",
   "execution_count": 16,
   "metadata": {
    "collapsed": false
   },
   "outputs": [
    {
     "name": "stdout",
     "output_type": "stream",
     "text": [
      "2016\n",
      "2015\n",
      "2014\n",
      "2013\n",
      "2012\n"
     ]
    },
    {
     "name": "stderr",
     "output_type": "stream",
     "text": [
      "//anaconda/envs/dato-env/lib/python2.7/site-packages/bs4/__init__.py:166: UserWarning: No parser was explicitly specified, so I'm using the best available HTML parser for this system (\"lxml\"). This usually isn't a problem, but if you run this code on another system, or in a different virtual environment, it may use a different parser and behave differently.\n",
      "\n",
      "To get rid of this warning, change this:\n",
      "\n",
      " BeautifulSoup([your markup])\n",
      "\n",
      "to this:\n",
      "\n",
      " BeautifulSoup([your markup], \"lxml\")\n",
      "\n",
      "  markup_type=markup_type))\n"
     ]
    },
    {
     "name": "stdout",
     "output_type": "stream",
     "text": [
      "2011\n",
      "2010\n",
      "2009\n",
      "2008\n",
      "2007\n",
      "2006\n",
      "2005\n",
      "2004\n",
      "2003\n",
      "2002\n",
      "2001\n",
      "2000\n",
      "1999\n",
      "1998\n",
      "1997\n",
      "1996\n",
      "1995\n",
      "1994\n",
      "1993\n",
      "1992\n",
      "1991\n",
      "1990\n",
      "1989\n",
      "1988\n",
      "1987\n",
      "1986\n",
      "1985\n",
      "1984\n",
      "1983\n",
      "1982\n",
      "1981\n",
      "1980\n",
      "1979\n",
      "1978\n",
      "1975\n",
      "1964\n",
      "1959\n",
      "1960\n",
      "1957\n",
      "1956\n",
      "1955\n",
      "1954\n"
     ]
    }
   ],
   "source": [
    "reports = {}\n",
    "for link in hyperlinks:\n",
    "    year, report = crawler(link)\n",
    "    print year\n",
    "    reports[year] = report "
   ]
  },
  {
   "cell_type": "code",
   "execution_count": 20,
   "metadata": {
    "collapsed": true
   },
   "outputs": [],
   "source": [
    "url2016 = 'http://news.xinhuanet.com/fortune/2016-03/05/c_128775704.htm'\n",
    "content = urllib2.urlopen(url2016).read()\n",
    "soup = BeautifulSoup(content, 'html.parser') \n",
    "report2016 = ''.join(s.text for s in soup('p'))"
   ]
  },
  {
   "cell_type": "code",
   "execution_count": 21,
   "metadata": {
    "collapsed": false
   },
   "outputs": [],
   "source": [
    "with open('/Users/zouye/cjc2016/homework/zouye/homework2/gov_reports1954-2016.txt', 'wb') as f:\n",
    "    for r in reports:\n",
    "        line = str(r)+'\\t'+reports[r].replace('\\n', '\\t') +'\\n'\n",
    "        f.write(line.encode('utf-8'))"
   ]
  },
  {
   "cell_type": "markdown",
   "metadata": {},
   "source": [
    "\n",
    "\n",
    "\n",
    "\n",
    "#\n",
    "#\n",
    "#\n",
    "#\n",
    "#\n",
    "### homework2——天涯论坛关于雷洋的数据抓取"
   ]
  },
  {
   "cell_type": "code",
   "execution_count": 71,
   "metadata": {
    "collapsed": true
   },
   "outputs": [],
   "source": [
    "import urllib2\n",
    "from bs4 import BeautifulSoup"
   ]
  },
  {
   "cell_type": "code",
   "execution_count": 72,
   "metadata": {
    "collapsed": false,
    "scrolled": true
   },
   "outputs": [
    {
     "data": {
      "text/html": [
       "<iframe src=http://bbs.tianya.cn/list.jsp?item=free&nextid=%d&order=8&k=PX width=1000 height=500></iframe>"
      ],
      "text/plain": [
       "<IPython.core.display.HTML object>"
      ]
     },
     "execution_count": 72,
     "metadata": {},
     "output_type": "execute_result"
    }
   ],
   "source": [
    "from IPython.display import display_html, HTML\n",
    "HTML('<iframe src=http://bbs.tianya.cn/list.jsp?item=free&nextid=%d&order=8&k=PX width=1000 height=500></iframe>')"
   ]
  },
  {
   "cell_type": "markdown",
   "metadata": {},
   "source": [
    "# 获取帖子列表"
   ]
  },
  {
   "cell_type": "code",
   "execution_count": 73,
   "metadata": {
    "collapsed": true
   },
   "outputs": [],
   "source": [
    "#获取帖子列表\n",
    "def crawler(page_num, file_name):\n",
    "    try:\n",
    "        # open the browser\n",
    "        url = \"http://bbs.tianya.cn/list.jsp?item=free&nextid=%d&order=8&k=雷洋\" % page_num\n",
    "        content = urllib2.urlopen(url).read() \n",
    "        soup = BeautifulSoup(content, \"lxml\") \n",
    "        articles = soup.find_all('tr')\n",
    "      \n",
    "        for i in articles[1:]:\n",
    "            td = i.find_all('td')\n",
    "            title = td[0].text.strip()\n",
    "            title_url = td[0].a['href']\n",
    "            author = td[1].text\n",
    "            author_url = td[1].a['href']\n",
    "            views = td[2].text\n",
    "            replies = td[3].text\n",
    "            date = td[4]['title']\n",
    "            record = title + '\\t' + title_url+ '\\t' + author + '\\t'+ \\\n",
    "                        author_url + '\\t' + views+ '\\t'  + replies+ '\\t'+ date\n",
    "            with open(file_name,'a') as p: \n",
    "                        p.write(record.encode('utf-8')+\"\\n\") \n",
    "\n",
    "    except Exception, e:\n",
    "        print e\n",
    "        pass"
   ]
  },
  {
   "cell_type": "code",
   "execution_count": 74,
   "metadata": {
    "collapsed": false
   },
   "outputs": [
    {
     "name": "stdout",
     "output_type": "stream",
     "text": [
      "0\n",
      "1\n",
      "2\n",
      "3\n",
      "4\n",
      "5\n",
      "6\n",
      "7\n",
      "8\n",
      "9\n",
      "10\n",
      "11\n",
      "12\n",
      "13\n",
      "14\n",
      "15\n",
      "16\n",
      "17\n",
      "18\n",
      "19\n",
      "20\n",
      "21\n",
      "22\n",
      "23\n",
      "24\n",
      "25\n",
      "26\n",
      "27\n",
      "28\n",
      "29\n",
      "30\n",
      "31\n",
      "32\n",
      "33\n",
      "34\n",
      "35\n",
      "36\n",
      "37\n",
      "38\n",
      "39\n",
      "40\n",
      "41\n",
      "42\n",
      "43\n",
      "44\n",
      "45\n",
      "46\n",
      "47\n",
      "48\n",
      "49\n"
     ]
    }
   ],
   "source": [
    "for page_num in range(50):\n",
    "    print (page_num)\n",
    "    crawler(page_num, '/Users/zouye/cjc2016/homework/zouye/homework2/tianya_bbs_leiyang_list.txt') "
   ]
  },
  {
   "cell_type": "code",
   "execution_count": 75,
   "metadata": {
    "collapsed": true
   },
   "outputs": [],
   "source": [
    "import pandas as pd"
   ]
  },
  {
   "cell_type": "code",
   "execution_count": 76,
   "metadata": {
    "collapsed": false
   },
   "outputs": [
    {
     "data": {
      "text/html": [
       "<div>\n",
       "<table border=\"1\" class=\"dataframe\">\n",
       "  <thead>\n",
       "    <tr style=\"text-align: right;\">\n",
       "      <th></th>\n",
       "      <th>0</th>\n",
       "      <th>1</th>\n",
       "      <th>2</th>\n",
       "      <th>3</th>\n",
       "      <th>4</th>\n",
       "      <th>5</th>\n",
       "      <th>6</th>\n",
       "    </tr>\n",
       "  </thead>\n",
       "  <tbody>\n",
       "    <tr>\n",
       "      <th>0</th>\n",
       "      <td>雷洋是否嫖娼,从百度地图上一看就一清二楚了.</td>\n",
       "      <td>/post-free-5460564-1.shtml</td>\n",
       "      <td>艹翻美帝</td>\n",
       "      <td>http://www.tianya.cn/112033042</td>\n",
       "      <td>139365</td>\n",
       "      <td>1622</td>\n",
       "      <td>2016-05-10 23:02</td>\n",
       "    </tr>\n",
       "    <tr>\n",
       "      <th>1</th>\n",
       "      <td>【风青杨专栏】 对不起,我并不想知道雷洋如何嫖娼</td>\n",
       "      <td>/post-free-5462140-1.shtml</td>\n",
       "      <td>正风青杨</td>\n",
       "      <td>http://www.tianya.cn/62863249</td>\n",
       "      <td>110709</td>\n",
       "      <td>1904</td>\n",
       "      <td>2016-05-12 08:49</td>\n",
       "    </tr>\n",
       "  </tbody>\n",
       "</table>\n",
       "</div>"
      ],
      "text/plain": [
       "                          0                           1     2  \\\n",
       "0    雷洋是否嫖娼,从百度地图上一看就一清二楚了.  /post-free-5460564-1.shtml  艹翻美帝   \n",
       "1  【风青杨专栏】 对不起,我并不想知道雷洋如何嫖娼  /post-free-5462140-1.shtml  正风青杨   \n",
       "\n",
       "                                3       4     5                 6  \n",
       "0  http://www.tianya.cn/112033042  139365  1622  2016-05-10 23:02  \n",
       "1   http://www.tianya.cn/62863249  110709  1904  2016-05-12 08:49  "
      ]
     },
     "execution_count": 76,
     "metadata": {},
     "output_type": "execute_result"
    }
   ],
   "source": [
    "df = pd.read_csv('/Users/zouye/cjc2016/homework/zouye/homework2/tianya_bbs_leiyang_list.txt', sep = \"\\t\", header=None)\n",
    "df[:2]"
   ]
  },
  {
   "cell_type": "code",
   "execution_count": 77,
   "metadata": {
    "collapsed": false
   },
   "outputs": [
    {
     "data": {
      "text/html": [
       "<div>\n",
       "<table border=\"1\" class=\"dataframe\">\n",
       "  <thead>\n",
       "    <tr style=\"text-align: right;\">\n",
       "      <th></th>\n",
       "      <th>title</th>\n",
       "      <th>link</th>\n",
       "      <th>author</th>\n",
       "      <th>author_page</th>\n",
       "      <th>click</th>\n",
       "      <th>reply</th>\n",
       "      <th>time</th>\n",
       "    </tr>\n",
       "  </thead>\n",
       "  <tbody>\n",
       "    <tr>\n",
       "      <th>0</th>\n",
       "      <td>雷洋是否嫖娼,从百度地图上一看就一清二楚了.</td>\n",
       "      <td>/post-free-5460564-1.shtml</td>\n",
       "      <td>艹翻美帝</td>\n",
       "      <td>http://www.tianya.cn/112033042</td>\n",
       "      <td>139365</td>\n",
       "      <td>1622</td>\n",
       "      <td>2016-05-10 23:02</td>\n",
       "    </tr>\n",
       "    <tr>\n",
       "      <th>1</th>\n",
       "      <td>【风青杨专栏】 对不起,我并不想知道雷洋如何嫖娼</td>\n",
       "      <td>/post-free-5462140-1.shtml</td>\n",
       "      <td>正风青杨</td>\n",
       "      <td>http://www.tianya.cn/62863249</td>\n",
       "      <td>110709</td>\n",
       "      <td>1904</td>\n",
       "      <td>2016-05-12 08:49</td>\n",
       "    </tr>\n",
       "  </tbody>\n",
       "</table>\n",
       "</div>"
      ],
      "text/plain": [
       "                      title                        link author  \\\n",
       "0    雷洋是否嫖娼,从百度地图上一看就一清二楚了.  /post-free-5460564-1.shtml   艹翻美帝   \n",
       "1  【风青杨专栏】 对不起,我并不想知道雷洋如何嫖娼  /post-free-5462140-1.shtml   正风青杨   \n",
       "\n",
       "                      author_page   click  reply              time  \n",
       "0  http://www.tianya.cn/112033042  139365   1622  2016-05-10 23:02  \n",
       "1   http://www.tianya.cn/62863249  110709   1904  2016-05-12 08:49  "
      ]
     },
     "execution_count": 77,
     "metadata": {},
     "output_type": "execute_result"
    }
   ],
   "source": [
    "df=df.rename(columns = {0:'title', 1:'link', 2:'author',3:'author_page', 4:'click', 5:'reply', 6:'time'})\n",
    "df[:2]"
   ]
  },
  {
   "cell_type": "markdown",
   "metadata": {},
   "source": [
    "# 获取作者信息"
   ]
  },
  {
   "cell_type": "code",
   "execution_count": 78,
   "metadata": {
    "collapsed": false
   },
   "outputs": [
    {
     "data": {
      "text/plain": [
       "0    http://www.tianya.cn/112033042\n",
       "1     http://www.tianya.cn/62863249\n",
       "2       http://www.tianya.cn/819155\n",
       "3     http://www.tianya.cn/56694133\n",
       "4    http://www.tianya.cn/112360561\n",
       "Name: author_page, dtype: object"
      ]
     },
     "execution_count": 78,
     "metadata": {},
     "output_type": "execute_result"
    }
   ],
   "source": [
    "#获取作者信息\n",
    "df.author_page[:5]"
   ]
  },
  {
   "cell_type": "code",
   "execution_count": 79,
   "metadata": {
    "collapsed": true
   },
   "outputs": [],
   "source": [
    "user_info = soup.select('.userinfo p')"
   ]
  },
  {
   "cell_type": "code",
   "execution_count": 80,
   "metadata": {
    "collapsed": false
   },
   "outputs": [],
   "source": [
    "def author_crawler(url, file_name):\n",
    "    try:\n",
    "        content = urllib2.urlopen(url).read() \n",
    "        soup = BeautifulSoup(content, \"lxml\")\n",
    "        link_info = soup.find_all('div', {'class', 'link-box'})\n",
    "        followed_num, fans_num = [i.a.text for i in link_info]\n",
    "        try:\n",
    "            activity = soup.find_all('span', {'class', 'subtitle'})\n",
    "            post_num, reply_num = [j.text[2:] for i in activity[:1] for j in i('a')]\n",
    "        except:\n",
    "            post_num, reply_num = 1, 0\n",
    "        record =  '\\t'.join([url, followed_num, fans_num, post_num, reply_num])\n",
    "        with open(file_name,'a') as p: \n",
    "                    p.write(record.encode('utf-8')+\"\\n\") \n",
    "\n",
    "    except Exception, e:\n",
    "        print e, url\n",
    "        record =  '\\t'.join([url, 'na', 'na', 'na', 'na'])\n",
    "        with open(file_name,'a') as p: \n",
    "                    p.write(record.encode('utf-8')+\"\\n\") \n",
    "        pass"
   ]
  },
  {
   "cell_type": "code",
   "execution_count": 81,
   "metadata": {
    "collapsed": false
   },
   "outputs": [
    {
     "name": "stdout",
     "output_type": "stream",
     "text": [
      "0\n",
      "10\n",
      "20\n",
      "30\n",
      "40\n",
      "50\n",
      "60\n",
      "70\n",
      "80\n",
      "90\n",
      "100\n",
      "110\n",
      "120\n",
      "130\n",
      "140\n",
      "150\n",
      "160\n",
      "170\n",
      "180\n",
      "190\n",
      "200\n",
      "210\n",
      "220\n",
      "230\n"
     ]
    }
   ],
   "source": [
    "for k, url in enumerate(df.author_page):\n",
    "    if k % 10==0:\n",
    "        print k\n",
    "    author_crawler(url, '/Users/zouye/cjc2016/homework/zouye/homework2/tianya_bbs_leiyang_author_info.txt') "
   ]
  },
  {
   "cell_type": "markdown",
   "metadata": {},
   "source": [
    "# 获取帖子回复"
   ]
  },
  {
   "cell_type": "code",
   "execution_count": 82,
   "metadata": {
    "collapsed": false
   },
   "outputs": [
    {
     "name": "stdout",
     "output_type": "stream",
     "text": [
      "<!DOCTYPE HTML>\n",
      "<!--[if IE 6]><html class=\"ie6 lte9 lte8 lte7\" lang=\"zh-cn\"><![endif]--><!--[if IE 8]><html class=\"ie8 lte9 lte8\" lang=\"zh-cn\"><![endif]--><!--[if IE 9]><html class=\"ie9 lte9\" lang=\"zh-cn\"><![endif]--><!--[if IE 7]><html class=\"ie7 lte9 lte8 lte7\" lang=\"zh-cn\"><![endif]--><!--[if !(IE 6) | !(IE 7) | !(IE 8) | !(IE 9)  ]><!--><html lang=\"zh-cn\"><!--<![endif]-->\n",
      "<head>\n",
      "<meta charset=\"utf-8\"/>\n",
      "<title>正风青杨_天涯社区</title>\n",
      "<meta content=\"no-cache\" http-equiv=\"Pragma\"/>\n",
      "<meta content=\"Thu, 01 Nov 2012 10:00:00 GMT\" http-equiv=\"Expires\"/>\n",
      "<meta content=\"IE=Edge\" http-equiv=\"X-UA-Compatible\"/>\n",
      "<link href=\"http://static.tianyaui.com/global/ty/TY.css\" rel=\"stylesheet\" type=\"text/css\"/>\n",
      "<link href=\"http://static.tianyaui.com/global/my/web/static/css/main_afeee24.css\" rel=\"stylesheet\" type=\"text/css\"/>\n",
      "<link href=\"http://static.tianyaui.com/global/my/web/static/css/t_741d7af.css\" rel=\"stylesheet\" type=\"text/css\"/>\n",
      "<link href=\"http://static.tianyaui.com/favicon.ico\" rel=\"shortcut icon\" type=\"image/vnd.microsoft.icon\"/>\n",
      "<script charset=\"utf-8\" src=\"http://static.tianyaui.com/global/ty/TY.js\" type=\"text/javascript\"></script>\n",
      "<!--[if lt IE 7]>\r\n",
      "  <script src=\"http://static.tianyaui.com/global/ty/util/image/DD_belatedPNG_0.0.8a.js\"></script>\r\n",
      "<![endif]-->\n",
      "<link href=\"http://static.tianyaui.com/global/my/web/static/css/home_f1dd68a.css\" rel=\"stylesheet\" type=\"text/css\"/>\n",
      "<link href=\"http://static.tianyaui.com/global/my/web/static/css/suiji_788b2ba.css\" rel=\"stylesheet\" type=\"text/css\"/>\n",
      "<link href=\"http://static.tianyaui.com/global/my/web/static/css/flexslider_7938f3f.css\" rel=\"stylesheet\" type=\"text/css\"/>\n",
      "</head>\n",
      "<body>\n",
      "<div _head=\"13\" class=\"skin-c119 hue-blue\" id=\"huebox\" style=\"background-image:url(http://static.tianyaui.com/global/my/web/static/skin/119.jpg)\">\n",
      "<script charset=\"utf-8\" type=\"text/javascript\">\r\n",
      "\tTY.loader(\"TY.ui.nav\", function () {\r\n",
      "\t\tTY.ui.nav.init({showBottomNav:false});\r\n",
      "\t});\r\n",
      "</script>\n",
      "<script>\r\n",
      "\t\tvar noTopBtn = true;\r\n",
      "        var oHomeInfo = {\r\n",
      "            userId: 62863249,\r\n",
      "            userName: '正风青杨',\r\n",
      "            gender: '',\r\n",
      "            who: 'TA',//他，她，我\r\n",
      "            regTime:'2012-01-19 13:12:00'\r\n",
      "        };\r\n",
      "        var rewardKey = {\"sign\":\"afd31e34f0b44e861024c84ced0b0297\",\"time\":\"1463300740294\",\"merNum\":\"62863249\",\"getName\":\"正风青杨\",\"merId\":\"个人主页\"};\r\n",
      "    </script>\n",
      "<div id=\"doc\">\n",
      "<div class=\"clearfix\" id=\"home_wrapper\">\n",
      "<div class=\"left-area\">\n",
      "<div class=\"module-userinfo\">\n",
      "<div class=\"portrait\">\n",
      "<div class=\"headpic\">\n",
      "<img alt=\"正风青杨\" height=\"130\" src=\"http://tx.tianyaui.com/logo/62863249\" width=\"130\"/>\n",
      "</div>\n",
      "<h2><a href=\"http://www.tianya.cn/62863249\" target=\"_blank\">正风青杨</a>\n",
      "<a class=\"offline pngfix\" href=\"javascript:void(0);\" title=\"不在线\">\n",
      "</a>\n",
      "<a _data=\"62863249\" class=\"black-btn addtoblack\" href=\"javascript:void(0);\">拉黑</a>\n",
      "</h2>\n",
      "<div class=\"medal\">\n",
      "<a class=\"icon-vip\" href=\"http://www.tianya.cn/honor/vip\" target=\"_blank\" title=\"天涯杂谈专栏写手\"></a>\n",
      "</div>\n",
      "</div>\n",
      "<div class=\"profile\">\n",
      "<p>知名时事评论家，品牌营销学者，现任汇赢天下CEO。</p>\n",
      "</div>\n",
      "<div class=\"relations\">\n",
      "<div class=\"relate-oper\">\n",
      "<a _data=\"62863249\" class=\"oper-btn t-setfocus\" href=\"javascript:void(0);\">+ 关注</a><a class=\"oper-btn q_addFriend\" href=\"javascript:void(0);\" uid=\"62863249\" uname=\"正风青杨\"><i></i>加好友</a><a class=\"oper-btn shang-btn\" href=\"javascript:void(0);\"><i></i>送礼物</a>\n",
      "</div>\n",
      "<div class=\"relate-link\">\n",
      "<div class=\"link-box\"><p><a href=\"/62863249/follow\">20</a></p><p>关注</p></div><div class=\"link-box\"><p><a href=\"/62863249/fans\">8238</a></p><p>粉丝</p></div>\n",
      "</div>\n",
      "</div>\n",
      "<div class=\"userinfo\">\n",
      "<p><span>地　　区</span>湖北武汉市</p>\n",
      "<p><span>积　　分</span>161860</p>\n",
      "<p><span>登录次数</span>2013</p>\n",
      "<p><span>最新登录</span>2016-05-15 09:56:15</p>\n",
      "<p><span>注册日期</span>2012-01-19 13:12:00</p>\n",
      "</div>\n",
      "<div class=\"sendmessage\">\n",
      "<div class=\"message-to\"><span>给正风青杨发短消息：<span></span></span></div>\n",
      "<textarea class=\"textarea\" id=\"sendMsg_content\" placeholder=\"对正风青杨说：\"></textarea>\n",
      "<div class=\"toolbar cf\">\n",
      "<span class=\"emotion\" title=\"表情\"></span>\n",
      "<span class=\"photo\" title=\"图片\"></span>\n",
      "<span class=\"history\" title=\"历史\"></span>\n",
      "<span class=\"hongbao\" title=\"红包\"></span>\n",
      "<a class=\"sendmsg-btn\" href=\"javascript:void(0);\">发送</a>\n",
      "</div>\n",
      "</div>\n",
      "<div class=\"timeline\">\n",
      "<a class=\"timeline-open pngfix\" href=\"javascript:void(0);\">开启时间隧道</a>\n",
      "</div>\n",
      "</div>\n",
      "<div class=\"module-userinfo user-shop\">\n",
      "<div class=\"mod-hd\">\n",
      "<strong class=\"title\">TA的店铺</strong>\n",
      "<div class=\"mod-bd\">\n",
      "<ul>\n",
      "</ul>\n",
      "</div>\n",
      "</div>\n",
      "</div>\n",
      "<div class=\"module-userinfo user-attention\">\n",
      "<div class=\"mod-hd\">\n",
      "<strong class=\"title\">TA关注的人</strong>\n",
      "<a class=\"more\" href=\"javascript:void(0);\">换一组</a>\n",
      "<div class=\"mod-bd\">\n",
      "<ul></ul>\n",
      "</div>\n",
      "</div>\n",
      "</div>\n",
      "<div class=\"module-userinfo user-tag\">\n",
      "<div class=\"mod-hd\">\n",
      "<strong class=\"title\">TA感兴趣的标签</strong>\n",
      "</div>\n",
      "<div class=\"hot_tags\">\n",
      "<a class=\"hot_tag\" href=\"javascript:void(0);\">淡定</a>\n",
      "<a class=\"hot_tag\" href=\"javascript:void(0);\">幽默</a>\n",
      "<a class=\"hot_tag\" href=\"javascript:void(0);\">爱电影</a>\n",
      "<a class=\"hot_tag\" href=\"javascript:void(0);\">微博控</a>\n",
      "<a class=\"hot_tag\" href=\"javascript:void(0);\">博客</a>\n",
      "</div>\n",
      "</div>\n",
      "</div>\n",
      "<div class=\"main-area\">\n",
      "<div class=\"home-module module-userbbs\">\n",
      "<div class=\"mod-hd\">\n",
      "<strong class=\"title\">TA的帖子</strong>\n",
      "<span class=\"subtitle\"><a href=\"http://www.tianya.cn/62863249/bbs?t=post\">主帖725</a>　<a href=\"http://www.tianya.cn/62863249/bbs?t=reply\">回帖59</a></span>\n",
      "<a class=\"more\" href=\"http://www.tianya.cn/62863249/bbs\">更多</a>\n",
      "</div>\n",
      "<div class=\"mod-bd\">\n",
      "<table class=\"posts\">\n",
      "<tr>\n",
      "<th class=\"p-title\">帖子名</th>\n",
      "<th class=\"p-block\">版块</th>\n",
      "<th class=\"p-time\">时间</th>\n",
      "</tr>\n",
      "<tr>\n",
      "<td class=\"p-title\"><a href=\"http://bbs.tianya.cn/post-free-5465462-1.shtml\" target=\"_blank\" title=\"点击：2390\n",
      "回复：19\">【风青杨专栏】教育公平应该从北京上海做起？</a></td>\n",
      "<td><a href=\"http://bbs.tianya.cn/list-free-1.shtml\" target=\"_blank\">天涯杂谈</a></td>\n",
      "<td>2016-05-15 10:04</td>\n",
      "</tr>\n",
      "<tr>\n",
      "<td class=\"p-title\"><a href=\"http://bbs.tianya.cn/post-free-5463418-1.shtml\" target=\"_blank\" title=\"点击：1809\n",
      "回复：6\">【风青杨专栏】留守女童为何频遭性侵犯？</a></td>\n",
      "<td><a href=\"http://bbs.tianya.cn/list-free-1.shtml\" target=\"_blank\">天涯杂谈</a></td>\n",
      "<td>2016-05-13 09:47</td>\n",
      "</tr>\n",
      "<tr>\n",
      "<td class=\"p-title\"><a href=\"http://bbs.tianya.cn/post-free-5462140-1.shtml\" target=\"_blank\" title=\"点击：181631\n",
      "回复：2418\">【风青杨专栏】对不起，我并不想知道雷洋如何嫖娼</a></td>\n",
      "<td><a href=\"http://bbs.tianya.cn/list-free-1.shtml\" target=\"_blank\">天涯杂谈</a></td>\n",
      "<td>2016-05-12 08:49</td>\n",
      "</tr>\n",
      "<tr>\n",
      "<td class=\"p-title\"><a href=\"http://bbs.tianya.cn/post-free-5460737-1.shtml\" target=\"_blank\" title=\"点击：40366\n",
      "回复：462\">【风青杨专栏】雷洋的执法监控为何“坏掉“了？</a></td>\n",
      "<td><a href=\"http://bbs.tianya.cn/list-free-1.shtml\" target=\"_blank\">天涯杂谈</a></td>\n",
      "<td>2016-05-11 08:42</td>\n",
      "</tr>\n",
      "<tr>\n",
      "<td class=\"p-title\"><a href=\"http://bbs.tianya.cn/post-free-5459666-1.shtml\" target=\"_blank\" title=\"点击：19736\n",
      "回复：431\">【风青杨专栏】人大硕士雷洋之死谁该负责？</a></td>\n",
      "<td><a href=\"http://bbs.tianya.cn/list-free-1.shtml\" target=\"_blank\">天涯杂谈</a></td>\n",
      "<td>2016-05-10 10:13</td>\n",
      "</tr>\n",
      "</table>\n",
      "</div>\n",
      "<div class=\"mod-ft\"></div>\n",
      "<script>\r\n",
      "var postDatas=[{\"categoryName\":\"天涯杂谈\",\"time\":\"2016-05-07 07:41:00.0\",\"title\":\"【风青杨专栏】中国的医患关系为何如此紧张？\",\"replyCount\":\"859\",\"clickCount\":\"37274\",\"categoryId\":\"free\",\"articleId\":\"5457208\"},{\"categoryName\":\"天涯杂谈\",\"time\":\"2016-05-06 07:42:00.0\",\"title\":\"【风青杨专栏】中国的富二代在国外究竟该学什么？\",\"replyCount\":\"6\",\"clickCount\":\"264\",\"categoryId\":\"free\",\"articleId\":\"5456041\"},{\"categoryName\":\"天涯杂谈\",\"time\":\"2016-05-05 09:39:00.0\",\"title\":\"国企“近亲繁殖”的病该怎么治？\",\"replyCount\":\"57\",\"clickCount\":\"4822\",\"categoryId\":\"free\",\"articleId\":\"5455045\"},{\"categoryName\":\"约跑马拉松\",\"time\":\"2016-01-04 18:00:30.347\",\"title\":\"【风青杨专栏】雾霾下北京马拉松到底该不该跑？\",\"replyCount\":\"129\",\"clickCount\":\"32871\",\"categoryId\":\"1154\",\"articleId\":\"661\"},{\"categoryName\":\"天涯杂谈\",\"time\":\"2015-10-08 09:01:00.0\",\"title\":\"【风青杨专栏】38元大虾宰客事件背后谁是保护伞？\",\"replyCount\":\"238\",\"clickCount\":\"67097\",\"categoryId\":\"free\",\"articleId\":\"5274306\"},{\"categoryName\":\"天涯杂谈\",\"time\":\"2015-09-18 07:57:00.0\",\"title\":\"【风青杨专栏】中国究竟有多少人“吃皇粮”？\",\"replyCount\":\"349\",\"clickCount\":\"36520\",\"categoryId\":\"free\",\"articleId\":\"5253927\"},{\"categoryName\":\"天涯杂谈\",\"time\":\"2015-08-26 07:41:00.0\",\"title\":\"【风青杨专栏】中国人还相信知识改变命运吗？\",\"replyCount\":\"265\",\"clickCount\":\"32802\",\"categoryId\":\"free\",\"articleId\":\"5228808\"},{\"categoryName\":\"天涯杂谈\",\"time\":\"2015-08-25 07:55:00.0\",\"title\":\"【风青杨专栏】俄罗斯为何如此不讲信用？\",\"replyCount\":\"440\",\"clickCount\":\"32545\",\"categoryId\":\"free\",\"articleId\":\"5227388\"},{\"categoryName\":\"天涯杂谈\",\"time\":\"2015-08-15 08:41:00.0\",\"title\":\"【风青杨专栏】中国人为什么不愿说真话？\",\"replyCount\":\"803\",\"clickCount\":\"207972\",\"categoryId\":\"free\",\"articleId\":\"5216719\"},{\"categoryName\":\"天涯杂谈\",\"time\":\"2015-08-11 09:27:00.0\",\"title\":\"【风青杨专栏】俄罗斯为何在军事比赛上刁难中国？\",\"replyCount\":\"214\",\"clickCount\":\"67163\",\"categoryId\":\"free\",\"articleId\":\"5211191\"}]\r\n",
      "</script>\n",
      "</div>\n",
      "<div class=\"home-module module-usergoods\">\n",
      "<div class=\"mod-hd\">\n",
      "<strong class=\"title\">TA的商品</strong>\n",
      "<a class=\"more\" href=\"\" target=\"_blank\">全部商品</a>\n",
      "</div>\n",
      "<div class=\"mod-bd\">\n",
      "<ul class=\"goods-list\">\n",
      "</ul>\n",
      "</div>\n",
      "<div class=\"mod-ft\"></div>\n",
      "</div>\n",
      "<div class=\"home-module module-usershang\">\n",
      "<div class=\"mod-hd\">\n",
      "<strong class=\"title\">收到礼物</strong>\n",
      "</div>\n",
      "<div class=\"mod-bd\">\n",
      "<div _type=\"receive\" class=\"tabs-content\">\n",
      "<div class=\"shangrank cf\">\n",
      "<div class=\"rank-info\">\n",
      "<div class=\"number\">\n",
      "<h4>排名</h4>\n",
      "<p>100+</p>\n",
      "</div>\n",
      "<div class=\"detail\">\n",
      "<p>Ta的赏金总收入：<span>3710</span></p>\n",
      "<p>排在<span>70</span>%网友前面</p>\n",
      "</div>\n",
      "</div>\n",
      "<div class=\"rank-graph\">\n",
      "<div _pos=\"0.7\" class=\"position pos-1\"></div>\n",
      "</div>\n",
      "</div>\n",
      "<div class=\"shangmsg\">\n",
      "<h4>打赏留言</h4>\n",
      "<p class=\"msg\">\n",
      "<a href=\"http://www.tianya.cn/26830173\">乡野捡牛粪</a>\r\n",
      "\t    \t\t对\r\n",
      "\t    \t\t<a href=\"http://www.tianya.cn/62863249\">正风青杨</a>\r\n",
      "\t    \t\t\r\n",
      "\t    \t\t \r\n",
      "\t    \t\t 的帖子<a href=\"http://bbs.tianya.cn/post-free-5462140-1.shtml\">《天涯论坛》</a>\r\n",
      "\t    \t\t \r\n",
      "\t    \t\t \r\n",
      "\t    \t 打赏了1个赞<img src=\"http://static.tianyaui.com/global/dashang/images/propIcon/s/001.png\"/>。\r\n",
      "\r\n",
      "\t    \t\t  \r\n",
      "\t    \t\t  留言：<span>对您的敬仰如滔滔江水连绵不绝。</span>\n",
      "</p>\n",
      "<p class=\"msg\">\n",
      "<a href=\"http://www.tianya.cn/112495517\">u_112495517</a>\r\n",
      "\t    \t\t对\r\n",
      "\t    \t\t<a href=\"http://www.tianya.cn/62863249\">正风青杨</a>\r\n",
      "\t    \t\t\r\n",
      "\t    \t\t \r\n",
      "\t    \t\t 的帖子<a href=\"http://bbs.tianya.cn/post-free-5462140-1.shtml\">《天涯论坛》</a>\r\n",
      "\t    \t\t \r\n",
      "\t    \t\t \r\n",
      "\t    \t 打赏了100个赏金<img src=\"http://static.tianyaui.com/global/dashang/images/propIcon/s/000.png\"/>。\r\n",
      "\r\n",
      "\t    \t\t  \r\n",
      "\t    \t\t  留言：<span>对您的敬仰如滔滔江水连绵不绝。</span>\n",
      "</p>\n",
      "<p class=\"msg\">\n",
      "<a href=\"http://www.tianya.cn/105533551\">草梢上的风</a>\r\n",
      "\t    \t\t对\r\n",
      "\t    \t\t<a href=\"http://www.tianya.cn/62863249\">正风青杨</a>\r\n",
      "\t    \t\t\r\n",
      "\t    \t\t \r\n",
      "\t    \t\t 的帖子<a href=\"http://bbs.tianya.cn/post-free-5459666-1.shtml\">《【风青杨专栏】人大硕士雷洋之死谁该负责？》</a>\r\n",
      "\t    \t\t \r\n",
      "\t    \t\t \r\n",
      "\t    \t 打赏了1个赞<img src=\"http://static.tianyaui.com/global/dashang/images/propIcon/s/001.png\"/>。\r\n",
      "\r\n",
      "\t    \t\t  \r\n",
      "\t    \t\t  留言：<span>说得好！</span>\n",
      "</p>\n",
      "</div>\n",
      "</div>\n",
      "<div _type=\"send\" class=\"tabs-content\">\n",
      "</div>\n",
      "</div>\n",
      "<div class=\"mod-ft\"></div>\n",
      "</div>\n",
      "<div class=\"home-module module-usergroup\">\n",
      "<div class=\"mod-hd\">\n",
      "<strong class=\"title\">TA的部落帖子</strong>\n",
      "<span class=\"subtitle\"><a href=\"http://www.tianya.cn/62863249/group?t=post\" target=\"_blank\">主帖2</a>　<a href=\"http://www.tianya.cn/62863249/group?t=reply\" target=\"_blank\">回帖0</a></span>\n",
      "<a class=\"more\" href=\"http://www.tianya.cn/62863249/group\">更多</a>\n",
      "</div>\n",
      "<div class=\"mod-bd\">\n",
      "<table class=\"posts\">\n",
      "<tr class=\"th-row\">\n",
      "<th class=\"p-title\">帖子名</th>\n",
      "<th class=\"p-block\">部落</th>\n",
      "<th class=\"p-time\">时间</th>\n",
      "</tr>\n",
      "<tr>\n",
      "<td class=\"p-title\"><a href=\"http://groups.tianya.cn/post-9214-a292d35133e049488129e510e14d585d-1.shtml\" target=\"_blank\" title=\"点击：450\n",
      "回复：5\">【风青杨专栏】官员贪10万和1亿均可能判无期合理吗？</a></td>\n",
      "<td><a href=\"http://groups.tianya.cn/list-9214-1.shtml\" target=\"_blank\">畅销书出版</a></td>\n",
      "<td>2014-09-28 09:21</td>\n",
      "</tr>\n",
      "<tr>\n",
      "<td class=\"p-title\"><a href=\"http://groups.tianya.cn/post-9214-1336922c59fe45c8ad9113b423f0f289-1.shtml\" target=\"_blank\" title=\"点击：303\n",
      "回复：1\">【风青杨专栏】母子领证“结婚”的荒唐闹剧何以上演？</a></td>\n",
      "<td><a href=\"http://groups.tianya.cn/list-9214-1.shtml\" target=\"_blank\">畅销书出版</a></td>\n",
      "<td>2014-07-21 13:52</td>\n",
      "</tr>\n",
      "</table>\n",
      "</div>\n",
      "<div class=\"mod-ft\"></div>\n",
      "</div>\n",
      "<div class=\"home-module module-userweilun\">\n",
      "<div class=\"mod-hd\">\n",
      "<strong class=\"title\">所属部落</strong>\n",
      "</div>\n",
      "<div class=\"flexslider carousel\">\n",
      "<ul class=\"slides\">\n",
      "<li><a href=\"http://groups.tianya.cn/list-9214-1.shtml\">\n",
      "<img alt=\"畅销书出版\" src=\"http://img3.laibafile.cn/p/s/172287447.jpg\"/>\n",
      "<p>畅销书出版</p></a></li>\n",
      "</ul>\n",
      "</div>\n",
      "<div class=\"mod-ft\"></div>\n",
      "</div>\n",
      "<div class=\"home-module module-usergame\">\n",
      "<div class=\"mod-hd\">\n",
      "<strong class=\"title\">最近玩过的游戏</strong>\n",
      "<a class=\"more\" href=\"http://game.tianya.cn/\" target=\"_blank\">更多</a>\n",
      "</div>\n",
      "<div class=\"mod-bd\">\n",
      "<ul class=\"gamelist cf\"></ul>\n",
      "</div>\n",
      "<div class=\"mod-ft\"></div>\n",
      "</div>\n",
      "<div class=\"home-module module-userblog\">\n",
      "<div class=\"mod-hd\">\n",
      "<strong class=\"title\">所属博客</strong>\n",
      "<span class=\"subtitle\">\n",
      "<a href=\"http://blog.tianya.cn/blog-4385507-1.shtml\" target=\"_blank\">风青杨的天涯博客</a>　\r\n",
      "\t\t\t\r\n",
      "\r\n",
      "\t\t\t</span>\n",
      "</div>\n",
      "<div class=\"mod-bd\">\n",
      "<table class=\"posts\">\n",
      "<tr>\n",
      "<th class=\"p-title\">博文名</th>\n",
      "<th class=\"p-click\">点击</th>\n",
      "<th class=\"p-reply\">回复</th>\n",
      "</tr>\n",
      "<tr>\n",
      "<td class=\"p-title\"><a href=\"http://blog.tianya.cn/post-4385507-115266022-1.shtml\" target=\"_blank\">教育公平应该从北京上海做起？</a></td>\n",
      "<td>438</td>\n",
      "<td>3</td>\n",
      "</tr>\n",
      "<tr>\n",
      "<td class=\"p-title\"><a href=\"http://blog.tianya.cn/post-4385507-115233664-1.shtml\" target=\"_blank\">留守女童为何频遭性侵犯？</a></td>\n",
      "<td>721</td>\n",
      "<td>7</td>\n",
      "</tr>\n",
      "<tr>\n",
      "<td class=\"p-title\"><a href=\"http://blog.tianya.cn/post-4385507-115210551-1.shtml\" target=\"_blank\">对不起，我并不想知道雷洋如何嫖娼</a></td>\n",
      "<td>1379</td>\n",
      "<td>5</td>\n",
      "</tr>\n",
      "</table>\n",
      "</div>\n",
      "<div class=\"mod-ft\"></div>\n",
      "</div>\n",
      "<div class=\"home-module module-userwenda\">\n",
      "<div class=\"mod-hd\">\n",
      "<strong class=\"title\">TA的问答</strong>\n",
      "</div>\n",
      "<div class=\"mod-bd\">\n",
      "<table class=\"posts\">\n",
      "<tr class=\"th-row\">\n",
      "<th class=\"p-title\">问题标题</th>\n",
      "<th class=\"p-block\">浏览量</th>\n",
      "<th class=\"p-time\">时间</th>\n",
      "</tr>\n",
      "<tr>\n",
      "<td class=\"p-title\"><a href=\"http://wenda.tianya.cn/question/177bl6e2olua0u3ih7aovjgmd0srthj5f8hkr\" target=\"_blank\">[提问]<font color=\"600000\">【风青杨时评】</font>中国的富豪和精英为什么移民？</a></td>\n",
      "<td>180</td>\n",
      "<td>2012-09-18 11:01</td>\n",
      "</tr>\n",
      "<tr>\n",
      "<td class=\"p-title\"><a href=\"http://wenda.tianya.cn/question/174n9q088nmbtod90rscgr11chjnfaf8ekjj0\" target=\"_blank\">[提问]<font color=\"600000\">【风青杨时评】</font>为什么谣言比真相更有市场？</a></td>\n",
      "<td>57</td>\n",
      "<td>2012-08-16 16:46</td>\n",
      "</tr>\n",
      "<tr>\n",
      "<td class=\"p-title\"><a href=\"http://wenda.tianya.cn/question/174n58rn83p8j8me0ca2n1rda0s9mk0pjii7m\" target=\"_blank\">[提问]<font color=\"600000\">【风青杨时评】</font>中国官员应该如何作秀？</a></td>\n",
      "<td>65</td>\n",
      "<td>2012-08-16 15:27</td>\n",
      "</tr>\n",
      "<tr>\n",
      "<td class=\"p-title\"><a href=\"http://wenda.tianya.cn/question/174mu9rvgl78lllglg4st98n5eolvmthnmjgr\" target=\"_blank\">[提问]张召忠的乌鸦嘴是如何炼成的？</a></td>\n",
      "<td>98</td>\n",
      "<td>2012-08-16 13:25</td>\n",
      "</tr>\n",
      "<tr>\n",
      "<td class=\"p-title\"><a href=\"http://wenda.tianya.cn/question/16vd32rtg568lj79209lo2ut1unf09fp96hlb\" target=\"_blank\">[提问]奥巴马如何竟选与营销？</a></td>\n",
      "<td>43</td>\n",
      "<td>2012-06-11 14:18</td>\n",
      "</tr>\n",
      "</table>\n",
      "</div>\n",
      "<div class=\"mod-ft\"></div>\n",
      "</div>\n",
      "<div class=\"home-module module-usersuiji\">\n",
      "<div class=\"mod-hd\">\n",
      "<strong class=\"title\">TA的随记</strong>\n",
      "<a class=\"more\" href=\"javascript:void(0);\">更多</a>\n",
      "</div>\n",
      "<div class=\"mod-bd\">\n",
      "<div id=\"suiji_others_container\"></div>\n",
      "</div>\n",
      "<div class=\"mod-ft\"></div>\n",
      "</div>\n",
      "</div>\n",
      "</div>\n",
      "</div>\n",
      "<div id=\"foot\">\n",
      "<p><a href=\"http://help.tianya.cn/about/about.html\" rel=\"nofollow\" target=\"_blank\">关于天涯</a> | <a href=\"http://help.tianya.cn/about/service.html\" rel=\"nofollow\" target=\"_blank\">广告服务</a> | <a href=\"http://service.tianya.cn/\" rel=\"nofollow\" target=\"_blank\">天涯客服</a> | <a href=\"http://help.tianya.cn/about/ystl.html\" rel=\"nofollow\" target=\"_blank\">隐私和版权</a> | <a href=\"http://help.tianya.cn/about/contact.html\" rel=\"nofollow\" target=\"_blank\">联系我们</a> | <a href=\"http://join.tianya.cn\" rel=\"nofollow\" target=\"_blank\">加入天涯</a> | <a href=\"http://www.tianya.cn/mobile/\" rel=\"nofollow\" target=\"_blank\">手机版</a> | <a href=\"http://service.tianya.cn/jbts.html\" rel=\"nofollow\" target=\"_blank\">举报投诉</a>\n",
      "</p>\n",
      "<p class=\"copyright\">© 1999 - 2016 天涯社区</p>\n",
      "</div>\n",
      "</div>\n",
      "<script charset=\"utf-8\" src=\"http://static.tianyaui.com/global/my/web/static/js/main_89d4c21.js\" type=\"text/javascript\"></script>\n",
      "<script charset=\"utf-8\" src=\"http://static.tianyaui.com/global/my/web/static/js/myty/t_4efeebe.js\" type=\"text/javascript\"></script>\n",
      "<script>\r\n",
      "\tvar isTwitterDeletePower = '0';\r\n",
      "</script>\n",
      "<script charset=\"utf-8\" src=\"http://static.tianyaui.com/global/my/web/static/js/home_fb1d9bc.js\" type=\"text/javascript\"></script>\n",
      "<script charset=\"utf-8\" src=\"http://static.tianyaui.com/global/my/web/static/js/suiji/time-line_5bac93d.js\" type=\"text/javascript\"></script>\n",
      "<script charset=\"utf-8\" src=\"http://static.tianyaui.com/global/my/web/static/js/flexslider_5e9a246.js\" type=\"text/javascript\"></script>\n",
      "</body>\n",
      "<script charset=\"GBK\" src=\"http://static.tianyaui.com/global/ty/stat/stat_20080313.js\" type=\"text/javascript\"></script>\n",
      "<script type=\"text/javascript\">\r\n",
      "\t(function() {\r\n",
      "\t\tvar bd = document.createElement('script'); bd.type = 'text/javascript'; bd.async = true;\r\n",
      "\t\tbd.src = 'http://hm.baidu.com/h.js?bc5755e0609123f78d0e816bf7dee255';\r\n",
      "\t\tvar s = document.getElementsByTagName('script')[0]; s.parentNode.insertBefore(bd, s);\r\n",
      "\t})();\r\n",
      "</script>\n",
      "</html>\n"
     ]
    }
   ],
   "source": [
    "url = df.author_page[1]\n",
    "content = urllib2.urlopen(url).read() \n",
    "soup1 = BeautifulSoup(content, \"lxml\") \n",
    "print soup1"
   ]
  },
  {
   "cell_type": "code",
   "execution_count": 83,
   "metadata": {
    "collapsed": false
   },
   "outputs": [
    {
     "data": {
      "text/plain": [
       "<div class=\"atl-pages host-pages\"></div>"
      ]
     },
     "execution_count": 83,
     "metadata": {},
     "output_type": "execute_result"
    }
   ],
   "source": [
    "url_1 = 'http://bbs.tianya.cn' + df.link[10]\n",
    "content = urllib2.urlopen(url_1).read() \n",
    "post_soup = BeautifulSoup(content, \"lxml\") \n",
    "pa = post_soup.find_all('div', {'class', 'atl-item'})\n",
    "b = post_soup.find('div', class_= 'atl-pages')\n",
    "b"
   ]
  },
  {
   "cell_type": "code",
   "execution_count": 85,
   "metadata": {
    "collapsed": false
   },
   "outputs": [
    {
     "data": {
      "text/plain": [
       "<div class=\"atl-pages\"><form action=\"\" method=\"get\" onsubmit=\"return goPage(this,'free',5460564,8);\">\\n<span>\\u4e0a\\u9875</span>\\n<strong>1</strong>\\n<a href=\"/post-free-5460564-2.shtml\">2</a>\\n<a href=\"/post-free-5460564-3.shtml\">3</a>\\n<a href=\"/post-free-5460564-4.shtml\">4</a>\\n\\u2026\\n<a href=\"/post-free-5460564-8.shtml\">8</a>\\n<a class=\"js-keyboard-next\" href=\"/post-free-5460564-2.shtml\">\\u4e0b\\u9875</a>\\n\\xa0\\u5230<input class=\"pagetxt\" name=\"page\" type=\"text\"/>\\u9875\\xa0<input class=\"pagebtn\" maxlength=\"6\" name=\"gopage\" type=\"submit\" value=\"\\u786e\\u5b9a\"/></form></div>"
      ]
     },
     "execution_count": 85,
     "metadata": {},
     "output_type": "execute_result"
    }
   ],
   "source": [
    "url_1 = 'http://bbs.tianya.cn' + df.link[0]\n",
    "content = urllib2.urlopen(url_1).read() \n",
    "post_soup = BeautifulSoup(content, \"lxml\") \n",
    "pa = post_soup.find_all('div', {'class', 'atl-item'})\n",
    "a = post_soup.find('div', {'class', 'atl-pages'})\n",
    "a"
   ]
  },
  {
   "cell_type": "code",
   "execution_count": 86,
   "metadata": {
    "collapsed": false
   },
   "outputs": [
    {
     "data": {
      "text/plain": [
       "<form action=\"\" method=\"get\" onsubmit=\"return goPage(this,'free',5460564,8);\">\\n<span>\\u4e0a\\u9875</span>\\n<strong>1</strong>\\n<a href=\"/post-free-5460564-2.shtml\">2</a>\\n<a href=\"/post-free-5460564-3.shtml\">3</a>\\n<a href=\"/post-free-5460564-4.shtml\">4</a>\\n\\u2026\\n<a href=\"/post-free-5460564-8.shtml\">8</a>\\n<a class=\"js-keyboard-next\" href=\"/post-free-5460564-2.shtml\">\\u4e0b\\u9875</a>\\n\\xa0\\u5230<input class=\"pagetxt\" name=\"page\" type=\"text\"/>\\u9875\\xa0<input class=\"pagebtn\" maxlength=\"6\" name=\"gopage\" type=\"submit\" value=\"\\u786e\\u5b9a\"/></form>"
      ]
     },
     "execution_count": 86,
     "metadata": {},
     "output_type": "execute_result"
    }
   ],
   "source": [
    "a.form"
   ]
  },
  {
   "cell_type": "code",
   "execution_count": 87,
   "metadata": {
    "collapsed": false
   },
   "outputs": [
    {
     "name": "stdout",
     "output_type": "stream",
     "text": [
      "false\n"
     ]
    }
   ],
   "source": [
    "if b.form:\n",
    "    print 'true'\n",
    "else:\n",
    "    print 'false'"
   ]
  },
  {
   "cell_type": "code",
   "execution_count": 88,
   "metadata": {
    "collapsed": true
   },
   "outputs": [],
   "source": [
    "def parsePage(pa):\n",
    "    records = []\n",
    "    for i in pa:\n",
    "        p_info = i.find('a', class_ = 'reportme a-link')\n",
    "        p_time = p_info['replytime']\n",
    "        p_author_id = p_info['authorid']\n",
    "        p_author_name = p_info['author']\n",
    "        p_content = i.find('div', {'class', 'bbs-content'}).text.strip()\n",
    "        p_content = p_content.replace('\\t', '').replace('\\n', '')#.replace(' ', '')\n",
    "        record = p_time + '\\t' + p_author_id+ '\\t' + p_author_name + '\\t'+ p_content\n",
    "        records.append(record)\n",
    "    return records\n",
    "\n",
    "import sys\n",
    "def flushPrint(s):\n",
    "    sys.stdout.write('\\r')\n",
    "    sys.stdout.write('%s' % s)\n",
    "    sys.stdout.flush()"
   ]
  },
  {
   "cell_type": "code",
   "execution_count": 89,
   "metadata": {
    "collapsed": true
   },
   "outputs": [],
   "source": [
    "#获取回帖信息\n",
    "import random\n",
    "import time\n",
    "\n",
    "def crawler(url, file_name):\n",
    "    try:\n",
    "        # open the browser\n",
    "        url_1 = 'http://bbs.tianya.cn' + url\n",
    "        content = urllib2.urlopen(url_1).read() \n",
    "        post_soup = BeautifulSoup(content, \"lxml\") \n",
    "        # how many pages in a post\n",
    "        post_form = post_soup.find('div', {'class', 'atl-pages'})\n",
    "        if post_form.form:\n",
    "            post_pages = post_form.form['onsubmit'].split(',')[-1].split(')')[0]\n",
    "            post_pages = int(post_pages)\n",
    "            url_base = '-'.join(url_1.split('-')[:-1]) + '-%d.shtml'\n",
    "        else:\n",
    "            post_pages = 1\n",
    "        # for the first page\n",
    "        pa = post_soup.find_all('div', {'class', 'atl-item'})\n",
    "        records = parsePage(pa)\n",
    "        with open(file_name,'a') as p: \n",
    "            for record in records:    \n",
    "                p.write('1'+ '\\t' + url + '\\t' + record.encode('utf-8')+\"\\n\") \n",
    "        # for the 2nd+ pages\n",
    "        if post_pages > 1:\n",
    "            for page_num in range(2, post_pages+1):\n",
    "                time.sleep(random.random())\n",
    "                flushPrint(page_num)\n",
    "                url2 =url_base  % page_num\n",
    "                content = urllib2.urlopen(url2).read() \n",
    "                post_soup = BeautifulSoup(content, \"lxml\") \n",
    "                pa = post_soup.find_all('div', {'class', 'atl-item'})\n",
    "                records = parsePage(pa)\n",
    "                with open(file_name,'a') as p: \n",
    "                    for record in records:    \n",
    "                        p.write(str(page_num) + '\\t' +url + '\\t' + record.encode('utf-8')+\"\\n\") \n",
    "        else:\n",
    "            pass\n",
    "    except Exception, e:\n",
    "        print e\n",
    "        pass"
   ]
  },
  {
   "cell_type": "code",
   "execution_count": 90,
   "metadata": {
    "collapsed": false
   },
   "outputs": [
    {
     "data": {
      "text/plain": [
       "'/post-free-5460335-1.shtml'"
      ]
     },
     "execution_count": 90,
     "metadata": {},
     "output_type": "execute_result"
    }
   ],
   "source": [
    "df.link[2]"
   ]
  },
  {
   "cell_type": "code",
   "execution_count": 91,
   "metadata": {
    "collapsed": false
   },
   "outputs": [
    {
     "name": "stdout",
     "output_type": "stream",
     "text": [
      "<urlopen error [Errno 8] nodename nor servname provided, or not known>\n"
     ]
    }
   ],
   "source": [
    "url = 'http://bbs.tianya.cn' + df.link[2]\n",
    "file_name = '/Users/zouye/cjc2016/homework/zouye/homework2/tianya_bbs_leiyang_test.txt'\n",
    "crawler(url, file_name)"
   ]
  },
  {
   "cell_type": "code",
   "execution_count": 92,
   "metadata": {
    "collapsed": false,
    "scrolled": true
   },
   "outputs": [
    {
     "name": "stdout",
     "output_type": "stream",
     "text": [
      "/post-free-5460564-1.shtmlThis it the post of : 0\n",
      "/post-free-5460723-1.shtmlThis it the post of : 10\n",
      "/post-free-5460130-1.shtmlThis it the post of : 20\n",
      "/post-free-5461786-1.shtmlThis it the post of : 30\n",
      "/post-free-5461958-1.shtmlThis it the post of : 40\n",
      "/post-free-5463219-1.shtmlThis it the post of : 50\n",
      "/post-free-5464793-1.shtmlHTTP Error 404: Not Found\n",
      "/post-free-5464521-1.shtmlThis it the post of : 60\n",
      "/post-free-5465064-1.shtmlHTTP Error 404: Not Found\n",
      "/post-free-5463005-1.shtmlThis it the post of : 70\n",
      "/post-free-5464441-1.shtmlThis it the post of : 80\n",
      "/post-free-5462394-1.shtmlThis it the post of : 90\n",
      "/post-free-5462115-1.shtmlThis it the post of : 100\n",
      "/post-free-5465070-1.shtmlHTTP Error 404: Not Found\n",
      "/post-free-5463681-1.shtmlThis it the post of : 110\n",
      "/post-free-5463996-1.shtmlThis it the post of : 120\n",
      "/post-free-5462860-1.shtmlThis it the post of : 130\n",
      "/post-free-5460737-1.shtmlThis it the post of : 140\n",
      "/post-free-5461365-1.shtmlThis it the post of : 150\n",
      "/post-free-5460954-1.shtmlThis it the post of : 160\n",
      "/post-free-5462196-1.shtmlThis it the post of : 170\n",
      "/post-free-5463194-1.shtmlThis it the post of : 180\n",
      "/post-free-5465063-1.shtmlThis it the post of : 190\n",
      "/post-free-5465237-1.shtmlThis it the post of : 200\n",
      "/post-free-5463696-1.shtmlThis it the post of : 210\n",
      "/post-free-5464327-1.shtmlThis it the post of : 220\n",
      "/post-free-5464454-1.shtmlThis it the post of : 230\n",
      "/post-free-5465735-1.shtml"
     ]
    }
   ],
   "source": [
    "for k, link in enumerate(df.link):\n",
    "    flushPrint(link)\n",
    "    if k % 10== 0:\n",
    "        print 'This it the post of : ' + str(k)\n",
    "    file_name = '/Users/zouye/cjc2016/homework/zouye/homework2/tianya_bbs_leiyang_network.txt'\n",
    "    crawler(link, file_name)"
   ]
  },
  {
   "cell_type": "code",
   "execution_count": null,
   "metadata": {
    "collapsed": true
   },
   "outputs": [],
   "source": []
  }
 ],
 "metadata": {
  "kernelspec": {
   "display_name": "Python 2",
   "language": "python",
   "name": "python2"
  },
  "language_info": {
   "codemirror_mode": {
    "name": "ipython",
    "version": 2
   },
   "file_extension": ".py",
   "mimetype": "text/x-python",
   "name": "python",
   "nbconvert_exporter": "python",
   "pygments_lexer": "ipython2",
   "version": "2.7.11"
  }
 },
 "nbformat": 4,
 "nbformat_minor": 0
}
