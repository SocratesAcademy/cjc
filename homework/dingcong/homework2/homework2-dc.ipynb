{
 "cells": [
  {
   "cell_type": "markdown",
   "metadata": {},
   "source": [
    "## homework2 丁聪 学号15210130052 \n",
    "# 政府工作报告"
   ]
  },
  {
   "cell_type": "code",
   "execution_count": 1,
   "metadata": {
    "collapsed": false
   },
   "outputs": [
    {
     "data": {
      "text/html": [
       "<iframe src=http://www.hprc.org.cn/wxzl/wxysl/lczf/ width=1000 height=500></iframe>"
      ],
      "text/plain": [
       "<IPython.core.display.HTML object>"
      ]
     },
     "execution_count": 1,
     "metadata": {},
     "output_type": "execute_result"
    }
   ],
   "source": [
    "import urllib2\n",
    "from bs4 import BeautifulSoup\n",
    "from IPython.display import display_html, HTML\n",
    "HTML('<iframe src=http://www.hprc.org.cn/wxzl/wxysl/lczf/ width=1000 height=500></iframe>')"
   ]
  },
  {
   "cell_type": "code",
   "execution_count": 4,
   "metadata": {
    "collapsed": false
   },
   "outputs": [
    {
     "data": {
      "text/plain": [
       "u'./d12qgrdzfbg/201603/t20160318_369509.html'"
      ]
     },
     "execution_count": 4,
     "metadata": {},
     "output_type": "execute_result"
    }
   ],
   "source": [
    "url = \"http://www.hprc.org.cn/wxzl/wxysl/lczf/\" \n",
    "content = urllib2.urlopen(url).read().decode('gb18030') \n",
    "soup = BeautifulSoup(content, 'html.parser') # get the link for each year\n",
    "content = urllib2.urlopen(url).read().decode('gb18030') \n",
    "soup = BeautifulSoup(content, 'html.parser') \n",
    "# links = soup.find_all('td', {'class', 'bl'})   \n",
    "links = soup.select('.bl a')\n",
    "links[0]['href']"
   ]
  },
  {
   "cell_type": "code",
   "execution_count": 5,
   "metadata": {
    "collapsed": false
   },
   "outputs": [
    {
     "name": "stdout",
     "output_type": "stream",
     "text": [
      "47\n"
     ]
    }
   ],
   "source": [
    "print len(links)"
   ]
  },
  {
   "cell_type": "code",
   "execution_count": 6,
   "metadata": {
    "collapsed": false
   },
   "outputs": [
    {
     "name": "stdout",
     "output_type": "stream",
     "text": [
      "./d12qgrdzfbg/201603/t20160318_369509.html\n"
     ]
    }
   ],
   "source": [
    "print links[0]['href']"
   ]
  },
  {
   "cell_type": "code",
   "execution_count": 7,
   "metadata": {
    "collapsed": false
   },
   "outputs": [
    {
     "data": {
      "text/plain": [
       "<a href=\"./d12qgrdzfbg/201603/t20160318_369509.html\" target=\"_blank\" title=\"2016\\u5e74\\u653f\\u5e9c\\u5de5\\u4f5c\\u62a5\\u544a\">2016\\u5e74\\u653f\\u5e9c\\u5de5\\u4f5c\\u62a5\\u544a</a>"
      ]
     },
     "execution_count": 7,
     "metadata": {},
     "output_type": "execute_result"
    }
   ],
   "source": [
    "links=soup.select('.bl a[href]')\n",
    "links[0]"
   ]
  },
  {
   "cell_type": "code",
   "execution_count": 8,
   "metadata": {
    "collapsed": false
   },
   "outputs": [
    {
     "data": {
      "text/plain": [
       "[u'http://www.hprc.org.cn/wxzl/wxysl/lczf/d12qgrdzfbg/201603/t20160318_369509.html',\n",
       " u'http://www.hprc.org.cn/wxzl/wxysl/lczf/d12qgrdzfbg/201503/t20150318_319434.html',\n",
       " u'http://www.hprc.org.cn/wxzl/wxysl/lczf/d12qgrdzfbg/201403/t20140315_270863.html',\n",
       " u'http://www.hprc.org.cn/wxzl/wxysl/lczf/d12qgrdzfbg/201402/t20140214_266528.html',\n",
       " u'http://www.hprc.org.cn/wxzl/wxysl/lczf/dishiyijie/201402/t20140214_266527.html']"
      ]
     },
     "execution_count": 8,
     "metadata": {},
     "output_type": "execute_result"
    }
   ],
   "source": [
    "hyperlinks = [url + i['href'].split('./')[1] for i in links]\n",
    "hyperlinks[:5]"
   ]
  },
  {
   "cell_type": "code",
   "execution_count": 9,
   "metadata": {
    "collapsed": false
   },
   "outputs": [
    {
     "data": {
      "text/html": [
       "<iframe src=http://www.hprc.org.cn/wxzl/wxysl/lczf/dishiyijie/200908/t20090817_27495.html width=1000 height=500></iframe>"
      ],
      "text/plain": [
       "<IPython.core.display.HTML object>"
      ]
     },
     "execution_count": 9,
     "metadata": {},
     "output_type": "execute_result"
    }
   ],
   "source": [
    "from IPython.display import display_html, HTML\n",
    "HTML('<iframe src=http://www.hprc.org.cn/wxzl/wxysl/lczf/dishiyijie/200908/t20090817_27495.html \\\n",
    "width=1000 height=500></iframe>')"
   ]
  },
  {
   "cell_type": "code",
   "execution_count": 10,
   "metadata": {
    "collapsed": false
   },
   "outputs": [
    {
     "data": {
      "text/plain": [
       "<script>\\n\\tvar currentPage = 0;//\\u6240\\u5728\\u9875\\u4ece0\\u5f00\\u59cb\\n\\tvar prevPage = currentPage-1//\\u4e0a\\u4e00\\u9875\\n\\tvar \\u4e0b\\u4e00\\u9875Page = currentPage+1//\\u4e0b\\u4e00\\u9875\\n\\tvar countPage = 9//\\u5171\\u591a\\u5c11\\u9875\\n\\t//document.write(\"\\u5171\"+countPage+\"\\u9875&nbsp;&nbsp;\");\\n\\t\\n\\t//\\u5faa\\u73af\\n\\tvar num = 17;\\n\\tfor(var i=0+(currentPage-1-(currentPage-1)%num) ; i<=(num+(currentPage-1-(currentPage-1)%num))&&(i<countPage) ; i++){\\n\\t\\tif(countPage >1){\\n\\t\\t\\tif(currentPage==i)\\n\\t\\t\\t\\tdocument.write(\"\\u3010<span style=\\\\\"color:#FF0000;\\\\\" class=\\\\\"hui14_30_h\\\\\">\"+(i+1)+\"</span>\\u3011&nbsp;\");\\n\\t\\t\\telse if(i==0)\\n\\t\\t\\t\\tdocument.write(\"<a href=\\\\\"t20090817_27495.html\\\\\" class=\\\\\"hui14_30_h\\\\\">\\u3010\"+(i+1)+\"\\u3011</a>&nbsp;\");\\n\\t\\t\\telse\\n\\t\\t\\t\\tdocument.write(\"<a href=\\\\\"t20090817_27495\"+\"_\" + i + \".\"+\"html\\\\\" class=\\\\\"hui14_30_h\\\\\">\\u3010\"+(i+1)+\"\\u3011</a>&nbsp;\");\\n\\t\\t}\\t\\n\\t}\\n\\t\\n\\tdocument.write(\"<br><br>\");\\n\\t//\\u8bbe\\u7f6e\\u4e0a\\u4e00\\u9875\\u4ee3\\u7801\\n\\tif(countPage>1&&currentPage!=0&&currentPage!=1)\\n\\t\\tdocument.write(\"<a href=\\\\\"t20090817_27495\"+\"_\" + prevPage + \".\"+\"html\\\\\"><span style=\\\\\"color:#0033FF;font-weight:bold\\\\\">\\u4e0a\\u4e00\\u9875</span></a>&nbsp;\");\\n\\telse if(countPage>1&&currentPage!=0&&currentPage==1)\\n\\t\\tdocument.write(\"<a href=\\\\\"t20090817_27495.html\\\\\"><span style=\\\\\"color:#0033FF;font-weight:bold\\\\\">\\u4e0a\\u4e00\\u9875</span></a>&nbsp;\");\\n\\t//else\\n\\t//\\tdocument.write(\"\\u4e0a\\u4e00\\u9875 &nbsp;\");\\n\\t\\n\\t\\n\\t//\\u8bbe\\u7f6e\\u4e0b\\u4e00\\u9875\\u4ee3\\u7801 \\n\\tif(countPage>1&&currentPage!=(countPage-1))\\n\\t\\tdocument.write(\"<a href=\\\\\"t20090817_27495\"+\"_\" + \\u4e0b\\u4e00\\u9875Page + \".\"+\"html\\\\\" ><span style=\\\\\"color:#0033FF;font-weight:bold\\\\\">\\u4e0b\\u4e00\\u9875</span></a> &nbsp;\");\\n\\t//else\\n\\t//\\tdocument.write(\"\\u4e0b\\u4e00\\u9875 &nbsp;\");\\n\\t\\t\\t\\t\\t \\n\\t</script>"
      ]
     },
     "execution_count": 10,
     "metadata": {},
     "output_type": "execute_result"
    }
   ],
   "source": [
    "url_i = 'http://www.hprc.org.cn/wxzl/wxysl/lczf/dishiyijie/200908/t20090817_27495.html'\n",
    "content = urllib2.urlopen(url_i).read().decode('gb18030')  \n",
    "soup = BeautifulSoup(content, 'html.parser') \n",
    "#scripts = soup.find_all('script')\n",
    "#scripts[0]\n",
    "scripts = soup.select('td script')[0]\n",
    "scripts"
   ]
  },
  {
   "cell_type": "code",
   "execution_count": 11,
   "metadata": {
    "collapsed": false
   },
   "outputs": [
    {
     "name": "stdout",
     "output_type": "stream",
     "text": [
      "\n",
      "\tvar currentPage = 0;//所在页从0开始\n",
      "\tvar prevPage = currentPage-1//上一页\n",
      "\tvar 下一页Page = currentPage+1//下一页\n",
      "\tvar countPage = 9//共多少页\n",
      "\t//document.write(\"共\"+countPage+\"页&nbsp;&nbsp;\");\n",
      "\t\n",
      "\t//循环\n",
      "\tvar num = 17;\n",
      "\tfor(var i=0+(currentPage-1-(currentPage-1)%num) ; i<=(num+(currentPage-1-(currentPage-1)%num))&&(i<countPage) ; i++){\n",
      "\t\tif(countPage >1){\n",
      "\t\t\tif(currentPage==i)\n",
      "\t\t\t\tdocument.write(\"【<span style=\\\"color:#FF0000;\\\" class=\\\"hui14_30_h\\\">\"+(i+1)+\"</span>】&nbsp;\");\n",
      "\t\t\telse if(i==0)\n",
      "\t\t\t\tdocument.write(\"<a href=\\\"t20090817_27495.html\\\" class=\\\"hui14_30_h\\\">【\"+(i+1)+\"】</a>&nbsp;\");\n",
      "\t\t\telse\n",
      "\t\t\t\tdocument.write(\"<a href=\\\"t20090817_27495\"+\"_\" + i + \".\"+\"html\\\" class=\\\"hui14_30_h\\\">【\"+(i+1)+\"】</a>&nbsp;\");\n",
      "\t\t}\t\n",
      "\t}\n",
      "\t\n",
      "\tdocument.write(\"<br><br>\");\n",
      "\t//设置上一页代码\n",
      "\tif(countPage>1&&currentPage!=0&&currentPage!=1)\n",
      "\t\tdocument.write(\"<a href=\\\"t20090817_27495\"+\"_\" + prevPage + \".\"+\"html\\\"><span style=\\\"color:#0033FF;font-weight:bold\\\">上一页</span></a>&nbsp;\");\n",
      "\telse if(countPage>1&&currentPage!=0&&currentPage==1)\n",
      "\t\tdocument.write(\"<a href=\\\"t20090817_27495.html\\\"><span style=\\\"color:#0033FF;font-weight:bold\\\">上一页</span></a>&nbsp;\");\n",
      "\t//else\n",
      "\t//\tdocument.write(\"上一页 &nbsp;\");\n",
      "\t\n",
      "\t\n",
      "\t//设置下一页代码 \n",
      "\tif(countPage>1&&currentPage!=(countPage-1))\n",
      "\t\tdocument.write(\"<a href=\\\"t20090817_27495\"+\"_\" + 下一页Page + \".\"+\"html\\\" ><span style=\\\"color:#0033FF;font-weight:bold\\\">下一页</span></a> &nbsp;\");\n",
      "\t//else\n",
      "\t//\tdocument.write(\"下一页 &nbsp;\");\n",
      "\t\t\t\t\t \n",
      "\t\n"
     ]
    }
   ],
   "source": [
    "print scripts.text"
   ]
  },
  {
   "cell_type": "code",
   "execution_count": 12,
   "metadata": {
    "collapsed": false
   },
   "outputs": [
    {
     "data": {
      "text/plain": [
       "9"
      ]
     },
     "execution_count": 12,
     "metadata": {},
     "output_type": "execute_result"
    }
   ],
   "source": [
    "countPage= int(''.join(scripts).split('countPage = ')[1].split('//')[0])\n",
    "countPage"
   ]
  },
  {
   "cell_type": "code",
   "execution_count": 13,
   "metadata": {
    "collapsed": true
   },
   "outputs": [],
   "source": [
    "def crawler(url_i):\n",
    "    content = urllib2.urlopen(url_i).read().decode('gb18030')  \n",
    "    soup = BeautifulSoup(content, 'html.parser') \n",
    "    year = soup.find('span', {'class', 'huang16c'}).text[:4]\n",
    "    year = int(year)\n",
    "    report = ''.join(s.text for s in soup('p'))\n",
    "    # 找到分页信息\n",
    "    scripts = soup.find_all('script')\n",
    "    countPage = int(''.join(scripts[1]).split('countPage = ')[1].split('//')[0])\n",
    "    if countPage == 1:\n",
    "        pass\n",
    "    else:\n",
    "        for i in range(1, countPage):\n",
    "            url_child = url_i.split('.html')[0] +'_'+str(i)+'.html'\n",
    "            content = urllib2.urlopen(url_child).read().decode('gb18030') \n",
    "            soup = BeautifulSoup(content) \n",
    "            report_child = ''.join(s.text for s in soup('p'))\n",
    "            report = report + report_child\n",
    "    return year, report"
   ]
  },
  {
   "cell_type": "code",
   "execution_count": 196,
   "metadata": {
    "collapsed": false
   },
   "outputs": [
    {
     "name": "stdout",
     "output_type": "stream",
     "text": [
      "2016\n",
      "2015\n",
      "2014\n",
      "2013\n",
      "2012\n",
      "2011\n",
      "2010\n",
      "2009\n",
      "2008\n",
      "2007\n",
      "2006\n",
      "2005\n",
      "2004\n",
      "2003\n",
      "2002\n",
      "2001\n",
      "2000\n",
      "1999\n",
      "1998\n",
      "1997\n",
      "1996\n",
      "1995\n",
      "1994\n",
      "1993\n",
      "1992\n",
      "1991\n",
      "1990\n",
      "1989\n",
      "1988\n",
      "1987\n",
      "1986\n",
      "1985\n",
      "1984\n",
      "1983\n",
      "1982\n",
      "1981\n",
      "1980\n",
      "1979\n",
      "1978\n",
      "1975\n",
      "1964\n",
      "1959\n",
      "1960\n",
      "1957\n",
      "1956\n",
      "1955\n",
      "1954\n"
     ]
    }
   ],
   "source": [
    "reports = {}\n",
    "for link in hyperlinks:\n",
    "    year, report = crawler(link)\n",
    "    print year\n",
    "    reports[year] = report "
   ]
  },
  {
   "cell_type": "code",
   "execution_count": 197,
   "metadata": {
    "collapsed": true
   },
   "outputs": [],
   "source": [
    "with open('/Users/dingcong/cjc2016/homework/dingcong/homework2/gov_reports1954-2016.txt', 'wb') as f:\n",
    "    for r in reports:\n",
    "        line = str(r)+'\\t'+reports[r].replace('\\n', '\\t') +'\\n'\n",
    "        f.write(line.encode('utf-8'))"
   ]
  },
  {
   "cell_type": "markdown",
   "metadata": {},
   "source": [
    "# 天涯杂谈“高考”相关2015年至今帖子的抓取"
   ]
  },
  {
   "cell_type": "code",
   "execution_count": 104,
   "metadata": {
    "collapsed": true
   },
   "outputs": [],
   "source": [
    "import urllib2\n",
    "from bs4 import BeautifulSoup"
   ]
  },
  {
   "cell_type": "code",
   "execution_count": 105,
   "metadata": {
    "collapsed": false
   },
   "outputs": [
    {
     "data": {
      "text/html": [
       "<iframe src=\"http://bbs.tianya.cn/list.jsp?item=free&order=1&nextid=1&k=%E9%AB%98%E8%80%83\" width=1000 height=500></iframe>"
      ],
      "text/plain": [
       "<IPython.core.display.HTML object>"
      ]
     },
     "execution_count": 105,
     "metadata": {},
     "output_type": "execute_result"
    }
   ],
   "source": [
    "from IPython.display import display_html, HTML\n",
    "HTML('<iframe src=\"http://bbs.tianya.cn/list.jsp?item=free&order=1&nextid=1&k=%E9%AB%98%E8%80%83\" width=1000 height=500></iframe>')"
   ]
  },
  {
   "cell_type": "code",
   "execution_count": 111,
   "metadata": {
    "collapsed": false
   },
   "outputs": [],
   "source": [
    "page_num = 0\n",
    "url = r\"http://bbs.tianya.cn/list.jsp?item=free&order=1&nextid=1&k=高考\"\n",
    "content = urllib2.urlopen(url).read() #获取网页的html文本\n",
    "soup = BeautifulSoup(content, \"lxml\") \n",
    "articles = soup.find_all('tr')"
   ]
  },
  {
   "cell_type": "code",
   "execution_count": 112,
   "metadata": {
    "collapsed": false
   },
   "outputs": [],
   "source": [
    "def crawler(page_num, file_name):\n",
    "    try:\n",
    "        # open the browser\n",
    "        url = \"http://bbs.tianya.cn/list.jsp?item=free&order=1&nextid=%d&k=高考\" % page_num\n",
    "        content = urllib2.urlopen(url).read() #获取网页的html文本\n",
    "        soup = BeautifulSoup(content, \"lxml\") \n",
    "        articles = soup.find_all('tr')\n",
    "        # write down info\n",
    "        for i in articles[1:]:\n",
    "            td = i.find_all('td')\n",
    "            title = td[0].text.strip()\n",
    "            title_url = td[0].a['href']\n",
    "            author = td[1].text\n",
    "            author_url = td[1].a['href']\n",
    "            views = td[2].text\n",
    "            replies = td[3].text\n",
    "            date = td[4]['title']\n",
    "            yy=date[:4]\n",
    "            record = title + '\\t' + title_url+ '\\t' + author + '\\t'+ \\\n",
    "                        author_url + '\\t' + views+ '\\t'  + replies+ '\\t'+ date\n",
    "            if yy in [\"2015\", \"2016\"] :\n",
    "                with open(file_name,'a') as p: # '''Note'''：Ａppend mode, run only once!\n",
    "                        p.write(record.encode('utf-8')+\"\\n\") ##!!encode here to utf-8 to avoid encoding\n",
    "            else:\n",
    "                pass\n",
    "    except Exception, e:\n",
    "        print e\n",
    "        pass"
   ]
  },
  {
   "cell_type": "code",
   "execution_count": 113,
   "metadata": {
    "collapsed": false
   },
   "outputs": [
    {
     "name": "stdout",
     "output_type": "stream",
     "text": [
      "0\n",
      "1\n",
      "2\n",
      "3\n",
      "4\n",
      "5\n",
      "6\n",
      "7\n",
      "8\n",
      "9\n",
      "10\n",
      "11\n",
      "12\n",
      "13\n",
      "14\n",
      "15\n",
      "16\n",
      "17\n",
      "18\n",
      "19\n"
     ]
    }
   ],
   "source": [
    "for page_num in range(20): \n",
    "    print (page_num)\n",
    "    crawler(page_num, '/Users/dingcong/cjc2016/homework/dingcong/homework2/tianya_bbs_gaokao_list.txt') "
   ]
  },
  {
   "cell_type": "code",
   "execution_count": 114,
   "metadata": {
    "collapsed": false
   },
   "outputs": [
    {
     "data": {
      "text/html": [
       "<div>\n",
       "<table border=\"1\" class=\"dataframe\">\n",
       "  <thead>\n",
       "    <tr style=\"text-align: right;\">\n",
       "      <th></th>\n",
       "      <th>0</th>\n",
       "      <th>1</th>\n",
       "      <th>2</th>\n",
       "      <th>3</th>\n",
       "      <th>4</th>\n",
       "      <th>5</th>\n",
       "      <th>6</th>\n",
       "    </tr>\n",
       "  </thead>\n",
       "  <tbody>\n",
       "    <tr>\n",
       "      <th>0</th>\n",
       "      <td>都别吵,看看2013-2015年全国各省高考一本录取率排名榜(转载)</td>\n",
       "      <td>/post-free-5465849-1.shtml</td>\n",
       "      <td>地球上空的鹰</td>\n",
       "      <td>http://www.tianya.cn/107096213</td>\n",
       "      <td>0</td>\n",
       "      <td>0</td>\n",
       "      <td>2016-05-15 18:12</td>\n",
       "    </tr>\n",
       "    <tr>\n",
       "      <th>1</th>\n",
       "      <td>教改新闻:东三省明年起废除高考</td>\n",
       "      <td>/post-free-5465814-1.shtml</td>\n",
       "      <td>赤脚医生zg</td>\n",
       "      <td>http://www.tianya.cn/111686899</td>\n",
       "      <td>52</td>\n",
       "      <td>0</td>\n",
       "      <td>2016-05-15 17:14</td>\n",
       "    </tr>\n",
       "    <tr>\n",
       "      <th>2</th>\n",
       "      <td>胡文江,一个为高考减招摇旗呐喊的文痞</td>\n",
       "      <td>/post-free-5465517-1.shtml</td>\n",
       "      <td>泉水丁冬响88</td>\n",
       "      <td>http://www.tianya.cn/3176523</td>\n",
       "      <td>124</td>\n",
       "      <td>3</td>\n",
       "      <td>2016-05-15 10:52</td>\n",
       "    </tr>\n",
       "    <tr>\n",
       "      <th>3</th>\n",
       "      <td>热点一个接一个,魏则西/百度/莆田系,雷洋,高考减招,新的来,旧...</td>\n",
       "      <td>/post-free-5465513-1.shtml</td>\n",
       "      <td>highergren</td>\n",
       "      <td>http://www.tianya.cn/81555116</td>\n",
       "      <td>167</td>\n",
       "      <td>2</td>\n",
       "      <td>2016-05-15 10:47</td>\n",
       "    </tr>\n",
       "    <tr>\n",
       "      <th>4</th>\n",
       "      <td>江苏减招后续~ 学校竟然逼着家长前同意书,不签不能参加高考</td>\n",
       "      <td>/post-free-5465455-1.shtml</td>\n",
       "      <td>周先森的小屁孩</td>\n",
       "      <td>http://www.tianya.cn/110379646</td>\n",
       "      <td>573</td>\n",
       "      <td>11</td>\n",
       "      <td>2016-05-15 09:54</td>\n",
       "    </tr>\n",
       "    <tr>\n",
       "      <th>5</th>\n",
       "      <td>江苏近年高考人数下降是外调指标的原因,此种说法是偷换概念!</td>\n",
       "      <td>/post-free-5465454-1.shtml</td>\n",
       "      <td>碧水蓝天2016</td>\n",
       "      <td>http://www.tianya.cn/108346206</td>\n",
       "      <td>175</td>\n",
       "      <td>0</td>\n",
       "      <td>2016-05-15 09:54</td>\n",
       "    </tr>\n",
       "    <tr>\n",
       "      <th>6</th>\n",
       "      <td>江苏高考支援中西部38000人,北京没变化是对江苏利多的终极分...</td>\n",
       "      <td>/post-free-5465452-1.shtml</td>\n",
       "      <td>不在上海</td>\n",
       "      <td>http://www.tianya.cn/18854672</td>\n",
       "      <td>399</td>\n",
       "      <td>9</td>\n",
       "      <td>2016-05-15 09:47</td>\n",
       "    </tr>\n",
       "    <tr>\n",
       "      <th>7</th>\n",
       "      <td>作为魔都新移民,高考地区不平衡制度的既得利益者,强烈希望就...</td>\n",
       "      <td>/post-free-5465399-1.shtml</td>\n",
       "      <td>蓓蓓喜羊羊</td>\n",
       "      <td>http://www.tianya.cn/93180954</td>\n",
       "      <td>181</td>\n",
       "      <td>6</td>\n",
       "      <td>2016-05-15 07:52</td>\n",
       "    </tr>\n",
       "    <tr>\n",
       "      <th>8</th>\n",
       "      <td>2016高考招生计划支援中西部的骗局穿帮了</td>\n",
       "      <td>/post-free-5465383-1.shtml</td>\n",
       "      <td>wwwhpwfh</td>\n",
       "      <td>http://www.tianya.cn/7386826</td>\n",
       "      <td>420</td>\n",
       "      <td>3</td>\n",
       "      <td>2016-05-15 06:45</td>\n",
       "    </tr>\n",
       "    <tr>\n",
       "      <th>9</th>\n",
       "      <td>高考减招,北京等地一毛不拔,最终受害者是当地的土着.</td>\n",
       "      <td>/post-free-5465358-1.shtml</td>\n",
       "      <td>llxxyylx</td>\n",
       "      <td>http://www.tianya.cn/16560708</td>\n",
       "      <td>10119</td>\n",
       "      <td>59</td>\n",
       "      <td>2016-05-15 04:04</td>\n",
       "    </tr>\n",
       "  </tbody>\n",
       "</table>\n",
       "</div>"
      ],
      "text/plain": [
       "                                     0                           1  \\\n",
       "0   都别吵,看看2013-2015年全国各省高考一本录取率排名榜(转载)  /post-free-5465849-1.shtml   \n",
       "1                      教改新闻:东三省明年起废除高考  /post-free-5465814-1.shtml   \n",
       "2                   胡文江,一个为高考减招摇旗呐喊的文痞  /post-free-5465517-1.shtml   \n",
       "3  热点一个接一个,魏则西/百度/莆田系,雷洋,高考减招,新的来,旧...  /post-free-5465513-1.shtml   \n",
       "4        江苏减招后续~ 学校竟然逼着家长前同意书,不签不能参加高考  /post-free-5465455-1.shtml   \n",
       "5        江苏近年高考人数下降是外调指标的原因,此种说法是偷换概念!  /post-free-5465454-1.shtml   \n",
       "6   江苏高考支援中西部38000人,北京没变化是对江苏利多的终极分...  /post-free-5465452-1.shtml   \n",
       "7     作为魔都新移民,高考地区不平衡制度的既得利益者,强烈希望就...  /post-free-5465399-1.shtml   \n",
       "8                2016高考招生计划支援中西部的骗局穿帮了  /post-free-5465383-1.shtml   \n",
       "9           高考减招,北京等地一毛不拔,最终受害者是当地的土着.  /post-free-5465358-1.shtml   \n",
       "\n",
       "            2                               3      4   5                 6  \n",
       "0      地球上空的鹰  http://www.tianya.cn/107096213      0   0  2016-05-15 18:12  \n",
       "1      赤脚医生zg  http://www.tianya.cn/111686899     52   0  2016-05-15 17:14  \n",
       "2     泉水丁冬响88    http://www.tianya.cn/3176523    124   3  2016-05-15 10:52  \n",
       "3  highergren   http://www.tianya.cn/81555116    167   2  2016-05-15 10:47  \n",
       "4     周先森的小屁孩  http://www.tianya.cn/110379646    573  11  2016-05-15 09:54  \n",
       "5    碧水蓝天2016  http://www.tianya.cn/108346206    175   0  2016-05-15 09:54  \n",
       "6        不在上海   http://www.tianya.cn/18854672    399   9  2016-05-15 09:47  \n",
       "7       蓓蓓喜羊羊   http://www.tianya.cn/93180954    181   6  2016-05-15 07:52  \n",
       "8    wwwhpwfh    http://www.tianya.cn/7386826    420   3  2016-05-15 06:45  \n",
       "9    llxxyylx   http://www.tianya.cn/16560708  10119  59  2016-05-15 04:04  "
      ]
     },
     "execution_count": 114,
     "metadata": {},
     "output_type": "execute_result"
    }
   ],
   "source": [
    "import pandas as pd\n",
    "df = pd.read_csv('/Users/dingcong/cjc2016/homework/dingcong/homework2/tianya_bbs_gaokao_list.txt', sep = \"\\t\", header=None)\n",
    "df[:10]"
   ]
  },
  {
   "cell_type": "code",
   "execution_count": 115,
   "metadata": {
    "collapsed": false
   },
   "outputs": [
    {
     "data": {
      "text/plain": [
       "688"
      ]
     },
     "execution_count": 115,
     "metadata": {},
     "output_type": "execute_result"
    }
   ],
   "source": [
    "len(df)"
   ]
  },
  {
   "cell_type": "code",
   "execution_count": 116,
   "metadata": {
    "collapsed": false
   },
   "outputs": [
    {
     "data": {
      "text/html": [
       "<div>\n",
       "<table border=\"1\" class=\"dataframe\">\n",
       "  <thead>\n",
       "    <tr style=\"text-align: right;\">\n",
       "      <th></th>\n",
       "      <th>title</th>\n",
       "      <th>link</th>\n",
       "      <th>author</th>\n",
       "      <th>author_page</th>\n",
       "      <th>click</th>\n",
       "      <th>reply</th>\n",
       "      <th>time</th>\n",
       "    </tr>\n",
       "  </thead>\n",
       "  <tbody>\n",
       "    <tr>\n",
       "      <th>0</th>\n",
       "      <td>都别吵,看看2013-2015年全国各省高考一本录取率排名榜(转载)</td>\n",
       "      <td>/post-free-5465849-1.shtml</td>\n",
       "      <td>地球上空的鹰</td>\n",
       "      <td>http://www.tianya.cn/107096213</td>\n",
       "      <td>0</td>\n",
       "      <td>0</td>\n",
       "      <td>2016-05-15 18:12</td>\n",
       "    </tr>\n",
       "    <tr>\n",
       "      <th>1</th>\n",
       "      <td>教改新闻:东三省明年起废除高考</td>\n",
       "      <td>/post-free-5465814-1.shtml</td>\n",
       "      <td>赤脚医生zg</td>\n",
       "      <td>http://www.tianya.cn/111686899</td>\n",
       "      <td>52</td>\n",
       "      <td>0</td>\n",
       "      <td>2016-05-15 17:14</td>\n",
       "    </tr>\n",
       "    <tr>\n",
       "      <th>2</th>\n",
       "      <td>胡文江,一个为高考减招摇旗呐喊的文痞</td>\n",
       "      <td>/post-free-5465517-1.shtml</td>\n",
       "      <td>泉水丁冬响88</td>\n",
       "      <td>http://www.tianya.cn/3176523</td>\n",
       "      <td>124</td>\n",
       "      <td>3</td>\n",
       "      <td>2016-05-15 10:52</td>\n",
       "    </tr>\n",
       "    <tr>\n",
       "      <th>3</th>\n",
       "      <td>热点一个接一个,魏则西/百度/莆田系,雷洋,高考减招,新的来,旧...</td>\n",
       "      <td>/post-free-5465513-1.shtml</td>\n",
       "      <td>highergren</td>\n",
       "      <td>http://www.tianya.cn/81555116</td>\n",
       "      <td>167</td>\n",
       "      <td>2</td>\n",
       "      <td>2016-05-15 10:47</td>\n",
       "    </tr>\n",
       "    <tr>\n",
       "      <th>4</th>\n",
       "      <td>江苏减招后续~ 学校竟然逼着家长前同意书,不签不能参加高考</td>\n",
       "      <td>/post-free-5465455-1.shtml</td>\n",
       "      <td>周先森的小屁孩</td>\n",
       "      <td>http://www.tianya.cn/110379646</td>\n",
       "      <td>573</td>\n",
       "      <td>11</td>\n",
       "      <td>2016-05-15 09:54</td>\n",
       "    </tr>\n",
       "  </tbody>\n",
       "</table>\n",
       "</div>"
      ],
      "text/plain": [
       "                                 title                        link  \\\n",
       "0   都别吵,看看2013-2015年全国各省高考一本录取率排名榜(转载)  /post-free-5465849-1.shtml   \n",
       "1                      教改新闻:东三省明年起废除高考  /post-free-5465814-1.shtml   \n",
       "2                   胡文江,一个为高考减招摇旗呐喊的文痞  /post-free-5465517-1.shtml   \n",
       "3  热点一个接一个,魏则西/百度/莆田系,雷洋,高考减招,新的来,旧...  /post-free-5465513-1.shtml   \n",
       "4        江苏减招后续~ 学校竟然逼着家长前同意书,不签不能参加高考  /post-free-5465455-1.shtml   \n",
       "\n",
       "       author                     author_page  click  reply              time  \n",
       "0      地球上空的鹰  http://www.tianya.cn/107096213      0      0  2016-05-15 18:12  \n",
       "1      赤脚医生zg  http://www.tianya.cn/111686899     52      0  2016-05-15 17:14  \n",
       "2     泉水丁冬响88    http://www.tianya.cn/3176523    124      3  2016-05-15 10:52  \n",
       "3  highergren   http://www.tianya.cn/81555116    167      2  2016-05-15 10:47  \n",
       "4     周先森的小屁孩  http://www.tianya.cn/110379646    573     11  2016-05-15 09:54  "
      ]
     },
     "execution_count": 116,
     "metadata": {},
     "output_type": "execute_result"
    }
   ],
   "source": [
    "df=df.rename(columns = {0:'title', 1:'link', 2:'author',3:'author_page', 4:'click', 5:'reply', 6:'time'})\n",
    "df[:5]"
   ]
  },
  {
   "cell_type": "markdown",
   "metadata": {},
   "source": [
    "# 抓取作者信息前20个"
   ]
  },
  {
   "cell_type": "code",
   "execution_count": 117,
   "metadata": {
    "collapsed": false
   },
   "outputs": [
    {
     "data": {
      "text/plain": [
       "0    http://www.tianya.cn/107096213\n",
       "1    http://www.tianya.cn/111686899\n",
       "2      http://www.tianya.cn/3176523\n",
       "3     http://www.tianya.cn/81555116\n",
       "4    http://www.tianya.cn/110379646\n",
       "Name: author_page, dtype: object"
      ]
     },
     "execution_count": 117,
     "metadata": {},
     "output_type": "execute_result"
    }
   ],
   "source": [
    "df.author_page[:5]"
   ]
  },
  {
   "cell_type": "code",
   "execution_count": 118,
   "metadata": {
    "collapsed": true
   },
   "outputs": [],
   "source": [
    "def author_crawler(url, file_name):\n",
    "    try:\n",
    "        content = urllib2.urlopen(url).read() #获取网页的html文本\n",
    "        soup = BeautifulSoup(content, \"lxml\")\n",
    "        link_info = soup.find_all('div', {'class', 'link-box'})\n",
    "        followed_num, fans_num = [i.a.text for i in link_info]\n",
    "        try:\n",
    "            activity = soup.find_all('span', {'class', 'subtitle'})\n",
    "            post_num, reply_num = [j.text[2:] for i in activity[:1] for j in i('a')]\n",
    "        except:\n",
    "            post_num, reply_num = 1, 0\n",
    "        record =  '\\t'.join([url, followed_num, fans_num, post_num, reply_num])\n",
    "        with open(file_name,'a') as p: # '''Note'''：Ａppend mode, run only once!\n",
    "                    p.write(record.encode('utf-8')+\"\\n\") ##!!encode here to utf-8 to avoid encoding\n",
    "\n",
    "    except Exception, e:\n",
    "        print e, url\n",
    "        record =  '\\t'.join([url, 'na', 'na', 'na', 'na'])\n",
    "        with open(file_name,'a') as p: # '''Note'''：Ａppend mode, run only once!\n",
    "                    p.write(record.encode('utf-8')+\"\\n\") ##!!encode here to utf-8 to avoid encoding\n",
    "        pass"
   ]
  },
  {
   "cell_type": "code",
   "execution_count": 119,
   "metadata": {
    "collapsed": false
   },
   "outputs": [
    {
     "name": "stdout",
     "output_type": "stream",
     "text": [
      "0\n",
      "10\n"
     ]
    }
   ],
   "source": [
    "for k, url in enumerate(df.author_page[:20]):\n",
    "    if k % 10==0:\n",
    "        print k\n",
    "    author_crawler(url, '/Users/dingcong/cjc2016/homework/dingcong/homework2/tianya_bbs_gaokao_author_list.txt') "
   ]
  },
  {
   "cell_type": "markdown",
   "metadata": {},
   "source": [
    "# 抓取回帖信息"
   ]
  },
  {
   "cell_type": "code",
   "execution_count": 85,
   "metadata": {
    "collapsed": false
   },
   "outputs": [
    {
     "data": {
      "text/plain": [
       "0    http://bbs.tianya.cn/post-free-5465849-1.shtml\n",
       "1    http://bbs.tianya.cn/post-free-5465814-1.shtml\n",
       "2    http://bbs.tianya.cn/post-free-5465517-1.shtml\n",
       "3    http://bbs.tianya.cn/post-free-5465513-1.shtml\n",
       "4    http://bbs.tianya.cn/post-free-5465455-1.shtml\n",
       "Name: link, dtype: object"
      ]
     },
     "execution_count": 85,
     "metadata": {},
     "output_type": "execute_result"
    }
   ],
   "source": [
    "url='http://bbs.tianya.cn'+df.link\n",
    "url[:5]"
   ]
  },
  {
   "cell_type": "code",
   "execution_count": 120,
   "metadata": {
    "collapsed": true
   },
   "outputs": [],
   "source": [
    "def parsePage(pa):\n",
    "    records = []\n",
    "    for i in pa:\n",
    "        p_info = i.find('a', class_ = 'reportme a-link')\n",
    "        p_time = p_info['replytime']\n",
    "        p_author_id = p_info['authorid']\n",
    "        p_author_name = p_info['author']\n",
    "        p_content = i.find('div', {'class', 'bbs-content'}).text.strip()\n",
    "        p_content = p_content.replace('\\t', '').replace('\\n', '')#.replace(' ', '')\n",
    "        record = p_time + '\\t' + p_author_id+ '\\t' + p_author_name + '\\t'+ p_content\n",
    "        records.append(record)\n",
    "    return records\n",
    "\n",
    "import sys\n",
    "def flushPrint(s):\n",
    "    sys.stdout.write('\\r')\n",
    "    sys.stdout.write('%s' % s)\n",
    "    sys.stdout.flush()"
   ]
  },
  {
   "cell_type": "code",
   "execution_count": 121,
   "metadata": {
    "collapsed": false
   },
   "outputs": [],
   "source": [
    "import random\n",
    "import time\n",
    "\n",
    "def crawler(url, file_name):\n",
    "    try:\n",
    "        # open the browser\n",
    "        url_1 = 'http://bbs.tianya.cn' + url\n",
    "        content = urllib2.urlopen(url_1).read() #获取网页的html文本\n",
    "        post_soup = BeautifulSoup(content, \"lxml\") \n",
    "        # how many pages in a post\n",
    "        post_form = post_soup.find('div', {'class', 'atl-pages'})\n",
    "        if post_form.form:\n",
    "            post_pages = post_form.form['onsubmit'].split(',')[-1].split(')')[0]\n",
    "            post_pages = int(post_pages)\n",
    "            url_base = '-'.join(url_1.split('-')[:-1]) + '-%d.shtml'\n",
    "        else:\n",
    "            post_pages = 1\n",
    "        # for the first page\n",
    "        pa = post_soup.find_all('div', {'class', 'atl-item'})\n",
    "        records = parsePage(pa)\n",
    "        with open(file_name,'a') as p: # '''Note'''：Ａppend mode, run only once!\n",
    "            for record in records:    \n",
    "                p.write('1'+ '\\t' + url + '\\t' + record.encode('utf-8')+\"\\n\") \n",
    "        # for the 2nd+ pages\n",
    "        if post_pages > 1:\n",
    "            for page_num in range(2, post_pages+1):\n",
    "                time.sleep(random.random())\n",
    "                flushPrint(page_num)\n",
    "                url2 =url_base  % page_num\n",
    "                content = urllib2.urlopen(url2).read() #获取网页的html文本\n",
    "                post_soup = BeautifulSoup(content, \"lxml\") \n",
    "                pa = post_soup.find_all('div', {'class', 'atl-item'})\n",
    "                records = parsePage(pa)\n",
    "                with open(file_name,'a') as p: # '''Note'''：Ａppend mode, run only once!\n",
    "                    for record in records:    \n",
    "                        p.write(str(page_num) + '\\t' +url + '\\t' + record.encode('utf-8')+\"\\n\") \n",
    "        else:\n",
    "            pass\n",
    "    except Exception, e:\n",
    "        print e\n",
    "        pass"
   ]
  },
  {
   "cell_type": "code",
   "execution_count": 123,
   "metadata": {
    "collapsed": false
   },
   "outputs": [],
   "source": [
    "url = df.link[3]\n",
    "file_name = '/Users/dingcong/cjc2016/homework/dingcong/homework2/tianya_bbs_gaokao_test.txt'\n",
    "crawler(url, file_name)"
   ]
  },
  {
   "cell_type": "code",
   "execution_count": 125,
   "metadata": {
    "collapsed": false
   },
   "outputs": [
    {
     "data": {
      "text/plain": [
       "688"
      ]
     },
     "execution_count": 125,
     "metadata": {},
     "output_type": "execute_result"
    }
   ],
   "source": [
    "len(df.link)"
   ]
  },
  {
   "cell_type": "code",
   "execution_count": 128,
   "metadata": {
    "collapsed": false
   },
   "outputs": [
    {
     "name": "stdout",
     "output_type": "stream",
     "text": [
      "/post-free-5465849-1.shtmlThis is the post of : 0\n",
      "/post-free-5465454-1.shtmlThis is the post of : 5\n",
      "/post-free-5465337-1.shtmlThis is the post of : 10\n",
      "/post-free-5464789-1.shtmlThis is the post of : 15\n",
      "/post-free-5464355-1.shtml"
     ]
    }
   ],
   "source": [
    "for k, link in enumerate(df.link[:20]):\n",
    "    flushPrint(link)\n",
    "    if k % 5== 0:\n",
    "        print 'This is the post of : ' + str(k)\n",
    "    file_name = '/Users/dingcong/cjc2016/homework/dingcong/homework2/tianya_bbs_gaokao_post.txt'\n",
    "    crawler(link, file_name)"
   ]
  },
  {
   "cell_type": "code",
   "execution_count": 130,
   "metadata": {
    "collapsed": false
   },
   "outputs": [
    {
     "data": {
      "text/plain": [
       "2590"
      ]
     },
     "execution_count": 130,
     "metadata": {},
     "output_type": "execute_result"
    }
   ],
   "source": [
    "dtt = []\n",
    "with open('/Users/dingcong/cjc2016/homework/dingcong/homework2/tianya_bbs_gaokao_post.txt', 'r') as f:\n",
    "    for line in f:\n",
    "        pnum, link, time, author_id, author, content = line.replace('\\n', '').split('\\t')\n",
    "        dtt.append([pnum, link, time, author_id, author, content])\n",
    "len(dtt)"
   ]
  },
  {
   "cell_type": "code",
   "execution_count": 131,
   "metadata": {
    "collapsed": false
   },
   "outputs": [
    {
     "data": {
      "text/html": [
       "<div>\n",
       "<table border=\"1\" class=\"dataframe\">\n",
       "  <thead>\n",
       "    <tr style=\"text-align: right;\">\n",
       "      <th></th>\n",
       "      <th>0</th>\n",
       "      <th>1</th>\n",
       "      <th>2</th>\n",
       "      <th>3</th>\n",
       "      <th>4</th>\n",
       "      <th>5</th>\n",
       "    </tr>\n",
       "  </thead>\n",
       "  <tbody>\n",
       "    <tr>\n",
       "      <th>0</th>\n",
       "      <td>1</td>\n",
       "      <td>/post-free-5465849-1.shtml</td>\n",
       "      <td>2016-05-15 18:12:00</td>\n",
       "      <td>107096213</td>\n",
       "      <td>地球上空的鹰</td>\n",
       "      <td>据人民网5月5日报道，今年高校招生跨省生源计划调控方案公布，要求加大对普通高校生源计划存量安...</td>\n",
       "    </tr>\n",
       "    <tr>\n",
       "      <th>1</th>\n",
       "      <td>1</td>\n",
       "      <td>/post-free-5465849-1.shtml</td>\n",
       "      <td>2016-05-15 18:18:27</td>\n",
       "      <td>107096213</td>\n",
       "      <td>地球上空的鹰</td>\n",
       "      <td>大家看到了吧，京津沪、驴叫，才是高考的既得利益集团！</td>\n",
       "    </tr>\n",
       "    <tr>\n",
       "      <th>2</th>\n",
       "      <td>1</td>\n",
       "      <td>/post-free-5465814-1.shtml</td>\n",
       "      <td>2016-05-15 17:14:00</td>\n",
       "      <td>111686899</td>\n",
       "      <td>赤脚医生zg</td>\n",
       "      <td>东三省废除高考。具体改革步骤如下：　　第一条 东三省明年起不再参加全国高考。　　第二条 东三...</td>\n",
       "    </tr>\n",
       "    <tr>\n",
       "      <th>3</th>\n",
       "      <td>1</td>\n",
       "      <td>/post-free-5465814-1.shtml</td>\n",
       "      <td>2016-05-15 18:32:45</td>\n",
       "      <td>109188399</td>\n",
       "      <td>高友德居士</td>\n",
       "      <td>@赤脚医生zg 愿你词永远沉睡在甜蜜的梦乡里，不要醒来。</td>\n",
       "    </tr>\n",
       "    <tr>\n",
       "      <th>4</th>\n",
       "      <td>1</td>\n",
       "      <td>/post-free-5465517-1.shtml</td>\n",
       "      <td>2016-05-15 10:52:00</td>\n",
       "      <td>3176523</td>\n",
       "      <td>泉水丁冬响88</td>\n",
       "      <td>胡文江：“四个不低于”戳穿“减招”谣言　　发布时间：2016-05-14 10:54:46来...</td>\n",
       "    </tr>\n",
       "  </tbody>\n",
       "</table>\n",
       "</div>"
      ],
      "text/plain": [
       "   0                           1                    2          3        4  \\\n",
       "0  1  /post-free-5465849-1.shtml  2016-05-15 18:12:00  107096213   地球上空的鹰   \n",
       "1  1  /post-free-5465849-1.shtml  2016-05-15 18:18:27  107096213   地球上空的鹰   \n",
       "2  1  /post-free-5465814-1.shtml  2016-05-15 17:14:00  111686899   赤脚医生zg   \n",
       "3  1  /post-free-5465814-1.shtml  2016-05-15 18:32:45  109188399    高友德居士   \n",
       "4  1  /post-free-5465517-1.shtml  2016-05-15 10:52:00    3176523  泉水丁冬响88   \n",
       "\n",
       "                                                   5  \n",
       "0  据人民网5月5日报道，今年高校招生跨省生源计划调控方案公布，要求加大对普通高校生源计划存量安...  \n",
       "1                         大家看到了吧，京津沪、驴叫，才是高考的既得利益集团！  \n",
       "2  东三省废除高考。具体改革步骤如下：　　第一条 东三省明年起不再参加全国高考。　　第二条 东三...  \n",
       "3                       @赤脚医生zg 愿你词永远沉睡在甜蜜的梦乡里，不要醒来。  \n",
       "4  胡文江：“四个不低于”戳穿“减招”谣言　　发布时间：2016-05-14 10:54:46来...  "
      ]
     },
     "execution_count": 131,
     "metadata": {},
     "output_type": "execute_result"
    }
   ],
   "source": [
    "dt = pd.DataFrame(dtt)\n",
    "dt[:5]"
   ]
  },
  {
   "cell_type": "code",
   "execution_count": 132,
   "metadata": {
    "collapsed": false
   },
   "outputs": [
    {
     "data": {
      "text/html": [
       "<div>\n",
       "<table border=\"1\" class=\"dataframe\">\n",
       "  <thead>\n",
       "    <tr style=\"text-align: right;\">\n",
       "      <th></th>\n",
       "      <th>page_num</th>\n",
       "      <th>link</th>\n",
       "      <th>time</th>\n",
       "      <th>author</th>\n",
       "      <th>author_name</th>\n",
       "      <th>reply</th>\n",
       "    </tr>\n",
       "  </thead>\n",
       "  <tbody>\n",
       "    <tr>\n",
       "      <th>0</th>\n",
       "      <td>1</td>\n",
       "      <td>/post-free-5465849-1.shtml</td>\n",
       "      <td>2016-05-15 18:12:00</td>\n",
       "      <td>107096213</td>\n",
       "      <td>地球上空的鹰</td>\n",
       "      <td>据人民网5月5日报道，今年高校招生跨省生源计划调控方案公布，要求加大对普通高校生源计划存量安...</td>\n",
       "    </tr>\n",
       "    <tr>\n",
       "      <th>1</th>\n",
       "      <td>1</td>\n",
       "      <td>/post-free-5465849-1.shtml</td>\n",
       "      <td>2016-05-15 18:18:27</td>\n",
       "      <td>107096213</td>\n",
       "      <td>地球上空的鹰</td>\n",
       "      <td>大家看到了吧，京津沪、驴叫，才是高考的既得利益集团！</td>\n",
       "    </tr>\n",
       "    <tr>\n",
       "      <th>2</th>\n",
       "      <td>1</td>\n",
       "      <td>/post-free-5465814-1.shtml</td>\n",
       "      <td>2016-05-15 17:14:00</td>\n",
       "      <td>111686899</td>\n",
       "      <td>赤脚医生zg</td>\n",
       "      <td>东三省废除高考。具体改革步骤如下：　　第一条 东三省明年起不再参加全国高考。　　第二条 东三...</td>\n",
       "    </tr>\n",
       "    <tr>\n",
       "      <th>3</th>\n",
       "      <td>1</td>\n",
       "      <td>/post-free-5465814-1.shtml</td>\n",
       "      <td>2016-05-15 18:32:45</td>\n",
       "      <td>109188399</td>\n",
       "      <td>高友德居士</td>\n",
       "      <td>@赤脚医生zg 愿你词永远沉睡在甜蜜的梦乡里，不要醒来。</td>\n",
       "    </tr>\n",
       "    <tr>\n",
       "      <th>4</th>\n",
       "      <td>1</td>\n",
       "      <td>/post-free-5465517-1.shtml</td>\n",
       "      <td>2016-05-15 10:52:00</td>\n",
       "      <td>3176523</td>\n",
       "      <td>泉水丁冬响88</td>\n",
       "      <td>胡文江：“四个不低于”戳穿“减招”谣言　　发布时间：2016-05-14 10:54:46来...</td>\n",
       "    </tr>\n",
       "  </tbody>\n",
       "</table>\n",
       "</div>"
      ],
      "text/plain": [
       "  page_num                        link                 time     author  \\\n",
       "0        1  /post-free-5465849-1.shtml  2016-05-15 18:12:00  107096213   \n",
       "1        1  /post-free-5465849-1.shtml  2016-05-15 18:18:27  107096213   \n",
       "2        1  /post-free-5465814-1.shtml  2016-05-15 17:14:00  111686899   \n",
       "3        1  /post-free-5465814-1.shtml  2016-05-15 18:32:45  109188399   \n",
       "4        1  /post-free-5465517-1.shtml  2016-05-15 10:52:00    3176523   \n",
       "\n",
       "  author_name                                              reply  \n",
       "0      地球上空的鹰  据人民网5月5日报道，今年高校招生跨省生源计划调控方案公布，要求加大对普通高校生源计划存量安...  \n",
       "1      地球上空的鹰                         大家看到了吧，京津沪、驴叫，才是高考的既得利益集团！  \n",
       "2      赤脚医生zg  东三省废除高考。具体改革步骤如下：　　第一条 东三省明年起不再参加全国高考。　　第二条 东三...  \n",
       "3       高友德居士                       @赤脚医生zg 愿你词永远沉睡在甜蜜的梦乡里，不要醒来。  \n",
       "4     泉水丁冬响88  胡文江：“四个不低于”戳穿“减招”谣言　　发布时间：2016-05-14 10:54:46来...  "
      ]
     },
     "execution_count": 132,
     "metadata": {},
     "output_type": "execute_result"
    }
   ],
   "source": [
    "dt=dt.rename(columns = {0:'page_num', 1:'link', 2:'time', 3:'author',4:'author_name', 5:'reply'})\n",
    "dt[:5]"
   ]
  },
  {
   "cell_type": "code",
   "execution_count": 135,
   "metadata": {
    "collapsed": false
   },
   "outputs": [
    {
     "data": {
      "text/plain": [
       "0     据人民网5月5日报道，今年高校招生跨省生源计划调控方案公布，要求加大对普通高校生源计划存量安...\n",
       "1                            大家看到了吧，京津沪、驴叫，才是高考的既得利益集团！\n",
       "2     东三省废除高考。具体改革步骤如下：　　第一条 东三省明年起不再参加全国高考。　　第二条 东三...\n",
       "3                          @赤脚医生zg 愿你词永远沉睡在甜蜜的梦乡里，不要醒来。\n",
       "4     胡文江：“四个不低于”戳穿“减招”谣言　　发布时间：2016-05-14 10:54:46来...\n",
       "5     胡文江：“四个不低于”戳穿“减招”谣言　　发布时间：2016-05-14 10:54:46来...\n",
       "6     “大争”之世，实力说话。高考是一场带有选拔性质的智力竞技，无论政策怎么变动，考生的考试成绩高...\n",
       "7                                                拍马屁的文痞\n",
       "8     最近些天，热点一个接一个，魏则西/百度/莆田系、雷洋死亡、高考减招...，新的热点来了，旧的...\n",
       "9                                这就是新闻的时效性，过了，关注度自然就下降了\n",
       "10                           毕竟不是跟自己有切身联系的事情，一段时间就不当回事了\n",
       "11    学校竟然逼着签同意书，不签不让高考、还有没有民主？江苏人好欺负？　　　　看到这则新闻真的是很...\n",
       "12                                                     \n",
       "13                                    我感觉差不多了，陈吴二祖快要显灵了\n",
       "14     @周先森的小屁如此吊诡，令人震惊，快去看看“泣血等待”天涯论坛的帖子《公平正义究竟何在？！》。孩\n",
       "15                             @周先森的小屁孩 深深的叹息····无语····\n",
       "16    @周先森的小屁孩 深深的叹息····无语····----------------------...\n",
       "17    @周先森的小屁孩 重庆人表示声援，国家公共资源岂能由少数几个官员做主，国家难道倒退了吗？法制...\n",
       "18                                                 祖国加油\n",
       "19    伪新闻吧。签字同意什么？同意划出38000个高招指标？问题不是该不该划出，往年一直在划拨啊，...\n",
       "20                                              真的，假的？？\n",
       "21    坚定执行上级政策方针，只有在顶着民意压力和道德风险的时候的执行效果，才体现一方诸侯的执政能力...\n",
       "22                                                 2013\n",
       "23    江苏今年外调高考录取名额3.8万，官方解释说，是因为考生人数下降，及国家支援中西部政策的原因...\n",
       "24    江苏高考减招38000人，湖北减招40000人，浙江减招14000人，支援中西部，北京，天津...\n",
       "25                                               没人理解吗？\n",
       "26    @不在上海 2016-05-15 11:52:57　　没人理解吗？　　-----------...\n",
       "27    @不在上海   其实这次江苏教育厅做出调整，是为了保护自己的乌纱帽，并非从江苏经济考虑，是为...\n",
       "28                                                  红包裙\n",
       "29                                            whmaodang\n",
       "                            ...                        \n",
       "70    @我想养熊猫啊 2016-05-15 12:16:17　　希望能像美国那样各州自治。　　--...\n",
       "71    @kuhl94    17楼  2016-05-15 12:02:00　　这次事件一出，作为...\n",
       "72                                          @llxxyylx 顶\n",
       "73    汉人不幸！被剥夺几十年的生育权，结果驴叫徒越来越多！养老包袱都被指望着，房屋光被强拆着，土地...\n",
       "74                                                神奇的国度\n",
       "75                                     你这么为北京辩护，收啥好东西啦？\n",
       "76                                              上海减招10%\n",
       "77    北京自封 \"首善之都\"  可以享受南水北调  可以享受西电东输. 而与全国人共享统一的一本招...\n",
       "78    可怜的云南人民，人均可支配收入排在全国28位以后，而每年上缴国家的税收收入却在第一梯队，最高...\n",
       "79                 北大，清华是全中国人民的，公平不能只说不做。教育体制改革贵在公平，公开。\n",
       "80           明明一个关于教育的话题硬生生被民众扯出了独立口号，压垮骆驼的最后一根稻草是怎样的呢？\n",
       "81                                        中秧不要脸,这一届不要脸.\n",
       "82                                   各省自志,严禁吸血,大家凭本事吃饭.\n",
       "83    做与不做 了解没错 薇skd0818　　正规平台某宝刷单兼纸 　　一单一节 多老多得 不用垫...\n",
       "84    @kuhl94    17楼  2016-05-15 12:02:00　　这次事件一出，作为...\n",
       "85                         难怪大家都要去北京，北京就是好，怎样做贡献都轮不到北京。\n",
       "86    欺下媚上是当官的常态！太极推手是当官的基本功！无论你多愤怒，结果都是大事化小，小事化了，这才...\n",
       "87    真扶贫就去那边多建点高校，咱江苏已被割肉割习惯了，多出点血咱认了，可剥夺咱孩子的被教育权就有...\n",
       "88    高校不停的扩建、扩招，不是政府重视教育，是房地产市场的需要！再加上生员下降，导致三流大学招生...\n",
       "89                               江苏人给你顶顶贴，确实太不厚道了！让人寒心…\n",
       "90    享受到多年的户籍制度带来的优越感！突然之间失去了户籍的优越感！内心中无形失落，一切优越感消失...\n",
       "91    江苏的成绩是自己拼出来的吧.国家说给出去就给出去了，那么问题来了，江苏学子呢？江苏不是什么大...\n",
       "92                              中西部地区发展不好，这赖江苏吗，凭什么牺牲江苏\n",
       "93      我大江苏多少优质生源被国家毁了？许多学生奋斗了十几年就是国家一句话的事，所有的努力就是个笑话？\n",
       "94    有人说什么为了一己私利？你瞅那儿跟圣母白莲花似的不就是这个锅没让你背委屈没让你受吗，就算是为...\n",
       "95    说江苏抗议是自私的表现的，麻烦你们换位思考一下，你们的孩子遇上这个，哦除了你当官的或者有钱的...\n",
       "96                                     教育局腐败也不是一天两天的事了。\n",
       "97    就拿我们这儿的一所高中，简称Y高，现在的高二学生开学那会儿补了7天，一个学生收了1000块钱...\n",
       "98    再说说有人说江苏学生上了大学之后普遍没你们强，这他妈不也是教育问题吗，为了那个狗屁应试教育，...\n",
       "99         把江苏湖北这么多985,211重点高校都迁到西部去，这样不减少这两省的招生名额，就公平了\n",
       "Name: reply, dtype: object"
      ]
     },
     "execution_count": 135,
     "metadata": {},
     "output_type": "execute_result"
    }
   ],
   "source": [
    "dt.reply[:100]"
   ]
  },
  {
   "cell_type": "code",
   "execution_count": 147,
   "metadata": {
    "collapsed": false
   },
   "outputs": [
    {
     "data": {
      "text/plain": [
       "0       据人民网5月5日报道，今年高校招生跨省生源计划调控方案公布，要求加大对普通高校生源计划存量安...\n",
       "1                              大家看到了吧，京津沪、驴叫，才是高考的既得利益集团！\n",
       "1070    北京、上海、陕西、江苏、湖北、四川、天津，国家在这7个省市设立了大量重点大学，这7个省市都是...\n",
       "1295    据人民网5月5日报道，今年高校招生跨省生源计划调控方案公布，要求加大对普通高校生源计划存量安...\n",
       "1296                           大家看到了吧，京津沪、驴叫，才是高考的既得利益集团！\n",
       "2365    北京、上海、陕西、江苏、湖北、四川、天津，国家在这7个省市设立了大量重点大学，这7个省市都是...\n",
       "Name: reply, dtype: object"
      ]
     },
     "execution_count": 147,
     "metadata": {},
     "output_type": "execute_result"
    }
   ],
   "source": [
    "dt.reply[dt['author_name'] =='地球上空的鹰'] #通过name寻找reply"
   ]
  }
 ],
 "metadata": {
  "kernelspec": {
   "display_name": "Python 2",
   "language": "python",
   "name": "python2"
  },
  "language_info": {
   "codemirror_mode": {
    "name": "ipython",
    "version": 2
   },
   "file_extension": ".py",
   "mimetype": "text/x-python",
   "name": "python",
   "nbconvert_exporter": "python",
   "pygments_lexer": "ipython2",
   "version": "2.7.11"
  }
 },
 "nbformat": 4,
 "nbformat_minor": 0
}
