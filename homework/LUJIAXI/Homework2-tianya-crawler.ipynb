{
 "cells": [
  {
   "cell_type": "markdown",
   "metadata": {},
   "source": [
    "## Homework2-tianya-crawler\n",
    "# 卢家希\n",
    "# 学号 15210130070"
   ]
  },
  {
   "cell_type": "code",
   "execution_count": 5,
   "metadata": {
    "collapsed": false
   },
   "outputs": [
    {
     "name": "stdout",
     "output_type": "stream",
     "text": [
      "0\n",
      "1\n",
      "2\n",
      "3\n",
      "4\n",
      "5\n",
      "6\n",
      "7\n",
      "8\n",
      "9\n",
      "10\n"
     ]
    }
   ],
   "source": [
    "import urllib2\n",
    "from bs4 import BeautifulSoup\n",
    "def crawler(page_num, file_name):\n",
    "    try:\n",
    "        # open the browser\n",
    "        url = \"http://bbs.tianya.cn/list.jsp?item=develop&order=1&nextid=%d&k=gdp\" % page_num\n",
    "        content = urllib2.urlopen(url).read() \n",
    "        soup = BeautifulSoup(content, \"lxml\") \n",
    "        articles = soup.find_all('tr')\n",
    "        # write down info\n",
    "        for i in articles[1:]:\n",
    "            td = i.find_all('td')\n",
    "            title = td[0].text.strip()\n",
    "            title_url = td[0].a['href']\n",
    "            author = td[1].text\n",
    "            author_url = td[1].a['href']\n",
    "            views = td[2].text\n",
    "            replies = td[3].text\n",
    "            date = td[4]['title']\n",
    "            record = title + '\\t' + title_url+ '\\t' + author + '\\t'+ \\\n",
    "                        author_url + '\\t' + views+ '\\t'  + replies+ '\\t'+ date\n",
    "            with open(file_name,'a') as p: \n",
    "                        p.write(record.encode('utf-8')+\"\\n\") ##!!encode here to utf-8 to avoid encoding\n",
    "\n",
    "    except Exception, e:\n",
    "        print e\n",
    "        pass\n",
    "\n",
    "for page_num in range(11):\n",
    "    print (page_num)\n",
    "    crawler(page_num,'C:/Users/lenovo/Desktop/homework/tianya_bbs_threads_list_gdp.txt')"
   ]
  },
  {
   "cell_type": "code",
   "execution_count": 4,
   "metadata": {
    "collapsed": true
   },
   "outputs": [],
   "source": [
    "import pandas as pd"
   ]
  },
  {
   "cell_type": "code",
   "execution_count": 5,
   "metadata": {
    "collapsed": false
   },
   "outputs": [],
   "source": [
    "df=pd.read_csv('C:/Users/lenovo/Desktop/homework/tianya_bbs_threads_list_gdp.txt',sep = \"\\t\", header=None)"
   ]
  },
  {
   "cell_type": "code",
   "execution_count": 6,
   "metadata": {
    "collapsed": false
   },
   "outputs": [],
   "source": [
    "df=df.rename(columns = {0:'title', 1:'link', 2:'author',3:'author_page', 4:'click', 5:'reply', 6:'time'})"
   ]
  },
  {
   "cell_type": "code",
   "execution_count": 34,
   "metadata": {
    "collapsed": false
   },
   "outputs": [
    {
     "data": {
      "text/plain": [
       "'\\xe7\\xa7\\xaf\\xe3\\x80\\x80\\xe3\\x80\\x80\\xe5\\x88\\x86'"
      ]
     },
     "execution_count": 34,
     "metadata": {},
     "output_type": "execute_result"
    }
   ],
   "source": [
    "'积　　分'"
   ]
  },
  {
   "cell_type": "code",
   "execution_count": 37,
   "metadata": {
    "collapsed": false
   },
   "outputs": [
    {
     "name": "stdout",
     "output_type": "stream",
     "text": [
      "0\n"
     ]
    },
    {
     "name": "stderr",
     "output_type": "stream",
     "text": [
      "C:\\Anaconda2\\lib\\site-packages\\ipykernel\\__main__.py:10: UnicodeWarning: Unicode equal comparison failed to convert both arguments to Unicode - interpreting them as being unequal\n"
     ]
    },
    {
     "name": "stdout",
     "output_type": "stream",
     "text": [
      "10\n",
      "20\n",
      "30\n",
      "40\n",
      "50\n",
      "60\n",
      "70\n",
      "80\n",
      "90\n",
      "100\n",
      "110\n",
      "120\n",
      "130\n",
      "need more than 0 values to unpack http://www.tianya.cn/18383118\n",
      "140\n",
      "need more than 0 values to unpack http://www.tianya.cn/18383118\n",
      "150\n",
      "160\n",
      "170\n",
      "need more than 0 values to unpack http://www.tianya.cn/32922138\n",
      "180\n",
      "need more than 0 values to unpack http://www.tianya.cn/18383118\n",
      "190\n",
      "200\n",
      "210\n",
      "220\n",
      "230\n",
      "need more than 0 values to unpack http://www.tianya.cn/52188114\n",
      "240\n",
      "need more than 0 values to unpack http://www.tianya.cn/83108837\n",
      "250\n",
      "need more than 0 values to unpack http://www.tianya.cn/53582376\n",
      "260\n",
      "270\n",
      "280\n",
      "need more than 0 values to unpack http://www.tianya.cn/88640588\n",
      "290\n",
      "need more than 0 values to unpack http://www.tianya.cn/88640588\n",
      "need more than 0 values to unpack http://www.tianya.cn/88640588\n",
      "need more than 0 values to unpack http://www.tianya.cn/88640588\n",
      "need more than 0 values to unpack http://www.tianya.cn/88640588\n",
      "need more than 0 values to unpack http://www.tianya.cn/88640588\n",
      "need more than 0 values to unpack http://www.tianya.cn/88640588\n",
      "need more than 0 values to unpack http://www.tianya.cn/88640588\n",
      "need more than 0 values to unpack http://www.tianya.cn/88640588\n",
      "300\n",
      "need more than 0 values to unpack http://www.tianya.cn/88640588\n",
      "need more than 0 values to unpack http://www.tianya.cn/88640588\n",
      "need more than 0 values to unpack http://www.tianya.cn/88640588\n",
      "need more than 0 values to unpack http://www.tianya.cn/88640588\n",
      "need more than 0 values to unpack http://www.tianya.cn/88640588\n",
      "need more than 0 values to unpack http://www.tianya.cn/88640588\n",
      "need more than 0 values to unpack http://www.tianya.cn/88640588\n",
      "need more than 0 values to unpack http://www.tianya.cn/88640588\n",
      "310\n",
      "320\n",
      "need more than 0 values to unpack http://www.tianya.cn/63630873\n",
      "330\n",
      "need more than 0 values to unpack http://www.tianya.cn/52188114\n",
      "need more than 0 values to unpack http://www.tianya.cn/62812587\n",
      "340\n",
      "need more than 0 values to unpack http://www.tianya.cn/88640588\n",
      "need more than 0 values to unpack http://www.tianya.cn/88374394\n",
      "350\n",
      "360\n",
      "need more than 0 values to unpack http://www.tianya.cn/89480925\n",
      "370\n",
      "380\n",
      "need more than 0 values to unpack http://www.tianya.cn/89480925\n",
      "390\n",
      "400\n",
      "need more than 0 values to unpack http://www.tianya.cn/36544249\n",
      "410\n",
      "420\n",
      "430\n",
      "need more than 0 values to unpack http://www.tianya.cn/16220929\n",
      "440\n"
     ]
    }
   ],
   "source": [
    "def author_crawler(url, file_name):\n",
    "    try:\n",
    "        content = urllib2.urlopen(url).read() #获取网页的html文本\n",
    "        soup = BeautifulSoup(content, \"lxml\")\n",
    "        link_info = soup.find_all('div', {'class', 'link-box'})\n",
    "        followed_num, fans_num = [i.a.text for i in link_info]\n",
    "        local=soup.find('div',class_='userinfo')('p')\n",
    "        local_info=local[0].text[4:]\n",
    "        jifen=local[0].text[:4]\n",
    "        if jifen=='\\xe7\\xa7\\xaf\\xe3\\x80\\x80\\xe3\\x80\\x80\\xe5\\x88\\x86':\n",
    "            local_info='na' \n",
    "        try:\n",
    "            activity = soup.find_all('span', {'class', 'subtitle'})\n",
    "            post_num, reply_num = [j.text[2:] for i in activity[:1] for j in i('a')]\n",
    "        except:\n",
    "            post_num, reply_num = 1, 0\n",
    "        record =  '\\t'.join([url, local_info, followed_num, fans_num, post_num, reply_num])\n",
    "        with open(file_name,'a') as p: # '''Note'''：Ａppend mode, run only once!\n",
    "                    p.write(record.encode('utf-8')+\"\\n\") ##!!encode here to utf-8 to avoid encoding\n",
    "\n",
    "    except Exception, e:\n",
    "        print e, url\n",
    "        record =  '\\t'.join([url, 'na', 'na', 'na', 'na','na'])\n",
    "        with open(file_name,'a') as p: # '''Note'''：Ａppend mode, run only once!\n",
    "                    p.write(record.encode('utf-8')+\"\\n\") ##!!encode here to utf-8 to avoid encoding\n",
    "        pass\n",
    "\n",
    "for k, url in enumerate(df.author_page) :\n",
    "    if k%10==0:\n",
    "        print k\n",
    "    author_crawler(url,'C:/Users/lenovo/Desktop/homework/tianya_bbs_threads_gdp_author_info1.txt')"
   ]
  },
  {
   "cell_type": "code",
   "execution_count": 48,
   "metadata": {
    "collapsed": false
   },
   "outputs": [
    {
     "name": "stdout",
     "output_type": "stream",
     "text": [
      "http://bbs.tianya.cn/post-develop-2112059-1.shtml\n",
      "http://bbs.tianya.cn/post-develop-2112039-1.shtml\n",
      "http://bbs.tianya.cn/post-develop-2112061-1.shtml\n",
      "http://bbs.tianya.cn/post-develop-2112064-1.shtml\n",
      "http://bbs.tianya.cn/post-develop-2111923-1.shtml\n",
      "http://bbs.tianya.cn/post-develop-2111456-1.shtml\n",
      "http://bbs.tianya.cn/post-develop-2111435-1.shtml\n",
      "http://bbs.tianya.cn/post-develop-2110897-1.shtml\n",
      "http://bbs.tianya.cn/post-develop-2105587-1.shtml\n",
      "http://bbs.tianya.cn/post-develop-2103391-1.shtml\n"
     ]
    }
   ],
   "source": [
    "for i in range(10):\n",
    "    url='http://bbs.tianya.cn'+df.link[i]\n",
    "    print url"
   ]
  },
  {
   "cell_type": "code",
   "execution_count": 7,
   "metadata": {
    "collapsed": true
   },
   "outputs": [],
   "source": [
    "import urllib2\n",
    "from bs4 import BeautifulSoup\n",
    "def parsePage(pa):\n",
    "    records = []\n",
    "    for i in pa:\n",
    "        p_info = i.find('a', class_ = 'reportme a-link')\n",
    "        p_time = p_info['replytime']\n",
    "        p_author_id = p_info['authorid']\n",
    "        p_author_name = p_info['author']\n",
    "        p_content = i.find('div', {'class', 'bbs-content'}).text.strip()\n",
    "        p_content = p_content.replace('\\t', '').replace('\\n', '')#.replace(' ', '')\n",
    "        record = p_time + '\\t' + p_author_id+ '\\t' + p_author_name + '\\t'+ p_content\n",
    "        records.append(record)\n",
    "    return records\n",
    "import sys\n",
    "def flushPrint(s):\n",
    "    sys.stdout.write('\\r')\n",
    "    sys.stdout.write('%s' % s)\n",
    "    sys.stdout.flush()\n"
   ]
  },
  {
   "cell_type": "code",
   "execution_count": 8,
   "metadata": {
    "collapsed": true
   },
   "outputs": [],
   "source": [
    "import random\n",
    "import time\n",
    "\n",
    "def crawler(url, file_name):\n",
    "    try:\n",
    "        # open the browser\n",
    "        url_1 = 'http://bbs.tianya.cn' + url\n",
    "        content = urllib2.urlopen(url_1).read() #获取网页的html文本\n",
    "        post_soup = BeautifulSoup(content, \"lxml\") \n",
    "        # how many pages in a post\n",
    "        post_form = post_soup.find('div', {'class', 'atl-pages'})\n",
    "        if post_form.form:\n",
    "            post_pages = post_form.form['onsubmit'].split(',')[-1].split(')')[0]\n",
    "            post_pages = int(post_pages)\n",
    "            url_base = '-'.join(url_1.split('-')[:-1]) + '-%d.shtml'\n",
    "        else:\n",
    "            post_pages = 1\n",
    "        # for the first page\n",
    "        pa = post_soup.find_all('div', {'class', 'atl-item'})\n",
    "        records = parsePage(pa)\n",
    "        with open(file_name,'a') as p: # '''Note'''：Ａppend mode, run only once!\n",
    "            for record in records:    \n",
    "                p.write('1'+ '\\t' + url + '\\t' + record.encode('utf-8')+\"\\n\") \n",
    "        # for the 2nd+ pages\n",
    "        if post_pages > 1:\n",
    "            for page_num in range(2, post_pages+1):\n",
    "                time.sleep(random.random())\n",
    "                flushPrint(page_num)\n",
    "                url2 =url_base  % page_num\n",
    "                content = urllib2.urlopen(url2).read() #获取网页的html文本\n",
    "                post_soup = BeautifulSoup(content, \"lxml\") \n",
    "                pa = post_soup.find_all('div', {'class', 'atl-item'})\n",
    "                records = parsePage(pa)\n",
    "                with open(file_name,'a') as p: # '''Note'''：Ａppend mode, run only once!\n",
    "                    for record in records:    \n",
    "                        p.write(str(page_num) + '\\t' +url + '\\t' + record.encode('utf-8')+\"\\n\") \n",
    "        else:\n",
    "            pass\n",
    "    except Exception, e:\n",
    "        print e\n",
    "        pass\n"
   ]
  },
  {
   "cell_type": "code",
   "execution_count": 53,
   "metadata": {
    "collapsed": false
   },
   "outputs": [
    {
     "name": "stdout",
     "output_type": "stream",
     "text": [
      "<urlopen error [Errno 11004] getaddrinfo failed>\n"
     ]
    }
   ],
   "source": [
    "url = 'http://bbs.tianya.cn' + df.link[2]\n",
    "file_name = 'C:/Users/lenovo/Desktop/homework/tianya_bbs_threads_test.txt'\n",
    "crawler(url, file_name)"
   ]
  },
  {
   "cell_type": "code",
   "execution_count": 10,
   "metadata": {
    "collapsed": false
   },
   "outputs": [
    {
     "name": "stdout",
     "output_type": "stream",
     "text": [
      "/post-develop-2112059-1.shtmlThis it the post of : 0\n",
      "/post-develop-2102522-1.shtmlThis it the post of : 10\n",
      "/post-develop-2097839-1.shtmlThis it the post of : 20\n",
      "/post-develop-2092694-1.shtmlThis it the post of : 30\n",
      "/post-develop-2089163-1.shtmlThis it the post of : 40\n",
      "/post-develop-2085921-1.shtmlThis it the post of : 50\n",
      "/post-develop-2084452-1.shtmlThis it the post of : 60\n",
      "/post-develop-2070003-1.shtmlThis it the post of : 70\n",
      "/post-develop-2061944-1.shtmlThis it the post of : 80\n",
      "/post-develop-2057038-1.shtmlThis it the post of : 90\n",
      "/post-develop-2002287-1.shtmlThis it the post of : 100\n",
      "/post-develop-1992960-1.shtmlThis it the post of : 110\n",
      "/post-develop-1988084-1.shtmlThis it the post of : 120\n",
      "/post-develop-1986330-1.shtmlThis it the post of : 130\n",
      "/post-develop-1981328-1.shtmlThis it the post of : 140\n",
      "/post-develop-1969178-1.shtmlThis it the post of : 150\n",
      "/post-develop-1946074-1.shtmlThis it the post of : 160\n",
      "/post-develop-1941105-1.shtmlThis it the post of : 170\n",
      "/post-develop-1923322-1.shtmlThis it the post of : 180\n",
      "/post-develop-1903696-1.shtmlThis it the post of : 190\n",
      "/post-develop-1874032-1.shtmlThis it the post of : 200\n",
      "/post-develop-1870951-1.shtmlThis it the post of : 210\n",
      "/post-develop-1849822-1.shtmlThis it the post of : 220\n",
      "/post-develop-1839927-1.shtmlThis it the post of : 230\n",
      "/post-develop-1806943-1.shtmlThis it the post of : 240\n",
      "/post-develop-1763330-1.shtmlThis it the post of : 250\n",
      "/post-develop-1728895-1.shtmlThis it the post of : 260\n",
      "/post-develop-1695806-1.shtmlThis it the post of : 270\n",
      "/post-develop-1684451-1.shtmlThis it the post of : 280\n",
      "/post-develop-1676299-1.shtmlThis it the post of : 290\n",
      "/post-develop-1669724-1.shtmlThis it the post of : 300\n",
      "/post-develop-1664527-1.shtmlThis it the post of : 310\n",
      "/post-develop-1658199-1.shtmlThis it the post of : 320\n",
      "/post-develop-1649443-1.shtmlThis it the post of : 330\n",
      "/post-develop-1634428-1.shtmlThis it the post of : 340\n",
      "/post-develop-1626585-1.shtmlThis it the post of : 350\n",
      "/post-develop-1610688-1.shtmlThis it the post of : 360\n",
      "/post-develop-1597581-1.shtmlThis it the post of : 370\n",
      "/post-develop-1591192-1.shtmlThis it the post of : 380\n",
      "/post-develop-1582907-1.shtmlThis it the post of : 390\n",
      "/post-develop-1569292-1.shtmlThis it the post of : 400\n",
      "/post-develop-1560835-1.shtmlThis it the post of : 410\n",
      "/post-develop-1546792-1.shtmlThis it the post of : 420\n",
      "/post-develop-1534670-1.shtmlThis it the post of : 430\n",
      "/post-develop-1526470-1.shtmlThis it the post of : 440\n",
      "/post-develop-1525396-1.shtml"
     ]
    }
   ],
   "source": [
    "for k, link in enumerate(df.link):\n",
    "    flushPrint(link)\n",
    "    if k % 10== 0:\n",
    "        print 'This it the post of : ' + str(k)\n",
    "    file_name = 'C:/Users/lenovo/Desktop/homework/tianya_bbs_threads_network.txt'\n",
    "    crawler(link, file_name)"
   ]
  },
  {
   "cell_type": "code",
   "execution_count": null,
   "metadata": {
    "collapsed": true
   },
   "outputs": [],
   "source": []
  }
 ],
 "metadata": {
  "kernelspec": {
   "display_name": "Python 2",
   "language": "python",
   "name": "python2"
  },
  "language_info": {
   "codemirror_mode": {
    "name": "ipython",
    "version": 2
   },
   "file_extension": ".py",
   "mimetype": "text/x-python",
   "name": "python",
   "nbconvert_exporter": "python",
   "pygments_lexer": "ipython2",
   "version": "2.7.11"
  }
 },
 "nbformat": 4,
 "nbformat_minor": 0
}
