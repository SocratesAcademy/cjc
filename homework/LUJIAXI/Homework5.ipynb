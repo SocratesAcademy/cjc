{
 "cells": [
  {
   "cell_type": "markdown",
   "metadata": {},
   "source": [
    "# Homework5\n",
    "## 卢家希\n",
    "## 学号 15210130070"
   ]
  },
  {
   "cell_type": "code",
   "execution_count": 50,
   "metadata": {
    "collapsed": true
   },
   "outputs": [],
   "source": [
    "import nltk\n",
    "\n",
    "pos_tweets = [('I love this car', 'positive'),\n",
    "    ('This view is amazing', 'positive'),\n",
    "    ('I feel great this morning', 'positive'),\n",
    "    ('I am so excited about the concert', 'positive'),\n",
    "    ('He is my best friend', 'positive')]\n",
    "\n",
    "neg_tweets = [('I do not like this car', 'negative'),\n",
    "    ('This view is horrible', 'negative'),\n",
    "    ('I feel tired this morning', 'negative'),\n",
    "    ('I am not looking forward to the concert', 'negative'),\n",
    "    ('He is my enemy', 'negative')]"
   ]
  },
  {
   "cell_type": "code",
   "execution_count": 51,
   "metadata": {
    "collapsed": true
   },
   "outputs": [],
   "source": [
    "tweets = []\n",
    "for (words, sentiment) in pos_tweets + neg_tweets:\n",
    "    words_filtered = [e.lower() for e in words.split() if len(e) >= 3]\n",
    "    tweets.append((words_filtered, sentiment))"
   ]
  },
  {
   "cell_type": "code",
   "execution_count": 52,
   "metadata": {
    "collapsed": true
   },
   "outputs": [],
   "source": [
    "test_tweets = [\n",
    "    (['feel', 'happy', 'this', 'morning'], 'positive'),\n",
    "    (['larry', 'friend'], 'positive'),\n",
    "    (['not', 'like', 'that', 'man'], 'negative'),\n",
    "    (['house', 'not', 'great'], 'negative'),\n",
    "    (['your', 'song', 'annoying'], 'negative')]"
   ]
  },
  {
   "cell_type": "code",
   "execution_count": 53,
   "metadata": {
    "collapsed": true
   },
   "outputs": [],
   "source": [
    "\n",
    "# get the word lists of tweets\n",
    "def get_words_in_tweets(tweets):\n",
    "    all_words = []\n",
    "    for (words, sentiment) in tweets:\n",
    "        all_words.extend(words)\n",
    "    return all_words\n",
    "\n",
    "# get the unique word from the word list\t\n",
    "def get_word_features(wordlist):\n",
    "    wordlist = nltk.FreqDist(wordlist)\n",
    "    word_features = wordlist.keys()\n",
    "    return word_features\n",
    "\n",
    "word_features = get_word_features(get_words_in_tweets(tweets))"
   ]
  },
  {
   "cell_type": "code",
   "execution_count": 55,
   "metadata": {
    "collapsed": true
   },
   "outputs": [],
   "source": [
    "def extract_features(document):\n",
    "    document_words = set(document)\n",
    "    features = {}\n",
    "    for word in word_features:\n",
    "      features['contains(%s)' % word] = (word in document_words)\n",
    "    return features"
   ]
  },
  {
   "cell_type": "code",
   "execution_count": 56,
   "metadata": {
    "collapsed": true
   },
   "outputs": [],
   "source": [
    "from sklearn import tree\n",
    "from nltk.classify.scikitlearn import SklearnClassifier\n",
    "classif = SklearnClassifier(tree.DecisionTreeClassifier())\n",
    "tree_classifier = classif.train(training_set)"
   ]
  },
  {
   "cell_type": "code",
   "execution_count": 57,
   "metadata": {
    "collapsed": false
   },
   "outputs": [
    {
     "name": "stdout",
     "output_type": "stream",
     "text": [
      "positive\n"
     ]
    }
   ],
   "source": [
    "tweet_positive = 'Larry is my friend'\n",
    "print classifier.classify(extract_features(tweet_positive.split()))"
   ]
  },
  {
   "cell_type": "code",
   "execution_count": 58,
   "metadata": {
    "collapsed": false
   },
   "outputs": [
    {
     "name": "stdout",
     "output_type": "stream",
     "text": [
      "negative\n"
     ]
    }
   ],
   "source": [
    "tweet_negative = 'Larry is not my friend'\n",
    "print classifier.classify(extract_features(tweet_negative.split()))"
   ]
  },
  {
   "cell_type": "code",
   "execution_count": 59,
   "metadata": {
    "collapsed": false
   },
   "outputs": [
    {
     "name": "stdout",
     "output_type": "stream",
     "text": [
      "positive\n"
     ]
    }
   ],
   "source": [
    "tweet_negative2 = 'Your song is annoying'\n",
    "print classifier.classify(extract_features(tweet_negative2.split()))"
   ]
  },
  {
   "cell_type": "code",
   "execution_count": 60,
   "metadata": {
    "collapsed": false
   },
   "outputs": [
    {
     "name": "stdout",
     "output_type": "stream",
     "text": [
      "Total accuracy: 80.000000% (4/20).\n"
     ]
    }
   ],
   "source": [
    "def classify_tweet(tweet):\n",
    "    return classifier.classify(extract_features(tweet)) \n",
    "    # nltk.word_tokenize(tweet)\n",
    "\n",
    "total = accuracy = float(len(test_tweets))\n",
    "\n",
    "for tweet in test_tweets:\n",
    "    if classify_tweet(tweet[0]) != tweet[1]:\n",
    "        accuracy -= 1\n",
    "\n",
    "print('Total accuracy: %f%% (%d/20).' % (accuracy / total * 100, accuracy))"
   ]
  },
  {
   "cell_type": "code",
   "execution_count": 2,
   "metadata": {
    "collapsed": false,
    "scrolled": true
   },
   "outputs": [
    {
     "name": "stdout",
     "output_type": "stream",
     "text": [
      "Total accuracy: 90.000000% (18/20).\n"
     ]
    }
   ],
   "source": [
    "import nltk\n",
    "from nltk.classify.naivebayes import NaiveBayesClassifier\n",
    "\n",
    "\n",
    "def get_words_in_tweets(tweets):\n",
    "    all_words = []\n",
    "    for (words, sentiment) in tweets:\n",
    "      all_words.extend(words)\n",
    "    return all_words\n",
    "\n",
    "\n",
    "def get_word_features(wordlist):\n",
    "    wordlist = nltk.FreqDist(wordlist)\n",
    "    word_features = wordlist.keys()\n",
    "    return word_features\n",
    "\n",
    "\n",
    "def read_tweets(fname, t_type):\n",
    "    tweets = []\n",
    "    f = open(fname, 'r')\n",
    "    line = f.readline()\n",
    "    while line != '':\n",
    "        tweets.append([line, t_type])\n",
    "        line = f.readline()\n",
    "    f.close()\n",
    "    return tweets\n",
    "\n",
    "\n",
    "def extract_features(document):\n",
    "    document_words = set(document)\n",
    "    features = {}\n",
    "    for word in word_features:\n",
    "      features['contains(%s)' % word] = (word in document_words)\n",
    "    return features\n",
    "\n",
    "\n",
    "def classify_tweet(tweet):\n",
    "    return \\\n",
    "        classifier.classify(extract_features(nltk.word_tokenize(tweet)))\n",
    "\n",
    "\n",
    "# read in postive and negative training tweets\n",
    "pos_tweets = read_tweets('C:/Users/lenovo/Desktop/Twitter-Sentimental-Analysis-master/Twitter-Sentimental-Analysis-master/happy.txt', 'positive')\n",
    "neg_tweets = read_tweets('C:/Users/lenovo/Desktop/Twitter-Sentimental-Analysis-master/Twitter-Sentimental-Analysis-master/sad.txt', 'negative')\n",
    "\n",
    "# filter away words that are less than 3 letters to form the training data\n",
    "tweets = []\n",
    "for (words, sentiment) in pos_tweets + neg_tweets:\n",
    "    words_filtered = [e.lower() for e in words.split() if len(e) >= 3]\n",
    "    tweets.append((words_filtered, sentiment))\n",
    "\n",
    "\n",
    "# extract the word features out from the training data\n",
    "word_features = get_word_features(\\\n",
    "                    get_words_in_tweets(tweets))\n",
    "\n",
    "\n",
    "# get the training set and train the Naive Bayes Classifier\n",
    "training_set = nltk.classify.util.apply_features(extract_features, tweets)\n",
    "classifier = NaiveBayesClassifier.train(training_set)\n",
    "\n",
    "\n",
    "# read in the test tweets and check accuracy\n",
    "# to add your own test tweets, add them in the respective files\n",
    "test_tweets = read_tweets('C:/Users/lenovo/Desktop/Twitter-Sentimental-Analysis-master/Twitter-Sentimental-Analysis-master/happy_test.txt', 'positive')\n",
    "test_tweets.extend(read_tweets('C:/Users/lenovo/Desktop/Twitter-Sentimental-Analysis-master/Twitter-Sentimental-Analysis-master/sad_test.txt', 'negative'))\n",
    "total = accuracy = float(len(test_tweets))\n",
    "\n",
    "for tweet in test_tweets:\n",
    "    if classify_tweet(tweet[0]) != tweet[1]:\n",
    "        accuracy -= 1\n",
    "\n",
    "print('Total accuracy: %f%% (%d/20).' % (accuracy / total * 100, accuracy))"
   ]
  },
  {
   "cell_type": "code",
   "execution_count": null,
   "metadata": {
    "collapsed": true
   },
   "outputs": [],
   "source": []
  }
 ],
 "metadata": {
  "kernelspec": {
   "display_name": "Python 2",
   "language": "python",
   "name": "python2"
  },
  "language_info": {
   "codemirror_mode": {
    "name": "ipython",
    "version": 2
   },
   "file_extension": ".py",
   "mimetype": "text/x-python",
   "name": "python",
   "nbconvert_exporter": "python",
   "pygments_lexer": "ipython2",
   "version": "2.7.11"
  }
 },
 "nbformat": 4,
 "nbformat_minor": 0
}
