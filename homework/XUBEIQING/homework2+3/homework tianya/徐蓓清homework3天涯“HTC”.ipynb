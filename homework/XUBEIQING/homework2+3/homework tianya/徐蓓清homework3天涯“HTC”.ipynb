{
 "cells": [
  {
   "cell_type": "code",
   "execution_count": 1,
   "metadata": {
    "collapsed": false
   },
   "outputs": [
    {
     "data": {
      "text/html": [
       "<iframe src=http://bbs.tianya.cn/list.jsp?item=free&nextid=%d&order=8&k=htc width=1000 height=500></iframe>"
      ],
      "text/plain": [
       "<IPython.core.display.HTML object>"
      ]
     },
     "execution_count": 1,
     "metadata": {},
     "output_type": "execute_result"
    }
   ],
   "source": [
    "from IPython.display import display_html, HTML\n",
    "HTML('<iframe src=http://bbs.tianya.cn/list.jsp?item=free&nextid=%d&order=8&k=htc width=1000 height=500></iframe>')\n"
   ]
  },
  {
   "cell_type": "code",
   "execution_count": 2,
   "metadata": {
    "collapsed": true
   },
   "outputs": [],
   "source": [
    "import urllib2\n",
    "from bs4 import BeautifulSoup"
   ]
  },
  {
   "cell_type": "code",
   "execution_count": 3,
   "metadata": {
    "collapsed": true
   },
   "outputs": [],
   "source": [
    "page_num = 0\n",
    "url = \"http://bbs.tianya.cn/list.jsp?item=free&nextid=%d&order=8&k=htc\" % page_num\n",
    "content = urllib2.urlopen(url).read() \n",
    "soup = BeautifulSoup(content, \"lxml\") \n",
    "articles = soup.find_all('tr')"
   ]
  },
  {
   "cell_type": "code",
   "execution_count": 4,
   "metadata": {
    "collapsed": false
   },
   "outputs": [
    {
     "name": "stdout",
     "output_type": "stream",
     "text": [
      "<tr>\n",
      "<th scope=\"col\"> 标题</th>\n",
      "<th scope=\"col\">作者</th>\n",
      "<th scope=\"col\">点击</th>\n",
      "<th scope=\"col\">回复</th>\n",
      "<th scope=\"col\">发表时间</th>\n",
      "</tr>\n"
     ]
    }
   ],
   "source": [
    "print articles[0]"
   ]
  },
  {
   "cell_type": "code",
   "execution_count": 5,
   "metadata": {
    "collapsed": false
   },
   "outputs": [
    {
     "name": "stdout",
     "output_type": "stream",
     "text": [
      "<tr class=\"bg\">\n",
      "<td class=\"td-title \">\n",
      "<span class=\"face\" title=\"\">\n",
      "</span>\n",
      "<a href=\"/post-free-3071187-1.shtml\" target=\"_blank\">\r\n",
      "\t\t\t\t\t\t\t我想买手机,在纠结买HTC好还是买华为好<span class=\"art-ico art-ico-3\" title=\"内有0张图片\"></span>\n",
      "</a>\n",
      "</td>\n",
      "<td><a class=\"author\" href=\"http://www.tianya.cn/71642073\" target=\"_blank\">啵右</a></td>\n",
      "<td>67472</td>\n",
      "<td>51</td>\n",
      "<td title=\"2013-02-18 01:36\">02-18 01:36</td>\n",
      "</tr>\n"
     ]
    }
   ],
   "source": [
    "print articles[1]"
   ]
  },
  {
   "cell_type": "code",
   "execution_count": 6,
   "metadata": {
    "collapsed": false
   },
   "outputs": [
    {
     "data": {
      "text/plain": [
       "50"
      ]
     },
     "execution_count": 6,
     "metadata": {},
     "output_type": "execute_result"
    }
   ],
   "source": [
    "len(articles[1:])"
   ]
  },
  {
   "cell_type": "code",
   "execution_count": 7,
   "metadata": {
    "collapsed": false
   },
   "outputs": [
    {
     "name": "stdout",
     "output_type": "stream",
     "text": [
      "<td class=\"td-title \">\n",
      "<span class=\"face\" title=\"\">\n",
      "</span>\n",
      "<a href=\"/post-free-3071187-1.shtml\" target=\"_blank\">\r\n",
      "\t\t\t\t\t\t\t我想买手机,在纠结买HTC好还是买华为好<span class=\"art-ico art-ico-3\" title=\"内有0张图片\"></span>\n",
      "</a>\n",
      "</td>\n",
      "<td><a class=\"author\" href=\"http://www.tianya.cn/71642073\" target=\"_blank\">啵右</a></td>\n",
      "<td>67472</td>\n",
      "<td>51</td>\n",
      "<td title=\"2013-02-18 01:36\">02-18 01:36</td>\n"
     ]
    }
   ],
   "source": [
    "for t in articles[1].find_all('td'): print t"
   ]
  },
  {
   "cell_type": "code",
   "execution_count": 8,
   "metadata": {
    "collapsed": true
   },
   "outputs": [],
   "source": [
    "td = articles[1].find_all('td')"
   ]
  },
  {
   "cell_type": "code",
   "execution_count": 9,
   "metadata": {
    "collapsed": false
   },
   "outputs": [
    {
     "name": "stdout",
     "output_type": "stream",
     "text": [
      "<td class=\"td-title \">\n",
      "<span class=\"face\" title=\"\">\n",
      "</span>\n",
      "<a href=\"/post-free-3071187-1.shtml\" target=\"_blank\">\r\n",
      "\t\t\t\t\t\t\t我想买手机,在纠结买HTC好还是买华为好<span class=\"art-ico art-ico-3\" title=\"内有0张图片\"></span>\n",
      "</a>\n",
      "</td>\n"
     ]
    }
   ],
   "source": [
    "print td[0]"
   ]
  },
  {
   "cell_type": "code",
   "execution_count": 10,
   "metadata": {
    "collapsed": false
   },
   "outputs": [
    {
     "name": "stdout",
     "output_type": "stream",
     "text": [
      "<td class=\"td-title \">\n",
      "<span class=\"face\" title=\"\">\n",
      "</span>\n",
      "<a href=\"/post-free-3071187-1.shtml\" target=\"_blank\">\r\n",
      "\t\t\t\t\t\t\t我想买手机,在纠结买HTC好还是买华为好<span class=\"art-ico art-ico-3\" title=\"内有0张图片\"></span>\n",
      "</a>\n",
      "</td>\n"
     ]
    }
   ],
   "source": [
    "print td[0]"
   ]
  },
  {
   "cell_type": "code",
   "execution_count": 11,
   "metadata": {
    "collapsed": false
   },
   "outputs": [
    {
     "name": "stdout",
     "output_type": "stream",
     "text": [
      "\n",
      "\n",
      "\n",
      "\r\n",
      "\t\t\t\t\t\t\t我想买手机,在纠结买HTC好还是买华为好\n",
      "\n",
      "\n"
     ]
    }
   ],
   "source": [
    "print td[0].text"
   ]
  },
  {
   "cell_type": "code",
   "execution_count": 12,
   "metadata": {
    "collapsed": false
   },
   "outputs": [
    {
     "name": "stdout",
     "output_type": "stream",
     "text": [
      "我想买手机,在纠结买HTC好还是买华为好\n"
     ]
    }
   ],
   "source": [
    "print td[0].text.strip()"
   ]
  },
  {
   "cell_type": "code",
   "execution_count": 13,
   "metadata": {
    "collapsed": false
   },
   "outputs": [
    {
     "name": "stdout",
     "output_type": "stream",
     "text": [
      "/post-free-3071187-1.shtml\n"
     ]
    }
   ],
   "source": [
    "print td[0].a['href']"
   ]
  },
  {
   "cell_type": "code",
   "execution_count": 14,
   "metadata": {
    "collapsed": false
   },
   "outputs": [
    {
     "name": "stdout",
     "output_type": "stream",
     "text": [
      "<td><a class=\"author\" href=\"http://www.tianya.cn/71642073\" target=\"_blank\">啵右</a></td>\n"
     ]
    }
   ],
   "source": [
    "print td[1]"
   ]
  },
  {
   "cell_type": "code",
   "execution_count": 15,
   "metadata": {
    "collapsed": false
   },
   "outputs": [
    {
     "name": "stdout",
     "output_type": "stream",
     "text": [
      "<td>67472</td>\n"
     ]
    }
   ],
   "source": [
    "print td[2]"
   ]
  },
  {
   "cell_type": "code",
   "execution_count": 16,
   "metadata": {
    "collapsed": false
   },
   "outputs": [
    {
     "name": "stdout",
     "output_type": "stream",
     "text": [
      "<td>51</td>\n"
     ]
    }
   ],
   "source": [
    "print td[3]"
   ]
  },
  {
   "cell_type": "code",
   "execution_count": 17,
   "metadata": {
    "collapsed": false
   },
   "outputs": [
    {
     "name": "stdout",
     "output_type": "stream",
     "text": [
      "<td title=\"2013-02-18 01:36\">02-18 01:36</td>\n"
     ]
    }
   ],
   "source": [
    "print td[4]"
   ]
  },
  {
   "cell_type": "code",
   "execution_count": 18,
   "metadata": {
    "collapsed": true
   },
   "outputs": [],
   "source": [
    "records = []\n",
    "for i in articles[1:]:\n",
    "    td = i.find_all('td')\n",
    "    title = td[0].text.strip()\n",
    "    title_url = td[0].a['href']\n",
    "    author = td[1].text\n",
    "    author_url = td[1].a['href']\n",
    "    views = td[2].text\n",
    "    replies = td[3].text\n",
    "    date = td[4]['title']\n",
    "    record = title + '\\t' + title_url+ '\\t' + author + '\\t'+ author_url + '\\t' + views+ '\\t'  + replies+ '\\t'+ date\n",
    "    records.append(record)"
   ]
  },
  {
   "cell_type": "code",
   "execution_count": 19,
   "metadata": {
    "collapsed": false
   },
   "outputs": [
    {
     "name": "stdout",
     "output_type": "stream",
     "text": [
      "HTC手机质量\t/post-free-3488230-1.shtml\t吴尚清凉\thttp://www.tianya.cn/82150478\t8126\t23\t2013-07-16 16:27\n"
     ]
    }
   ],
   "source": [
    "print records[2]"
   ]
  },
  {
   "cell_type": "code",
   "execution_count": 20,
   "metadata": {
    "collapsed": true
   },
   "outputs": [],
   "source": [
    "def crawler(page_num, file_name):\n",
    "    try:\n",
    "        url = \"http://bbs.tianya.cn/list.jsp?item=free&nextid=%d&order=8&k=htc\" % page_num\n",
    "        content = urllib2.urlopen(url).read() \n",
    "        soup = BeautifulSoup(content, \"lxml\") \n",
    "        articles = soup.find_all('tr')\n",
    "        for i in articles[1:]:\n",
    "            td = i.find_all('td')\n",
    "            title = td[0].text.strip()\n",
    "            title_url = td[0].a['href']\n",
    "            author = td[1].text\n",
    "            author_url = td[1].a['href']\n",
    "            views = td[2].text\n",
    "            replies = td[3].text\n",
    "            date = td[4]['title']\n",
    "            record = title + '\\t' + title_url+ '\\t' + author + '\\t'+ \\\n",
    "                        author_url + '\\t' + views+ '\\t'  + replies+ '\\t'+ date\n",
    "            with open(file_name,'a') as p: \n",
    "                        p.write(record.encode('utf-8')+\"\\n\") \n",
    "    except Exception, e:\n",
    "        print e\n",
    "        pass"
   ]
  },
  {
   "cell_type": "code",
   "execution_count": 22,
   "metadata": {
    "collapsed": false
   },
   "outputs": [
    {
     "name": "stdout",
     "output_type": "stream",
     "text": [
      "0\n",
      "1\n",
      "2\n",
      "3\n",
      "4\n",
      "5\n",
      "6\n",
      "7\n",
      "8\n",
      "9\n",
      "10\n",
      "11\n",
      "12\n",
      "13\n",
      "14\n"
     ]
    }
   ],
   "source": [
    "for page_num in range(15):\n",
    "    print (page_num)\n",
    "    crawler(page_num, '/Users/lisa/Desktop/tianya/tianya_htc_threads_list.txt') "
   ]
  },
  {
   "cell_type": "code",
   "execution_count": 23,
   "metadata": {
    "collapsed": false
   },
   "outputs": [
    {
     "data": {
      "text/html": [
       "<div>\n",
       "<table border=\"1\" class=\"dataframe\">\n",
       "  <thead>\n",
       "    <tr style=\"text-align: right;\">\n",
       "      <th></th>\n",
       "      <th>0</th>\n",
       "      <th>1</th>\n",
       "      <th>2</th>\n",
       "      <th>3</th>\n",
       "      <th>4</th>\n",
       "      <th>5</th>\n",
       "      <th>6</th>\n",
       "    </tr>\n",
       "  </thead>\n",
       "  <tbody>\n",
       "    <tr>\n",
       "      <th>0</th>\n",
       "      <td>我想买手机,在纠结买HTC好还是买华为好</td>\n",
       "      <td>/post-free-3071187-1.shtml</td>\n",
       "      <td>啵右</td>\n",
       "      <td>http://www.tianya.cn/71642073</td>\n",
       "      <td>67472</td>\n",
       "      <td>51</td>\n",
       "      <td>2013-02-18 01:36</td>\n",
       "    </tr>\n",
       "    <tr>\n",
       "      <th>1</th>\n",
       "      <td>万恶的HTC手机</td>\n",
       "      <td>/post-free-2324293-1.shtml</td>\n",
       "      <td>很多心的人</td>\n",
       "      <td>http://www.tianya.cn/54961190</td>\n",
       "      <td>11543</td>\n",
       "      <td>212</td>\n",
       "      <td>2011-11-21 13:25</td>\n",
       "    </tr>\n",
       "    <tr>\n",
       "      <th>2</th>\n",
       "      <td>HTC手机质量</td>\n",
       "      <td>/post-free-3488230-1.shtml</td>\n",
       "      <td>吴尚清凉</td>\n",
       "      <td>http://www.tianya.cn/82150478</td>\n",
       "      <td>8126</td>\n",
       "      <td>23</td>\n",
       "      <td>2013-07-16 16:27</td>\n",
       "    </tr>\n",
       "    <tr>\n",
       "      <th>3</th>\n",
       "      <td>青橙手机背景大? 诺基亚,小米,黑莓,HTC,三星等再度被调侃(转...</td>\n",
       "      <td>/post-free-2444284-1.shtml</td>\n",
       "      <td>shiboyouwo</td>\n",
       "      <td>http://www.tianya.cn/36813077</td>\n",
       "      <td>7318</td>\n",
       "      <td>12</td>\n",
       "      <td>2012-03-22 14:31</td>\n",
       "    </tr>\n",
       "    <tr>\n",
       "      <th>4</th>\n",
       "      <td>再不买HTC,我呼吁大家再不要买HTC,质量太差了</td>\n",
       "      <td>/post-free-2509689-1.shtml</td>\n",
       "      <td>再不买HTC</td>\n",
       "      <td>http://www.tianya.cn/68334017</td>\n",
       "      <td>5503</td>\n",
       "      <td>88</td>\n",
       "      <td>2012-04-29 21:47</td>\n",
       "    </tr>\n",
       "    <tr>\n",
       "      <th>5</th>\n",
       "      <td>HTC又要悲剧了啊!被苹果咬了</td>\n",
       "      <td>/post-free-2344578-1.shtml</td>\n",
       "      <td>谁咬了我的苹果呢</td>\n",
       "      <td>http://www.tianya.cn/61283191</td>\n",
       "      <td>3926</td>\n",
       "      <td>39</td>\n",
       "      <td>2011-12-21 09:42</td>\n",
       "    </tr>\n",
       "    <tr>\n",
       "      <th>6</th>\n",
       "      <td>HTC D826 出现严重的质量问题,触屏失灵</td>\n",
       "      <td>/post-free-5169121-1.shtml</td>\n",
       "      <td>沵是莪的幸福</td>\n",
       "      <td>http://www.tianya.cn/102409177</td>\n",
       "      <td>2434</td>\n",
       "      <td>95</td>\n",
       "      <td>2015-07-07 11:33</td>\n",
       "    </tr>\n",
       "    <tr>\n",
       "      <th>7</th>\n",
       "      <td>HTC顷心G20手机掉水里怎么办</td>\n",
       "      <td>/post-free-2483905-1.shtml</td>\n",
       "      <td>李加菲ABC</td>\n",
       "      <td>http://www.tianya.cn/67508772</td>\n",
       "      <td>2311</td>\n",
       "      <td>25</td>\n",
       "      <td>2012-04-15 20:16</td>\n",
       "    </tr>\n",
       "    <tr>\n",
       "      <th>8</th>\n",
       "      <td>HTC 802d严重质量问题及htc换机中多次违背承诺欺骗消费者</td>\n",
       "      <td>/post-free-3924147-1.shtml</td>\n",
       "      <td>ren为何样E</td>\n",
       "      <td>http://www.tianya.cn/85973935</td>\n",
       "      <td>2202</td>\n",
       "      <td>14</td>\n",
       "      <td>2013-12-19 23:10</td>\n",
       "    </tr>\n",
       "    <tr>\n",
       "      <th>9</th>\n",
       "      <td>HTC 现在怎么了  质量好差</td>\n",
       "      <td>/post-free-4191073-1.shtml</td>\n",
       "      <td>王韶文</td>\n",
       "      <td>http://www.tianya.cn/86737666</td>\n",
       "      <td>2090</td>\n",
       "      <td>4</td>\n",
       "      <td>2014-03-13 22:01</td>\n",
       "    </tr>\n",
       "  </tbody>\n",
       "</table>\n",
       "</div>"
      ],
      "text/plain": [
       "                                      0                           1  \\\n",
       "0                  我想买手机,在纠结买HTC好还是买华为好  /post-free-3071187-1.shtml   \n",
       "1                              万恶的HTC手机  /post-free-2324293-1.shtml   \n",
       "2                               HTC手机质量  /post-free-3488230-1.shtml   \n",
       "3  青橙手机背景大? 诺基亚,小米,黑莓,HTC,三星等再度被调侃(转...  /post-free-2444284-1.shtml   \n",
       "4             再不买HTC,我呼吁大家再不要买HTC,质量太差了  /post-free-2509689-1.shtml   \n",
       "5                       HTC又要悲剧了啊!被苹果咬了  /post-free-2344578-1.shtml   \n",
       "6               HTC D826 出现严重的质量问题,触屏失灵  /post-free-5169121-1.shtml   \n",
       "7                      HTC顷心G20手机掉水里怎么办  /post-free-2483905-1.shtml   \n",
       "8      HTC 802d严重质量问题及htc换机中多次违背承诺欺骗消费者  /post-free-3924147-1.shtml   \n",
       "9                       HTC 现在怎么了  质量好差  /post-free-4191073-1.shtml   \n",
       "\n",
       "            2                               3      4    5                 6  \n",
       "0          啵右   http://www.tianya.cn/71642073  67472   51  2013-02-18 01:36  \n",
       "1       很多心的人   http://www.tianya.cn/54961190  11543  212  2011-11-21 13:25  \n",
       "2        吴尚清凉   http://www.tianya.cn/82150478   8126   23  2013-07-16 16:27  \n",
       "3  shiboyouwo   http://www.tianya.cn/36813077   7318   12  2012-03-22 14:31  \n",
       "4      再不买HTC   http://www.tianya.cn/68334017   5503   88  2012-04-29 21:47  \n",
       "5    谁咬了我的苹果呢   http://www.tianya.cn/61283191   3926   39  2011-12-21 09:42  \n",
       "6      沵是莪的幸福  http://www.tianya.cn/102409177   2434   95  2015-07-07 11:33  \n",
       "7      李加菲ABC   http://www.tianya.cn/67508772   2311   25  2012-04-15 20:16  \n",
       "8     ren为何样E   http://www.tianya.cn/85973935   2202   14  2013-12-19 23:10  \n",
       "9         王韶文   http://www.tianya.cn/86737666   2090    4  2014-03-13 22:01  "
      ]
     },
     "execution_count": 23,
     "metadata": {},
     "output_type": "execute_result"
    }
   ],
   "source": [
    "import pandas as pd\n",
    "df = pd.read_csv('/Users/lisa/Desktop/tianya/tianya_htc_threads_list.txt', sep = \"\\t\", header=None)\n",
    "df[:10]"
   ]
  },
  {
   "cell_type": "code",
   "execution_count": 24,
   "metadata": {
    "collapsed": false
   },
   "outputs": [
    {
     "data": {
      "text/plain": [
       "404"
      ]
     },
     "execution_count": 24,
     "metadata": {},
     "output_type": "execute_result"
    }
   ],
   "source": [
    "len(df)"
   ]
  },
  {
   "cell_type": "code",
   "execution_count": 25,
   "metadata": {
    "collapsed": false
   },
   "outputs": [
    {
     "data": {
      "text/html": [
       "<div>\n",
       "<table border=\"1\" class=\"dataframe\">\n",
       "  <thead>\n",
       "    <tr style=\"text-align: right;\">\n",
       "      <th></th>\n",
       "      <th>title</th>\n",
       "      <th>link</th>\n",
       "      <th>author</th>\n",
       "      <th>author_page</th>\n",
       "      <th>click</th>\n",
       "      <th>reply</th>\n",
       "      <th>time</th>\n",
       "    </tr>\n",
       "  </thead>\n",
       "  <tbody>\n",
       "    <tr>\n",
       "      <th>0</th>\n",
       "      <td>我想买手机,在纠结买HTC好还是买华为好</td>\n",
       "      <td>/post-free-3071187-1.shtml</td>\n",
       "      <td>啵右</td>\n",
       "      <td>http://www.tianya.cn/71642073</td>\n",
       "      <td>67472</td>\n",
       "      <td>51</td>\n",
       "      <td>2013-02-18 01:36</td>\n",
       "    </tr>\n",
       "    <tr>\n",
       "      <th>1</th>\n",
       "      <td>万恶的HTC手机</td>\n",
       "      <td>/post-free-2324293-1.shtml</td>\n",
       "      <td>很多心的人</td>\n",
       "      <td>http://www.tianya.cn/54961190</td>\n",
       "      <td>11543</td>\n",
       "      <td>212</td>\n",
       "      <td>2011-11-21 13:25</td>\n",
       "    </tr>\n",
       "    <tr>\n",
       "      <th>2</th>\n",
       "      <td>HTC手机质量</td>\n",
       "      <td>/post-free-3488230-1.shtml</td>\n",
       "      <td>吴尚清凉</td>\n",
       "      <td>http://www.tianya.cn/82150478</td>\n",
       "      <td>8126</td>\n",
       "      <td>23</td>\n",
       "      <td>2013-07-16 16:27</td>\n",
       "    </tr>\n",
       "    <tr>\n",
       "      <th>3</th>\n",
       "      <td>青橙手机背景大? 诺基亚,小米,黑莓,HTC,三星等再度被调侃(转...</td>\n",
       "      <td>/post-free-2444284-1.shtml</td>\n",
       "      <td>shiboyouwo</td>\n",
       "      <td>http://www.tianya.cn/36813077</td>\n",
       "      <td>7318</td>\n",
       "      <td>12</td>\n",
       "      <td>2012-03-22 14:31</td>\n",
       "    </tr>\n",
       "    <tr>\n",
       "      <th>4</th>\n",
       "      <td>再不买HTC,我呼吁大家再不要买HTC,质量太差了</td>\n",
       "      <td>/post-free-2509689-1.shtml</td>\n",
       "      <td>再不买HTC</td>\n",
       "      <td>http://www.tianya.cn/68334017</td>\n",
       "      <td>5503</td>\n",
       "      <td>88</td>\n",
       "      <td>2012-04-29 21:47</td>\n",
       "    </tr>\n",
       "    <tr>\n",
       "      <th>5</th>\n",
       "      <td>HTC又要悲剧了啊!被苹果咬了</td>\n",
       "      <td>/post-free-2344578-1.shtml</td>\n",
       "      <td>谁咬了我的苹果呢</td>\n",
       "      <td>http://www.tianya.cn/61283191</td>\n",
       "      <td>3926</td>\n",
       "      <td>39</td>\n",
       "      <td>2011-12-21 09:42</td>\n",
       "    </tr>\n",
       "    <tr>\n",
       "      <th>6</th>\n",
       "      <td>HTC D826 出现严重的质量问题,触屏失灵</td>\n",
       "      <td>/post-free-5169121-1.shtml</td>\n",
       "      <td>沵是莪的幸福</td>\n",
       "      <td>http://www.tianya.cn/102409177</td>\n",
       "      <td>2434</td>\n",
       "      <td>95</td>\n",
       "      <td>2015-07-07 11:33</td>\n",
       "    </tr>\n",
       "    <tr>\n",
       "      <th>7</th>\n",
       "      <td>HTC顷心G20手机掉水里怎么办</td>\n",
       "      <td>/post-free-2483905-1.shtml</td>\n",
       "      <td>李加菲ABC</td>\n",
       "      <td>http://www.tianya.cn/67508772</td>\n",
       "      <td>2311</td>\n",
       "      <td>25</td>\n",
       "      <td>2012-04-15 20:16</td>\n",
       "    </tr>\n",
       "    <tr>\n",
       "      <th>8</th>\n",
       "      <td>HTC 802d严重质量问题及htc换机中多次违背承诺欺骗消费者</td>\n",
       "      <td>/post-free-3924147-1.shtml</td>\n",
       "      <td>ren为何样E</td>\n",
       "      <td>http://www.tianya.cn/85973935</td>\n",
       "      <td>2202</td>\n",
       "      <td>14</td>\n",
       "      <td>2013-12-19 23:10</td>\n",
       "    </tr>\n",
       "    <tr>\n",
       "      <th>9</th>\n",
       "      <td>HTC 现在怎么了  质量好差</td>\n",
       "      <td>/post-free-4191073-1.shtml</td>\n",
       "      <td>王韶文</td>\n",
       "      <td>http://www.tianya.cn/86737666</td>\n",
       "      <td>2090</td>\n",
       "      <td>4</td>\n",
       "      <td>2014-03-13 22:01</td>\n",
       "    </tr>\n",
       "    <tr>\n",
       "      <th>10</th>\n",
       "      <td>北京百脑汇购买htc g12的惨痛经历,特此发文告诫各位网友</td>\n",
       "      <td>/post-free-2181608-1.shtml</td>\n",
       "      <td>aidjshy</td>\n",
       "      <td>http://www.tianya.cn/35343252</td>\n",
       "      <td>2077</td>\n",
       "      <td>22</td>\n",
       "      <td>2011-06-06 08:41</td>\n",
       "    </tr>\n",
       "    <tr>\n",
       "      <th>11</th>\n",
       "      <td>揭露一中关村e世界无良商家(附htc butterfly真假鉴别)</td>\n",
       "      <td>/post-free-3194056-1.shtml</td>\n",
       "      <td>issacmaxcao</td>\n",
       "      <td>http://www.tianya.cn/79628378</td>\n",
       "      <td>1338</td>\n",
       "      <td>1</td>\n",
       "      <td>2013-04-07 22:32</td>\n",
       "    </tr>\n",
       "    <tr>\n",
       "      <th>12</th>\n",
       "      <td>快来看!HTC 水货3000以上的ONE X淘宝只卖1000多!不看你后悔啊...</td>\n",
       "      <td>/post-free-2774805-1.shtml</td>\n",
       "      <td>Sutty214</td>\n",
       "      <td>http://www.tianya.cn/71298177</td>\n",
       "      <td>1307</td>\n",
       "      <td>2</td>\n",
       "      <td>2012-09-18 15:49</td>\n",
       "    </tr>\n",
       "    <tr>\n",
       "      <th>13</th>\n",
       "      <td>htc onex 开不了机?</td>\n",
       "      <td>/post-free-3566586-1.shtml</td>\n",
       "      <td>欣安博科技</td>\n",
       "      <td>http://www.tianya.cn/81965631</td>\n",
       "      <td>1213</td>\n",
       "      <td>0</td>\n",
       "      <td>2013-08-12 13:22</td>\n",
       "    </tr>\n",
       "    <tr>\n",
       "      <th>14</th>\n",
       "      <td>在淘宝上买了个HTC ONE,结果被骗了!是个深圳商家!</td>\n",
       "      <td>/post-free-3425044-1.shtml</td>\n",
       "      <td>sitm315</td>\n",
       "      <td>http://www.tianya.cn/81642677</td>\n",
       "      <td>1141</td>\n",
       "      <td>11</td>\n",
       "      <td>2013-06-25 22:26</td>\n",
       "    </tr>\n",
       "  </tbody>\n",
       "</table>\n",
       "</div>"
      ],
      "text/plain": [
       "                                        title                        link  \\\n",
       "0                        我想买手机,在纠结买HTC好还是买华为好  /post-free-3071187-1.shtml   \n",
       "1                                    万恶的HTC手机  /post-free-2324293-1.shtml   \n",
       "2                                     HTC手机质量  /post-free-3488230-1.shtml   \n",
       "3        青橙手机背景大? 诺基亚,小米,黑莓,HTC,三星等再度被调侃(转...  /post-free-2444284-1.shtml   \n",
       "4                   再不买HTC,我呼吁大家再不要买HTC,质量太差了  /post-free-2509689-1.shtml   \n",
       "5                             HTC又要悲剧了啊!被苹果咬了  /post-free-2344578-1.shtml   \n",
       "6                     HTC D826 出现严重的质量问题,触屏失灵  /post-free-5169121-1.shtml   \n",
       "7                            HTC顷心G20手机掉水里怎么办  /post-free-2483905-1.shtml   \n",
       "8            HTC 802d严重质量问题及htc换机中多次违背承诺欺骗消费者  /post-free-3924147-1.shtml   \n",
       "9                             HTC 现在怎么了  质量好差  /post-free-4191073-1.shtml   \n",
       "10             北京百脑汇购买htc g12的惨痛经历,特此发文告诫各位网友  /post-free-2181608-1.shtml   \n",
       "11          揭露一中关村e世界无良商家(附htc butterfly真假鉴别)  /post-free-3194056-1.shtml   \n",
       "12  快来看!HTC 水货3000以上的ONE X淘宝只卖1000多!不看你后悔啊...  /post-free-2774805-1.shtml   \n",
       "13                             htc onex 开不了机?  /post-free-3566586-1.shtml   \n",
       "14               在淘宝上买了个HTC ONE,结果被骗了!是个深圳商家!  /post-free-3425044-1.shtml   \n",
       "\n",
       "         author                     author_page  click  reply  \\\n",
       "0            啵右   http://www.tianya.cn/71642073  67472     51   \n",
       "1         很多心的人   http://www.tianya.cn/54961190  11543    212   \n",
       "2          吴尚清凉   http://www.tianya.cn/82150478   8126     23   \n",
       "3    shiboyouwo   http://www.tianya.cn/36813077   7318     12   \n",
       "4        再不买HTC   http://www.tianya.cn/68334017   5503     88   \n",
       "5      谁咬了我的苹果呢   http://www.tianya.cn/61283191   3926     39   \n",
       "6        沵是莪的幸福  http://www.tianya.cn/102409177   2434     95   \n",
       "7        李加菲ABC   http://www.tianya.cn/67508772   2311     25   \n",
       "8       ren为何样E   http://www.tianya.cn/85973935   2202     14   \n",
       "9           王韶文   http://www.tianya.cn/86737666   2090      4   \n",
       "10      aidjshy   http://www.tianya.cn/35343252   2077     22   \n",
       "11  issacmaxcao   http://www.tianya.cn/79628378   1338      1   \n",
       "12     Sutty214   http://www.tianya.cn/71298177   1307      2   \n",
       "13        欣安博科技   http://www.tianya.cn/81965631   1213      0   \n",
       "14      sitm315   http://www.tianya.cn/81642677   1141     11   \n",
       "\n",
       "                time  \n",
       "0   2013-02-18 01:36  \n",
       "1   2011-11-21 13:25  \n",
       "2   2013-07-16 16:27  \n",
       "3   2012-03-22 14:31  \n",
       "4   2012-04-29 21:47  \n",
       "5   2011-12-21 09:42  \n",
       "6   2015-07-07 11:33  \n",
       "7   2012-04-15 20:16  \n",
       "8   2013-12-19 23:10  \n",
       "9   2014-03-13 22:01  \n",
       "10  2011-06-06 08:41  \n",
       "11  2013-04-07 22:32  \n",
       "12  2012-09-18 15:49  \n",
       "13  2013-08-12 13:22  \n",
       "14  2013-06-25 22:26  "
      ]
     },
     "execution_count": 25,
     "metadata": {},
     "output_type": "execute_result"
    }
   ],
   "source": [
    "df=df.rename(columns = {0:'title', 1:'link', 2:'author',3:'author_page', 4:'click', 5:'reply', 6:'time'})\n",
    "df[:15]"
   ]
  },
  {
   "cell_type": "code",
   "execution_count": 26,
   "metadata": {
    "collapsed": false
   },
   "outputs": [
    {
     "data": {
      "text/plain": [
       "0      http://www.tianya.cn/71642073\n",
       "1      http://www.tianya.cn/54961190\n",
       "2      http://www.tianya.cn/82150478\n",
       "3      http://www.tianya.cn/36813077\n",
       "4      http://www.tianya.cn/68334017\n",
       "5      http://www.tianya.cn/61283191\n",
       "6     http://www.tianya.cn/102409177\n",
       "7      http://www.tianya.cn/67508772\n",
       "8      http://www.tianya.cn/85973935\n",
       "9      http://www.tianya.cn/86737666\n",
       "10     http://www.tianya.cn/35343252\n",
       "11     http://www.tianya.cn/79628378\n",
       "12     http://www.tianya.cn/71298177\n",
       "13     http://www.tianya.cn/81965631\n",
       "14     http://www.tianya.cn/81642677\n",
       "Name: author_page, dtype: object"
      ]
     },
     "execution_count": 26,
     "metadata": {},
     "output_type": "execute_result"
    }
   ],
   "source": [
    "df.author_page[:15]"
   ]
  },
  {
   "cell_type": "code",
   "execution_count": 29,
   "metadata": {
    "collapsed": true
   },
   "outputs": [],
   "source": [
    "def author_crawler(url, file_name):\n",
    "    try:\n",
    "        content = urllib2.urlopen(url).read() \n",
    "        soup = BeautifulSoup(content, \"lxml\")\n",
    "        link_info = soup.find_all('div', {'class', 'link-box'})\n",
    "        followed_num, fans_num = [i.a.text for i in link_info]\n",
    "        try:\n",
    "            activity = soup.find_all('span', {'class', 'subtitle'})\n",
    "            post_num, reply_num = [j.text[2:] for i in activity[:1] for j in i('a')]\n",
    "        except:\n",
    "            post_num, reply_num = 1, 0\n",
    "        record =  '\\t'.join([url, followed_num, fans_num, post_num, reply_num])\n",
    "        with open(file_name,'a') as p: \n",
    "                    p.write(record.encode('utf-8')+\"\\n\") \n",
    "\n",
    "    except Exception, e:\n",
    "        print e, url\n",
    "        record =  '\\t'.join([url, 'na', 'na', 'na', 'na'])\n",
    "        with open(file_name,'a') as p: \n",
    "                    p.write(record.encode('utf-8')+\"\\n\") \n",
    "        pass"
   ]
  },
  {
   "cell_type": "code",
   "execution_count": 30,
   "metadata": {
    "collapsed": false,
    "scrolled": true
   },
   "outputs": [
    {
     "name": "stdout",
     "output_type": "stream",
     "text": [
      "0\n",
      "[Errno 54] Connection reset by peer http://www.tianya.cn/61283191\n",
      "10\n",
      "20\n",
      "30\n",
      "[Errno 54] Connection reset by peer http://www.tianya.cn/72251898\n",
      "need more than 0 values to unpack http://www.tianya.cn/97992942\n",
      "40\n",
      "[Errno 54] Connection reset by peer http://www.tianya.cn/57543395\n",
      "50\n",
      "need more than 0 values to unpack http://www.tianya.cn/100609902\n",
      "60\n",
      "need more than 0 values to unpack http://www.tianya.cn/99845924\n",
      "need more than 0 values to unpack http://www.tianya.cn/99845924\n",
      "70\n",
      "need more than 0 values to unpack http://www.tianya.cn/63312167\n",
      "80\n",
      "90\n",
      "100\n",
      "need more than 0 values to unpack http://www.tianya.cn/99845924\n",
      "110\n",
      "need more than 0 values to unpack http://www.tianya.cn/99845924\n",
      "need more than 0 values to unpack http://www.tianya.cn/99845924\n",
      "120\n",
      "130\n",
      "need more than 0 values to unpack http://www.tianya.cn/99845924\n",
      "140\n",
      "need more than 0 values to unpack http://www.tianya.cn/99845924\n",
      "150\n",
      "need more than 0 values to unpack http://www.tianya.cn/99845924\n",
      "160\n",
      "170\n",
      "180\n",
      "190\n",
      "200\n",
      "210\n",
      "220\n",
      "230\n",
      "need more than 0 values to unpack http://www.tianya.cn/97992942\n",
      "240\n",
      "250\n",
      "[Errno 54] Connection reset by peer http://www.tianya.cn/76277814\n",
      "need more than 0 values to unpack http://www.tianya.cn/100609902\n",
      "260\n",
      "need more than 0 values to unpack http://www.tianya.cn/99845924\n",
      "need more than 0 values to unpack http://www.tianya.cn/99845924\n",
      "270\n",
      "need more than 0 values to unpack http://www.tianya.cn/63312167\n",
      "280\n",
      "290\n",
      "300\n",
      "need more than 0 values to unpack http://www.tianya.cn/99845924\n",
      "310\n",
      "need more than 0 values to unpack http://www.tianya.cn/99845924\n",
      "need more than 0 values to unpack http://www.tianya.cn/99845924\n",
      "320\n",
      "330\n",
      "need more than 0 values to unpack http://www.tianya.cn/99845924\n",
      "340\n",
      "need more than 0 values to unpack http://www.tianya.cn/99845924\n",
      "350\n",
      "need more than 0 values to unpack http://www.tianya.cn/99845924\n",
      "360\n",
      "370\n",
      "380\n",
      "390\n",
      "400\n"
     ]
    }
   ],
   "source": [
    "for k, url in enumerate(df.author_page):\n",
    "    if k % 10==0:\n",
    "        print k\n",
    "    author_crawler(url, '/Users/lisa/Desktop/tianya/tianya_htc_threads_author_info.txt') "
   ]
  },
  {
   "cell_type": "code",
   "execution_count": 31,
   "metadata": {
    "collapsed": true
   },
   "outputs": [],
   "source": [
    "url = df.author_page[1]\n",
    "content = urllib2.urlopen(url).read() \n",
    "soup1 = BeautifulSoup(content, \"lxml\") "
   ]
  },
  {
   "cell_type": "code",
   "execution_count": 34,
   "metadata": {
    "collapsed": false
   },
   "outputs": [
    {
     "data": {
      "text/plain": [
       "'/post-free-3488230-1.shtml'"
      ]
     },
     "execution_count": 34,
     "metadata": {},
     "output_type": "execute_result"
    }
   ],
   "source": [
    "df.link[2]"
   ]
  },
  {
   "cell_type": "code",
   "execution_count": 35,
   "metadata": {
    "collapsed": false
   },
   "outputs": [
    {
     "data": {
      "text/plain": [
       "'http://bbs.tianya.cn/post-free-3488230-1.shtml'"
      ]
     },
     "execution_count": 35,
     "metadata": {},
     "output_type": "execute_result"
    }
   ],
   "source": [
    "url = 'http://bbs.tianya.cn'+ df.link[2]\n",
    "url"
   ]
  },
  {
   "cell_type": "code",
   "execution_count": 36,
   "metadata": {
    "collapsed": false
   },
   "outputs": [
    {
     "data": {
      "text/html": [
       "<iframe src=http://bbs.tianya.cn/post-free-3488230-1.shtml width=1000 height=500></iframe>"
      ],
      "text/plain": [
       "<IPython.core.display.HTML object>"
      ]
     },
     "execution_count": 36,
     "metadata": {},
     "output_type": "execute_result"
    }
   ],
   "source": [
    "from IPython.display import display_html, HTML\n",
    "HTML('<iframe src=http://bbs.tianya.cn/post-free-3488230-1.shtml width=1000 height=500></iframe>')"
   ]
  },
  {
   "cell_type": "code",
   "execution_count": 37,
   "metadata": {
    "collapsed": true
   },
   "outputs": [],
   "source": [
    "post = urllib2.urlopen(url).read()\n",
    "post_soup = BeautifulSoup(post, \"lxml\") \n"
   ]
  },
  {
   "cell_type": "code",
   "execution_count": 40,
   "metadata": {
    "collapsed": false
   },
   "outputs": [
    {
     "name": "stdout",
     "output_type": "stream",
     "text": [
      "<!DOCTYPE HTML>\n",
      "<html>\n",
      " <head>\n",
      "  <meta charset=\"utf-8\"/>\n",
      "  <title>\n",
      "   HTC手机质量_天涯杂谈_天涯论坛\n",
      "  </title>\n",
      "  <meta content=\"HTC手机质量　　自从买了HTC ONENX后，心情一直没有好过，很多人都说这个牌子的手机很不错，所以就和朋友一起买了。可接下来的情况就大出我的意料了。　　1，手机打电话不到2分钟就非常的烫，问客服说这是正常现象，后面想智能机都这样吧，只不过htc烫的夸张点吧!　　2...\" name=\"description\"/>\n",
      "  <meta content=\"IE=EmulateIE9\" http-equiv=\"X-UA-Compatible\"/>\n",
      "  <meta content=\"吴尚清凉\" name=\"author\"/>\n",
      "  <meta content=\"format=xhtml; url=http://bbs.tianya.cn/m/post-free-3488230-1.shtml\" http-equiv=\"mobile-agent\"/>\n",
      "  <link href=\"http://static.tianyaui.com/global/ty/TY.css\" rel=\"stylesheet\" type=\"text/css\"/>\n",
      "  <link href=\"http://static.tianyaui.com/global/bbs/web/static/css/bbs_article_c55fffc.css\" rel=\"stylesheet\" type=\"text/css\"/>\n",
      "  <link href=\"http://static.tianyaui.com/favicon.ico\" rel=\"shortcut icon\" type=\"image/vnd.microsoft.icon\"/>\n",
      "  <script type=\"text/javascript\">\n",
      "   var bbsGlobal = {\r\n",
      "\tisEhomeItem : false,\r\n",
      "\tisNewArticle : false,\r\n",
      "\tauthorId : \"82150478\",\r\n",
      "\tauthorName : \"吴尚清凉\", \r\n",
      "\tblocktype : \"主版\",\r\n",
      "\titemTyp\n"
     ]
    }
   ],
   "source": [
    "print (post_soup.prettify())[:1000]"
   ]
  },
  {
   "cell_type": "code",
   "execution_count": 41,
   "metadata": {
    "collapsed": false
   },
   "outputs": [
    {
     "data": {
      "text/plain": [
       "23"
      ]
     },
     "execution_count": 41,
     "metadata": {},
     "output_type": "execute_result"
    }
   ],
   "source": [
    "pa = post_soup.find_all('div',class_='atl-item')\n",
    "len(pa)"
   ]
  },
  {
   "cell_type": "code",
   "execution_count": 42,
   "metadata": {
    "collapsed": false
   },
   "outputs": [
    {
     "name": "stdout",
     "output_type": "stream",
     "text": [
      "<div _host=\"%E5%90%B4%E5%B0%9A%E6%B8%85%E5%87%89\" class=\"atl-item host-item\">\n",
      "<div class=\"atl-content\">\n",
      "<div class=\"atl-con-hd clearfix\">\n",
      "<div class=\"atl-con-hd-l\"></div>\n",
      "<div class=\"atl-con-hd-r\"></div>\n",
      "</div>\n",
      "<div class=\"atl-con-bd clearfix\">\n",
      "<div class=\"bbs-content clearfix\">\r\n",
      "\t\t\t\t\t\t\t　　自从买了HTC ONENX后，心情一直没有好过，很多人都说这个牌子的手机很不错，所以就和朋友一起买了。可接下来的情况就大出我的意料了。<br/>　　1，手机打电话不到2分钟就非常的烫，问客服说这是正常现象，后面想智能机都这样吧，只不过htc烫的夸张点吧!<br/>　　2,新机使用2个月后，主板烧坏了，开始大修，送到售后对方很牛气的说什么时间修好没有具体的时间。后面这个机子修了1个月。<br/>　　3、半年后我的机子和当初一起买的朋友的机子一前一后屏幕坏了，送修，还是一个月拿到机子。<br/>　　4、机子使用9个月左右发现机子变得很卡，天啊，这可是四核的，关键我基本没装什么软件，求问HTC客服对方说把手机调成安全模式就可以了，起初不知道什么是安全模式，就按按客服的要求做了，后面发现HTC客服真他妈的坑爹，安全模式下手机只能收发短信和接电话，如果是这样我买这么贵的手机干嘛。<br/>　　5、机子使用到第十一个月，我和我朋友有相约把手机拿去送修，我的手机屏幕再次坏了、手机接听电话经常断线，我朋友的手机则是听筒和铃声同时失声了，对于我的问题客服维修人员跟我说HTC手机的信号一向就不好，这个问题习惯就好。人家都这么真诚的告诉你真相了，我就接受了。这次还是修了快一个月，现在我的手机还是没有拿到，还有HTC客服的态度太粗暴了，把我彻底惹恼了。<br/>　　号召有同样悲催经历的朋友一起跟帖怕砖吧，想买HTC的朋友三思啊！\r\n",
      "\t\t\t\t\t\t\t\r\n",
      "\t\t\t\t\t\t</div>\n",
      "<div class=\"clearfix\" id=\"alt_action\"></div>\n",
      "<div class=\"clearfix\">\n",
      "<div class=\"host-data\">\n",
      "<span>楼主发言：2次</span> <span>发图：0张</span>\n",
      "</div>\n",
      "<div class=\"atl-reply\" id=\"alt_reply\">\n",
      "<a author=\"吴尚清凉\" authorid=\"82150478\" class=\"reportme a-link\" href=\"javascript:void(0);\" replyid=\"0\" replytime=\"2013-07-16 16:27:00\"> 举报</a> | \r\n",
      "\t\t\t\t\t\t\t<a class=\"a-link acl-share\" href=\"javascript:void(0);\">分享</a> |  \r\n",
      "\t\t\t               \t<a class=\"a-link acl-more\" href=\"javascript:void(0);\">更多</a> |\r\n",
      "\t\t\t\t\t\t\t<span><a class=\"a-link\" name=\"0\">楼主</a></span>\n",
      "<a _name=\"吴尚清凉\" _time=\"2013-07-16 16:27:00\" class=\"a-link2 replytop\" href=\"#fabu_anchor\">回复</a>\n",
      "</div>\n",
      "</div>\n",
      "<div id=\"ds-quick-box\" style=\"display:none;\"></div>\n",
      "</div>\n",
      "<div class=\"atl-con-ft clearfix\">\n",
      "<div class=\"atl-con-ft-l\"></div>\n",
      "<div class=\"atl-con-ft-r\"></div>\n",
      "<div id=\"niuren_ifm\"></div>\n",
      "</div>\n",
      "</div>\n",
      "</div>\n"
     ]
    }
   ],
   "source": [
    "print pa[0]"
   ]
  },
  {
   "cell_type": "code",
   "execution_count": 43,
   "metadata": {
    "collapsed": false
   },
   "outputs": [
    {
     "name": "stdout",
     "output_type": "stream",
     "text": [
      "<div _host=\"%E9%82%A3%E4%BA%9B%E8%90%BD%E5%AF%9E%E7%9A%84%E5%B9%B4%E5%8D%8E%E4%B8%B6\" class=\"atl-item\" id=\"1\" js_restime=\"2013-07-16 16:38:30\" js_username=\"%E9%82%A3%E4%BA%9B%E8%90%BD%E5%AF%9E%E7%9A%84%E5%B9%B4%E5%8D%8E%E4%B8%B6\" replyid=\"113072476\">\n",
      "<div class=\"atl-head\" id=\"3dca92e12f8a2123d31dbc88c6c434f6\">\n",
      "<div class=\"atl-head-reply\"></div>\n",
      "<div class=\"atl-info\">\n",
      "<span>作者：<a class=\"js-vip-check\" href=\"http://www.tianya.cn/73698856\" target=\"_blank\" uid=\"73698856\" uname=\"那些落寞的年华丶\">那些落寞的年华丶</a> </span>\n",
      "<span>时间：2013-07-16 16:38:30</span>\n",
      "</div>\n",
      "</div>\n",
      "<div class=\"atl-content\">\n",
      "<div class=\"atl-con-hd clearfix\">\n",
      "<div class=\"atl-con-hd-l\"></div>\n",
      "<div class=\"atl-con-hd-r\"></div>\n",
      "</div>\n",
      "<div class=\"atl-con-bd clearfix\">\n",
      "<div class=\"bbs-content\">\r\n",
      "\t\t\t\t\t\t\t　　HTC G17  用一年多了没任何毛病。唯一缺点电池不耐用。<br/>　　\r\n",
      "\t\t\t\t\t\t\t\r\n",
      "\t\t\t\t\t\t</div>\n",
      "<div class=\"atl-reply\">\r\n",
      "\t\t\t\t\t\t\t来自 <a _stat=\"/stat/bbs/post/来自\" class=\"a-link\" href=\"http://www.tianya.cn/mobile/\" rel=\"nofollow\" target=\"_blank\">天涯社区客户端</a> |\r\n",
      "\t\t\t\t\t\t\t<a author=\"那些落寞的年华丶\" authorid=\"73698856\" class=\"reportme a-link\" href=\"javascript:void(0);\" replyid=\"113072476\" replytime=\"2013-07-16 16:38:30\">举报</a> |\r\n",
      "\t\t\t\t\t\t\t\t\t\t\t\t\t\t\r\n",
      "\t\t\t\t\t\t\t<span>1楼</span> |\r\n",
      "\t\t\t\t\t\t\t<a class=\"a-link-2 ir-shang\" floor=\"1\" href=\"javascript:void(0);\" title=\"打赏层主\">\r\n",
      "\t\t\t\t\t\t\t\t打赏\r\n",
      "\t\t\t\t\t\t\t</a> |\r\n",
      "\t\t\t\t\t\t\t<a class=\"a-link-2 reply\" href=\"#fabu_anchor\" title=\"引用回复\">回复</a> |\r\n",
      "\t\t\t\t\t\t\t<a _stat=\"/stat/bbs/post/评论\" class=\"a-link-2 ir-remark\" floor=\"1\" href=\"javascript:void(0);\" title=\"插入评论\">\r\n",
      "\t\t\t\t\t\t\t\t评论\r\n",
      "\t\t\t\t\t\t\t</a>\n",
      "</div>\n",
      "</div>\n",
      "<div class=\"atl-con-ft clearfix\">\n",
      "<div class=\"atl-con-ft-l\"></div>\n",
      "<div class=\"atl-con-ft-r\"></div>\n",
      "</div>\n",
      "</div>\n",
      "</div>\n"
     ]
    }
   ],
   "source": [
    "print pa[1]"
   ]
  },
  {
   "cell_type": "code",
   "execution_count": 45,
   "metadata": {
    "collapsed": false
   },
   "outputs": [
    {
     "name": "stdout",
     "output_type": "stream",
     "text": [
      "<div _host=\"%E7%82%99%E7%84%B1%E5%A4%A9%E4%BD%BF\" class=\"atl-item\" id=\"22\" js_restime=\"2015-08-03 16:09:57\" js_username=\"%E7%82%99%E7%84%B1%E5%A4%A9%E4%BD%BF\" replyid=\"113072519\">\n",
      "<div class=\"atl-head\" id=\"d59a4421f735c0d263ef6def1df7b6c3\">\n",
      "<div class=\"atl-head-reply\"></div>\n",
      "<div class=\"atl-info\">\n",
      "<span>作者：<a class=\"js-vip-check\" href=\"http://www.tianya.cn/84101550\" target=\"_blank\" uid=\"84101550\" uname=\"炙焱天使\">炙焱天使</a> </span>\n",
      "<span>时间：2015-08-03 16:09:57</span>\n",
      "</div>\n",
      "</div>\n",
      "<div class=\"atl-content\">\n",
      "<div class=\"atl-con-hd clearfix\">\n",
      "<div class=\"atl-con-hd-l\"></div>\n",
      "<div class=\"atl-con-hd-r\"></div>\n",
      "</div>\n",
      "<div class=\"atl-con-bd clearfix\">\n",
      "<div class=\"bbs-content\">\r\n",
      "\t\t\t\t\t\t\t　　火腿肠万叉刚出买了不到二个月就因为高热造成CPU脱胶死机。<br/>　　\r\n",
      "\t\t\t\t\t\t\t\r\n",
      "\t\t\t\t\t\t</div>\n",
      "<div class=\"atl-reply\">\r\n",
      "\t\t\t\t\t\t\t来自 <a _stat=\"/stat/bbs/post/来自\" class=\"a-link\" href=\"http://www.tianya.cn/mobile/\" rel=\"nofollow\" target=\"_blank\">天涯社区客户端</a> |\r\n",
      "\t\t\t\t\t\t\t<a author=\"炙焱天使\" authorid=\"84101550\" class=\"reportme a-link\" href=\"javascript:void(0);\" replyid=\"113072519\" replytime=\"2015-08-03 16:09:57\">举报</a> |\r\n",
      "\t\t\t\t\t\t\t\t\t\t\t\t\t\t\r\n",
      "\t\t\t\t\t\t\t<span>22楼</span> |\r\n",
      "\t\t\t\t\t\t\t<a class=\"a-link-2 ir-shang\" floor=\"22\" href=\"javascript:void(0);\" title=\"打赏层主\">\r\n",
      "\t\t\t\t\t\t\t\t打赏\r\n",
      "\t\t\t\t\t\t\t</a> |\r\n",
      "\t\t\t\t\t\t\t<a class=\"a-link-2 reply\" href=\"#fabu_anchor\" title=\"引用回复\">回复</a> |\r\n",
      "\t\t\t\t\t\t\t<a _stat=\"/stat/bbs/post/评论\" class=\"a-link-2 ir-remark\" floor=\"22\" href=\"javascript:void(0);\" title=\"插入评论\">\r\n",
      "\t\t\t\t\t\t\t\t评论\r\n",
      "\t\t\t\t\t\t\t</a>\n",
      "</div>\n",
      "</div>\n",
      "<div class=\"atl-con-ft clearfix\">\n",
      "<div class=\"atl-con-ft-l\"></div>\n",
      "<div class=\"atl-con-ft-r\"></div>\n",
      "</div>\n",
      "</div>\n",
      "</div>\n"
     ]
    }
   ],
   "source": [
    "print pa[22]"
   ]
  },
  {
   "cell_type": "code",
   "execution_count": 47,
   "metadata": {
    "collapsed": false
   },
   "outputs": [
    {
     "name": "stdout",
     "output_type": "stream",
     "text": [
      "自从买了HTC ONENX后，心情一直没有好过，很多人都说这个牌子的手机很不错，所以就和朋友一起买了。可接下来的情况就大出我的意料了。　　1，手机打电话不到2分钟就非常的烫，问客服说这是正常现象，后面想智能机都这样吧，只不过htc烫的夸张点吧!　　2,新机使用2个月后，主板烧坏了，开始大修，送到售后对方很牛气的说什么时间修好没有具体的时间。后面这个机子修了1个月。　　3、半年后我的机子和当初一起买的朋友的机子一前一后屏幕坏了，送修，还是一个月拿到机子。　　4、机子使用9个月左右发现机子变得很卡，天啊，这可是四核的，关键我基本没装什么软件，求问HTC客服对方说把手机调成安全模式就可以了，起初不知道什么是安全模式，就按按客服的要求做了，后面发现HTC客服真他妈的坑爹，安全模式下手机只能收发短信和接电话，如果是这样我买这么贵的手机干嘛。　　5、机子使用到第十一个月，我和我朋友有相约把手机拿去送修，我的手机屏幕再次坏了、手机接听电话经常断线，我朋友的手机则是听筒和铃声同时失声了，对于我的问题客服维修人员跟我说HTC手机的信号一向就不好，这个问题习惯就好。人家都这么真诚的告诉你真相了，我就接受了。这次还是修了快一个月，现在我的手机还是没有拿到，还有HTC客服的态度太粗暴了，把我彻底惹恼了。　　号召有同样悲催经历的朋友一起跟帖怕砖吧，想买HTC的朋友三思啊！\n"
     ]
    }
   ],
   "source": [
    "print pa[0].find('div',class_='bbs-content').text.strip()"
   ]
  },
  {
   "cell_type": "code",
   "execution_count": 49,
   "metadata": {
    "collapsed": false
   },
   "outputs": [
    {
     "name": "stdout",
     "output_type": "stream",
     "text": [
      "htcg17,水货机，已经快三年了，感觉还可以，总比国产机好\n"
     ]
    }
   ],
   "source": [
    "print pa[15].find('div',class_='bbs-content').text.strip()"
   ]
  },
  {
   "cell_type": "code",
   "execution_count": 50,
   "metadata": {
    "collapsed": false
   },
   "outputs": [
    {
     "data": {
      "text/plain": [
       "<a class=\"js-vip-check\" href=\"http://www.tianya.cn/73698856\" target=\"_blank\" uid=\"73698856\" uname=\"\\u90a3\\u4e9b\\u843d\\u5bde\\u7684\\u5e74\\u534e\\u4e36\">\\u90a3\\u4e9b\\u843d\\u5bde\\u7684\\u5e74\\u534e\\u4e36</a>"
      ]
     },
     "execution_count": 50,
     "metadata": {},
     "output_type": "execute_result"
    }
   ],
   "source": [
    "pa[1].a"
   ]
  },
  {
   "cell_type": "code",
   "execution_count": 52,
   "metadata": {
    "collapsed": false
   },
   "outputs": [
    {
     "name": "stdout",
     "output_type": "stream",
     "text": [
      "<a author=\"吴尚清凉\" authorid=\"82150478\" class=\"reportme a-link\" href=\"javascript:void(0);\" replyid=\"0\" replytime=\"2013-07-16 16:27:00\"> 举报</a>\n"
     ]
    }
   ],
   "source": [
    "print pa[0].find('a', class_ = 'reportme a-link')"
   ]
  },
  {
   "cell_type": "code",
   "execution_count": 55,
   "metadata": {
    "collapsed": false
   },
   "outputs": [
    {
     "name": "stdout",
     "output_type": "stream",
     "text": [
      "2013-07-16 16:27:00\n"
     ]
    }
   ],
   "source": [
    "print pa[0].find('a', class_ = 'reportme a-link')['replytime']"
   ]
  },
  {
   "cell_type": "code",
   "execution_count": 56,
   "metadata": {
    "collapsed": false
   },
   "outputs": [
    {
     "name": "stdout",
     "output_type": "stream",
     "text": [
      "吴尚清凉\n"
     ]
    }
   ],
   "source": [
    "print pa[0].find('a', class_ = 'reportme a-link')['author']"
   ]
  },
  {
   "cell_type": "code",
   "execution_count": 57,
   "metadata": {
    "collapsed": false
   },
   "outputs": [
    {
     "name": "stdout",
     "output_type": "stream",
     "text": [
      "2013-07-16 16:27:00 ---> 82150478 ---> 吴尚清凉 ---> 自从买了HTC ONENX后，心情一直没有好过，很多人都说这个牌子的手机很不错，所以就和朋友一起买了。可接下来的情况就大出我的意料了。　　1，手机打电话不到2分钟就非常的烫，问客服说这是正常现象，后面想智能机都这样吧，只不过htc烫的夸张点吧!　　2,新机使用2个月后，主板烧坏了，开始大修，送到售后对方很牛气的说什么时间修好没有具体的时间。后面这个机子修了1个月。　　3、半年后我的机子和当初一起买的朋友的机子一前一后屏幕坏了，送修，还是一个月拿到机子。　　4、机子使用9个月左右发现机子变得很卡，天啊，这可是四核的，关键我基本没装什么软件，求问HTC客服对方说把手机调成安全模式就可以了，起初不知道什么是安全模式，就按按客服的要求做了，后面发现HTC客服真他妈的坑爹，安全模式下手机只能收发短信和接电话，如果是这样我买这么贵的手机干嘛。　　5、机子使用到第十一个月，我和我朋友有相约把手机拿去送修，我的手机屏幕再次坏了、手机接听电话经常断线，我朋友的手机则是听筒和铃声同时失声了，对于我的问题客服维修人员跟我说HTC手机的信号一向就不好，这个问题习惯就好。人家都这么真诚的告诉你真相了，我就接受了。这次还是修了快一个月，现在我的手机还是没有拿到，还有HTC客服的态度太粗暴了，把我彻底惹恼了。　　号召有同样悲催经历的朋友一起跟帖怕砖吧，想买HTC的朋友三思啊！ \n",
      "\n",
      "2013-07-16 16:38:30 ---> 73698856 ---> 那些落寞的年华丶 ---> HTC G17  用一年多了没任何毛病。唯一缺点电池不耐用。 \n",
      "\n",
      "2013-07-16 16:41:44 ---> 47740910 ---> 隐藏的老虎 ---> 我也用过htc，没你说的那些问题，不过就是电池容量不大 \n",
      "\n",
      "2013-07-16 17:05:10 ---> 47450059 ---> zibuyu0971 ---> 差不多行了，手机差也有概率的，点子不好，火腿肠的手机返修还是很低的 \n",
      "\n",
      "2013-07-16 17:27:06 ---> 81511671 ---> NB花生米饭 ---> 还得信诺基亚啊！ \n",
      "\n",
      "2013-07-16 17:50:01 ---> 82150478 ---> 吴尚清凉 ---> 自从买了HTC ONENX后，心情一直没有好过，很多人都说这个牌子的手机很不错，所以就和朋友一起买了。可接下来的情况就大出我的意料了。　　1，手机打电话不到2分钟就非常的烫，问客服说这是正常现象，后面想智能机都这样吧，只不过htc烫的夸张点吧!　　2,新机使用2个月后，主板烧坏了，开始大修，送到售后对方很牛气的说什么时间修好没有具体的时间。后面这个机子修了1个月。　　3、半年后我的机子和当初一起买的朋友的机子一前一后屏幕坏了，送修，还是一个月拿到机子。　　4、机子使用9个月左右发现机子变得很卡，天啊，这可是四核的，关键我基本没装什么软件，求问HTC客服对方说把手机调成安全模式就可以了，起初不知道什么是安全模式，就按按客服的要求做了，后面发现HTC客服真他妈的坑爹，安全模式下手机只能收发短信和接电话，如果是这样我买这么贵的手机干嘛。　　5、机子使用到第十一个月，我和我朋友有相约把手机拿去送修，我的手机屏幕再次坏了、手机接听电话经常断线，我朋友的手机则是听筒和铃声同时失声了，对于我的问题客服维修人员跟我说HTC手机的信号一向就不好，这个问题习惯就好。人家都这么真诚的告诉你真相了，我就接受了。这次还是修了快一个月，现在我的手机还是没有拿到，还有HTC客服的态度太粗暴了，把我彻底惹恼了。　　号召有同样悲催经历的朋友一起跟帖怕砖吧，想买HTC的朋友三思啊！ \n",
      "\n",
      "2013-07-16 17:56:10 ---> 16315937 ---> 燕舞西风 ---> 一两个人唱衰HTC还可信   遍地都是唱衰火腿肠的   就令人怀疑了 \n",
      "\n",
      "2013-07-17 18:53:01 ---> 60344924 ---> 矩阵革命1911 ---> @燕舞西风 6楼 2013-07-16 17:56:10　　一两个人唱衰HTC还可信   遍地都是唱衰火腿肠的   就令人怀疑了　　----------------------------- \n",
      "\n",
      "2013-07-17 19:04:44 ---> 21403684 ---> boao1234 ---> 我也是HTC的，就是信号不好，其他勉强吧，以后打死不买他了 \n",
      "\n",
      "2013-07-24 14:28:50 ---> 21893211 ---> zonly0 ---> 看来悲剧的人不止我一个。　　我的型号是T328W。黑屏，拿去检测告诉我，Root过，就是不给保修，垃圾售后的人告诉我CPU坏了，要修就拿出来460大洋。尼玛CPU坏了，会只是开机第一屏之后就黑屏吗？操他妈的HTC，以后跪下来求我都不会买。　　垃圾HTC，人家出1G内存，他搞个768M，人家搞2G，它搞1.5G。老是在内存上省钱做文章，多256M内存都能穷死啊？　　大家擦亮眼睛吧。以后千万别买HTC。 \n",
      "\n",
      "2013-07-24 14:29:46 ---> 21893211 ---> zonly0 ---> 看来悲剧的人不止我一个。　　我的型号是T328W。黑屏，拿去检测告诉我，Root过，就是不给保修，垃圾售后的人告诉我CPU坏了，要修就拿出来460大洋。操他妈的HTC，以后跪下来求我都不会买。　　垃圾HTC，人家出1G内存，他搞个768M，人家搞2G，它搞1.5G。老是在内存上省钱做文章，多256M内存都能穷死啊？　　大家擦亮眼睛吧。以后千万别买HTC。 \n",
      "\n",
      "2013-07-24 14:37:50 ---> 40779189 ---> 妙手撩春 ---> oneV oneS oneX 我表示呵呵　　我是做手机维修的，我也郁闷。郁闷的是接到这几个故障机，经常是白忙活。修不好呗，赚不到钱呗！ \n",
      "\n",
      "2014-01-22 09:11:46 ---> 83194375 ---> 芽BB ---> 13年3月花了1300买了一部HTC-T328W天蓝色，当时因为这个外观看起来好看就买了。　　接着悲吹的事来了，用了半个月后，手机放裤兜里经常自动重启，拿手上放桌上都不会，一直由于工作忙没时间去检修。坚持用着到8月份，实在用烦了，请了一天假直接买了部诺基亚720，目前　　还没出现过闹心的事。　　这不，快过年了，公司放假有时间了，就想着把手机拿去检查下，修好了也能当个备用机。今早上把手机充电开机，发现下面的三个功能键竟然不灵了，我在网上查了下想看看是什么原因，发现这个型号的手机都有这个通病，那说明这肯定是质量问题了。　　在网上找了个最近的售后点，广州番禺市桥利安大厦二楼，售后点是在一家手机店里,看样子是代理的。前台接待的是一个小妹，她把手机看了看后说我屏坏了，是质量问题，但要我花钱换，我当时一听就毛，心里火了，质量问题为什么要我掏钱，那小妹就说手机上面的塑胶边框凹下去了一点，见下图：　　比芝麻还小一点点，这是外观问题，塑胶边框特别脆弱，也不知是什么时候弄成那样的，手机在使用的过程中，肯定会有外观上的损伤，但手机功能键不灵是质量问题，那个LJ就抓住这一点说手机外观有损伤非要我花钱。好吧，配件在她手里，她不换我也没办法，我知道她们是代理的，就是想从别人身上敲点钱。那我不找她了，我找HTC总售后部去。　　更奇芭的事也就在后面，我打4008218998，接电话的是MM，说话很客气，听了我的描述后说两到三个小时回复我，叫我电话随时保持畅通，我以为事情可以很快就解决了吧。从11：30等到15点多，居然没有收到回复，于是我只好打电话去问怎么回事，接电话的也是说话很客气的客服小姐，不是上午接电话的那位，客气得就是要气死你。　　电话才一接通她就知道我是李某，上午打过电话给她们。　　我问：你们不是说两三个钟就给我回复吗，怎么没打给我　　客服：我们是不会给客户承诺什么时间回复的　　我：你们不是通话录音了吗，你不听听我们上午的通话，　　客服还是重复上面那句话，然后乱七乱八的说了老半天，问题不能及时解决，前面她们说的话　　我也就只好当是放个屁。　　我：过三天我就要回老家了，明年不知什么时间能过来，到时过了保修期怎么办，　　客服：你的情况我给你加急了，两天后给你答服，（不是不承诺时间的吗，两天后~~十天也是在两天后面的，心里这想着）　　我又抱怨了几句准备挂了，就在这时客服又说了句话真把我气着了，　　客服：李先生，其实你这个情况不应该打到我们这里，　　我：那应该打到哪里，（MD说了半天跟你们售后客服没关系，这下我都不知售后部门是干什么的了）　　客服：应该是投述部门　　我 ：那你帮我转到投述部门吧，　　客服：转不了，　　我：怎么转不了哦　　客服：投述部门没电话，要在网上投述的（我……无语，NTM说了不等于没说吗，人工客服都能这样，网上又能好到哪里去）　　事情到了这里，我也没话可说了　　1-你不能及时解决问题干嘛叫我干等两三个小时　　2-你说我电话打错部不应该打到售后部，那你跟我扯老半天干嘛，我手机不要话费，说话不费口水啊，售后部门不是处理售后的，那是干什么的　　3－以前觉得HTC牌子还大嘛，没想到手机LJ，售后点LJ，总售后客服也LJ　　闹心的手机，闹心的售后点，闹心的HTC总售后客服，手机钱花了算我运气不好，不知其他人有没有碰到类似的事，反正我是碰上了。　　有三星，有诺基亚，有魅族，有那么多牌子，偏偏选到你这个烂牌子，就算两天后修好了用着也闹心，我不修了行吧，我扔垃圾桶去　　顶顶啊，早些没看到你的贴，我也上当了 \n",
      "\n",
      "2014-03-19 21:10:34 ---> 88410127 ---> 张堪 ---> 回复第1楼(作者:@那些落寞的年华丶 于 2013-07-16 16:38)　　HTC G17  用一年多了没任何毛病。唯一缺点电池不耐用。　　[来自UC浏览器]　　==========　　那你是走大运，要是有机会享受一下htc售后，你就知道楼上说的有理了。 \n",
      "\n",
      "2014-03-19 21:16:47 ---> 88410127 ---> 张堪 ---> htc的售后就是纯垃圾，客服的服务态度就甭提了。我买了一台htc7060。就是自费换个屏幕，跑了三趟了，还让我跑第四趟。客服丝毫不检讨售后过失，就是还让我去售后修，修，修！垃圾 \n",
      "\n",
      "2014-03-19 21:23:45 ---> 55783857 ---> 五毛的地位 ---> htcg17,水货机，已经快三年了，感觉还可以，总比国产机好 \n",
      "\n",
      "2014-03-19 21:28:46 ---> 88409132 ---> 冰与火999 ---> 去年花了一千多买了个就是那个红黑的，搞死人咧 ，，不是没有声音就是死机，手机没有用多久就发烧，，别说玩游戏呢，，果断苹果。 \n",
      "\n",
      "2015-05-14 11:55:16 ---> 70253522 ---> 崇信and好人 ---> 我用的是HTC M8移动版，手机质量确实很差，已经返修过3次。　　我建议大家买手机还是要买大家公认的质量口碑都比较好的手机，不要买小众手机。　　仅供参考。 \n",
      "\n",
      "2015-07-31 13:56:14 ---> 104402968 ---> 临风听雪15 ---> HTC多部手机d826W严重质量问题，刚刚买入一个月就出现触摸屏失灵，厂家表面承诺更换新机，但迟迟没有行动，每次反馈都是抱歉、我们会尽快办理等等之类的狗话。厂家售后服务消极怠慢，迟迟不肯解决问题。这样的牌子岂能不倒，大家行动起来，坚决杜绝HTC。将台湾狗赶出大陆！ \n",
      "\n",
      "2015-08-03 15:17:55 ---> 104402968 ---> 临风听雪15 ---> htc质量和服务都很差，我刚刚买了一部826，不到一个月，触摸屏失灵，售后不接电话，客服搪塞，说的是给换机，最后又给换屏，我们消费者始终是弱者。以后再也不买这个烂品牌了 \n",
      "\n"
     ]
    }
   ],
   "source": [
    "for i in pa[:20]:\n",
    "    p_info = i.find('a', class_ = 'reportme a-link')\n",
    "    p_time = p_info['replytime']\n",
    "    p_author_id = p_info['authorid']\n",
    "    p_author_name = p_info['author']\n",
    "    p_content = i.find('div', {'class', 'bbs-content'}).text.strip()\n",
    "    p_content = p_content.replace('\\t', '')\n",
    "    print p_time, '--->', p_author_id, '--->', p_author_name,'--->', p_content, '\\n'"
   ]
  },
  {
   "cell_type": "code",
   "execution_count": 58,
   "metadata": {
    "collapsed": false
   },
   "outputs": [
    {
     "data": {
      "text/plain": [
       "<div class=\"atl-pages host-pages\"></div>"
      ]
     },
     "execution_count": 58,
     "metadata": {},
     "output_type": "execute_result"
    }
   ],
   "source": [
    "post_soup.find('div', {'class', 'atl-pages'})"
   ]
  },
  {
   "cell_type": "code",
   "execution_count": 59,
   "metadata": {
    "collapsed": false
   },
   "outputs": [
    {
     "ename": "TypeError",
     "evalue": "'NoneType' object has no attribute '__getitem__'",
     "output_type": "error",
     "traceback": [
      "\u001b[0;31m---------------------------------------------------------------------------\u001b[0m",
      "\u001b[0;31mTypeError\u001b[0m                                 Traceback (most recent call last)",
      "\u001b[0;32m<ipython-input-59-13d8aac5f43e>\u001b[0m in \u001b[0;36m<module>\u001b[0;34m()\u001b[0m\n\u001b[1;32m      1\u001b[0m \u001b[0mpost_pages\u001b[0m \u001b[0;34m=\u001b[0m \u001b[0mpost_soup\u001b[0m\u001b[0;34m.\u001b[0m\u001b[0mfind\u001b[0m\u001b[0;34m(\u001b[0m\u001b[0;34m'div'\u001b[0m\u001b[0;34m,\u001b[0m \u001b[0;34m{\u001b[0m\u001b[0;34m'class'\u001b[0m\u001b[0;34m,\u001b[0m \u001b[0;34m'atl-pages'\u001b[0m\u001b[0;34m}\u001b[0m\u001b[0;34m)\u001b[0m\u001b[0;34m\u001b[0m\u001b[0m\n\u001b[0;32m----> 2\u001b[0;31m \u001b[0mpost_pages\u001b[0m \u001b[0;34m=\u001b[0m \u001b[0mpost_pages\u001b[0m\u001b[0;34m.\u001b[0m\u001b[0mform\u001b[0m\u001b[0;34m[\u001b[0m\u001b[0;34m'onsubmit'\u001b[0m\u001b[0;34m]\u001b[0m\u001b[0;34m.\u001b[0m\u001b[0msplit\u001b[0m\u001b[0;34m(\u001b[0m\u001b[0;34m','\u001b[0m\u001b[0;34m)\u001b[0m\u001b[0;34m[\u001b[0m\u001b[0;34m-\u001b[0m\u001b[0;36m1\u001b[0m\u001b[0;34m]\u001b[0m\u001b[0;34m.\u001b[0m\u001b[0msplit\u001b[0m\u001b[0;34m(\u001b[0m\u001b[0;34m')'\u001b[0m\u001b[0;34m)\u001b[0m\u001b[0;34m[\u001b[0m\u001b[0;36m0\u001b[0m\u001b[0;34m]\u001b[0m\u001b[0;34m\u001b[0m\u001b[0m\n\u001b[0m\u001b[1;32m      3\u001b[0m \u001b[0mpost_pages\u001b[0m\u001b[0;34m\u001b[0m\u001b[0m\n",
      "\u001b[0;31mTypeError\u001b[0m: 'NoneType' object has no attribute '__getitem__'"
     ]
    }
   ],
   "source": [
    "post_pages = post_soup.find('div', {'class', 'atl-pages'})\n",
    "post_pages = post_pages.form['onsubmit'].split(',')[-1].split(')')[0]\n",
    "post_pages"
   ]
  },
  {
   "cell_type": "code",
   "execution_count": 60,
   "metadata": {
    "collapsed": false
   },
   "outputs": [
    {
     "data": {
      "text/plain": [
       "'http://bbs.tianya.cn/postfree3488230-%d.shtml'"
      ]
     },
     "execution_count": 60,
     "metadata": {},
     "output_type": "execute_result"
    }
   ],
   "source": [
    "url = 'http://bbs.tianya.cn' + df.link[2]\n",
    "url_base = ''.join(url.split('-')[:-1]) + '-%d.shtml'\n",
    "url_base"
   ]
  },
  {
   "cell_type": "code",
   "execution_count": 61,
   "metadata": {
    "collapsed": true
   },
   "outputs": [],
   "source": [
    "def parsePage(pa):\n",
    "    records = []\n",
    "    for i in pa:\n",
    "        p_info = i.find('a', class_ = 'reportme a-link')\n",
    "        p_time = p_info['replytime']\n",
    "        p_author_id = p_info['authorid']\n",
    "        p_author_name = p_info['author']\n",
    "        p_content = i.find('div', {'class', 'bbs-content'}).text.strip()\n",
    "        p_content = p_content.replace('\\t', '').replace('\\n', '')#.replace(' ', '')\n",
    "        record = p_time + '\\t' + p_author_id+ '\\t' + p_author_name + '\\t'+ p_content\n",
    "        records.append(record)\n",
    "    return records\n",
    "\n",
    "import sys\n",
    "def flushPrint(s):\n",
    "    sys.stdout.write('\\r')\n",
    "    sys.stdout.write('%s' % s)\n",
    "    sys.stdout.flush()"
   ]
  },
  {
   "cell_type": "code",
   "execution_count": 64,
   "metadata": {
    "collapsed": false
   },
   "outputs": [
    {
     "data": {
      "text/plain": [
       "<div class=\"atl-pages host-pages\"></div>"
      ]
     },
     "execution_count": 64,
     "metadata": {},
     "output_type": "execute_result"
    }
   ],
   "source": [
    "url_1 = 'http://bbs.tianya.cn' + df.link[23]\n",
    "content = urllib2.urlopen(url_1).read()\n",
    "post_soup = BeautifulSoup(content, \"lxml\") \n",
    "pa = post_soup.find_all('div', {'class', 'atl-item'})\n",
    "b = post_soup.find('div', class_= 'atl-pages')\n",
    "b"
   ]
  },
  {
   "cell_type": "code",
   "execution_count": 65,
   "metadata": {
    "collapsed": false
   },
   "outputs": [
    {
     "data": {
      "text/plain": [
       "<div class=\"atl-pages host-pages\"></div>"
      ]
     },
     "execution_count": 65,
     "metadata": {},
     "output_type": "execute_result"
    }
   ],
   "source": [
    "url_1 = 'http://bbs.tianya.cn' + df.link[47]\n",
    "content = urllib2.urlopen(url_1).read() \n",
    "post_soup = BeautifulSoup(content, \"lxml\") \n",
    "pa = post_soup.find_all('div', {'class', 'atl-item'})\n",
    "a = post_soup.find('div', {'class', 'atl-pages'})\n",
    "a"
   ]
  },
  {
   "cell_type": "code",
   "execution_count": 66,
   "metadata": {
    "collapsed": true
   },
   "outputs": [],
   "source": [
    "a.form"
   ]
  },
  {
   "cell_type": "code",
   "execution_count": 67,
   "metadata": {
    "collapsed": false
   },
   "outputs": [
    {
     "name": "stdout",
     "output_type": "stream",
     "text": [
      "false\n"
     ]
    }
   ],
   "source": [
    "if b.form:\n",
    "    print 'true'\n",
    "else:\n",
    "    print 'false'"
   ]
  },
  {
   "cell_type": "code",
   "execution_count": 68,
   "metadata": {
    "collapsed": true
   },
   "outputs": [],
   "source": [
    "import random\n",
    "import time\n",
    "\n",
    "def crawler(url, file_name):\n",
    "    try:\n",
    "        url_1 = 'http://bbs.tianya.cn' + url\n",
    "        content = urllib2.urlopen(url_1).read() \n",
    "        post_soup = BeautifulSoup(content, \"lxml\") \n",
    "        post_form = post_soup.find('div', {'class', 'atl-pages'})\n",
    "        if post_form.form:\n",
    "            post_pages = post_form.form['onsubmit'].split(',')[-1].split(')')[0]\n",
    "            post_pages = int(post_pages)\n",
    "            url_base = '-'.join(url_1.split('-')[:-1]) + '-%d.shtml'\n",
    "        else:\n",
    "            post_pages = 1\n",
    "        pa = post_soup.find_all('div', {'class', 'atl-item'})\n",
    "        records = parsePage(pa)\n",
    "        with open(file_name,'a') as p: \n",
    "            for record in records:    \n",
    "                p.write('1'+ '\\t' + url + '\\t' + record.encode('utf-8')+\"\\n\") \n",
    "        if post_pages > 1:\n",
    "            for page_num in range(2, post_pages+1):\n",
    "                time.sleep(random.random())\n",
    "                flushPrint(page_num)\n",
    "                url2 =url_base  % page_num\n",
    "                content = urllib2.urlopen(url2).read() \n",
    "                post_soup = BeautifulSoup(content, \"lxml\") \n",
    "                pa = post_soup.find_all('div', {'class', 'atl-item'})\n",
    "                records = parsePage(pa)\n",
    "                with open(file_name,'a') as p: \n",
    "                    for record in records:    \n",
    "                        p.write(str(page_num) + '\\t' +url + '\\t' + record.encode('utf-8')+\"\\n\") \n",
    "        else:\n",
    "            pass\n",
    "    except Exception, e:\n",
    "        print e\n",
    "        pass"
   ]
  },
  {
   "cell_type": "code",
   "execution_count": 72,
   "metadata": {
    "collapsed": false
   },
   "outputs": [
    {
     "name": "stdout",
     "output_type": "stream",
     "text": [
      "'NoneType' object has no attribute 'form'\n"
     ]
    }
   ],
   "source": [
    "url = 'http://bbs.tianya.cn' + df.link[65]\n",
    "file_name = '/Users/lisa/Desktop/tianya/tianya_htc_threads_test.txt'\n",
    "crawler(url, file_name)"
   ]
  },
  {
   "cell_type": "code",
   "execution_count": 73,
   "metadata": {
    "collapsed": false
   },
   "outputs": [
    {
     "name": "stdout",
     "output_type": "stream",
     "text": [
      "/post-free-3071187-1.shtmlThis it the post of : 0\n",
      "/post-free-2181608-1.shtmlThis it the post of : 10\n",
      "/post-free-2522173-1.shtmlThis it the post of : 20\n",
      "/post-free-2918588-1.shtmlThis it the post of : 30\n",
      "/post-free-4049000-1.shtmlThis it the post of : 40\n",
      "/post-free-5058356-1.shtmlThis it the post of : 50\n",
      "/post-free-4597338-1.shtmlThis it the post of : 60\n",
      "/post-free-2473481-1.shtmlThis it the post of : 70\n",
      "/post-free-3294330-1.shtmlThis it the post of : 80\n",
      "/post-free-5365863-1.shtmlThis it the post of : 90\n",
      "/post-free-2813083-1.shtmlThis it the post of : 100\n",
      "/post-free-3324144-1.shtmlThis it the post of : 110\n",
      "/post-free-3210708-1.shtmlThis it the post of : 120\n",
      "/post-free-4955558-1.shtmlThis it the post of : 130\n",
      "/post-free-3631059-1.shtmlThis it the post of : 140\n",
      "/post-free-5035790-1.shtmlThis it the post of : 150\n",
      "/post-free-4241720-1.shtmlThis it the post of : 160\n",
      "/post-free-5199336-1.shtmlThis it the post of : 170\n",
      "/post-free-4886120-1.shtmlThis it the post of : 180\n",
      "/post-free-4936801-1.shtmlThis it the post of : 190\n",
      "/post-free-5183042-1.shtmlThis it the post of : 200\n",
      "/post-free-3924147-1.shtmlThis it the post of : 210\n",
      "/post-free-2461893-1.shtmlThis it the post of : 220\n",
      "/post-free-3466768-1.shtmlThis it the post of : 230\n",
      "/post-free-2660052-1.shtmlThis it the post of : 240\n",
      "/post-free-3317344-1.shtmlThis it the post of : 250\n",
      "/post-free-3055227-1.shtmlThis it the post of : 260\n",
      "/post-free-3558945-1.shtmlThis it the post of : 270\n",
      "/post-free-3639803-1.shtmlThis it the post of : 280\n",
      "/post-free-3182527-1.shtmlThis it the post of : 290\n",
      "/post-free-3248166-1.shtmlThis it the post of : 300\n",
      "/post-free-3464244-1.shtmlThis it the post of : 310\n",
      "/post-free-4708281-1.shtmlThis it the post of : 320\n",
      "/post-free-4585773-1.shtmlThis it the post of : 330\n",
      "/post-free-3918101-1.shtmlThis it the post of : 340\n",
      "/post-free-4403748-1.shtmlThis it the post of : 350\n",
      "/post-free-4560424-1.shtmlThis it the post of : 360\n",
      "/post-free-3182588-1.shtmlThis it the post of : 370\n",
      "/post-free-4764756-1.shtmlThis it the post of : 380\n",
      "/post-free-5226941-1.shtmlThis it the post of : 390\n",
      "/post-free-4890618-1.shtmlThis it the post of : 400\n",
      "/post-free-5090053-1.shtml"
     ]
    }
   ],
   "source": [
    "for k, link in enumerate(df.link):\n",
    "    flushPrint(link)\n",
    "    if k % 10== 0:\n",
    "        print 'This it the post of : ' + str(k)\n",
    "    file_name = '/Users/lisa/Desktop/tianya/tianya_htc_threads_network.txt'\n",
    "    crawler(link, file_name)"
   ]
  },
  {
   "cell_type": "code",
   "execution_count": 74,
   "metadata": {
    "collapsed": false
   },
   "outputs": [
    {
     "data": {
      "text/plain": [
       "2734"
      ]
     },
     "execution_count": 74,
     "metadata": {},
     "output_type": "execute_result"
    }
   ],
   "source": [
    "dtt = []\n",
    "with open('/Users/lisa/Desktop/tianya/tianya_htc_threads_network.txt', 'r') as f:\n",
    "    for line in f:\n",
    "        pnum, link, time, author_id, author, content = line.replace('\\n', '').split('\\t')\n",
    "        dtt.append([pnum, link, time, author_id, author, content])\n",
    "len(dtt)"
   ]
  },
  {
   "cell_type": "code",
   "execution_count": 75,
   "metadata": {
    "collapsed": false
   },
   "outputs": [
    {
     "data": {
      "text/html": [
       "<div>\n",
       "<table border=\"1\" class=\"dataframe\">\n",
       "  <thead>\n",
       "    <tr style=\"text-align: right;\">\n",
       "      <th></th>\n",
       "      <th>0</th>\n",
       "      <th>1</th>\n",
       "      <th>2</th>\n",
       "      <th>3</th>\n",
       "      <th>4</th>\n",
       "      <th>5</th>\n",
       "    </tr>\n",
       "  </thead>\n",
       "  <tbody>\n",
       "    <tr>\n",
       "      <th>0</th>\n",
       "      <td>1</td>\n",
       "      <td>/post-free-3071187-1.shtml</td>\n",
       "      <td>2013-02-18 01:36:00</td>\n",
       "      <td>71642073</td>\n",
       "      <td>啵右</td>\n",
       "      <td>我想买一个实用一点的手机，价格在一千五到一千八左右，在纠结买HTC的还是买华为的，　　听说华...</td>\n",
       "    </tr>\n",
       "    <tr>\n",
       "      <th>1</th>\n",
       "      <td>1</td>\n",
       "      <td>/post-free-3071187-1.shtml</td>\n",
       "      <td>2013-02-18 01:43:07</td>\n",
       "      <td>70571229</td>\n",
       "      <td>终霁</td>\n",
       "      <td>楼主，我会说我在用华为的手机给你发帖吗。手机是学校加钱换的，便宜，摔了也不心疼。其实，手机能...</td>\n",
       "    </tr>\n",
       "    <tr>\n",
       "      <th>2</th>\n",
       "      <td>1</td>\n",
       "      <td>/post-free-3071187-1.shtml</td>\n",
       "      <td>2013-02-18 01:43:27</td>\n",
       "      <td>74703521</td>\n",
       "      <td>性欲很好</td>\n",
       "      <td>看运气吧我用的华为88|2就垃圾两月触屏右边失灵耳机插孔坏的买来就没用过</td>\n",
       "    </tr>\n",
       "    <tr>\n",
       "      <th>3</th>\n",
       "      <td>1</td>\n",
       "      <td>/post-free-3071187-1.shtml</td>\n",
       "      <td>2013-02-18 05:08:39</td>\n",
       "      <td>73760942</td>\n",
       "      <td>黑丝诱惑1069</td>\n",
       "      <td>我现在用的是金凯为，一千三，双核，说实话，比很多山寨手机好的多！已经买了二十天，从来没有死机...</td>\n",
       "    </tr>\n",
       "    <tr>\n",
       "      <th>4</th>\n",
       "      <td>1</td>\n",
       "      <td>/post-free-3071187-1.shtml</td>\n",
       "      <td>2013-02-18 06:18:17</td>\n",
       "      <td>3078589</td>\n",
       "      <td>倚剑醉卧梦遇仙</td>\n",
       "      <td>不能买垃圾国产的手机,特别是华为这种有军工背景的.</td>\n",
       "    </tr>\n",
       "    <tr>\n",
       "      <th>5</th>\n",
       "      <td>1</td>\n",
       "      <td>/post-free-3071187-1.shtml</td>\n",
       "      <td>2013-02-18 11:43:26</td>\n",
       "      <td>71642073</td>\n",
       "      <td>啵右</td>\n",
       "      <td>@倚剑醉卧梦遇仙 4楼 2013-02-18 06:18:17　　不能买垃圾国产的手机,特别...</td>\n",
       "    </tr>\n",
       "    <tr>\n",
       "      <th>6</th>\n",
       "      <td>1</td>\n",
       "      <td>/post-free-3071187-1.shtml</td>\n",
       "      <td>2013-02-18 11:56:58</td>\n",
       "      <td>16237235</td>\n",
       "      <td>江南子子</td>\n",
       "      <td>二选一的话，选HTC</td>\n",
       "    </tr>\n",
       "    <tr>\n",
       "      <th>7</th>\n",
       "      <td>1</td>\n",
       "      <td>/post-free-3071187-1.shtml</td>\n",
       "      <td>2013-02-18 13:14:59</td>\n",
       "      <td>71642073</td>\n",
       "      <td>啵右</td>\n",
       "      <td>@江南子子 6楼 2013-02-18 11:56:58　　二选一的话，选HTC　　----...</td>\n",
       "    </tr>\n",
       "    <tr>\n",
       "      <th>8</th>\n",
       "      <td>1</td>\n",
       "      <td>/post-free-3071187-1.shtml</td>\n",
       "      <td>2013-02-19 18:11:27</td>\n",
       "      <td>76502580</td>\n",
       "      <td>wlgcgl</td>\n",
       "      <td>回复第5楼，@啵右　　@倚剑醉卧梦遇仙 4楼 2013-02-18 06:18:17 　　不...</td>\n",
       "    </tr>\n",
       "    <tr>\n",
       "      <th>9</th>\n",
       "      <td>1</td>\n",
       "      <td>/post-free-3071187-1.shtml</td>\n",
       "      <td>2013-02-20 21:50:51</td>\n",
       "      <td>3078589</td>\n",
       "      <td>倚剑醉卧梦遇仙</td>\n",
       "      <td>象华为这种有军工背景,又做网络,又做通讯的,　　用摄像头,有麦克,还有网络,就是一个现成的窃...</td>\n",
       "    </tr>\n",
       "    <tr>\n",
       "      <th>10</th>\n",
       "      <td>1</td>\n",
       "      <td>/post-free-3071187-1.shtml</td>\n",
       "      <td>2013-02-20 21:54:10</td>\n",
       "      <td>41638719</td>\n",
       "      <td>whn3618299</td>\n",
       "      <td>两千八买的htc是砖，四个月淘汰。你看吧。卡。进土。启动超慢。死机。等等</td>\n",
       "    </tr>\n",
       "    <tr>\n",
       "      <th>11</th>\n",
       "      <td>1</td>\n",
       "      <td>/post-free-3071187-1.shtml</td>\n",
       "      <td>2013-02-20 22:05:07</td>\n",
       "      <td>40912986</td>\n",
       "      <td>GZM321G</td>\n",
       "      <td>我的联想A789很好啊，1000块</td>\n",
       "    </tr>\n",
       "    <tr>\n",
       "      <th>12</th>\n",
       "      <td>1</td>\n",
       "      <td>/post-free-3071187-1.shtml</td>\n",
       "      <td>2013-02-20 22:05:36</td>\n",
       "      <td>67717783</td>\n",
       "      <td>阿金阿银</td>\n",
       "      <td>华为的荣耀2自认为不错，个人觉得三星的不错不过行货可能太贵了，水货差不多</td>\n",
       "    </tr>\n",
       "    <tr>\n",
       "      <th>13</th>\n",
       "      <td>1</td>\n",
       "      <td>/post-free-3071187-1.shtml</td>\n",
       "      <td>2013-02-20 22:10:21</td>\n",
       "      <td>37303100</td>\n",
       "      <td>老头没长眼</td>\n",
       "      <td>千万别买华为，性价比是高，那质量不敢恭维！买两华为手机，外壳都出问题！</td>\n",
       "    </tr>\n",
       "    <tr>\n",
       "      <th>14</th>\n",
       "      <td>1</td>\n",
       "      <td>/post-free-3071187-1.shtml</td>\n",
       "      <td>2013-02-20 23:30:43</td>\n",
       "      <td>51110448</td>\n",
       "      <td>laserscan</td>\n",
       "      <td>@啵右 华为，联想都不错。</td>\n",
       "    </tr>\n",
       "    <tr>\n",
       "      <th>15</th>\n",
       "      <td>1</td>\n",
       "      <td>/post-free-3071187-1.shtml</td>\n",
       "      <td>2013-02-21 00:03:00</td>\n",
       "      <td>78470114</td>\n",
       "      <td>改变我的是什么</td>\n",
       "      <td>我没听说华为有什么问题，那些看牌子说话的你们自己看不起国货就算了，但是能为中国产保留一点尊严...</td>\n",
       "    </tr>\n",
       "    <tr>\n",
       "      <th>16</th>\n",
       "      <td>1</td>\n",
       "      <td>/post-free-3071187-1.shtml</td>\n",
       "      <td>2013-02-21 00:06:10</td>\n",
       "      <td>43747948</td>\n",
       "      <td>切_格瓦拉2010</td>\n",
       "      <td>华为荣耀2或联想K860</td>\n",
       "    </tr>\n",
       "    <tr>\n",
       "      <th>17</th>\n",
       "      <td>1</td>\n",
       "      <td>/post-free-3071187-1.shtml</td>\n",
       "      <td>2013-02-21 00:56:01</td>\n",
       "      <td>68771102</td>\n",
       "      <td>风一样拉风</td>\n",
       "      <td>电子产品，首选外牌，次选合资，最后才是国产。再说买电子产品看运气，不能因一概全</td>\n",
       "    </tr>\n",
       "    <tr>\n",
       "      <th>18</th>\n",
       "      <td>1</td>\n",
       "      <td>/post-free-3071187-1.shtml</td>\n",
       "      <td>2013-02-21 00:58:51</td>\n",
       "      <td>68771102</td>\n",
       "      <td>风一样拉风</td>\n",
       "      <td>回复第15楼，@改变我的是什么　　我没听说华为有什么问题，那些看牌子说话的你们自己看不起国货...</td>\n",
       "    </tr>\n",
       "    <tr>\n",
       "      <th>19</th>\n",
       "      <td>1</td>\n",
       "      <td>/post-free-3071187-1.shtml</td>\n",
       "      <td>2013-02-21 01:02:15</td>\n",
       "      <td>44875136</td>\n",
       "      <td>shihuai7220</td>\n",
       "      <td>果断华为荣耀+U9508  1800左右</td>\n",
       "    </tr>\n",
       "  </tbody>\n",
       "</table>\n",
       "</div>"
      ],
      "text/plain": [
       "    0                           1                    2         3            4  \\\n",
       "0   1  /post-free-3071187-1.shtml  2013-02-18 01:36:00  71642073           啵右   \n",
       "1   1  /post-free-3071187-1.shtml  2013-02-18 01:43:07  70571229           终霁   \n",
       "2   1  /post-free-3071187-1.shtml  2013-02-18 01:43:27  74703521         性欲很好   \n",
       "3   1  /post-free-3071187-1.shtml  2013-02-18 05:08:39  73760942     黑丝诱惑1069   \n",
       "4   1  /post-free-3071187-1.shtml  2013-02-18 06:18:17   3078589      倚剑醉卧梦遇仙   \n",
       "5   1  /post-free-3071187-1.shtml  2013-02-18 11:43:26  71642073           啵右   \n",
       "6   1  /post-free-3071187-1.shtml  2013-02-18 11:56:58  16237235         江南子子   \n",
       "7   1  /post-free-3071187-1.shtml  2013-02-18 13:14:59  71642073           啵右   \n",
       "8   1  /post-free-3071187-1.shtml  2013-02-19 18:11:27  76502580       wlgcgl   \n",
       "9   1  /post-free-3071187-1.shtml  2013-02-20 21:50:51   3078589      倚剑醉卧梦遇仙   \n",
       "10  1  /post-free-3071187-1.shtml  2013-02-20 21:54:10  41638719   whn3618299   \n",
       "11  1  /post-free-3071187-1.shtml  2013-02-20 22:05:07  40912986      GZM321G   \n",
       "12  1  /post-free-3071187-1.shtml  2013-02-20 22:05:36  67717783         阿金阿银   \n",
       "13  1  /post-free-3071187-1.shtml  2013-02-20 22:10:21  37303100        老头没长眼   \n",
       "14  1  /post-free-3071187-1.shtml  2013-02-20 23:30:43  51110448    laserscan   \n",
       "15  1  /post-free-3071187-1.shtml  2013-02-21 00:03:00  78470114      改变我的是什么   \n",
       "16  1  /post-free-3071187-1.shtml  2013-02-21 00:06:10  43747948    切_格瓦拉2010   \n",
       "17  1  /post-free-3071187-1.shtml  2013-02-21 00:56:01  68771102        风一样拉风   \n",
       "18  1  /post-free-3071187-1.shtml  2013-02-21 00:58:51  68771102        风一样拉风   \n",
       "19  1  /post-free-3071187-1.shtml  2013-02-21 01:02:15  44875136  shihuai7220   \n",
       "\n",
       "                                                    5  \n",
       "0   我想买一个实用一点的手机，价格在一千五到一千八左右，在纠结买HTC的还是买华为的，　　听说华...  \n",
       "1   楼主，我会说我在用华为的手机给你发帖吗。手机是学校加钱换的，便宜，摔了也不心疼。其实，手机能...  \n",
       "2                看运气吧我用的华为88|2就垃圾两月触屏右边失灵耳机插孔坏的买来就没用过  \n",
       "3   我现在用的是金凯为，一千三，双核，说实话，比很多山寨手机好的多！已经买了二十天，从来没有死机...  \n",
       "4                           不能买垃圾国产的手机,特别是华为这种有军工背景的.  \n",
       "5   @倚剑醉卧梦遇仙 4楼 2013-02-18 06:18:17　　不能买垃圾国产的手机,特别...  \n",
       "6                                          二选一的话，选HTC  \n",
       "7   @江南子子 6楼 2013-02-18 11:56:58　　二选一的话，选HTC　　----...  \n",
       "8   回复第5楼，@啵右　　@倚剑醉卧梦遇仙 4楼 2013-02-18 06:18:17 　　不...  \n",
       "9   象华为这种有军工背景,又做网络,又做通讯的,　　用摄像头,有麦克,还有网络,就是一个现成的窃...  \n",
       "10               两千八买的htc是砖，四个月淘汰。你看吧。卡。进土。启动超慢。死机。等等  \n",
       "11                                  我的联想A789很好啊，1000块  \n",
       "12               华为的荣耀2自认为不错，个人觉得三星的不错不过行货可能太贵了，水货差不多  \n",
       "13                千万别买华为，性价比是高，那质量不敢恭维！买两华为手机，外壳都出问题！  \n",
       "14                                      @啵右 华为，联想都不错。  \n",
       "15  我没听说华为有什么问题，那些看牌子说话的你们自己看不起国货就算了，但是能为中国产保留一点尊严...  \n",
       "16                                       华为荣耀2或联想K860  \n",
       "17            电子产品，首选外牌，次选合资，最后才是国产。再说买电子产品看运气，不能因一概全  \n",
       "18  回复第15楼，@改变我的是什么　　我没听说华为有什么问题，那些看牌子说话的你们自己看不起国货...  \n",
       "19                               果断华为荣耀+U9508  1800左右  "
      ]
     },
     "execution_count": 75,
     "metadata": {},
     "output_type": "execute_result"
    }
   ],
   "source": [
    "dt = pd.DataFrame(dtt)\n",
    "dt[:20]"
   ]
  },
  {
   "cell_type": "code",
   "execution_count": 76,
   "metadata": {
    "collapsed": false
   },
   "outputs": [
    {
     "data": {
      "text/html": [
       "<div>\n",
       "<table border=\"1\" class=\"dataframe\">\n",
       "  <thead>\n",
       "    <tr style=\"text-align: right;\">\n",
       "      <th></th>\n",
       "      <th>page_num</th>\n",
       "      <th>link</th>\n",
       "      <th>time</th>\n",
       "      <th>author</th>\n",
       "      <th>author_name</th>\n",
       "      <th>reply</th>\n",
       "    </tr>\n",
       "  </thead>\n",
       "  <tbody>\n",
       "    <tr>\n",
       "      <th>0</th>\n",
       "      <td>1</td>\n",
       "      <td>/post-free-3071187-1.shtml</td>\n",
       "      <td>2013-02-18 01:36:00</td>\n",
       "      <td>71642073</td>\n",
       "      <td>啵右</td>\n",
       "      <td>我想买一个实用一点的手机，价格在一千五到一千八左右，在纠结买HTC的还是买华为的，　　听说华...</td>\n",
       "    </tr>\n",
       "    <tr>\n",
       "      <th>1</th>\n",
       "      <td>1</td>\n",
       "      <td>/post-free-3071187-1.shtml</td>\n",
       "      <td>2013-02-18 01:43:07</td>\n",
       "      <td>70571229</td>\n",
       "      <td>终霁</td>\n",
       "      <td>楼主，我会说我在用华为的手机给你发帖吗。手机是学校加钱换的，便宜，摔了也不心疼。其实，手机能...</td>\n",
       "    </tr>\n",
       "    <tr>\n",
       "      <th>2</th>\n",
       "      <td>1</td>\n",
       "      <td>/post-free-3071187-1.shtml</td>\n",
       "      <td>2013-02-18 01:43:27</td>\n",
       "      <td>74703521</td>\n",
       "      <td>性欲很好</td>\n",
       "      <td>看运气吧我用的华为88|2就垃圾两月触屏右边失灵耳机插孔坏的买来就没用过</td>\n",
       "    </tr>\n",
       "    <tr>\n",
       "      <th>3</th>\n",
       "      <td>1</td>\n",
       "      <td>/post-free-3071187-1.shtml</td>\n",
       "      <td>2013-02-18 05:08:39</td>\n",
       "      <td>73760942</td>\n",
       "      <td>黑丝诱惑1069</td>\n",
       "      <td>我现在用的是金凯为，一千三，双核，说实话，比很多山寨手机好的多！已经买了二十天，从来没有死机...</td>\n",
       "    </tr>\n",
       "    <tr>\n",
       "      <th>4</th>\n",
       "      <td>1</td>\n",
       "      <td>/post-free-3071187-1.shtml</td>\n",
       "      <td>2013-02-18 06:18:17</td>\n",
       "      <td>3078589</td>\n",
       "      <td>倚剑醉卧梦遇仙</td>\n",
       "      <td>不能买垃圾国产的手机,特别是华为这种有军工背景的.</td>\n",
       "    </tr>\n",
       "    <tr>\n",
       "      <th>5</th>\n",
       "      <td>1</td>\n",
       "      <td>/post-free-3071187-1.shtml</td>\n",
       "      <td>2013-02-18 11:43:26</td>\n",
       "      <td>71642073</td>\n",
       "      <td>啵右</td>\n",
       "      <td>@倚剑醉卧梦遇仙 4楼 2013-02-18 06:18:17　　不能买垃圾国产的手机,特别...</td>\n",
       "    </tr>\n",
       "    <tr>\n",
       "      <th>6</th>\n",
       "      <td>1</td>\n",
       "      <td>/post-free-3071187-1.shtml</td>\n",
       "      <td>2013-02-18 11:56:58</td>\n",
       "      <td>16237235</td>\n",
       "      <td>江南子子</td>\n",
       "      <td>二选一的话，选HTC</td>\n",
       "    </tr>\n",
       "    <tr>\n",
       "      <th>7</th>\n",
       "      <td>1</td>\n",
       "      <td>/post-free-3071187-1.shtml</td>\n",
       "      <td>2013-02-18 13:14:59</td>\n",
       "      <td>71642073</td>\n",
       "      <td>啵右</td>\n",
       "      <td>@江南子子 6楼 2013-02-18 11:56:58　　二选一的话，选HTC　　----...</td>\n",
       "    </tr>\n",
       "    <tr>\n",
       "      <th>8</th>\n",
       "      <td>1</td>\n",
       "      <td>/post-free-3071187-1.shtml</td>\n",
       "      <td>2013-02-19 18:11:27</td>\n",
       "      <td>76502580</td>\n",
       "      <td>wlgcgl</td>\n",
       "      <td>回复第5楼，@啵右　　@倚剑醉卧梦遇仙 4楼 2013-02-18 06:18:17 　　不...</td>\n",
       "    </tr>\n",
       "    <tr>\n",
       "      <th>9</th>\n",
       "      <td>1</td>\n",
       "      <td>/post-free-3071187-1.shtml</td>\n",
       "      <td>2013-02-20 21:50:51</td>\n",
       "      <td>3078589</td>\n",
       "      <td>倚剑醉卧梦遇仙</td>\n",
       "      <td>象华为这种有军工背景,又做网络,又做通讯的,　　用摄像头,有麦克,还有网络,就是一个现成的窃...</td>\n",
       "    </tr>\n",
       "    <tr>\n",
       "      <th>10</th>\n",
       "      <td>1</td>\n",
       "      <td>/post-free-3071187-1.shtml</td>\n",
       "      <td>2013-02-20 21:54:10</td>\n",
       "      <td>41638719</td>\n",
       "      <td>whn3618299</td>\n",
       "      <td>两千八买的htc是砖，四个月淘汰。你看吧。卡。进土。启动超慢。死机。等等</td>\n",
       "    </tr>\n",
       "    <tr>\n",
       "      <th>11</th>\n",
       "      <td>1</td>\n",
       "      <td>/post-free-3071187-1.shtml</td>\n",
       "      <td>2013-02-20 22:05:07</td>\n",
       "      <td>40912986</td>\n",
       "      <td>GZM321G</td>\n",
       "      <td>我的联想A789很好啊，1000块</td>\n",
       "    </tr>\n",
       "    <tr>\n",
       "      <th>12</th>\n",
       "      <td>1</td>\n",
       "      <td>/post-free-3071187-1.shtml</td>\n",
       "      <td>2013-02-20 22:05:36</td>\n",
       "      <td>67717783</td>\n",
       "      <td>阿金阿银</td>\n",
       "      <td>华为的荣耀2自认为不错，个人觉得三星的不错不过行货可能太贵了，水货差不多</td>\n",
       "    </tr>\n",
       "    <tr>\n",
       "      <th>13</th>\n",
       "      <td>1</td>\n",
       "      <td>/post-free-3071187-1.shtml</td>\n",
       "      <td>2013-02-20 22:10:21</td>\n",
       "      <td>37303100</td>\n",
       "      <td>老头没长眼</td>\n",
       "      <td>千万别买华为，性价比是高，那质量不敢恭维！买两华为手机，外壳都出问题！</td>\n",
       "    </tr>\n",
       "    <tr>\n",
       "      <th>14</th>\n",
       "      <td>1</td>\n",
       "      <td>/post-free-3071187-1.shtml</td>\n",
       "      <td>2013-02-20 23:30:43</td>\n",
       "      <td>51110448</td>\n",
       "      <td>laserscan</td>\n",
       "      <td>@啵右 华为，联想都不错。</td>\n",
       "    </tr>\n",
       "    <tr>\n",
       "      <th>15</th>\n",
       "      <td>1</td>\n",
       "      <td>/post-free-3071187-1.shtml</td>\n",
       "      <td>2013-02-21 00:03:00</td>\n",
       "      <td>78470114</td>\n",
       "      <td>改变我的是什么</td>\n",
       "      <td>我没听说华为有什么问题，那些看牌子说话的你们自己看不起国货就算了，但是能为中国产保留一点尊严...</td>\n",
       "    </tr>\n",
       "    <tr>\n",
       "      <th>16</th>\n",
       "      <td>1</td>\n",
       "      <td>/post-free-3071187-1.shtml</td>\n",
       "      <td>2013-02-21 00:06:10</td>\n",
       "      <td>43747948</td>\n",
       "      <td>切_格瓦拉2010</td>\n",
       "      <td>华为荣耀2或联想K860</td>\n",
       "    </tr>\n",
       "    <tr>\n",
       "      <th>17</th>\n",
       "      <td>1</td>\n",
       "      <td>/post-free-3071187-1.shtml</td>\n",
       "      <td>2013-02-21 00:56:01</td>\n",
       "      <td>68771102</td>\n",
       "      <td>风一样拉风</td>\n",
       "      <td>电子产品，首选外牌，次选合资，最后才是国产。再说买电子产品看运气，不能因一概全</td>\n",
       "    </tr>\n",
       "    <tr>\n",
       "      <th>18</th>\n",
       "      <td>1</td>\n",
       "      <td>/post-free-3071187-1.shtml</td>\n",
       "      <td>2013-02-21 00:58:51</td>\n",
       "      <td>68771102</td>\n",
       "      <td>风一样拉风</td>\n",
       "      <td>回复第15楼，@改变我的是什么　　我没听说华为有什么问题，那些看牌子说话的你们自己看不起国货...</td>\n",
       "    </tr>\n",
       "    <tr>\n",
       "      <th>19</th>\n",
       "      <td>1</td>\n",
       "      <td>/post-free-3071187-1.shtml</td>\n",
       "      <td>2013-02-21 01:02:15</td>\n",
       "      <td>44875136</td>\n",
       "      <td>shihuai7220</td>\n",
       "      <td>果断华为荣耀+U9508  1800左右</td>\n",
       "    </tr>\n",
       "    <tr>\n",
       "      <th>20</th>\n",
       "      <td>1</td>\n",
       "      <td>/post-free-3071187-1.shtml</td>\n",
       "      <td>2013-02-21 11:44:10</td>\n",
       "      <td>78470114</td>\n",
       "      <td>改变我的是什么</td>\n",
       "      <td>@shihuai7220 19楼 2013-02-21 01:02:15　　果断华为荣耀+U...</td>\n",
       "    </tr>\n",
       "  </tbody>\n",
       "</table>\n",
       "</div>"
      ],
      "text/plain": [
       "   page_num                        link                 time    author  \\\n",
       "0         1  /post-free-3071187-1.shtml  2013-02-18 01:36:00  71642073   \n",
       "1         1  /post-free-3071187-1.shtml  2013-02-18 01:43:07  70571229   \n",
       "2         1  /post-free-3071187-1.shtml  2013-02-18 01:43:27  74703521   \n",
       "3         1  /post-free-3071187-1.shtml  2013-02-18 05:08:39  73760942   \n",
       "4         1  /post-free-3071187-1.shtml  2013-02-18 06:18:17   3078589   \n",
       "5         1  /post-free-3071187-1.shtml  2013-02-18 11:43:26  71642073   \n",
       "6         1  /post-free-3071187-1.shtml  2013-02-18 11:56:58  16237235   \n",
       "7         1  /post-free-3071187-1.shtml  2013-02-18 13:14:59  71642073   \n",
       "8         1  /post-free-3071187-1.shtml  2013-02-19 18:11:27  76502580   \n",
       "9         1  /post-free-3071187-1.shtml  2013-02-20 21:50:51   3078589   \n",
       "10        1  /post-free-3071187-1.shtml  2013-02-20 21:54:10  41638719   \n",
       "11        1  /post-free-3071187-1.shtml  2013-02-20 22:05:07  40912986   \n",
       "12        1  /post-free-3071187-1.shtml  2013-02-20 22:05:36  67717783   \n",
       "13        1  /post-free-3071187-1.shtml  2013-02-20 22:10:21  37303100   \n",
       "14        1  /post-free-3071187-1.shtml  2013-02-20 23:30:43  51110448   \n",
       "15        1  /post-free-3071187-1.shtml  2013-02-21 00:03:00  78470114   \n",
       "16        1  /post-free-3071187-1.shtml  2013-02-21 00:06:10  43747948   \n",
       "17        1  /post-free-3071187-1.shtml  2013-02-21 00:56:01  68771102   \n",
       "18        1  /post-free-3071187-1.shtml  2013-02-21 00:58:51  68771102   \n",
       "19        1  /post-free-3071187-1.shtml  2013-02-21 01:02:15  44875136   \n",
       "20        1  /post-free-3071187-1.shtml  2013-02-21 11:44:10  78470114   \n",
       "\n",
       "    author_name                                              reply  \n",
       "0            啵右  我想买一个实用一点的手机，价格在一千五到一千八左右，在纠结买HTC的还是买华为的，　　听说华...  \n",
       "1            终霁  楼主，我会说我在用华为的手机给你发帖吗。手机是学校加钱换的，便宜，摔了也不心疼。其实，手机能...  \n",
       "2          性欲很好               看运气吧我用的华为88|2就垃圾两月触屏右边失灵耳机插孔坏的买来就没用过  \n",
       "3      黑丝诱惑1069  我现在用的是金凯为，一千三，双核，说实话，比很多山寨手机好的多！已经买了二十天，从来没有死机...  \n",
       "4       倚剑醉卧梦遇仙                          不能买垃圾国产的手机,特别是华为这种有军工背景的.  \n",
       "5            啵右  @倚剑醉卧梦遇仙 4楼 2013-02-18 06:18:17　　不能买垃圾国产的手机,特别...  \n",
       "6          江南子子                                         二选一的话，选HTC  \n",
       "7            啵右  @江南子子 6楼 2013-02-18 11:56:58　　二选一的话，选HTC　　----...  \n",
       "8        wlgcgl  回复第5楼，@啵右　　@倚剑醉卧梦遇仙 4楼 2013-02-18 06:18:17 　　不...  \n",
       "9       倚剑醉卧梦遇仙  象华为这种有军工背景,又做网络,又做通讯的,　　用摄像头,有麦克,还有网络,就是一个现成的窃...  \n",
       "10   whn3618299               两千八买的htc是砖，四个月淘汰。你看吧。卡。进土。启动超慢。死机。等等  \n",
       "11      GZM321G                                  我的联想A789很好啊，1000块  \n",
       "12         阿金阿银               华为的荣耀2自认为不错，个人觉得三星的不错不过行货可能太贵了，水货差不多  \n",
       "13        老头没长眼                千万别买华为，性价比是高，那质量不敢恭维！买两华为手机，外壳都出问题！  \n",
       "14    laserscan                                      @啵右 华为，联想都不错。  \n",
       "15      改变我的是什么  我没听说华为有什么问题，那些看牌子说话的你们自己看不起国货就算了，但是能为中国产保留一点尊严...  \n",
       "16    切_格瓦拉2010                                       华为荣耀2或联想K860  \n",
       "17        风一样拉风            电子产品，首选外牌，次选合资，最后才是国产。再说买电子产品看运气，不能因一概全  \n",
       "18        风一样拉风  回复第15楼，@改变我的是什么　　我没听说华为有什么问题，那些看牌子说话的你们自己看不起国货...  \n",
       "19  shihuai7220                               果断华为荣耀+U9508  1800左右  \n",
       "20      改变我的是什么  @shihuai7220 19楼 2013-02-21 01:02:15　　果断华为荣耀+U...  "
      ]
     },
     "execution_count": 76,
     "metadata": {},
     "output_type": "execute_result"
    }
   ],
   "source": [
    "dt=dt.rename(columns = {0:'page_num', 1:'link', 2:'time', 3:'author',4:'author_name', 5:'reply'})\n",
    "dt[:21]"
   ]
  },
  {
   "cell_type": "code",
   "execution_count": null,
   "metadata": {
    "collapsed": true
   },
   "outputs": [],
   "source": []
  }
 ],
 "metadata": {
  "kernelspec": {
   "display_name": "Python 2",
   "language": "python",
   "name": "python2"
  },
  "language_info": {
   "codemirror_mode": {
    "name": "ipython",
    "version": 2
   },
   "file_extension": ".py",
   "mimetype": "text/x-python",
   "name": "python",
   "nbconvert_exporter": "python",
   "pygments_lexer": "ipython2",
   "version": "2.7.11"
  }
 },
 "nbformat": 4,
 "nbformat_minor": 0
}
