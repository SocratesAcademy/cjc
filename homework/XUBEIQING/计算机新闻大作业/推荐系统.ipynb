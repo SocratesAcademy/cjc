{
 "cells": [
  {
   "cell_type": "markdown",
   "metadata": {},
   "source": [
    "## 构建给用户推荐帖子的推荐系统：\n",
    "#### 1.将数据整理为以下格式：人、帖子、参与次数\n",
    "#### 2.对以上数据构建基于物的相似性的推荐系统"
   ]
  },
  {
   "cell_type": "code",
   "execution_count": 12,
   "metadata": {
    "collapsed": true
   },
   "outputs": [],
   "source": [
    "#!/usr/bin/env python\n",
    "# coding=utf-8\n",
    "\n",
    "import codecs\n",
    "import csv\n",
    "import sys\n",
    "reload(sys)\n",
    "sys.setdefaultencoding('utf-8')\n",
    "\n",
    "class Item():\n",
    "    def __init__(self):\n",
    "        self.number = 0\n",
    "        self.link = \"\"\n",
    "        self.time = \"\"\n",
    "        self.author_id = \"\"\n",
    "        self.reply = \"\"\n",
    "        self.author = \"\""
   ]
  },
  {
   "cell_type": "code",
   "execution_count": 14,
   "metadata": {
    "collapsed": false
   },
   "outputs": [],
   "source": [
    "content = {}\n",
    "#输入路径 就是文件的路径\n",
    "csvfile = file('/Users/sophiasun/Github/project/tianya_exo_threads_network.txt', 'rb')\n",
    "reader = csv.reader(csvfile,delimiter='\\t')\n",
    "for line in reader:\n",
    "    item = Item()\n",
    "    item.number = int(line[0])\n",
    "    item.link = line[1]\n",
    "    item.time = line[2] \n",
    "    item.author_id = line[3]\n",
    "    item.author = unicode(line[4])\n",
    "    item.reply = unicode(line[5:])\n",
    "    if content.has_key(line[1]):\n",
    "      (content[line[1]].number) += int(line[0])\n",
    "    else:\n",
    "        content[line[1]] = item"
   ]
  },
  {
   "cell_type": "code",
   "execution_count": 15,
   "metadata": {
    "collapsed": true
   },
   "outputs": [],
   "source": [
    "s = 0\n",
    "for key in content:\n",
    "    s+=1\n",
    "print s\n",
    "data = []\n",
    "headers = ['number','link','time','author_id','author','reply']\n",
    "for key in content:\n",
    "    data.append((content[key].number,content[key].link,content[key].time,content[key].author_id,content[key].author.encode('utf-8'),content[key].reply.encode('utf-8')))\n",
    "\n",
    "#设置输出路径\n",
    "output =codecs.open(\"/Users/sophiasun/Github/project/out.csv\",\"w\",encoding=\"utf-8\")\n",
    "f_csv = csv.writer(output)\n",
    "f_csv.writerow(headers)\n",
    "f_csv.writerows(data)"
   ]
  },
  {
   "cell_type": "code",
   "execution_count": 16,
   "metadata": {
    "collapsed": true
   },
   "outputs": [],
   "source": [
    "import graphlab\n",
    "graphlab.canvas.set_target(\"ipynb\")\n",
    "# set canvas to show sframes and sgraphs in ipython notebook\n",
    "import matplotlib.pyplot as plt\n",
    "%matplotlib inline"
   ]
  },
  {
   "cell_type": "code",
   "execution_count": 17,
   "metadata": {
    "collapsed": false
   },
   "outputs": [
    {
     "data": {
      "text/html": [
       "<pre>Finished parsing file /Users/sophiasun/Github/project/out.csv</pre>"
      ],
      "text/plain": [
       "Finished parsing file /Users/sophiasun/Github/project/out.csv"
      ]
     },
     "metadata": {},
     "output_type": "display_data"
    },
    {
     "data": {
      "text/html": [
       "<pre>Parsing completed. Parsed 50 lines in 0.046458 secs.</pre>"
      ],
      "text/plain": [
       "Parsing completed. Parsed 50 lines in 0.046458 secs."
      ]
     },
     "metadata": {},
     "output_type": "display_data"
    },
    {
     "data": {
      "text/html": [
       "<pre>Finished parsing file /Users/sophiasun/Github/project/out.csv</pre>"
      ],
      "text/plain": [
       "Finished parsing file /Users/sophiasun/Github/project/out.csv"
      ]
     },
     "metadata": {},
     "output_type": "display_data"
    },
    {
     "data": {
      "text/html": [
       "<pre>Parsing completed. Parsed 50 lines in 0.01839 secs.</pre>"
      ],
      "text/plain": [
       "Parsing completed. Parsed 50 lines in 0.01839 secs."
      ]
     },
     "metadata": {},
     "output_type": "display_data"
    }
   ],
   "source": [
    "data = graphlab.SFrame.read_csv('/Users/sophiasun/Github/project/out.csv', delimiter=',')"
   ]
  },
  {
   "cell_type": "code",
   "execution_count": 18,
   "metadata": {
    "collapsed": false
   },
   "outputs": [
    {
     "data": {
      "text/html": [
       "<div style=\"max-height:1000px;max-width:1500px;overflow:auto;\"><table frame=\"box\" rules=\"cols\">\n",
       "    <tr>\n",
       "        <th style=\"padding-left: 1em; padding-right: 1em; text-align: center\">number</th>\n",
       "        <th style=\"padding-left: 1em; padding-right: 1em; text-align: center\">link</th>\n",
       "        <th style=\"padding-left: 1em; padding-right: 1em; text-align: center\">time</th>\n",
       "        <th style=\"padding-left: 1em; padding-right: 1em; text-align: center\">author_id</th>\n",
       "        <th style=\"padding-left: 1em; padding-right: 1em; text-align: center\">author</th>\n",
       "        <th style=\"padding-left: 1em; padding-right: 1em; text-align: center\">reply</th>\n",
       "    </tr>\n",
       "    <tr>\n",
       "        <td style=\"padding-left: 1em; padding-right: 1em; text-align: center; vertical-align: top\">1050</td>\n",
       "        <td style=\"padding-left: 1em; padding-right: 1em; text-align: center; vertical-align: top\">/post-<br>funinfo-6932986-1.shtml ...</td>\n",
       "        <td style=\"padding-left: 1em; padding-right: 1em; text-align: center; vertical-align: top\">2016-05-18 10:32:27</td>\n",
       "        <td style=\"padding-left: 1em; padding-right: 1em; text-align: center; vertical-align: top\">112460252</td>\n",
       "        <td style=\"padding-left: 1em; padding-right: 1em; text-align: center; vertical-align: top\">淼焱森晶鑫磊犇众</td>\n",
       "        <td style=\"padding-left: 1em; padding-right: 1em; text-align: center; vertical-align: top\">[\\xe5\\xbc\\xa0\\xe8\\x89\\xba<br>\\xe5\\x85\\xb4\\xe4\\xb9\\ ...</td>\n",
       "    </tr>\n",
       "    <tr>\n",
       "        <td style=\"padding-left: 1em; padding-right: 1em; text-align: center; vertical-align: top\">1960</td>\n",
       "        <td style=\"padding-left: 1em; padding-right: 1em; text-align: center; vertical-align: top\">/post-<br>funinfo-6649250-1.shtml ...</td>\n",
       "        <td style=\"padding-left: 1em; padding-right: 1em; text-align: center; vertical-align: top\">2015-09-21 23:14:41</td>\n",
       "        <td style=\"padding-left: 1em; padding-right: 1em; text-align: center; vertical-align: top\">103694969</td>\n",
       "        <td style=\"padding-left: 1em; padding-right: 1em; text-align: center; vertical-align: top\">想名字好烦人</td>\n",
       "        <td style=\"padding-left: 1em; padding-right: 1em; text-align: center; vertical-align: top\">[\\xe6\\x88\\x91\\xe7\\x9c\\x8b<br>\\xe6\\x9e\\x81\\xe9\\x99\\ ...</td>\n",
       "    </tr>\n",
       "    <tr>\n",
       "        <td style=\"padding-left: 1em; padding-right: 1em; text-align: center; vertical-align: top\">1950</td>\n",
       "        <td style=\"padding-left: 1em; padding-right: 1em; text-align: center; vertical-align: top\">/post-<br>funinfo-6929580-1.shtml ...</td>\n",
       "        <td style=\"padding-left: 1em; padding-right: 1em; text-align: center; vertical-align: top\">2016-05-15 09:25:20</td>\n",
       "        <td style=\"padding-left: 1em; padding-right: 1em; text-align: center; vertical-align: top\">111304814</td>\n",
       "        <td style=\"padding-left: 1em; padding-right: 1em; text-align: center; vertical-align: top\">u_111304814</td>\n",
       "        <td style=\"padding-left: 1em; padding-right: 1em; text-align: center; vertical-align: top\">[\\xe5\\x90\\xb4\\xe4\\xba\\xac<br>\\xe6\\x8e\\xa5\\xe5\\x8f\\ ...</td>\n",
       "    </tr>\n",
       "    <tr>\n",
       "        <td style=\"padding-left: 1em; padding-right: 1em; text-align: center; vertical-align: top\">100</td>\n",
       "        <td style=\"padding-left: 1em; padding-right: 1em; text-align: center; vertical-align: top\">/post-<br>funinfo-6878952-1.shtml ...</td>\n",
       "        <td style=\"padding-left: 1em; padding-right: 1em; text-align: center; vertical-align: top\">2016-03-28 15:59:36</td>\n",
       "        <td style=\"padding-left: 1em; padding-right: 1em; text-align: center; vertical-align: top\">110217727</td>\n",
       "        <td style=\"padding-left: 1em; padding-right: 1em; text-align: center; vertical-align: top\">星火娱乐</td>\n",
       "        <td style=\"padding-left: 1em; padding-right: 1em; text-align: center; vertical-align: top\">[3\\xe6\\x9c\\x8826\\xe6\\x97\\<br>xa5\\xe6\\x99\\x9a\\xef\\x ...</td>\n",
       "    </tr>\n",
       "    <tr>\n",
       "        <td style=\"padding-left: 1em; padding-right: 1em; text-align: center; vertical-align: top\">50</td>\n",
       "        <td style=\"padding-left: 1em; padding-right: 1em; text-align: center; vertical-align: top\">/post-<br>funinfo-6669724-1.shtml ...</td>\n",
       "        <td style=\"padding-left: 1em; padding-right: 1em; text-align: center; vertical-align: top\">2015-10-01 19:34:24</td>\n",
       "        <td style=\"padding-left: 1em; padding-right: 1em; text-align: center; vertical-align: top\">93149439</td>\n",
       "        <td style=\"padding-left: 1em; padding-right: 1em; text-align: center; vertical-align: top\">新徐包菜</td>\n",
       "        <td style=\"padding-left: 1em; padding-right: 1em; text-align: center; vertical-align: top\">[9\\xe6\\x9c\\x8829\\xe6\\x97\\<br>xa5\\xef\\xbc\\x8c\\xe5\\x ...</td>\n",
       "    </tr>\n",
       "    <tr>\n",
       "        <td style=\"padding-left: 1em; padding-right: 1em; text-align: center; vertical-align: top\">150</td>\n",
       "        <td style=\"padding-left: 1em; padding-right: 1em; text-align: center; vertical-align: top\">/post-<br>funinfo-6832655-1.shtml ...</td>\n",
       "        <td style=\"padding-left: 1em; padding-right: 1em; text-align: center; vertical-align: top\">2016-02-13 00:55:52</td>\n",
       "        <td style=\"padding-left: 1em; padding-right: 1em; text-align: center; vertical-align: top\">109049144</td>\n",
       "        <td style=\"padding-left: 1em; padding-right: 1em; text-align: center; vertical-align: top\">u_109049144</td>\n",
       "        <td style=\"padding-left: 1em; padding-right: 1em; text-align: center; vertical-align: top\">[\\xe5\\x94\\xaf\\xe4\\xb8\\x80<br>\\xe8\\xb0\\x88\\xe7\\x9a\\ ...</td>\n",
       "    </tr>\n",
       "    <tr>\n",
       "        <td style=\"padding-left: 1em; padding-right: 1em; text-align: center; vertical-align: top\">250</td>\n",
       "        <td style=\"padding-left: 1em; padding-right: 1em; text-align: center; vertical-align: top\">/post-<br>funinfo-6723073-1.shtml ...</td>\n",
       "        <td style=\"padding-left: 1em; padding-right: 1em; text-align: center; vertical-align: top\">2015-10-29 21:56:49</td>\n",
       "        <td style=\"padding-left: 1em; padding-right: 1em; text-align: center; vertical-align: top\">106563960</td>\n",
       "        <td style=\"padding-left: 1em; padding-right: 1em; text-align: center; vertical-align: top\">u_106563960</td>\n",
       "        <td style=\"padding-left: 1em; padding-right: 1em; text-align: center; vertical-align: top\">[\\xe4\\xbb\\x96\\xe7\\xab\\x9f<br>\\xe7\\x84\\xb6\\xe8\\xaf\\ ...</td>\n",
       "    </tr>\n",
       "    <tr>\n",
       "        <td style=\"padding-left: 1em; padding-right: 1em; text-align: center; vertical-align: top\">950</td>\n",
       "        <td style=\"padding-left: 1em; padding-right: 1em; text-align: center; vertical-align: top\">/post-<br>funinfo-6963861-1.shtml ...</td>\n",
       "        <td style=\"padding-left: 1em; padding-right: 1em; text-align: center; vertical-align: top\">2016-06-16 17:09:34</td>\n",
       "        <td style=\"padding-left: 1em; padding-right: 1em; text-align: center; vertical-align: top\">110874356</td>\n",
       "        <td style=\"padding-left: 1em; padding-right: 1em; text-align: center; vertical-align: top\">sholovenino</td>\n",
       "        <td style=\"padding-left: 1em; padding-right: 1em; text-align: center; vertical-align: top\">[\\xe6\\x98\\xa8\\xe5\\xa4\\xa9<br>\\xe7\\x9a\\x84\\xe4\\xba\\ ...</td>\n",
       "    </tr>\n",
       "    <tr>\n",
       "        <td style=\"padding-left: 1em; padding-right: 1em; text-align: center; vertical-align: top\">50</td>\n",
       "        <td style=\"padding-left: 1em; padding-right: 1em; text-align: center; vertical-align: top\">/post-<br>funinfo-6913711-1.shtml ...</td>\n",
       "        <td style=\"padding-left: 1em; padding-right: 1em; text-align: center; vertical-align: top\">2016-04-30 04:54:45</td>\n",
       "        <td style=\"padding-left: 1em; padding-right: 1em; text-align: center; vertical-align: top\">111566482</td>\n",
       "        <td style=\"padding-left: 1em; padding-right: 1em; text-align: center; vertical-align: top\">YCZ2004</td>\n",
       "        <td style=\"padding-left: 1em; padding-right: 1em; text-align: center; vertical-align: top\">[\\xe5\\x90\\xac\\xe8\\xaf\\xb4<br>SM\\xe8\\xa6\\x81\\xe9\\x9 ...</td>\n",
       "    </tr>\n",
       "    <tr>\n",
       "        <td style=\"padding-left: 1em; padding-right: 1em; text-align: center; vertical-align: top\">150</td>\n",
       "        <td style=\"padding-left: 1em; padding-right: 1em; text-align: center; vertical-align: top\">/post-<br>funinfo-6920159-1.shtml ...</td>\n",
       "        <td style=\"padding-left: 1em; padding-right: 1em; text-align: center; vertical-align: top\">2016-05-06 17:38:37</td>\n",
       "        <td style=\"padding-left: 1em; padding-right: 1em; text-align: center; vertical-align: top\">97848832</td>\n",
       "        <td style=\"padding-left: 1em; padding-right: 1em; text-align: center; vertical-align: top\">u_97848832</td>\n",
       "        <td style=\"padding-left: 1em; padding-right: 1em; text-align: center; vertical-align: top\">[\\xe8\\x84\\x91\\xe8\\xa1\\xa5<br>\\xe5\\xae\\x89\\xe8\\xbf\\ ...</td>\n",
       "    </tr>\n",
       "</table>\n",
       "[10 rows x 6 columns]<br/>\n",
       "</div>"
      ],
      "text/plain": [
       "Columns:\n",
       "\tnumber\tint\n",
       "\tlink\tstr\n",
       "\ttime\tstr\n",
       "\tauthor_id\tint\n",
       "\tauthor\tstr\n",
       "\treply\tlist\n",
       "\n",
       "Rows: 10\n",
       "\n",
       "Data:\n",
       "+--------+-------------------------------+---------------------+-----------+\n",
       "| number |              link             |         time        | author_id |\n",
       "+--------+-------------------------------+---------------------+-----------+\n",
       "|  1050  | /post-funinfo-6932986-1.shtml | 2016-05-18 10:32:27 | 112460252 |\n",
       "|  1960  | /post-funinfo-6649250-1.shtml | 2015-09-21 23:14:41 | 103694969 |\n",
       "|  1950  | /post-funinfo-6929580-1.shtml | 2016-05-15 09:25:20 | 111304814 |\n",
       "|  100   | /post-funinfo-6878952-1.shtml | 2016-03-28 15:59:36 | 110217727 |\n",
       "|   50   | /post-funinfo-6669724-1.shtml | 2015-10-01 19:34:24 |  93149439 |\n",
       "|  150   | /post-funinfo-6832655-1.shtml | 2016-02-13 00:55:52 | 109049144 |\n",
       "|  250   | /post-funinfo-6723073-1.shtml | 2015-10-29 21:56:49 | 106563960 |\n",
       "|  950   | /post-funinfo-6963861-1.shtml | 2016-06-16 17:09:34 | 110874356 |\n",
       "|   50   | /post-funinfo-6913711-1.shtml | 2016-04-30 04:54:45 | 111566482 |\n",
       "|  150   | /post-funinfo-6920159-1.shtml | 2016-05-06 17:38:37 |  97848832 |\n",
       "+--------+-------------------------------+---------------------+-----------+\n",
       "+------------------+-------------------------------+\n",
       "|      author      |             reply             |\n",
       "+------------------+-------------------------------+\n",
       "| 淼焱森晶鑫磊犇众 | [\\xe5\\xbc\\xa0\\xe8\\x89\\xba\\... |\n",
       "|   想名字好烦人   | [\\xe6\\x88\\x91\\xe7\\x9c\\x8b\\... |\n",
       "|   u_111304814    | [\\xe5\\x90\\xb4\\xe4\\xba\\xac\\... |\n",
       "|     星火娱乐     | [3\\xe6\\x9c\\x8826\\xe6\\x97\\x... |\n",
       "|     新徐包菜     | [9\\xe6\\x9c\\x8829\\xe6\\x97\\x... |\n",
       "|   u_109049144    | [\\xe5\\x94\\xaf\\xe4\\xb8\\x80\\... |\n",
       "|   u_106563960    | [\\xe4\\xbb\\x96\\xe7\\xab\\x9f\\... |\n",
       "|   sholovenino    | [\\xe6\\x98\\xa8\\xe5\\xa4\\xa9\\... |\n",
       "|     YCZ2004      | [\\xe5\\x90\\xac\\xe8\\xaf\\xb4S... |\n",
       "|    u_97848832    | [\\xe8\\x84\\x91\\xe8\\xa1\\xa5\\... |\n",
       "+------------------+-------------------------------+\n",
       "[10 rows x 6 columns]"
      ]
     },
     "execution_count": 18,
     "metadata": {},
     "output_type": "execute_result"
    }
   ],
   "source": [
    "data.head()"
   ]
  },
  {
   "cell_type": "code",
   "execution_count": 19,
   "metadata": {
    "collapsed": false
   },
   "outputs": [
    {
     "data": {
      "text/plain": [
       "graphlab.data_structures.sframe.SFrame"
      ]
     },
     "execution_count": 19,
     "metadata": {},
     "output_type": "execute_result"
    }
   ],
   "source": [
    "type(data)"
   ]
  },
  {
   "cell_type": "code",
   "execution_count": 20,
   "metadata": {
    "collapsed": true
   },
   "outputs": [],
   "source": [
    "(train_set, test_set) = data.random_split(0.95, seed=1)"
   ]
  },
  {
   "cell_type": "code",
   "execution_count": 21,
   "metadata": {
    "collapsed": false
   },
   "outputs": [
    {
     "data": {
      "text/html": [
       "<pre>Recsys training: model = item_similarity</pre>"
      ],
      "text/plain": [
       "Recsys training: model = item_similarity"
      ]
     },
     "metadata": {},
     "output_type": "display_data"
    },
    {
     "data": {
      "text/html": [
       "<pre>Warning: Ignoring columns time, author_id, reply;</pre>"
      ],
      "text/plain": [
       "Warning: Ignoring columns time, author_id, reply;"
      ]
     },
     "metadata": {},
     "output_type": "display_data"
    },
    {
     "data": {
      "text/html": [
       "<pre>    To use these columns in scoring predictions, use a model that allows the use of additional features.</pre>"
      ],
      "text/plain": [
       "    To use these columns in scoring predictions, use a model that allows the use of additional features."
      ]
     },
     "metadata": {},
     "output_type": "display_data"
    },
    {
     "data": {
      "text/html": [
       "<pre>Preparing data set.</pre>"
      ],
      "text/plain": [
       "Preparing data set."
      ]
     },
     "metadata": {},
     "output_type": "display_data"
    },
    {
     "data": {
      "text/html": [
       "<pre>    Data has 49 observations with 49 users and 49 items.</pre>"
      ],
      "text/plain": [
       "    Data has 49 observations with 49 users and 49 items."
      ]
     },
     "metadata": {},
     "output_type": "display_data"
    },
    {
     "data": {
      "text/html": [
       "<pre>    Data prepared in: 0.009219s</pre>"
      ],
      "text/plain": [
       "    Data prepared in: 0.009219s"
      ]
     },
     "metadata": {},
     "output_type": "display_data"
    },
    {
     "data": {
      "text/html": [
       "<pre>Computing item similarity statistics:</pre>"
      ],
      "text/plain": [
       "Computing item similarity statistics:"
      ]
     },
     "metadata": {},
     "output_type": "display_data"
    },
    {
     "data": {
      "text/html": [
       "<pre>Computing most similar items for 49 items:</pre>"
      ],
      "text/plain": [
       "Computing most similar items for 49 items:"
      ]
     },
     "metadata": {},
     "output_type": "display_data"
    },
    {
     "data": {
      "text/html": [
       "<pre>Finished training in 1.00649s</pre>"
      ],
      "text/plain": [
       "Finished training in 1.00649s"
      ]
     },
     "metadata": {},
     "output_type": "display_data"
    },
    {
     "data": {
      "text/html": [
       "<pre>Finished prediction in 0.00284s</pre>"
      ],
      "text/plain": [
       "Finished prediction in 0.00284s"
      ]
     },
     "metadata": {},
     "output_type": "display_data"
    }
   ],
   "source": [
    "m = graphlab.item_similarity_recommender.create(train_set, 'author', 'link', 'number',similarity_type='pearson')"
   ]
  },
  {
   "cell_type": "code",
   "execution_count": 22,
   "metadata": {
    "collapsed": false
   },
   "outputs": [
    {
     "data": {
      "text/plain": [
       "Class                           : ItemSimilarityRecommender\n",
       "\n",
       "Schema\n",
       "------\n",
       "User ID                         : author\n",
       "Item ID                         : link\n",
       "Target                          : number\n",
       "Additional observation features : 0\n",
       "Number of user side features    : 0\n",
       "Number of item side features    : 0\n",
       "\n",
       "Statistics\n",
       "----------\n",
       "Number of observations          : 49\n",
       "Number of users                 : 49\n",
       "Number of items                 : 49\n",
       "\n",
       "Training summary\n",
       "----------------\n",
       "Training time                   : 1.0069\n",
       "\n",
       "Model Parameters\n",
       "----------------\n",
       "Model class                     : ItemSimilarityRecommender\n",
       "only_top_k                      : 100\n",
       "threshold                       : 0.001\n",
       "similarity_type                 : pearson\n",
       "training_method                 : auto"
      ]
     },
     "execution_count": 22,
     "metadata": {},
     "output_type": "execute_result"
    }
   ],
   "source": [
    "m #建立好基于物的相似性的推荐模型"
   ]
  },
  {
   "cell_type": "code",
   "execution_count": 24,
   "metadata": {
    "collapsed": false
   },
   "outputs": [
    {
     "data": {
      "text/html": [
       "<div style=\"max-height:1000px;max-width:1500px;overflow:auto;\"><table frame=\"box\" rules=\"cols\">\n",
       "    <tr>\n",
       "        <th style=\"padding-left: 1em; padding-right: 1em; text-align: center\">author</th>\n",
       "        <th style=\"padding-left: 1em; padding-right: 1em; text-align: center\">link</th>\n",
       "        <th style=\"padding-left: 1em; padding-right: 1em; text-align: center\">score</th>\n",
       "        <th style=\"padding-left: 1em; padding-right: 1em; text-align: center\">rank</th>\n",
       "    </tr>\n",
       "    <tr>\n",
       "        <td style=\"padding-left: 1em; padding-right: 1em; text-align: center; vertical-align: top\">淼焱森晶鑫磊犇众</td>\n",
       "        <td style=\"padding-left: 1em; padding-right: 1em; text-align: center; vertical-align: top\">/post-<br>funinfo-6664512-1.shtml ...</td>\n",
       "        <td style=\"padding-left: 1em; padding-right: 1em; text-align: center; vertical-align: top\">3455783.0</td>\n",
       "        <td style=\"padding-left: 1em; padding-right: 1em; text-align: center; vertical-align: top\">1</td>\n",
       "    </tr>\n",
       "    <tr>\n",
       "        <td style=\"padding-left: 1em; padding-right: 1em; text-align: center; vertical-align: top\">淼焱森晶鑫磊犇众</td>\n",
       "        <td style=\"padding-left: 1em; padding-right: 1em; text-align: center; vertical-align: top\">/post-<br>funinfo-6676195-1.shtml ...</td>\n",
       "        <td style=\"padding-left: 1em; padding-right: 1em; text-align: center; vertical-align: top\">8850.0</td>\n",
       "        <td style=\"padding-left: 1em; padding-right: 1em; text-align: center; vertical-align: top\">2</td>\n",
       "    </tr>\n",
       "    <tr>\n",
       "        <td style=\"padding-left: 1em; padding-right: 1em; text-align: center; vertical-align: top\">淼焱森晶鑫磊犇众</td>\n",
       "        <td style=\"padding-left: 1em; padding-right: 1em; text-align: center; vertical-align: top\">/post-<br>funinfo-6675767-1.shtml ...</td>\n",
       "        <td style=\"padding-left: 1em; padding-right: 1em; text-align: center; vertical-align: top\">2100.0</td>\n",
       "        <td style=\"padding-left: 1em; padding-right: 1em; text-align: center; vertical-align: top\">3</td>\n",
       "    </tr>\n",
       "    <tr>\n",
       "        <td style=\"padding-left: 1em; padding-right: 1em; text-align: center; vertical-align: top\">淼焱森晶鑫磊犇众</td>\n",
       "        <td style=\"padding-left: 1em; padding-right: 1em; text-align: center; vertical-align: top\">/post-<br>funinfo-6649250-1.shtml ...</td>\n",
       "        <td style=\"padding-left: 1em; padding-right: 1em; text-align: center; vertical-align: top\">1960.0</td>\n",
       "        <td style=\"padding-left: 1em; padding-right: 1em; text-align: center; vertical-align: top\">4</td>\n",
       "    </tr>\n",
       "    <tr>\n",
       "        <td style=\"padding-left: 1em; padding-right: 1em; text-align: center; vertical-align: top\">淼焱森晶鑫磊犇众</td>\n",
       "        <td style=\"padding-left: 1em; padding-right: 1em; text-align: center; vertical-align: top\">/post-<br>funinfo-6929580-1.shtml ...</td>\n",
       "        <td style=\"padding-left: 1em; padding-right: 1em; text-align: center; vertical-align: top\">1950.0</td>\n",
       "        <td style=\"padding-left: 1em; padding-right: 1em; text-align: center; vertical-align: top\">5</td>\n",
       "    </tr>\n",
       "    <tr>\n",
       "        <td style=\"padding-left: 1em; padding-right: 1em; text-align: center; vertical-align: top\">淼焱森晶鑫磊犇众</td>\n",
       "        <td style=\"padding-left: 1em; padding-right: 1em; text-align: center; vertical-align: top\">/post-<br>funinfo-6820521-1.shtml ...</td>\n",
       "        <td style=\"padding-left: 1em; padding-right: 1em; text-align: center; vertical-align: top\">1550.0</td>\n",
       "        <td style=\"padding-left: 1em; padding-right: 1em; text-align: center; vertical-align: top\">6</td>\n",
       "    </tr>\n",
       "    <tr>\n",
       "        <td style=\"padding-left: 1em; padding-right: 1em; text-align: center; vertical-align: top\">淼焱森晶鑫磊犇众</td>\n",
       "        <td style=\"padding-left: 1em; padding-right: 1em; text-align: center; vertical-align: top\">/post-<br>funinfo-6798331-1.shtml ...</td>\n",
       "        <td style=\"padding-left: 1em; padding-right: 1em; text-align: center; vertical-align: top\">1350.0</td>\n",
       "        <td style=\"padding-left: 1em; padding-right: 1em; text-align: center; vertical-align: top\">7</td>\n",
       "    </tr>\n",
       "    <tr>\n",
       "        <td style=\"padding-left: 1em; padding-right: 1em; text-align: center; vertical-align: top\">淼焱森晶鑫磊犇众</td>\n",
       "        <td style=\"padding-left: 1em; padding-right: 1em; text-align: center; vertical-align: top\">/post-<br>funinfo-6937942-1.shtml ...</td>\n",
       "        <td style=\"padding-left: 1em; padding-right: 1em; text-align: center; vertical-align: top\">1300.0</td>\n",
       "        <td style=\"padding-left: 1em; padding-right: 1em; text-align: center; vertical-align: top\">8</td>\n",
       "    </tr>\n",
       "    <tr>\n",
       "        <td style=\"padding-left: 1em; padding-right: 1em; text-align: center; vertical-align: top\">淼焱森晶鑫磊犇众</td>\n",
       "        <td style=\"padding-left: 1em; padding-right: 1em; text-align: center; vertical-align: top\">/post-<br>funinfo-6778993-1.shtml ...</td>\n",
       "        <td style=\"padding-left: 1em; padding-right: 1em; text-align: center; vertical-align: top\">1200.0</td>\n",
       "        <td style=\"padding-left: 1em; padding-right: 1em; text-align: center; vertical-align: top\">9</td>\n",
       "    </tr>\n",
       "    <tr>\n",
       "        <td style=\"padding-left: 1em; padding-right: 1em; text-align: center; vertical-align: top\">淼焱森晶鑫磊犇众</td>\n",
       "        <td style=\"padding-left: 1em; padding-right: 1em; text-align: center; vertical-align: top\">/post-<br>funinfo-6949098-1.shtml ...</td>\n",
       "        <td style=\"padding-left: 1em; padding-right: 1em; text-align: center; vertical-align: top\">1150.0</td>\n",
       "        <td style=\"padding-left: 1em; padding-right: 1em; text-align: center; vertical-align: top\">10</td>\n",
       "    </tr>\n",
       "</table>\n",
       "[20 rows x 4 columns]<br/>Note: Only the head of the SFrame is printed.<br/>You can use print_rows(num_rows=m, num_columns=n) to print more rows and columns.\n",
       "</div>"
      ],
      "text/plain": [
       "Columns:\n",
       "\tauthor\tstr\n",
       "\tlink\tstr\n",
       "\tscore\tfloat\n",
       "\trank\tint\n",
       "\n",
       "Rows: 20\n",
       "\n",
       "Data:\n",
       "+------------------+-------------------------------+-----------+------+\n",
       "|      author      |              link             |   score   | rank |\n",
       "+------------------+-------------------------------+-----------+------+\n",
       "| 淼焱森晶鑫磊犇众 | /post-funinfo-6664512-1.shtml | 3455783.0 |  1   |\n",
       "| 淼焱森晶鑫磊犇众 | /post-funinfo-6676195-1.shtml |   8850.0  |  2   |\n",
       "| 淼焱森晶鑫磊犇众 | /post-funinfo-6675767-1.shtml |   2100.0  |  3   |\n",
       "| 淼焱森晶鑫磊犇众 | /post-funinfo-6649250-1.shtml |   1960.0  |  4   |\n",
       "| 淼焱森晶鑫磊犇众 | /post-funinfo-6929580-1.shtml |   1950.0  |  5   |\n",
       "| 淼焱森晶鑫磊犇众 | /post-funinfo-6820521-1.shtml |   1550.0  |  6   |\n",
       "| 淼焱森晶鑫磊犇众 | /post-funinfo-6798331-1.shtml |   1350.0  |  7   |\n",
       "| 淼焱森晶鑫磊犇众 | /post-funinfo-6937942-1.shtml |   1300.0  |  8   |\n",
       "| 淼焱森晶鑫磊犇众 | /post-funinfo-6778993-1.shtml |   1200.0  |  9   |\n",
       "| 淼焱森晶鑫磊犇众 | /post-funinfo-6949098-1.shtml |   1150.0  |  10  |\n",
       "+------------------+-------------------------------+-----------+------+\n",
       "[20 rows x 4 columns]\n",
       "Note: Only the head of the SFrame is printed.\n",
       "You can use print_rows(num_rows=m, num_columns=n) to print more rows and columns."
      ]
     },
     "execution_count": 24,
     "metadata": {},
     "output_type": "execute_result"
    }
   ],
   "source": [
    "m.recommend(users=['淼焱森晶鑫磊犇众'], k=20)   #给“淼焱森晶鑫磊犇众”用户推荐打分前20的帖子"
   ]
  },
  {
   "cell_type": "markdown",
   "metadata": {
    "collapsed": true
   },
   "source": [
    "### 分析：从给“淼焱森晶鑫磊犇众”用户推荐打分前20的帖子的排名及成绩中，我们可以发现：该推荐算法的准确度可以接受，但是还有较大的提升空间。排名前两位的打分很高，为3455783.0和8850.0分，说明主要的推荐帖子精准度是较高的；但是三名以外的内容成绩一下子大幅跳水，与第一名产生了量级的差别。\n",
    "### 因此，该推荐系统需要提高其末位推荐的精准度。"
   ]
  },
  {
   "cell_type": "code",
   "execution_count": null,
   "metadata": {
    "collapsed": true
   },
   "outputs": [],
   "source": []
  }
 ],
 "metadata": {
  "kernelspec": {
   "display_name": "Python 2",
   "language": "python",
   "name": "python2"
  },
  "language_info": {
   "codemirror_mode": {
    "name": "ipython",
    "version": 2
   },
   "file_extension": ".py",
   "mimetype": "text/x-python",
   "name": "python",
   "nbconvert_exporter": "python",
   "pygments_lexer": "ipython2",
   "version": "2.7.11"
  }
 },
 "nbformat": 4,
 "nbformat_minor": 0
}
