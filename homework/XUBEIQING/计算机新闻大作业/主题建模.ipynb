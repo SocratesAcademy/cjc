{
 "cells": [
  {
   "cell_type": "code",
   "execution_count": 32,
   "metadata": {
    "collapsed": false,
    "scrolled": true
   },
   "outputs": [],
   "source": [
    "import graphlab\n",
    "graphlab.canvas.set_target(\"ipynb\")\n",
    "import pandas as pd"
   ]
  },
  {
   "cell_type": "code",
   "execution_count": 33,
   "metadata": {
    "collapsed": false,
    "scrolled": false
   },
   "outputs": [
    {
     "data": {
      "text/html": [
       "<pre>Finished parsing file /Users/sophiasun/Github/project/test.txt</pre>"
      ],
      "text/plain": [
       "Finished parsing file /Users/sophiasun/Github/project/test.txt"
      ]
     },
     "metadata": {},
     "output_type": "display_data"
    },
    {
     "data": {
      "text/html": [
       "<pre>Parsing completed. Parsed 100 lines in 0.020814 secs.</pre>"
      ],
      "text/plain": [
       "Parsing completed. Parsed 100 lines in 0.020814 secs."
      ]
     },
     "metadata": {},
     "output_type": "display_data"
    },
    {
     "data": {
      "text/html": [
       "<pre>Finished parsing file /Users/sophiasun/Github/project/test.txt</pre>"
      ],
      "text/plain": [
       "Finished parsing file /Users/sophiasun/Github/project/test.txt"
      ]
     },
     "metadata": {},
     "output_type": "display_data"
    },
    {
     "data": {
      "text/html": [
       "<pre>Parsing completed. Parsed 7500 lines in 0.017809 secs.</pre>"
      ],
      "text/plain": [
       "Parsing completed. Parsed 7500 lines in 0.017809 secs."
      ]
     },
     "metadata": {},
     "output_type": "display_data"
    }
   ],
   "source": [
    "sf = graphlab.SFrame.read_csv('/Users/sophiasun/Github/project/test.txt', header=False)"
   ]
  },
  {
   "cell_type": "code",
   "execution_count": 34,
   "metadata": {
    "collapsed": false
   },
   "outputs": [
    {
     "data": {
      "text/plain": [
       "graphlab.data_structures.sframe.SFrame"
      ]
     },
     "execution_count": 34,
     "metadata": {},
     "output_type": "execute_result"
    }
   ],
   "source": [
    "type(sf)"
   ]
  },
  {
   "cell_type": "code",
   "execution_count": 45,
   "metadata": {
    "collapsed": false
   },
   "outputs": [
    {
     "data": {
      "text/plain": [
       "dtype: str\n",
       "Rows: 7500\n",
       "['台湾射飞弹炸死自己人,弯弯表示导弹射偏了还那么厉害?exo me...', '当年因为'吴京' 说不认识\"EXO\",就去爆了'普京'吧的那支神鬼部...', '看看吴亦凡在演唱会一周前跑路后exo队员经历了什么', '神秘达人,痛快还原EXO主打作品', '谁来爆爆exo四子的恩恩怨怨', '阿里音乐独家#EXO#6月9日大势回归(转载)', 'EXO发新专辑了!!大家都喜欢谁呀?', '今年七月EXO与自然乐园合约到期,如果新男团NTC代替,你,还会买...', '被人说是男人的鼻子!exo me??', '同事问我,如果她和我的狗同时掉进水里,我先救谁?我表示exo m...', '吴亦凡微博居然还在关注着EXO-K和EXO_M.还有张艺兴和鹿晗.而...', '吴京分不清EXO是男是女被,EXO粉丝要求普京道歉,哈哈我也是醉...', '求吴世勋鹿晗或EXO成员的单人照', '看到别人回复 EXO ME?就觉得一身鸡皮疙瘩', '雪藏EXO?', 'EXO要集体拍电影了么?', 'EXO上海拼盘演唱会主办方发退票公告', 'EXO上海演唱会仅唱5首歌 粉丝高喊被骗要求退钱(转载)', 'K Friends上海拼盘主办方诈骗exo粉丝', '*分享*【中外明星潮人街拍3.18号】 EXO吴亦凡 侃爷 火火 ~', '赶了个尾巴,突然迷上了EXO的朴灿烈,自从看完大学一年级节目后...', 'EXO的真爱粉看过来,玩偶太逆天了,我已看瞎对不上号,谁能告诉...', '鹿晗吴亦凡黄子韬还有没有可能回归exo?', '说一说从EXO单飞的那三个吧', '不止是好吃!EXO颜值崛起,世勋金钟仁美如画!', '致敬偶像EXO 小样乳酸盐《燃少》李宇春\"添油\"舒淇\"吃醋\"', '《燃少》致敬偶像EXO 星海\"内斗\"李宇春乱入', '朋友说像EXO的一个明星?大家看看', '神话,东方神起,EXO,TF等大势偶像团体及相应成员\"狼性\"排行', '终于见识到exo脑残粉的威力!!卧槽了!!', '现实永远比小说有趣之《甄嬛传》-开扒EXO四子的爱恨情仇', 'EXO为何会这么火?看小鲜肉们如何\"装\"出来的', '扒皮exo', 'EXO大势哟', 'EXO吴亦凡鹿晗金秀贤 韩国花美男理想型女友曝光', '小狮贝恩骗子爆EXO成员灿烈遭粉丝高速路追车', '天哪噜!我和同桌因为exo, tfboys的长相吵起来了', 'EXO2015广州演唱会~~~~有粉丝吗?~~~~~~~~~~~', 'EXO将参加ACC天团巡演上海站演唱会!相关美照曝光!', '关于EXO那些事(转载)', 'exo中饭都是夏雨荷', 'EXO LAY(张艺兴),f(x) Krystal将出演中国电影《飞(转载)', '颜狗实在是忍不住了,抛开对棒子的偏见,你们真的不觉得exo的吴...', '我认为EXO比Tfboys更帅.', '经过几天恶补,终于知道exo是谁了,可惜当我喜欢上他们时,三个...', '百度贴吧粉丝节上演SNH48与EXO粉丝团正面\"PK\"(转载)', '让我们来聊聊极限挑战的张艺兴,EXO的LAY.', '听说许多人把tfboys叫挑粪男孩,exo为什么不叫野狗?', '开贴问一下那栋楼exo八料楼里张艺兴的黑料都是真的吗?看完感...', '吴亦凡鹿晗黄子韬.三小鲜肉回国撞衫 网友:确定不是在EXO的队...', '台湾射飞弹炸死自己人,弯弯表示导弹射偏了还那么厉害?exo me...', '当年因为'吴京' 说不认识\"EXO\",就去爆了'普京'吧的那支神鬼部...', '看看吴亦凡在演唱会一周前跑路后exo队员经历了什么', '神秘达人,痛快还原EXO主打作品', '谁来爆爆exo四子的恩恩怨怨', '阿里音乐独家#EXO#6月9日大势回归(转载)', 'EXO发新专辑了!!大家都喜欢谁呀?', '今年七月EXO与自然乐园合约到期,如果新男团NTC代替,你,还会买...', '被人说是男人的鼻子!exo me??', '同事问我,如果她和我的狗同时掉进水里,我先救谁?我表示exo m...', '吴亦凡微博居然还在关注着EXO-K和EXO_M.还有张艺兴和鹿晗.而...', '吴京分不清EXO是男是女被,EXO粉丝要求普京道歉,哈哈我也是醉...', '求吴世勋鹿晗或EXO成员的单人照', '看到别人回复 EXO ME?就觉得一身鸡皮疙瘩', '雪藏EXO?', 'EXO要集体拍电影了么?', 'EXO上海拼盘演唱会主办方发退票公告', 'EXO上海演唱会仅唱5首歌 粉丝高喊被骗要求退钱(转载)', 'K Friends上海拼盘主办方诈骗exo粉丝', '*分享*【中外明星潮人街拍3.18号】 EXO吴亦凡 侃爷 火火 ~', '赶了个尾巴,突然迷上了EXO的朴灿烈,自从看完大学一年级节目后...', 'EXO的真爱粉看过来,玩偶太逆天了,我已看瞎对不上号,谁能告诉...', '鹿晗吴亦凡黄子韬还有没有可能回归exo?', '说一说从EXO单飞的那三个吧', '不止是好吃!EXO颜值崛起,世勋金钟仁美如画!', '致敬偶像EXO 小样乳酸盐《燃少》李宇春\"添油\"舒淇\"吃醋\"', '《燃少》致敬偶像EXO 星海\"内斗\"李宇春乱入', '朋友说像EXO的一个明星?大家看看', '神话,东方神起,EXO,TF等大势偶像团体及相应成员\"狼性\"排行', '终于见识到exo脑残粉的威力!!卧槽了!!', '现实永远比小说有趣之《甄嬛传》-开扒EXO四子的爱恨情仇', 'EXO为何会这么火?看小鲜肉们如何\"装\"出来的', '扒皮exo', 'EXO大势哟', 'EXO吴亦凡鹿晗金秀贤 韩国花美男理想型女友曝光', '小狮贝恩骗子爆EXO成员灿烈遭粉丝高速路追车', '天哪噜!我和同桌因为exo, tfboys的长相吵起来了', 'EXO2015广州演唱会~~~~有粉丝吗?~~~~~~~~~~~', 'EXO将参加ACC天团巡演上海站演唱会!相关美照曝光!', '关于EXO那些事(转载)', 'exo中饭都是夏雨荷', 'EXO LAY(张艺兴),f(x) Krystal将出演中国电影《飞(转载)', '颜狗实在是忍不住了,抛开对棒子的偏见,你们真的不觉得exo的吴...', '我认为EXO比Tfboys更帅.', '经过几天恶补,终于知道exo是谁了,可惜当我喜欢上他们时,三个...', '百度贴吧粉丝节上演SNH48与EXO粉丝团正面\"PK\"(转载)', '让我们来聊聊极限挑战的张艺兴,EXO的LAY.', '听说许多人把tfboys叫挑粪男孩,exo为什么不叫野狗?', '开贴问一下那栋楼exo八料楼里张艺兴的黑料都是真的吗?看完感...', '吴亦凡鹿晗黄子韬.三小鲜肉回国撞衫 网友:确定不是在EXO的队...', ... ]"
      ]
     },
     "execution_count": 45,
     "metadata": {},
     "output_type": "execute_result"
    }
   ],
   "source": [
    "sf['X1']"
   ]
  },
  {
   "cell_type": "code",
   "execution_count": 46,
   "metadata": {
    "collapsed": false
   },
   "outputs": [],
   "source": [
    "bow = sf['X1']._count_words()"
   ]
  },
  {
   "cell_type": "code",
   "execution_count": 47,
   "metadata": {
    "collapsed": false
   },
   "outputs": [
    {
     "data": {
      "text/plain": [
       "graphlab.data_structures.sarray.SArray"
      ]
     },
     "execution_count": 47,
     "metadata": {},
     "output_type": "execute_result"
    }
   ],
   "source": [
    "type(sf['X1'])"
   ]
  },
  {
   "cell_type": "code",
   "execution_count": 48,
   "metadata": {
    "collapsed": false
   },
   "outputs": [
    {
     "data": {
      "text/plain": [
       "graphlab.data_structures.sarray.SArray"
      ]
     },
     "execution_count": 48,
     "metadata": {},
     "output_type": "execute_result"
    }
   ],
   "source": [
    "type(bow)"
   ]
  },
  {
   "cell_type": "code",
   "execution_count": 49,
   "metadata": {
    "collapsed": false
   },
   "outputs": [
    {
     "data": {
      "text/plain": [
       "dtype: int\n",
       "Rows: 7500\n",
       "[0, 0, 0, 0, 0, 0, 0, 0, 0, 0, 0, 0, 0, 0, 0, 0, 0, 0, 0, 0, 0, 0, 0, 0, 0, 0, 0, 0, 0, 0, 0, 0, 0, 0, 0, 0, 0, 0, 0, 0, 0, 0, 0, 0, 0, 0, 0, 0, 0, 0, 0, 0, 0, 0, 0, 0, 0, 0, 0, 0, 0, 0, 0, 0, 0, 0, 0, 0, 0, 0, 0, 0, 0, 0, 0, 0, 0, 0, 0, 0, 0, 0, 0, 0, 0, 0, 0, 0, 0, 0, 0, 0, 0, 0, 0, 0, 0, 0, 0, 0, ... ]"
      ]
     },
     "execution_count": 49,
     "metadata": {},
     "output_type": "execute_result"
    }
   ],
   "source": [
    "bow.dict_has_any_keys(['limited'])"
   ]
  },
  {
   "cell_type": "code",
   "execution_count": 50,
   "metadata": {
    "collapsed": false
   },
   "outputs": [
    {
     "data": {
      "text/plain": [
       "[1, 1]"
      ]
     },
     "execution_count": 50,
     "metadata": {},
     "output_type": "execute_result"
    }
   ],
   "source": [
    "bow.dict_values()[0][:20]"
   ]
  },
  {
   "cell_type": "code",
   "execution_count": 51,
   "metadata": {
    "collapsed": false
   },
   "outputs": [
    {
     "data": {
      "application/javascript": [
       "$(\"head\").append($(\"<link/>\").attr({\n",
       "  rel:  \"stylesheet\",\n",
       "  type: \"text/css\",\n",
       "  href: \"//cdnjs.cloudflare.com/ajax/libs/font-awesome/4.1.0/css/font-awesome.min.css\"\n",
       "}));\n",
       "$(\"head\").append($(\"<link/>\").attr({\n",
       "  rel:  \"stylesheet\",\n",
       "  type: \"text/css\",\n",
       "  href: \"//dato.com/files/canvas/1.8.5/css/canvas.css\"\n",
       "}));\n",
       "\n",
       "            (function(){\n",
       "\n",
       "                var e = null;\n",
       "                if (typeof element == 'undefined') {\n",
       "                    var scripts = document.getElementsByTagName('script');\n",
       "                    var thisScriptTag = scripts[scripts.length-1];\n",
       "                    var parentDiv = thisScriptTag.parentNode;\n",
       "                    e = document.createElement('div');\n",
       "                    parentDiv.appendChild(e);\n",
       "                } else {\n",
       "                    e = element[0];\n",
       "                }\n",
       "\n",
       "                if (typeof requirejs !== 'undefined') {\n",
       "                    // disable load timeout; ipython_app.js is large and can take a while to load.\n",
       "                    requirejs.config({waitSeconds: 0});\n",
       "                }\n",
       "\n",
       "                require(['//dato.com/files/canvas/1.8.5/js/ipython_app.js'], function(IPythonApp){\n",
       "                    var app = new IPythonApp();\n",
       "                    app.attachView('sframe','Summary', {\"ipython\": true, \"sketch\": {\"X1\": {\"complete\": true, \"numeric\": false, \"num_unique\": 50, \"num_undefined\": 0, \"progress\": 1.0, \"frequent_items\": {\"\\u5f00\\u8d34\\u95ee\\u4e00\\u4e0b\\u90a3\\u680b\\u697cexo\\u516b\\u6599\\u697c\\u91cc\\u5f20\\u827a\\u5174\\u7684\\u9ed1\\u6599\\u90fd\\u662f\\u771f\\u7684\\u5417?\\u770b\\u5b8c\\u611f...\": {\"frequency\": 150, \"value\": \"\\u5f00\\u8d34\\u95ee\\u4e00\\u4e0b\\u90a3\\u680b\\u697cexo\\u516b\\u6599\\u697c\\u91cc\\u5f20\\u827a\\u5174 ...\"}, \"\\u7ecf\\u8fc7\\u51e0\\u5929\\u6076\\u8865,\\u7ec8\\u4e8e\\u77e5\\u9053exo\\u662f\\u8c01\\u4e86,\\u53ef\\u60dc\\u5f53\\u6211\\u559c\\u6b22\\u4e0a\\u4ed6\\u4eec\\u65f6,\\u4e09\\u4e2a...\": {\"frequency\": 150, \"value\": \"\\u7ecf\\u8fc7\\u51e0\\u5929\\u6076\\u8865,\\u7ec8\\u4e8e\\u77e5\\u9053exo\\u662f\\u8c01\\u4e86, ...\"}, \"\\u9e7f\\u6657\\u5434\\u4ea6\\u51e1\\u9ec4\\u5b50\\u97ec\\u8fd8\\u6709\\u6ca1\\u6709\\u53ef\\u80fd\\u56de\\u5f52exo?\": {\"frequency\": 150, \"value\": \"\\u9e7f\\u6657\\u5434\\u4ea6\\u51e1\\u9ec4\\u5b50\\u97ec\\u8fd8\\u6709\\u6ca1\\u6709\\u53ef\\u80fd\\u56de\\u5f52ex ...\"}, \"\\u6252\\u76aeexo\": {\"frequency\": 150, \"value\": \"\\u6252\\u76aeexo\"}, \"\\u5434\\u4ea6\\u51e1\\u9e7f\\u6657\\u9ec4\\u5b50\\u97ec.\\u4e09\\u5c0f\\u9c9c\\u8089\\u56de\\u56fd\\u649e\\u886b \\u7f51\\u53cb:\\u786e\\u5b9a\\u4e0d\\u662f\\u5728EXO\\u7684\\u961f...\": {\"frequency\": 150, \"value\": \"\\u5434\\u4ea6\\u51e1\\u9e7f\\u6657\\u9ec4\\u5b50\\u97ec.\\u4e09\\u5c0f\\u9c9c\\u8089\\u56de\\u56fd\\u649e\\u886b ...\"}, \"\\u795e\\u79d8\\u8fbe\\u4eba,\\u75db\\u5feb\\u8fd8\\u539fEXO\\u4e3b\\u6253\\u4f5c\\u54c1\": {\"frequency\": 150, \"value\": \"\\u795e\\u79d8\\u8fbe\\u4eba,\\u75db\\u5feb\\u8fd8\\u539fEXO\\u4e3b\\u6253\\u4f5c\\u54c1\"}, \"K Friends\\u4e0a\\u6d77\\u62fc\\u76d8\\u4e3b\\u529e\\u65b9\\u8bc8\\u9a97exo\\u7c89\\u4e1d\": {\"frequency\": 150, \"value\": \"K Friends\\u4e0a\\u6d77\\u62fc\\u76d8\\u4e3b\\u529e\\u65b9\\u8bc8\\u9a97 ...\"}, \"EXO\\u53d1\\u65b0\\u4e13\\u8f91\\u4e86!!\\u5927\\u5bb6\\u90fd\\u559c\\u6b22\\u8c01\\u5440?\": {\"frequency\": 150, \"value\": \"EXO\\u53d1\\u65b0\\u4e13\\u8f91\\u4e86!!\\u5927\\u5bb6\\u90fd\\u559c\\u6b22\\u8c01\\u5440?\"}, \"\\u53f0\\u6e7e\\u5c04\\u98de\\u5f39\\u70b8\\u6b7b\\u81ea\\u5df1\\u4eba,\\u5f2f\\u5f2f\\u8868\\u793a\\u5bfc\\u5f39\\u5c04\\u504f\\u4e86\\u8fd8\\u90a3\\u4e48\\u5389\\u5bb3?exo me...\": {\"frequency\": 150, \"value\": \"\\u53f0\\u6e7e\\u5c04\\u98de\\u5f39\\u70b8\\u6b7b\\u81ea\\u5df1\\u4eba,\\u5f2f\\u5f2f\\u8868\\u793a\\u5bfc\\u5f39\\u5c04 ...\"}, \"EXO\\u7684\\u771f\\u7231\\u7c89\\u770b\\u8fc7\\u6765,\\u73a9\\u5076\\u592a\\u9006\\u5929\\u4e86,\\u6211\\u5df2\\u770b\\u778e\\u5bf9\\u4e0d\\u4e0a\\u53f7,\\u8c01\\u80fd\\u544a\\u8bc9...\": {\"frequency\": 150, \"value\": \"EXO\\u7684\\u771f\\u7231\\u7c89\\u770b\\u8fc7\\u6765,\\u73a9\\u5076\\u592a\\u9006\\u5929\\u4e86, ...\"}, \"\\u670b\\u53cb\\u8bf4\\u50cfEXO\\u7684\\u4e00\\u4e2a\\u660e\\u661f?\\u5927\\u5bb6\\u770b\\u770b\": {\"frequency\": 150, \"value\": \"\\u670b\\u53cb\\u8bf4\\u50cfEXO\\u7684\\u4e00\\u4e2a\\u660e\\u661f?\\u5927\\u5bb6\\u770b\\u770b\"}, \"\\u770b\\u5230\\u522b\\u4eba\\u56de\\u590d EXO ME?\\u5c31\\u89c9\\u5f97\\u4e00\\u8eab\\u9e21\\u76ae\\u7599\\u7629\": {\"frequency\": 150, \"value\": \"\\u770b\\u5230\\u522b\\u4eba\\u56de\\u590d EXO ...\"}, \"\\u5434\\u4ea6\\u51e1\\u5fae\\u535a\\u5c45\\u7136\\u8fd8\\u5728\\u5173\\u6ce8\\u7740EXO-K\\u548cEXO_M.\\u8fd8\\u6709\\u5f20\\u827a\\u5174\\u548c\\u9e7f\\u6657.\\u800c...\": {\"frequency\": 150, \"value\": \"\\u5434\\u4ea6\\u51e1\\u5fae\\u535a\\u5c45\\u7136\\u8fd8\\u5728\\u5173\\u6ce8\\u7740EXO-K\\u548c ...\"}, \"EXO\\u5927\\u52bf\\u54df\": {\"frequency\": 150, \"value\": \"EXO\\u5927\\u52bf\\u54df\"}, \"exo\\u4e2d\\u996d\\u90fd\\u662f\\u590f\\u96e8\\u8377\": {\"frequency\": 150, \"value\": \"exo\\u4e2d\\u996d\\u90fd\\u662f\\u590f\\u96e8\\u8377\"}, \"\\u300a\\u71c3\\u5c11\\u300b\\u81f4\\u656c\\u5076\\u50cfEXO \\u661f\\u6d77\\\"\\u5185\\u6597\\\"\\u674e\\u5b87\\u6625\\u4e71\\u5165\": {\"frequency\": 150, \"value\": \"\\u300a\\u71c3\\u5c11\\u300b\\u81f4\\u656c\\u5076\\u50cfEXO ...\"}, \"\\u4eca\\u5e74\\u4e03\\u6708EXO\\u4e0e\\u81ea\\u7136\\u4e50\\u56ed\\u5408\\u7ea6\\u5230\\u671f,\\u5982\\u679c\\u65b0\\u7537\\u56e2NTC\\u4ee3\\u66ff,\\u4f60,\\u8fd8\\u4f1a\\u4e70...\": {\"frequency\": 150, \"value\": \"\\u4eca\\u5e74\\u4e03\\u6708EXO\\u4e0e\\u81ea\\u7136\\u4e50\\u56ed\\u5408\\u7ea6\\u5230\\u671f,\\u5982 ...\"}, \"\\u5f53\\u5e74\\u56e0\\u4e3a'\\u5434\\u4eac' \\u8bf4\\u4e0d\\u8ba4\\u8bc6\\\"EXO\\\",\\u5c31\\u53bb\\u7206\\u4e86'\\u666e\\u4eac'\\u5427\\u7684\\u90a3\\u652f\\u795e\\u9b3c\\u90e8...\": {\"frequency\": 150, \"value\": \"\\u5f53\\u5e74\\u56e0\\u4e3a'\\u5434\\u4eac' \\u8bf4\\u4e0d\\u8ba4\\u8bc6\\\"EXO\\\" ...\"}, \"\\u770b\\u770b\\u5434\\u4ea6\\u51e1\\u5728\\u6f14\\u5531\\u4f1a\\u4e00\\u5468\\u524d\\u8dd1\\u8def\\u540eexo\\u961f\\u5458\\u7ecf\\u5386\\u4e86\\u4ec0\\u4e48\": {\"frequency\": 150, \"value\": \"\\u770b\\u770b\\u5434\\u4ea6\\u51e1\\u5728\\u6f14\\u5531\\u4f1a\\u4e00\\u5468\\u524d\\u8dd1\\u8def\\u540eexo ...\"}, \"EXO\\u5c06\\u53c2\\u52a0ACC\\u5929\\u56e2\\u5de1\\u6f14\\u4e0a\\u6d77\\u7ad9\\u6f14\\u5531\\u4f1a!\\u76f8\\u5173\\u7f8e\\u7167\\u66dd\\u5149!\": {\"frequency\": 150, \"value\": \"EXO\\u5c06\\u53c2\\u52a0ACC\\u5929\\u56e2\\u5de1\\u6f14\\u4e0a\\u6d77\\u7ad9\\u6f14\\u5531 ...\"}, \"EXO\\u8981\\u96c6\\u4f53\\u62cd\\u7535\\u5f71\\u4e86\\u4e48?\": {\"frequency\": 150, \"value\": \"EXO\\u8981\\u96c6\\u4f53\\u62cd\\u7535\\u5f71\\u4e86\\u4e48?\"}, \"\\u6211\\u8ba4\\u4e3aEXO\\u6bd4Tfboys\\u66f4\\u5e05.\": {\"frequency\": 150, \"value\": \"\\u6211\\u8ba4\\u4e3aEXO\\u6bd4Tfboys\\u66f4\\u5e05.\"}, \"\\u6c42\\u5434\\u4e16\\u52cb\\u9e7f\\u6657\\u6216EXO\\u6210\\u5458\\u7684\\u5355\\u4eba\\u7167\": {\"frequency\": 150, \"value\": \"\\u6c42\\u5434\\u4e16\\u52cb\\u9e7f\\u6657\\u6216EXO\\u6210\\u5458\\u7684\\u5355\\u4eba\\u7167\"}, \"\\u96ea\\u85cfEXO?\": {\"frequency\": 150, \"value\": \"\\u96ea\\u85cfEXO?\"}, \"\\u7ec8\\u4e8e\\u89c1\\u8bc6\\u5230exo\\u8111\\u6b8b\\u7c89\\u7684\\u5a01\\u529b!!\\u5367\\u69fd\\u4e86!!\": {\"frequency\": 150, \"value\": \"\\u7ec8\\u4e8e\\u89c1\\u8bc6\\u5230exo\\u8111\\u6b8b\\u7c89\\u7684\\u5a01\\u529b!!\\u5367\\u69fd ...\"}, \"\\u989c\\u72d7\\u5b9e\\u5728\\u662f\\u5fcd\\u4e0d\\u4f4f\\u4e86,\\u629b\\u5f00\\u5bf9\\u68d2\\u5b50\\u7684\\u504f\\u89c1,\\u4f60\\u4eec\\u771f\\u7684\\u4e0d\\u89c9\\u5f97exo\\u7684\\u5434...\": {\"frequency\": 150, \"value\": \"\\u989c\\u72d7\\u5b9e\\u5728\\u662f\\u5fcd\\u4e0d\\u4f4f\\u4e86,\\u629b\\u5f00\\u5bf9\\u68d2\\u5b50\\u7684\\u504f\\u89c1 ...\"}, \"\\u540c\\u4e8b\\u95ee\\u6211,\\u5982\\u679c\\u5979\\u548c\\u6211\\u7684\\u72d7\\u540c\\u65f6\\u6389\\u8fdb\\u6c34\\u91cc,\\u6211\\u5148\\u6551\\u8c01?\\u6211\\u8868\\u793aexo m...\": {\"frequency\": 150, \"value\": \"\\u540c\\u4e8b\\u95ee\\u6211,\\u5982\\u679c\\u5979\\u548c\\u6211\\u7684\\u72d7\\u540c\\u65f6\\u6389\\u8fdb\\u6c34\\u91cc ...\"}, \"\\u767e\\u5ea6\\u8d34\\u5427\\u7c89\\u4e1d\\u8282\\u4e0a\\u6f14SNH48\\u4e0eEXO\\u7c89\\u4e1d\\u56e2\\u6b63\\u9762\\\"PK\\\"(\\u8f6c\\u8f7d)\": {\"frequency\": 150, \"value\": \"\\u767e\\u5ea6\\u8d34\\u5427\\u7c89\\u4e1d\\u8282\\u4e0a\\u6f14SNH48\\u4e0eEXO ...\"}, \"\\u5173\\u4e8eEXO\\u90a3\\u4e9b\\u4e8b(\\u8f6c\\u8f7d)\": {\"frequency\": 150, \"value\": \"\\u5173\\u4e8eEXO\\u90a3\\u4e9b\\u4e8b(\\u8f6c\\u8f7d)\"}, \"\\u8c01\\u6765\\u7206\\u7206exo\\u56db\\u5b50\\u7684\\u6069\\u6069\\u6028\\u6028\": {\"frequency\": 150, \"value\": \"\\u8c01\\u6765\\u7206\\u7206exo\\u56db\\u5b50\\u7684\\u6069\\u6069\\u6028\\u6028\"}, \"\\u8d76\\u4e86\\u4e2a\\u5c3e\\u5df4,\\u7a81\\u7136\\u8ff7\\u4e0a\\u4e86EXO\\u7684\\u6734\\u707f\\u70c8,\\u81ea\\u4ece\\u770b\\u5b8c\\u5927\\u5b66\\u4e00\\u5e74\\u7ea7\\u8282\\u76ee\\u540e...\": {\"frequency\": 150, \"value\": \"\\u8d76\\u4e86\\u4e2a\\u5c3e\\u5df4,\\u7a81\\u7136\\u8ff7\\u4e0a\\u4e86EXO\\u7684\\u6734\\u707f\\u70c8 ...\"}, \"\\u5929\\u54ea\\u565c!\\u6211\\u548c\\u540c\\u684c\\u56e0\\u4e3aexo, tfboys\\u7684\\u957f\\u76f8\\u5435\\u8d77\\u6765\\u4e86\": {\"frequency\": 150, \"value\": \"\\u5929\\u54ea\\u565c!\\u6211\\u548c\\u540c\\u684c\\u56e0\\u4e3aexo, ...\"}, \"EXO\\u4e0a\\u6d77\\u6f14\\u5531\\u4f1a\\u4ec5\\u55315\\u9996\\u6b4c \\u7c89\\u4e1d\\u9ad8\\u558a\\u88ab\\u9a97\\u8981\\u6c42\\u9000\\u94b1(\\u8f6c\\u8f7d)\": {\"frequency\": 150, \"value\": \"EXO\\u4e0a\\u6d77\\u6f14\\u5531\\u4f1a\\u4ec5\\u55315\\u9996\\u6b4c ...\"}, \"\\u81f4\\u656c\\u5076\\u50cfEXO \\u5c0f\\u6837\\u4e73\\u9178\\u76d0\\u300a\\u71c3\\u5c11\\u300b\\u674e\\u5b87\\u6625\\\"\\u6dfb\\u6cb9\\\"\\u8212\\u6dc7\\\"\\u5403\\u918b\\\"\": {\"frequency\": 150, \"value\": \"\\u81f4\\u656c\\u5076\\u50cfEXO \\u5c0f\\u6837\\u4e73\\u9178\\u76d0\\u300a\\u71c3\\u5c11\\u300b\\u674e ...\"}, \"\\u88ab\\u4eba\\u8bf4\\u662f\\u7537\\u4eba\\u7684\\u9f3b\\u5b50!exo me??\": {\"frequency\": 150, \"value\": \"\\u88ab\\u4eba\\u8bf4\\u662f\\u7537\\u4eba\\u7684\\u9f3b\\u5b50!exo me??\"}, \"\\u963f\\u91cc\\u97f3\\u4e50\\u72ec\\u5bb6#EXO#6\\u67089\\u65e5\\u5927\\u52bf\\u56de\\u5f52(\\u8f6c\\u8f7d)\": {\"frequency\": 150, \"value\": \"\\u963f\\u91cc\\u97f3\\u4e50\\u72ec\\u5bb6#EXO#6\\u67089\\u65e5\\u5927\\u52bf\\u56de ...\"}, \"EXO LAY(\\u5f20\\u827a\\u5174),f(x) Krystal\\u5c06\\u51fa\\u6f14\\u4e2d\\u56fd\\u7535\\u5f71\\u300a\\u98de(\\u8f6c\\u8f7d)\": {\"frequency\": 150, \"value\": \"EXO LAY(\\u5f20\\u827a\\u5174),f(x)  ...\"}, \"*\\u5206\\u4eab*\\u3010\\u4e2d\\u5916\\u660e\\u661f\\u6f6e\\u4eba\\u8857\\u62cd3.18\\u53f7\\u3011 EXO\\u5434\\u4ea6\\u51e1 \\u4f83\\u7237 \\u706b\\u706b ~\": {\"frequency\": 150, \"value\": \"*\\u5206\\u4eab*\\u3010\\u4e2d\\u5916\\u660e\\u661f\\u6f6e\\u4eba\\u8857\\u62cd3.18\\u53f7 ...\"}, \"EXO\\u5434\\u4ea6\\u51e1\\u9e7f\\u6657\\u91d1\\u79c0\\u8d24 \\u97e9\\u56fd\\u82b1\\u7f8e\\u7537\\u7406\\u60f3\\u578b\\u5973\\u53cb\\u66dd\\u5149\": {\"frequency\": 150, \"value\": \"EXO\\u5434\\u4ea6\\u51e1\\u9e7f\\u6657\\u91d1\\u79c0\\u8d24 ...\"}, \"\\u5434\\u4eac\\u5206\\u4e0d\\u6e05EXO\\u662f\\u7537\\u662f\\u5973\\u88ab,EXO\\u7c89\\u4e1d\\u8981\\u6c42\\u666e\\u4eac\\u9053\\u6b49,\\u54c8\\u54c8\\u6211\\u4e5f\\u662f\\u9189...\": {\"frequency\": 150, \"value\": \"\\u5434\\u4eac\\u5206\\u4e0d\\u6e05EXO\\u662f\\u7537\\u662f\\u5973\\u88ab,EXO\\u7c89 ...\"}, \"\\u542c\\u8bf4\\u8bb8\\u591a\\u4eba\\u628atfboys\\u53eb\\u6311\\u7caa\\u7537\\u5b69,exo\\u4e3a\\u4ec0\\u4e48\\u4e0d\\u53eb\\u91ce\\u72d7?\": {\"frequency\": 150, \"value\": \"\\u542c\\u8bf4\\u8bb8\\u591a\\u4eba\\u628atfboys\\u53eb\\u6311\\u7caa\\u7537\\u5b69, ...\"}, \"\\u5c0f\\u72ee\\u8d1d\\u6069\\u9a97\\u5b50\\u7206EXO\\u6210\\u5458\\u707f\\u70c8\\u906d\\u7c89\\u4e1d\\u9ad8\\u901f\\u8def\\u8ffd\\u8f66\": {\"frequency\": 150, \"value\": \"\\u5c0f\\u72ee\\u8d1d\\u6069\\u9a97\\u5b50\\u7206EXO\\u6210\\u5458\\u707f\\u70c8\\u906d\\u7c89\\u4e1d\\u9ad8 ...\"}, \"\\u795e\\u8bdd,\\u4e1c\\u65b9\\u795e\\u8d77,EXO,TF\\u7b49\\u5927\\u52bf\\u5076\\u50cf\\u56e2\\u4f53\\u53ca\\u76f8\\u5e94\\u6210\\u5458\\\"\\u72fc\\u6027\\\"\\u6392\\u884c\": {\"frequency\": 150, \"value\": \"\\u795e\\u8bdd,\\u4e1c\\u65b9\\u795e\\u8d77,EXO,TF\\u7b49\\u5927\\u52bf\\u5076 ...\"}, \"EXO\\u4e3a\\u4f55\\u4f1a\\u8fd9\\u4e48\\u706b?\\u770b\\u5c0f\\u9c9c\\u8089\\u4eec\\u5982\\u4f55\\\"\\u88c5\\\"\\u51fa\\u6765\\u7684\": {\"frequency\": 150, \"value\": \"EXO\\u4e3a\\u4f55\\u4f1a\\u8fd9\\u4e48\\u706b?\\u770b\\u5c0f\\u9c9c\\u8089\\u4eec\\u5982\\u4f55\\\" ...\"}, \"\\u4e0d\\u6b62\\u662f\\u597d\\u5403!EXO\\u989c\\u503c\\u5d1b\\u8d77,\\u4e16\\u52cb\\u91d1\\u949f\\u4ec1\\u7f8e\\u5982\\u753b!\": {\"frequency\": 150, \"value\": \"\\u4e0d\\u6b62\\u662f\\u597d\\u5403!EXO\\u989c\\u503c\\u5d1b\\u8d77,\\u4e16\\u52cb\\u91d1\\u949f ...\"}, \"\\u8bf4\\u4e00\\u8bf4\\u4eceEXO\\u5355\\u98de\\u7684\\u90a3\\u4e09\\u4e2a\\u5427\": {\"frequency\": 150, \"value\": \"\\u8bf4\\u4e00\\u8bf4\\u4eceEXO\\u5355\\u98de\\u7684\\u90a3\\u4e09\\u4e2a\\u5427\"}, \"\\u73b0\\u5b9e\\u6c38\\u8fdc\\u6bd4\\u5c0f\\u8bf4\\u6709\\u8da3\\u4e4b\\u300a\\u7504\\u5b1b\\u4f20\\u300b-\\u5f00\\u6252EXO\\u56db\\u5b50\\u7684\\u7231\\u6068\\u60c5\\u4ec7\": {\"frequency\": 150, \"value\": \"\\u73b0\\u5b9e\\u6c38\\u8fdc\\u6bd4\\u5c0f\\u8bf4\\u6709\\u8da3\\u4e4b\\u300a\\u7504\\u5b1b\\u4f20\\u300b-\\u5f00\\u6252 ...\"}, \"EXO\\u4e0a\\u6d77\\u62fc\\u76d8\\u6f14\\u5531\\u4f1a\\u4e3b\\u529e\\u65b9\\u53d1\\u9000\\u7968\\u516c\\u544a\": {\"frequency\": 150, \"value\": \"EXO\\u4e0a\\u6d77\\u62fc\\u76d8\\u6f14\\u5531\\u4f1a\\u4e3b\\u529e\\u65b9\\u53d1\\u9000\\u7968\\u516c\\u544a\"}, \"\\u8ba9\\u6211\\u4eec\\u6765\\u804a\\u804a\\u6781\\u9650\\u6311\\u6218\\u7684\\u5f20\\u827a\\u5174,EXO\\u7684LAY.\": {\"frequency\": 150, \"value\": \"\\u8ba9\\u6211\\u4eec\\u6765\\u804a\\u804a\\u6781\\u9650\\u6311\\u6218\\u7684\\u5f20\\u827a\\u5174,EXO ...\"}, \"EXO2015\\u5e7f\\u5dde\\u6f14\\u5531\\u4f1a~~~~\\u6709\\u7c89\\u4e1d\\u5417?~~~~~~~~~~~\": {\"frequency\": 150, \"value\": \"EXO2015\\u5e7f\\u5dde\\u6f14\\u5531\\u4f1a~~~~\\u6709\\u7c89 ...\"}}, \"size\": 7500}, \"bow\": {\"keys\": {\"complete\": true, \"numeric\": false, \"num_unique\": 68, \"num_undefined\": 0, \"progress\": 1.0, \"frequent_items\": {\"\\u5f00\\u8d34\\u95ee\\u4e00\\u4e0b\\u90a3\\u680b\\u697cexo\\u516b\\u6599\\u697c\\u91cc\\u5f20\\u827a\\u5174\\u7684\\u9ed1\\u6599\\u90fd\\u662f\\u771f\\u7684\\u5417?\\u770b\\u5b8c\\u611f...\": {\"frequency\": 150, \"value\": \"\\u5f00\\u8d34\\u95ee\\u4e00\\u4e0b\\u90a3\\u680b\\u697cexo\\u516b\\u6599\\u697c\\u91cc\\u5f20\\u827a\\u5174 ...\"}, \"\\u7ecf\\u8fc7\\u51e0\\u5929\\u6076\\u8865,\\u7ec8\\u4e8e\\u77e5\\u9053exo\\u662f\\u8c01\\u4e86,\\u53ef\\u60dc\\u5f53\\u6211\\u559c\\u6b22\\u4e0a\\u4ed6\\u4eec\\u65f6,\\u4e09\\u4e2a...\": {\"frequency\": 150, \"value\": \"\\u7ecf\\u8fc7\\u51e0\\u5929\\u6076\\u8865,\\u7ec8\\u4e8e\\u77e5\\u9053exo\\u662f\\u8c01\\u4e86, ...\"}, \"\\u7c89\\u4e1d\\u9ad8\\u558a\\u88ab\\u9a97\\u8981\\u6c42\\u9000\\u94b1(\\u8f6c\\u8f7d)\": {\"frequency\": 150, \"value\": \"\\u7c89\\u4e1d\\u9ad8\\u558a\\u88ab\\u9a97\\u8981\\u6c42\\u9000\\u94b1(\\u8f6c\\u8f7d)\"}, \"\\u9e7f\\u6657\\u5434\\u4ea6\\u51e1\\u9ec4\\u5b50\\u97ec\\u8fd8\\u6709\\u6ca1\\u6709\\u53ef\\u80fd\\u56de\\u5f52exo?\": {\"frequency\": 150, \"value\": \"\\u9e7f\\u6657\\u5434\\u4ea6\\u51e1\\u9ec4\\u5b50\\u97ec\\u8fd8\\u6709\\u6ca1\\u6709\\u53ef\\u80fd\\u56de\\u5f52ex ...\"}, \"me...\": {\"frequency\": 150, \"value\": \"me...\"}, \"\\u5434\\u4ea6\\u51e1\\u9e7f\\u6657\\u9ec4\\u5b50\\u97ec.\\u4e09\\u5c0f\\u9c9c\\u8089\\u56de\\u56fd\\u649e\\u886b\": {\"frequency\": 150, \"value\": \"\\u5434\\u4ea6\\u51e1\\u9e7f\\u6657\\u9ec4\\u5b50\\u97ec.\\u4e09\\u5c0f\\u9c9c\\u8089\\u56de\\u56fd\\u649e\\u886b\"}, \"\\u8bf4\\u4e0d\\u8ba4\\u8bc6\\\"exo\\\",\\u5c31\\u53bb\\u7206\\u4e86'\\u666e\\u4eac'\\u5427\\u7684\\u90a3\\u652f\\u795e\\u9b3c\\u90e8...\": {\"frequency\": 150, \"value\": \"\\u8bf4\\u4e0d\\u8ba4\\u8bc6\\\"exo\\\",\\u5c31\\u53bb\\u7206\\u4e86'\\u666e\\u4eac' ...\"}, \"exo\\u5434\\u4ea6\\u51e1\\u9e7f\\u6657\\u91d1\\u79c0\\u8d24\": {\"frequency\": 150, \"value\": \"exo\\u5434\\u4ea6\\u51e1\\u9e7f\\u6657\\u91d1\\u79c0\\u8d24\"}, \"lay(\\u5f20\\u827a\\u5174),f(x)\": {\"frequency\": 150, \"value\": \"lay(\\u5f20\\u827a\\u5174),f(x)\"}, \"exo\\u8981\\u96c6\\u4f53\\u62cd\\u7535\\u5f71\\u4e86\\u4e48?\": {\"frequency\": 150, \"value\": \"exo\\u8981\\u96c6\\u4f53\\u62cd\\u7535\\u5f71\\u4e86\\u4e48?\"}, \"\\u770b\\u5230\\u522b\\u4eba\\u56de\\u590d\": {\"frequency\": 150, \"value\": \"\\u770b\\u5230\\u522b\\u4eba\\u56de\\u590d\"}, \"\\u8bf4\\u4e00\\u8bf4\\u4eceexo\\u5355\\u98de\\u7684\\u90a3\\u4e09\\u4e2a\\u5427\": {\"frequency\": 150, \"value\": \"\\u8bf4\\u4e00\\u8bf4\\u4eceexo\\u5355\\u98de\\u7684\\u90a3\\u4e09\\u4e2a\\u5427\"}, \"\\u6c42\\u5434\\u4e16\\u52cb\\u9e7f\\u6657\\u6216exo\\u6210\\u5458\\u7684\\u5355\\u4eba\\u7167\": {\"frequency\": 150, \"value\": \"\\u6c42\\u5434\\u4e16\\u52cb\\u9e7f\\u6657\\u6216exo\\u6210\\u5458\\u7684\\u5355\\u4eba\\u7167\"}, \"\\u96ea\\u85cfexo?\": {\"frequency\": 150, \"value\": \"\\u96ea\\u85cfexo?\"}, \"*\\u5206\\u4eab*\\u3010\\u4e2d\\u5916\\u660e\\u661f\\u6f6e\\u4eba\\u8857\\u62cd3.18\\u53f7\\u3011\": {\"frequency\": 150, \"value\": \"*\\u5206\\u4eab*\\u3010\\u4e2d\\u5916\\u660e\\u661f\\u6f6e\\u4eba\\u8857\\u62cd3.18\\u53f7 ...\"}, \"me?\\u5c31\\u89c9\\u5f97\\u4e00\\u8eab\\u9e21\\u76ae\\u7599\\u7629\": {\"frequency\": 150, \"value\": \"me?\\u5c31\\u89c9\\u5f97\\u4e00\\u8eab\\u9e21\\u76ae\\u7599\\u7629\"}, \"\\u300a\\u71c3\\u5c11\\u300b\\u81f4\\u656c\\u5076\\u50cfexo\": {\"frequency\": 150, \"value\": \"\\u300a\\u71c3\\u5c11\\u300b\\u81f4\\u656c\\u5076\\u50cfexo\"}, \"\\u795e\\u79d8\\u8fbe\\u4eba,\\u75db\\u5feb\\u8fd8\\u539fexo\\u4e3b\\u6253\\u4f5c\\u54c1\": {\"frequency\": 150, \"value\": \"\\u795e\\u79d8\\u8fbe\\u4eba,\\u75db\\u5feb\\u8fd8\\u539fexo\\u4e3b\\u6253\\u4f5c\\u54c1\"}, \"\\u5434\\u4ea6\\u51e1\\u5fae\\u535a\\u5c45\\u7136\\u8fd8\\u5728\\u5173\\u6ce8\\u7740exo-k\\u548cexo_m.\\u8fd8\\u6709\\u5f20\\u827a\\u5174\\u548c\\u9e7f\\u6657.\\u800c...\": {\"frequency\": 150, \"value\": \"\\u5434\\u4ea6\\u51e1\\u5fae\\u535a\\u5c45\\u7136\\u8fd8\\u5728\\u5173\\u6ce8\\u7740exo-k\\u548c ...\"}, \"\\u5173\\u4e8eexo\\u90a3\\u4e9b\\u4e8b(\\u8f6c\\u8f7d)\": {\"frequency\": 150, \"value\": \"\\u5173\\u4e8eexo\\u90a3\\u4e9b\\u4e8b(\\u8f6c\\u8f7d)\"}, \"\\u8d76\\u4e86\\u4e2a\\u5c3e\\u5df4,\\u7a81\\u7136\\u8ff7\\u4e0a\\u4e86exo\\u7684\\u6734\\u707f\\u70c8,\\u81ea\\u4ece\\u770b\\u5b8c\\u5927\\u5b66\\u4e00\\u5e74\\u7ea7\\u8282\\u76ee\\u540e...\": {\"frequency\": 150, \"value\": \"\\u8d76\\u4e86\\u4e2a\\u5c3e\\u5df4,\\u7a81\\u7136\\u8ff7\\u4e0a\\u4e86exo\\u7684\\u6734\\u707f\\u70c8 ...\"}, \"me??\": {\"frequency\": 150, \"value\": \"me??\"}, \"\\u770b\\u770b\\u5434\\u4ea6\\u51e1\\u5728\\u6f14\\u5531\\u4f1a\\u4e00\\u5468\\u524d\\u8dd1\\u8def\\u540eexo\\u961f\\u5458\\u7ecf\\u5386\\u4e86\\u4ec0\\u4e48\": {\"frequency\": 150, \"value\": \"\\u770b\\u770b\\u5434\\u4ea6\\u51e1\\u5728\\u6f14\\u5531\\u4f1a\\u4e00\\u5468\\u524d\\u8dd1\\u8def\\u540eexo ...\"}, \"exo\\u5c06\\u53c2\\u52a0acc\\u5929\\u56e2\\u5de1\\u6f14\\u4e0a\\u6d77\\u7ad9\\u6f14\\u5531\\u4f1a!\\u76f8\\u5173\\u7f8e\\u7167\\u66dd\\u5149!\": {\"frequency\": 150, \"value\": \"exo\\u5c06\\u53c2\\u52a0acc\\u5929\\u56e2\\u5de1\\u6f14\\u4e0a\\u6d77\\u7ad9\\u6f14\\u5531 ...\"}, \"\\u97e9\\u56fd\\u82b1\\u7f8e\\u7537\\u7406\\u60f3\\u578b\\u5973\\u53cb\\u66dd\\u5149\": {\"frequency\": 150, \"value\": \"\\u97e9\\u56fd\\u82b1\\u7f8e\\u7537\\u7406\\u60f3\\u578b\\u5973\\u53cb\\u66dd\\u5149\"}, \"\\u963f\\u91cc\\u97f3\\u4e50\\u72ec\\u5bb6#exo#6\\u67089\\u65e5\\u5927\\u52bf\\u56de\\u5f52(\\u8f6c\\u8f7d)\": {\"frequency\": 150, \"value\": \"\\u963f\\u91cc\\u97f3\\u4e50\\u72ec\\u5bb6#exo#6\\u67089\\u65e5\\u5927\\u52bf\\u56de ...\"}, \"\\u5f53\\u5e74\\u56e0\\u4e3a'\\u5434\\u4eac'\": {\"frequency\": 150, \"value\": \"\\u5f53\\u5e74\\u56e0\\u4e3a'\\u5434\\u4eac'\"}, \"\\u7f51\\u53cb:\\u786e\\u5b9a\\u4e0d\\u662f\\u5728exo\\u7684\\u961f...\": {\"frequency\": 150, \"value\": \"\\u7f51\\u53cb:\\u786e\\u5b9a\\u4e0d\\u662f\\u5728exo\\u7684\\u961f...\"}, \"\\u88ab\\u4eba\\u8bf4\\u662f\\u7537\\u4eba\\u7684\\u9f3b\\u5b50!exo\": {\"frequency\": 150, \"value\": \"\\u88ab\\u4eba\\u8bf4\\u662f\\u7537\\u4eba\\u7684\\u9f3b\\u5b50!exo\"}, \"\\u7ec8\\u4e8e\\u89c1\\u8bc6\\u5230exo\\u8111\\u6b8b\\u7c89\\u7684\\u5a01\\u529b!!\\u5367\\u69fd\\u4e86!!\": {\"frequency\": 150, \"value\": \"\\u7ec8\\u4e8e\\u89c1\\u8bc6\\u5230exo\\u8111\\u6b8b\\u7c89\\u7684\\u5a01\\u529b!!\\u5367\\u69fd ...\"}, \"\\u8ba9\\u6211\\u4eec\\u6765\\u804a\\u804a\\u6781\\u9650\\u6311\\u6218\\u7684\\u5f20\\u827a\\u5174,exo\\u7684lay.\": {\"frequency\": 150, \"value\": \"\\u8ba9\\u6211\\u4eec\\u6765\\u804a\\u804a\\u6781\\u9650\\u6311\\u6218\\u7684\\u5f20\\u827a\\u5174,exo ...\"}, \"\\u670b\\u53cb\\u8bf4\\u50cfexo\\u7684\\u4e00\\u4e2a\\u660e\\u661f?\\u5927\\u5bb6\\u770b\\u770b\": {\"frequency\": 150, \"value\": \"\\u670b\\u53cb\\u8bf4\\u50cfexo\\u7684\\u4e00\\u4e2a\\u660e\\u661f?\\u5927\\u5bb6\\u770b\\u770b\"}, \"\\u81f4\\u656c\\u5076\\u50cfexo\": {\"frequency\": 150, \"value\": \"\\u81f4\\u656c\\u5076\\u50cfexo\"}, \"\\u767e\\u5ea6\\u8d34\\u5427\\u7c89\\u4e1d\\u8282\\u4e0a\\u6f14snh48\\u4e0eexo\\u7c89\\u4e1d\\u56e2\\u6b63\\u9762\\\"pk\\\"(\\u8f6c\\u8f7d)\": {\"frequency\": 150, \"value\": \"\\u767e\\u5ea6\\u8d34\\u5427\\u7c89\\u4e1d\\u8282\\u4e0a\\u6f14snh48\\u4e0eexo ...\"}, \"\\u53f0\\u6e7e\\u5c04\\u98de\\u5f39\\u70b8\\u6b7b\\u81ea\\u5df1\\u4eba,\\u5f2f\\u5f2f\\u8868\\u793a\\u5bfc\\u5f39\\u5c04\\u504f\\u4e86\\u8fd8\\u90a3\\u4e48\\u5389\\u5bb3?exo\": {\"frequency\": 150, \"value\": \"\\u53f0\\u6e7e\\u5c04\\u98de\\u5f39\\u70b8\\u6b7b\\u81ea\\u5df1\\u4eba,\\u5f2f\\u5f2f\\u8868\\u793a\\u5bfc\\u5f39\\u5c04 ...\"}, \"exo\\u5927\\u52bf\\u54df\": {\"frequency\": 150, \"value\": \"exo\\u5927\\u52bf\\u54df\"}, \"m...\": {\"frequency\": 150, \"value\": \"m...\"}, \"\\u8c01\\u6765\\u7206\\u7206exo\\u56db\\u5b50\\u7684\\u6069\\u6069\\u6028\\u6028\": {\"frequency\": 150, \"value\": \"\\u8c01\\u6765\\u7206\\u7206exo\\u56db\\u5b50\\u7684\\u6069\\u6069\\u6028\\u6028\"}, \"\\u5c0f\\u6837\\u4e73\\u9178\\u76d0\\u300a\\u71c3\\u5c11\\u300b\\u674e\\u5b87\\u6625\\\"\\u6dfb\\u6cb9\\\"\\u8212\\u6dc7\\\"\\u5403\\u918b\\\"\": {\"frequency\": 150, \"value\": \"\\u5c0f\\u6837\\u4e73\\u9178\\u76d0\\u300a\\u71c3\\u5c11\\u300b\\u674e\\u5b87\\u6625\\\"\\u6dfb\\u6cb9\\\"\\u8212\\u6dc7 ...\"}, \"exo\\u5434\\u4ea6\\u51e1\": {\"frequency\": 150, \"value\": \"exo\\u5434\\u4ea6\\u51e1\"}, \"krystal\\u5c06\\u51fa\\u6f14\\u4e2d\\u56fd\\u7535\\u5f71\\u300a\\u98de(\\u8f6c\\u8f7d)\": {\"frequency\": 150, \"value\": \"krystal\\u5c06\\u51fa\\u6f14\\u4e2d\\u56fd\\u7535\\u5f71\\u300a\\u98de(\\u8f6c ...\"}, \"\\u5c0f\\u72ee\\u8d1d\\u6069\\u9a97\\u5b50\\u7206exo\\u6210\\u5458\\u707f\\u70c8\\u906d\\u7c89\\u4e1d\\u9ad8\\u901f\\u8def\\u8ffd\\u8f66\": {\"frequency\": 150, \"value\": \"\\u5c0f\\u72ee\\u8d1d\\u6069\\u9a97\\u5b50\\u7206exo\\u6210\\u5458\\u707f\\u70c8\\u906d\\u7c89\\u4e1d\\u9ad8 ...\"}, \"\\u540c\\u4e8b\\u95ee\\u6211,\\u5982\\u679c\\u5979\\u548c\\u6211\\u7684\\u72d7\\u540c\\u65f6\\u6389\\u8fdb\\u6c34\\u91cc,\\u6211\\u5148\\u6551\\u8c01?\\u6211\\u8868\\u793aexo\": {\"frequency\": 150, \"value\": \"\\u540c\\u4e8b\\u95ee\\u6211,\\u5982\\u679c\\u5979\\u548c\\u6211\\u7684\\u72d7\\u540c\\u65f6\\u6389\\u8fdb\\u6c34\\u91cc ...\"}, \"\\u4e0d\\u6b62\\u662f\\u597d\\u5403!exo\\u989c\\u503c\\u5d1b\\u8d77,\\u4e16\\u52cb\\u91d1\\u949f\\u4ec1\\u7f8e\\u5982\\u753b!\": {\"frequency\": 150, \"value\": \"\\u4e0d\\u6b62\\u662f\\u597d\\u5403!exo\\u989c\\u503c\\u5d1b\\u8d77,\\u4e16\\u52cb\\u91d1\\u949f ...\"}, \"\\u6252\\u76aeexo\": {\"frequency\": 150, \"value\": \"\\u6252\\u76aeexo\"}, \"\\u73b0\\u5b9e\\u6c38\\u8fdc\\u6bd4\\u5c0f\\u8bf4\\u6709\\u8da3\\u4e4b\\u300a\\u7504\\u5b1b\\u4f20\\u300b-\\u5f00\\u6252exo\\u56db\\u5b50\\u7684\\u7231\\u6068\\u60c5\\u4ec7\": {\"frequency\": 150, \"value\": \"\\u73b0\\u5b9e\\u6c38\\u8fdc\\u6bd4\\u5c0f\\u8bf4\\u6709\\u8da3\\u4e4b\\u300a\\u7504\\u5b1b\\u4f20\\u300b-\\u5f00\\u6252 ...\"}, \"exo\\u4e3a\\u4f55\\u4f1a\\u8fd9\\u4e48\\u706b?\\u770b\\u5c0f\\u9c9c\\u8089\\u4eec\\u5982\\u4f55\\\"\\u88c5\\\"\\u51fa\\u6765\\u7684\": {\"frequency\": 150, \"value\": \"exo\\u4e3a\\u4f55\\u4f1a\\u8fd9\\u4e48\\u706b?\\u770b\\u5c0f\\u9c9c\\u8089\\u4eec\\u5982\\u4f55\\\" ...\"}, \"exo\\u4e0a\\u6d77\\u62fc\\u76d8\\u6f14\\u5531\\u4f1a\\u4e3b\\u529e\\u65b9\\u53d1\\u9000\\u7968\\u516c\\u544a\": {\"frequency\": 150, \"value\": \"exo\\u4e0a\\u6d77\\u62fc\\u76d8\\u6f14\\u5531\\u4f1a\\u4e3b\\u529e\\u65b9\\u53d1\\u9000\\u7968\\u516c\\u544a\"}, \"exo2015\\u5e7f\\u5dde\\u6f14\\u5531\\u4f1a~~~~\\u6709\\u7c89\\u4e1d\\u5417?~~~~~~~~~~~\": {\"frequency\": 150, \"value\": \"exo2015\\u5e7f\\u5dde\\u6f14\\u5531\\u4f1a~~~~\\u6709\\u7c89 ...\"}, \"exo\\u4e0a\\u6d77\\u6f14\\u5531\\u4f1a\\u4ec5\\u55315\\u9996\\u6b4c\": {\"frequency\": 150, \"value\": \"exo\\u4e0a\\u6d77\\u6f14\\u5531\\u4f1a\\u4ec5\\u55315\\u9996\\u6b4c\"}, \"\\u5929\\u54ea\\u565c!\\u6211\\u548c\\u540c\\u684c\\u56e0\\u4e3aexo,\": {\"frequency\": 150, \"value\": \"\\u5929\\u54ea\\u565c!\\u6211\\u548c\\u540c\\u684c\\u56e0\\u4e3aexo,\"}, \"tfboys\\u7684\\u957f\\u76f8\\u5435\\u8d77\\u6765\\u4e86\": {\"frequency\": 150, \"value\": \"tfboys\\u7684\\u957f\\u76f8\\u5435\\u8d77\\u6765\\u4e86\"}, \"exo\\u4e2d\\u996d\\u90fd\\u662f\\u590f\\u96e8\\u8377\": {\"frequency\": 150, \"value\": \"exo\\u4e2d\\u996d\\u90fd\\u662f\\u590f\\u96e8\\u8377\"}, \"\\u5434\\u4eac\\u5206\\u4e0d\\u6e05exo\\u662f\\u7537\\u662f\\u5973\\u88ab,exo\\u7c89\\u4e1d\\u8981\\u6c42\\u666e\\u4eac\\u9053\\u6b49,\\u54c8\\u54c8\\u6211\\u4e5f\\u662f\\u9189...\": {\"frequency\": 150, \"value\": \"\\u5434\\u4eac\\u5206\\u4e0d\\u6e05exo\\u662f\\u7537\\u662f\\u5973\\u88ab,exo\\u7c89 ...\"}, \"\\u706b\\u706b\": {\"frequency\": 150, \"value\": \"\\u706b\\u706b\"}, \"exo\": {\"frequency\": 300, \"value\": \"exo\"}, \"friends\\u4e0a\\u6d77\\u62fc\\u76d8\\u4e3b\\u529e\\u65b9\\u8bc8\\u9a97exo\\u7c89\\u4e1d\": {\"frequency\": 150, \"value\": \"friends\\u4e0a\\u6d77\\u62fc\\u76d8\\u4e3b\\u529e\\u65b9\\u8bc8\\u9a97ex ...\"}, \"\\u4eca\\u5e74\\u4e03\\u6708exo\\u4e0e\\u81ea\\u7136\\u4e50\\u56ed\\u5408\\u7ea6\\u5230\\u671f,\\u5982\\u679c\\u65b0\\u7537\\u56e2ntc\\u4ee3\\u66ff,\\u4f60,\\u8fd8\\u4f1a\\u4e70...\": {\"frequency\": 150, \"value\": \"\\u4eca\\u5e74\\u4e03\\u6708exo\\u4e0e\\u81ea\\u7136\\u4e50\\u56ed\\u5408\\u7ea6\\u5230\\u671f,\\u5982 ...\"}, \"\\u542c\\u8bf4\\u8bb8\\u591a\\u4eba\\u628atfboys\\u53eb\\u6311\\u7caa\\u7537\\u5b69,exo\\u4e3a\\u4ec0\\u4e48\\u4e0d\\u53eb\\u91ce\\u72d7?\": {\"frequency\": 150, \"value\": \"\\u542c\\u8bf4\\u8bb8\\u591a\\u4eba\\u628atfboys\\u53eb\\u6311\\u7caa\\u7537\\u5b69, ...\"}, \"exo\\u7684\\u771f\\u7231\\u7c89\\u770b\\u8fc7\\u6765,\\u73a9\\u5076\\u592a\\u9006\\u5929\\u4e86,\\u6211\\u5df2\\u770b\\u778e\\u5bf9\\u4e0d\\u4e0a\\u53f7,\\u8c01\\u80fd\\u544a\\u8bc9...\": {\"frequency\": 150, \"value\": \"exo\\u7684\\u771f\\u7231\\u7c89\\u770b\\u8fc7\\u6765,\\u73a9\\u5076\\u592a\\u9006\\u5929\\u4e86, ...\"}, \"\\u795e\\u8bdd,\\u4e1c\\u65b9\\u795e\\u8d77,exo,tf\\u7b49\\u5927\\u52bf\\u5076\\u50cf\\u56e2\\u4f53\\u53ca\\u76f8\\u5e94\\u6210\\u5458\\\"\\u72fc\\u6027\\\"\\u6392\\u884c\": {\"frequency\": 150, \"value\": \"\\u795e\\u8bdd,\\u4e1c\\u65b9\\u795e\\u8d77,exo,tf\\u7b49\\u5927\\u52bf\\u5076 ...\"}, \"exo\\u53d1\\u65b0\\u4e13\\u8f91\\u4e86!!\\u5927\\u5bb6\\u90fd\\u559c\\u6b22\\u8c01\\u5440?\": {\"frequency\": 150, \"value\": \"exo\\u53d1\\u65b0\\u4e13\\u8f91\\u4e86!!\\u5927\\u5bb6\\u90fd\\u559c\\u6b22\\u8c01\\u5440?\"}, \"\\u6211\\u8ba4\\u4e3aexo\\u6bd4tfboys\\u66f4\\u5e05.\": {\"frequency\": 150, \"value\": \"\\u6211\\u8ba4\\u4e3aexo\\u6bd4tfboys\\u66f4\\u5e05.\"}, \"\\u661f\\u6d77\\\"\\u5185\\u6597\\\"\\u674e\\u5b87\\u6625\\u4e71\\u5165\": {\"frequency\": 150, \"value\": \"\\u661f\\u6d77\\\"\\u5185\\u6597\\\"\\u674e\\u5b87\\u6625\\u4e71\\u5165\"}, \"\\u989c\\u72d7\\u5b9e\\u5728\\u662f\\u5fcd\\u4e0d\\u4f4f\\u4e86,\\u629b\\u5f00\\u5bf9\\u68d2\\u5b50\\u7684\\u504f\\u89c1,\\u4f60\\u4eec\\u771f\\u7684\\u4e0d\\u89c9\\u5f97exo\\u7684\\u5434...\": {\"frequency\": 150, \"value\": \"\\u989c\\u72d7\\u5b9e\\u5728\\u662f\\u5fcd\\u4e0d\\u4f4f\\u4e86,\\u629b\\u5f00\\u5bf9\\u68d2\\u5b50\\u7684\\u504f\\u89c1 ...\"}, \"\\u4f83\\u7237\": {\"frequency\": 150, \"value\": \"\\u4f83\\u7237\"}, \"k\": {\"frequency\": 150, \"value\": \"k\"}, \"~\": {\"frequency\": 150, \"value\": \"~\"}}, \"size\": 10350}, \"progress\": 1.0, \"values\": {\"std\": 0.0, \"complete\": true, \"min\": 1.0, \"max\": 1.0, \"quantile\": [1.0, 1.0, 1.0, 1.0, 1.0, 1.0, 1.0, 1.0, 1.0, 1.0, 1.0, 1.0, 1.0, 1.0, 1.0, 1.0, 1.0, 1.0, 1.0, 1.0, 1.0, 1.0, 1.0, 1.0, 1.0, 1.0, 1.0, 1.0, 1.0, 1.0, 1.0, 1.0, 1.0, 1.0, 1.0, 1.0, 1.0, 1.0, 1.0, 1.0, 1.0, 1.0, 1.0, 1.0, 1.0, 1.0, 1.0, 1.0, 1.0, 1.0, 1.0, 1.0, 1.0, 1.0, 1.0, 1.0, 1.0, 1.0, 1.0, 1.0, 1.0, 1.0, 1.0, 1.0, 1.0, 1.0, 1.0, 1.0, 1.0, 1.0, 1.0, 1.0, 1.0, 1.0, 1.0, 1.0, 1.0, 1.0, 1.0, 1.0, 1.0, 1.0, 1.0, 1.0, 1.0, 1.0, 1.0, 1.0, 1.0, 1.0, 1.0, 1.0, 1.0, 1.0, 1.0, 1.0, 1.0, 1.0, 1.0, 1.0, 1.0], \"median\": 1.0, \"numeric\": true, \"num_unique\": 1, \"num_undefined\": 0, \"var\": 0.0, \"progress\": 1.0, \"size\": 10350, \"frequent_items\": {\"1.0\": {\"frequency\": 10350, \"value\": 1.0}}, \"mean\": 1.0}, \"complete\": true, \"num_undefined\": 0}}, \"selected_variable\": {\"name\": [\"sf\"], \"descriptives\": {\"rows\": 7500, \"columns\": 2}, \"view_component\": \"Summary\", \"view_file\": \"sframe\", \"view_params\": {\"y\": null, \"x\": null, \"columns\": [\"X1\", \"bow\"], \"view\": null}, \"view_components\": [\"Summary\", \"Table\", \"Bar Chart\", \"BoxWhisker Plot\", \"Line Chart\", \"Scatter Plot\", \"Heat Map\", \"Plots\"], \"type\": \"SFrame\", \"columns\": [{\"dtype\": \"str\", \"name\": \"X1\"}, {\"dtype\": \"dict\", \"name\": \"bow\"}], \"column_identifiers\": [\"X1\", \"bow\"]}, \"columns\": [{\"dtype\": \"str\", \"name\": \"X1\"}, {\"dtype\": \"dict\", \"name\": \"bow\"}]}, e);\n",
       "                });\n",
       "            })();\n",
       "        "
      ]
     },
     "metadata": {},
     "output_type": "display_data"
    }
   ],
   "source": [
    "sf.show()"
   ]
  },
  {
   "cell_type": "code",
   "execution_count": 54,
   "metadata": {
    "collapsed": true
   },
   "outputs": [],
   "source": [
    "docs = sf['bow'].dict_trim_by_values(1)"
   ]
  },
  {
   "cell_type": "code",
   "execution_count": 55,
   "metadata": {
    "collapsed": false
   },
   "outputs": [
    {
     "data": {
      "text/html": [
       "<pre>Learning a topic model</pre>"
      ],
      "text/plain": [
       "Learning a topic model"
      ]
     },
     "metadata": {},
     "output_type": "display_data"
    },
    {
     "data": {
      "text/html": [
       "<pre>       Number of documents      7500</pre>"
      ],
      "text/plain": [
       "       Number of documents      7500"
      ]
     },
     "metadata": {},
     "output_type": "display_data"
    },
    {
     "data": {
      "text/html": [
       "<pre>           Vocabulary size        68</pre>"
      ],
      "text/plain": [
       "           Vocabulary size        68"
      ]
     },
     "metadata": {},
     "output_type": "display_data"
    },
    {
     "data": {
      "text/html": [
       "<pre>   Running collapsed Gibbs sampling</pre>"
      ],
      "text/plain": [
       "   Running collapsed Gibbs sampling"
      ]
     },
     "metadata": {},
     "output_type": "display_data"
    },
    {
     "data": {
      "text/html": [
       "<pre>+-----------+---------------+----------------+-----------------+</pre>"
      ],
      "text/plain": [
       "+-----------+---------------+----------------+-----------------+"
      ]
     },
     "metadata": {},
     "output_type": "display_data"
    },
    {
     "data": {
      "text/html": [
       "<pre>| Iteration | Elapsed Time  | Tokens/Second  | Est. Perplexity |</pre>"
      ],
      "text/plain": [
       "| Iteration | Elapsed Time  | Tokens/Second  | Est. Perplexity |"
      ]
     },
     "metadata": {},
     "output_type": "display_data"
    },
    {
     "data": {
      "text/html": [
       "<pre>+-----------+---------------+----------------+-----------------+</pre>"
      ],
      "text/plain": [
       "+-----------+---------------+----------------+-----------------+"
      ]
     },
     "metadata": {},
     "output_type": "display_data"
    },
    {
     "data": {
      "text/html": [
       "<pre>| 10        | 89.42ms       | 998649         | 0               |</pre>"
      ],
      "text/plain": [
       "| 10        | 89.42ms       | 998649         | 0               |"
      ]
     },
     "metadata": {},
     "output_type": "display_data"
    },
    {
     "data": {
      "text/html": [
       "<pre>+-----------+---------------+----------------+-----------------+</pre>"
      ],
      "text/plain": [
       "+-----------+---------------+----------------+-----------------+"
      ]
     },
     "metadata": {},
     "output_type": "display_data"
    }
   ],
   "source": [
    "m = graphlab.topic_model.create(docs)"
   ]
  },
  {
   "cell_type": "code",
   "execution_count": 56,
   "metadata": {
    "collapsed": false
   },
   "outputs": [
    {
     "data": {
      "text/plain": [
       "Class                         : TopicModel\n",
       "\n",
       "Schema\n",
       "------\n",
       "Vocabulary Size               : 68\n",
       "\n",
       "Settings\n",
       "--------\n",
       "Number of Topics              : 10\n",
       "alpha                         : 5.0\n",
       "beta                          : 0.1\n",
       "Iterations                    : 10\n",
       "Training time                 : 0.0894\n",
       "Verbose                       : False\n",
       "\n",
       "Accessible fields             : \n",
       "m['topics']                   : An SFrame containing the topics.\n",
       "m['vocabulary']               : An SArray containing the words in the vocabulary.\n",
       "Useful methods                : \n",
       "m.get_topics()                : Get the most probable words per topic.\n",
       "m.predict(new_docs)           : Make predictions for new documents."
      ]
     },
     "execution_count": 56,
     "metadata": {},
     "output_type": "execute_result"
    }
   ],
   "source": [
    "m"
   ]
  },
  {
   "cell_type": "code",
   "execution_count": 57,
   "metadata": {
    "collapsed": false
   },
   "outputs": [
    {
     "data": {
      "text/html": [
       "<div style=\"max-height:1000px;max-width:1500px;overflow:auto;\"><table frame=\"box\" rules=\"cols\">\n",
       "    <tr>\n",
       "        <th style=\"padding-left: 1em; padding-right: 1em; text-align: center\">topic</th>\n",
       "        <th style=\"padding-left: 1em; padding-right: 1em; text-align: center\">word</th>\n",
       "        <th style=\"padding-left: 1em; padding-right: 1em; text-align: center\">score</th>\n",
       "    </tr>\n",
       "    <tr>\n",
       "        <td style=\"padding-left: 1em; padding-right: 1em; text-align: center; vertical-align: top\">0</td>\n",
       "        <td style=\"padding-left: 1em; padding-right: 1em; text-align: center; vertical-align: top\">k</td>\n",
       "        <td style=\"padding-left: 1em; padding-right: 1em; text-align: center; vertical-align: top\">0.127599927654</td>\n",
       "    </tr>\n",
       "    <tr>\n",
       "        <td style=\"padding-left: 1em; padding-right: 1em; text-align: center; vertical-align: top\">0</td>\n",
       "        <td style=\"padding-left: 1em; padding-right: 1em; text-align: center; vertical-align: top\">求吴世勋鹿晗或exo�<br>��员的单人照 ...</td>\n",
       "        <td style=\"padding-left: 1em; padding-right: 1em; text-align: center; vertical-align: top\">0.123982637005</td>\n",
       "    </tr>\n",
       "    <tr>\n",
       "        <td style=\"padding-left: 1em; padding-right: 1em; text-align: center; vertical-align: top\">0</td>\n",
       "        <td style=\"padding-left: 1em; padding-right: 1em; text-align: center; vertical-align: top\">friends上海拼盘主办<br>方诈骗exo粉丝 ...</td>\n",
       "        <td style=\"padding-left: 1em; padding-right: 1em; text-align: center; vertical-align: top\">0.115843733044</td>\n",
       "    </tr>\n",
       "    <tr>\n",
       "        <td style=\"padding-left: 1em; padding-right: 1em; text-align: center; vertical-align: top\">0</td>\n",
       "        <td style=\"padding-left: 1em; padding-right: 1em; text-align: center; vertical-align: top\">扒皮exo</td>\n",
       "        <td style=\"padding-left: 1em; padding-right: 1em; text-align: center; vertical-align: top\">0.0986616024598</td>\n",
       "    </tr>\n",
       "    <tr>\n",
       "        <td style=\"padding-left: 1em; padding-right: 1em; text-align: center; vertical-align: top\">0</td>\n",
       "        <td style=\"padding-left: 1em; padding-right: 1em; text-align: center; vertical-align: top\">krystal将出演中国电<br>影《飞(转载) ...</td>\n",
       "        <td style=\"padding-left: 1em; padding-right: 1em; text-align: center; vertical-align: top\">0.0805751492132</td>\n",
       "    </tr>\n",
       "    <tr>\n",
       "        <td style=\"padding-left: 1em; padding-right: 1em; text-align: center; vertical-align: top\">1</td>\n",
       "        <td style=\"padding-left: 1em; padding-right: 1em; text-align: center; vertical-align: top\">exo为何会这么火?看<br>小鲜肉们如何\"装\"� ...</td>\n",
       "        <td style=\"padding-left: 1em; padding-right: 1em; text-align: center; vertical-align: top\">0.119928288356</td>\n",
       "    </tr>\n",
       "    <tr>\n",
       "        <td style=\"padding-left: 1em; padding-right: 1em; text-align: center; vertical-align: top\">1</td>\n",
       "        <td style=\"padding-left: 1em; padding-right: 1em; text-align: center; vertical-align: top\">鹿晗吴亦凡黄子韬�<br>��有没有可能回归ex ...</td>\n",
       "        <td style=\"padding-left: 1em; padding-right: 1em; text-align: center; vertical-align: top\">0.108605397245</td>\n",
       "    </tr>\n",
       "    <tr>\n",
       "        <td style=\"padding-left: 1em; padding-right: 1em; text-align: center; vertical-align: top\">1</td>\n",
       "        <td style=\"padding-left: 1em; padding-right: 1em; text-align: center; vertical-align: top\">朋友说像exo的一个�<br>��星?大家看看 ...</td>\n",
       "        <td style=\"padding-left: 1em; padding-right: 1em; text-align: center; vertical-align: top\">0.10105680317</td>\n",
       "    </tr>\n",
       "    <tr>\n",
       "        <td style=\"padding-left: 1em; padding-right: 1em; text-align: center; vertical-align: top\">1</td>\n",
       "        <td style=\"padding-left: 1em; padding-right: 1em; text-align: center; vertical-align: top\">exo的真爱粉看过来,<br>玩偶太逆天了,我已 ...</td>\n",
       "        <td style=\"padding-left: 1em; padding-right: 1em; text-align: center; vertical-align: top\">0.086903189281</td>\n",
       "    </tr>\n",
       "    <tr>\n",
       "        <td style=\"padding-left: 1em; padding-right: 1em; text-align: center; vertical-align: top\">1</td>\n",
       "        <td style=\"padding-left: 1em; padding-right: 1em; text-align: center; vertical-align: top\">赶了个尾巴,突然迷<br>上了exo的朴灿烈,自 ...</td>\n",
       "        <td style=\"padding-left: 1em; padding-right: 1em; text-align: center; vertical-align: top\">0.0831288922438</td>\n",
       "    </tr>\n",
       "</table>\n",
       "[50 rows x 3 columns]<br/>Note: Only the head of the SFrame is printed.<br/>You can use print_rows(num_rows=m, num_columns=n) to print more rows and columns.\n",
       "</div>"
      ],
      "text/plain": [
       "Columns:\n",
       "\ttopic\tint\n",
       "\tword\tstr\n",
       "\tscore\tfloat\n",
       "\n",
       "Rows: 50\n",
       "\n",
       "Data:\n",
       "+-------+----------------------------------------------------+-----------------+\n",
       "| topic |                        word                        |      score      |\n",
       "+-------+----------------------------------------------------+-----------------+\n",
       "|   0   |                         k                          |  0.127599927654 |\n",
       "|   0   |          求吴世勋鹿晗或exo成员的单人照...          |  0.123982637005 |\n",
       "|   0   |        friends上海拼盘主办方诈骗exo粉丝...         |  0.115843733044 |\n",
       "|   0   |                      扒皮exo                       | 0.0986616024598 |\n",
       "|   0   |         krystal将出演中国电影《飞(转载)...         | 0.0805751492132 |\n",
       "|   1   |    exo为何会这么火?看小鲜肉们如何\"装\"出来的...     |  0.119928288356 |\n",
       "|   1   |      鹿晗吴亦凡黄子韬还有没有可能回归exo?...       |  0.108605397245 |\n",
       "|   1   |         朋友说像exo的一个明星?大家看看...          |  0.10105680317  |\n",
       "|   1   | exo的真爱粉看过来,玩偶太逆天了,我已看瞎对不上号... |  0.086903189281 |\n",
       "|   1   | 赶了个尾巴,突然迷上了exo的朴灿烈,自从看完大学一... | 0.0831288922438 |\n",
       "+-------+----------------------------------------------------+-----------------+\n",
       "[50 rows x 3 columns]\n",
       "Note: Only the head of the SFrame is printed.\n",
       "You can use print_rows(num_rows=m, num_columns=n) to print more rows and columns."
      ]
     },
     "execution_count": 57,
     "metadata": {},
     "output_type": "execute_result"
    }
   ],
   "source": [
    "m.get_topics()"
   ]
  },
  {
   "cell_type": "code",
   "execution_count": 59,
   "metadata": {
    "collapsed": false
   },
   "outputs": [],
   "source": [
    "topics = m.get_topics().unstack(['word','score'], new_column_name='topic_words')['topic_words'].apply(lambda x: x.keys())\n",
    "for topic in topics:\n",
    "    print topic"
   ]
  },
  {
   "cell_type": "code",
   "execution_count": 60,
   "metadata": {
    "collapsed": true
   },
   "outputs": [],
   "source": [
    "pred = m.predict(docs)"
   ]
  },
  {
   "cell_type": "code",
   "execution_count": 61,
   "metadata": {
    "collapsed": false
   },
   "outputs": [
    {
     "data": {
      "application/javascript": [
       "$(\"head\").append($(\"<link/>\").attr({\n",
       "  rel:  \"stylesheet\",\n",
       "  type: \"text/css\",\n",
       "  href: \"//cdnjs.cloudflare.com/ajax/libs/font-awesome/4.1.0/css/font-awesome.min.css\"\n",
       "}));\n",
       "$(\"head\").append($(\"<link/>\").attr({\n",
       "  rel:  \"stylesheet\",\n",
       "  type: \"text/css\",\n",
       "  href: \"//dato.com/files/canvas/1.8.5/css/canvas.css\"\n",
       "}));\n",
       "\n",
       "            (function(){\n",
       "\n",
       "                var e = null;\n",
       "                if (typeof element == 'undefined') {\n",
       "                    var scripts = document.getElementsByTagName('script');\n",
       "                    var thisScriptTag = scripts[scripts.length-1];\n",
       "                    var parentDiv = thisScriptTag.parentNode;\n",
       "                    e = document.createElement('div');\n",
       "                    parentDiv.appendChild(e);\n",
       "                } else {\n",
       "                    e = element[0];\n",
       "                }\n",
       "\n",
       "                if (typeof requirejs !== 'undefined') {\n",
       "                    // disable load timeout; ipython_app.js is large and can take a while to load.\n",
       "                    requirejs.config({waitSeconds: 0});\n",
       "                }\n",
       "\n",
       "                require(['//dato.com/files/canvas/1.8.5/js/ipython_app.js'], function(IPythonApp){\n",
       "                    var app = new IPythonApp();\n",
       "                    app.attachView('sarray','Numeric', {\"ipython\": true, \"sketch\": {\"std\": 2.959387672400417, \"complete\": true, \"min\": 0.0, \"max\": 9.0, \"quantile\": [0.0, 0.0, 0.0, 0.0, 0.0, 0.0, 0.0, 0.0, 0.0, 0.0, 1.0, 1.0, 1.0, 1.0, 1.0, 1.0, 1.0, 1.0, 1.0, 1.0, 1.0, 2.0, 2.0, 2.0, 2.0, 2.0, 2.0, 2.0, 2.0, 2.0, 2.0, 2.0, 2.0, 3.0, 3.0, 3.0, 3.0, 3.0, 3.0, 3.0, 3.0, 3.0, 3.0, 4.0, 4.0, 4.0, 4.0, 4.0, 4.0, 4.0, 4.0, 4.0, 4.0, 5.0, 5.0, 5.0, 5.0, 5.0, 5.0, 5.0, 5.0, 6.0, 6.0, 6.0, 6.0, 6.0, 6.0, 6.0, 7.0, 7.0, 7.0, 7.0, 7.0, 7.0, 7.0, 7.0, 7.0, 7.0, 7.0, 8.0, 8.0, 8.0, 8.0, 8.0, 8.0, 8.0, 8.0, 8.0, 8.0, 9.0, 9.0, 9.0, 9.0, 9.0, 9.0, 9.0, 9.0, 9.0, 9.0, 9.0, 9.0], \"median\": 4.0, \"numeric\": true, \"num_unique\": 10, \"num_undefined\": 0, \"var\": 8.757975395555558, \"progress\": 1.0, \"size\": 7500, \"frequent_items\": {\"0\": {\"frequency\": 724, \"value\": 0}, \"1\": {\"frequency\": 832, \"value\": 1}, \"2\": {\"frequency\": 863, \"value\": 2}, \"3\": {\"frequency\": 785, \"value\": 3}, \"4\": {\"frequency\": 706, \"value\": 4}, \"5\": {\"frequency\": 593, \"value\": 5}, \"6\": {\"frequency\": 589, \"value\": 6}, \"7\": {\"frequency\": 775, \"value\": 7}, \"8\": {\"frequency\": 736, \"value\": 8}, \"9\": {\"frequency\": 897, \"value\": 9}}, \"mean\": 4.482933333333332}, \"selected_variable\": {\"name\": [\"<SArray>\"], \"dtype\": \"int\", \"view_component\": \"Numeric\", \"view_file\": \"sarray\", \"descriptives\": {\"rows\": 7500}, \"type\": \"SArray\", \"view_components\": [\"Numeric\", \"Categorical\"]}, \"histogram\": {\"progress\": 1.0, \"histogram\": {\"max\": 9.02, \"bins\": [724, 832, 863, 785, 0, 706, 593, 589, 0, 775, 736, 897], \"min\": -0.0039999999999995595}, \"min\": 0, \"complete\": 1, \"max\": 9}}, e);\n",
       "                });\n",
       "            })();\n",
       "        "
      ]
     },
     "metadata": {},
     "output_type": "display_data"
    }
   ],
   "source": [
    "pred.show()"
   ]
  },
  {
   "cell_type": "code",
   "execution_count": 62,
   "metadata": {
    "collapsed": true
   },
   "outputs": [],
   "source": [
    "pred = m.predict(docs, output_type='probabilities')"
   ]
  },
  {
   "cell_type": "code",
   "execution_count": 63,
   "metadata": {
    "collapsed": false
   },
   "outputs": [
    {
     "data": {
      "text/plain": [
       "dtype: str\n",
       "Rows: 68\n",
       "['me...', '台湾射飞弹炸死自己人,弯弯表示导弹射偏了还那么厉害?exo', '说不认识\"exo\",就去爆了'普京'吧的那支神鬼部...', \"当年因为'吴京'\", '看看吴亦凡在演唱会一周前跑路后exo队员经历了什么', '神秘达人,痛快还原exo主打作品', '谁来爆爆exo四子的恩恩怨怨', '阿里音乐独家#exo#6月9日大势回归(转载)', 'exo发新专辑了!!大家都喜欢谁呀?', '今年七月exo与自然乐园合约到期,如果新男团ntc代替,你,还会买...', 'me??', '被人说是男人的鼻子!exo', 'm...', '同事问我,如果她和我的狗同时掉进水里,我先救谁?我表示exo', '吴亦凡微博居然还在关注着exo-k和exo_m.还有张艺兴和鹿晗.而...', '吴京分不清exo是男是女被,exo粉丝要求普京道歉,哈哈我也是醉...', '求吴世勋鹿晗或exo成员的单人照', 'me?就觉得一身鸡皮疙瘩', 'exo', '看到别人回复', '雪藏exo?', 'exo要集体拍电影了么?', 'exo上海拼盘演唱会主办方发退票公告', '粉丝高喊被骗要求退钱(转载)', 'exo上海演唱会仅唱5首歌', 'friends上海拼盘主办方诈骗exo粉丝', 'k', '~', '火火', '侃爷', 'exo吴亦凡', '*分享*【中外明星潮人街拍3.18号】', '赶了个尾巴,突然迷上了exo的朴灿烈,自从看完大学一年级节目后...', 'exo的真爱粉看过来,玩偶太逆天了,我已看瞎对不上号,谁能告诉...', '鹿晗吴亦凡黄子韬还有没有可能回归exo?', '说一说从exo单飞的那三个吧', '不止是好吃!exo颜值崛起,世勋金钟仁美如画!', '小样乳酸盐《燃少》李宇春\"添油\"舒淇\"吃醋\"', '致敬偶像exo', '星海\"内斗\"李宇春乱入', '《燃少》致敬偶像exo', '朋友说像exo的一个明星?大家看看', '神话,东方神起,exo,tf等大势偶像团体及相应成员\"狼性\"排行', '终于见识到exo脑残粉的威力!!卧槽了!!', '现实永远比小说有趣之《甄嬛传》-开扒exo四子的爱恨情仇', 'exo为何会这么火?看小鲜肉们如何\"装\"出来的', '扒皮exo', 'exo大势哟', '韩国花美男理想型女友曝光', 'exo吴亦凡鹿晗金秀贤', '小狮贝恩骗子爆exo成员灿烈遭粉丝高速路追车', 'tfboys的长相吵起来了', '天哪噜!我和同桌因为exo,', 'exo2015广州演唱会~~~~有粉丝吗?~~~~~~~~~~~', 'exo将参加acc天团巡演上海站演唱会!相关美照曝光!', '关于exo那些事(转载)', 'exo中饭都是夏雨荷', 'lay(张艺兴),f(x)', 'krystal将出演中国电影《飞(转载)', '颜狗实在是忍不住了,抛开对棒子的偏见,你们真的不觉得exo的吴...', '我认为exo比tfboys更帅.', '经过几天恶补,终于知道exo是谁了,可惜当我喜欢上他们时,三个...', '百度贴吧粉丝节上演snh48与exo粉丝团正面\"pk\"(转载)', '让我们来聊聊极限挑战的张艺兴,exo的lay.', '听说许多人把tfboys叫挑粪男孩,exo为什么不叫野狗?', '开贴问一下那栋楼exo八料楼里张艺兴的黑料都是真的吗?看完感...', '网友:确定不是在exo的队...', '吴亦凡鹿晗黄子韬.三小鲜肉回国撞衫']"
      ]
     },
     "execution_count": 63,
     "metadata": {},
     "output_type": "execute_result"
    }
   ],
   "source": [
    "m['vocabulary']"
   ]
  },
  {
   "cell_type": "code",
   "execution_count": 64,
   "metadata": {
    "collapsed": false
   },
   "outputs": [
    {
     "data": {
      "text/html": [
       "<div style=\"max-height:1000px;max-width:1500px;overflow:auto;\"><table frame=\"box\" rules=\"cols\">\n",
       "    <tr>\n",
       "        <th style=\"padding-left: 1em; padding-right: 1em; text-align: center\">topic_probabilities</th>\n",
       "        <th style=\"padding-left: 1em; padding-right: 1em; text-align: center\">vocabulary</th>\n",
       "    </tr>\n",
       "    <tr>\n",
       "        <td style=\"padding-left: 1em; padding-right: 1em; text-align: center; vertical-align: top\">[0.000994754928559,<br>9.43574259294e-05, ...</td>\n",
       "        <td style=\"padding-left: 1em; padding-right: 1em; text-align: center; vertical-align: top\">me...</td>\n",
       "    </tr>\n",
       "    <tr>\n",
       "        <td style=\"padding-left: 1em; padding-right: 1em; text-align: center; vertical-align: top\">[9.04322662326e-05,<br>9.43574259294e-05, ...</td>\n",
       "        <td style=\"padding-left: 1em; padding-right: 1em; text-align: center; vertical-align: top\">台湾射飞弹炸死自�<br>��人,弯弯表示导弹� ...</td>\n",
       "    </tr>\n",
       "    <tr>\n",
       "        <td style=\"padding-left: 1em; padding-right: 1em; text-align: center; vertical-align: top\">[0.0127509495388,<br>0.0585959615022, ...</td>\n",
       "        <td style=\"padding-left: 1em; padding-right: 1em; text-align: center; vertical-align: top\">说不认识\"exo\",就去�<br>��了'普京'吧的那支 ...</td>\n",
       "    </tr>\n",
       "    <tr>\n",
       "        <td style=\"padding-left: 1em; padding-right: 1em; text-align: center; vertical-align: top\">[9.04322662326e-05,<br>0.0633138327986, ...</td>\n",
       "        <td style=\"padding-left: 1em; padding-right: 1em; text-align: center; vertical-align: top\">当年因为'吴京'</td>\n",
       "    </tr>\n",
       "    <tr>\n",
       "        <td style=\"padding-left: 1em; padding-right: 1em; text-align: center; vertical-align: top\">[0.000994754928559,<br>9.43574259294e-05, ...</td>\n",
       "        <td style=\"padding-left: 1em; padding-right: 1em; text-align: center; vertical-align: top\">看看吴亦凡在演唱�<br>��一周前跑路后exo� ...</td>\n",
       "    </tr>\n",
       "    <tr>\n",
       "        <td style=\"padding-left: 1em; padding-right: 1em; text-align: center; vertical-align: top\">[0.000994754928559,<br>9.43574259294e-05, ...</td>\n",
       "        <td style=\"padding-left: 1em; padding-right: 1em; text-align: center; vertical-align: top\">神秘达人,痛快还原<br>exo主打作品 ...</td>\n",
       "    </tr>\n",
       "    <tr>\n",
       "        <td style=\"padding-left: 1em; padding-right: 1em; text-align: center; vertical-align: top\">[0.0778621812263,<br>9.43574259294e-05, ...</td>\n",
       "        <td style=\"padding-left: 1em; padding-right: 1em; text-align: center; vertical-align: top\">谁来爆爆exo四子的�<br>��恩怨怨 ...</td>\n",
       "    </tr>\n",
       "    <tr>\n",
       "        <td style=\"padding-left: 1em; padding-right: 1em; text-align: center; vertical-align: top\">[9.04322662326e-05,<br>0.00103793168522, ...</td>\n",
       "        <td style=\"padding-left: 1em; padding-right: 1em; text-align: center; vertical-align: top\">阿里音乐独家#exo#6�<br>��9日大势回归(转载 ...</td>\n",
       "    </tr>\n",
       "    <tr>\n",
       "        <td style=\"padding-left: 1em; padding-right: 1em; text-align: center; vertical-align: top\">[9.04322662326e-05,<br>9.43574259294e-05, ...</td>\n",
       "        <td style=\"padding-left: 1em; padding-right: 1em; text-align: center; vertical-align: top\">exo发新专辑了!!大�<br>�都喜欢谁呀? ...</td>\n",
       "    </tr>\n",
       "    <tr>\n",
       "        <td style=\"padding-left: 1em; padding-right: 1em; text-align: center; vertical-align: top\">[9.04322662326e-05,<br>0.00103793168522, ...</td>\n",
       "        <td style=\"padding-left: 1em; padding-right: 1em; text-align: center; vertical-align: top\">今年七月exo与自然�<br>��园合约到期,如果� ...</td>\n",
       "    </tr>\n",
       "</table>\n",
       "[68 rows x 2 columns]<br/>Note: Only the head of the SFrame is printed.<br/>You can use print_rows(num_rows=m, num_columns=n) to print more rows and columns.\n",
       "</div>"
      ],
      "text/plain": [
       "Columns:\n",
       "\ttopic_probabilities\tarray\n",
       "\tvocabulary\tstr\n",
       "\n",
       "Rows: 68\n",
       "\n",
       "Data:\n",
       "+-------------------------------+-------------------------------------------------------+\n",
       "|      topic_probabilities      |                       vocabulary                      |\n",
       "+-------------------------------+-------------------------------------------------------+\n",
       "| [0.000994754928559, 9.4357... |                         me...                         |\n",
       "| [9.04322662326e-05, 9.4357... | 台湾射飞弹炸死自己人,弯弯表示导弹射偏了还那么厉害?... |\n",
       "| [0.0127509495388, 0.058595... |     说不认识\"exo\",就去爆了'普京'吧的那支神鬼部....    |\n",
       "| [9.04322662326e-05, 0.0633... |                     当年因为'吴京'                    |\n",
       "| [0.000994754928559, 9.4357... |   看看吴亦凡在演唱会一周前跑路后exo队员经历了什么...  |\n",
       "| [0.000994754928559, 9.4357... |            神秘达人,痛快还原exo主打作品...            |\n",
       "| [0.0778621812263, 9.435742... |              谁来爆爆exo四子的恩恩怨怨...             |\n",
       "| [9.04322662326e-05, 0.0010... |        阿里音乐独家#exo#6月9日大势回归(转载)...       |\n",
       "| [9.04322662326e-05, 9.4357... |           exo发新专辑了!!大家都喜欢谁呀?...           |\n",
       "| [9.04322662326e-05, 0.0010... |    今年七月exo与自然乐园合约到期,如果新男团ntc代...   |\n",
       "+-------------------------------+-------------------------------------------------------+\n",
       "[68 rows x 2 columns]\n",
       "Note: Only the head of the SFrame is printed.\n",
       "You can use print_rows(num_rows=m, num_columns=n) to print more rows and columns."
      ]
     },
     "execution_count": 64,
     "metadata": {},
     "output_type": "execute_result"
    }
   ],
   "source": [
    "m['topics']"
   ]
  },
  {
   "cell_type": "code",
   "execution_count": 75,
   "metadata": {
    "collapsed": false
   },
   "outputs": [],
   "source": [
    "def print_topics(m):\n",
    "    topics = m.get_topics(num_words=5)\n",
    "    topics = topics.unstack(['word','score'], new_column_name='topic_words')['topic_words']\n",
    "    topics = topics.apply(lambda x: x.keys())\n",
    "    for topic in topics:\n",
    "        print topic\n",
    "print_topics(m)"
   ]
  },
  {
   "cell_type": "code",
   "execution_count": 66,
   "metadata": {
    "collapsed": false
   },
   "outputs": [
    {
     "data": {
      "text/html": [
       "<pre>Initializing from provided topics and vocabulary.</pre>"
      ],
      "text/plain": [
       "Initializing from provided topics and vocabulary."
      ]
     },
     "metadata": {},
     "output_type": "display_data"
    },
    {
     "data": {
      "text/html": [
       "<pre>Learning a topic model</pre>"
      ],
      "text/plain": [
       "Learning a topic model"
      ]
     },
     "metadata": {},
     "output_type": "display_data"
    },
    {
     "data": {
      "text/html": [
       "<pre>       Number of documents      7500</pre>"
      ],
      "text/plain": [
       "       Number of documents      7500"
      ]
     },
     "metadata": {},
     "output_type": "display_data"
    },
    {
     "data": {
      "text/html": [
       "<pre>           Vocabulary size        68</pre>"
      ],
      "text/plain": [
       "           Vocabulary size        68"
      ]
     },
     "metadata": {},
     "output_type": "display_data"
    },
    {
     "data": {
      "text/html": [
       "<pre>   Running collapsed Gibbs sampling</pre>"
      ],
      "text/plain": [
       "   Running collapsed Gibbs sampling"
      ]
     },
     "metadata": {},
     "output_type": "display_data"
    },
    {
     "data": {
      "text/html": [
       "<pre>+-----------+---------------+----------------+-----------------+</pre>"
      ],
      "text/plain": [
       "+-----------+---------------+----------------+-----------------+"
      ]
     },
     "metadata": {},
     "output_type": "display_data"
    },
    {
     "data": {
      "text/html": [
       "<pre>| Iteration | Elapsed Time  | Tokens/Second  | Est. Perplexity |</pre>"
      ],
      "text/plain": [
       "| Iteration | Elapsed Time  | Tokens/Second  | Est. Perplexity |"
      ]
     },
     "metadata": {},
     "output_type": "display_data"
    },
    {
     "data": {
      "text/html": [
       "<pre>+-----------+---------------+----------------+-----------------+</pre>"
      ],
      "text/plain": [
       "+-----------+---------------+----------------+-----------------+"
      ]
     },
     "metadata": {},
     "output_type": "display_data"
    },
    {
     "data": {
      "text/html": [
       "<pre>| 10        | 77.249ms      | 1.83673e+06    | 0               |</pre>"
      ],
      "text/plain": [
       "| 10        | 77.249ms      | 1.83673e+06    | 0               |"
      ]
     },
     "metadata": {},
     "output_type": "display_data"
    },
    {
     "data": {
      "text/html": [
       "<pre>+-----------+---------------+----------------+-----------------+</pre>"
      ],
      "text/plain": [
       "+-----------+---------------+----------------+-----------------+"
      ]
     },
     "metadata": {},
     "output_type": "display_data"
    }
   ],
   "source": [
    "m2 = graphlab.topic_model.create(docs,\n",
    "                                 num_topics=10,\n",
    "                                 initial_topics=m['topics'])"
   ]
  },
  {
   "cell_type": "code",
   "execution_count": 67,
   "metadata": {
    "collapsed": true
   },
   "outputs": [],
   "source": [
    "associations = graphlab.SFrame()\n",
    "associations['word'] = ['recognition']\n",
    "associations['topic'] = [0]"
   ]
  },
  {
   "cell_type": "code",
   "execution_count": 77,
   "metadata": {
    "collapsed": false
   },
   "outputs": [
    {
     "data": {
      "text/html": [
       "<pre>Learning a topic model</pre>"
      ],
      "text/plain": [
       "Learning a topic model"
      ]
     },
     "metadata": {},
     "output_type": "display_data"
    },
    {
     "data": {
      "text/html": [
       "<pre>       Number of documents      7500</pre>"
      ],
      "text/plain": [
       "       Number of documents      7500"
      ]
     },
     "metadata": {},
     "output_type": "display_data"
    },
    {
     "data": {
      "text/html": [
       "<pre>           Vocabulary size        69</pre>"
      ],
      "text/plain": [
       "           Vocabulary size        69"
      ]
     },
     "metadata": {},
     "output_type": "display_data"
    },
    {
     "data": {
      "text/html": [
       "<pre>   Running collapsed Gibbs sampling</pre>"
      ],
      "text/plain": [
       "   Running collapsed Gibbs sampling"
      ]
     },
     "metadata": {},
     "output_type": "display_data"
    },
    {
     "data": {
      "text/html": [
       "<pre>+-----------+---------------+----------------+-----------------+</pre>"
      ],
      "text/plain": [
       "+-----------+---------------+----------------+-----------------+"
      ]
     },
     "metadata": {},
     "output_type": "display_data"
    },
    {
     "data": {
      "text/html": [
       "<pre>| Iteration | Elapsed Time  | Tokens/Second  | Est. Perplexity |</pre>"
      ],
      "text/plain": [
       "| Iteration | Elapsed Time  | Tokens/Second  | Est. Perplexity |"
      ]
     },
     "metadata": {},
     "output_type": "display_data"
    },
    {
     "data": {
      "text/html": [
       "<pre>+-----------+---------------+----------------+-----------------+</pre>"
      ],
      "text/plain": [
       "+-----------+---------------+----------------+-----------------+"
      ]
     },
     "metadata": {},
     "output_type": "display_data"
    },
    {
     "data": {
      "text/html": [
       "<pre>| 10        | 81.371ms      | 1.85351e+06    | 0               |</pre>"
      ],
      "text/plain": [
       "| 10        | 81.371ms      | 1.85351e+06    | 0               |"
      ]
     },
     "metadata": {},
     "output_type": "display_data"
    },
    {
     "data": {
      "text/html": [
       "<pre>topic 0: 看到别人回复 tfboys的长相吵起来了 me?就觉得一身鸡皮疙瘩 百度贴吧粉丝节上演snh48与exo粉丝团正面\"pk\"(转载) 神秘达人,痛快还原exo主打作品 当年因为'吴京' 天哪噜!我和同桌因为exo, 谁来爆爆exo四子的恩恩怨怨 星海\"内斗\"李宇春乱入 吴京分不清exo是男是女被,exo粉丝要求普京道歉,哈哈我也是醉... 《燃少》致敬偶像exo 让我们来聊聊极限挑战的张艺兴,exo的lay. friends上海拼盘主办方诈骗exo粉丝 krystal将出演中国电影《飞(转载) exo为何会这么火?看小鲜肉们如何\"装\"出来的</pre>"
      ],
      "text/plain": [
       "topic 0: 看到别人回复 tfboys的长相吵起来了 me?就觉得一身鸡皮疙瘩 百度贴吧粉丝节上演snh48与exo粉丝团正面\"pk\"(转载) 神秘达人,痛快还原exo主打作品 当年因为'吴京' 天哪噜!我和同桌因为exo, 谁来爆爆exo四子的恩恩怨怨 星海\"内斗\"李宇春乱入 吴京分不清exo是男是女被,exo粉丝要求普京道歉,哈哈我也是醉... 《燃少》致敬偶像exo 让我们来聊聊极限挑战的张艺兴,exo的lay. friends上海拼盘主办方诈骗exo粉丝 krystal将出演中国电影《飞(转载) exo为何会这么火?看小鲜肉们如何\"装\"出来的"
      ]
     },
     "metadata": {},
     "output_type": "display_data"
    },
    {
     "data": {
      "text/html": [
       "<pre>topic 1: exo上海演唱会仅唱5首歌 exo吴亦凡 *分享*【中外明星潮人街拍3.18号】 听说许多人把tfboys叫挑粪男孩,exo为什么不叫野狗? 吴亦凡鹿晗黄子韬.三小鲜肉回国撞衫 侃爷 exo将参加acc天团巡演上海站演唱会!相关美照曝光! 说不认识\"exo\",就去爆了'普京'吧的那支神鬼部... 关于exo那些事(转载) 经过几天恶补,终于知道exo是谁了,可惜当我喜欢上他们时,三个... exo为何会这么火?看小鲜肉们如何\"装\"出来的 谁来爆爆exo四子的恩恩怨怨 今年七月exo与自然乐园合约到期,如果新男团ntc代替,你,还会买... ~ 星海\"内斗\"李宇春乱入</pre>"
      ],
      "text/plain": [
       "topic 1: exo上海演唱会仅唱5首歌 exo吴亦凡 *分享*【中外明星潮人街拍3.18号】 听说许多人把tfboys叫挑粪男孩,exo为什么不叫野狗? 吴亦凡鹿晗黄子韬.三小鲜肉回国撞衫 侃爷 exo将参加acc天团巡演上海站演唱会!相关美照曝光! 说不认识\"exo\",就去爆了'普京'吧的那支神鬼部... 关于exo那些事(转载) 经过几天恶补,终于知道exo是谁了,可惜当我喜欢上他们时,三个... exo为何会这么火?看小鲜肉们如何\"装\"出来的 谁来爆爆exo四子的恩恩怨怨 今年七月exo与自然乐园合约到期,如果新男团ntc代替,你,还会买... ~ 星海\"内斗\"李宇春乱入"
      ]
     },
     "metadata": {},
     "output_type": "display_data"
    },
    {
     "data": {
      "text/html": [
       "<pre>topic 2: 火火 ~ 神话,东方神起,exo,tf等大势偶像团体及相应成员\"狼性\"排行 exo大势哟 不止是好吃!exo颜值崛起,世勋金钟仁美如画! 星海\"内斗\"李宇春乱入 吴亦凡微博居然还在关注着exo-k和exo_m.还有张艺兴和鹿晗.而... 关于exo那些事(转载) exo中饭都是夏雨荷 侃爷 经过几天恶补,终于知道exo是谁了,可惜当我喜欢上他们时,三个... 朋友说像exo的一个明星?大家看看 赶了个尾巴,突然迷上了exo的朴灿烈,自从看完大学一年级节目后... exo发新专辑了!!大家都喜欢谁呀? 我认为exo比tfboys更帅.</pre>"
      ],
      "text/plain": [
       "topic 2: 火火 ~ 神话,东方神起,exo,tf等大势偶像团体及相应成员\"狼性\"排行 exo大势哟 不止是好吃!exo颜值崛起,世勋金钟仁美如画! 星海\"内斗\"李宇春乱入 吴亦凡微博居然还在关注着exo-k和exo_m.还有张艺兴和鹿晗.而... 关于exo那些事(转载) exo中饭都是夏雨荷 侃爷 经过几天恶补,终于知道exo是谁了,可惜当我喜欢上他们时,三个... 朋友说像exo的一个明星?大家看看 赶了个尾巴,突然迷上了exo的朴灿烈,自从看完大学一年级节目后... exo发新专辑了!!大家都喜欢谁呀? 我认为exo比tfboys更帅."
      ]
     },
     "metadata": {},
     "output_type": "display_data"
    },
    {
     "data": {
      "text/html": [
       "<pre>topic 3: exo 终于见识到exo脑残粉的威力!!卧槽了!! exo为何会这么火?看小鲜肉们如何\"装\"出来的 赶了个尾巴,突然迷上了exo的朴灿烈,自从看完大学一年级节目后... 网友:确定不是在exo的队... 开贴问一下那栋楼exo八料楼里张艺兴的黑料都是真的吗?看完感... 说一说从exo单飞的那三个吧 粉丝高喊被骗要求退钱(转载) 神秘达人,痛快还原exo主打作品 exo中饭都是夏雨荷 谁来爆爆exo四子的恩恩怨怨 me?就觉得一身鸡皮疙瘩 百度贴吧粉丝节上演snh48与exo粉丝团正面\"pk\"(转载) 小狮贝恩骗子爆exo成员灿烈遭粉丝高速路追车 k</pre>"
      ],
      "text/plain": [
       "topic 3: exo 终于见识到exo脑残粉的威力!!卧槽了!! exo为何会这么火?看小鲜肉们如何\"装\"出来的 赶了个尾巴,突然迷上了exo的朴灿烈,自从看完大学一年级节目后... 网友:确定不是在exo的队... 开贴问一下那栋楼exo八料楼里张艺兴的黑料都是真的吗?看完感... 说一说从exo单飞的那三个吧 粉丝高喊被骗要求退钱(转载) 神秘达人,痛快还原exo主打作品 exo中饭都是夏雨荷 谁来爆爆exo四子的恩恩怨怨 me?就觉得一身鸡皮疙瘩 百度贴吧粉丝节上演snh48与exo粉丝团正面\"pk\"(转载) 小狮贝恩骗子爆exo成员灿烈遭粉丝高速路追车 k"
      ]
     },
     "metadata": {},
     "output_type": "display_data"
    },
    {
     "data": {
      "text/html": [
       "<pre>topic 4: 被人说是男人的鼻子!exo me?? 韩国花美男理想型女友曝光 朋友说像exo的一个明星?大家看看 exo吴亦凡鹿晗金秀贤 我认为exo比tfboys更帅. friends上海拼盘主办方诈骗exo粉丝 k exo 网友:确定不是在exo的队... exo上海拼盘演唱会主办方发退票公告 exo发新专辑了!!大家都喜欢谁呀? 经过几天恶补,终于知道exo是谁了,可惜当我喜欢上他们时,三个... 谁来爆爆exo四子的恩恩怨怨 吴亦凡鹿晗黄子韬.三小鲜肉回国撞衫</pre>"
      ],
      "text/plain": [
       "topic 4: 被人说是男人的鼻子!exo me?? 韩国花美男理想型女友曝光 朋友说像exo的一个明星?大家看看 exo吴亦凡鹿晗金秀贤 我认为exo比tfboys更帅. friends上海拼盘主办方诈骗exo粉丝 k exo 网友:确定不是在exo的队... exo上海拼盘演唱会主办方发退票公告 exo发新专辑了!!大家都喜欢谁呀? 经过几天恶补,终于知道exo是谁了,可惜当我喜欢上他们时,三个... 谁来爆爆exo四子的恩恩怨怨 吴亦凡鹿晗黄子韬.三小鲜肉回国撞衫"
      ]
     },
     "metadata": {},
     "output_type": "display_data"
    },
    {
     "data": {
      "text/html": [
       "<pre>topic 5: 致敬偶像exo 阿里音乐独家#exo#6月9日大势回归(转载) 小样乳酸盐《燃少》李宇春\"添油\"舒淇\"吃醋\" 《燃少》致敬偶像exo 我认为exo比tfboys更帅. 赶了个尾巴,突然迷上了exo的朴灿烈,自从看完大学一年级节目后... 鹿晗吴亦凡黄子韬还有没有可能回归exo? 让我们来聊聊极限挑战的张艺兴,exo的lay. exo中饭都是夏雨荷 krystal将出演中国电影《飞(转载) 说不认识\"exo\",就去爆了'普京'吧的那支神鬼部... 星海\"内斗\"李宇春乱入 k 神话,东方神起,exo,tf等大势偶像团体及相应成员\"狼性\"排行 不止是好吃!exo颜值崛起,世勋金钟仁美如画!</pre>"
      ],
      "text/plain": [
       "topic 5: 致敬偶像exo 阿里音乐独家#exo#6月9日大势回归(转载) 小样乳酸盐《燃少》李宇春\"添油\"舒淇\"吃醋\" 《燃少》致敬偶像exo 我认为exo比tfboys更帅. 赶了个尾巴,突然迷上了exo的朴灿烈,自从看完大学一年级节目后... 鹿晗吴亦凡黄子韬还有没有可能回归exo? 让我们来聊聊极限挑战的张艺兴,exo的lay. exo中饭都是夏雨荷 krystal将出演中国电影《飞(转载) 说不认识\"exo\",就去爆了'普京'吧的那支神鬼部... 星海\"内斗\"李宇春乱入 k 神话,东方神起,exo,tf等大势偶像团体及相应成员\"狼性\"排行 不止是好吃!exo颜值崛起,世勋金钟仁美如画!"
      ]
     },
     "metadata": {},
     "output_type": "display_data"
    },
    {
     "data": {
      "text/html": [
       "<pre>topic 6: 看看吴亦凡在演唱会一周前跑路后exo队员经历了什么 求吴世勋鹿晗或exo成员的单人照 exo的真爱粉看过来,玩偶太逆天了,我已看瞎对不上号,谁能告诉... lay(张艺兴),f(x) exo2015广州演唱会~~~~有粉丝吗?~~~~~~~~~~~ krystal将出演中国电影《飞(转载) exo发新专辑了!!大家都喜欢谁呀? 经过几天恶补,终于知道exo是谁了,可惜当我喜欢上他们时,三个... exo上海拼盘演唱会主办方发退票公告 韩国花美男理想型女友曝光 关于exo那些事(转载) exo吴亦凡鹿晗金秀贤 exo要集体拍电影了么? k 我认为exo比tfboys更帅.</pre>"
      ],
      "text/plain": [
       "topic 6: 看看吴亦凡在演唱会一周前跑路后exo队员经历了什么 求吴世勋鹿晗或exo成员的单人照 exo的真爱粉看过来,玩偶太逆天了,我已看瞎对不上号,谁能告诉... lay(张艺兴),f(x) exo2015广州演唱会~~~~有粉丝吗?~~~~~~~~~~~ krystal将出演中国电影《飞(转载) exo发新专辑了!!大家都喜欢谁呀? 经过几天恶补,终于知道exo是谁了,可惜当我喜欢上他们时,三个... exo上海拼盘演唱会主办方发退票公告 韩国花美男理想型女友曝光 关于exo那些事(转载) exo吴亦凡鹿晗金秀贤 exo要集体拍电影了么? k 我认为exo比tfboys更帅."
      ]
     },
     "metadata": {},
     "output_type": "display_data"
    },
    {
     "data": {
      "text/html": [
       "<pre>topic 7: me... 台湾射飞弹炸死自己人,弯弯表示导弹射偏了还那么厉害?exo exo要集体拍电影了么? 小狮贝恩骗子爆exo成员灿烈遭粉丝高速路追车 吴京分不清exo是男是女被,exo粉丝要求普京道歉,哈哈我也是醉... 鹿晗吴亦凡黄子韬还有没有可能回归exo? 说不认识\"exo\",就去爆了'普京'吧的那支神鬼部... 当年因为'吴京' k exo2015广州演唱会~~~~有粉丝吗?~~~~~~~~~~~ 朋友说像exo的一个明星?大家看看 百度贴吧粉丝节上演snh48与exo粉丝团正面\"pk\"(转载) 网友:确定不是在exo的队... 听说许多人把tfboys叫挑粪男孩,exo为什么不叫野狗? 吴亦凡鹿晗黄子韬.三小鲜肉回国撞衫</pre>"
      ],
      "text/plain": [
       "topic 7: me... 台湾射飞弹炸死自己人,弯弯表示导弹射偏了还那么厉害?exo exo要集体拍电影了么? 小狮贝恩骗子爆exo成员灿烈遭粉丝高速路追车 吴京分不清exo是男是女被,exo粉丝要求普京道歉,哈哈我也是醉... 鹿晗吴亦凡黄子韬还有没有可能回归exo? 说不认识\"exo\",就去爆了'普京'吧的那支神鬼部... 当年因为'吴京' k exo2015广州演唱会~~~~有粉丝吗?~~~~~~~~~~~ 朋友说像exo的一个明星?大家看看 百度贴吧粉丝节上演snh48与exo粉丝团正面\"pk\"(转载) 网友:确定不是在exo的队... 听说许多人把tfboys叫挑粪男孩,exo为什么不叫野狗? 吴亦凡鹿晗黄子韬.三小鲜肉回国撞衫"
      ]
     },
     "metadata": {},
     "output_type": "display_data"
    },
    {
     "data": {
      "text/html": [
       "<pre>topic 8: 同事问我,如果她和我的狗同时掉进水里,我先救谁?我表示exo 扒皮exo m... 雪藏exo? 粉丝高喊被骗要求退钱(转载) 开贴问一下那栋楼exo八料楼里张艺兴的黑料都是真的吗?看完感... exo吴亦凡鹿晗金秀贤 exo上海拼盘演唱会主办方发退票公告 鹿晗吴亦凡黄子韬还有没有可能回归exo? 说一说从exo单飞的那三个吧 网友:确定不是在exo的队... exo为何会这么火?看小鲜肉们如何\"装\"出来的 关于exo那些事(转载) 韩国花美男理想型女友曝光 exo大势哟</pre>"
      ],
      "text/plain": [
       "topic 8: 同事问我,如果她和我的狗同时掉进水里,我先救谁?我表示exo 扒皮exo m... 雪藏exo? 粉丝高喊被骗要求退钱(转载) 开贴问一下那栋楼exo八料楼里张艺兴的黑料都是真的吗?看完感... exo吴亦凡鹿晗金秀贤 exo上海拼盘演唱会主办方发退票公告 鹿晗吴亦凡黄子韬还有没有可能回归exo? 说一说从exo单飞的那三个吧 网友:确定不是在exo的队... exo为何会这么火?看小鲜肉们如何\"装\"出来的 关于exo那些事(转载) 韩国花美男理想型女友曝光 exo大势哟"
      ]
     },
     "metadata": {},
     "output_type": "display_data"
    },
    {
     "data": {
      "text/html": [
       "<pre>topic 9: 现实永远比小说有趣之《甄嬛传》-开扒exo四子的爱恨情仇 颜狗实在是忍不住了,抛开对棒子的偏见,你们真的不觉得exo的吴... 今年七月exo与自然乐园合约到期,如果新男团ntc代替,你,还会买... 吴亦凡微博居然还在关注着exo-k和exo_m.还有张艺兴和鹿晗.而... 说一说从exo单飞的那三个吧 exo将参加acc天团巡演上海站演唱会!相关美照曝光! 天哪噜!我和同桌因为exo, 让我们来聊聊极限挑战的张艺兴,exo的lay. friends上海拼盘主办方诈骗exo粉丝 不止是好吃!exo颜值崛起,世勋金钟仁美如画! exo上海拼盘演唱会主办方发退票公告 exo发新专辑了!!大家都喜欢谁呀? tfboys的长相吵起来了 当年因为'吴京' 粉丝高喊被骗要求退钱(转载)</pre>"
      ],
      "text/plain": [
       "topic 9: 现实永远比小说有趣之《甄嬛传》-开扒exo四子的爱恨情仇 颜狗实在是忍不住了,抛开对棒子的偏见,你们真的不觉得exo的吴... 今年七月exo与自然乐园合约到期,如果新男团ntc代替,你,还会买... 吴亦凡微博居然还在关注着exo-k和exo_m.还有张艺兴和鹿晗.而... 说一说从exo单飞的那三个吧 exo将参加acc天团巡演上海站演唱会!相关美照曝光! 天哪噜!我和同桌因为exo, 让我们来聊聊极限挑战的张艺兴,exo的lay. friends上海拼盘主办方诈骗exo粉丝 不止是好吃!exo颜值崛起,世勋金钟仁美如画! exo上海拼盘演唱会主办方发退票公告 exo发新专辑了!!大家都喜欢谁呀? tfboys的长相吵起来了 当年因为'吴京' 粉丝高喊被骗要求退钱(转载)"
      ]
     },
     "metadata": {},
     "output_type": "display_data"
    },
    {
     "data": {
      "text/html": [
       "<pre>| 20        | 164.926ms     | 1.18272e+06    | 0               |</pre>"
      ],
      "text/plain": [
       "| 20        | 164.926ms     | 1.18272e+06    | 0               |"
      ]
     },
     "metadata": {},
     "output_type": "display_data"
    },
    {
     "data": {
      "text/html": [
       "<pre>topic 0: tfboys的长相吵起来了 天哪噜!我和同桌因为exo, 看到别人回复 神秘达人,痛快还原exo主打作品 百度贴吧粉丝节上演snh48与exo粉丝团正面\"pk\"(转载) 谁来爆爆exo四子的恩恩怨怨 me?就觉得一身鸡皮疙瘩 exo为何会这么火?看小鲜肉们如何\"装\"出来的 说一说从exo单飞的那三个吧 吴京分不清exo是男是女被,exo粉丝要求普京道歉,哈哈我也是醉... 星海\"内斗\"李宇春乱入 神话,东方神起,exo,tf等大势偶像团体及相应成员\"狼性\"排行 吴亦凡鹿晗黄子韬.三小鲜肉回国撞衫 exo上海拼盘演唱会主办方发退票公告 《燃少》致敬偶像exo</pre>"
      ],
      "text/plain": [
       "topic 0: tfboys的长相吵起来了 天哪噜!我和同桌因为exo, 看到别人回复 神秘达人,痛快还原exo主打作品 百度贴吧粉丝节上演snh48与exo粉丝团正面\"pk\"(转载) 谁来爆爆exo四子的恩恩怨怨 me?就觉得一身鸡皮疙瘩 exo为何会这么火?看小鲜肉们如何\"装\"出来的 说一说从exo单飞的那三个吧 吴京分不清exo是男是女被,exo粉丝要求普京道歉,哈哈我也是醉... 星海\"内斗\"李宇春乱入 神话,东方神起,exo,tf等大势偶像团体及相应成员\"狼性\"排行 吴亦凡鹿晗黄子韬.三小鲜肉回国撞衫 exo上海拼盘演唱会主办方发退票公告 《燃少》致敬偶像exo"
      ]
     },
     "metadata": {},
     "output_type": "display_data"
    },
    {
     "data": {
      "text/html": [
       "<pre>topic 1: *分享*【中外明星潮人街拍3.18号】 exo吴亦凡 exo上海演唱会仅唱5首歌 ~ 侃爷 听说许多人把tfboys叫挑粪男孩,exo为什么不叫野狗? 吴亦凡鹿晗黄子韬.三小鲜肉回国撞衫 火火 关于exo那些事(转载) exo将参加acc天团巡演上海站演唱会!相关美照曝光! 今年七月exo与自然乐园合约到期,如果新男团ntc代替,你,还会买... 现实永远比小说有趣之《甄嬛传》-开扒exo四子的爱恨情仇 exo的真爱粉看过来,玩偶太逆天了,我已看瞎对不上号,谁能告诉... exo为何会这么火?看小鲜肉们如何\"装\"出来的 经过几天恶补,终于知道exo是谁了,可惜当我喜欢上他们时,三个...</pre>"
      ],
      "text/plain": [
       "topic 1: *分享*【中外明星潮人街拍3.18号】 exo吴亦凡 exo上海演唱会仅唱5首歌 ~ 侃爷 听说许多人把tfboys叫挑粪男孩,exo为什么不叫野狗? 吴亦凡鹿晗黄子韬.三小鲜肉回国撞衫 火火 关于exo那些事(转载) exo将参加acc天团巡演上海站演唱会!相关美照曝光! 今年七月exo与自然乐园合约到期,如果新男团ntc代替,你,还会买... 现实永远比小说有趣之《甄嬛传》-开扒exo四子的爱恨情仇 exo的真爱粉看过来,玩偶太逆天了,我已看瞎对不上号,谁能告诉... exo为何会这么火?看小鲜肉们如何\"装\"出来的 经过几天恶补,终于知道exo是谁了,可惜当我喜欢上他们时,三个..."
      ]
     },
     "metadata": {},
     "output_type": "display_data"
    },
    {
     "data": {
      "text/html": [
       "<pre>topic 2: exo大势哟 神话,东方神起,exo,tf等大势偶像团体及相应成员\"狼性\"排行 不止是好吃!exo颜值崛起,世勋金钟仁美如画! 经过几天恶补,终于知道exo是谁了,可惜当我喜欢上他们时,三个... exo中饭都是夏雨荷 火火 关于exo那些事(转载) exo发新专辑了!!大家都喜欢谁呀? 听说许多人把tfboys叫挑粪男孩,exo为什么不叫野狗? 赶了个尾巴,突然迷上了exo的朴灿烈,自从看完大学一年级节目后... 让我们来聊聊极限挑战的张艺兴,exo的lay. 侃爷 ~ 百度贴吧粉丝节上演snh48与exo粉丝团正面\"pk\"(转载) 今年七月exo与自然乐园合约到期,如果新男团ntc代替,你,还会买...</pre>"
      ],
      "text/plain": [
       "topic 2: exo大势哟 神话,东方神起,exo,tf等大势偶像团体及相应成员\"狼性\"排行 不止是好吃!exo颜值崛起,世勋金钟仁美如画! 经过几天恶补,终于知道exo是谁了,可惜当我喜欢上他们时,三个... exo中饭都是夏雨荷 火火 关于exo那些事(转载) exo发新专辑了!!大家都喜欢谁呀? 听说许多人把tfboys叫挑粪男孩,exo为什么不叫野狗? 赶了个尾巴,突然迷上了exo的朴灿烈,自从看完大学一年级节目后... 让我们来聊聊极限挑战的张艺兴,exo的lay. 侃爷 ~ 百度贴吧粉丝节上演snh48与exo粉丝团正面\"pk\"(转载) 今年七月exo与自然乐园合约到期,如果新男团ntc代替,你,还会买..."
      ]
     },
     "metadata": {},
     "output_type": "display_data"
    },
    {
     "data": {
      "text/html": [
       "<pre>topic 3: exo 终于见识到exo脑残粉的威力!!卧槽了!! me?就觉得一身鸡皮疙瘩 赶了个尾巴,突然迷上了exo的朴灿烈,自从看完大学一年级节目后... exo为何会这么火?看小鲜肉们如何\"装\"出来的 网友:确定不是在exo的队... 神秘达人,痛快还原exo主打作品 谁来爆爆exo四子的恩恩怨怨 看到别人回复 吴京分不清exo是男是女被,exo粉丝要求普京道歉,哈哈我也是醉... 说一说从exo单飞的那三个吧 exo中饭都是夏雨荷 小狮贝恩骗子爆exo成员灿烈遭粉丝高速路追车 百度贴吧粉丝节上演snh48与exo粉丝团正面\"pk\"(转载) 开贴问一下那栋楼exo八料楼里张艺兴的黑料都是真的吗?看完感...</pre>"
      ],
      "text/plain": [
       "topic 3: exo 终于见识到exo脑残粉的威力!!卧槽了!! me?就觉得一身鸡皮疙瘩 赶了个尾巴,突然迷上了exo的朴灿烈,自从看完大学一年级节目后... exo为何会这么火?看小鲜肉们如何\"装\"出来的 网友:确定不是在exo的队... 神秘达人,痛快还原exo主打作品 谁来爆爆exo四子的恩恩怨怨 看到别人回复 吴京分不清exo是男是女被,exo粉丝要求普京道歉,哈哈我也是醉... 说一说从exo单飞的那三个吧 exo中饭都是夏雨荷 小狮贝恩骗子爆exo成员灿烈遭粉丝高速路追车 百度贴吧粉丝节上演snh48与exo粉丝团正面\"pk\"(转载) 开贴问一下那栋楼exo八料楼里张艺兴的黑料都是真的吗?看完感..."
      ]
     },
     "metadata": {},
     "output_type": "display_data"
    },
    {
     "data": {
      "text/html": [
       "<pre>topic 4: me?? 被人说是男人的鼻子!exo 朋友说像exo的一个明星?大家看看 k friends上海拼盘主办方诈骗exo粉丝 韩国花美男理想型女友曝光 exo吴亦凡鹿晗金秀贤 我认为exo比tfboys更帅. exo发新专辑了!!大家都喜欢谁呀? 吴亦凡鹿晗黄子韬.三小鲜肉回国撞衫 关于exo那些事(转载) 网友:确定不是在exo的队... 经过几天恶补,终于知道exo是谁了,可惜当我喜欢上他们时,三个... lay(张艺兴),f(x) 扒皮exo</pre>"
      ],
      "text/plain": [
       "topic 4: me?? 被人说是男人的鼻子!exo 朋友说像exo的一个明星?大家看看 k friends上海拼盘主办方诈骗exo粉丝 韩国花美男理想型女友曝光 exo吴亦凡鹿晗金秀贤 我认为exo比tfboys更帅. exo发新专辑了!!大家都喜欢谁呀? 吴亦凡鹿晗黄子韬.三小鲜肉回国撞衫 关于exo那些事(转载) 网友:确定不是在exo的队... 经过几天恶补,终于知道exo是谁了,可惜当我喜欢上他们时,三个... lay(张艺兴),f(x) 扒皮exo"
      ]
     },
     "metadata": {},
     "output_type": "display_data"
    },
    {
     "data": {
      "text/html": [
       "<pre>topic 5: 小样乳酸盐《燃少》李宇春\"添油\"舒淇\"吃醋\" 致敬偶像exo 《燃少》致敬偶像exo 星海\"内斗\"李宇春乱入 阿里音乐独家#exo#6月9日大势回归(转载) 鹿晗吴亦凡黄子韬还有没有可能回归exo? exo要集体拍电影了么? 我认为exo比tfboys更帅. 开贴问一下那栋楼exo八料楼里张艺兴的黑料都是真的吗?看完感... 赶了个尾巴,突然迷上了exo的朴灿烈,自从看完大学一年级节目后... exo吴亦凡鹿晗金秀贤 exo中饭都是夏雨荷 颜狗实在是忍不住了,抛开对棒子的偏见,你们真的不觉得exo的吴... 让我们来聊聊极限挑战的张艺兴,exo的lay. 小狮贝恩骗子爆exo成员灿烈遭粉丝高速路追车</pre>"
      ],
      "text/plain": [
       "topic 5: 小样乳酸盐《燃少》李宇春\"添油\"舒淇\"吃醋\" 致敬偶像exo 《燃少》致敬偶像exo 星海\"内斗\"李宇春乱入 阿里音乐独家#exo#6月9日大势回归(转载) 鹿晗吴亦凡黄子韬还有没有可能回归exo? exo要集体拍电影了么? 我认为exo比tfboys更帅. 开贴问一下那栋楼exo八料楼里张艺兴的黑料都是真的吗?看完感... 赶了个尾巴,突然迷上了exo的朴灿烈,自从看完大学一年级节目后... exo吴亦凡鹿晗金秀贤 exo中饭都是夏雨荷 颜狗实在是忍不住了,抛开对棒子的偏见,你们真的不觉得exo的吴... 让我们来聊聊极限挑战的张艺兴,exo的lay. 小狮贝恩骗子爆exo成员灿烈遭粉丝高速路追车"
      ]
     },
     "metadata": {},
     "output_type": "display_data"
    },
    {
     "data": {
      "text/html": [
       "<pre>topic 6: krystal将出演中国电影《飞(转载) exo2015广州演唱会~~~~有粉丝吗?~~~~~~~~~~~ 求吴世勋鹿晗或exo成员的单人照 看看吴亦凡在演唱会一周前跑路后exo队员经历了什么 lay(张艺兴),f(x) exo的真爱粉看过来,玩偶太逆天了,我已看瞎对不上号,谁能告诉... exo发新专辑了!!大家都喜欢谁呀? exo上海拼盘演唱会主办方发退票公告 关于exo那些事(转载) exo中饭都是夏雨荷 韩国花美男理想型女友曝光 朋友说像exo的一个明星?大家看看 exo吴亦凡鹿晗金秀贤 exo大势哟 exo为何会这么火?看小鲜肉们如何\"装\"出来的</pre>"
      ],
      "text/plain": [
       "topic 6: krystal将出演中国电影《飞(转载) exo2015广州演唱会~~~~有粉丝吗?~~~~~~~~~~~ 求吴世勋鹿晗或exo成员的单人照 看看吴亦凡在演唱会一周前跑路后exo队员经历了什么 lay(张艺兴),f(x) exo的真爱粉看过来,玩偶太逆天了,我已看瞎对不上号,谁能告诉... exo发新专辑了!!大家都喜欢谁呀? exo上海拼盘演唱会主办方发退票公告 关于exo那些事(转载) exo中饭都是夏雨荷 韩国花美男理想型女友曝光 朋友说像exo的一个明星?大家看看 exo吴亦凡鹿晗金秀贤 exo大势哟 exo为何会这么火?看小鲜肉们如何\"装\"出来的"
      ]
     },
     "metadata": {},
     "output_type": "display_data"
    },
    {
     "data": {
      "text/html": [
       "<pre>topic 7: me... 台湾射飞弹炸死自己人,弯弯表示导弹射偏了还那么厉害?exo 说不认识\"exo\",就去爆了'普京'吧的那支神鬼部... 当年因为'吴京' 小狮贝恩骗子爆exo成员灿烈遭粉丝高速路追车 吴京分不清exo是男是女被,exo粉丝要求普京道歉,哈哈我也是醉... exo要集体拍电影了么? 鹿晗吴亦凡黄子韬还有没有可能回归exo? 网友:确定不是在exo的队... k 百度贴吧粉丝节上演snh48与exo粉丝团正面\"pk\"(转载) exo上海拼盘演唱会主办方发退票公告 今年七月exo与自然乐园合约到期,如果新男团ntc代替,你,还会买... 经过几天恶补,终于知道exo是谁了,可惜当我喜欢上他们时,三个... 看看吴亦凡在演唱会一周前跑路后exo队员经历了什么</pre>"
      ],
      "text/plain": [
       "topic 7: me... 台湾射飞弹炸死自己人,弯弯表示导弹射偏了还那么厉害?exo 说不认识\"exo\",就去爆了'普京'吧的那支神鬼部... 当年因为'吴京' 小狮贝恩骗子爆exo成员灿烈遭粉丝高速路追车 吴京分不清exo是男是女被,exo粉丝要求普京道歉,哈哈我也是醉... exo要集体拍电影了么? 鹿晗吴亦凡黄子韬还有没有可能回归exo? 网友:确定不是在exo的队... k 百度贴吧粉丝节上演snh48与exo粉丝团正面\"pk\"(转载) exo上海拼盘演唱会主办方发退票公告 今年七月exo与自然乐园合约到期,如果新男团ntc代替,你,还会买... 经过几天恶补,终于知道exo是谁了,可惜当我喜欢上他们时,三个... 看看吴亦凡在演唱会一周前跑路后exo队员经历了什么"
      ]
     },
     "metadata": {},
     "output_type": "display_data"
    },
    {
     "data": {
      "text/html": [
       "<pre>topic 8: m... 雪藏exo? 同事问我,如果她和我的狗同时掉进水里,我先救谁?我表示exo 扒皮exo 粉丝高喊被骗要求退钱(转载) 开贴问一下那栋楼exo八料楼里张艺兴的黑料都是真的吗?看完感... 说一说从exo单飞的那三个吧 今年七月exo与自然乐园合约到期,如果新男团ntc代替,你,还会买... 网友:确定不是在exo的队... 鹿晗吴亦凡黄子韬还有没有可能回归exo? 吴亦凡鹿晗黄子韬.三小鲜肉回国撞衫 经过几天恶补,终于知道exo是谁了,可惜当我喜欢上他们时,三个... 关于exo那些事(转载) exo大势哟 exo上海演唱会仅唱5首歌</pre>"
      ],
      "text/plain": [
       "topic 8: m... 雪藏exo? 同事问我,如果她和我的狗同时掉进水里,我先救谁?我表示exo 扒皮exo 粉丝高喊被骗要求退钱(转载) 开贴问一下那栋楼exo八料楼里张艺兴的黑料都是真的吗?看完感... 说一说从exo单飞的那三个吧 今年七月exo与自然乐园合约到期,如果新男团ntc代替,你,还会买... 网友:确定不是在exo的队... 鹿晗吴亦凡黄子韬还有没有可能回归exo? 吴亦凡鹿晗黄子韬.三小鲜肉回国撞衫 经过几天恶补,终于知道exo是谁了,可惜当我喜欢上他们时,三个... 关于exo那些事(转载) exo大势哟 exo上海演唱会仅唱5首歌"
      ]
     },
     "metadata": {},
     "output_type": "display_data"
    },
    {
     "data": {
      "text/html": [
       "<pre>topic 9: 吴亦凡微博居然还在关注着exo-k和exo_m.还有张艺兴和鹿晗.而... 现实永远比小说有趣之《甄嬛传》-开扒exo四子的爱恨情仇 颜狗实在是忍不住了,抛开对棒子的偏见,你们真的不觉得exo的吴... exo将参加acc天团巡演上海站演唱会!相关美照曝光! 让我们来聊聊极限挑战的张艺兴,exo的lay. 今年七月exo与自然乐园合约到期,如果新男团ntc代替,你,还会买... 阿里音乐独家#exo#6月9日大势回归(转载) exo的真爱粉看过来,玩偶太逆天了,我已看瞎对不上号,谁能告诉... exo上海拼盘演唱会主办方发退票公告 说一说从exo单飞的那三个吧 不止是好吃!exo颜值崛起,世勋金钟仁美如画! 粉丝高喊被骗要求退钱(转载) 当年因为'吴京' friends上海拼盘主办方诈骗exo粉丝 exo为何会这么火?看小鲜肉们如何\"装\"出来的</pre>"
      ],
      "text/plain": [
       "topic 9: 吴亦凡微博居然还在关注着exo-k和exo_m.还有张艺兴和鹿晗.而... 现实永远比小说有趣之《甄嬛传》-开扒exo四子的爱恨情仇 颜狗实在是忍不住了,抛开对棒子的偏见,你们真的不觉得exo的吴... exo将参加acc天团巡演上海站演唱会!相关美照曝光! 让我们来聊聊极限挑战的张艺兴,exo的lay. 今年七月exo与自然乐园合约到期,如果新男团ntc代替,你,还会买... 阿里音乐独家#exo#6月9日大势回归(转载) exo的真爱粉看过来,玩偶太逆天了,我已看瞎对不上号,谁能告诉... exo上海拼盘演唱会主办方发退票公告 说一说从exo单飞的那三个吧 不止是好吃!exo颜值崛起,世勋金钟仁美如画! 粉丝高喊被骗要求退钱(转载) 当年因为'吴京' friends上海拼盘主办方诈骗exo粉丝 exo为何会这么火?看小鲜肉们如何\"装\"出来的"
      ]
     },
     "metadata": {},
     "output_type": "display_data"
    },
    {
     "data": {
      "text/html": [
       "<pre>| 30        | 252.451ms     | 1.21922e+06    | 0               |</pre>"
      ],
      "text/plain": [
       "| 30        | 252.451ms     | 1.21922e+06    | 0               |"
      ]
     },
     "metadata": {},
     "output_type": "display_data"
    },
    {
     "data": {
      "text/html": [
       "<pre>topic 0: tfboys的长相吵起来了 天哪噜!我和同桌因为exo, 谁来爆爆exo四子的恩恩怨怨 神秘达人,痛快还原exo主打作品 吴亦凡鹿晗黄子韬.三小鲜肉回国撞衫 网友:确定不是在exo的队... 百度贴吧粉丝节上演snh48与exo粉丝团正面\"pk\"(转载) 吴亦凡微博居然还在关注着exo-k和exo_m.还有张艺兴和鹿晗.而... 吴京分不清exo是男是女被,exo粉丝要求普京道歉,哈哈我也是醉... exo为何会这么火?看小鲜肉们如何\"装\"出来的 让我们来聊聊极限挑战的张艺兴,exo的lay. exo上海拼盘演唱会主办方发退票公告 扒皮exo 说一说从exo单飞的那三个吧 我认为exo比tfboys更帅.</pre>"
      ],
      "text/plain": [
       "topic 0: tfboys的长相吵起来了 天哪噜!我和同桌因为exo, 谁来爆爆exo四子的恩恩怨怨 神秘达人,痛快还原exo主打作品 吴亦凡鹿晗黄子韬.三小鲜肉回国撞衫 网友:确定不是在exo的队... 百度贴吧粉丝节上演snh48与exo粉丝团正面\"pk\"(转载) 吴亦凡微博居然还在关注着exo-k和exo_m.还有张艺兴和鹿晗.而... 吴京分不清exo是男是女被,exo粉丝要求普京道歉,哈哈我也是醉... exo为何会这么火?看小鲜肉们如何\"装\"出来的 让我们来聊聊极限挑战的张艺兴,exo的lay. exo上海拼盘演唱会主办方发退票公告 扒皮exo 说一说从exo单飞的那三个吧 我认为exo比tfboys更帅."
      ]
     },
     "metadata": {},
     "output_type": "display_data"
    },
    {
     "data": {
      "text/html": [
       "<pre>topic 1: 侃爷 ~ exo吴亦凡 火火 *分享*【中外明星潮人街拍3.18号】 exo上海演唱会仅唱5首歌 听说许多人把tfboys叫挑粪男孩,exo为什么不叫野狗? exo的真爱粉看过来,玩偶太逆天了,我已看瞎对不上号,谁能告诉... 吴亦凡鹿晗黄子韬.三小鲜肉回国撞衫 关于exo那些事(转载) exo为何会这么火?看小鲜肉们如何\"装\"出来的 exo中饭都是夏雨荷 粉丝高喊被骗要求退钱(转载) 网友:确定不是在exo的队... exo吴亦凡鹿晗金秀贤</pre>"
      ],
      "text/plain": [
       "topic 1: 侃爷 ~ exo吴亦凡 火火 *分享*【中外明星潮人街拍3.18号】 exo上海演唱会仅唱5首歌 听说许多人把tfboys叫挑粪男孩,exo为什么不叫野狗? exo的真爱粉看过来,玩偶太逆天了,我已看瞎对不上号,谁能告诉... 吴亦凡鹿晗黄子韬.三小鲜肉回国撞衫 关于exo那些事(转载) exo为何会这么火?看小鲜肉们如何\"装\"出来的 exo中饭都是夏雨荷 粉丝高喊被骗要求退钱(转载) 网友:确定不是在exo的队... exo吴亦凡鹿晗金秀贤"
      ]
     },
     "metadata": {},
     "output_type": "display_data"
    },
    {
     "data": {
      "text/html": [
       "<pre>topic 2: 经过几天恶补,终于知道exo是谁了,可惜当我喜欢上他们时,三个... 神话,东方神起,exo,tf等大势偶像团体及相应成员\"狼性\"排行 exo大势哟 不止是好吃!exo颜值崛起,世勋金钟仁美如画! exo中饭都是夏雨荷 听说许多人把tfboys叫挑粪男孩,exo为什么不叫野狗? exo为何会这么火?看小鲜肉们如何\"装\"出来的 赶了个尾巴,突然迷上了exo的朴灿烈,自从看完大学一年级节目后... 关于exo那些事(转载) 今年七月exo与自然乐园合约到期,如果新男团ntc代替,你,还会买... exo发新专辑了!!大家都喜欢谁呀? 百度贴吧粉丝节上演snh48与exo粉丝团正面\"pk\"(转载) exo上海拼盘演唱会主办方发退票公告 台湾射飞弹炸死自己人,弯弯表示导弹射偏了还那么厉害?exo 终于见识到exo脑残粉的威力!!卧槽了!!</pre>"
      ],
      "text/plain": [
       "topic 2: 经过几天恶补,终于知道exo是谁了,可惜当我喜欢上他们时,三个... 神话,东方神起,exo,tf等大势偶像团体及相应成员\"狼性\"排行 exo大势哟 不止是好吃!exo颜值崛起,世勋金钟仁美如画! exo中饭都是夏雨荷 听说许多人把tfboys叫挑粪男孩,exo为什么不叫野狗? exo为何会这么火?看小鲜肉们如何\"装\"出来的 赶了个尾巴,突然迷上了exo的朴灿烈,自从看完大学一年级节目后... 关于exo那些事(转载) 今年七月exo与自然乐园合约到期,如果新男团ntc代替,你,还会买... exo发新专辑了!!大家都喜欢谁呀? 百度贴吧粉丝节上演snh48与exo粉丝团正面\"pk\"(转载) exo上海拼盘演唱会主办方发退票公告 台湾射飞弹炸死自己人,弯弯表示导弹射偏了还那么厉害?exo 终于见识到exo脑残粉的威力!!卧槽了!!"
      ]
     },
     "metadata": {},
     "output_type": "display_data"
    },
    {
     "data": {
      "text/html": [
       "<pre>topic 3: exo me?就觉得一身鸡皮疙瘩 看到别人回复 终于见识到exo脑残粉的威力!!卧槽了!! 赶了个尾巴,突然迷上了exo的朴灿烈,自从看完大学一年级节目后... 说一说从exo单飞的那三个吧 神秘达人,痛快还原exo主打作品 开贴问一下那栋楼exo八料楼里张艺兴的黑料都是真的吗?看完感... 小狮贝恩骗子爆exo成员灿烈遭粉丝高速路追车 exo为何会这么火?看小鲜肉们如何\"装\"出来的 exo上海拼盘演唱会主办方发退票公告 百度贴吧粉丝节上演snh48与exo粉丝团正面\"pk\"(转载) 谁来爆爆exo四子的恩恩怨怨 看看吴亦凡在演唱会一周前跑路后exo队员经历了什么 网友:确定不是在exo的队...</pre>"
      ],
      "text/plain": [
       "topic 3: exo me?就觉得一身鸡皮疙瘩 看到别人回复 终于见识到exo脑残粉的威力!!卧槽了!! 赶了个尾巴,突然迷上了exo的朴灿烈,自从看完大学一年级节目后... 说一说从exo单飞的那三个吧 神秘达人,痛快还原exo主打作品 开贴问一下那栋楼exo八料楼里张艺兴的黑料都是真的吗?看完感... 小狮贝恩骗子爆exo成员灿烈遭粉丝高速路追车 exo为何会这么火?看小鲜肉们如何\"装\"出来的 exo上海拼盘演唱会主办方发退票公告 百度贴吧粉丝节上演snh48与exo粉丝团正面\"pk\"(转载) 谁来爆爆exo四子的恩恩怨怨 看看吴亦凡在演唱会一周前跑路后exo队员经历了什么 网友:确定不是在exo的队..."
      ]
     },
     "metadata": {},
     "output_type": "display_data"
    },
    {
     "data": {
      "text/html": [
       "<pre>topic 4: k 被人说是男人的鼻子!exo 韩国花美男理想型女友曝光 me?? friends上海拼盘主办方诈骗exo粉丝 exo吴亦凡鹿晗金秀贤 朋友说像exo的一个明星?大家看看 exo发新专辑了!!大家都喜欢谁呀? 我认为exo比tfboys更帅. 小狮贝恩骗子爆exo成员灿烈遭粉丝高速路追车 吴亦凡微博居然还在关注着exo-k和exo_m.还有张艺兴和鹿晗.而... 求吴世勋鹿晗或exo成员的单人照 现实永远比小说有趣之《甄嬛传》-开扒exo四子的爱恨情仇 吴亦凡鹿晗黄子韬.三小鲜肉回国撞衫 *分享*【中外明星潮人街拍3.18号】</pre>"
      ],
      "text/plain": [
       "topic 4: k 被人说是男人的鼻子!exo 韩国花美男理想型女友曝光 me?? friends上海拼盘主办方诈骗exo粉丝 exo吴亦凡鹿晗金秀贤 朋友说像exo的一个明星?大家看看 exo发新专辑了!!大家都喜欢谁呀? 我认为exo比tfboys更帅. 小狮贝恩骗子爆exo成员灿烈遭粉丝高速路追车 吴亦凡微博居然还在关注着exo-k和exo_m.还有张艺兴和鹿晗.而... 求吴世勋鹿晗或exo成员的单人照 现实永远比小说有趣之《甄嬛传》-开扒exo四子的爱恨情仇 吴亦凡鹿晗黄子韬.三小鲜肉回国撞衫 *分享*【中外明星潮人街拍3.18号】"
      ]
     },
     "metadata": {},
     "output_type": "display_data"
    },
    {
     "data": {
      "text/html": [
       "<pre>topic 5: 致敬偶像exo 《燃少》致敬偶像exo 小样乳酸盐《燃少》李宇春\"添油\"舒淇\"吃醋\" 星海\"内斗\"李宇春乱入 扒皮exo 我认为exo比tfboys更帅. exo要集体拍电影了么? 开贴问一下那栋楼exo八料楼里张艺兴的黑料都是真的吗?看完感... 鹿晗吴亦凡黄子韬还有没有可能回归exo? 颜狗实在是忍不住了,抛开对棒子的偏见,你们真的不觉得exo的吴... 让我们来聊聊极限挑战的张艺兴,exo的lay. 关于exo那些事(转载) 小狮贝恩骗子爆exo成员灿烈遭粉丝高速路追车 exo中饭都是夏雨荷 吴京分不清exo是男是女被,exo粉丝要求普京道歉,哈哈我也是醉...</pre>"
      ],
      "text/plain": [
       "topic 5: 致敬偶像exo 《燃少》致敬偶像exo 小样乳酸盐《燃少》李宇春\"添油\"舒淇\"吃醋\" 星海\"内斗\"李宇春乱入 扒皮exo 我认为exo比tfboys更帅. exo要集体拍电影了么? 开贴问一下那栋楼exo八料楼里张艺兴的黑料都是真的吗?看完感... 鹿晗吴亦凡黄子韬还有没有可能回归exo? 颜狗实在是忍不住了,抛开对棒子的偏见,你们真的不觉得exo的吴... 让我们来聊聊极限挑战的张艺兴,exo的lay. 关于exo那些事(转载) 小狮贝恩骗子爆exo成员灿烈遭粉丝高速路追车 exo中饭都是夏雨荷 吴京分不清exo是男是女被,exo粉丝要求普京道歉,哈哈我也是醉..."
      ]
     },
     "metadata": {},
     "output_type": "display_data"
    },
    {
     "data": {
      "text/html": [
       "<pre>topic 6: krystal将出演中国电影《飞(转载) lay(张艺兴),f(x) exo2015广州演唱会~~~~有粉丝吗?~~~~~~~~~~~ 看看吴亦凡在演唱会一周前跑路后exo队员经历了什么 求吴世勋鹿晗或exo成员的单人照 exo发新专辑了!!大家都喜欢谁呀? exo上海拼盘演唱会主办方发退票公告 exo 朋友说像exo的一个明星?大家看看 exo的真爱粉看过来,玩偶太逆天了,我已看瞎对不上号,谁能告诉... 小狮贝恩骗子爆exo成员灿烈遭粉丝高速路追车 关于exo那些事(转载) 不止是好吃!exo颜值崛起,世勋金钟仁美如画! exo吴亦凡鹿晗金秀贤 让我们来聊聊极限挑战的张艺兴,exo的lay.</pre>"
      ],
      "text/plain": [
       "topic 6: krystal将出演中国电影《飞(转载) lay(张艺兴),f(x) exo2015广州演唱会~~~~有粉丝吗?~~~~~~~~~~~ 看看吴亦凡在演唱会一周前跑路后exo队员经历了什么 求吴世勋鹿晗或exo成员的单人照 exo发新专辑了!!大家都喜欢谁呀? exo上海拼盘演唱会主办方发退票公告 exo 朋友说像exo的一个明星?大家看看 exo的真爱粉看过来,玩偶太逆天了,我已看瞎对不上号,谁能告诉... 小狮贝恩骗子爆exo成员灿烈遭粉丝高速路追车 关于exo那些事(转载) 不止是好吃!exo颜值崛起,世勋金钟仁美如画! exo吴亦凡鹿晗金秀贤 让我们来聊聊极限挑战的张艺兴,exo的lay."
      ]
     },
     "metadata": {},
     "output_type": "display_data"
    },
    {
     "data": {
      "text/html": [
       "<pre>topic 7: 说不认识\"exo\",就去爆了'普京'吧的那支神鬼部... me... 当年因为'吴京' 台湾射飞弹炸死自己人,弯弯表示导弹射偏了还那么厉害?exo 吴京分不清exo是男是女被,exo粉丝要求普京道歉,哈哈我也是醉... exo要集体拍电影了么? 鹿晗吴亦凡黄子韬还有没有可能回归exo? 小狮贝恩骗子爆exo成员灿烈遭粉丝高速路追车 开贴问一下那栋楼exo八料楼里张艺兴的黑料都是真的吗?看完感... 百度贴吧粉丝节上演snh48与exo粉丝团正面\"pk\"(转载) 网友:确定不是在exo的队... 颜狗实在是忍不住了,抛开对棒子的偏见,你们真的不觉得exo的吴... 同事问我,如果她和我的狗同时掉进水里,我先救谁?我表示exo exo中饭都是夏雨荷 朋友说像exo的一个明星?大家看看</pre>"
      ],
      "text/plain": [
       "topic 7: 说不认识\"exo\",就去爆了'普京'吧的那支神鬼部... me... 当年因为'吴京' 台湾射飞弹炸死自己人,弯弯表示导弹射偏了还那么厉害?exo 吴京分不清exo是男是女被,exo粉丝要求普京道歉,哈哈我也是醉... exo要集体拍电影了么? 鹿晗吴亦凡黄子韬还有没有可能回归exo? 小狮贝恩骗子爆exo成员灿烈遭粉丝高速路追车 开贴问一下那栋楼exo八料楼里张艺兴的黑料都是真的吗?看完感... 百度贴吧粉丝节上演snh48与exo粉丝团正面\"pk\"(转载) 网友:确定不是在exo的队... 颜狗实在是忍不住了,抛开对棒子的偏见,你们真的不觉得exo的吴... 同事问我,如果她和我的狗同时掉进水里,我先救谁?我表示exo exo中饭都是夏雨荷 朋友说像exo的一个明星?大家看看"
      ]
     },
     "metadata": {},
     "output_type": "display_data"
    },
    {
     "data": {
      "text/html": [
       "<pre>topic 8: m... 雪藏exo? 同事问我,如果她和我的狗同时掉进水里,我先救谁?我表示exo 粉丝高喊被骗要求退钱(转载) exo上海演唱会仅唱5首歌 说一说从exo单飞的那三个吧 扒皮exo 开贴问一下那栋楼exo八料楼里张艺兴的黑料都是真的吗?看完感... 我认为exo比tfboys更帅. 关于exo那些事(转载) 鹿晗吴亦凡黄子韬还有没有可能回归exo? 谁来爆爆exo四子的恩恩怨怨 今年七月exo与自然乐园合约到期,如果新男团ntc代替,你,还会买... 网友:确定不是在exo的队... 星海\"内斗\"李宇春乱入</pre>"
      ],
      "text/plain": [
       "topic 8: m... 雪藏exo? 同事问我,如果她和我的狗同时掉进水里,我先救谁?我表示exo 粉丝高喊被骗要求退钱(转载) exo上海演唱会仅唱5首歌 说一说从exo单飞的那三个吧 扒皮exo 开贴问一下那栋楼exo八料楼里张艺兴的黑料都是真的吗?看完感... 我认为exo比tfboys更帅. 关于exo那些事(转载) 鹿晗吴亦凡黄子韬还有没有可能回归exo? 谁来爆爆exo四子的恩恩怨怨 今年七月exo与自然乐园合约到期,如果新男团ntc代替,你,还会买... 网友:确定不是在exo的队... 星海\"内斗\"李宇春乱入"
      ]
     },
     "metadata": {},
     "output_type": "display_data"
    },
    {
     "data": {
      "text/html": [
       "<pre>topic 9: 阿里音乐独家#exo#6月9日大势回归(转载) exo将参加acc天团巡演上海站演唱会!相关美照曝光! 现实永远比小说有趣之《甄嬛传》-开扒exo四子的爱恨情仇 颜狗实在是忍不住了,抛开对棒子的偏见,你们真的不觉得exo的吴... 今年七月exo与自然乐园合约到期,如果新男团ntc代替,你,还会买... exo的真爱粉看过来,玩偶太逆天了,我已看瞎对不上号,谁能告诉... 让我们来聊聊极限挑战的张艺兴,exo的lay. 吴亦凡微博居然还在关注着exo-k和exo_m.还有张艺兴和鹿晗.而... exo上海拼盘演唱会主办方发退票公告 粉丝高喊被骗要求退钱(转载) 朋友说像exo的一个明星?大家看看 天哪噜!我和同桌因为exo, 吴亦凡鹿晗黄子韬.三小鲜肉回国撞衫 说一说从exo单飞的那三个吧 百度贴吧粉丝节上演snh48与exo粉丝团正面\"pk\"(转载)</pre>"
      ],
      "text/plain": [
       "topic 9: 阿里音乐独家#exo#6月9日大势回归(转载) exo将参加acc天团巡演上海站演唱会!相关美照曝光! 现实永远比小说有趣之《甄嬛传》-开扒exo四子的爱恨情仇 颜狗实在是忍不住了,抛开对棒子的偏见,你们真的不觉得exo的吴... 今年七月exo与自然乐园合约到期,如果新男团ntc代替,你,还会买... exo的真爱粉看过来,玩偶太逆天了,我已看瞎对不上号,谁能告诉... 让我们来聊聊极限挑战的张艺兴,exo的lay. 吴亦凡微博居然还在关注着exo-k和exo_m.还有张艺兴和鹿晗.而... exo上海拼盘演唱会主办方发退票公告 粉丝高喊被骗要求退钱(转载) 朋友说像exo的一个明星?大家看看 天哪噜!我和同桌因为exo, 吴亦凡鹿晗黄子韬.三小鲜肉回国撞衫 说一说从exo单飞的那三个吧 百度贴吧粉丝节上演snh48与exo粉丝团正面\"pk\"(转载)"
      ]
     },
     "metadata": {},
     "output_type": "display_data"
    },
    {
     "data": {
      "text/html": [
       "<pre>| 40        | 343.197ms     | 1.56866e+06    | 0               |</pre>"
      ],
      "text/plain": [
       "| 40        | 343.197ms     | 1.56866e+06    | 0               |"
      ]
     },
     "metadata": {},
     "output_type": "display_data"
    },
    {
     "data": {
      "text/html": [
       "<pre>topic 0: 天哪噜!我和同桌因为exo, 吴亦凡鹿晗黄子韬.三小鲜肉回国撞衫 网友:确定不是在exo的队... tfboys的长相吵起来了 谁来爆爆exo四子的恩恩怨怨 神秘达人,痛快还原exo主打作品 百度贴吧粉丝节上演snh48与exo粉丝团正面\"pk\"(转载) 我认为exo比tfboys更帅. 吴亦凡微博居然还在关注着exo-k和exo_m.还有张艺兴和鹿晗.而... exo上海拼盘演唱会主办方发退票公告 让我们来聊聊极限挑战的张艺兴,exo的lay. 吴京分不清exo是男是女被,exo粉丝要求普京道歉,哈哈我也是醉... 星海\"内斗\"李宇春乱入 朋友说像exo的一个明星?大家看看 说一说从exo单飞的那三个吧</pre>"
      ],
      "text/plain": [
       "topic 0: 天哪噜!我和同桌因为exo, 吴亦凡鹿晗黄子韬.三小鲜肉回国撞衫 网友:确定不是在exo的队... tfboys的长相吵起来了 谁来爆爆exo四子的恩恩怨怨 神秘达人,痛快还原exo主打作品 百度贴吧粉丝节上演snh48与exo粉丝团正面\"pk\"(转载) 我认为exo比tfboys更帅. 吴亦凡微博居然还在关注着exo-k和exo_m.还有张艺兴和鹿晗.而... exo上海拼盘演唱会主办方发退票公告 让我们来聊聊极限挑战的张艺兴,exo的lay. 吴京分不清exo是男是女被,exo粉丝要求普京道歉,哈哈我也是醉... 星海\"内斗\"李宇春乱入 朋友说像exo的一个明星?大家看看 说一说从exo单飞的那三个吧"
      ]
     },
     "metadata": {},
     "output_type": "display_data"
    },
    {
     "data": {
      "text/html": [
       "<pre>topic 1: *分享*【中外明星潮人街拍3.18号】 ~ exo吴亦凡 侃爷 火火 exo为何会这么火?看小鲜肉们如何\"装\"出来的 exo中饭都是夏雨荷 exo发新专辑了!!大家都喜欢谁呀? 关于exo那些事(转载) 赶了个尾巴,突然迷上了exo的朴灿烈,自从看完大学一年级节目后... 鹿晗吴亦凡黄子韬还有没有可能回归exo? 开贴问一下那栋楼exo八料楼里张艺兴的黑料都是真的吗?看完感... 今年七月exo与自然乐园合约到期,如果新男团ntc代替,你,还会买... exo要集体拍电影了么? exo的真爱粉看过来,玩偶太逆天了,我已看瞎对不上号,谁能告诉...</pre>"
      ],
      "text/plain": [
       "topic 1: *分享*【中外明星潮人街拍3.18号】 ~ exo吴亦凡 侃爷 火火 exo为何会这么火?看小鲜肉们如何\"装\"出来的 exo中饭都是夏雨荷 exo发新专辑了!!大家都喜欢谁呀? 关于exo那些事(转载) 赶了个尾巴,突然迷上了exo的朴灿烈,自从看完大学一年级节目后... 鹿晗吴亦凡黄子韬还有没有可能回归exo? 开贴问一下那栋楼exo八料楼里张艺兴的黑料都是真的吗?看完感... 今年七月exo与自然乐园合约到期,如果新男团ntc代替,你,还会买... exo要集体拍电影了么? exo的真爱粉看过来,玩偶太逆天了,我已看瞎对不上号,谁能告诉..."
      ]
     },
     "metadata": {},
     "output_type": "display_data"
    },
    {
     "data": {
      "text/html": [
       "<pre>topic 2: 听说许多人把tfboys叫挑粪男孩,exo为什么不叫野狗? 经过几天恶补,终于知道exo是谁了,可惜当我喜欢上他们时,三个... 神话,东方神起,exo,tf等大势偶像团体及相应成员\"狼性\"排行 不止是好吃!exo颜值崛起,世勋金钟仁美如画! exo大势哟 关于exo那些事(转载) exo中饭都是夏雨荷 赶了个尾巴,突然迷上了exo的朴灿烈,自从看完大学一年级节目后... 今年七月exo与自然乐园合约到期,如果新男团ntc代替,你,还会买... 吴亦凡微博居然还在关注着exo-k和exo_m.还有张艺兴和鹿晗.而... exo为何会这么火?看小鲜肉们如何\"装\"出来的 现实永远比小说有趣之《甄嬛传》-开扒exo四子的爱恨情仇 颜狗实在是忍不住了,抛开对棒子的偏见,你们真的不觉得exo的吴... 百度贴吧粉丝节上演snh48与exo粉丝团正面\"pk\"(转载) exo发新专辑了!!大家都喜欢谁呀?</pre>"
      ],
      "text/plain": [
       "topic 2: 听说许多人把tfboys叫挑粪男孩,exo为什么不叫野狗? 经过几天恶补,终于知道exo是谁了,可惜当我喜欢上他们时,三个... 神话,东方神起,exo,tf等大势偶像团体及相应成员\"狼性\"排行 不止是好吃!exo颜值崛起,世勋金钟仁美如画! exo大势哟 关于exo那些事(转载) exo中饭都是夏雨荷 赶了个尾巴,突然迷上了exo的朴灿烈,自从看完大学一年级节目后... 今年七月exo与自然乐园合约到期,如果新男团ntc代替,你,还会买... 吴亦凡微博居然还在关注着exo-k和exo_m.还有张艺兴和鹿晗.而... exo为何会这么火?看小鲜肉们如何\"装\"出来的 现实永远比小说有趣之《甄嬛传》-开扒exo四子的爱恨情仇 颜狗实在是忍不住了,抛开对棒子的偏见,你们真的不觉得exo的吴... 百度贴吧粉丝节上演snh48与exo粉丝团正面\"pk\"(转载) exo发新专辑了!!大家都喜欢谁呀?"
      ]
     },
     "metadata": {},
     "output_type": "display_data"
    },
    {
     "data": {
      "text/html": [
       "<pre>topic 3: exo 终于见识到exo脑残粉的威力!!卧槽了!! 看到别人回复 me?就觉得一身鸡皮疙瘩 赶了个尾巴,突然迷上了exo的朴灿烈,自从看完大学一年级节目后... 神秘达人,痛快还原exo主打作品 说一说从exo单飞的那三个吧 exo为何会这么火?看小鲜肉们如何\"装\"出来的 小狮贝恩骗子爆exo成员灿烈遭粉丝高速路追车 krystal将出演中国电影《飞(转载) 网友:确定不是在exo的队... 开贴问一下那栋楼exo八料楼里张艺兴的黑料都是真的吗?看完感... 说不认识\"exo\",就去爆了'普京'吧的那支神鬼部... 鹿晗吴亦凡黄子韬还有没有可能回归exo? 神话,东方神起,exo,tf等大势偶像团体及相应成员\"狼性\"排行</pre>"
      ],
      "text/plain": [
       "topic 3: exo 终于见识到exo脑残粉的威力!!卧槽了!! 看到别人回复 me?就觉得一身鸡皮疙瘩 赶了个尾巴,突然迷上了exo的朴灿烈,自从看完大学一年级节目后... 神秘达人,痛快还原exo主打作品 说一说从exo单飞的那三个吧 exo为何会这么火?看小鲜肉们如何\"装\"出来的 小狮贝恩骗子爆exo成员灿烈遭粉丝高速路追车 krystal将出演中国电影《飞(转载) 网友:确定不是在exo的队... 开贴问一下那栋楼exo八料楼里张艺兴的黑料都是真的吗?看完感... 说不认识\"exo\",就去爆了'普京'吧的那支神鬼部... 鹿晗吴亦凡黄子韬还有没有可能回归exo? 神话,东方神起,exo,tf等大势偶像团体及相应成员\"狼性\"排行"
      ]
     },
     "metadata": {},
     "output_type": "display_data"
    },
    {
     "data": {
      "text/html": [
       "<pre>topic 4: k 韩国花美男理想型女友曝光 me?? friends上海拼盘主办方诈骗exo粉丝 被人说是男人的鼻子!exo exo吴亦凡鹿晗金秀贤 exo发新专辑了!!大家都喜欢谁呀? 朋友说像exo的一个明星?大家看看 tfboys的长相吵起来了 鹿晗吴亦凡黄子韬还有没有可能回归exo? 我认为exo比tfboys更帅. 神秘达人,痛快还原exo主打作品 小样乳酸盐《燃少》李宇春\"添油\"舒淇\"吃醋\" me... 听说许多人把tfboys叫挑粪男孩,exo为什么不叫野狗?</pre>"
      ],
      "text/plain": [
       "topic 4: k 韩国花美男理想型女友曝光 me?? friends上海拼盘主办方诈骗exo粉丝 被人说是男人的鼻子!exo exo吴亦凡鹿晗金秀贤 exo发新专辑了!!大家都喜欢谁呀? 朋友说像exo的一个明星?大家看看 tfboys的长相吵起来了 鹿晗吴亦凡黄子韬还有没有可能回归exo? 我认为exo比tfboys更帅. 神秘达人,痛快还原exo主打作品 小样乳酸盐《燃少》李宇春\"添油\"舒淇\"吃醋\" me... 听说许多人把tfboys叫挑粪男孩,exo为什么不叫野狗?"
      ]
     },
     "metadata": {},
     "output_type": "display_data"
    },
    {
     "data": {
      "text/html": [
       "<pre>topic 5: 《燃少》致敬偶像exo 小样乳酸盐《燃少》李宇春\"添油\"舒淇\"吃醋\" 致敬偶像exo 星海\"内斗\"李宇春乱入 exo要集体拍电影了么? 我认为exo比tfboys更帅. 让我们来聊聊极限挑战的张艺兴,exo的lay. 开贴问一下那栋楼exo八料楼里张艺兴的黑料都是真的吗?看完感... 今年七月exo与自然乐园合约到期,如果新男团ntc代替,你,还会买... 扒皮exo 小狮贝恩骗子爆exo成员灿烈遭粉丝高速路追车 颜狗实在是忍不住了,抛开对棒子的偏见,你们真的不觉得exo的吴... 鹿晗吴亦凡黄子韬还有没有可能回归exo? 关于exo那些事(转载) exo2015广州演唱会~~~~有粉丝吗?~~~~~~~~~~~</pre>"
      ],
      "text/plain": [
       "topic 5: 《燃少》致敬偶像exo 小样乳酸盐《燃少》李宇春\"添油\"舒淇\"吃醋\" 致敬偶像exo 星海\"内斗\"李宇春乱入 exo要集体拍电影了么? 我认为exo比tfboys更帅. 让我们来聊聊极限挑战的张艺兴,exo的lay. 开贴问一下那栋楼exo八料楼里张艺兴的黑料都是真的吗?看完感... 今年七月exo与自然乐园合约到期,如果新男团ntc代替,你,还会买... 扒皮exo 小狮贝恩骗子爆exo成员灿烈遭粉丝高速路追车 颜狗实在是忍不住了,抛开对棒子的偏见,你们真的不觉得exo的吴... 鹿晗吴亦凡黄子韬还有没有可能回归exo? 关于exo那些事(转载) exo2015广州演唱会~~~~有粉丝吗?~~~~~~~~~~~"
      ]
     },
     "metadata": {},
     "output_type": "display_data"
    },
    {
     "data": {
      "text/html": [
       "<pre>topic 6: lay(张艺兴),f(x) 看看吴亦凡在演唱会一周前跑路后exo队员经历了什么 exo2015广州演唱会~~~~有粉丝吗?~~~~~~~~~~~ krystal将出演中国电影《飞(转载) 求吴世勋鹿晗或exo成员的单人照 小狮贝恩骗子爆exo成员灿烈遭粉丝高速路追车 exo exo上海拼盘演唱会主办方发退票公告 exo发新专辑了!!大家都喜欢谁呀? 说一说从exo单飞的那三个吧 朋友说像exo的一个明星?大家看看 开贴问一下那栋楼exo八料楼里张艺兴的黑料都是真的吗?看完感... exo要集体拍电影了么? tfboys的长相吵起来了 听说许多人把tfboys叫挑粪男孩,exo为什么不叫野狗?</pre>"
      ],
      "text/plain": [
       "topic 6: lay(张艺兴),f(x) 看看吴亦凡在演唱会一周前跑路后exo队员经历了什么 exo2015广州演唱会~~~~有粉丝吗?~~~~~~~~~~~ krystal将出演中国电影《飞(转载) 求吴世勋鹿晗或exo成员的单人照 小狮贝恩骗子爆exo成员灿烈遭粉丝高速路追车 exo exo上海拼盘演唱会主办方发退票公告 exo发新专辑了!!大家都喜欢谁呀? 说一说从exo单飞的那三个吧 朋友说像exo的一个明星?大家看看 开贴问一下那栋楼exo八料楼里张艺兴的黑料都是真的吗?看完感... exo要集体拍电影了么? tfboys的长相吵起来了 听说许多人把tfboys叫挑粪男孩,exo为什么不叫野狗?"
      ]
     },
     "metadata": {},
     "output_type": "display_data"
    },
    {
     "data": {
      "text/html": [
       "<pre>topic 7: 台湾射飞弹炸死自己人,弯弯表示导弹射偏了还那么厉害?exo 当年因为'吴京' me... 说不认识\"exo\",就去爆了'普京'吧的那支神鬼部... 吴京分不清exo是男是女被,exo粉丝要求普京道歉,哈哈我也是醉... 鹿晗吴亦凡黄子韬还有没有可能回归exo? 开贴问一下那栋楼exo八料楼里张艺兴的黑料都是真的吗?看完感... exo要集体拍电影了么? 朋友说像exo的一个明星?大家看看 小狮贝恩骗子爆exo成员灿烈遭粉丝高速路追车 百度贴吧粉丝节上演snh48与exo粉丝团正面\"pk\"(转载) 阿里音乐独家#exo#6月9日大势回归(转载) 粉丝高喊被骗要求退钱(转载) exo上海拼盘演唱会主办方发退票公告 雪藏exo?</pre>"
      ],
      "text/plain": [
       "topic 7: 台湾射飞弹炸死自己人,弯弯表示导弹射偏了还那么厉害?exo 当年因为'吴京' me... 说不认识\"exo\",就去爆了'普京'吧的那支神鬼部... 吴京分不清exo是男是女被,exo粉丝要求普京道歉,哈哈我也是醉... 鹿晗吴亦凡黄子韬还有没有可能回归exo? 开贴问一下那栋楼exo八料楼里张艺兴的黑料都是真的吗?看完感... exo要集体拍电影了么? 朋友说像exo的一个明星?大家看看 小狮贝恩骗子爆exo成员灿烈遭粉丝高速路追车 百度贴吧粉丝节上演snh48与exo粉丝团正面\"pk\"(转载) 阿里音乐独家#exo#6月9日大势回归(转载) 粉丝高喊被骗要求退钱(转载) exo上海拼盘演唱会主办方发退票公告 雪藏exo?"
      ]
     },
     "metadata": {},
     "output_type": "display_data"
    },
    {
     "data": {
      "text/html": [
       "<pre>topic 8: 同事问我,如果她和我的狗同时掉进水里,我先救谁?我表示exo m... exo上海演唱会仅唱5首歌 粉丝高喊被骗要求退钱(转载) 雪藏exo? 扒皮exo 说一说从exo单飞的那三个吧 我认为exo比tfboys更帅. 谁来爆爆exo四子的恩恩怨怨 求吴世勋鹿晗或exo成员的单人照 百度贴吧粉丝节上演snh48与exo粉丝团正面\"pk\"(转载) 赶了个尾巴,突然迷上了exo的朴灿烈,自从看完大学一年级节目后... 现实永远比小说有趣之《甄嬛传》-开扒exo四子的爱恨情仇 今年七月exo与自然乐园合约到期,如果新男团ntc代替,你,还会买... 看看吴亦凡在演唱会一周前跑路后exo队员经历了什么</pre>"
      ],
      "text/plain": [
       "topic 8: 同事问我,如果她和我的狗同时掉进水里,我先救谁?我表示exo m... exo上海演唱会仅唱5首歌 粉丝高喊被骗要求退钱(转载) 雪藏exo? 扒皮exo 说一说从exo单飞的那三个吧 我认为exo比tfboys更帅. 谁来爆爆exo四子的恩恩怨怨 求吴世勋鹿晗或exo成员的单人照 百度贴吧粉丝节上演snh48与exo粉丝团正面\"pk\"(转载) 赶了个尾巴,突然迷上了exo的朴灿烈,自从看完大学一年级节目后... 现实永远比小说有趣之《甄嬛传》-开扒exo四子的爱恨情仇 今年七月exo与自然乐园合约到期,如果新男团ntc代替,你,还会买... 看看吴亦凡在演唱会一周前跑路后exo队员经历了什么"
      ]
     },
     "metadata": {},
     "output_type": "display_data"
    },
    {
     "data": {
      "text/html": [
       "<pre>topic 9: 阿里音乐独家#exo#6月9日大势回归(转载) exo将参加acc天团巡演上海站演唱会!相关美照曝光! exo的真爱粉看过来,玩偶太逆天了,我已看瞎对不上号,谁能告诉... 颜狗实在是忍不住了,抛开对棒子的偏见,你们真的不觉得exo的吴... 现实永远比小说有趣之《甄嬛传》-开扒exo四子的爱恨情仇 吴亦凡微博居然还在关注着exo-k和exo_m.还有张艺兴和鹿晗.而... 今年七月exo与自然乐园合约到期,如果新男团ntc代替,你,还会买... exo上海拼盘演唱会主办方发退票公告 让我们来聊聊极限挑战的张艺兴,exo的lay. 百度贴吧粉丝节上演snh48与exo粉丝团正面\"pk\"(转载) 朋友说像exo的一个明星?大家看看 雪藏exo? 我认为exo比tfboys更帅. 被人说是男人的鼻子!exo 小狮贝恩骗子爆exo成员灿烈遭粉丝高速路追车</pre>"
      ],
      "text/plain": [
       "topic 9: 阿里音乐独家#exo#6月9日大势回归(转载) exo将参加acc天团巡演上海站演唱会!相关美照曝光! exo的真爱粉看过来,玩偶太逆天了,我已看瞎对不上号,谁能告诉... 颜狗实在是忍不住了,抛开对棒子的偏见,你们真的不觉得exo的吴... 现实永远比小说有趣之《甄嬛传》-开扒exo四子的爱恨情仇 吴亦凡微博居然还在关注着exo-k和exo_m.还有张艺兴和鹿晗.而... 今年七月exo与自然乐园合约到期,如果新男团ntc代替,你,还会买... exo上海拼盘演唱会主办方发退票公告 让我们来聊聊极限挑战的张艺兴,exo的lay. 百度贴吧粉丝节上演snh48与exo粉丝团正面\"pk\"(转载) 朋友说像exo的一个明星?大家看看 雪藏exo? 我认为exo比tfboys更帅. 被人说是男人的鼻子!exo 小狮贝恩骗子爆exo成员灿烈遭粉丝高速路追车"
      ]
     },
     "metadata": {},
     "output_type": "display_data"
    },
    {
     "data": {
      "text/html": [
       "<pre>| 50        | 439.303ms     | 1.20629e+06    | 0               |</pre>"
      ],
      "text/plain": [
       "| 50        | 439.303ms     | 1.20629e+06    | 0               |"
      ]
     },
     "metadata": {},
     "output_type": "display_data"
    },
    {
     "data": {
      "text/html": [
       "<pre>topic 0: tfboys的长相吵起来了 吴亦凡鹿晗黄子韬.三小鲜肉回国撞衫 天哪噜!我和同桌因为exo, 网友:确定不是在exo的队... 谁来爆爆exo四子的恩恩怨怨 百度贴吧粉丝节上演snh48与exo粉丝团正面\"pk\"(转载) 神秘达人,痛快还原exo主打作品 颜狗实在是忍不住了,抛开对棒子的偏见,你们真的不觉得exo的吴... 吴亦凡微博居然还在关注着exo-k和exo_m.还有张艺兴和鹿晗.而... 我认为exo比tfboys更帅. 让我们来聊聊极限挑战的张艺兴,exo的lay. 现实永远比小说有趣之《甄嬛传》-开扒exo四子的爱恨情仇 神话,东方神起,exo,tf等大势偶像团体及相应成员\"狼性\"排行 求吴世勋鹿晗或exo成员的单人照 exo上海拼盘演唱会主办方发退票公告</pre>"
      ],
      "text/plain": [
       "topic 0: tfboys的长相吵起来了 吴亦凡鹿晗黄子韬.三小鲜肉回国撞衫 天哪噜!我和同桌因为exo, 网友:确定不是在exo的队... 谁来爆爆exo四子的恩恩怨怨 百度贴吧粉丝节上演snh48与exo粉丝团正面\"pk\"(转载) 神秘达人,痛快还原exo主打作品 颜狗实在是忍不住了,抛开对棒子的偏见,你们真的不觉得exo的吴... 吴亦凡微博居然还在关注着exo-k和exo_m.还有张艺兴和鹿晗.而... 我认为exo比tfboys更帅. 让我们来聊聊极限挑战的张艺兴,exo的lay. 现实永远比小说有趣之《甄嬛传》-开扒exo四子的爱恨情仇 神话,东方神起,exo,tf等大势偶像团体及相应成员\"狼性\"排行 求吴世勋鹿晗或exo成员的单人照 exo上海拼盘演唱会主办方发退票公告"
      ]
     },
     "metadata": {},
     "output_type": "display_data"
    },
    {
     "data": {
      "text/html": [
       "<pre>topic 1: *分享*【中外明星潮人街拍3.18号】 exo吴亦凡 侃爷 火火 ~ exo为何会这么火?看小鲜肉们如何\"装\"出来的 exo中饭都是夏雨荷 exo要集体拍电影了么? 说一说从exo单飞的那三个吧 exo将参加acc天团巡演上海站演唱会!相关美照曝光! 台湾射飞弹炸死自己人,弯弯表示导弹射偏了还那么厉害?exo 关于exo那些事(转载) 粉丝高喊被骗要求退钱(转载) exo发新专辑了!!大家都喜欢谁呀? 雪藏exo?</pre>"
      ],
      "text/plain": [
       "topic 1: *分享*【中外明星潮人街拍3.18号】 exo吴亦凡 侃爷 火火 ~ exo为何会这么火?看小鲜肉们如何\"装\"出来的 exo中饭都是夏雨荷 exo要集体拍电影了么? 说一说从exo单飞的那三个吧 exo将参加acc天团巡演上海站演唱会!相关美照曝光! 台湾射飞弹炸死自己人,弯弯表示导弹射偏了还那么厉害?exo 关于exo那些事(转载) 粉丝高喊被骗要求退钱(转载) exo发新专辑了!!大家都喜欢谁呀? 雪藏exo?"
      ]
     },
     "metadata": {},
     "output_type": "display_data"
    },
    {
     "data": {
      "text/html": [
       "<pre>topic 2: exo大势哟 不止是好吃!exo颜值崛起,世勋金钟仁美如画! 经过几天恶补,终于知道exo是谁了,可惜当我喜欢上他们时,三个... 神话,东方神起,exo,tf等大势偶像团体及相应成员\"狼性\"排行 听说许多人把tfboys叫挑粪男孩,exo为什么不叫野狗? exo中饭都是夏雨荷 关于exo那些事(转载) 今年七月exo与自然乐园合约到期,如果新男团ntc代替,你,还会买... 赶了个尾巴,突然迷上了exo的朴灿烈,自从看完大学一年级节目后... 颜狗实在是忍不住了,抛开对棒子的偏见,你们真的不觉得exo的吴... exo上海拼盘演唱会主办方发退票公告 小狮贝恩骗子爆exo成员灿烈遭粉丝高速路追车 exo发新专辑了!!大家都喜欢谁呀? 台湾射飞弹炸死自己人,弯弯表示导弹射偏了还那么厉害?exo exo为何会这么火?看小鲜肉们如何\"装\"出来的</pre>"
      ],
      "text/plain": [
       "topic 2: exo大势哟 不止是好吃!exo颜值崛起,世勋金钟仁美如画! 经过几天恶补,终于知道exo是谁了,可惜当我喜欢上他们时,三个... 神话,东方神起,exo,tf等大势偶像团体及相应成员\"狼性\"排行 听说许多人把tfboys叫挑粪男孩,exo为什么不叫野狗? exo中饭都是夏雨荷 关于exo那些事(转载) 今年七月exo与自然乐园合约到期,如果新男团ntc代替,你,还会买... 赶了个尾巴,突然迷上了exo的朴灿烈,自从看完大学一年级节目后... 颜狗实在是忍不住了,抛开对棒子的偏见,你们真的不觉得exo的吴... exo上海拼盘演唱会主办方发退票公告 小狮贝恩骗子爆exo成员灿烈遭粉丝高速路追车 exo发新专辑了!!大家都喜欢谁呀? 台湾射飞弹炸死自己人,弯弯表示导弹射偏了还那么厉害?exo exo为何会这么火?看小鲜肉们如何\"装\"出来的"
      ]
     },
     "metadata": {},
     "output_type": "display_data"
    },
    {
     "data": {
      "text/html": [
       "<pre>topic 3: exo me?就觉得一身鸡皮疙瘩 看到别人回复 终于见识到exo脑残粉的威力!!卧槽了!! 赶了个尾巴,突然迷上了exo的朴灿烈,自从看完大学一年级节目后... 神秘达人,痛快还原exo主打作品 开贴问一下那栋楼exo八料楼里张艺兴的黑料都是真的吗?看完感... 小狮贝恩骗子爆exo成员灿烈遭粉丝高速路追车 exo为何会这么火?看小鲜肉们如何\"装\"出来的 exo中饭都是夏雨荷 鹿晗吴亦凡黄子韬还有没有可能回归exo? exo要集体拍电影了么? 网友:确定不是在exo的队... 经过几天恶补,终于知道exo是谁了,可惜当我喜欢上他们时,三个... 说一说从exo单飞的那三个吧</pre>"
      ],
      "text/plain": [
       "topic 3: exo me?就觉得一身鸡皮疙瘩 看到别人回复 终于见识到exo脑残粉的威力!!卧槽了!! 赶了个尾巴,突然迷上了exo的朴灿烈,自从看完大学一年级节目后... 神秘达人,痛快还原exo主打作品 开贴问一下那栋楼exo八料楼里张艺兴的黑料都是真的吗?看完感... 小狮贝恩骗子爆exo成员灿烈遭粉丝高速路追车 exo为何会这么火?看小鲜肉们如何\"装\"出来的 exo中饭都是夏雨荷 鹿晗吴亦凡黄子韬还有没有可能回归exo? exo要集体拍电影了么? 网友:确定不是在exo的队... 经过几天恶补,终于知道exo是谁了,可惜当我喜欢上他们时,三个... 说一说从exo单飞的那三个吧"
      ]
     },
     "metadata": {},
     "output_type": "display_data"
    },
    {
     "data": {
      "text/html": [
       "<pre>topic 4: friends上海拼盘主办方诈骗exo粉丝 被人说是男人的鼻子!exo 韩国花美男理想型女友曝光 k exo吴亦凡鹿晗金秀贤 me?? 朋友说像exo的一个明星?大家看看 说一说从exo单飞的那三个吧 exo发新专辑了!!大家都喜欢谁呀? exo的真爱粉看过来,玩偶太逆天了,我已看瞎对不上号,谁能告诉... 求吴世勋鹿晗或exo成员的单人照 让我们来聊聊极限挑战的张艺兴,exo的lay. 现实永远比小说有趣之《甄嬛传》-开扒exo四子的爱恨情仇 m... 台湾射飞弹炸死自己人,弯弯表示导弹射偏了还那么厉害?exo</pre>"
      ],
      "text/plain": [
       "topic 4: friends上海拼盘主办方诈骗exo粉丝 被人说是男人的鼻子!exo 韩国花美男理想型女友曝光 k exo吴亦凡鹿晗金秀贤 me?? 朋友说像exo的一个明星?大家看看 说一说从exo单飞的那三个吧 exo发新专辑了!!大家都喜欢谁呀? exo的真爱粉看过来,玩偶太逆天了,我已看瞎对不上号,谁能告诉... 求吴世勋鹿晗或exo成员的单人照 让我们来聊聊极限挑战的张艺兴,exo的lay. 现实永远比小说有趣之《甄嬛传》-开扒exo四子的爱恨情仇 m... 台湾射飞弹炸死自己人,弯弯表示导弹射偏了还那么厉害?exo"
      ]
     },
     "metadata": {},
     "output_type": "display_data"
    },
    {
     "data": {
      "text/html": [
       "<pre>topic 5: 《燃少》致敬偶像exo 致敬偶像exo 星海\"内斗\"李宇春乱入 小样乳酸盐《燃少》李宇春\"添油\"舒淇\"吃醋\" 我认为exo比tfboys更帅. 让我们来聊聊极限挑战的张艺兴,exo的lay. 扒皮exo exo要集体拍电影了么? 关于exo那些事(转载) 小狮贝恩骗子爆exo成员灿烈遭粉丝高速路追车 鹿晗吴亦凡黄子韬还有没有可能回归exo? exo将参加acc天团巡演上海站演唱会!相关美照曝光! 今年七月exo与自然乐园合约到期,如果新男团ntc代替,你,还会买... 现实永远比小说有趣之《甄嬛传》-开扒exo四子的爱恨情仇 不止是好吃!exo颜值崛起,世勋金钟仁美如画!</pre>"
      ],
      "text/plain": [
       "topic 5: 《燃少》致敬偶像exo 致敬偶像exo 星海\"内斗\"李宇春乱入 小样乳酸盐《燃少》李宇春\"添油\"舒淇\"吃醋\" 我认为exo比tfboys更帅. 让我们来聊聊极限挑战的张艺兴,exo的lay. 扒皮exo exo要集体拍电影了么? 关于exo那些事(转载) 小狮贝恩骗子爆exo成员灿烈遭粉丝高速路追车 鹿晗吴亦凡黄子韬还有没有可能回归exo? exo将参加acc天团巡演上海站演唱会!相关美照曝光! 今年七月exo与自然乐园合约到期,如果新男团ntc代替,你,还会买... 现实永远比小说有趣之《甄嬛传》-开扒exo四子的爱恨情仇 不止是好吃!exo颜值崛起,世勋金钟仁美如画!"
      ]
     },
     "metadata": {},
     "output_type": "display_data"
    },
    {
     "data": {
      "text/html": [
       "<pre>topic 6: lay(张艺兴),f(x) krystal将出演中国电影《飞(转载) exo2015广州演唱会~~~~有粉丝吗?~~~~~~~~~~~ 求吴世勋鹿晗或exo成员的单人照 exo exo发新专辑了!!大家都喜欢谁呀? 看看吴亦凡在演唱会一周前跑路后exo队员经历了什么 听说许多人把tfboys叫挑粪男孩,exo为什么不叫野狗? 小狮贝恩骗子爆exo成员灿烈遭粉丝高速路追车 说一说从exo单飞的那三个吧 关于exo那些事(转载) exo上海拼盘演唱会主办方发退票公告 说不认识\"exo\",就去爆了'普京'吧的那支神鬼部... 当年因为'吴京' 神话,东方神起,exo,tf等大势偶像团体及相应成员\"狼性\"排行</pre>"
      ],
      "text/plain": [
       "topic 6: lay(张艺兴),f(x) krystal将出演中国电影《飞(转载) exo2015广州演唱会~~~~有粉丝吗?~~~~~~~~~~~ 求吴世勋鹿晗或exo成员的单人照 exo exo发新专辑了!!大家都喜欢谁呀? 看看吴亦凡在演唱会一周前跑路后exo队员经历了什么 听说许多人把tfboys叫挑粪男孩,exo为什么不叫野狗? 小狮贝恩骗子爆exo成员灿烈遭粉丝高速路追车 说一说从exo单飞的那三个吧 关于exo那些事(转载) exo上海拼盘演唱会主办方发退票公告 说不认识\"exo\",就去爆了'普京'吧的那支神鬼部... 当年因为'吴京' 神话,东方神起,exo,tf等大势偶像团体及相应成员\"狼性\"排行"
      ]
     },
     "metadata": {},
     "output_type": "display_data"
    },
    {
     "data": {
      "text/html": [
       "<pre>topic 7: me... 吴京分不清exo是男是女被,exo粉丝要求普京道歉,哈哈我也是醉... 说不认识\"exo\",就去爆了'普京'吧的那支神鬼部... 当年因为'吴京' 台湾射飞弹炸死自己人,弯弯表示导弹射偏了还那么厉害?exo 鹿晗吴亦凡黄子韬还有没有可能回归exo? exo要集体拍电影了么? 小狮贝恩骗子爆exo成员灿烈遭粉丝高速路追车 开贴问一下那栋楼exo八料楼里张艺兴的黑料都是真的吗?看完感... 关于exo那些事(转载) 朋友说像exo的一个明星?大家看看 看看吴亦凡在演唱会一周前跑路后exo队员经历了什么 阿里音乐独家#exo#6月9日大势回归(转载) exo上海演唱会仅唱5首歌 friends上海拼盘主办方诈骗exo粉丝</pre>"
      ],
      "text/plain": [
       "topic 7: me... 吴京分不清exo是男是女被,exo粉丝要求普京道歉,哈哈我也是醉... 说不认识\"exo\",就去爆了'普京'吧的那支神鬼部... 当年因为'吴京' 台湾射飞弹炸死自己人,弯弯表示导弹射偏了还那么厉害?exo 鹿晗吴亦凡黄子韬还有没有可能回归exo? exo要集体拍电影了么? 小狮贝恩骗子爆exo成员灿烈遭粉丝高速路追车 开贴问一下那栋楼exo八料楼里张艺兴的黑料都是真的吗?看完感... 关于exo那些事(转载) 朋友说像exo的一个明星?大家看看 看看吴亦凡在演唱会一周前跑路后exo队员经历了什么 阿里音乐独家#exo#6月9日大势回归(转载) exo上海演唱会仅唱5首歌 friends上海拼盘主办方诈骗exo粉丝"
      ]
     },
     "metadata": {},
     "output_type": "display_data"
    },
    {
     "data": {
      "text/html": [
       "<pre>topic 8: 同事问我,如果她和我的狗同时掉进水里,我先救谁?我表示exo m... 粉丝高喊被骗要求退钱(转载) exo上海演唱会仅唱5首歌 雪藏exo? 扒皮exo 说一说从exo单飞的那三个吧 看看吴亦凡在演唱会一周前跑路后exo队员经历了什么 百度贴吧粉丝节上演snh48与exo粉丝团正面\"pk\"(转载) 今年七月exo与自然乐园合约到期,如果新男团ntc代替,你,还会买... 我认为exo比tfboys更帅. 经过几天恶补,终于知道exo是谁了,可惜当我喜欢上他们时,三个... 让我们来聊聊极限挑战的张艺兴,exo的lay. 当年因为'吴京' exo为何会这么火?看小鲜肉们如何\"装\"出来的</pre>"
      ],
      "text/plain": [
       "topic 8: 同事问我,如果她和我的狗同时掉进水里,我先救谁?我表示exo m... 粉丝高喊被骗要求退钱(转载) exo上海演唱会仅唱5首歌 雪藏exo? 扒皮exo 说一说从exo单飞的那三个吧 看看吴亦凡在演唱会一周前跑路后exo队员经历了什么 百度贴吧粉丝节上演snh48与exo粉丝团正面\"pk\"(转载) 今年七月exo与自然乐园合约到期,如果新男团ntc代替,你,还会买... 我认为exo比tfboys更帅. 经过几天恶补,终于知道exo是谁了,可惜当我喜欢上他们时,三个... 让我们来聊聊极限挑战的张艺兴,exo的lay. 当年因为'吴京' exo为何会这么火?看小鲜肉们如何\"装\"出来的"
      ]
     },
     "metadata": {},
     "output_type": "display_data"
    },
    {
     "data": {
      "text/html": [
       "<pre>topic 9: exo的真爱粉看过来,玩偶太逆天了,我已看瞎对不上号,谁能告诉... 阿里音乐独家#exo#6月9日大势回归(转载) 吴亦凡微博居然还在关注着exo-k和exo_m.还有张艺兴和鹿晗.而... exo上海拼盘演唱会主办方发退票公告 exo将参加acc天团巡演上海站演唱会!相关美照曝光! 现实永远比小说有趣之《甄嬛传》-开扒exo四子的爱恨情仇 颜狗实在是忍不住了,抛开对棒子的偏见,你们真的不觉得exo的吴... 今年七月exo与自然乐园合约到期,如果新男团ntc代替,你,还会买... 让我们来聊聊极限挑战的张艺兴,exo的lay. 百度贴吧粉丝节上演snh48与exo粉丝团正面\"pk\"(转载) 小狮贝恩骗子爆exo成员灿烈遭粉丝高速路追车 终于见识到exo脑残粉的威力!!卧槽了!! 我认为exo比tfboys更帅. 雪藏exo? exo上海演唱会仅唱5首歌</pre>"
      ],
      "text/plain": [
       "topic 9: exo的真爱粉看过来,玩偶太逆天了,我已看瞎对不上号,谁能告诉... 阿里音乐独家#exo#6月9日大势回归(转载) 吴亦凡微博居然还在关注着exo-k和exo_m.还有张艺兴和鹿晗.而... exo上海拼盘演唱会主办方发退票公告 exo将参加acc天团巡演上海站演唱会!相关美照曝光! 现实永远比小说有趣之《甄嬛传》-开扒exo四子的爱恨情仇 颜狗实在是忍不住了,抛开对棒子的偏见,你们真的不觉得exo的吴... 今年七月exo与自然乐园合约到期,如果新男团ntc代替,你,还会买... 让我们来聊聊极限挑战的张艺兴,exo的lay. 百度贴吧粉丝节上演snh48与exo粉丝团正面\"pk\"(转载) 小狮贝恩骗子爆exo成员灿烈遭粉丝高速路追车 终于见识到exo脑残粉的威力!!卧槽了!! 我认为exo比tfboys更帅. 雪藏exo? exo上海演唱会仅唱5首歌"
      ]
     },
     "metadata": {},
     "output_type": "display_data"
    },
    {
     "data": {
      "text/html": [
       "<pre>+-----------+---------------+----------------+-----------------+</pre>"
      ],
      "text/plain": [
       "+-----------+---------------+----------------+-----------------+"
      ]
     },
     "metadata": {},
     "output_type": "display_data"
    }
   ],
   "source": [
    "m2 = graphlab.topic_model.create(docs,\n",
    "                                 num_topics=10,\n",
    "                                 num_iterations=50,\n",
    "                                 associations=associations, \n",
    "                                 verbose=True)"
   ]
  },
  {
   "cell_type": "code",
   "execution_count": 72,
   "metadata": {
    "collapsed": false
   },
   "outputs": [
    {
     "data": {
      "text/html": [
       "<div style=\"max-height:1000px;max-width:1500px;overflow:auto;\"><table frame=\"box\" rules=\"cols\">\n",
       "    <tr>\n",
       "        <th style=\"padding-left: 1em; padding-right: 1em; text-align: center\">topic</th>\n",
       "        <th style=\"padding-left: 1em; padding-right: 1em; text-align: center\">word</th>\n",
       "        <th style=\"padding-left: 1em; padding-right: 1em; text-align: center\">score</th>\n",
       "    </tr>\n",
       "    <tr>\n",
       "        <td style=\"padding-left: 1em; padding-right: 1em; text-align: center; vertical-align: top\">0</td>\n",
       "        <td style=\"padding-left: 1em; padding-right: 1em; text-align: center; vertical-align: top\">星海\"内斗\"李宇春�<br>�入 ...</td>\n",
       "        <td style=\"padding-left: 1em; padding-right: 1em; text-align: center; vertical-align: top\">0.147966829853</td>\n",
       "    </tr>\n",
       "    <tr>\n",
       "        <td style=\"padding-left: 1em; padding-right: 1em; text-align: center; vertical-align: top\">0</td>\n",
       "        <td style=\"padding-left: 1em; padding-right: 1em; text-align: center; vertical-align: top\">《燃少》致敬偶像e<br>xo ...</td>\n",
       "        <td style=\"padding-left: 1em; padding-right: 1em; text-align: center; vertical-align: top\">0.145968628235</td>\n",
       "    </tr>\n",
       "    <tr>\n",
       "        <td style=\"padding-left: 1em; padding-right: 1em; text-align: center; vertical-align: top\">0</td>\n",
       "        <td style=\"padding-left: 1em; padding-right: 1em; text-align: center; vertical-align: top\">网友:确定不是在exo<br>的队... ...</td>\n",
       "        <td style=\"padding-left: 1em; padding-right: 1em; text-align: center; vertical-align: top\">0.142971325807</td>\n",
       "    </tr>\n",
       "    <tr>\n",
       "        <td style=\"padding-left: 1em; padding-right: 1em; text-align: center; vertical-align: top\">0</td>\n",
       "        <td style=\"padding-left: 1em; padding-right: 1em; text-align: center; vertical-align: top\">吴亦凡鹿晗黄子韬.<br>三小鲜肉回国撞衫 ...</td>\n",
       "        <td style=\"padding-left: 1em; padding-right: 1em; text-align: center; vertical-align: top\">0.139974023379</td>\n",
       "    </tr>\n",
       "    <tr>\n",
       "        <td style=\"padding-left: 1em; padding-right: 1em; text-align: center; vertical-align: top\">0</td>\n",
       "        <td style=\"padding-left: 1em; padding-right: 1em; text-align: center; vertical-align: top\">现实永远比小说有�<br>��之《甄嬛传》-开� ...</td>\n",
       "        <td style=\"padding-left: 1em; padding-right: 1em; text-align: center; vertical-align: top\">0.129983015286</td>\n",
       "    </tr>\n",
       "    <tr>\n",
       "        <td style=\"padding-left: 1em; padding-right: 1em; text-align: center; vertical-align: top\">0</td>\n",
       "        <td style=\"padding-left: 1em; padding-right: 1em; text-align: center; vertical-align: top\">让我们来聊聊极限�<br>��战的张艺兴,exo的l ...</td>\n",
       "        <td style=\"padding-left: 1em; padding-right: 1em; text-align: center; vertical-align: top\">0.100009991008</td>\n",
       "    </tr>\n",
       "    <tr>\n",
       "        <td style=\"padding-left: 1em; padding-right: 1em; text-align: center; vertical-align: top\">0</td>\n",
       "        <td style=\"padding-left: 1em; padding-right: 1em; text-align: center; vertical-align: top\">朋友说像exo的一个�<br>��星?大家看看 ...</td>\n",
       "        <td style=\"padding-left: 1em; padding-right: 1em; text-align: center; vertical-align: top\">0.037066640024</td>\n",
       "    </tr>\n",
       "    <tr>\n",
       "        <td style=\"padding-left: 1em; padding-right: 1em; text-align: center; vertical-align: top\">0</td>\n",
       "        <td style=\"padding-left: 1em; padding-right: 1em; text-align: center; vertical-align: top\">百度贴吧粉丝节上�<br>��snh48与exo粉丝团正 ...</td>\n",
       "        <td style=\"padding-left: 1em; padding-right: 1em; text-align: center; vertical-align: top\">0.0360675392147</td>\n",
       "    </tr>\n",
       "    <tr>\n",
       "        <td style=\"padding-left: 1em; padding-right: 1em; text-align: center; vertical-align: top\">0</td>\n",
       "        <td style=\"padding-left: 1em; padding-right: 1em; text-align: center; vertical-align: top\">exo大势哟</td>\n",
       "        <td style=\"padding-left: 1em; padding-right: 1em; text-align: center; vertical-align: top\">0.0190828254571</td>\n",
       "    </tr>\n",
       "    <tr>\n",
       "        <td style=\"padding-left: 1em; padding-right: 1em; text-align: center; vertical-align: top\">0</td>\n",
       "        <td style=\"padding-left: 1em; padding-right: 1em; text-align: center; vertical-align: top\">经过几天恶补,终于<br>知道exo是谁了,可惜 ...</td>\n",
       "        <td style=\"padding-left: 1em; padding-right: 1em; text-align: center; vertical-align: top\">0.0180837246478</td>\n",
       "    </tr>\n",
       "</table>\n",
       "[100 rows x 3 columns]<br/>Note: Only the head of the SFrame is printed.<br/>You can use print_rows(num_rows=m, num_columns=n) to print more rows and columns.\n",
       "</div>"
      ],
      "text/plain": [
       "Columns:\n",
       "\ttopic\tint\n",
       "\tword\tstr\n",
       "\tscore\tfloat\n",
       "\n",
       "Rows: 100\n",
       "\n",
       "Data:\n",
       "+-------+-----------------------------------------------------+-----------------+\n",
       "| topic |                         word                        |      score      |\n",
       "+-------+-----------------------------------------------------+-----------------+\n",
       "|   0   |                 星海\"内斗\"李宇春乱入                |  0.147966829853 |\n",
       "|   0   |                 《燃少》致敬偶像exo                 |  0.145968628235 |\n",
       "|   0   |             网友:确定不是在exo的队......            |  0.142971325807 |\n",
       "|   0   |         吴亦凡鹿晗黄子韬.三小鲜肉回国撞衫...        |  0.139974023379 |\n",
       "|   0   | 现实永远比小说有趣之《甄嬛传》-开扒exo四子的爱恨... |  0.129983015286 |\n",
       "|   0   |      让我们来聊聊极限挑战的张艺兴,exo的lay....      |  0.100009991008 |\n",
       "|   0   |          朋友说像exo的一个明星?大家看看...          |  0.037066640024 |\n",
       "|   0   |     百度贴吧粉丝节上演snh48与exo粉丝团正面\"pk...    | 0.0360675392147 |\n",
       "|   0   |                      exo大势哟                      | 0.0190828254571 |\n",
       "|   0   |  经过几天恶补,终于知道exo是谁了,可惜当我喜欢上他... | 0.0180837246478 |\n",
       "+-------+-----------------------------------------------------+-----------------+\n",
       "[100 rows x 3 columns]\n",
       "Note: Only the head of the SFrame is printed.\n",
       "You can use print_rows(num_rows=m, num_columns=n) to print more rows and columns."
      ]
     },
     "execution_count": 72,
     "metadata": {},
     "output_type": "execute_result"
    }
   ],
   "source": [
    "m2.get_topics(num_words=10)"
   ]
  },
  {
   "cell_type": "markdown",
   "metadata": {},
   "source": [
    "### 分析：通过对文本进行主题建模，共产生十组50个主题。其中包括与内地男子团体TFboys等组合的比较、对于新专辑的讨论、以及对于“EXO”同人的幻想。\n",
    "### 在最后，也对主题模型的准确度进行验证，发现验证成绩一般，不够理想。\n"
   ]
  },
  {
   "cell_type": "code",
   "execution_count": null,
   "metadata": {
    "collapsed": true
   },
   "outputs": [],
   "source": []
  }
 ],
 "metadata": {
  "kernelspec": {
   "display_name": "Python 2",
   "language": "python",
   "name": "python2"
  },
  "language_info": {
   "codemirror_mode": {
    "name": "ipython",
    "version": 2
   },
   "file_extension": ".py",
   "mimetype": "text/x-python",
   "name": "python",
   "nbconvert_exporter": "python",
   "pygments_lexer": "ipython2",
   "version": "2.7.11"
  }
 },
 "nbformat": 4,
 "nbformat_minor": 0
}
