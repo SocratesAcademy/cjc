{
 "cells": [
  {
   "cell_type": "code",
   "execution_count": 1,
   "metadata": {
    "collapsed": true
   },
   "outputs": [],
   "source": [
    "%matplotlib inline\n",
    "import matplotlib.pyplot as plt"
   ]
  },
  {
   "cell_type": "markdown",
   "metadata": {},
   "source": [
    "### 导入matplotlib"
   ]
  },
  {
   "cell_type": "code",
   "execution_count": 2,
   "metadata": {
    "collapsed": false
   },
   "outputs": [
    {
     "data": {
      "text/plain": [
       "10393"
      ]
     },
     "execution_count": 2,
     "metadata": {},
     "output_type": "execute_result"
    }
   ],
   "source": [
    "dtt = []\n",
    "with open('/Users/user/Desktop/data/final_group_homework/tianya_bbs_threads_network1.txt', 'r') as f:\n",
    "    for line in f:\n",
    "        pnum, link, time, author_id, author, content = line.replace('\\n', '').split('\\t')\n",
    "        dtt.append([pnum, link, time, author_id, author, content])\n",
    "len(dtt)"
   ]
  },
  {
   "cell_type": "markdown",
   "metadata": {},
   "source": [
    "### 导入之前抓取好的天涯回帖数据"
   ]
  },
  {
   "cell_type": "code",
   "execution_count": 3,
   "metadata": {
    "collapsed": false
   },
   "outputs": [
    {
     "data": {
      "text/html": [
       "<div>\n",
       "<table border=\"1\" class=\"dataframe\">\n",
       "  <thead>\n",
       "    <tr style=\"text-align: right;\">\n",
       "      <th></th>\n",
       "      <th>page_num</th>\n",
       "      <th>link</th>\n",
       "      <th>time</th>\n",
       "      <th>author</th>\n",
       "      <th>author_name</th>\n",
       "      <th>reply</th>\n",
       "    </tr>\n",
       "  </thead>\n",
       "  <tbody>\n",
       "    <tr>\n",
       "      <th>0</th>\n",
       "      <td>1</td>\n",
       "      <td>/post-free-1358675-1.shtml</td>\n",
       "      <td>2008-07-07 00:14:00</td>\n",
       "      <td>17696881</td>\n",
       "      <td>拎菜刀</td>\n",
       "      <td>致版主：    鉴于本长篇具有很强的纪实性，所以文中会涉及到很多真实的商业名词，与广告没啥关...</td>\n",
       "    </tr>\n",
       "    <tr>\n",
       "      <th>1</th>\n",
       "      <td>1</td>\n",
       "      <td>/post-free-1358675-1.shtml</td>\n",
       "      <td>2008-07-07 00:27:24</td>\n",
       "      <td>15102217</td>\n",
       "      <td>文化认同统一之本</td>\n",
       "      <td>一楼看连载</td>\n",
       "    </tr>\n",
       "    <tr>\n",
       "      <th>2</th>\n",
       "      <td>1</td>\n",
       "      <td>/post-free-1358675-1.shtml</td>\n",
       "      <td>2008-07-07 00:27:41</td>\n",
       "      <td>17696881</td>\n",
       "      <td>拎菜刀</td>\n",
       "      <td>&lt;font color=blue&gt;&lt;a name=002&gt;&lt;/a&gt;　　2． 就这样上了黄船—...</td>\n",
       "    </tr>\n",
       "    <tr>\n",
       "      <th>3</th>\n",
       "      <td>1</td>\n",
       "      <td>/post-free-1358675-1.shtml</td>\n",
       "      <td>2008-07-07 00:28:05</td>\n",
       "      <td>16223044</td>\n",
       "      <td>玩的就是女人</td>\n",
       "      <td>沙发？？？？？？</td>\n",
       "    </tr>\n",
       "    <tr>\n",
       "      <th>4</th>\n",
       "      <td>1</td>\n",
       "      <td>/post-free-1358675-1.shtml</td>\n",
       "      <td>2008-07-07 00:35:57</td>\n",
       "      <td>12226058</td>\n",
       "      <td>草发</td>\n",
       "      <td>香烟的事说完了？　　又来情趣店的事了？　　谁再来个卖包子的事。。。。</td>\n",
       "    </tr>\n",
       "  </tbody>\n",
       "</table>\n",
       "</div>"
      ],
      "text/plain": [
       "  page_num                        link                 time    author  \\\n",
       "0        1  /post-free-1358675-1.shtml  2008-07-07 00:14:00  17696881   \n",
       "1        1  /post-free-1358675-1.shtml  2008-07-07 00:27:24  15102217   \n",
       "2        1  /post-free-1358675-1.shtml  2008-07-07 00:27:41  17696881   \n",
       "3        1  /post-free-1358675-1.shtml  2008-07-07 00:28:05  16223044   \n",
       "4        1  /post-free-1358675-1.shtml  2008-07-07 00:35:57  12226058   \n",
       "\n",
       "  author_name                                              reply  \n",
       "0         拎菜刀  致版主：    鉴于本长篇具有很强的纪实性，所以文中会涉及到很多真实的商业名词，与广告没啥关...  \n",
       "1    文化认同统一之本                                              一楼看连载  \n",
       "2         拎菜刀  <font color=blue><a name=002></a>　　2． 就这样上了黄船—...  \n",
       "3      玩的就是女人                                           沙发？？？？？？  \n",
       "4          草发                 香烟的事说完了？　　又来情趣店的事了？　　谁再来个卖包子的事。。。。  "
      ]
     },
     "execution_count": 3,
     "metadata": {},
     "output_type": "execute_result"
    }
   ],
   "source": [
    "import pandas as pd\n",
    "dt = pd.DataFrame(dtt)\n",
    "dt=dt.rename(columns = {0:'page_num', 1:'link', 2:'time', 3:'author',4:'author_name', 5:'reply'})\n",
    "dt[:5]"
   ]
  },
  {
   "cell_type": "markdown",
   "metadata": {},
   "source": [
    "### 导入pandas，打印前5条回帖"
   ]
  },
  {
   "cell_type": "code",
   "execution_count": 4,
   "metadata": {
    "collapsed": true
   },
   "outputs": [],
   "source": [
    "# extract date from datetime\n",
    "date = map(lambda x: x[:10], dt.time)\n",
    "dt['date'] = pd.to_datetime(date)"
   ]
  },
  {
   "cell_type": "code",
   "execution_count": 5,
   "metadata": {
    "collapsed": false
   },
   "outputs": [
    {
     "data": {
      "text/html": [
       "<div>\n",
       "<table border=\"1\" class=\"dataframe\">\n",
       "  <thead>\n",
       "    <tr style=\"text-align: right;\">\n",
       "      <th></th>\n",
       "      <th>page_num</th>\n",
       "      <th>link</th>\n",
       "      <th>time</th>\n",
       "      <th>author</th>\n",
       "      <th>author_name</th>\n",
       "      <th>reply</th>\n",
       "      <th>date</th>\n",
       "    </tr>\n",
       "  </thead>\n",
       "  <tbody>\n",
       "    <tr>\n",
       "      <th>0</th>\n",
       "      <td>1</td>\n",
       "      <td>/post-free-1358675-1.shtml</td>\n",
       "      <td>2008-07-07 00:14:00</td>\n",
       "      <td>17696881</td>\n",
       "      <td>拎菜刀</td>\n",
       "      <td>致版主：    鉴于本长篇具有很强的纪实性，所以文中会涉及到很多真实的商业名词，与广告没啥关...</td>\n",
       "      <td>2008-07-07</td>\n",
       "    </tr>\n",
       "    <tr>\n",
       "      <th>1</th>\n",
       "      <td>1</td>\n",
       "      <td>/post-free-1358675-1.shtml</td>\n",
       "      <td>2008-07-07 00:27:24</td>\n",
       "      <td>15102217</td>\n",
       "      <td>文化认同统一之本</td>\n",
       "      <td>一楼看连载</td>\n",
       "      <td>2008-07-07</td>\n",
       "    </tr>\n",
       "    <tr>\n",
       "      <th>2</th>\n",
       "      <td>1</td>\n",
       "      <td>/post-free-1358675-1.shtml</td>\n",
       "      <td>2008-07-07 00:27:41</td>\n",
       "      <td>17696881</td>\n",
       "      <td>拎菜刀</td>\n",
       "      <td>&lt;font color=blue&gt;&lt;a name=002&gt;&lt;/a&gt;　　2． 就这样上了黄船—...</td>\n",
       "      <td>2008-07-07</td>\n",
       "    </tr>\n",
       "    <tr>\n",
       "      <th>3</th>\n",
       "      <td>1</td>\n",
       "      <td>/post-free-1358675-1.shtml</td>\n",
       "      <td>2008-07-07 00:28:05</td>\n",
       "      <td>16223044</td>\n",
       "      <td>玩的就是女人</td>\n",
       "      <td>沙发？？？？？？</td>\n",
       "      <td>2008-07-07</td>\n",
       "    </tr>\n",
       "    <tr>\n",
       "      <th>4</th>\n",
       "      <td>1</td>\n",
       "      <td>/post-free-1358675-1.shtml</td>\n",
       "      <td>2008-07-07 00:35:57</td>\n",
       "      <td>12226058</td>\n",
       "      <td>草发</td>\n",
       "      <td>香烟的事说完了？　　又来情趣店的事了？　　谁再来个卖包子的事。。。。</td>\n",
       "      <td>2008-07-07</td>\n",
       "    </tr>\n",
       "  </tbody>\n",
       "</table>\n",
       "</div>"
      ],
      "text/plain": [
       "  page_num                        link                 time    author  \\\n",
       "0        1  /post-free-1358675-1.shtml  2008-07-07 00:14:00  17696881   \n",
       "1        1  /post-free-1358675-1.shtml  2008-07-07 00:27:24  15102217   \n",
       "2        1  /post-free-1358675-1.shtml  2008-07-07 00:27:41  17696881   \n",
       "3        1  /post-free-1358675-1.shtml  2008-07-07 00:28:05  16223044   \n",
       "4        1  /post-free-1358675-1.shtml  2008-07-07 00:35:57  12226058   \n",
       "\n",
       "  author_name                                              reply       date  \n",
       "0         拎菜刀  致版主：    鉴于本长篇具有很强的纪实性，所以文中会涉及到很多真实的商业名词，与广告没啥关... 2008-07-07  \n",
       "1    文化认同统一之本                                              一楼看连载 2008-07-07  \n",
       "2         拎菜刀  <font color=blue><a name=002></a>　　2． 就这样上了黄船—... 2008-07-07  \n",
       "3      玩的就是女人                                           沙发？？？？？？ 2008-07-07  \n",
       "4          草发                 香烟的事说完了？　　又来情趣店的事了？　　谁再来个卖包子的事。。。。 2008-07-07  "
      ]
     },
     "execution_count": 5,
     "metadata": {},
     "output_type": "execute_result"
    }
   ],
   "source": [
    "dt[:5]"
   ]
  },
  {
   "cell_type": "code",
   "execution_count": 6,
   "metadata": {
    "collapsed": false
   },
   "outputs": [
    {
     "data": {
      "text/html": [
       "<div>\n",
       "<table border=\"1\" class=\"dataframe\">\n",
       "  <thead>\n",
       "    <tr style=\"text-align: right;\">\n",
       "      <th></th>\n",
       "      <th>title</th>\n",
       "      <th>link</th>\n",
       "      <th>author</th>\n",
       "      <th>author_page</th>\n",
       "      <th>click</th>\n",
       "      <th>reply</th>\n",
       "      <th>time</th>\n",
       "    </tr>\n",
       "  </thead>\n",
       "  <tbody>\n",
       "    <tr>\n",
       "      <th>0</th>\n",
       "      <td>情趣店里那些事儿---长篇纪实连载</td>\n",
       "      <td>/post-free-1358675-1.shtml</td>\n",
       "      <td>拎菜刀</td>\n",
       "      <td>http://www.tianya.cn/17696881</td>\n",
       "      <td>938472</td>\n",
       "      <td>6301</td>\n",
       "      <td>2008-07-07 00:14</td>\n",
       "    </tr>\n",
       "    <tr>\n",
       "      <th>1</th>\n",
       "      <td>今天晚上和老婆一起去逛了一次情趣用品店.</td>\n",
       "      <td>/post-free-1533379-1.shtml</td>\n",
       "      <td>张楚楼</td>\n",
       "      <td>http://www.tianya.cn/15801770</td>\n",
       "      <td>89462</td>\n",
       "      <td>534</td>\n",
       "      <td>2009-04-04 00:56</td>\n",
       "    </tr>\n",
       "  </tbody>\n",
       "</table>\n",
       "</div>"
      ],
      "text/plain": [
       "                  title                        link author  \\\n",
       "0     情趣店里那些事儿---长篇纪实连载  /post-free-1358675-1.shtml    拎菜刀   \n",
       "1  今天晚上和老婆一起去逛了一次情趣用品店.  /post-free-1533379-1.shtml    张楚楼   \n",
       "\n",
       "                     author_page   click  reply              time  \n",
       "0  http://www.tianya.cn/17696881  938472   6301  2008-07-07 00:14  \n",
       "1  http://www.tianya.cn/15801770   89462    534  2009-04-04 00:56  "
      ]
     },
     "execution_count": 6,
     "metadata": {},
     "output_type": "execute_result"
    }
   ],
   "source": [
    "import pandas as pd\n",
    "\n",
    "df = pd.read_csv('/Users/user/Desktop/data/final_group_homework/tianya_bbs_threads_list情趣.txt', sep = \"\\t\", header=None)\n",
    "df=df.rename(columns = {0:'title', 1:'link', 2:'author',3:'author_page', 4:'click', 5:'reply', 6:'time'})\n",
    "df[:2]"
   ]
  },
  {
   "cell_type": "markdown",
   "metadata": {},
   "source": [
    "### 导入之前抓取的所有关键词相关帖子，显示前两条的链接、作者ID、作者主页、点击数、回复数和发布时间"
   ]
  },
  {
   "cell_type": "code",
   "execution_count": 7,
   "metadata": {
    "collapsed": true
   },
   "outputs": [],
   "source": [
    "from collections import defaultdict\n",
    "\n",
    "link_user_dict = defaultdict(list)\n",
    "for i in range(len(dt)):\n",
    "    link_user_dict[dt.link[i]].append(dt.author[i])"
   ]
  },
  {
   "cell_type": "code",
   "execution_count": 8,
   "metadata": {
    "collapsed": false
   },
   "outputs": [
    {
     "data": {
      "text/html": [
       "<div>\n",
       "<table border=\"1\" class=\"dataframe\">\n",
       "  <thead>\n",
       "    <tr style=\"text-align: right;\">\n",
       "      <th></th>\n",
       "      <th>title</th>\n",
       "      <th>link</th>\n",
       "      <th>author</th>\n",
       "      <th>author_page</th>\n",
       "      <th>click</th>\n",
       "      <th>reply</th>\n",
       "      <th>time</th>\n",
       "      <th>user</th>\n",
       "    </tr>\n",
       "  </thead>\n",
       "  <tbody>\n",
       "    <tr>\n",
       "      <th>0</th>\n",
       "      <td>情趣店里那些事儿---长篇纪实连载</td>\n",
       "      <td>/post-free-1358675-1.shtml</td>\n",
       "      <td>拎菜刀</td>\n",
       "      <td>http://www.tianya.cn/17696881</td>\n",
       "      <td>938472</td>\n",
       "      <td>6301</td>\n",
       "      <td>2008-07-07 00:14</td>\n",
       "      <td>6159</td>\n",
       "    </tr>\n",
       "    <tr>\n",
       "      <th>1</th>\n",
       "      <td>今天晚上和老婆一起去逛了一次情趣用品店.</td>\n",
       "      <td>/post-free-1533379-1.shtml</td>\n",
       "      <td>张楚楼</td>\n",
       "      <td>http://www.tianya.cn/15801770</td>\n",
       "      <td>89462</td>\n",
       "      <td>534</td>\n",
       "      <td>2009-04-04 00:56</td>\n",
       "      <td>495</td>\n",
       "    </tr>\n",
       "  </tbody>\n",
       "</table>\n",
       "</div>"
      ],
      "text/plain": [
       "                  title                        link author  \\\n",
       "0     情趣店里那些事儿---长篇纪实连载  /post-free-1358675-1.shtml    拎菜刀   \n",
       "1  今天晚上和老婆一起去逛了一次情趣用品店.  /post-free-1533379-1.shtml    张楚楼   \n",
       "\n",
       "                     author_page   click  reply              time  user  \n",
       "0  http://www.tianya.cn/17696881  938472   6301  2008-07-07 00:14  6159  \n",
       "1  http://www.tianya.cn/15801770   89462    534  2009-04-04 00:56   495  "
      ]
     },
     "execution_count": 8,
     "metadata": {},
     "output_type": "execute_result"
    }
   ],
   "source": [
    "df['user'] = [len(link_user_dict[l]) for l in df.link]\n",
    "df[:2] "
   ]
  },
  {
   "cell_type": "code",
   "execution_count": 9,
   "metadata": {
    "collapsed": false
   },
   "outputs": [
    {
     "data": {
      "image/png": "[encoded data removed]",
      "text/plain": [
       "<matplotlib.figure.Figure at 0x1152b7e90>"
      ]
     },
     "metadata": {},
     "output_type": "display_data"
    }
   ],
   "source": [
    "import statsmodels.api as sm\n",
    "import numpy as np\n",
    "\n",
    "x = np.log(df.user+1)\n",
    "y = np.log(df.reply+1)\n",
    "xx = sm.add_constant(x, prepend=True)\n",
    "res = sm.OLS(y,xx).fit()\n",
    "constant,beta = res.params\n",
    "r2 = res.rsquared\n",
    "fig = plt.figure(figsize=(8, 4),facecolor='white')\n",
    "plt.plot(df.user, df.reply, 'rs', label= 'Data')\n",
    "plt.plot(np.exp(x), np.exp(constant + x*beta),\"-\", label = 'Fit')\n",
    "plt.yscale('log');plt.xscale('log')\n",
    "plt.xlabel(r'$Users$', fontsize = 20)\n",
    "plt.ylabel(r'$Replies$', fontsize = 20)\n",
    "plt.text(max(df.user)/300,max(df.reply)/20,\n",
    "         r'$\\beta$ = ' + str(round(beta,2)) +'\\n' + r'$R^2$ = ' + str(round(r2, 2)))\n",
    "plt.legend(loc=2,fontsize=10, numpoints=1)\n",
    "plt.axis('tight')\n",
    "plt.show()"
   ]
  },
  {
   "cell_type": "code",
   "execution_count": 10,
   "metadata": {
    "collapsed": false
   },
   "outputs": [
    {
     "data": {
      "image/png": "[encoded data removed]",
      "text/plain": [
       "<matplotlib.figure.Figure at 0x1152c4810>"
      ]
     },
     "metadata": {},
     "output_type": "display_data"
    }
   ],
   "source": [
    "x = np.log(df.user+1)\n",
    "y = np.log(df.click+1)\n",
    "xx = sm.add_constant(x, prepend=True)\n",
    "res = sm.OLS(y,xx).fit()\n",
    "constant,beta = res.params\n",
    "r2 = res.rsquared\n",
    "fig = plt.figure(figsize=(8, 4),facecolor='white')\n",
    "plt.plot(df.user, df.click, 'rs', label= 'Data')\n",
    "plt.plot(np.exp(x), np.exp(constant + x*beta),\"-\", label = 'Fit')\n",
    "plt.yscale('log');plt.xscale('log')\n",
    "plt.xlabel(r'$Users$', fontsize = 20)\n",
    "plt.ylabel(r'$Replies$', fontsize = 20)\n",
    "plt.text(max(df.user)/300,max(df.click)/20,\n",
    "         r'$\\beta$ = ' + str(round(beta,2)) +'\\n' + r'$R^2$ = ' + str(round(r2, 2)))\n",
    "plt.legend(loc=2,fontsize=10, numpoints=1)\n",
    "plt.axis('tight')\n",
    "plt.show()"
   ]
  },
  {
   "cell_type": "code",
   "execution_count": 11,
   "metadata": {
    "collapsed": false
   },
   "outputs": [
    {
     "data": {
      "text/plain": [
       "pandas.tslib.Timestamp"
      ]
     },
     "execution_count": 11,
     "metadata": {},
     "output_type": "execute_result"
    }
   ],
   "source": [
    "dt.time = pd.to_datetime(dt.time)\n",
    "dt['month'] = dt.time.dt.month\n",
    "dt['year'] = dt.time.dt.year\n",
    "dt['day'] = dt.time.dt.day\n",
    "type(dt.time[0])"
   ]
  },
  {
   "cell_type": "code",
   "execution_count": 12,
   "metadata": {
    "collapsed": true
   },
   "outputs": [],
   "source": [
    "d = dt.year.value_counts()\n",
    "dd = pd.DataFrame(d)\n",
    "dd = dd.sort_index(axis=0, ascending=True)\n",
    "ds = dd.cumsum()"
   ]
  },
  {
   "cell_type": "code",
   "execution_count": 13,
   "metadata": {
    "collapsed": true
   },
   "outputs": [],
   "source": [
    "def getDate(dat):\n",
    "    dat_date_str = map(lambda x: str(x) +'-01-01', dat.index)\n",
    "    dat_date = pd.to_datetime(dat_date_str)\n",
    "    return dat_date\n",
    "\n",
    "ds.date = getDate(ds)\n",
    "dd.date = getDate(dd)"
   ]
  },
  {
   "cell_type": "code",
   "execution_count": 14,
   "metadata": {
    "collapsed": false
   },
   "outputs": [
    {
     "data": {
      "image/png": "[encoded data removed]",
      "text/plain": [
       "<matplotlib.figure.Figure at 0x1153a14d0>"
      ]
     },
     "metadata": {},
     "output_type": "display_data"
    }
   ],
   "source": [
    "fig = plt.figure(figsize=(12,5))\n",
    "plt.plot(ds.date, ds.year, 'g-s', label = '$Cumulative\\: Number\\:of\\: Threads$')\n",
    "plt.plot(dd.date, dd.year, 'r-o', label = '$Yearly\\:Number\\:of\\:Threads$')\n",
    "plt.legend(loc=2,numpoints=1,fontsize=13)\n",
    "plt.show()"
   ]
  },
  {
   "cell_type": "code",
   "execution_count": 15,
   "metadata": {
    "collapsed": false
   },
   "outputs": [
    {
     "data": {
      "text/plain": [
       "0     致版主：    鉴于本长篇具有很强的纪实性，所以文中会涉及到很多真实的商业名词，与广告没啥关...\n",
       "1                                                 一楼看连载\n",
       "2     <font color=blue><a name=002></a>　　2． 就这样上了黄船—...\n",
       "3                                              沙发？？？？？？\n",
       "4                    香烟的事说完了？　　又来情趣店的事了？　　谁再来个卖包子的事。。。。\n",
       "5                                              潜力贴，留爪靠前\n",
       "6                            不会是我的第一个沙发吧？　　MS有广告的嫌疑哈，呵呵\n",
       "7                                    下一篇:真真假假催情药儿,明天上午发\n",
       "8                                        支持楼主，继续发帖。　　留名\n",
       "9                                              果然有点广告嫌疑\n",
       "10                    纪实性很强的长篇,商业名词难免,版主和看官谅解。因为真实，所以诱人\n",
       "11    <font color=blue><a name=002></a>　　　　3、催情药—情趣店...\n",
       "12                                                   留爪\n",
       "13                                        很新鲜，留个印子继续关注。\n",
       "14                                                 撑着看~\n",
       "15    <font color=blue><a name=004></a>　　3、催情药—情趣店里那...\n",
       "16                                      难道不适合本版胃口?人气好冷淡\n",
       "17    4．虚伪的婚内性—情趣店里那些事儿—长篇连载　　　　　　　　 客厅是贵妇,厨房是主妇,床上是...\n",
       "18                                                 强帖留名\n",
       "19                             情趣店还真没敢进去过　　在LZ贴里面张张见识也好\n",
       "20                                                   留名\n",
       "21                                             挺好！赶紧的直播\n",
       "22                                              果然是那点事儿\n",
       "23                                            快啊～帮楼主撑一小\n",
       "24                                                  拍抓~\n",
       "25                                                关注此帖!\n",
       "26                                           。。。。。。。。。。\n",
       "27                                       续发在45楼，兄弟姐妹齐捧场\n",
       "28                                先做个记号，职业没有贵贱，都是混口饭吃而已\n",
       "29             进过一次这类店，见到两女人在边买边研究假JJ和震蛋，都不好意思的离开了。。。。。\n",
       "30                                                    ３\n",
       "31    握个手。我是药店的，也卖一些情趣。但我和我的供货商也都坚持不卖有效的。奇怪的一次，我们明明已...\n",
       "32                                     先做个记号, 强贴, 顶!!!!\n",
       "33                                      晕。。。就真的那么一点事吗？！\n",
       "34                                              记号！！！！！\n",
       "35                                    楼主强人，网络宣传水平不减当年啊。\n",
       "36                                    这个，不要太监了，打个mark先。\n",
       "37                                              记号！！！！！\n",
       "38                           这个我要先MARK了.　　典型的HX社会的的学习帖啊\n",
       "39                                              不要是太监贴噢\n",
       "40                                                   记号\n",
       "41                                       现在不用催情药直接做FWC了\n",
       "42                                               健壮要靠自己\n",
       "43                                                 强帖留名\n",
       "44                                         这个帖子不太监的话 必火\n",
       "45                                            晕啊，怎么没有了？\n",
       "46       263？你都去那些聊天室阿?不知道以前经常看到的是不是你。99年上263一直到去年11月份。\n",
       "47                                         留名 ， 等下文~~~~\n",
       "48                                                和谐前留名\n",
       "49    玎玲,一个模样普通的女人,老公常年驻外,每年,只有一到两个月回国探亲。一室一厅的房子，守寡的...\n",
       "50    【事先声明】：我的打酱油诗，和LZ所说的，木有关系。 　　　　 　　《刀客赞》2008-7-...\n",
       "51                                               mark。。\n",
       "52                                                 mark\n",
       "53                                                前排占座!\n",
       "54                                              首页留名。。。\n",
       "Name: reply, dtype: object"
      ]
     },
     "execution_count": 15,
     "metadata": {},
     "output_type": "execute_result"
    }
   ],
   "source": [
    "dt.reply[:55]"
   ]
  },
  {
   "cell_type": "markdown",
   "metadata": {},
   "source": [
    "### 显示第1-54条回帖内容"
   ]
  },
  {
   "cell_type": "code",
   "execution_count": 48,
   "metadata": {
    "collapsed": false
   },
   "outputs": [
    {
     "name": "stdout",
     "output_type": "stream",
     "text": [
      "拎菜刀\n"
     ]
    }
   ],
   "source": [
    "import re\n",
    "tweet = u\"豌豆青青草上飞\t回复第3214楼，//@拎菜刀　　两年前的心血之作，自己回来串串门。此连载已经在2010年出版，书名为《成人之美  我开情趣店的那些日子》　　--------------------------　　阁下就是蔺德刚?!顶佩\"\n",
    "RTpattern = r'''//?@(\\w+)'''\n",
    "for word in re.findall(RTpattern, tweet, re.UNICODE):\n",
    "    print word"
   ]
  },
  {
   "cell_type": "markdown",
   "metadata": {},
   "source": [
    "### 提取被回复的人的ID"
   ]
  },
  {
   "cell_type": "code",
   "execution_count": 44,
   "metadata": {
    "collapsed": false
   },
   "outputs": [
    {
     "data": {
      "text/plain": [
       "[]"
      ]
     },
     "execution_count": 44,
     "metadata": {},
     "output_type": "execute_result"
    }
   ],
   "source": [
    "RTpattern = r'''@(\\w+)\\s'''\n",
    "re.findall(RTpattern, dt.reply[11].decode('utf8'), re.UNICODE)"
   ]
  },
  {
   "cell_type": "code",
   "execution_count": 45,
   "metadata": {
    "collapsed": false
   },
   "outputs": [
    {
     "name": "stdout",
     "output_type": "stream",
     "text": [
      "False\n"
     ]
    }
   ],
   "source": [
    "if re.findall(RTpattern, dt.reply[0].decode('utf8'), re.UNICODE):\n",
    "    print True\n",
    "else:\n",
    "    print False"
   ]
  },
  {
   "cell_type": "code",
   "execution_count": 46,
   "metadata": {
    "collapsed": true
   },
   "outputs": [],
   "source": [
    "for k, tweet in enumerate(dt.reply[62:65]):\n",
    "    tweet = tweet.decode('utf8')\n",
    "    RTpattern = r'''@(\\w+)\\s'''\n",
    "    for person in re.findall(RTpattern, tweet, re.UNICODE):\n",
    "        print k,'\\t',dt.author_name[k],'\\t', person,'\\t\\t', tweet[:30]"
   ]
  },
  {
   "cell_type": "code",
   "execution_count": 20,
   "metadata": {
    "collapsed": false
   },
   "outputs": [
    {
     "name": "stdout",
     "output_type": "stream",
     "text": [
      "问题是你怎么知道那么多是女人隐私呢.买东西的时候告诉你的吗\n"
     ]
    }
   ],
   "source": [
    "print dt.reply[80]"
   ]
  },
  {
   "cell_type": "code",
   "execution_count": 21,
   "metadata": {
    "collapsed": true
   },
   "outputs": [],
   "source": [
    "link_author_dict = {}\n",
    "for i in range(len(df)):\n",
    "    link_author_dict[df.link[i]] =df.author[i] \n",
    "    "
   ]
  },
  {
   "cell_type": "code",
   "execution_count": 22,
   "metadata": {
    "collapsed": true
   },
   "outputs": [],
   "source": [
    "graph = []\n",
    "for k, tweet in enumerate(dt.reply):\n",
    "    tweet = tweet.decode('utf8')\n",
    "    url = dt.link[k]\n",
    "    RTpattern = r'''@(\\w+)\\s'''\n",
    "    persons = re.findall(RTpattern, tweet, re.UNICODE)\n",
    "    if persons:\n",
    "        for person in persons:\n",
    "            graph.append([dt.author_name[k].decode('utf8'), person])\n",
    "    else:\n",
    "        graph.append( [dt.author_name[k].decode('utf8'), link_author_dict[url].decode('utf8')]  )\n",
    "        "
   ]
  },
  {
   "cell_type": "code",
   "execution_count": 23,
   "metadata": {
    "collapsed": false
   },
   "outputs": [
    {
     "data": {
      "text/plain": [
       "10424"
      ]
     },
     "execution_count": 23,
     "metadata": {},
     "output_type": "execute_result"
    }
   ],
   "source": [
    "len(graph)"
   ]
  },
  {
   "cell_type": "code",
   "execution_count": 24,
   "metadata": {
    "collapsed": false
   },
   "outputs": [
    {
     "name": "stdout",
     "output_type": "stream",
     "text": [
      "拎菜刀 拎菜刀\n",
      "文化认同统一之本 拎菜刀\n",
      "拎菜刀 拎菜刀\n"
     ]
    }
   ],
   "source": [
    "for x, y in graph[:3]:\n",
    "    print x, y"
   ]
  },
  {
   "cell_type": "code",
   "execution_count": 25,
   "metadata": {
    "collapsed": true
   },
   "outputs": [],
   "source": [
    "import networkx as nx"
   ]
  },
  {
   "cell_type": "code",
   "execution_count": 26,
   "metadata": {
    "collapsed": true
   },
   "outputs": [],
   "source": [
    "G = nx.DiGraph()\n",
    "for x,y in graph:\n",
    "    if x != y:\n",
    "        G.add_edge(x,y)"
   ]
  },
  {
   "cell_type": "code",
   "execution_count": 27,
   "metadata": {
    "collapsed": false
   },
   "outputs": [
    {
     "data": {
      "text/plain": [
       "'Name: \\nType: DiGraph\\nNumber of nodes: 4389\\nNumber of edges: 4445\\nAverage in degree:   1.0128\\nAverage out degree:   1.0128'"
      ]
     },
     "execution_count": 27,
     "metadata": {},
     "output_type": "execute_result"
    }
   ],
   "source": [
    "nx.info(G)"
   ]
  },
  {
   "cell_type": "code",
   "execution_count": 28,
   "metadata": {
    "collapsed": true
   },
   "outputs": [],
   "source": [
    "GU=G.to_undirected(reciprocal=True)\n",
    "graphs = list(nx.connected_component_subgraphs(GU))"
   ]
  },
  {
   "cell_type": "code",
   "execution_count": 29,
   "metadata": {
    "collapsed": false
   },
   "outputs": [
    {
     "data": {
      "text/plain": [
       "(4336, 19)"
      ]
     },
     "execution_count": 29,
     "metadata": {},
     "output_type": "execute_result"
    }
   ],
   "source": [
    "import numpy as np\n",
    "size = []\n",
    "for i in graphs:\n",
    "    size.append(len(i.nodes()))\n",
    "len(size), np.max(size)"
   ]
  },
  {
   "cell_type": "code",
   "execution_count": 30,
   "metadata": {
    "collapsed": false
   },
   "outputs": [
    {
     "data": {
      "text/plain": [
       "3"
      ]
     },
     "execution_count": 30,
     "metadata": {},
     "output_type": "execute_result"
    }
   ],
   "source": [
    "gs = []\n",
    "for i in graphs:\n",
    "    if len(i.nodes()) >5:\n",
    "        gs.append(i)\n",
    "len(gs)"
   ]
  },
  {
   "cell_type": "code",
   "execution_count": 31,
   "metadata": {
    "collapsed": false
   },
   "outputs": [
    {
     "name": "stdout",
     "output_type": "stream",
     "text": [
      "6\n",
      "19\n",
      "7\n"
     ]
    }
   ],
   "source": [
    "for g in gs:\n",
    "    print len(g.nodes())"
   ]
  },
  {
   "cell_type": "code",
   "execution_count": 32,
   "metadata": {
    "collapsed": false
   },
   "outputs": [
    {
     "data": {
      "text/plain": [
       "6"
      ]
     },
     "execution_count": 32,
     "metadata": {},
     "output_type": "execute_result"
    }
   ],
   "source": [
    "g_max = gs[0]\n",
    "len(g_max.nodes())"
   ]
  },
  {
   "cell_type": "code",
   "execution_count": 33,
   "metadata": {
    "collapsed": false
   },
   "outputs": [
    {
     "data": {
      "image/png": "[encoded data removed]",
      "text/plain": [
       "<matplotlib.figure.Figure at 0x11793bbd0>"
      ]
     },
     "metadata": {},
     "output_type": "display_data"
    }
   ],
   "source": [
    "pos = nx.spring_layout(g_max)          \n",
    "nx.draw(g_max,pos,with_labels=False,node_size = 30)  \n",
    "plt.show() "
   ]
  },
  {
   "cell_type": "markdown",
   "metadata": {},
   "source": [
    "### 定义一个布局，绘制规则图的图形"
   ]
  },
  {
   "cell_type": "code",
   "execution_count": null,
   "metadata": {
    "collapsed": true
   },
   "outputs": [],
   "source": []
  }
 ],
 "metadata": {
  "kernelspec": {
   "display_name": "Python 2",
   "language": "python",
   "name": "python2"
  },
  "language_info": {
   "codemirror_mode": {
    "name": "ipython",
    "version": 2
   },
   "file_extension": ".py",
   "mimetype": "text/x-python",
   "name": "python",
   "nbconvert_exporter": "python",
   "pygments_lexer": "ipython2",
   "version": "2.7.11"
  }
 },
 "nbformat": 4,
 "nbformat_minor": 0
}
