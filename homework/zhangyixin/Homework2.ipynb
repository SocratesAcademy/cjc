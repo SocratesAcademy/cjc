{
 "cells": [
  {
   "cell_type": "markdown",
   "metadata": {},
   "source": [
    "# 张艺馨 15210130100"
   ]
  },
  {
   "cell_type": "markdown",
   "metadata": {},
   "source": [
    "## 1.抓取47年政府工作报告"
   ]
  },
  {
   "cell_type": "code",
   "execution_count": 1,
   "metadata": {
    "collapsed": true
   },
   "outputs": [],
   "source": [
    "import urllib2\n",
    "from bs4 import BeautifulSoup"
   ]
  },
  {
   "cell_type": "code",
   "execution_count": 2,
   "metadata": {
    "collapsed": false
   },
   "outputs": [
    {
     "data": {
      "text/html": [
       "<iframe src=http://www.hprc.org.cn/wxzl/wxysl/lczf/ width=1000 height=500></iframe>"
      ],
      "text/plain": [
       "<IPython.core.display.HTML object>"
      ]
     },
     "execution_count": 2,
     "metadata": {},
     "output_type": "execute_result"
    }
   ],
   "source": [
    "from IPython.display import display_html, HTML\n",
    "HTML('<iframe src=http://www.hprc.org.cn/wxzl/wxysl/lczf/ width=1000 height=500></iframe>')"
   ]
  },
  {
   "cell_type": "code",
   "execution_count": 8,
   "metadata": {
    "collapsed": false
   },
   "outputs": [
    {
     "name": "stdout",
     "output_type": "stream",
     "text": [
      "47\n"
     ]
    }
   ],
   "source": [
    "url =\"http://www.hprc.org.cn/wxzl/wxysl/lczf/\"\n",
    "content=urllib2.urlopen(url).read().decode('gb18030')\n",
    "soup= BeautifulSoup(content,'html.parser')\n",
    "links=soup.find_all('td',{'class','bl'})\n",
    "print len(links)"
   ]
  },
  {
   "cell_type": "code",
   "execution_count": 12,
   "metadata": {
    "collapsed": false
   },
   "outputs": [],
   "source": [
    "hyperlinks=[url+i.a['href'].split('./')[1] for i in links]"
   ]
  },
  {
   "cell_type": "code",
   "execution_count": 15,
   "metadata": {
    "collapsed": false
   },
   "outputs": [
    {
     "data": {
      "text/plain": [
       "[u'http://www.hprc.org.cn/wxzl/wxysl/lczf/d12qgrdzfbg/201603/t20160318_369509.html',\n",
       " u'http://www.hprc.org.cn/wxzl/wxysl/lczf/d12qgrdzfbg/201503/t20150318_319434.html',\n",
       " u'http://www.hprc.org.cn/wxzl/wxysl/lczf/d12qgrdzfbg/201403/t20140315_270863.html',\n",
       " u'http://www.hprc.org.cn/wxzl/wxysl/lczf/d12qgrdzfbg/201402/t20140214_266528.html',\n",
       " u'http://www.hprc.org.cn/wxzl/wxysl/lczf/dishiyijie/201402/t20140214_266527.html',\n",
       " u'http://www.hprc.org.cn/wxzl/wxysl/lczf/dishiyijie/201103/t20110315_153641.html',\n",
       " u'http://www.hprc.org.cn/wxzl/wxysl/lczf/dishiyijie/201003/t20100315_44772.html',\n",
       " u'http://www.hprc.org.cn/wxzl/wxysl/lczf/dishiyijie/200908/t20090817_27504.html',\n",
       " u'http://www.hprc.org.cn/wxzl/wxysl/lczf/dishiyijie/200908/t20090817_27495.html',\n",
       " u'http://www.hprc.org.cn/wxzl/wxysl/lczf/dishiyijie_1/200908/t20090818_27775.html',\n",
       " u'http://www.hprc.org.cn/wxzl/wxysl/lczf/dishiyijie_1/200908/t20090818_27765.html',\n",
       " u'http://www.hprc.org.cn/wxzl/wxysl/lczf/dishiyijie_1/200908/t20090818_27757.html',\n",
       " u'http://www.hprc.org.cn/wxzl/wxysl/lczf/dishiyijie_1/200908/t20090818_27756.html',\n",
       " u'http://www.hprc.org.cn/wxzl/wxysl/lczf/dishiyijie_1/200908/t20090818_27753.html',\n",
       " u'http://www.hprc.org.cn/wxzl/wxysl/lczf/dishiyijie_2/200908/t20090818_27744.html',\n",
       " u'http://www.hprc.org.cn/wxzl/wxysl/lczf/dishiyijie_2/200908/t20090818_27741.html',\n",
       " u'http://www.hprc.org.cn/wxzl/wxysl/lczf/dishiyijie_2/200908/t20090818_27738.html',\n",
       " u'http://www.hprc.org.cn/wxzl/wxysl/lczf/dishiyijie_2/200908/t20090818_27737.html',\n",
       " u'http://www.hprc.org.cn/wxzl/wxysl/lczf/dishiyijie_2/200908/t20090818_27736.html',\n",
       " u'http://www.hprc.org.cn/wxzl/wxysl/lczf/dishiyijie_3/200908/t20090818_27709.html',\n",
       " u'http://www.hprc.org.cn/wxzl/wxysl/lczf/dishiyijie_3/200908/t20090818_27708.html',\n",
       " u'http://www.hprc.org.cn/wxzl/wxysl/lczf/dishiyijie_3/200908/t20090818_27707.html',\n",
       " u'http://www.hprc.org.cn/wxzl/wxysl/lczf/dishiyijie_3/200908/t20090818_27706.html',\n",
       " u'http://www.hprc.org.cn/wxzl/wxysl/lczf/dishiyijie_3/200908/t20090818_27705.html',\n",
       " u'http://www.hprc.org.cn/wxzl/wxysl/lczf/dishiyijie_4/200908/t20090818_27702.html',\n",
       " u'http://www.hprc.org.cn/wxzl/wxysl/lczf/dishiyijie_4/200908/t20090818_27700.html',\n",
       " u'http://www.hprc.org.cn/wxzl/wxysl/lczf/dishiyijie_4/200908/t20090818_27699.html',\n",
       " u'http://www.hprc.org.cn/wxzl/wxysl/lczf/dishiyijie_4/200908/t20090818_27678.html',\n",
       " u'http://www.hprc.org.cn/wxzl/wxysl/lczf/dishiyijie_4/200908/t20090818_27644.html',\n",
       " u'http://www.hprc.org.cn/wxzl/wxysl/lczf/dishiyijie_5/200908/t20090818_27642.html',\n",
       " u'http://www.hprc.org.cn/wxzl/wxysl/lczf/dishiyijie_5/200908/t20090818_27640.html',\n",
       " u'http://www.hprc.org.cn/wxzl/wxysl/lczf/dishiyijie_5/200908/t20090818_27616.html',\n",
       " u'http://www.hprc.org.cn/wxzl/wxysl/lczf/dishiyijie_5/200908/t20090818_27615.html',\n",
       " u'http://www.hprc.org.cn/wxzl/wxysl/lczf/dishiyijie_5/200908/t20090818_27614.html',\n",
       " u'http://www.hprc.org.cn/wxzl/wxysl/lczf/dishiyijie_6/200908/t20090818_27613.html',\n",
       " u'http://www.hprc.org.cn/wxzl/wxysl/lczf/dishiyijie_6/200908/t20090818_27612.html',\n",
       " u'http://www.hprc.org.cn/wxzl/wxysl/lczf/dishiyijie_6/200908/t20090818_27611.html',\n",
       " u'http://www.hprc.org.cn/wxzl/wxysl/lczf/dishiyijie_6/200908/t20090818_27567.html',\n",
       " u'http://www.hprc.org.cn/wxzl/wxysl/lczf/dishiyijie_6/200908/t20090818_27566.html',\n",
       " u'http://www.hprc.org.cn/wxzl/wxysl/lczf/dishiyijie_7/200908/t20090818_27565.html',\n",
       " u'http://www.hprc.org.cn/wxzl/wxysl/lczf/dishiyijie_8/200908/t20090818_27564.html',\n",
       " u'http://www.hprc.org.cn/wxzl/wxysl/lczf/dishiyijie_9/200908/t20090818_27562.html',\n",
       " u'http://www.hprc.org.cn/wxzl/wxysl/lczf/dishiyijie_9/200908/t20090818_27563.html',\n",
       " u'http://www.hprc.org.cn/wxzl/wxysl/lczf/dishiyijie_10/200908/t20090818_27561.html',\n",
       " u'http://www.hprc.org.cn/wxzl/wxysl/lczf/dishiyijie_10/200908/t20090818_27560.html',\n",
       " u'http://www.hprc.org.cn/wxzl/wxysl/lczf/dishiyijie_10/200908/t20090818_27559.html',\n",
       " u'http://www.hprc.org.cn/wxzl/wxysl/lczf/dishiyijie_10/200908/t20090818_27558.html']"
      ]
     },
     "execution_count": 15,
     "metadata": {},
     "output_type": "execute_result"
    }
   ],
   "source": [
    "hyperlinks"
   ]
  },
  {
   "cell_type": "code",
   "execution_count": 18,
   "metadata": {
    "collapsed": false,
    "scrolled": true
   },
   "outputs": [
    {
     "data": {
      "text/html": [
       "<iframe src=http://www.hprc.org.cn/wxzl/wxysl/lczf/dishiyijie/201003/t20100315_44772.html width=1000 height=500></iframe>"
      ],
      "text/plain": [
       "<IPython.core.display.HTML object>"
      ]
     },
     "execution_count": 18,
     "metadata": {},
     "output_type": "execute_result"
    }
   ],
   "source": [
    "from IPython.display import display_html, HTML\n",
    "HTML('<iframe src=http://www.hprc.org.cn/wxzl/wxysl/lczf/dishiyijie/201003/t20100315_44772.html \\\n",
    "width=1000 height=500></iframe>')"
   ]
  },
  {
   "cell_type": "code",
   "execution_count": 26,
   "metadata": {
    "collapsed": false
   },
   "outputs": [],
   "source": [
    "url_i=\"http://www.hprc.org.cn/wxzl/wxysl/lczf/dishiyijie/201003/t20100315_44772.html\"\n",
    "content = urllib2.urlopen(url_i).read().decode('gb18030')\n",
    "soup = BeautifulSoup(content,'html.parser')\n",
    "scripts=soup.find_all('script')"
   ]
  },
  {
   "cell_type": "code",
   "execution_count": 28,
   "metadata": {
    "collapsed": false
   },
   "outputs": [
    {
     "data": {
      "text/plain": [
       "6"
      ]
     },
     "execution_count": 28,
     "metadata": {},
     "output_type": "execute_result"
    }
   ],
   "source": [
    "countPage= int(''.join(scripts[1]).split('countPage = ')[1].split('//')[0])\n",
    "countPage"
   ]
  },
  {
   "cell_type": "code",
   "execution_count": null,
   "metadata": {
    "collapsed": true
   },
   "outputs": [],
   "source": [
    "def crawler(url_i):\n",
    "    content = urllib2.urlopen(url_i).read().decode('gb18030')  \n",
    "    soup = BeautifulSoup(content, 'html.parser') \n",
    "    year = soup.find('span', {'class', 'huang16c'}).text[:4]\n",
    "    year = int(year)\n",
    "    report = ''.join(s.text for s in soup('p'))\n",
    "    # 找到分页信息\n",
    "    scripts = soup.find_all('script')\n",
    "    countPage = int(''.join(scripts[1]).split('countPage = ')[1].split('//')[0])\n",
    "    if countPage == 1:\n",
    "        pass\n",
    "    else:\n",
    "        for i in range(1, countPage):\n",
    "            url_child = url_i.split('.html')[0] +'_'+str(i)+'.html'\n",
    "            content = urllib2.urlopen(url_child).read().decode('gb18030') \n",
    "            soup = BeautifulSoup(content) \n",
    "            report_child = ''.join(s.text for s in soup('p'))\n",
    "            report = report + report_child\n",
    "    return year, report"
   ]
  },
  {
   "cell_type": "markdown",
   "metadata": {},
   "source": [
    "## ——生成47年政府工作报告"
   ]
  },
  {
   "cell_type": "code",
   "execution_count": 37,
   "metadata": {
    "collapsed": false
   },
   "outputs": [],
   "source": [
    "reports = {}\n",
    "for link in hyperlinks:\n",
    "    year, report = crawler(link)\n",
    "    reports[year] = report \n",
    "with open ('/Users/zhangyixin/Desktop/cjc2016-gh-pages/data/gov_reports1954-2016.txt','wb') as f:\n",
    "    for r in reports:\n",
    "        line =str(r)+'\\t'+reports[r].replace('\\n','\\t')+'\\n'\n",
    "        f.write(line.encode('utf-8'))"
   ]
  },
  {
   "cell_type": "markdown",
   "metadata": {
    "collapsed": true
   },
   "source": [
    "## 2.抓取天涯论坛数据(以NBA为关键词)"
   ]
  },
  {
   "cell_type": "markdown",
   "metadata": {},
   "source": [
    "## 2.1"
   ]
  },
  {
   "cell_type": "code",
   "execution_count": 1,
   "metadata": {
    "collapsed": true
   },
   "outputs": [],
   "source": [
    "import urllib2\n",
    "from bs4 import BeautifulSoup"
   ]
  },
  {
   "cell_type": "code",
   "execution_count": 2,
   "metadata": {
    "collapsed": false,
    "scrolled": true
   },
   "outputs": [
    {
     "data": {
      "text/html": [
       "<iframe src=http://bbs.tianya.cn/list.jsp?item=free&nextid=%d&order=8&k=NBA width=1000 height=500></iframe>"
      ],
      "text/plain": [
       "<IPython.core.display.HTML object>"
      ]
     },
     "execution_count": 2,
     "metadata": {},
     "output_type": "execute_result"
    }
   ],
   "source": [
    "from IPython.display import display_html, HTML\n",
    "HTML('<iframe src=http://bbs.tianya.cn/list.jsp?item=free&nextid=%d&order=8&k=NBA width=1000 height=500></iframe>')"
   ]
  },
  {
   "cell_type": "code",
   "execution_count": 39,
   "metadata": {
    "collapsed": false
   },
   "outputs": [],
   "source": [
    "page_num = 0\n",
    "url = \"http://bbs.tianya.cn/list.jsp?item=free&nextid=%d&order=8&k=NBA\" % page_num\n",
    "content = urllib2.urlopen(url).read() \n",
    "soup = BeautifulSoup(content, \"lxml\") \n",
    "articles = soup.find_all('tr')"
   ]
  },
  {
   "cell_type": "code",
   "execution_count": 40,
   "metadata": {
    "collapsed": false
   },
   "outputs": [
    {
     "data": {
      "text/plain": [
       "51"
      ]
     },
     "execution_count": 40,
     "metadata": {},
     "output_type": "execute_result"
    }
   ],
   "source": [
    "len(articles)"
   ]
  },
  {
   "cell_type": "code",
   "execution_count": 41,
   "metadata": {
    "collapsed": false
   },
   "outputs": [],
   "source": [
    "def crawler(page_num, file_name):\n",
    "    try:\n",
    "        url = \"http://bbs.tianya.cn/list.jsp?item=free&nextid=%d&order=8&k=NBA\" % page_num\n",
    "        content = urllib2.urlopen(url).read() \n",
    "        soup = BeautifulSoup(content, \"lxml\") \n",
    "        articles = soup.find_all('tr')\n",
    "        for i in articles[1:]:\n",
    "            td = i.find_all('td')\n",
    "            title = td[0].text.strip()\n",
    "            title_url = td[0].a['href']\n",
    "            author = td[1].text\n",
    "            author_url = td[1].a['href']\n",
    "            views = td[2].text\n",
    "            replies = td[3].text\n",
    "            date = td[4]['title']\n",
    "            record = title + '\\t' + title_url+ '\\t' + author + '\\t'+ \\\n",
    "                        author_url + '\\t' + views+ '\\t'  + replies+ '\\t'+ date\n",
    "            with open(file_name,'a') as p: \n",
    "                        p.write(record.encode('utf-8')+\"\\n\") \n",
    "    except Exception, e:\n",
    "        print e\n",
    "        pass"
   ]
  },
  {
   "cell_type": "code",
   "execution_count": 42,
   "metadata": {
    "collapsed": false
   },
   "outputs": [
    {
     "name": "stdout",
     "output_type": "stream",
     "text": [
      "0\n",
      "1\n",
      "2\n",
      "3\n",
      "4\n",
      "5\n",
      "6\n",
      "7\n",
      "8\n",
      "9\n"
     ]
    }
   ],
   "source": [
    "for page_num in range(10):\n",
    "    print (page_num)\n",
    "    crawler(page_num, '/Users/zhangyixin/Documents/tianya_bbs_threads_list.txt') "
   ]
  },
  {
   "cell_type": "code",
   "execution_count": 7,
   "metadata": {
    "collapsed": false
   },
   "outputs": [
    {
     "data": {
      "text/html": [
       "<div>\n",
       "<table border=\"1\" class=\"dataframe\">\n",
       "  <thead>\n",
       "    <tr style=\"text-align: right;\">\n",
       "      <th></th>\n",
       "      <th>0</th>\n",
       "      <th>1</th>\n",
       "      <th>2</th>\n",
       "      <th>3</th>\n",
       "      <th>4</th>\n",
       "      <th>5</th>\n",
       "      <th>6</th>\n",
       "    </tr>\n",
       "  </thead>\n",
       "  <tbody>\n",
       "    <tr>\n",
       "      <th>0</th>\n",
       "      <td>从抵制家乐福到排斥NBA,中国又不高兴了?</td>\n",
       "      <td>/post-free-1858023-1.shtml</td>\n",
       "      <td>何小兽</td>\n",
       "      <td>http://www.tianya.cn/34099118</td>\n",
       "      <td>98506</td>\n",
       "      <td>507</td>\n",
       "      <td>2010-04-07 17:50</td>\n",
       "    </tr>\n",
       "    <tr>\n",
       "      <th>1</th>\n",
       "      <td>你想让汉语纯的像处女一样吗?——也谈无知的\"NBA\",\"CBA\"封杀</td>\n",
       "      <td>/post-free-1857987-1.shtml</td>\n",
       "      <td>xuxiao0519</td>\n",
       "      <td>http://www.tianya.cn/35320813</td>\n",
       "      <td>55311</td>\n",
       "      <td>416</td>\n",
       "      <td>2010-04-07 17:00</td>\n",
       "    </tr>\n",
       "    <tr>\n",
       "      <th>2</th>\n",
       "      <td>CCTV突然封杀NBA,惹千万球迷愤怒</td>\n",
       "      <td>/post-free-1270973-1.shtml</td>\n",
       "      <td>zbgtao</td>\n",
       "      <td>http://www.tianya.cn/14811793</td>\n",
       "      <td>30344</td>\n",
       "      <td>433</td>\n",
       "      <td>2008-05-25 11:51</td>\n",
       "    </tr>\n",
       "    <tr>\n",
       "      <th>3</th>\n",
       "      <td>NBA屏蔽了,\"CCTV\"呢?</td>\n",
       "      <td>/post-free-1857449-1.shtml</td>\n",
       "      <td>何仁勇</td>\n",
       "      <td>http://www.tianya.cn/7867608</td>\n",
       "      <td>27150</td>\n",
       "      <td>334</td>\n",
       "      <td>2010-04-07 09:59</td>\n",
       "    </tr>\n",
       "    <tr>\n",
       "      <th>4</th>\n",
       "      <td>cctv封杀NBA,大家都很捉急嘛,小小透一下</td>\n",
       "      <td>/post-free-1271933-1.shtml</td>\n",
       "      <td>沟是挤出来的</td>\n",
       "      <td>http://www.tianya.cn/7029557</td>\n",
       "      <td>26300</td>\n",
       "      <td>265</td>\n",
       "      <td>2008-05-25 21:33</td>\n",
       "    </tr>\n",
       "  </tbody>\n",
       "</table>\n",
       "</div>"
      ],
      "text/plain": [
       "                                    0                           1           2  \\\n",
       "0               从抵制家乐福到排斥NBA,中国又不高兴了?  /post-free-1858023-1.shtml         何小兽   \n",
       "1  你想让汉语纯的像处女一样吗?——也谈无知的\"NBA\",\"CBA\"封杀  /post-free-1857987-1.shtml  xuxiao0519   \n",
       "2                 CCTV突然封杀NBA,惹千万球迷愤怒  /post-free-1270973-1.shtml      zbgtao   \n",
       "3                     NBA屏蔽了,\"CCTV\"呢?  /post-free-1857449-1.shtml         何仁勇   \n",
       "4             cctv封杀NBA,大家都很捉急嘛,小小透一下  /post-free-1271933-1.shtml      沟是挤出来的   \n",
       "\n",
       "                               3      4    5                 6  \n",
       "0  http://www.tianya.cn/34099118  98506  507  2010-04-07 17:50  \n",
       "1  http://www.tianya.cn/35320813  55311  416  2010-04-07 17:00  \n",
       "2  http://www.tianya.cn/14811793  30344  433  2008-05-25 11:51  \n",
       "3   http://www.tianya.cn/7867608  27150  334  2010-04-07 09:59  \n",
       "4   http://www.tianya.cn/7029557  26300  265  2008-05-25 21:33  "
      ]
     },
     "execution_count": 7,
     "metadata": {},
     "output_type": "execute_result"
    }
   ],
   "source": [
    "import pandas as pd\n",
    "df = pd.read_csv('/Users/zhangyixin/Documents/tianya_bbs_threads_list.txt', sep = \"\\t\", header=None)\n",
    "df[:5]"
   ]
  },
  {
   "cell_type": "code",
   "execution_count": 8,
   "metadata": {
    "collapsed": false
   },
   "outputs": [
    {
     "data": {
      "text/plain": [
       "400"
      ]
     },
     "execution_count": 8,
     "metadata": {},
     "output_type": "execute_result"
    }
   ],
   "source": [
    "len(df)"
   ]
  },
  {
   "cell_type": "markdown",
   "metadata": {},
   "source": [
    "## ——生成帖子列表"
   ]
  },
  {
   "cell_type": "code",
   "execution_count": 9,
   "metadata": {
    "collapsed": false
   },
   "outputs": [
    {
     "data": {
      "text/html": [
       "<div>\n",
       "<table border=\"1\" class=\"dataframe\">\n",
       "  <thead>\n",
       "    <tr style=\"text-align: right;\">\n",
       "      <th></th>\n",
       "      <th>title</th>\n",
       "      <th>link</th>\n",
       "      <th>author</th>\n",
       "      <th>author_page</th>\n",
       "      <th>click</th>\n",
       "      <th>reply</th>\n",
       "      <th>time</th>\n",
       "    </tr>\n",
       "  </thead>\n",
       "  <tbody>\n",
       "    <tr>\n",
       "      <th>0</th>\n",
       "      <td>从抵制家乐福到排斥NBA,中国又不高兴了?</td>\n",
       "      <td>/post-free-1858023-1.shtml</td>\n",
       "      <td>何小兽</td>\n",
       "      <td>http://www.tianya.cn/34099118</td>\n",
       "      <td>98506</td>\n",
       "      <td>507</td>\n",
       "      <td>2010-04-07 17:50</td>\n",
       "    </tr>\n",
       "    <tr>\n",
       "      <th>1</th>\n",
       "      <td>你想让汉语纯的像处女一样吗?——也谈无知的\"NBA\",\"CBA\"封杀</td>\n",
       "      <td>/post-free-1857987-1.shtml</td>\n",
       "      <td>xuxiao0519</td>\n",
       "      <td>http://www.tianya.cn/35320813</td>\n",
       "      <td>55311</td>\n",
       "      <td>416</td>\n",
       "      <td>2010-04-07 17:00</td>\n",
       "    </tr>\n",
       "    <tr>\n",
       "      <th>2</th>\n",
       "      <td>CCTV突然封杀NBA,惹千万球迷愤怒</td>\n",
       "      <td>/post-free-1270973-1.shtml</td>\n",
       "      <td>zbgtao</td>\n",
       "      <td>http://www.tianya.cn/14811793</td>\n",
       "      <td>30344</td>\n",
       "      <td>433</td>\n",
       "      <td>2008-05-25 11:51</td>\n",
       "    </tr>\n",
       "    <tr>\n",
       "      <th>3</th>\n",
       "      <td>NBA屏蔽了,\"CCTV\"呢?</td>\n",
       "      <td>/post-free-1857449-1.shtml</td>\n",
       "      <td>何仁勇</td>\n",
       "      <td>http://www.tianya.cn/7867608</td>\n",
       "      <td>27150</td>\n",
       "      <td>334</td>\n",
       "      <td>2010-04-07 09:59</td>\n",
       "    </tr>\n",
       "    <tr>\n",
       "      <th>4</th>\n",
       "      <td>cctv封杀NBA,大家都很捉急嘛,小小透一下</td>\n",
       "      <td>/post-free-1271933-1.shtml</td>\n",
       "      <td>沟是挤出来的</td>\n",
       "      <td>http://www.tianya.cn/7029557</td>\n",
       "      <td>26300</td>\n",
       "      <td>265</td>\n",
       "      <td>2008-05-25 21:33</td>\n",
       "    </tr>\n",
       "    <tr>\n",
       "      <th>5</th>\n",
       "      <td>有关部门屏蔽\"NBA\",\"CBA\"和\"F1\"</td>\n",
       "      <td>/post-free-1858056-1.shtml</td>\n",
       "      <td>ommp</td>\n",
       "      <td>http://www.tianya.cn/8185191</td>\n",
       "      <td>22104</td>\n",
       "      <td>221</td>\n",
       "      <td>2010-04-07 18:31</td>\n",
       "    </tr>\n",
       "    <tr>\n",
       "      <th>6</th>\n",
       "      <td>不是每个人都懂NBA,那有又多少人懂CCTV呢?</td>\n",
       "      <td>/post-free-1857993-1.shtml</td>\n",
       "      <td>李诺言一世</td>\n",
       "      <td>http://www.tianya.cn/26387329</td>\n",
       "      <td>17095</td>\n",
       "      <td>124</td>\n",
       "      <td>2010-04-07 17:04</td>\n",
       "    </tr>\n",
       "    <tr>\n",
       "      <th>7</th>\n",
       "      <td>一个南方人笑看央视总将\"NBA\"说成\"嗯必~诶\"</td>\n",
       "      <td>/post-free-1051414-1.shtml</td>\n",
       "      <td>龙起头</td>\n",
       "      <td>http://www.tianya.cn/9500462</td>\n",
       "      <td>15005</td>\n",
       "      <td>405</td>\n",
       "      <td>2007-11-18 18:15</td>\n",
       "    </tr>\n",
       "    <tr>\n",
       "      <th>8</th>\n",
       "      <td>推测:中华人民共和国中央电视台为何封杀NBA</td>\n",
       "      <td>/post-free-1270514-1.shtml</td>\n",
       "      <td>hebe__pirlo</td>\n",
       "      <td>http://www.tianya.cn/12766691</td>\n",
       "      <td>14091</td>\n",
       "      <td>118</td>\n",
       "      <td>2008-05-25 00:47</td>\n",
       "    </tr>\n",
       "    <tr>\n",
       "      <th>9</th>\n",
       "      <td>滚开,什么世界杯!不要影响我看NBA总决赛!</td>\n",
       "      <td>/post-free-696485-1.shtml</td>\n",
       "      <td>JJ不再雄赳赳</td>\n",
       "      <td>http://www.tianya.cn/6966288</td>\n",
       "      <td>12182</td>\n",
       "      <td>366</td>\n",
       "      <td>2006-05-17 11:25</td>\n",
       "    </tr>\n",
       "  </tbody>\n",
       "</table>\n",
       "</div>"
      ],
      "text/plain": [
       "                                title                        link  \\\n",
       "0               从抵制家乐福到排斥NBA,中国又不高兴了?  /post-free-1858023-1.shtml   \n",
       "1  你想让汉语纯的像处女一样吗?——也谈无知的\"NBA\",\"CBA\"封杀  /post-free-1857987-1.shtml   \n",
       "2                 CCTV突然封杀NBA,惹千万球迷愤怒  /post-free-1270973-1.shtml   \n",
       "3                     NBA屏蔽了,\"CCTV\"呢?  /post-free-1857449-1.shtml   \n",
       "4             cctv封杀NBA,大家都很捉急嘛,小小透一下  /post-free-1271933-1.shtml   \n",
       "5              有关部门屏蔽\"NBA\",\"CBA\"和\"F1\"  /post-free-1858056-1.shtml   \n",
       "6            不是每个人都懂NBA,那有又多少人懂CCTV呢?  /post-free-1857993-1.shtml   \n",
       "7            一个南方人笑看央视总将\"NBA\"说成\"嗯必~诶\"  /post-free-1051414-1.shtml   \n",
       "8              推测:中华人民共和国中央电视台为何封杀NBA  /post-free-1270514-1.shtml   \n",
       "9              滚开,什么世界杯!不要影响我看NBA总决赛!   /post-free-696485-1.shtml   \n",
       "\n",
       "        author                    author_page  click  reply              time  \n",
       "0          何小兽  http://www.tianya.cn/34099118  98506    507  2010-04-07 17:50  \n",
       "1   xuxiao0519  http://www.tianya.cn/35320813  55311    416  2010-04-07 17:00  \n",
       "2       zbgtao  http://www.tianya.cn/14811793  30344    433  2008-05-25 11:51  \n",
       "3          何仁勇   http://www.tianya.cn/7867608  27150    334  2010-04-07 09:59  \n",
       "4       沟是挤出来的   http://www.tianya.cn/7029557  26300    265  2008-05-25 21:33  \n",
       "5         ommp   http://www.tianya.cn/8185191  22104    221  2010-04-07 18:31  \n",
       "6        李诺言一世  http://www.tianya.cn/26387329  17095    124  2010-04-07 17:04  \n",
       "7          龙起头   http://www.tianya.cn/9500462  15005    405  2007-11-18 18:15  \n",
       "8  hebe__pirlo  http://www.tianya.cn/12766691  14091    118  2008-05-25 00:47  \n",
       "9      JJ不再雄赳赳   http://www.tianya.cn/6966288  12182    366  2006-05-17 11:25  "
      ]
     },
     "execution_count": 9,
     "metadata": {},
     "output_type": "execute_result"
    }
   ],
   "source": [
    "df=df.rename(columns = {0:'title', 1:'link', 2:'author',3:'author_page', 4:'click', 5:'reply', 6:'time'})\n",
    "df[:10]"
   ]
  },
  {
   "cell_type": "markdown",
   "metadata": {},
   "source": [
    "## 2.2"
   ]
  },
  {
   "cell_type": "code",
   "execution_count": 10,
   "metadata": {
    "collapsed": true
   },
   "outputs": [],
   "source": [
    "def author_crawler(url, file_name):\n",
    "    try:\n",
    "        content = urllib2.urlopen(url).read() #获取网页的html文本\n",
    "        soup = BeautifulSoup(content, \"lxml\")\n",
    "        link_info = soup.find_all('div', {'class', 'link-box'})\n",
    "        followed_num, fans_num = [i.a.text for i in link_info]\n",
    "        try:\n",
    "            activity = soup.find_all('span', {'class', 'subtitle'})\n",
    "            post_num, reply_num = [j.text[2:] for i in activity[:1] for j in i('a')]\n",
    "        except:\n",
    "            post_num, reply_num = 1, 0\n",
    "        record =  '\\t'.join([url, followed_num, fans_num, post_num, reply_num])\n",
    "        with open(file_name,'a') as p: # '''Note'''：Ａppend mode, run only once!\n",
    "                    p.write(record.encode('utf-8')+\"\\n\") ##!!encode here to utf-8 to avoid encoding\n",
    "\n",
    "    except Exception, e:\n",
    "        print e, url\n",
    "        record =  '\\t'.join([url, 'na', 'na', 'na', 'na'])\n",
    "        with open(file_name,'a') as p: # '''Note'''：Ａppend mode, run only once!\n",
    "                    p.write(record.encode('utf-8')+\"\\n\") ##!!encode here to utf-8 to avoid encoding\n",
    "        pass"
   ]
  },
  {
   "cell_type": "code",
   "execution_count": 11,
   "metadata": {
    "collapsed": false
   },
   "outputs": [
    {
     "name": "stdout",
     "output_type": "stream",
     "text": [
      "0\n",
      "need more than 0 values to unpack http://www.tianya.cn/15026460\n",
      "need more than 0 values to unpack http://www.tianya.cn/16276251\n",
      "50\n",
      "need more than 0 values to unpack http://www.tianya.cn/5280499\n",
      "100\n",
      "need more than 0 values to unpack http://www.tianya.cn/16736899\n",
      "need more than 0 values to unpack http://www.tianya.cn/59385801\n",
      "150\n",
      "need more than 0 values to unpack http://www.tianya.cn/98529354\n",
      "need more than 0 values to unpack http://www.tianya.cn/14253356\n",
      "sequence item 3: expected string or Unicode, int found http://www.tianya.cn/13243496\n",
      "sequence item 3: expected string or Unicode, int found http://www.tianya.cn/17462639\n",
      "sequence item 3: expected string or Unicode, int found http://www.tianya.cn/54504013\n",
      "200\n",
      "need more than 0 values to unpack http://www.tianya.cn/61827737\n",
      "sequence item 3: expected string or Unicode, int found http://www.tianya.cn/13611171\n",
      "sequence item 3: expected string or Unicode, int found http://www.tianya.cn/13611171\n",
      "sequence item 3: expected string or Unicode, int found http://www.tianya.cn/38206235\n",
      "250\n",
      "sequence item 3: expected string or Unicode, int found http://www.tianya.cn/19628893\n",
      "sequence item 3: expected string or Unicode, int found http://www.tianya.cn/13611171\n",
      "need more than 0 values to unpack http://www.tianya.cn/79247240\n",
      "sequence item 3: expected string or Unicode, int found http://www.tianya.cn/12744502\n",
      "300\n",
      "sequence item 3: expected string or Unicode, int found http://www.tianya.cn/64160122\n",
      "need more than 0 values to unpack http://www.tianya.cn/88398638\n",
      "sequence item 3: expected string or Unicode, int found http://www.tianya.cn/13611171\n",
      "350\n",
      "need more than 0 values to unpack http://www.tianya.cn/88706074\n"
     ]
    }
   ],
   "source": [
    "for k, url in enumerate(df.author_page):\n",
    "    if k % 50==0:\n",
    "        print k\n",
    "    author_crawler(url, '/Users/zhangyixin/Documents/tianya_bbs_threads_author_info.txt')"
   ]
  },
  {
   "cell_type": "code",
   "execution_count": 12,
   "metadata": {
    "collapsed": false
   },
   "outputs": [
    {
     "data": {
      "text/plain": [
       "0    http://www.tianya.cn/34099118\n",
       "1    http://www.tianya.cn/35320813\n",
       "2    http://www.tianya.cn/14811793\n",
       "3     http://www.tianya.cn/7867608\n",
       "4     http://www.tianya.cn/7029557\n",
       "Name: author_page, dtype: object"
      ]
     },
     "execution_count": 12,
     "metadata": {},
     "output_type": "execute_result"
    }
   ],
   "source": [
    "df.author_page[:5]"
   ]
  },
  {
   "cell_type": "code",
   "execution_count": 13,
   "metadata": {
    "collapsed": true
   },
   "outputs": [],
   "source": [
    "url = df.author_page[1]\n",
    "content = urllib2.urlopen(url).read() \n",
    "soup1 = BeautifulSoup(content, \"lxml\") "
   ]
  },
  {
   "cell_type": "markdown",
   "metadata": {},
   "source": [
    "## ——获得主贴作者信息"
   ]
  },
  {
   "cell_type": "code",
   "execution_count": 14,
   "metadata": {
    "collapsed": false
   },
   "outputs": [
    {
     "name": "stdout",
     "output_type": "stream",
     "text": [
      "福建厦门市 2100 296 2015-12-02 09:18:38 2010-04-03 14:12:00\n",
      "17 15\n",
      "223 322\n"
     ]
    }
   ],
   "source": [
    "user_info = soup1.find('div',  {'class', 'userinfo'})('p')\n",
    "area, nid, freq_use, last_login_time, reg_time = [i.get_text()[4:] for i in user_info]\n",
    "print area, nid, freq_use, last_login_time, reg_time\n",
    "\n",
    "link_info = soup1.find_all('div', {'class', 'link-box'})\n",
    "followed_num, fans_num = [i.a.text for i in link_info]\n",
    "print followed_num, fans_num\n",
    "\n",
    "activity = soup1.find_all('span', {'class', 'subtitle'})\n",
    "post_num, reply_num = [j.text[2:] for i in activity[:1] for j in i('a')]\n",
    "print post_num, reply_num"
   ]
  },
  {
   "cell_type": "markdown",
   "metadata": {},
   "source": [
    "## 2.3"
   ]
  },
  {
   "cell_type": "code",
   "execution_count": 15,
   "metadata": {
    "collapsed": false
   },
   "outputs": [
    {
     "data": {
      "text/plain": [
       "'http://bbs.tianya.cn/post-free-1858023-1.shtml'"
      ]
     },
     "execution_count": 15,
     "metadata": {},
     "output_type": "execute_result"
    }
   ],
   "source": [
    "df.link[0]\n",
    "url = 'http://bbs.tianya.cn' + df.link[0]\n",
    "url"
   ]
  },
  {
   "cell_type": "code",
   "execution_count": 16,
   "metadata": {
    "collapsed": false,
    "scrolled": true
   },
   "outputs": [
    {
     "data": {
      "text/html": [
       "<iframe src=http://bbs.tianya.cn/post-free-1270973-1.shtml width=1000 height=500></iframe>"
      ],
      "text/plain": [
       "<IPython.core.display.HTML object>"
      ]
     },
     "execution_count": 16,
     "metadata": {},
     "output_type": "execute_result"
    }
   ],
   "source": [
    "from IPython.display import display_html, HTML\n",
    "HTML('<iframe src=http://bbs.tianya.cn/post-free-1270973-1.shtml width=1000 height=500></iframe>')"
   ]
  },
  {
   "cell_type": "code",
   "execution_count": 17,
   "metadata": {
    "collapsed": false
   },
   "outputs": [
    {
     "name": "stdout",
     "output_type": "stream",
     "text": [
      "<!DOCTYPE HTML>\n",
      "<html>\n",
      " <head>\n",
      "  <meta charset=\"utf-8\"/>\n",
      "  <title>\n",
      "   从抵制家乐福到排斥NBA，中国又不高兴了？_天涯杂谈_天涯论坛\n",
      "  </title>\n",
      "  <meta content=\"从抵制家乐福到排斥NBA，中国又不高兴了？　　08年奥运会期间，因为火炬传递在巴黎受阻，不少爱国人士走向街道，挥着国旗，喊着口号，声泪俱下地哀叹中华民族的曲折命运。爱国人士俨然希望，这样的盛会是中国崛起的一次演出机会，需要通过这样的仪式，来回应文明古国的觉醒，所以，在此期间，任何的...\" name=\"description\"/>\n",
      "  <meta content=\"IE=EmulateIE9\" http-equiv=\"X-UA-Compatible\"/>\n",
      "  <meta content=\"何小兽\" name=\"author\"/>\n",
      "  <meta content=\"format=xhtml; url=http://bbs.tianya.cn/m/post-free-1858023-1.shtml\" http-equiv=\"mobile-agent\"/>\n",
      "  <link href=\"http://static.tianyaui.com/global/ty/TY.css\" rel=\"stylesheet\" type=\"text/css\"/>\n",
      "  <link href=\"http://static.tianyaui.com/global/bbs/web/static/css/bbs_article_c55fffc.css\" rel=\"stylesheet\" type=\"text/css\"/>\n",
      "  <link href=\"http://static.tianyaui.com/favicon.ico\" rel=\"shortcut icon\" type=\"image/vnd.microsoft.icon\"/>\n",
      "  <link href=\"http://bbs.tianya.cn/post-free-1858023-2.shtml\" rel=\"next\"/>\n",
      "  <script type=\"text/javascript\">\n",
      "   var bbsGlobal = {\r\n",
      "\tisEhomeItem : false,\r\n",
      "\tisNew\n"
     ]
    }
   ],
   "source": [
    "post = urllib2.urlopen(url).read() \n",
    "post_soup = BeautifulSoup(post, \"lxml\")\n",
    "print (post_soup.prettify())[:1000]"
   ]
  },
  {
   "cell_type": "code",
   "execution_count": 18,
   "metadata": {
    "collapsed": false
   },
   "outputs": [
    {
     "data": {
      "text/plain": [
       "95"
      ]
     },
     "execution_count": 18,
     "metadata": {},
     "output_type": "execute_result"
    }
   ],
   "source": [
    "pa = post_soup.find_all('div', {'class', 'atl-item'})\n",
    "len(pa)"
   ]
  },
  {
   "cell_type": "code",
   "execution_count": 19,
   "metadata": {
    "collapsed": false
   },
   "outputs": [
    {
     "name": "stdout",
     "output_type": "stream",
     "text": [
      "08年奥运会期间，因为火炬传递在巴黎受阻，不少爱国人士走向街道，挥着国旗，喊着口号，声泪俱下地哀叹中华民族的曲折命运。爱国人士俨然希望，这样的盛会是中国崛起的一次演出机会，需要通过这样的仪式，来回应文明古国的觉醒，所以，在此期间，任何的干扰、质疑，甚至是微量的不怀好意都会将其视为敌意。事实正是如此，那时官方与民间建立起的默契令人惊叹，不仅反对声音得以批量处理，国民对国家、对社会的不满情绪，经过奥运会的组织过滤，似乎也变得可有可无。　　　　火炬在巴黎的传递过程中，这样的默契显然达到了高潮。国旗成了稀缺商品，华人走上街头，声援奥运，他们一边表达着奥运会与政治无关的诉求，一边又不可救药地卷入到这场政治旋涡中。更为突出的是，国内部分爱国人士，不同的省份，不同的人群，都加入到抵制家乐福这场运动中。一家跨国企业因为北京奥运会而卷入到政治斗争中，一年过去了，当我们再回忆起当时的情景，或许不同信仰的人仍然会表达自己的执着与分歧。从功利的角度讲，抵制家乐福运动确实为北京奥运会的成功举办铺平了道路，民间投入的数倍于官方的压力对西方产生的震慑作用非凡。而且，直到如今，我也愿意相信，多数爱国人士之所以卤莽地选择抵制家乐福，是因为鼠目寸光地想追求北京奥运会的成功举办，是对数千年来中国人企图改变苦大仇深、受尽欺凌局面的本能诉求。　　　　但是，北京奥运会显然不是抵制家乐福的全部，人们在反思这样一场运动时，联系到的词汇仍然不够光彩，比如非理性的爱国主义，类似于中国不高兴式的冷战思维，等等。　　　　如果说，奥运会期间抵制家乐福是一次来自民间的政治诉求的宣泄，一次政治热情的普及与发扬，是非理性的、自发的，那么，近来广电总局对禁用NBA等略缩词的规定则显然是官方长期斟酌后的“理性”选择。联想到奥运会期间民间抵制家乐福运动，那时官方的态度是相对暧昧的，既不反对也不支持，提倡民众理性爱国，现在则不同，官方似乎完全出自一相情愿，用一己之力号召人们开始新的生活方式。这样的决策事先无任何征兆，既没有来自NBA方面的挑衅，也也没有字母缩写引发的问题，所以它一出来网上便一片哗然，不动声色地，我们的社会就进入了“无缩写”时代。　　　　让人不解的是，广电总局对此规定竟然没有任何解释，而只是列举了部分荒诞的操作程序，以及主持人“感觉良好”的后续反应。我愿意相信，“无缩写”时代将有助于常识的普及，方便各个阶层的人了解“NBA”、“CBA”们的具体内涵，但是，社会显然不能停留在常识普及的层面上，而更需要遵从成员的习惯。让新的社会成员了解“NBA”是篮球职业联赛而非一种商品自然重要，但是，毫无疑问，让人们用自己的习惯去思考和生活也同样重要。　　　　事实上，我更愿意相信，类似这种禁用NBA等略缩词的规定更应该是一种文化策略，它与抵制家乐福的性质其实是相似的，不过，家乐福是因为政治，现在则是文化，这样的禁令意在世界范围内树立自己的权威和话语体系，通过这样的禁令，期待大众用本民族狭隘的文化与思维去看待世界问题。众所周知，“NBA”、“CCTV”等缩写都是建立在英文的基础之上，禁止使用略缩词，就意味着，一个生活在汉语氛围的成员，必须动用老祖宗的遗产，把所有的文字描述职责寄托在汉语身上，这与抵制、排斥家乐福又有何区别呢？　　　　说到底，这其实也是“中国不高兴”的结果，只是，此前他们不高兴中国太软弱，现在则是不高兴中国人满嘴英文缩写。　　　　事实上，即使是爱国者，除了爱国者之外，他都还有着其他多种身份与权利，比如作为社会的一员，作为法律身份的公民，以及充满普世价值的人权。眼下，广电总局对禁用NBA等略缩词的规定，显然其出发点就在于“中国人”这个孤立的身份。当人们讨论知识分子的立场时，经常说到，要跳出“语言”、“民族”、“国家”等因素的束缚，如果我们发言时致力于撇清与他国的文化联系，孤立于自己的狭隘视野中，开口便是“美利坚合众国”，你又怎能体现自己的关怀，又怎能不以邻为壑，又怎能不时刻感到自己的苦大仇深呢？\n"
     ]
    }
   ],
   "source": [
    "print pa[0].find('div', {'class', 'bbs-content'}).text.strip()"
   ]
  },
  {
   "cell_type": "code",
   "execution_count": 20,
   "metadata": {
    "collapsed": false
   },
   "outputs": [
    {
     "data": {
      "text/plain": [
       "<a class=\"js-vip-check\" href=\"http://www.tianya.cn/33178761\" target=\"_blank\" uid=\"33178761\" uname=\"zldc1710\">zldc1710</a>"
      ]
     },
     "execution_count": 20,
     "metadata": {},
     "output_type": "execute_result"
    }
   ],
   "source": [
    "pa[1].a"
   ]
  },
  {
   "cell_type": "code",
   "execution_count": 21,
   "metadata": {
    "collapsed": false
   },
   "outputs": [
    {
     "name": "stdout",
     "output_type": "stream",
     "text": [
      "<a author=\"何小兽\" authorid=\"34099118\" class=\"reportme a-link\" href=\"javascript:void(0);\" replyid=\"0\" replytime=\"2010-04-07 17:50:00\"> 举报</a>\n",
      "2010-04-07 17:50:00\n",
      "何小兽\n"
     ]
    }
   ],
   "source": [
    "print pa[0].find('a', class_ = 'reportme a-link')\n",
    "print pa[0].find('a', class_ = 'reportme a-link')['replytime']\n",
    "print pa[0].find('a', class_ = 'reportme a-link')['author']"
   ]
  },
  {
   "cell_type": "markdown",
   "metadata": {},
   "source": [
    "## ——生成回帖信息"
   ]
  },
  {
   "cell_type": "code",
   "execution_count": 22,
   "metadata": {
    "collapsed": false
   },
   "outputs": [
    {
     "name": "stdout",
     "output_type": "stream",
     "text": [
      "2010-04-07 17:50:00 ---> 34099118 ---> 何小兽 ---> 08年奥运会期间，因为火炬传递在巴黎受阻，不少爱国人士走向街道，挥着国旗，喊着口号，声泪俱下地哀叹中华民族的曲折命运。爱国人士俨然希望，这样的盛会是中国崛起的一次演出机会，需要通过这样的仪式，来回应文明古国的觉醒，所以，在此期间，任何的干扰、质疑，甚至是微量的不怀好意都会将其视为敌意。事实正是如此，那时官方与民间建立起的默契令人惊叹，不仅反对声音得以批量处理，国民对国家、对社会的不满情绪，经过奥运会的组织过滤，似乎也变得可有可无。　　　　火炬在巴黎的传递过程中，这样的默契显然达到了高潮。国旗成了稀缺商品，华人走上街头，声援奥运，他们一边表达着奥运会与政治无关的诉求，一边又不可救药地卷入到这场政治旋涡中。更为突出的是，国内部分爱国人士，不同的省份，不同的人群，都加入到抵制家乐福这场运动中。一家跨国企业因为北京奥运会而卷入到政治斗争中，一年过去了，当我们再回忆起当时的情景，或许不同信仰的人仍然会表达自己的执着与分歧。从功利的角度讲，抵制家乐福运动确实为北京奥运会的成功举办铺平了道路，民间投入的数倍于官方的压力对西方产生的震慑作用非凡。而且，直到如今，我也愿意相信，多数爱国人士之所以卤莽地选择抵制家乐福，是因为鼠目寸光地想追求北京奥运会的成功举办，是对数千年来中国人企图改变苦大仇深、受尽欺凌局面的本能诉求。　　　　但是，北京奥运会显然不是抵制家乐福的全部，人们在反思这样一场运动时，联系到的词汇仍然不够光彩，比如非理性的爱国主义，类似于中国不高兴式的冷战思维，等等。　　　　如果说，奥运会期间抵制家乐福是一次来自民间的政治诉求的宣泄，一次政治热情的普及与发扬，是非理性的、自发的，那么，近来广电总局对禁用NBA等略缩词的规定则显然是官方长期斟酌后的“理性”选择。联想到奥运会期间民间抵制家乐福运动，那时官方的态度是相对暧昧的，既不反对也不支持，提倡民众理性爱国，现在则不同，官方似乎完全出自一相情愿，用一己之力号召人们开始新的生活方式。这样的决策事先无任何征兆，既没有来自NBA方面的挑衅，也也没有字母缩写引发的问题，所以它一出来网上便一片哗然，不动声色地，我们的社会就进入了“无缩写”时代。　　　　让人不解的是，广电总局对此规定竟然没有任何解释，而只是列举了部分荒诞的操作程序，以及主持人“感觉良好”的后续反应。我愿意相信，“无缩写”时代将有助于常识的普及，方便各个阶层的人了解“NBA”、“CBA”们的具体内涵，但是，社会显然不能停留在常识普及的层面上，而更需要遵从成员的习惯。让新的社会成员了解“NBA”是篮球职业联赛而非一种商品自然重要，但是，毫无疑问，让人们用自己的习惯去思考和生活也同样重要。　　　　事实上，我更愿意相信，类似这种禁用NBA等略缩词的规定更应该是一种文化策略，它与抵制家乐福的性质其实是相似的，不过，家乐福是因为政治，现在则是文化，这样的禁令意在世界范围内树立自己的权威和话语体系，通过这样的禁令，期待大众用本民族狭隘的文化与思维去看待世界问题。众所周知，“NBA”、“CCTV”等缩写都是建立在英文的基础之上，禁止使用略缩词，就意味着，一个生活在汉语氛围的成员，必须动用老祖宗的遗产，把所有的文字描述职责寄托在汉语身上，这与抵制、排斥家乐福又有何区别呢？　　　　说到底，这其实也是“中国不高兴”的结果，只是，此前他们不高兴中国太软弱，现在则是不高兴中国人满嘴英文缩写。　　　　事实上，即使是爱国者，除了爱国者之外，他都还有着其他多种身份与权利，比如作为社会的一员，作为法律身份的公民，以及充满普世价值的人权。眼下，广电总局对禁用NBA等略缩词的规定，显然其出发点就在于“中国人”这个孤立的身份。当人们讨论知识分子的立场时，经常说到，要跳出“语言”、“民族”、“国家”等因素的束缚，如果我们发言时致力于撇清与他国的文化联系，孤立于自己的狭隘视野中，开口便是“美利坚合众国”，你又怎能体现自己的关怀，又怎能不以邻为壑，又怎能不时刻感到自己的苦大仇深呢？ \n",
      "\n",
      "2010-04-07 17:55:38 ---> 33178761 ---> zldc1710 ---> 哎   人啊人  功利心太重 \n",
      "\n",
      "2010-04-07 19:16:06 ---> 22689153 ---> 胡说一句封杀十年 ---> ！！！ \n",
      "\n",
      "2010-04-07 19:17:32 ---> 35391908 ---> lfzxxx ---> 中国啊中国,　　你这个算什么,看看这个吧　　http://pindao.huoban.taobao.com/channel/channel_mall.htm?pid=mm_11183410_0_0&mode=86 \n",
      "\n",
      "2010-04-07 19:19:20 ---> 13640263 ---> 有事找联合国 ---> 好文 \n",
      "\n",
      "2010-04-07 20:26:25 ---> 22984881 ---> 两人嘿咻 ---> DING \n",
      "\n",
      "2010-04-07 20:32:31 ---> 32865 ---> 烟卷 ---> 说的太好了！ \n",
      "\n",
      "2010-04-07 20:35:30 ---> 35506839 ---> 寰宇尘枫 ---> 中国不高兴，后果很严重。 \n",
      "\n",
      "2010-04-07 20:36:10 ---> 22962992 ---> 马小特 ---> 钩钩小手 \n",
      "\n",
      "2010-04-07 20:37:37 ---> 16951749 ---> zhuoqundream ---> 而且，直到如今，我也愿意相信，多数爱国人士之所以卤莽地选择抵制家乐福，是因为鼠目寸光地想追求北京奥运会的成功举办，是对数千年来中国人企图改变苦大仇深、受尽欺凌局面的本能诉求。　　　　　　-------------------------------------------------------------　　不同意使用“鲁莽“二字！ \n",
      "\n",
      "2010-04-07 20:39:29 ---> 15402216 ---> 红革记事本 ---> 顶 \n",
      "\n",
      "2010-04-07 20:49:26 ---> 15334976 ---> 燕藏锋 ---> 顶 \n",
      "\n",
      "2010-04-07 20:50:16 ---> 26209658 ---> hesguo ---> 原来如此啊，广电总局怎么老是跑出来丢人勒 \n",
      "\n",
      "2010-04-07 20:56:56 ---> 15405222 ---> qedrgg ---> 抵制家乐福和排斥NBA挨的上边么?　　　　不要上纲上线什么的! \n",
      "\n",
      "2010-04-07 21:08:38 ---> 16006360 ---> bitkill ---> Sb廣電總局~~ \n",
      "\n",
      "2010-04-07 21:09:17 ---> 35509062 ---> izydxlw21 ---> 广告/封杀1年/中原枪手-- izydxlw21-- 操作时间:2010-4-7 21:59:09 -- 7041909 \n",
      "\n",
      "2010-04-07 21:10:26 ---> 29679651 ---> 鹅卵石2009 ---> 楼主扯淡，鉴定完毕。 \n",
      "\n",
      "2010-04-07 21:10:37 ---> 23778054 ---> 天狼BB ---> LZ 肯定是洋文8级　　　　尔等P民 4级都没~~~ 　　　　你要是怕ABCD没处用 就去你美国爹地那　　　　　　别来这 丢人现眼~~~~　　别来这 丢人现眼~~~~　　　　别来这 丢人现眼~~~~　　别来这 丢人现眼~~~~　　别来这 丢人现眼~~~~　　别来这 丢人现眼~~~~　　别来这 丢人现眼~~~~　　别来这 丢人现眼~~~~　　别来这 丢人现眼~~~~ \n",
      "\n",
      "2010-04-07 21:16:36 ---> 34080974 ---> 意难吟 ---> 亚克西　　　　＿＿＿＿＿＿＿＿＿＿　　签名档：　　若想不被跨省追，　　回贴就回亚克西。　　酒后犹能谈国是，　　茶前切莫论党非。 \n",
      "\n",
      "2010-04-07 21:58:50 ---> 7041909 ---> 中原枪手 ---> 嘿嘿。。莫谈国是。。 \n",
      "\n"
     ]
    }
   ],
   "source": [
    "for i in pa[:20]:\n",
    "    p_info = i.find('a', class_ = 'reportme a-link')\n",
    "    p_time = p_info['replytime']\n",
    "    p_author_id = p_info['authorid']\n",
    "    p_author_name = p_info['author']\n",
    "    p_content = i.find('div', {'class', 'bbs-content'}).text.strip()\n",
    "    p_content = p_content.replace('\\t', '')\n",
    "    print p_time, '--->', p_author_id, '--->', p_author_name,'--->', p_content, '\\n'"
   ]
  },
  {
   "cell_type": "code",
   "execution_count": 23,
   "metadata": {
    "collapsed": false
   },
   "outputs": [
    {
     "data": {
      "text/plain": [
       "'6'"
      ]
     },
     "execution_count": 23,
     "metadata": {},
     "output_type": "execute_result"
    }
   ],
   "source": [
    "post_soup.find('div', {'class', 'atl-pages'})\n",
    "post_pages = post_soup.find('div', {'class', 'atl-pages'})\n",
    "post_pages = post_pages.form['onsubmit'].split(',')[-1].split(')')[0]\n",
    "post_pages"
   ]
  },
  {
   "cell_type": "code",
   "execution_count": 24,
   "metadata": {
    "collapsed": false
   },
   "outputs": [
    {
     "data": {
      "text/plain": [
       "'http://bbs.tianya.cn/postfree1858023-%d.shtml'"
      ]
     },
     "execution_count": 24,
     "metadata": {},
     "output_type": "execute_result"
    }
   ],
   "source": [
    "url = 'http://bbs.tianya.cn' + df.link[0]\n",
    "url_base = ''.join(url.split('-')[:-1]) + '-%d.shtml'\n",
    "url_base"
   ]
  },
  {
   "cell_type": "code",
   "execution_count": 25,
   "metadata": {
    "collapsed": true
   },
   "outputs": [],
   "source": [
    "def parsePage(pa):\n",
    "    records = []\n",
    "    for i in pa:\n",
    "        p_info = i.find('a', class_ = 'reportme a-link')\n",
    "        p_time = p_info['replytime']\n",
    "        p_author_id = p_info['authorid']\n",
    "        p_author_name = p_info['author']\n",
    "        p_content = i.find('div', {'class', 'bbs-content'}).text.strip()\n",
    "        p_content = p_content.replace('\\t', '').replace('\\n', '')#.replace(' ', '')\n",
    "        record = p_time + '\\t' + p_author_id+ '\\t' + p_author_name + '\\t'+ p_content\n",
    "        records.append(record)\n",
    "    return records\n",
    "\n",
    "import sys\n",
    "def flushPrint(s):\n",
    "    sys.stdout.write('\\r')\n",
    "    sys.stdout.write('%s' % s)\n",
    "    sys.stdout.flush()"
   ]
  },
  {
   "cell_type": "code",
   "execution_count": 26,
   "metadata": {
    "collapsed": true
   },
   "outputs": [],
   "source": [
    "\n",
    "import random\n",
    "import time\n",
    "\n",
    "def crawler(url, file_name):\n",
    "    try:\n",
    "        url_1 = 'http://bbs.tianya.cn' + url\n",
    "        content = urllib2.urlopen(url_1).read() \n",
    "        post_soup = BeautifulSoup(content, \"lxml\") \n",
    "        post_form = post_soup.find('div', {'class', 'atl-pages'})\n",
    "        if post_form.form:\n",
    "            post_pages = post_form.form['onsubmit'].split(',')[-1].split(')')[0]\n",
    "            post_pages = int(post_pages)\n",
    "            url_base = '-'.join(url_1.split('-')[:-1]) + '-%d.shtml'\n",
    "        else:\n",
    "            post_pages = 1\n",
    "        pa = post_soup.find_all('div', {'class', 'atl-item'})\n",
    "        records = parsePage(pa)\n",
    "        with open(file_name,'a') as p: \n",
    "            for record in records:    \n",
    "                p.write('1'+ '\\t' + url + '\\t' + record.encode('utf-8')+\"\\n\") \n",
    "        # for the 2nd+ pages\n",
    "        if post_pages > 1:\n",
    "            for page_num in range(2, post_pages+1):\n",
    "                time.sleep(random.random())\n",
    "                flushPrint(page_num)\n",
    "                url2 =url_base  % page_num\n",
    "                content = urllib2.urlopen(url2).read()\n",
    "                post_soup = BeautifulSoup(content, \"lxml\") \n",
    "                pa = post_soup.find_all('div', {'class', 'atl-item'})\n",
    "                records = parsePage(pa)\n",
    "                with open(file_name,'a') as p: \n",
    "                    for record in records:    \n",
    "                        p.write(str(page_num) + '\\t' +url + '\\t' + record.encode('utf-8')+\"\\n\") \n",
    "        else:\n",
    "            pass\n",
    "    except Exception, e:\n",
    "        print e\n",
    "        pass"
   ]
  },
  {
   "cell_type": "code",
   "execution_count": 28,
   "metadata": {
    "collapsed": false
   },
   "outputs": [
    {
     "name": "stdout",
     "output_type": "stream",
     "text": [
      "/post-free-1858023-1.shtmlThis it the post of : 0\n",
      "/post-free-901420-1.shtmlThis it the post of : 10\n",
      "/post-free-1269031-1.shtmlThis it the post of : 20\n",
      "/post-free-817493-1.shtmlThis it the post of : 30\n",
      "/post-free-1269183-1.shtmlThis it the post of : 40\n",
      "/post-free-1271571-1.shtmlThis it the post of : 50\n",
      "/post-free-645114-1.shtmlThis it the post of : 60\n",
      "/post-free-2051240-1.shtmlThis it the post of : 70\n",
      "/post-free-1276727-1.shtmlThis it the post of : 80\n",
      "/post-free-1296640-1.shtmlThis it the post of : 90\n",
      "/post-free-1475191-1.shtmlThis it the post of : 100\n",
      "/post-free-1549958-1.shtmlThis it the post of : 110\n",
      "/post-free-2002827-1.shtmlThis it the post of : 120\n",
      "/post-free-1158933-1.shtmlThis it the post of : 130\n",
      "/post-free-2408099-1.shtmlThis it the post of : 140\n",
      "/post-free-1292703-1.shtmlThis it the post of : 150\n",
      "/post-free-1693280-1.shtmlThis it the post of : 160\n",
      "/post-free-1054520-1.shtmlThis it the post of : 170\n",
      "/post-free-5282263-1.shtmlThis it the post of : 180\n",
      "/post-free-1276800-1.shtmlThis it the post of : 190\n",
      "/post-free-3196919-1.shtmlThis it the post of : 200\n",
      "/post-free-2568256-1.shtmlThis it the post of : 210\n",
      "/post-free-1448020-1.shtmlThis it the post of : 220\n",
      "/post-free-474126-1.shtmlThis it the post of : 230\n",
      "/post-free-5194652-1.shtmlThis it the post of : 240\n",
      "/post-free-4406791-1.shtmlThis it the post of : 250\n",
      "/post-free-2320846-1.shtmlThis it the post of : 260\n",
      "/post-free-3091531-1.shtmlThis it the post of : 270\n",
      "/post-free-3577952-1.shtmlThis it the post of : 280\n",
      "/post-free-5351162-1.shtmlThis it the post of : 290\n",
      "/post-free-2406116-1.shtmlThis it the post of : 300\n",
      "/post-free-2567080-1.shtmlThis it the post of : 310\n",
      "/post-free-3182677-1.shtmlThis it the post of : 320\n",
      "/post-free-3206691-1.shtmlThis it the post of : 330\n",
      "/post-free-4483738-1.shtmlThis it the post of : 340\n",
      "/post-free-4381823-1.shtmlThis it the post of : 350\n",
      "/post-free-3295103-1.shtmlThis it the post of : 360\n",
      "/post-free-5052386-1.shtmlThis it the post of : 370\n",
      "/post-free-3608952-1.shtmlThis it the post of : 380\n",
      "/post-free-2764220-1.shtmlThis it the post of : 390\n",
      "/post-free-5423953-1.shtml"
     ]
    }
   ],
   "source": [
    "for k, link in enumerate(df.link):\n",
    "    flushPrint(link)\n",
    "    if k % 10== 0:\n",
    "        print 'This it the post of : ' + str(k)\n",
    "    file_name = '/Users/zhangyixin/Documents/tianya_bbs_threads_network.txt'\n",
    "    crawler(link, file_name)"
   ]
  },
  {
   "cell_type": "code",
   "execution_count": 30,
   "metadata": {
    "collapsed": false
   },
   "outputs": [
    {
     "data": {
      "text/plain": [
       "8373"
      ]
     },
     "execution_count": 30,
     "metadata": {},
     "output_type": "execute_result"
    }
   ],
   "source": [
    "dtt = []\n",
    "with open('/Users/zhangyixin/Documents/tianya_bbs_threads_network.txt', 'r') as f:\n",
    "    for line in f:\n",
    "        pnum, link, time, author_id, author, content = line.replace('\\n', '').split('\\t')\n",
    "        dtt.append([pnum, link, time, author_id, author, content])\n",
    "len(dtt)"
   ]
  },
  {
   "cell_type": "code",
   "execution_count": 31,
   "metadata": {
    "collapsed": false
   },
   "outputs": [
    {
     "data": {
      "text/html": [
       "<div>\n",
       "<table border=\"1\" class=\"dataframe\">\n",
       "  <thead>\n",
       "    <tr style=\"text-align: right;\">\n",
       "      <th></th>\n",
       "      <th>0</th>\n",
       "      <th>1</th>\n",
       "      <th>2</th>\n",
       "      <th>3</th>\n",
       "      <th>4</th>\n",
       "      <th>5</th>\n",
       "    </tr>\n",
       "  </thead>\n",
       "  <tbody>\n",
       "    <tr>\n",
       "      <th>0</th>\n",
       "      <td>1</td>\n",
       "      <td>/post-free-1858023-1.shtml</td>\n",
       "      <td>2010-04-07 17:50:00</td>\n",
       "      <td>34099118</td>\n",
       "      <td>何小兽</td>\n",
       "      <td>08年奥运会期间，因为火炬传递在巴黎受阻，不少爱国人士走向街道，挥着国旗，喊着口号，声泪俱下...</td>\n",
       "    </tr>\n",
       "    <tr>\n",
       "      <th>1</th>\n",
       "      <td>1</td>\n",
       "      <td>/post-free-1858023-1.shtml</td>\n",
       "      <td>2010-04-07 17:55:38</td>\n",
       "      <td>33178761</td>\n",
       "      <td>zldc1710</td>\n",
       "      <td>哎   人啊人  功利心太重</td>\n",
       "    </tr>\n",
       "    <tr>\n",
       "      <th>2</th>\n",
       "      <td>1</td>\n",
       "      <td>/post-free-1858023-1.shtml</td>\n",
       "      <td>2010-04-07 19:16:06</td>\n",
       "      <td>22689153</td>\n",
       "      <td>胡说一句封杀十年</td>\n",
       "      <td>！！！</td>\n",
       "    </tr>\n",
       "    <tr>\n",
       "      <th>3</th>\n",
       "      <td>1</td>\n",
       "      <td>/post-free-1858023-1.shtml</td>\n",
       "      <td>2010-04-07 19:17:32</td>\n",
       "      <td>35391908</td>\n",
       "      <td>lfzxxx</td>\n",
       "      <td>中国啊中国,　　你这个算什么,看看这个吧　　http://pindao.huoban.tao...</td>\n",
       "    </tr>\n",
       "    <tr>\n",
       "      <th>4</th>\n",
       "      <td>1</td>\n",
       "      <td>/post-free-1858023-1.shtml</td>\n",
       "      <td>2010-04-07 19:19:20</td>\n",
       "      <td>13640263</td>\n",
       "      <td>有事找联合国</td>\n",
       "      <td>好文</td>\n",
       "    </tr>\n",
       "  </tbody>\n",
       "</table>\n",
       "</div>"
      ],
      "text/plain": [
       "   0                           1                    2         3         4  \\\n",
       "0  1  /post-free-1858023-1.shtml  2010-04-07 17:50:00  34099118       何小兽   \n",
       "1  1  /post-free-1858023-1.shtml  2010-04-07 17:55:38  33178761  zldc1710   \n",
       "2  1  /post-free-1858023-1.shtml  2010-04-07 19:16:06  22689153  胡说一句封杀十年   \n",
       "3  1  /post-free-1858023-1.shtml  2010-04-07 19:17:32  35391908    lfzxxx   \n",
       "4  1  /post-free-1858023-1.shtml  2010-04-07 19:19:20  13640263    有事找联合国   \n",
       "\n",
       "                                                   5  \n",
       "0  08年奥运会期间，因为火炬传递在巴黎受阻，不少爱国人士走向街道，挥着国旗，喊着口号，声泪俱下...  \n",
       "1                                     哎   人啊人  功利心太重  \n",
       "2                                                ！！！  \n",
       "3  中国啊中国,　　你这个算什么,看看这个吧　　http://pindao.huoban.tao...  \n",
       "4                                                 好文  "
      ]
     },
     "execution_count": 31,
     "metadata": {},
     "output_type": "execute_result"
    }
   ],
   "source": [
    "dt = pd.DataFrame(dtt)\n",
    "dt[:5]"
   ]
  },
  {
   "cell_type": "code",
   "execution_count": 32,
   "metadata": {
    "collapsed": false
   },
   "outputs": [
    {
     "data": {
      "text/html": [
       "<div>\n",
       "<table border=\"1\" class=\"dataframe\">\n",
       "  <thead>\n",
       "    <tr style=\"text-align: right;\">\n",
       "      <th></th>\n",
       "      <th>page_num</th>\n",
       "      <th>link</th>\n",
       "      <th>time</th>\n",
       "      <th>author</th>\n",
       "      <th>author_name</th>\n",
       "      <th>reply</th>\n",
       "    </tr>\n",
       "  </thead>\n",
       "  <tbody>\n",
       "    <tr>\n",
       "      <th>0</th>\n",
       "      <td>1</td>\n",
       "      <td>/post-free-1858023-1.shtml</td>\n",
       "      <td>2010-04-07 17:50:00</td>\n",
       "      <td>34099118</td>\n",
       "      <td>何小兽</td>\n",
       "      <td>08年奥运会期间，因为火炬传递在巴黎受阻，不少爱国人士走向街道，挥着国旗，喊着口号，声泪俱下...</td>\n",
       "    </tr>\n",
       "    <tr>\n",
       "      <th>1</th>\n",
       "      <td>1</td>\n",
       "      <td>/post-free-1858023-1.shtml</td>\n",
       "      <td>2010-04-07 17:55:38</td>\n",
       "      <td>33178761</td>\n",
       "      <td>zldc1710</td>\n",
       "      <td>哎   人啊人  功利心太重</td>\n",
       "    </tr>\n",
       "    <tr>\n",
       "      <th>2</th>\n",
       "      <td>1</td>\n",
       "      <td>/post-free-1858023-1.shtml</td>\n",
       "      <td>2010-04-07 19:16:06</td>\n",
       "      <td>22689153</td>\n",
       "      <td>胡说一句封杀十年</td>\n",
       "      <td>！！！</td>\n",
       "    </tr>\n",
       "    <tr>\n",
       "      <th>3</th>\n",
       "      <td>1</td>\n",
       "      <td>/post-free-1858023-1.shtml</td>\n",
       "      <td>2010-04-07 19:17:32</td>\n",
       "      <td>35391908</td>\n",
       "      <td>lfzxxx</td>\n",
       "      <td>中国啊中国,　　你这个算什么,看看这个吧　　http://pindao.huoban.tao...</td>\n",
       "    </tr>\n",
       "    <tr>\n",
       "      <th>4</th>\n",
       "      <td>1</td>\n",
       "      <td>/post-free-1858023-1.shtml</td>\n",
       "      <td>2010-04-07 19:19:20</td>\n",
       "      <td>13640263</td>\n",
       "      <td>有事找联合国</td>\n",
       "      <td>好文</td>\n",
       "    </tr>\n",
       "  </tbody>\n",
       "</table>\n",
       "</div>"
      ],
      "text/plain": [
       "  page_num                        link                 time    author  \\\n",
       "0        1  /post-free-1858023-1.shtml  2010-04-07 17:50:00  34099118   \n",
       "1        1  /post-free-1858023-1.shtml  2010-04-07 17:55:38  33178761   \n",
       "2        1  /post-free-1858023-1.shtml  2010-04-07 19:16:06  22689153   \n",
       "3        1  /post-free-1858023-1.shtml  2010-04-07 19:17:32  35391908   \n",
       "4        1  /post-free-1858023-1.shtml  2010-04-07 19:19:20  13640263   \n",
       "\n",
       "  author_name                                              reply  \n",
       "0         何小兽  08年奥运会期间，因为火炬传递在巴黎受阻，不少爱国人士走向街道，挥着国旗，喊着口号，声泪俱下...  \n",
       "1    zldc1710                                     哎   人啊人  功利心太重  \n",
       "2    胡说一句封杀十年                                                ！！！  \n",
       "3      lfzxxx  中国啊中国,　　你这个算什么,看看这个吧　　http://pindao.huoban.tao...  \n",
       "4      有事找联合国                                                 好文  "
      ]
     },
     "execution_count": 32,
     "metadata": {},
     "output_type": "execute_result"
    }
   ],
   "source": [
    "dt=dt.rename(columns = {0:'page_num', 1:'link', 2:'time', 3:'author',4:'author_name', 5:'reply'})\n",
    "dt[:5]"
   ]
  },
  {
   "cell_type": "code",
   "execution_count": 33,
   "metadata": {
    "collapsed": false
   },
   "outputs": [
    {
     "data": {
      "text/plain": [
       "0     08年奥运会期间，因为火炬传递在巴黎受阻，不少爱国人士走向街道，挥着国旗，喊着口号，声泪俱下...\n",
       "1                                        哎   人啊人  功利心太重\n",
       "2                                                   ！！！\n",
       "3     中国啊中国,　　你这个算什么,看看这个吧　　http://pindao.huoban.tao...\n",
       "4                                                    好文\n",
       "5                                                  DING\n",
       "6                                                说的太好了！\n",
       "7                                          中国不高兴，后果很严重。\n",
       "8                                                  钩钩小手\n",
       "9     而且，直到如今，我也愿意相信，多数爱国人士之所以卤莽地选择抵制家乐福，是因为鼠目寸光地想追求...\n",
       "10                                                    顶\n",
       "11                                                    顶\n",
       "12                                 原来如此啊，广电总局怎么老是跑出来丢人勒\n",
       "13                      抵制家乐福和排斥NBA挨的上边么?　　　　不要上纲上线什么的!\n",
       "14                                             Sb廣電總局~~\n",
       "15    广告/封杀1年/中原枪手-- izydxlw21-- 操作时间:2010-4-7 21:59...\n",
       "16                                           楼主扯淡，鉴定完毕。\n",
       "17    LZ 肯定是洋文8级　　　　尔等P民 4级都没~~~ 　　　　你要是怕ABCD没处用 就去你...\n",
       "18    亚克西　　　　＿＿＿＿＿＿＿＿＿＿　　签名档：　　若想不被跨省追，　　回贴就回亚克西。　　酒...\n",
       "19                                           嘿嘿。。莫谈国是。。\n",
       "20                                        “爱国”者？白痴粪青罢了。\n",
       "21                                         我顶。。。　　说的太好了\n",
       "22                                                  好文！\n",
       "23                         抵制日货 地址家乐福  呵呵   小心被别有用心的人利用\n",
       "24    │去│便│就│记│就│产│多│来│，│我│　　　　│把│帮│复│事│把│都│比│发│基│也│...\n",
       "25                                    普通百姓，谁爱这个中国，谁就是傻B\n",
       "26                                           广电总局太cctv了\n",
       "27    mp3  到时候怎么翻呢？　　CD   到时候怎么翻呢？　　vcd  到时候怎么翻呢？　　d...\n",
       "28                                       这是不是某些官员酒后的决定。\n",
       "29                                                   关注\n",
       "                            ...                        \n",
       "70                                        说鲁莽太客气了,应该说白痴\n",
       "71      其实国家只是在用这些外部矛盾来转移人民视线，以达到掩盖内部矛盾的目的，这是每个政府惯用的伎俩！\n",
       "72    TCL公司好像没有中文名字，以后怎么办啊？　　-----------------------...\n",
       "73                                     英文的缩写简洁明了，不应该屏蔽！\n",
       "74    作者：不想当炮灰1990　回复日期：2010-04-07　23:12:16　　　 　　　　m...\n",
       "75                                            我只抵制中国产品,\n",
       "76                                           3333333333\n",
       "77    LZ胡诌乱扯，禁止央视和政府部门肆意使用外文缩略恰如其分，维护本国语言文字的尊严，偿导指引大...\n",
       "78    1234567890是阿拉伯数字，不是汉字，是不是全要像开支票的一样，大写汉字？CDMA汉语...\n",
       "79                      愚民政策，在无知5毛的推动下，变成轰轰烈烈的被权力运动。。。。\n",
       "80    作者：小昂同学　回复日期：2010-04-08　10:57:52　   　　　　LZ胡诌乱扯...\n",
       "81                                                    顶\n",
       "82      我不学英语的时候你不让我毕业，现在好了，又开始提倡传统文化，屏蔽这屏蔽哪的，玩吧，你们就玩吧。\n",
       "83             那以后国家开发布会是不是要说：中华人民共和国？以后中国这词汇也禁了！丫太有才了！\n",
       "84                   折腾，一个劲的折腾。。　　　　有空思考这个，不入多考虑下民生问题吧。\n",
       "85             那以后国家开发布会是不是要说：中华人民共和国？以后中国这词汇也禁了！丫太有才了！\n",
       "86                       我也很不高兴，主要是对王家岭煤矿！但是CCTV好像高兴的很！\n",
       "87                       NBA，，，难道央视不准说，，大家就不说了吗，，，，掩耳盗铃\n",
       "88    作者：freeeast　回复日期：2010-04-08　09:47:57　   　　　　TC...\n",
       "89                                            请求先屏蔽CCTV\n",
       "90    凡是允许的示威游行,我们应该反对.　　凡是不被允许的示威游行,我们应该支持!　　普通老百姓照...\n",
       "91                                            执政者当中猪头太多\n",
       "92                                            小手一抖 三分到手\n",
       "93                                   GOV就像月经，过一段时间就来一次。\n",
       "94                           开放与固步自封同时进行，不得精神分裂症才怪？？！！！\n",
       "95                                              哎呀，哎呀呀！\n",
       "96                          看了这些　　　　中国的教育真的是 他妈的 太“成功”了\n",
       "97                                                   加油\n",
       "98    mp3 到时候怎么翻呢？　　　　　　CD 到时候怎么翻呢？　　　　　　vcd 到时候怎么翻呢...\n",
       "99                           用文化的角度去看，建议你去看一下《最后一课》这篇文章\n",
       "Name: reply, dtype: object"
      ]
     },
     "execution_count": 33,
     "metadata": {},
     "output_type": "execute_result"
    }
   ],
   "source": [
    "dt.reply[:100]"
   ]
  },
  {
   "cell_type": "code",
   "execution_count": null,
   "metadata": {
    "collapsed": true
   },
   "outputs": [],
   "source": []
  }
 ],
 "metadata": {
  "kernelspec": {
   "display_name": "Python 2",
   "language": "python",
   "name": "python2"
  },
  "language_info": {
   "codemirror_mode": {
    "name": "ipython",
    "version": 2
   },
   "file_extension": ".py",
   "mimetype": "text/x-python",
   "name": "python",
   "nbconvert_exporter": "python",
   "pygments_lexer": "ipython2",
   "version": "2.7.11"
  }
 },
 "nbformat": 4,
 "nbformat_minor": 0
}
