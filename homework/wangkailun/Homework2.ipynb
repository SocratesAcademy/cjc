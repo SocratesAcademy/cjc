{
 "cells": [
  {
   "cell_type": "markdown",
   "metadata": {
    "collapsed": true
   },
   "source": [
    "# 计算新闻传播学 HOMEWORK2\n",
    "***\n",
    "## 王凯伦  15210130081\n"
   ]
  },
  {
   "cell_type": "markdown",
   "metadata": {},
   "source": [
    "> ## 1. 抓取47年政府工作报告"
   ]
  },
  {
   "cell_type": "code",
   "execution_count": 1,
   "metadata": {
    "collapsed": true
   },
   "outputs": [],
   "source": [
    "import urllib2\n",
    "from bs4 import BeautifulSoup"
   ]
  },
  {
   "cell_type": "code",
   "execution_count": 7,
   "metadata": {
    "collapsed": false
   },
   "outputs": [
    {
     "data": {
      "text/html": [
       "<iframe src=http://www.hprc.org.cn/wxzl/wxysl/lczf/ width=1000 height=500></iframe>"
      ],
      "text/plain": [
       "<IPython.core.display.HTML object>"
      ]
     },
     "execution_count": 7,
     "metadata": {},
     "output_type": "execute_result"
    }
   ],
   "source": [
    "from IPython.display import display_html, HTML\n",
    "HTML('<iframe src=http://www.hprc.org.cn/wxzl/wxysl/lczf/ width=1000 height=500></iframe>')\n",
    "# crawl the webpage"
   ]
  },
  {
   "cell_type": "code",
   "execution_count": 8,
   "metadata": {
    "collapsed": false
   },
   "outputs": [
    {
     "data": {
      "text/plain": [
       "u'./d12qgrdzfbg/201603/t20160318_369509.html'"
      ]
     },
     "execution_count": 8,
     "metadata": {},
     "output_type": "execute_result"
    }
   ],
   "source": [
    "url = \"http://www.hprc.org.cn/wxzl/wxysl/lczf/\"\n",
    "content = urllib2.urlopen(url).read().decode('gb18030')\n",
    "soup = BeautifulSoup(content, 'html.parser')\n",
    "\n",
    "links = soup.select('.bl a')\n",
    "links[0]['href']"
   ]
  },
  {
   "cell_type": "code",
   "execution_count": 9,
   "metadata": {
    "collapsed": false
   },
   "outputs": [
    {
     "name": "stdout",
     "output_type": "stream",
     "text": [
      "d12qgrdzfbg/201603/t20160318_369509.html\n"
     ]
    }
   ],
   "source": [
    "print links[0]['href'].split('./')[1]"
   ]
  },
  {
   "cell_type": "code",
   "execution_count": 10,
   "metadata": {
    "collapsed": false
   },
   "outputs": [
    {
     "name": "stdout",
     "output_type": "stream",
     "text": [
      "http://www.hprc.org.cn/wxzl/wxysl/lczf/d12qgrdzfbg/201603/t20160318_369509.html\n"
     ]
    }
   ],
   "source": [
    "print url + links[0]['href'].split('./')[1]"
   ]
  },
  {
   "cell_type": "code",
   "execution_count": 11,
   "metadata": {
    "collapsed": false
   },
   "outputs": [],
   "source": [
    "hyperlinks = [url + i['href'].split('./')[1] for i in links]"
   ]
  },
  {
   "cell_type": "code",
   "execution_count": 12,
   "metadata": {
    "collapsed": false
   },
   "outputs": [
    {
     "data": {
      "text/plain": [
       "u'http://www.hprc.org.cn/wxzl/wxysl/lczf/dishiyijie/201103/t20110315_153641.html'"
      ]
     },
     "execution_count": 12,
     "metadata": {},
     "output_type": "execute_result"
    }
   ],
   "source": [
    "hyperlinks[5] #2011年有分页，共9页"
   ]
  },
  {
   "cell_type": "code",
   "execution_count": 13,
   "metadata": {
    "collapsed": false
   },
   "outputs": [
    {
     "data": {
      "text/html": [
       "<iframe src= http://www.hprc.org.cn/wxzl/wxysl/lczf/dishiyijie/201103/t20110315_153641.html width=1000 height=500> </iframe>"
      ],
      "text/plain": [
       "<IPython.core.display.HTML object>"
      ]
     },
     "execution_count": 13,
     "metadata": {},
     "output_type": "execute_result"
    }
   ],
   "source": [
    "from IPython.display import display_html, HTML\n",
    "HTML('<iframe src= http://www.hprc.org.cn/wxzl/wxysl/lczf/dishiyijie/201103/t20110315_153641.html \\\n",
    "width=1000 height=500> </iframe>')"
   ]
  },
  {
   "cell_type": "code",
   "execution_count": 14,
   "metadata": {
    "collapsed": false
   },
   "outputs": [
    {
     "name": "stdout",
     "output_type": "stream",
     "text": [
      "<script>\n",
      "\tvar currentPage = 0;//所在页从0开始\n",
      "\tvar prevPage = currentPage-1//上一页\n",
      "\tvar 下一页Page = currentPage+1//下一页\n",
      "\tvar countPage = 9//共多少页\n",
      "\t//document.write(\"共\"+countPage+\"页&nbsp;&nbsp;\");\n",
      "\t\n",
      "\t//循环\n",
      "\tvar num = 17;\n",
      "\tfor(var i=0+(currentPage-1-(currentPage-1)%num) ; i<=(num+(currentPage-1-(currentPage-1)%num))&&(i<countPage) ; i++){\n",
      "\t\tif(countPage >1){\n",
      "\t\t\tif(currentPage==i)\n",
      "\t\t\t\tdocument.write(\"【<span style=\\\"color:#FF0000;\\\" class=\\\"hui14_30_h\\\">\"+(i+1)+\"</span>】&nbsp;\");\n",
      "\t\t\telse if(i==0)\n",
      "\t\t\t\tdocument.write(\"<a href=\\\"t20110315_153641.html\\\" class=\\\"hui14_30_h\\\">【\"+(i+1)+\"】</a>&nbsp;\");\n",
      "\t\t\telse\n",
      "\t\t\t\tdocument.write(\"<a href=\\\"t20110315_153641\"+\"_\" + i + \".\"+\"html\\\" class=\\\"hui14_30_h\\\">【\"+(i+1)+\"】</a>&nbsp;\");\n",
      "\t\t}\t\n",
      "\t}\n",
      "\t\n",
      "\tdocument.write(\"<br><br>\");\n",
      "\t//设置上一页代码\n",
      "\tif(countPage>1&&currentPage!=0&&currentPage!=1)\n",
      "\t\tdocument.write(\"<a href=\\\"t20110315_153641\"+\"_\" + prevPage + \".\"+\"html\\\"><span style=\\\"color:#0033FF;font-weight:bold\\\">上一页</span></a>&nbsp;\");\n",
      "\telse if(countPage>1&&currentPage!=0&&currentPage==1)\n",
      "\t\tdocument.write(\"<a href=\\\"t20110315_153641.html\\\"><span style=\\\"color:#0033FF;font-weight:bold\\\">上一页</span></a>&nbsp;\");\n",
      "\t//else\n",
      "\t//\tdocument.write(\"上一页 &nbsp;\");\n",
      "\t\n",
      "\t\n",
      "\t//设置下一页代码 \n",
      "\tif(countPage>1&&currentPage!=(countPage-1))\n",
      "\t\tdocument.write(\"<a href=\\\"t20110315_153641\"+\"_\" + 下一页Page + \".\"+\"html\\\" ><span style=\\\"color:#0033FF;font-weight:bold\\\">下一页</span></a> &nbsp;\");\n",
      "\t//else\n",
      "\t//\tdocument.write(\"下一页 &nbsp;\");\n",
      "\t\t\t\t\t \n",
      "\t</script>\n"
     ]
    }
   ],
   "source": [
    "url_i = 'http://www.hprc.org.cn/wxzl/wxysl/lczf/dishiyijie/201103/t20110315_153641.html'\n",
    "content = urllib2.urlopen(url_i).read().decode('gb18030')\n",
    "soup = BeautifulSoup(content, 'html.parser')\n",
    "#scripts = soup.find_all('script')\n",
    "#print scripts[1].text\n",
    "\n",
    "scripts = soup.find_all('script')[1]\n",
    "print scripts"
   ]
  },
  {
   "cell_type": "code",
   "execution_count": 15,
   "metadata": {
    "collapsed": false
   },
   "outputs": [
    {
     "data": {
      "text/plain": [
       "9"
      ]
     },
     "execution_count": 15,
     "metadata": {},
     "output_type": "execute_result"
    }
   ],
   "source": [
    "countPage = int(''.join(scripts).split('countPage = ')[1].split('//')[0])\n",
    "countPage"
   ]
  },
  {
   "cell_type": "code",
   "execution_count": 16,
   "metadata": {
    "collapsed": false
   },
   "outputs": [],
   "source": [
    "def crawler(url_i):\n",
    "    content = urllib2.urlopen(url_i).read().decode('gb18030')  \n",
    "    soup = BeautifulSoup(content, 'html.parser') \n",
    "    year = soup.select('.huang16c')[0].text[:4]\n",
    "    year = int(year)\n",
    "    report = ''.join(s.text for s in soup('p'))\n",
    "    \n",
    "    scripts = soup.find_all('script')\n",
    "    countPage = int(''.join(scripts[1]).split('countPage = ')[1].split('//')[0])\n",
    "    if countPage == 1:\n",
    "        pass\n",
    "    else:\n",
    "        for i in range(1, countPage):\n",
    "            url_child = url_i.split('.html')[0] +'_'+str(i)+'.html'\n",
    "            content = urllib2.urlopen(url_child).read().decode('gb18030') \n",
    "            soup = BeautifulSoup(content)\n",
    "            report_child = ''.join(s.text for s in soup('p'))\n",
    "            report = report + report_child\n",
    "    return year, report"
   ]
  },
  {
   "cell_type": "code",
   "execution_count": 17,
   "metadata": {
    "collapsed": false
   },
   "outputs": [
    {
     "name": "stdout",
     "output_type": "stream",
     "text": [
      "2016\n",
      "2015\n",
      "2014\n",
      "2013\n",
      "2012\n"
     ]
    },
    {
     "name": "stderr",
     "output_type": "stream",
     "text": [
      "E:\\WODE\\M ruan\\Anaconda\\lib\\site-packages\\bs4\\__init__.py:166: UserWarning: No parser was explicitly specified, so I'm using the best available HTML parser for this system (\"lxml\"). This usually isn't a problem, but if you run this code on another system, or in a different virtual environment, it may use a different parser and behave differently.\n",
      "\n",
      "To get rid of this warning, change this:\n",
      "\n",
      " BeautifulSoup([your markup])\n",
      "\n",
      "to this:\n",
      "\n",
      " BeautifulSoup([your markup], \"lxml\")\n",
      "\n",
      "  markup_type=markup_type))\n"
     ]
    },
    {
     "name": "stdout",
     "output_type": "stream",
     "text": [
      "2011\n",
      "2010\n",
      "2009\n",
      "2008\n",
      "2007\n",
      "2006\n",
      "2005\n",
      "2004\n",
      "2003\n",
      "2002\n",
      "2001\n",
      "2000\n",
      "1999\n",
      "1998\n",
      "1997\n",
      "1996\n",
      "1995\n",
      "1994\n",
      "1993\n",
      "1992\n",
      "1991\n",
      "1990\n",
      "1989\n",
      "1988\n",
      "1987\n",
      "1986\n",
      "1985\n",
      "1984\n",
      "1983\n",
      "1982\n",
      "1981\n",
      "1980\n",
      "1979\n",
      "1978\n",
      "1975\n",
      "1964\n",
      "1959\n",
      "1960\n",
      "1957\n",
      "1956\n",
      "1955\n",
      "1954\n"
     ]
    }
   ],
   "source": [
    "reports = {}\n",
    "for link in hyperlinks:\n",
    "    year, report = crawler(link)\n",
    "    print year\n",
    "    reports[year] = report "
   ]
  },
  {
   "cell_type": "code",
   "execution_count": 14,
   "metadata": {
    "collapsed": true
   },
   "outputs": [],
   "source": [
    "with open('E:/WODE/M Homework/Computational communication/government_report.txt', 'wb')as f:\n",
    "    for r in reports:\n",
    "        line = str(r)+ '\\t' + reports[r].replace('\\n', 't') + 'n'\n",
    "        f.write(line.encode('utf-8'))"
   ]
  },
  {
   "cell_type": "markdown",
   "metadata": {},
   "source": [
    "> ## 2. 抓取天涯回帖网络"
   ]
  },
  {
   "cell_type": "code",
   "execution_count": 17,
   "metadata": {
    "collapsed": false
   },
   "outputs": [
    {
     "data": {
      "text/html": [
       "<iframe src=http://search.tianya.cn/bbs?q=papi%E9%85%B1&pn=1 width=1000 height=500></iframe>"
      ],
      "text/plain": [
       "<IPython.core.display.HTML object>"
      ]
     },
     "execution_count": 17,
     "metadata": {},
     "output_type": "execute_result"
    }
   ],
   "source": [
    "from IPython.display import display_html, HTML\n",
    "HTML('<iframe src=http://search.tianya.cn/bbs?q=papi%E9%85%B1&pn=1 width=1000 height=500></iframe>')"
   ]
  },
  {
   "cell_type": "code",
   "execution_count": 18,
   "metadata": {
    "collapsed": false
   },
   "outputs": [],
   "source": [
    "page_num = 0\n",
    "url = \"http://search.tianya.cn/bbs?q=papi酱&pn=%d\" % page_num\n",
    "content = urllib2.urlopen(url).read() #获取网页的html文本\n",
    "soup = BeautifulSoup(content, \"lxml\") \n",
    "articles_all = soup.select('.searchListOne')\n",
    "articles = articles_all[0].find_all('li')[:-1]\n",
    "articles_title = soup.find_all('h3')\n",
    "articles_author = soup.find_all('p',{'class','source'})[0].find_all('a')[1]\n",
    "articles_time = soup.find_all('p',{'class','source'})[0].find_all('span')[0].text\n",
    "articles_reply = soup.find_all('p',{'class','source'})[0].find_all('span')[1].text"
   ]
  },
  {
   "cell_type": "code",
   "execution_count": 19,
   "metadata": {
    "collapsed": false
   },
   "outputs": [
    {
     "name": "stdout",
     "output_type": "stream",
     "text": [
      "http://bbs.tianya.cn/post-free-5444809-1.shtml\n"
     ]
    }
   ],
   "source": [
    "print articles_title[0].a['href']"
   ]
  },
  {
   "cell_type": "code",
   "execution_count": 20,
   "metadata": {
    "collapsed": false
   },
   "outputs": [
    {
     "name": "stdout",
     "output_type": "stream",
     "text": [
      "?#papi酱天价广告# papi酱拙劣骗术大揭秘!\n"
     ]
    }
   ],
   "source": [
    "print articles_title[0].text"
   ]
  },
  {
   "cell_type": "code",
   "execution_count": 21,
   "metadata": {
    "collapsed": false
   },
   "outputs": [
    {
     "name": "stdout",
     "output_type": "stream",
     "text": [
      "100 \n"
     ]
    }
   ],
   "source": [
    "url_child = articles_title[0].a['href']\n",
    "content = urllib2.urlopen(url_child).read() #获取网页的html文本\n",
    "soup_child = BeautifulSoup(content, \"lxml\") \n",
    "articles_click = soup_child.select('.atl-info')[0].find_all('span')[2].text[3:]\n",
    "print articles_click"
   ]
  },
  {
   "cell_type": "code",
   "execution_count": 22,
   "metadata": {
    "collapsed": false
   },
   "outputs": [
    {
     "name": "stdout",
     "output_type": "stream",
     "text": [
      "?#papi酱天价广告# papi酱拙劣骗术大揭秘!\n"
     ]
    }
   ],
   "source": [
    "print articles[0].find_all('h3')[0].text"
   ]
  },
  {
   "cell_type": "code",
   "execution_count": 72,
   "metadata": {
    "collapsed": false
   },
   "outputs": [
    {
     "name": "stdout",
     "output_type": "stream",
     "text": [
      "HTTP Error 404: Not Found http://bbs.tianya.cn/post-665-1069901-1.shtml\n"
     ]
    }
   ],
   "source": [
    "records = []\n",
    "try:\n",
    "    for i in articles[0:]:\n",
    "        art = i.find_all('h3')\n",
    "        articles_title = art[0].text\n",
    "        title_url = art[0].a['href']\n",
    "        articles_author = i.find_all('p',{'class','source'})[0].find_all('a')[1].text\n",
    "        author_url = i.find_all('p',{'class','source'})[0].find_all('a')[1]['href']\n",
    "        articles_time = i.find_all('p',{'class','source'})[0].find_all('span')[0].text\n",
    "        articles_reply = i.find_all('p',{'class','source'})[0].find_all('span')[1].text\n",
    "    \n",
    "        content = urllib2.urlopen(title_url).read() #获取网页的html文本\n",
    "        soup_child = BeautifulSoup(content, \"lxml\") \n",
    "        articles_click = soup_child.select('.atl-info')[0].find_all('span')[2].text[3:]\n",
    "        \n",
    "        record = articles_title + '\\t'+ title_url+ '\\t' + articles_author + '\\t'+ author_url + '\\t'+ articles_click + '\\t'+ articles_reply + '\\t'+ articles_time\n",
    "        records.append(record)\n",
    "except Exception,e:\n",
    "    print e,title_url"
   ]
  },
  {
   "cell_type": "code",
   "execution_count": 40,
   "metadata": {
    "collapsed": false
   },
   "outputs": [
    {
     "name": "stdout",
     "output_type": "stream",
     "text": [
      "?#papi酱天价广告# papi酱拙劣骗术大揭秘!\thttp://bbs.tianya.cn/post-free-5444809-1.shtml\twillaimm\thttp://www.tianya.cn/109125422\t100 \t2\t2016-04-23 17:56\n"
     ]
    }
   ],
   "source": [
    "print records[0]"
   ]
  },
  {
   "cell_type": "code",
   "execution_count": 41,
   "metadata": {
    "collapsed": true
   },
   "outputs": [],
   "source": [
    "def crawler(page_num, file_name):\n",
    "    try:\n",
    "        url = \"http://search.tianya.cn/bbs?q=papi酱&pn=%d\" % page_num\n",
    "        content = urllib2.urlopen(url).read() #获取网页的html文本\n",
    "        soup = BeautifulSoup(content, \"lxml\") \n",
    "        articles_all = soup.select('.searchListOne')\n",
    "        articles = articles_all[0].find_all('li')[:-1]\n",
    "        \n",
    "        for i in articles[0:]:\n",
    "            art = i.find_all('h3')\n",
    "            articles_title = art[0].text\n",
    "            title_url = art[0].a['href']\n",
    "            articles_author = i.find_all('p',{'class','source'})[0].find_all('a')[1].text\n",
    "            author_url = i.find_all('p',{'class','source'})[0].find_all('a')[1]['href']\n",
    "            articles_time = i.find_all('p',{'class','source'})[0].find_all('span')[0].text\n",
    "            articles_reply = i.find_all('p',{'class','source'})[0].find_all('span')[1].text\n",
    "    \n",
    "            content = urllib2.urlopen(title_url).read() #获取网页的html文本\n",
    "            soup_child = BeautifulSoup(content, \"lxml\") \n",
    "            articles_click = soup_child.select('.atl-info')[0].find_all('span')[2].text[3:]\n",
    "    \n",
    "            record = articles_title + '\\t'+ title_url+ '\\t' + articles_author + '\\t'+ author_url + '\\t'+ articles_click + '\\t'+ articles_reply + '\\t'+ articles_time\n",
    "            with open(file_name,'a') as p: # '''Note'''：Ａppend mode, run only once!\n",
    "                        p.write(record.encode('utf-8')+\"\\n\") ##!!encode here to utf-8 to avoid encoding\n",
    "    except Exception, e:\n",
    "        print e\n",
    "        pass"
   ]
  },
  {
   "cell_type": "code",
   "execution_count": 3,
   "metadata": {
    "collapsed": false,
    "scrolled": true
   },
   "outputs": [
    {
     "name": "stdout",
     "output_type": "stream",
     "text": [
      "1\n",
      "2\n",
      "3\n",
      "4\n",
      "5\n",
      "6\n",
      "7\n",
      "8\n",
      "9\n",
      "10\n",
      "11\n",
      "12\n",
      "13\n",
      "14\n",
      "15\n",
      "16\n",
      "HTTP Error 404: Not Found\n",
      "17\n",
      "18\n",
      "19\n",
      "20\n",
      "21\n",
      "22\n",
      "23\n",
      "24\n",
      "25\n",
      "26\n",
      "27\n",
      "28\n",
      "29\n",
      "30\n",
      "31\n",
      "32\n",
      "33\n",
      "34\n",
      "35\n",
      "36\n",
      "37\n",
      "38\n",
      "39\n",
      "40\n",
      "41\n",
      "42\n",
      "43\n",
      "44\n",
      "45\n",
      "46\n",
      "47\n",
      "48\n",
      "49\n",
      "50\n",
      "51\n",
      "52\n",
      "53\n"
     ]
    }
   ],
   "source": [
    "for page_num in range(1,54):\n",
    "    print (page_num)\n",
    "    crawler(page_num, 'E:/WODE/M Homework/Computational communication/Tianya_papi.txt') "
   ]
  },
  {
   "cell_type": "code",
   "execution_count": 42,
   "metadata": {
    "collapsed": false
   },
   "outputs": [
    {
     "data": {
      "text/html": [
       "<div>\n",
       "<table border=\"1\" class=\"dataframe\">\n",
       "  <thead>\n",
       "    <tr style=\"text-align: right;\">\n",
       "      <th></th>\n",
       "      <th>0</th>\n",
       "      <th>1</th>\n",
       "      <th>2</th>\n",
       "      <th>3</th>\n",
       "      <th>4</th>\n",
       "      <th>5</th>\n",
       "      <th>6</th>\n",
       "    </tr>\n",
       "  </thead>\n",
       "  <tbody>\n",
       "    <tr>\n",
       "      <th>0</th>\n",
       "      <td>?#papi酱天价广告# papi酱拙劣骗术大揭秘!</td>\n",
       "      <td>http://bbs.tianya.cn/post-free-5444809-1.shtml</td>\n",
       "      <td>willaimm</td>\n",
       "      <td>http://www.tianya.cn/109125422</td>\n",
       "      <td>100</td>\n",
       "      <td>2</td>\n",
       "      <td>2016-04-23 17:56</td>\n",
       "    </tr>\n",
       "    <tr>\n",
       "      <th>1</th>\n",
       "      <td>罗胖成就了Papi酱更大的知名度,也毁了Papi酱</td>\n",
       "      <td>http://bbs.tianya.cn/post-develop-2135132-1.shtml</td>\n",
       "      <td>e路狂飙</td>\n",
       "      <td>http://www.tianya.cn/5288868</td>\n",
       "      <td>1038</td>\n",
       "      <td>5</td>\n",
       "      <td>2016-04-18 21:20</td>\n",
       "    </tr>\n",
       "  </tbody>\n",
       "</table>\n",
       "</div>"
      ],
      "text/plain": [
       "                            0  \\\n",
       "0  ?#papi酱天价广告# papi酱拙劣骗术大揭秘!   \n",
       "1   罗胖成就了Papi酱更大的知名度,也毁了Papi酱   \n",
       "\n",
       "                                                   1         2  \\\n",
       "0     http://bbs.tianya.cn/post-free-5444809-1.shtml  willaimm   \n",
       "1  http://bbs.tianya.cn/post-develop-2135132-1.shtml      e路狂飙   \n",
       "\n",
       "                                3     4  5                 6  \n",
       "0  http://www.tianya.cn/109125422   100  2  2016-04-23 17:56  \n",
       "1    http://www.tianya.cn/5288868  1038  5  2016-04-18 21:20  "
      ]
     },
     "execution_count": 42,
     "metadata": {},
     "output_type": "execute_result"
    }
   ],
   "source": [
    "import pandas as pd\n",
    "\n",
    "df = pd.read_csv('E:/WODE/M Homework/Computational communication/Tianya_papi.txt', sep = \"\\t\", header=None)\n",
    "df[:2]"
   ]
  },
  {
   "cell_type": "code",
   "execution_count": 44,
   "metadata": {
    "collapsed": false
   },
   "outputs": [
    {
     "data": {
      "text/plain": [
       "517"
      ]
     },
     "execution_count": 44,
     "metadata": {},
     "output_type": "execute_result"
    }
   ],
   "source": [
    "len(df)"
   ]
  },
  {
   "cell_type": "code",
   "execution_count": 45,
   "metadata": {
    "collapsed": false
   },
   "outputs": [
    {
     "data": {
      "text/html": [
       "<div>\n",
       "<table border=\"1\" class=\"dataframe\">\n",
       "  <thead>\n",
       "    <tr style=\"text-align: right;\">\n",
       "      <th></th>\n",
       "      <th>title</th>\n",
       "      <th>link</th>\n",
       "      <th>author</th>\n",
       "      <th>author_page</th>\n",
       "      <th>click</th>\n",
       "      <th>reply</th>\n",
       "      <th>time</th>\n",
       "    </tr>\n",
       "  </thead>\n",
       "  <tbody>\n",
       "    <tr>\n",
       "      <th>0</th>\n",
       "      <td>?#papi酱天价广告# papi酱拙劣骗术大揭秘!</td>\n",
       "      <td>http://bbs.tianya.cn/post-free-5444809-1.shtml</td>\n",
       "      <td>willaimm</td>\n",
       "      <td>http://www.tianya.cn/109125422</td>\n",
       "      <td>100</td>\n",
       "      <td>2</td>\n",
       "      <td>2016-04-23 17:56</td>\n",
       "    </tr>\n",
       "    <tr>\n",
       "      <th>1</th>\n",
       "      <td>罗胖成就了Papi酱更大的知名度,也毁了Papi酱</td>\n",
       "      <td>http://bbs.tianya.cn/post-develop-2135132-1.shtml</td>\n",
       "      <td>e路狂飙</td>\n",
       "      <td>http://www.tianya.cn/5288868</td>\n",
       "      <td>1038</td>\n",
       "      <td>5</td>\n",
       "      <td>2016-04-18 21:20</td>\n",
       "    </tr>\n",
       "  </tbody>\n",
       "</table>\n",
       "</div>"
      ],
      "text/plain": [
       "                        title  \\\n",
       "0  ?#papi酱天价广告# papi酱拙劣骗术大揭秘!   \n",
       "1   罗胖成就了Papi酱更大的知名度,也毁了Papi酱   \n",
       "\n",
       "                                                link    author  \\\n",
       "0     http://bbs.tianya.cn/post-free-5444809-1.shtml  willaimm   \n",
       "1  http://bbs.tianya.cn/post-develop-2135132-1.shtml      e路狂飙   \n",
       "\n",
       "                      author_page  click  reply              time  \n",
       "0  http://www.tianya.cn/109125422    100      2  2016-04-23 17:56  \n",
       "1    http://www.tianya.cn/5288868   1038      5  2016-04-18 21:20  "
      ]
     },
     "execution_count": 45,
     "metadata": {},
     "output_type": "execute_result"
    }
   ],
   "source": [
    "df = df.rename(columns = {0:'title', 1:'link', 2:'author',3:'author_page', 4:'click', 5:'reply', 6:'time'})\n",
    "df[:2]"
   ]
  },
  {
   "cell_type": "code",
   "execution_count": 46,
   "metadata": {
    "collapsed": false
   },
   "outputs": [
    {
     "data": {
      "text/plain": [
       "517"
      ]
     },
     "execution_count": 46,
     "metadata": {},
     "output_type": "execute_result"
    }
   ],
   "source": [
    "len(df)"
   ]
  },
  {
   "cell_type": "markdown",
   "metadata": {},
   "source": [
    "> ## 2.1抓取作者信息"
   ]
  },
  {
   "cell_type": "code",
   "execution_count": 47,
   "metadata": {
    "collapsed": false
   },
   "outputs": [
    {
     "data": {
      "text/plain": [
       "0    http://www.tianya.cn/109125422\n",
       "1      http://www.tianya.cn/5288868\n",
       "2    http://www.tianya.cn/111356022\n",
       "3    http://www.tianya.cn/111590969\n",
       "4    http://www.tianya.cn/112467187\n",
       "Name: author_page, dtype: object"
      ]
     },
     "execution_count": 47,
     "metadata": {},
     "output_type": "execute_result"
    }
   ],
   "source": [
    "df.author_page[:5]"
   ]
  },
  {
   "cell_type": "code",
   "execution_count": 48,
   "metadata": {
    "collapsed": false
   },
   "outputs": [],
   "source": [
    "url = df.author_page[1]\n",
    "content = urllib2.urlopen(url).read()\n",
    "soup_author = BeautifulSoup(content, \"lxml\")"
   ]
  },
  {
   "cell_type": "code",
   "execution_count": 49,
   "metadata": {
    "collapsed": false,
    "scrolled": true
   },
   "outputs": [
    {
     "name": "stdout",
     "output_type": "stream",
     "text": [
      "北京通州区 90523 5282 2016-05-17 10:40:00 2005-10-25 23:08:00\n"
     ]
    }
   ],
   "source": [
    "user_info = soup_author.find('div', {'class', 'userinfo'})('p')\n",
    "area, inte, freq_use, last_login_time, reg_time = [i.get_text()[4:] for i in user_info]\n",
    "print area, inte, freq_use, last_login_time, reg_time"
   ]
  },
  {
   "cell_type": "code",
   "execution_count": 50,
   "metadata": {
    "collapsed": false
   },
   "outputs": [
    {
     "name": "stdout",
     "output_type": "stream",
     "text": [
      "3126 7474\n"
     ]
    }
   ],
   "source": [
    "activity = soup_author.find_all('span', {'class', 'subtitle'})\n",
    "post_num, reply_num = [j.text[2:] for i in activity[:1] for j in i('a')]\n",
    "print post_num, reply_num"
   ]
  },
  {
   "cell_type": "code",
   "execution_count": 51,
   "metadata": {
    "collapsed": false
   },
   "outputs": [
    {
     "name": "stdout",
     "output_type": "stream",
     "text": [
      "<span class=\"subtitle\">\n",
      "<a href=\"http://blog.tianya.cn/blog-2510371-1.shtml\" target=\"_blank\">商业模式专家刘如江的博客</a>　\r\n",
      "\t\t\t\r\n",
      "\r\n",
      "\t\t\t</span>\n"
     ]
    }
   ],
   "source": [
    "print activity[1]"
   ]
  },
  {
   "cell_type": "code",
   "execution_count": 112,
   "metadata": {
    "collapsed": false
   },
   "outputs": [
    {
     "name": "stdout",
     "output_type": "stream",
     "text": [
      "84 53795\n"
     ]
    }
   ],
   "source": [
    "link_info = soup_author.find_all('div', {'class', 'link-box'})\n",
    "followed_num, fans_num = [i.a.text for i in link_info]\n",
    "print followed_num, fans_num"
   ]
  },
  {
   "cell_type": "code",
   "execution_count": 113,
   "metadata": {
    "collapsed": false
   },
   "outputs": [],
   "source": [
    "def author_crawler(url, file_name):\n",
    "    try:\n",
    "        content = urllib2.urlopen(url).read()\n",
    "        soup_author = BeautifulSoup(content, \"lxml\")\n",
    "        link_info = soup_author.find_all('div', {'class', 'link-box'})\n",
    "        followed_num, fans_num = [i.a.text for i in link_info]\n",
    "        try:\n",
    "            activity = soup_author.find_all('span', {'class', 'subtitle'})\n",
    "            post_num, reply_num = [j.text[2:] for i in activity[:1] for j in i('a')]\n",
    "        except:\n",
    "            post_num, reply_num = 1,0\n",
    "        record = '\\t'.join([url, followed_num, fans_num, post_num, reply_num])\n",
    "        with open(file_name, 'a') as p:\n",
    "            p.write(record.encode('utf-8') + \"\\n\")\n",
    "    \n",
    "    except Exception,e:\n",
    "        print e, url\n",
    "        record = '\\t'.join([url,'na','na','na','na'])\n",
    "        with open(file_name, 'a') as p:\n",
    "            p.write(record.encode('utf-8') + \"\\n\")\n",
    "        pass"
   ]
  },
  {
   "cell_type": "code",
   "execution_count": 114,
   "metadata": {
    "collapsed": false
   },
   "outputs": [
    {
     "name": "stdout",
     "output_type": "stream",
     "text": [
      "0\n",
      "10\n",
      "20\n",
      "30\n",
      "40\n",
      "50\n",
      "60\n",
      "70\n",
      "80\n",
      "need more than 0 values to unpack http://www.tianya.cn/104723853\n",
      "90\n",
      "100\n",
      "110\n",
      "120\n",
      "130\n",
      "140\n",
      "150\n",
      "sequence item 3: expected string or Unicode, int found http://www.tianya.cn/112269447\n",
      "160\n",
      "170\n",
      "180\n",
      "190\n",
      "200\n",
      "210\n",
      "220\n",
      "230\n",
      "240\n",
      "250\n",
      "260\n",
      "270\n",
      "280\n",
      "290\n",
      "300\n",
      "310\n",
      "320\n",
      "330\n",
      "340\n",
      "350\n",
      "360\n",
      "370\n",
      "sequence item 3: expected string or Unicode, int found http://www.tianya.cn/109895413\n",
      "380\n",
      "390\n",
      "400\n",
      "410\n",
      "need more than 0 values to unpack http://www.tianya.cn/151723\n",
      "420\n",
      "need more than 0 values to unpack http://www.tianya.cn/1836005\n",
      "need more than 0 values to unpack http://www.tianya.cn/19247995\n",
      "430\n",
      "sequence item 3: expected string or Unicode, int found http://www.tianya.cn/12015241\n",
      "440\n",
      "450\n",
      "sequence item 3: expected string or Unicode, int found http://www.tianya.cn/24201179\n",
      "sequence item 3: expected string or Unicode, int found http://www.tianya.cn/19814973\n",
      "460\n",
      "470\n",
      "need more than 0 values to unpack http://www.tianya.cn/100574857\n",
      "need more than 0 values to unpack http://www.tianya.cn/100574857\n",
      "480\n",
      "need more than 0 values to unpack http://www.tianya.cn/100580721\n",
      "490\n",
      "need more than 0 values to unpack http://www.tianya.cn/104160633\n",
      "sequence item 3: expected string or Unicode, int found http://www.tianya.cn/93242372\n",
      "sequence item 3: expected string or Unicode, int found http://www.tianya.cn/93459018\n",
      "500\n",
      "sequence item 3: expected string or Unicode, int found http://www.tianya.cn/61908932\n",
      "510\n",
      "need more than 0 values to unpack http://www.tianya.cn/70639497\n"
     ]
    }
   ],
   "source": [
    "for k,url in enumerate(df.author_page):\n",
    "    if k % 10 == 0:\n",
    "        print k\n",
    "    author_crawler(url, 'E:/WODE/M Homework/Computational communication/Tianya_papi_author_info.txt')"
   ]
  },
  {
   "cell_type": "markdown",
   "metadata": {},
   "source": [
    "> ## 2.2 使用Python抓取回帖"
   ]
  },
  {
   "cell_type": "code",
   "execution_count": 53,
   "metadata": {
    "collapsed": false
   },
   "outputs": [
    {
     "data": {
      "text/plain": [
       "'http://bbs.tianya.cn/post-develop-2135132-1.shtml'"
      ]
     },
     "execution_count": 53,
     "metadata": {},
     "output_type": "execute_result"
    }
   ],
   "source": [
    "df.link[1]"
   ]
  },
  {
   "cell_type": "code",
   "execution_count": 54,
   "metadata": {
    "collapsed": false,
    "scrolled": true
   },
   "outputs": [
    {
     "data": {
      "text/html": [
       "<iframe src=http://bbs.tianya.cn/post-develop-2135132-1.shtml width=1000 height=500></iframe>"
      ],
      "text/plain": [
       "<IPython.core.display.HTML object>"
      ]
     },
     "execution_count": 54,
     "metadata": {},
     "output_type": "execute_result"
    }
   ],
   "source": [
    "from IPython.display import display_html, HTML\n",
    "HTML('<iframe src=http://bbs.tianya.cn/post-develop-2135132-1.shtml width=1000 height=500></iframe>')"
   ]
  },
  {
   "cell_type": "code",
   "execution_count": 55,
   "metadata": {
    "collapsed": false
   },
   "outputs": [],
   "source": [
    "post = urllib2.urlopen(df.link[1]).read() \n",
    "soup_post = BeautifulSoup(post, \"lxml\") "
   ]
  },
  {
   "cell_type": "code",
   "execution_count": 56,
   "metadata": {
    "collapsed": false
   },
   "outputs": [
    {
     "name": "stdout",
     "output_type": "stream",
     "text": [
      "<!DOCTYPE HTML>\n",
      "<html>\n",
      " <head>\n",
      "  <meta charset=\"utf-8\"/>\n",
      "  <title>\n",
      "   罗胖成就了Papi酱更大的知名度，也毁了Papi酱_经济论坛_天涯论坛\n",
      "  </title>\n",
      "  <meta content=\"罗胖成就了Papi酱更大的知名度，也毁了Papi酱　　Papi酱被封了，大家有什么看法？！背后有没有内幕就不知道了，直接原因是因为毒舌。整改后就没人看了，正是因为毒舌的另类形象，特别是20-30岁之间，在婚恋问题上，想骂人、想抱怨，却又表达能力有限的女性。本来就是剑走偏锋的一种路子。而且她就擅长...\" name=\"description\"/>\n",
      "  <meta content=\"IE=EmulateIE9\" http-equiv=\"X-UA-Compatible\"/>\n",
      "  <meta content=\"e路狂飙\" name=\"author\"/>\n",
      "  <meta content=\"format=xhtml; url=http://bbs.tianya.cn/m/post-develop-2135132-1.shtml\" http-equiv=\"mobile-agent\"/>\n",
      "  <link href=\"http://static.tianyaui.com/global/ty/TY.css\" rel=\"stylesheet\" type=\"text/css\"/>\n",
      "  <link href=\"http://static.tianyaui.com/global/bbs/web/static/css/bbs_article_c55fffc.css\" rel=\"stylesheet\" type=\"text/css\"/>\n",
      "  <link href=\"http://static.tianyaui.com/favicon.ico\" rel=\"shortcut icon\" type=\"image/vnd.microsoft.icon\"/>\n",
      "  <script type=\"text/javascript\">\n",
      "   var bbsGlobal = {\r\n",
      "\tisEhomeItem : false,\r\n",
      "\tisNewArticle : false,\r\n",
      "\tauthorId : \"5288868\",\r\n",
      "\tauthorName : \"e路狂飙\", \r\n",
      "\tblocktype : \"主版\",\r\n",
      "\titemType : \"主版\",\r\n",
      "\tlaibaType : \"null\",  \r\n",
      "\tpage : \"1\",\r\n",
      "\tpermission : true,\r\n",
      "\tpermissionStatus : \"新用户发表审核\",\r\n",
      "\titemPermission : 4161,\r\n",
      "\titemCategory : \"财经\",\r\n",
      "\tisWeiLun : false,\r\n",
      "\tisSealItem : false,\r\n",
      "\titem : \"develop\",\r\n",
      "\titemName : \"经济论坛\",\r\n",
      "\tartId : 2135132,\r\n",
      "\tmedia : 0,\r\n",
      "\tsubType : \"经济杂谈\",\r\n",
      "\tad : 0,\r\n",
      "\tadshow : 0,\r\n",
      "\tadblock : 0,\r\n",
      "\twords : [{\"link\":\"http://ebook.tianya.cn/html2/chapter.aspx?bookid=75204&comefrom=tianya \",\"word\":\"养鬼\"},{\"link\":\"http://ebook.tianya.cn/html2/chapter.aspx?bookid=78822&comefrom=tianya \",\"word\":\"爱情\"},{\"link\":\"http://ebook.tianya.cn/html2/chapter.aspx?bookid=78829&comefrom=tianya \",\"word\":\"离婚\"},{\"link\":\"http://zan.tianya.cn/\",\"word\":\"原创\"},{\"link\":\"http://bbs.tianya.cn/list-410-1.shtml\",\"word\":\"主播\"},{\"link\":\"http://groups.tianya.cn/list-163029-1.shtml\",\"word\":\"日记\"},{\"link\":\"http://groups.tianya.cn/list-163907-1.shtml\",\"word\":\"吐糟\"},{\"link\":\"http://groups.tianya.cn/list-65695-1.shtml\",\"word\":\"青春\"},{\"link\":\"http://groups.tianya.cn/list-86723-1.shtml\",\"word\":\"EXO\"},{\"link\":\"http://groups.tianya.cn/list-81007-1.shtml\",\"word\":\"李易峰\"},{\"link\":\"http://groups.tianya.cn/list-9999-1.shtml\",\"word\":\"乔振宇\"},{\"link\":\"http://groups.tianya.cn/list-9619-1.shtml\",\"word\":\"陈晓\"},{\"link\":\"http://groups.tianya.cn/list-9214-1.shtml\",\"word\":\"历史\"},{\"link\":\"http://groups.tianya.cn/list-163222-1.shtml\",\"word\":\"哲学\"},{\"link\":\"http://groups.tianya.cn/list-163503-1.shtml\",\"word\":\"感动\"},{\"link\":\"http://bbs.tianya.cn/list-730-1.shtml\",\"word\":\"中山大学\"},{\"link\":\"http://groups.tianya.cn/list-14270-1.shtml\",\"word\":\"雨后\"},{\"link\":\"http://groups.tianya.cn/list-9797-1.shtml\",\"word\":\"钟汉良\"}],\r\n",
      "\tpageCount : 1,\r\n",
      "\tdashang : {\r\n",
      "\t\tmerId : \"%E5%A4%A9%E6%B6%AF%E8%AE%BA%E5%9D%9B\",\r\n",
      "\t\tmerNum : \"develop-2135132\",\r\n",
      "\t\tgetName : \"e%E8%B7%AF%E7%8B%82%E9%A3%99\",\r\n",
      "\t\ttime : \"1463499347561\",\r\n",
      "\t\text1 : \"2135132\",\r\n",
      "\t\text2 : \"develop\",\r\n",
      "\t\text4 : \"%E7%BD%97%E8%83%96%E6%88%90%E5%B0%B1%E4%BA%86Papi%E9%85%B1%E6%9B%B4%E5%A4%A7%E7%9A%84%E7%9F%A5%E5%90%8D%E5%BA%A6%EF%BC%8C%E4%B9%9F%E6%AF%81%E4%BA%86Papi%E9%85%B1\",\r\n",
      "\t\tsign : \"bb00e06fdc63d066d27607b96d613e1d\",\r\n",
      "\t\tamount : 0,\r\n",
      "\t\tzhiyinCount : 0,\r\n",
      "\t\tnewestRecords : null\r\n",
      "\t},\r\n",
      "\tisWenda : false,\r\n",
      "\t\r\n",
      "\tisSlide : true,\r\n",
      "\ttrueName : \"\",\r\n",
      "\tartProtectedTips : \"\"\r\n",
      "};\r\n",
      "\r\n",
      "var adsGlobal = {\r\n",
      "\t\titemId : \"develop\",\r\n",
      "\t\tpageType : \"02\",\r\n",
      "\t\tpopWinId: \"16\"\r\n",
      "};\n",
      "  </script>\n",
      "  <script charset=\"utf-8\" src=\"http://static.tianyaui.com/global/ty/TY.js\" type=\"text/javascript\">\n",
      "  </script>\n",
      "  <script charset=\"utf-8\" src=\"http://static.tianyaui.com/global/bbs/web/static/js/main_b081fde.js\" type=\"text/javascript\">\n",
      "  </script>\n",
      " </head>\n",
      " <body>\n",
      "  <div id=\"top_nav_wrap\">\n",
      "   <div class=\"clearfix\" id=\"top_nav\">\n",
      "    <div class=\"top-nav-logo\">\n",
      "     <a _tystat=\"新版顶导航/Logo\" href=\"http://focus.tianya.cn/\">\n",
      "     </a>\n",
      "    </div>\n",
      "    <div class=\"top-nav-main clearfix\">\n",
      "     <div class=\"top-nav-menu clearfix\">\n",
      "      <div class=\"top-nav-fl clearfix\">\n",
      "       <ul class=\"top-nav-menu-list clearfix\">\n",
      "        <li class=\"top-nav-menu-li top-nav-menu-li-first\">\n",
      "         <a _checklocation=\"1\" _tystat=\"新版顶导航/论坛\" appstr=\"bbs\" class=\"top-nav-main-menu\" href=\"http://bbs.tianya.cn/\">\n",
      "          论坛\n",
      "         </a>\n",
      "        </li>\n",
      "        <li class=\"top-nav-menu-li\">\n",
      "         <a _checklocation=\"1\" _tystat=\"新版顶导航/分社区/聚焦\" appstr=\"focus\" class=\"top-nav-main-menu\" href=\"http://focus.tianya.cn/\">\n",
      "          聚焦\n",
      "         </a>\n",
      "        </li>\n",
      "        <li class=\"top-nav-menu-li\">\n",
      "         <a _tystat=\"新版顶导航/部落\" class=\"top-nav-main-menu\" href=\"http://groups.tianya.cn\">\n",
      "          部落\n",
      "         </a>\n",
      "        </li>\n",
      "        <li class=\"top-nav-menu-li\">\n",
      "         <a _checklocation=\"1\" _tystat=\"新版顶导航/博客\" appstr=\"blog\" class=\"top-nav-main-menu\" href=\"http://blog.tianya.cn/\">\n",
      "          博客\n",
      "         </a>\n",
      "        </li>\n",
      "        <li class=\"top-nav-menu-li\">\n",
      "         <a _checklocation=\"1\" _tystat=\"新版顶导航/问答\" appstr=\"wenda\" class=\"top-nav-main-menu\" href=\"http://wenda.tianya.cn/\">\n",
      "          问答\n",
      "         </a>\n",
      "        </li>\n",
      "        <!-- <li class=\"top-nav-menu-li\"><a _tystat=\"新版顶导航/天涯客\" href=\"http://travel.\n"
     ]
    }
   ],
   "source": [
    "print (soup_post.prettify())[:5000]"
   ]
  },
  {
   "cell_type": "code",
   "execution_count": 57,
   "metadata": {
    "collapsed": false
   },
   "outputs": [],
   "source": [
    "pa = soup_post.find_all('div', {'class', 'atl-item'})"
   ]
  },
  {
   "cell_type": "code",
   "execution_count": 58,
   "metadata": {
    "collapsed": false
   },
   "outputs": [
    {
     "name": "stdout",
     "output_type": "stream",
     "text": [
      "<div _host=\"%E5%B0%8F%E7%8C%AB%E4%B8%AD%E6%9A%91\" class=\"atl-item\" id=\"1\" js_restime=\"2016-04-18 21:43:59\" js_username=\"%E5%B0%8F%E7%8C%AB%E4%B8%AD%E6%9A%91\" replyid=\"25343907\">\n",
      "<div class=\"atl-head\" id=\"e90a580d8fbbf94df0ffac64cbe6797e\">\n",
      "<div class=\"atl-head-reply\"></div>\n",
      "<div class=\"atl-info\">\n",
      "<span>作者：<a class=\"js-vip-check\" href=\"http://www.tianya.cn/111382677\" target=\"_blank\" uid=\"111382677\" uname=\"小猫中暑\">小猫中暑</a> </span>\n",
      "<span>时间：2016-04-18 21:43:59</span>\n",
      "</div>\n",
      "</div>\n",
      "<div class=\"atl-content\">\n",
      "<div class=\"atl-con-hd clearfix\">\n",
      "<div class=\"atl-con-hd-l\"></div>\n",
      "<div class=\"atl-con-hd-r\"></div>\n",
      "</div>\n",
      "<div class=\"atl-con-bd clearfix\">\n",
      "<div class=\"bbs-content\">\r\n",
      "\t\t\t\t\t\t\t　　@e路狂飙 我觉得papi酱被封是早晚的事，就算罗胖不投他，广电也照样会封杀她\r\n",
      "\t\t\t\t\t\t\t\r\n",
      "\t\t\t\t\t\t</div>\n",
      "<div class=\"atl-reply\">\n",
      "<a author=\"小猫中暑\" authorid=\"111382677\" class=\"reportme a-link\" href=\"javascript:void(0);\" replyid=\"25343907\" replytime=\"2016-04-18 21:43:59\">举报</a> |\r\n",
      "\t\t\t\t\t\t\t\t\t\t\t\t\t\t\r\n",
      "\t\t\t\t\t\t\t<span>1楼</span> |\r\n",
      "\t\t\t\t\t\t\t<a class=\"a-link-2 ir-shang\" floor=\"1\" href=\"javascript:void(0);\" title=\"打赏层主\">\r\n",
      "\t\t\t\t\t\t\t\t打赏\r\n",
      "\t\t\t\t\t\t\t</a> |\r\n",
      "\t\t\t\t\t\t\t<a class=\"a-link-2 reply\" href=\"#fabu_anchor\" title=\"引用回复\">回复</a> |\r\n",
      "\t\t\t\t\t\t\t<a _stat=\"/stat/bbs/post/评论\" class=\"a-link-2 ir-remark\" floor=\"1\" href=\"javascript:void(0);\" title=\"插入评论\">\r\n",
      "\t\t\t\t\t\t\t\t评论\r\n",
      "\t\t\t\t\t\t\t</a>\n",
      "</div>\n",
      "</div>\n",
      "<div class=\"atl-con-ft clearfix\">\n",
      "<div class=\"atl-con-ft-l\"></div>\n",
      "<div class=\"atl-con-ft-r\"></div>\n",
      "</div>\n",
      "</div>\n",
      "</div>\n"
     ]
    }
   ],
   "source": [
    "print pa[1]"
   ]
  },
  {
   "cell_type": "code",
   "execution_count": 59,
   "metadata": {
    "collapsed": false
   },
   "outputs": [
    {
     "name": "stdout",
     "output_type": "stream",
     "text": [
      "Papi酱被封了，大家有什么看法？！背后有没有内幕就不知道了，直接原因是因为毒舌。整改后就没人看了，正是因为毒舌的另类形象，特别是20-30岁之间，在婚恋问题上，想骂人、想抱怨，却又表达能力有限的女性。本来就是剑走偏锋的一种路子。而且她就擅长这种风格，别的风格还真的玩不了。Papi酱这种风格定位，肯定长不了。只是罗振宇和徐小平有些可惜，他们不应该去投Papi酱。罗振宇有些膨胀，本来Papi酱这种风格，跟他的风格也不搭调，对他自己的“罗辑思维”品牌会有伤害。前几天还跟一个朋友聊到Papi酱，反正我认识的人，都是通过罗胖子了解到Papi酱，罗胖推荐之后，好多人真还看了3-5个视频，看了之后直摇头，就不想再看了。当然喜欢这个风格的细分群体，还会追着看，津津乐道。年轻闺怨型群体，其实数量还是非常大的，也需要一种精准定位于他们的产品和服务，有专属于他们的娱乐，而这方面国内恰好又是空档。可是这类东西，一旦要往大众传播物领域“升级”，就很容易惹麻烦。其实保持原来的细分状态，倒也不会出事儿，因为不是那个群体的人，根本就不了解。不会发生价值观冲突。只要传播范围突破原来的“小众精准群体”，向大众化的领域拓展，必然会带来价值观冲突，出事儿也是必然的，而且很快。罗胖和徐小平，成就了Papi酱更大的知名度，其实也是毁了Papi酱，让了Papi酱成为了昙花一现的流星。\n"
     ]
    }
   ],
   "source": [
    "print pa[0].find('div', {'class', 'bbs-content'}).text.strip()"
   ]
  },
  {
   "cell_type": "code",
   "execution_count": 60,
   "metadata": {
    "collapsed": false
   },
   "outputs": [
    {
     "name": "stdout",
     "output_type": "stream",
     "text": [
      "@e路狂飙 我觉得papi酱被封是早晚的事，就算罗胖不投他，广电也照样会封杀她\n"
     ]
    }
   ],
   "source": [
    "print pa[1].find('div', {'class', 'bbs-content'}).text.strip()"
   ]
  },
  {
   "cell_type": "code",
   "execution_count": 61,
   "metadata": {
    "collapsed": false
   },
   "outputs": [
    {
     "name": "stdout",
     "output_type": "stream",
     "text": [
      "<a author=\"e路狂飙\" authorid=\"5288868\" class=\"reportme a-link\" href=\"javascript:void(0);\" replyid=\"0\" replytime=\"2016-04-18 21:20:00\"> 举报</a>\n"
     ]
    }
   ],
   "source": [
    "print pa[0].find('a', class_ = 'reportme a-link')"
   ]
  },
  {
   "cell_type": "code",
   "execution_count": 62,
   "metadata": {
    "collapsed": false
   },
   "outputs": [
    {
     "name": "stdout",
     "output_type": "stream",
     "text": [
      "2016-04-18 21:20:00\n"
     ]
    }
   ],
   "source": [
    "print pa[0].find('a', class_ = 'reportme a-link')['replytime']"
   ]
  },
  {
   "cell_type": "code",
   "execution_count": 63,
   "metadata": {
    "collapsed": false
   },
   "outputs": [
    {
     "name": "stdout",
     "output_type": "stream",
     "text": [
      "e路狂飙\n"
     ]
    }
   ],
   "source": [
    "print pa[0].find('a', class_ = 'reportme a-link')['author']"
   ]
  },
  {
   "cell_type": "code",
   "execution_count": 64,
   "metadata": {
    "collapsed": false
   },
   "outputs": [
    {
     "name": "stdout",
     "output_type": "stream",
     "text": [
      "2016-04-18 21:20:00 —— 5288868 —— e路狂飙 —— Papi酱被封了，大家有什么看法？！背后有没有内幕就不知道了，直接原因是因为毒舌。整改后就没人看了，正是因为毒舌的另类形象，特别是20-30岁之间，在婚恋问题上，想骂人、想抱怨，却又表达能力有限的女性。本来就是剑走偏锋的一种路子。而且她就擅长这种风格，别的风格还真的玩不了。Papi酱这种风格定位，肯定长不了。只是罗振宇和徐小平有些可惜，他们不应该去投Papi酱。罗振宇有些膨胀，本来Papi酱这种风格，跟他的风格也不搭调，对他自己的“罗辑思维”品牌会有伤害。前几天还跟一个朋友聊到Papi酱，反正我认识的人，都是通过罗胖子了解到Papi酱，罗胖推荐之后，好多人真还看了3-5个视频，看了之后直摇头，就不想再看了。当然喜欢这个风格的细分群体，还会追着看，津津乐道。年轻闺怨型群体，其实数量还是非常大的，也需要一种精准定位于他们的产品和服务，有专属于他们的娱乐，而这方面国内恰好又是空档。可是这类东西，一旦要往大众传播物领域“升级”，就很容易惹麻烦。其实保持原来的细分状态，倒也不会出事儿，因为不是那个群体的人，根本就不了解。不会发生价值观冲突。只要传播范围突破原来的“小众精准群体”，向大众化的领域拓展，必然会带来价值观冲突，出事儿也是必然的，而且很快。罗胖和徐小平，成就了Papi酱更大的知名度，其实也是毁了Papi酱，让了Papi酱成为了昙花一现的流星。 \n",
      "\n",
      "2016-04-18 21:43:59 —— 111382677 —— 小猫中暑 —— @e路狂飙 我觉得papi酱被封是早晚的事，就算罗胖不投他，广电也照样会封杀她 \n",
      "\n",
      "2016-04-18 21:52:45 —— 5288868 —— e路狂飙 —— @小猫中暑 2016-04-18 21:43:59　　@e路狂飙    我觉得papi酱被封是早晚的事，就算罗胖不投他，广电也照样会封杀她　　-----------------------------　　如果保持在细分领域，名气没这么大，不出事的可能性，还是非常大的。 \n",
      "\n",
      "2016-04-19 08:55:20 —— 100522698 —— 沉默的小绵羊ok —— papi酱的视频我也看过，感觉受众面比较小，也就是昙花一现的命运～说实话，要是投敖厂长和军武次味面，资金回报和宣传效应会好得多～ \n",
      "\n",
      "2016-04-19 21:41:02 —— 5288868 —— e路狂飙 —— @沉默的小绵羊ok 2016-04-19 08:55:20　　papi酱的视频我也看过，感觉受众面比较小，也就是昙花一现的命运～说实话，要是投敖厂长和军武次味面，资金回报和宣传效应会好得多～　　-----------------------------　　呵呵 \n",
      "\n"
     ]
    }
   ],
   "source": [
    "for i in pa[:10]:\n",
    "    p_info = i.find('a', class_ = 'reportme a-link')\n",
    "    p_time = p_info['replytime']\n",
    "    p_author_id = p_info['authorid']\n",
    "    p_author_name = p_info['author']\n",
    "    p_content = i.find('div', {'class', 'bbs-content'}).text.strip()\n",
    "    p_content = p_content.replace('\\t', '')\n",
    "    print p_time, '——', p_author_id, '——', p_author_name,'——', p_content, '\\n'\n",
    "    "
   ]
  },
  {
   "cell_type": "markdown",
   "metadata": {},
   "source": [
    "> ## 2.3 解决翻页问题"
   ]
  },
  {
   "cell_type": "markdown",
   "metadata": {},
   "source": [
    "### http://bbs.tianya.cn/post-funinfo-6901280-1.shtml"
   ]
  },
  {
   "cell_type": "code",
   "execution_count": 41,
   "metadata": {
    "collapsed": false
   },
   "outputs": [
    {
     "data": {
      "text/html": [
       "<iframe src=http://bbs.tianya.cn/post-funinfo-6901280-1.shtml width=1000 height=500></iframe>"
      ],
      "text/plain": [
       "<IPython.core.display.HTML object>"
      ]
     },
     "execution_count": 41,
     "metadata": {},
     "output_type": "execute_result"
    }
   ],
   "source": [
    "from IPython.display import display_html, HTML\n",
    "HTML('<iframe src=http://bbs.tianya.cn/post-funinfo-6901280-1.shtml width=1000 height=500></iframe>')"
   ]
  },
  {
   "cell_type": "code",
   "execution_count": 65,
   "metadata": {
    "collapsed": false
   },
   "outputs": [
    {
     "data": {
      "text/plain": [
       "'http://bbs.tianya.cn/post-funinfo-6901280-1.shtml'"
      ]
     },
     "execution_count": 65,
     "metadata": {},
     "output_type": "execute_result"
    }
   ],
   "source": [
    "df.link[10]"
   ]
  },
  {
   "cell_type": "code",
   "execution_count": 66,
   "metadata": {
    "collapsed": false
   },
   "outputs": [],
   "source": [
    "post_page = urllib2.urlopen(df.link[10]).read() \n",
    "soup_post_page = BeautifulSoup(post_page, \"lxml\") "
   ]
  },
  {
   "cell_type": "code",
   "execution_count": 67,
   "metadata": {
    "collapsed": false
   },
   "outputs": [
    {
     "data": {
      "text/plain": [
       "<div class=\"atl-pages\"><form action=\"\" method=\"get\" onsubmit=\"return goPage(this,'funinfo',6901280,3);\">\\n<span>\\u4e0a\\u9875</span>\\n<strong>1</strong>\\n<a href=\"/post-funinfo-6901280-2.shtml\">2</a>\\n<a href=\"/post-funinfo-6901280-3.shtml\">3</a>\\n<a class=\"js-keyboard-next\" href=\"/post-funinfo-6901280-2.shtml\">\\u4e0b\\u9875</a>\\n\\xa0\\u5230<input class=\"pagetxt\" name=\"page\" type=\"text\"/>\\u9875\\xa0<input class=\"pagebtn\" maxlength=\"6\" name=\"gopage\" type=\"submit\" value=\"\\u786e\\u5b9a\"/></form></div>"
      ]
     },
     "execution_count": 67,
     "metadata": {},
     "output_type": "execute_result"
    }
   ],
   "source": [
    "soup_post_page.find('div', {'class', 'atl-pages'})"
   ]
  },
  {
   "cell_type": "code",
   "execution_count": 68,
   "metadata": {
    "collapsed": false
   },
   "outputs": [
    {
     "data": {
      "text/plain": [
       "'3'"
      ]
     },
     "execution_count": 68,
     "metadata": {},
     "output_type": "execute_result"
    }
   ],
   "source": [
    "post_pages = soup_post_page.find('div', {'class', 'atl-pages'})\n",
    "post_pages = post_pages.form['onsubmit'].split(',')[-1].split(')')[0]\n",
    "post_pages"
   ]
  },
  {
   "cell_type": "code",
   "execution_count": 69,
   "metadata": {
    "collapsed": false
   },
   "outputs": [
    {
     "data": {
      "text/plain": [
       "'http://bbs.tianya.cn/post-funinfo-6901280-%d.shtml'"
      ]
     },
     "execution_count": 69,
     "metadata": {},
     "output_type": "execute_result"
    }
   ],
   "source": [
    "url_base = '-'.join(df.link[10].split('-')[:-1]) + '-%d.shtml'\n",
    "url_base"
   ]
  },
  {
   "cell_type": "code",
   "execution_count": 70,
   "metadata": {
    "collapsed": false
   },
   "outputs": [],
   "source": [
    "def parsePage(pa):\n",
    "    records = []\n",
    "    for i in pa:\n",
    "        p_info = i.find('a', class_ = 'reportme a-link')\n",
    "        p_time = p_info['replytime']\n",
    "        p_author_id = p_info['authorid']\n",
    "        p_author_name = p_info['author']\n",
    "        p_content = i.find('div', {'class', 'bbs-content'}).text.strip()\n",
    "        p_content = p_content.replace('\\t', '').replace('\\n', '')\n",
    "        record = p_time + '\\t' + p_author_id+ '\\t' + p_author_name + '\\t'+ p_content\n",
    "        records.append(record)\n",
    "    return records"
   ]
  },
  {
   "cell_type": "code",
   "execution_count": 73,
   "metadata": {
    "collapsed": true
   },
   "outputs": [],
   "source": [
    "import sys\n",
    "def flushPrint(s):\n",
    "    sys.stdout.write('\\r')\n",
    "    sys.stdout.write('%s' % s)\n",
    "    sys.stdout.flush()"
   ]
  },
  {
   "cell_type": "code",
   "execution_count": 74,
   "metadata": {
    "collapsed": false
   },
   "outputs": [
    {
     "data": {
      "text/plain": [
       "<div class=\"atl-pages\"><form action=\"\" method=\"get\" onsubmit=\"return goPage(this,'funinfo',6901280,3);\">\\n<span>\\u4e0a\\u9875</span>\\n<strong>1</strong>\\n<a href=\"/post-funinfo-6901280-2.shtml\">2</a>\\n<a href=\"/post-funinfo-6901280-3.shtml\">3</a>\\n<a class=\"js-keyboard-next\" href=\"/post-funinfo-6901280-2.shtml\">\\u4e0b\\u9875</a>\\n\\xa0\\u5230<input class=\"pagetxt\" name=\"page\" type=\"text\"/>\\u9875\\xa0<input class=\"pagebtn\" maxlength=\"6\" name=\"gopage\" type=\"submit\" value=\"\\u786e\\u5b9a\"/></form></div>"
      ]
     },
     "execution_count": 74,
     "metadata": {},
     "output_type": "execute_result"
    }
   ],
   "source": [
    "url_1 = df.link[10]\n",
    "content = urllib2.urlopen(url_1).read() #获取网页的html文本\n",
    "post_soup = BeautifulSoup(content, \"lxml\") \n",
    "pa = post_soup.find_all('div', {'class', 'atl-item'})\n",
    "b = post_soup.find('div', class_= 'atl-pages')\n",
    "b"
   ]
  },
  {
   "cell_type": "code",
   "execution_count": 75,
   "metadata": {
    "collapsed": false
   },
   "outputs": [
    {
     "data": {
      "text/plain": [
       "<div class=\"atl-pages host-pages\"></div>"
      ]
     },
     "execution_count": 75,
     "metadata": {},
     "output_type": "execute_result"
    }
   ],
   "source": [
    "url_1 = df.link[1]\n",
    "content = urllib2.urlopen(url_1).read() #获取网页的html文本\n",
    "post_soup = BeautifulSoup(content, \"lxml\") \n",
    "pa = post_soup.find_all('div', {'class', 'atl-item'})\n",
    "a = post_soup.find('div', class_= 'atl-pages')\n",
    "a"
   ]
  },
  {
   "cell_type": "code",
   "execution_count": 76,
   "metadata": {
    "collapsed": false
   },
   "outputs": [
    {
     "name": "stdout",
     "output_type": "stream",
     "text": [
      "true\n"
     ]
    }
   ],
   "source": [
    "if b.form:\n",
    "    print 'true'\n",
    "else:\n",
    "    print 'false'"
   ]
  },
  {
   "cell_type": "code",
   "execution_count": 77,
   "metadata": {
    "collapsed": true
   },
   "outputs": [],
   "source": [
    "import random\n",
    "import time\n",
    "\n",
    "def crawler(url, file_name):\n",
    "    try:\n",
    "        content = urllib2.urlopen(url).read()\n",
    "        post_soup = BeautifulSoup(content, \"lxml\") \n",
    "        \n",
    "        post_form = post_soup.find('div', {'class', 'atl-pages'})\n",
    "        if post_form.form:\n",
    "            post_pages = post_form.form['onsubmit'].split(',')[-1].split(')')[0]\n",
    "            post_pages = int(post_pages)\n",
    "            url_base = '-'.join(url.split('-')[:-1]) + '-%d.shtml'\n",
    "        else:\n",
    "            post_pages = 1\n",
    "        pa = post_soup.find_all('div', {'class', 'atl-item'})\n",
    "        records = parsePage(pa)\n",
    "        with open(file_name,'a') as p:\n",
    "            for record in records:    \n",
    "                p.write('1'+ '\\t' + url + '\\t' + record.encode('utf-8')+\"\\n\") \n",
    "  \n",
    "        if post_pages > 1:\n",
    "            for page_num in range(2, post_pages+1):\n",
    "                time.sleep(random.random())\n",
    "                flushPrint(page_num)\n",
    "                url2 =url_base  % page_num\n",
    "                content = urllib2.urlopen(url2).read() #获取网页的html文本\n",
    "                post_soup = BeautifulSoup(content, \"lxml\") \n",
    "                pa = post_soup.find_all('div', {'class', 'atl-item'})\n",
    "                records = parsePage(pa)\n",
    "                with open(file_name,'a') as p: # '''Note'''：Ａppend mode, run only once!\n",
    "                    for record in records:    \n",
    "                        p.write(str(page_num) + '\\t' +url + '\\t' + record.encode('utf-8')+\"\\n\") \n",
    "        else:\n",
    "            pass\n",
    "    except Exception, e:\n",
    "        print e\n",
    "        pass"
   ]
  },
  {
   "cell_type": "code",
   "execution_count": 53,
   "metadata": {
    "collapsed": false
   },
   "outputs": [
    {
     "name": "stdout",
     "output_type": "stream",
     "text": [
      "3"
     ]
    }
   ],
   "source": [
    "url = df.link[10]\n",
    "file_name = 'E:/WODE/M Homework/Computational communication/Tianya_papi_test.txt'\n",
    "crawler(url, file_name)"
   ]
  },
  {
   "cell_type": "code",
   "execution_count": 78,
   "metadata": {
    "collapsed": false,
    "scrolled": false
   },
   "outputs": [
    {
     "name": "stdout",
     "output_type": "stream",
     "text": [
      "http://bbs.tianya.cn/post-free-5444809-1.shtml  This it the post of : 0\n",
      "http://bbs.tianya.cn/post-funinfo-6901280-1.shtml  This it the post of : 10\n",
      "http://bbs.tianya.cn/post-no06-286668-1.shtmlHTTP Error 404: Not Found\n",
      "http://bbs.tianya.cn/post-funinfo-6878871-1.shtml  This it the post of : 20\n",
      "http://bbs.tianya.cn/post-665-1067828-1.shtml  This it the post of : 30\n",
      "http://bbs.tianya.cn/post-funinfo-6904291-1.shtml  This it the post of : 40\n",
      "http://bbs.tianya.cn/post-333-854015-1.shtml  This it the post of : 50\n",
      "http://bbs.tianya.cn/post-funinfo-6901792-1.shtml  This it the post of : 60\n",
      "http://bbs.tianya.cn/post-free-5444004-1.shtml  This it the post of : 70\n",
      "http://bbs.tianya.cn/post-333-841358-1.shtml  This it the post of : 80\n",
      "http://bbs.tianya.cn/post-funinfo-6889540-1.shtml  This it the post of : 90\n",
      "http://bbs.tianya.cn/post-333-855499-1.shtml  This it the post of : 100\n",
      "http://bbs.tianya.cn/post-develop-2121570-1.shtml  This it the post of : 110\n",
      "http://bbs.tianya.cn/post-funinfo-6866382-1.shtml  This it the post of : 120\n",
      "http://bbs.tianya.cn/post-funinfo-6904558-1.shtml  This it the post of : 130\n",
      "http://bbs.tianya.cn/post-no110-15505502-1.shtml  This it the post of : 140\n",
      "http://bbs.tianya.cn/post-motss-122791-1.shtml  This it the post of : 150\n",
      "http://bbs.tianya.cn/post-water-1730791-1.shtmlHTTP Error 404: Not Found\n",
      "http://bbs.tianya.cn/post-develop-2136577-1.shtml  This it the post of : 160\n",
      "http://bbs.tianya.cn/post-funinfo-6924221-1.shtml  This it the post of : 170\n",
      "http://bbs.tianya.cn/post-333-891183-1.shtml  This it the post of : 180\n",
      "http://bbs.tianya.cn/post-worldlook-1646464-1.shtml  This it the post of : 190\n",
      "http://bbs.tianya.cn/post-free-5420939-1.shtml  This it the post of : 200\n",
      "http://bbs.tianya.cn/post-university-700581-1.shtml  This it the post of : 210\n",
      "http://bbs.tianya.cn/post-funinfo-6913944-1.shtml  This it the post of : 220\n",
      "http://bbs.tianya.cn/post-develop-2127210-1.shtml  This it the post of : 230\n",
      "http://bbs.tianya.cn/post-worldlook-1649869-1.shtml  This it the post of : 240\n",
      "http://bbs.tianya.cn/post-enterprise-1377506-1.shtml  This it the post of : 250\n",
      "http://bbs.tianya.cn/post-no06-285504-1.shtml  This it the post of : 260\n",
      "http://bbs.tianya.cn/post-funinfo-6905389-1.shtml  This it the post of : 270\n",
      "http://bbs.tianya.cn/post-funinfo-6847682-1.shtml  This it the post of : 280\n",
      "http://bbs.tianya.cn/post-free-5440852-1.shtml  This it the post of : 290\n",
      "http://bbs.tianya.cn/post-develop-2130642-1.shtml  This it the post of : 300\n",
      "http://bbs.tianya.cn/post-enterprise-1379665-1.shtml  This it the post of : 310\n",
      "http://bbs.tianya.cn/post-20-615551-1.shtmlHTTP Error 404: Not Found\n",
      "http://bbs.tianya.cn/post-no20-572770-1.shtml  This it the post of : 320\n",
      "http://bbs.tianya.cn/post-help-461814-1.shtml  This it the post of : 330\n",
      "http://bbs.tianya.cn/post-1044-6780-1.shtml  This it the post of : 340\n",
      "http://bbs.tianya.cn/post-stocks-1712435-1.shtml  This it the post of : 350\n",
      "http://bbs.tianya.cn/post-university-693301-1.shtml  This it the post of : 360\n",
      "http://bbs.tianya.cn/post-no06-285569-1.shtml  This it the post of : 370\n",
      "http://bbs.tianya.cn/post-316-15794-1.shtmlHTTP Error 404: Not Found\n",
      "http://bbs.tianya.cn/post-665-346060-1.shtml  This it the post of : 380\n",
      "http://bbs.tianya.cn/post-16-1287556-1.shtml  This it the post of : 390\n",
      "http://bbs.tianya.cn/post-worldlook-820133-1.shtml  This it the post of : 400\n",
      "http://bbs.tianya.cn/post-free-1302579-1.shtml  This it the post of : 410\n",
      "http://bbs.tianya.cn/post-202-531997-1.shtml  This it the post of : 420\n",
      "http://bbs.tianya.cn/post-45-1215018-1.shtml  This it the post of : 430\n",
      "http://bbs.tianya.cn/post-149-559233-1.shtml  This it the post of : 440\n",
      "http://bbs.tianya.cn/post-200-521816-1.shtml  This it the post of : 450\n",
      "http://bbs.tianya.cn/post-music-84411-1.shtml  This it the post of : 460\n",
      "http://bbs.tianya.cn/post-401-386-1.shtml  This it the post of : 470\n",
      "http://bbs.tianya.cn/post-471-804476-1.shtml  This it the post of : 480\n",
      "http://bbs.tianya.cn/post-471-776543-1.shtml  This it the post of : 490\n",
      "http://bbs.tianya.cn/post-house-480861-1.shtml  This it the post of : 500\n",
      "http://bbs.tianya.cn/post-471-221073-1.shtml  This it the post of : 510\n",
      "http://bbs.tianya.cn/post-494-31506-1.shtml"
     ]
    }
   ],
   "source": [
    "for k,link in enumerate(df.link):\n",
    "    flushPrint(link)\n",
    "    if k % 10== 0:\n",
    "        print '  This it the post of : ' + str(k)\n",
    "    file_name = 'E:/WODE/M Homework/Computational communication/Tianya_papi_reply_text.txt'\n",
    "    crawler(link, file_name)"
   ]
  },
  {
   "cell_type": "markdown",
   "metadata": {},
   "source": [
    "> ## 2.4读取数据"
   ]
  },
  {
   "cell_type": "code",
   "execution_count": 79,
   "metadata": {
    "collapsed": false,
    "scrolled": true
   },
   "outputs": [
    {
     "data": {
      "text/plain": [
       "6157"
      ]
     },
     "execution_count": 79,
     "metadata": {},
     "output_type": "execute_result"
    }
   ],
   "source": [
    "dtt = []\n",
    "with open('E:/WODE/M Homework/Computational communication/Tianya_papi_reply_text.txt', 'r') as f:\n",
    "    for line in f:\n",
    "        pnum, link, time, author_id, author, content = line.replace('\\n', '').split('\\t')\n",
    "        dtt.append([pnum, link, time, author_id, author, content])\n",
    "len(dtt)"
   ]
  },
  {
   "cell_type": "code",
   "execution_count": 84,
   "metadata": {
    "collapsed": false
   },
   "outputs": [
    {
     "data": {
      "text/html": [
       "<div>\n",
       "<table border=\"1\" class=\"dataframe\">\n",
       "  <thead>\n",
       "    <tr style=\"text-align: right;\">\n",
       "      <th></th>\n",
       "      <th>0</th>\n",
       "      <th>1</th>\n",
       "      <th>2</th>\n",
       "      <th>3</th>\n",
       "      <th>4</th>\n",
       "      <th>5</th>\n",
       "    </tr>\n",
       "  </thead>\n",
       "  <tbody>\n",
       "    <tr>\n",
       "      <th>0</th>\n",
       "      <td>1</td>\n",
       "      <td>http://bbs.tianya.cn/post-free-5444809-1.shtml</td>\n",
       "      <td>2016-04-23 17:56:00</td>\n",
       "      <td>109125422</td>\n",
       "      <td>willaimm</td>\n",
       "      <td>#papi酱天价广告# 这样拙劣的骗术真是让网红经济蒙羞！　　http://weibo.co...</td>\n",
       "    </tr>\n",
       "    <tr>\n",
       "      <th>1</th>\n",
       "      <td>1</td>\n",
       "      <td>http://bbs.tianya.cn/post-free-5444809-1.shtml</td>\n",
       "      <td>2016-04-23 18:25:39</td>\n",
       "      <td>109125422</td>\n",
       "      <td>willaimm</td>\n",
       "      <td></td>\n",
       "    </tr>\n",
       "    <tr>\n",
       "      <th>2</th>\n",
       "      <td>1</td>\n",
       "      <td>http://bbs.tianya.cn/post-develop-2135132-1.shtml</td>\n",
       "      <td>2016-04-18 21:20:00</td>\n",
       "      <td>5288868</td>\n",
       "      <td>e路狂飙</td>\n",
       "      <td>Papi酱被封了，大家有什么看法？！背后有没有内幕就不知道了，直接原因是因为毒舌。整改后就没...</td>\n",
       "    </tr>\n",
       "    <tr>\n",
       "      <th>3</th>\n",
       "      <td>1</td>\n",
       "      <td>http://bbs.tianya.cn/post-develop-2135132-1.shtml</td>\n",
       "      <td>2016-04-18 21:43:59</td>\n",
       "      <td>111382677</td>\n",
       "      <td>小猫中暑</td>\n",
       "      <td>@e路狂飙 我觉得papi酱被封是早晚的事，就算罗胖不投他，广电也照样会封杀她</td>\n",
       "    </tr>\n",
       "    <tr>\n",
       "      <th>4</th>\n",
       "      <td>1</td>\n",
       "      <td>http://bbs.tianya.cn/post-develop-2135132-1.shtml</td>\n",
       "      <td>2016-04-18 21:52:45</td>\n",
       "      <td>5288868</td>\n",
       "      <td>e路狂飙</td>\n",
       "      <td>@小猫中暑 2016-04-18 21:43:59　　@e路狂飙    我觉得papi酱被封...</td>\n",
       "    </tr>\n",
       "  </tbody>\n",
       "</table>\n",
       "</div>"
      ],
      "text/plain": [
       "   0                                                  1                    2  \\\n",
       "0  1     http://bbs.tianya.cn/post-free-5444809-1.shtml  2016-04-23 17:56:00   \n",
       "1  1     http://bbs.tianya.cn/post-free-5444809-1.shtml  2016-04-23 18:25:39   \n",
       "2  1  http://bbs.tianya.cn/post-develop-2135132-1.shtml  2016-04-18 21:20:00   \n",
       "3  1  http://bbs.tianya.cn/post-develop-2135132-1.shtml  2016-04-18 21:43:59   \n",
       "4  1  http://bbs.tianya.cn/post-develop-2135132-1.shtml  2016-04-18 21:52:45   \n",
       "\n",
       "           3         4                                                  5  \n",
       "0  109125422  willaimm  #papi酱天价广告# 这样拙劣的骗术真是让网红经济蒙羞！　　http://weibo.co...  \n",
       "1  109125422  willaimm                                                     \n",
       "2    5288868      e路狂飙  Papi酱被封了，大家有什么看法？！背后有没有内幕就不知道了，直接原因是因为毒舌。整改后就没...  \n",
       "3  111382677      小猫中暑            @e路狂飙 我觉得papi酱被封是早晚的事，就算罗胖不投他，广电也照样会封杀她  \n",
       "4    5288868      e路狂飙  @小猫中暑 2016-04-18 21:43:59　　@e路狂飙    我觉得papi酱被封...  "
      ]
     },
     "execution_count": 84,
     "metadata": {},
     "output_type": "execute_result"
    }
   ],
   "source": [
    "dt = pd.DataFrame(dtt)\n",
    "dt[:5]"
   ]
  },
  {
   "cell_type": "code",
   "execution_count": 85,
   "metadata": {
    "collapsed": false
   },
   "outputs": [
    {
     "data": {
      "text/html": [
       "<div>\n",
       "<table border=\"1\" class=\"dataframe\">\n",
       "  <thead>\n",
       "    <tr style=\"text-align: right;\">\n",
       "      <th></th>\n",
       "      <th>page_num</th>\n",
       "      <th>link</th>\n",
       "      <th>time</th>\n",
       "      <th>author</th>\n",
       "      <th>author_name</th>\n",
       "      <th>reply</th>\n",
       "    </tr>\n",
       "  </thead>\n",
       "  <tbody>\n",
       "    <tr>\n",
       "      <th>0</th>\n",
       "      <td>1</td>\n",
       "      <td>http://bbs.tianya.cn/post-free-5444809-1.shtml</td>\n",
       "      <td>2016-04-23 17:56:00</td>\n",
       "      <td>109125422</td>\n",
       "      <td>willaimm</td>\n",
       "      <td>#papi酱天价广告# 这样拙劣的骗术真是让网红经济蒙羞！　　http://weibo.co...</td>\n",
       "    </tr>\n",
       "    <tr>\n",
       "      <th>1</th>\n",
       "      <td>1</td>\n",
       "      <td>http://bbs.tianya.cn/post-free-5444809-1.shtml</td>\n",
       "      <td>2016-04-23 18:25:39</td>\n",
       "      <td>109125422</td>\n",
       "      <td>willaimm</td>\n",
       "      <td></td>\n",
       "    </tr>\n",
       "    <tr>\n",
       "      <th>2</th>\n",
       "      <td>1</td>\n",
       "      <td>http://bbs.tianya.cn/post-develop-2135132-1.shtml</td>\n",
       "      <td>2016-04-18 21:20:00</td>\n",
       "      <td>5288868</td>\n",
       "      <td>e路狂飙</td>\n",
       "      <td>Papi酱被封了，大家有什么看法？！背后有没有内幕就不知道了，直接原因是因为毒舌。整改后就没...</td>\n",
       "    </tr>\n",
       "    <tr>\n",
       "      <th>3</th>\n",
       "      <td>1</td>\n",
       "      <td>http://bbs.tianya.cn/post-develop-2135132-1.shtml</td>\n",
       "      <td>2016-04-18 21:43:59</td>\n",
       "      <td>111382677</td>\n",
       "      <td>小猫中暑</td>\n",
       "      <td>@e路狂飙 我觉得papi酱被封是早晚的事，就算罗胖不投他，广电也照样会封杀她</td>\n",
       "    </tr>\n",
       "    <tr>\n",
       "      <th>4</th>\n",
       "      <td>1</td>\n",
       "      <td>http://bbs.tianya.cn/post-develop-2135132-1.shtml</td>\n",
       "      <td>2016-04-18 21:52:45</td>\n",
       "      <td>5288868</td>\n",
       "      <td>e路狂飙</td>\n",
       "      <td>@小猫中暑 2016-04-18 21:43:59　　@e路狂飙    我觉得papi酱被封...</td>\n",
       "    </tr>\n",
       "  </tbody>\n",
       "</table>\n",
       "</div>"
      ],
      "text/plain": [
       "  page_num                                               link  \\\n",
       "0        1     http://bbs.tianya.cn/post-free-5444809-1.shtml   \n",
       "1        1     http://bbs.tianya.cn/post-free-5444809-1.shtml   \n",
       "2        1  http://bbs.tianya.cn/post-develop-2135132-1.shtml   \n",
       "3        1  http://bbs.tianya.cn/post-develop-2135132-1.shtml   \n",
       "4        1  http://bbs.tianya.cn/post-develop-2135132-1.shtml   \n",
       "\n",
       "                  time     author author_name  \\\n",
       "0  2016-04-23 17:56:00  109125422    willaimm   \n",
       "1  2016-04-23 18:25:39  109125422    willaimm   \n",
       "2  2016-04-18 21:20:00    5288868        e路狂飙   \n",
       "3  2016-04-18 21:43:59  111382677        小猫中暑   \n",
       "4  2016-04-18 21:52:45    5288868        e路狂飙   \n",
       "\n",
       "                                               reply  \n",
       "0  #papi酱天价广告# 这样拙劣的骗术真是让网红经济蒙羞！　　http://weibo.co...  \n",
       "1                                                     \n",
       "2  Papi酱被封了，大家有什么看法？！背后有没有内幕就不知道了，直接原因是因为毒舌。整改后就没...  \n",
       "3            @e路狂飙 我觉得papi酱被封是早晚的事，就算罗胖不投他，广电也照样会封杀她  \n",
       "4  @小猫中暑 2016-04-18 21:43:59　　@e路狂飙    我觉得papi酱被封...  "
      ]
     },
     "execution_count": 85,
     "metadata": {},
     "output_type": "execute_result"
    }
   ],
   "source": [
    "dt=dt.rename(columns = {0:'page_num', 1:'link', 2:'time', 3:'author',4:'author_name', 5:'reply'})\n",
    "dt[:5]"
   ]
  },
  {
   "cell_type": "code",
   "execution_count": 87,
   "metadata": {
    "collapsed": false
   },
   "outputs": [
    {
     "data": {
      "text/plain": [
       "0      #papi酱天价广告# 这样拙劣的骗术真是让网红经济蒙羞！　　http://weibo.co...\n",
       "1                                                       \n",
       "2      Papi酱被封了，大家有什么看法？！背后有没有内幕就不知道了，直接原因是因为毒舌。整改后就没...\n",
       "3                @e路狂飙 我觉得papi酱被封是早晚的事，就算罗胖不投他，广电也照样会封杀她\n",
       "4      @小猫中暑 2016-04-18 21:43:59　　@e路狂飙    我觉得papi酱被封...\n",
       "5      papi酱的视频我也看过，感觉受众面比较小，也就是昙花一现的命运～说实话，要是投敖厂长和军武...\n",
       "6      @沉默的小绵羊ok 2016-04-19 08:55:20　　papi酱的视频我也看过，感觉...\n",
       "7      我认为不会　　有人问过我，Papi的才华到底体现在哪里？出过书？演过电影？获得过大奖？不少人...\n",
       "8      有人问过我，Papi的才华到底体现在哪里？出过书？演过电影？获得过大奖？不少人甚至觉得此女子...\n",
       "9      @摸扎 2016-04-20 17:20:04　　有人问过我，Papi的才华到底体现在哪里？...\n",
       "10     还不知道Papi酱？那等你知道的时候，她已经不是Papi酱，而是Papi圣酱了。那么，你很幸...\n",
       "11                                                   卧槽？\n",
       "12                                                    我操\n",
       "13                                                 @无厘哈豆\n",
       "14                                 看papi酱经典语录（3）*练硬笔行书书法\n",
       "15                                                  路过这里\n",
       "16     @一片寒雪  1楼  2016-05-14 05:57:00　　路过这里　　————————...\n",
       "17                                       @扁扁哥9999  欢迎来吐槽\n",
       "18                             看网红《papi酱》经典语录（2）*练硬笔行书书法\n",
       "19                                                      \n",
       "20                                                不错的创作！\n",
       "21     @一片寒雪  2楼  2016-05-13 12:49:00　　不错的创作！　　——————...\n",
       "22                                        @扁扁哥9999 欢迎来吐槽\n",
       "23     PAPI酱视频片尾彩蛋环节的贴片广告，仅一次，时长6-7秒,价格2200万。主观上的直观感受...\n",
       "24     大家还在靠整容做网红出名？别瞎折腾了！这位在微博汇聚800多万粉丝人气的网络红人且集美貌与智...\n",
       "25                          本来就不是最火的，在新闻曝光以前大部分人都不知道这个人吧\n",
       "26     刚踏入2016年，网络上就出现了一个“2016年第一网红”papi酱。没有网红标配的V字脸和...\n",
       "27     大家还在靠整容做网红出名？别瞎折腾了！这位在微博汇聚800多万粉丝人气的网络红人且集美貌与智...\n",
       "28     4月4日，微信公众号：影视口碑榜发布的一篇《独家 | papi酱遭广电总局封杀 罗振宇120...\n",
       "29       这个也能被投资，我一开始以为她闹着玩的，就如同我们晚点大咖秀手机软件一样，没有想到她拿这个发财\n",
       "                             ...                        \n",
       "170             没有看新闻乱播了么?　　快直接封杀互联网吧　　不然CCAV都臭到马桶进里没人看了\n",
       "171    @花之精灵虎妞们 2016-04-18 19:05:09　　呵呵，吃饱没事干投资这　　---...\n",
       "172         我想说第一次看到此女就不舒服，没看过她的视频，后来听说考此拉钱发财就更相信自己的直觉⋯⋯\n",
       "173    不喜欢她，不觉得她好看，但是为什么要封杀她？？？？莫名其妙的，封杀这个那个，有本事去封杀几个...\n",
       "174                                            广电表示这几天好忙\n",
       "175                             这么无聊的东西 lz还是自己留着看吧 没人跟你抢\n",
       "176                         看了没觉得啥好看的 怎么都说很火  难道是我们落伍了啊？\n",
       "177    @蜂鸟心跳    2016-04-18 19:52:32　　这是另类的炒作手法吗，为什么才几...\n",
       "178                                  她挺好的啊，怎么不去封杀那个什么后裔的\n",
       "179                                    最近对广电已经忍无可忍了!!!!!\n",
       "180    看过一集，感觉跟那些哗众取宠的没什么区别，这女人把自己的表情弄的太丑了，粗鄙算不上吧，也谈不...\n",
       "181                                    楼上的我们看的真是同一个人的视频吗\n",
       "182                                           无语，广电什么不封啊\n",
       "183    这女人绝对用钱砸宣传了。。。各种新闻。。我都不知道这个人是谁。。还有。。这个贴。。就这么一点...\n",
       "184                                     大叔不知道她是谁？大叔OUT了！\n",
       "185                             本来也是哗众取宠的感觉，有什么笑点？低俗的感觉。\n",
       "186                            广电的各位同志什么时候分管一下食品安全方面的工作？\n",
       "187    说实话，中国还是正经做些能够流传将来的文艺作品吧。　　我最近没事在看《名侦探柯南》，我们真的...\n",
       "188    @仲胺催化硝基烷烃 2016-04-19 09:06:05 　　@u_109493918 2...\n",
       "189            我还蛮喜欢Papi酱的，看了以后哈哈一乐感觉也没听出哪里暗示侮辱了，表示广电管太宽\n",
       "190    个人表示对这种御姐系的女人不感兴趣。网络上说脏话的节目多的是，那个《暴走大事件》系列还不是一...\n",
       "191         papi酱的电影就该这么做很好玩啊　　话说网红不都这样的　　木下光直播吃东西就可以赚钱呢\n",
       "192                                              一個無聊的女人\n",
       "193                                  papi是导演啊，她得到投资有什么问题\n",
       "194    我不懂papi酱那些并不包含侮辱性质只作情绪表达的词语怎么就算粗口太多脏话连篇了.要是以别的...\n",
       "195                                               我的papi\n",
       "196                                不觉得她视频变声声音特别尖锐吗，听了好难受\n",
       "197    @u_109493918    2016-04-18 17:04:55　　是不是有人向广电投...\n",
       "198                     这个papi酱的八字看过了，就能火这2年，毕竟层次和大运都不理想\n",
       "199           就我一人觉得视频粗俗？整个视频吐槽这吐槽那的烦不烦，能火起来还受到大家欢迎不能理解。\n",
       "Name: reply, dtype: object"
      ]
     },
     "execution_count": 87,
     "metadata": {},
     "output_type": "execute_result"
    }
   ],
   "source": [
    "dt.reply[:200]"
   ]
  },
  {
   "cell_type": "code",
   "execution_count": null,
   "metadata": {
    "collapsed": true
   },
   "outputs": [],
   "source": []
  }
 ],
 "metadata": {
  "kernelspec": {
   "display_name": "Python 2",
   "language": "python",
   "name": "python2"
  },
  "language_info": {
   "codemirror_mode": {
    "name": "ipython",
    "version": 2
   },
   "file_extension": ".py",
   "mimetype": "text/x-python",
   "name": "python",
   "nbconvert_exporter": "python",
   "pygments_lexer": "ipython2",
   "version": "2.7.11"
  }
 },
 "nbformat": 4,
 "nbformat_minor": 0
}
