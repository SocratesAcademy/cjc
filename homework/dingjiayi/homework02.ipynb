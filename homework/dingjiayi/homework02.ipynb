{
 "cells": [
  {
   "cell_type": "markdown",
   "metadata": {},
   "source": [
    "homework02 dingjiayi 15210130053"
   ]
  },
  {
   "cell_type": "markdown",
   "metadata": {},
   "source": [
    "1.抓取政府工作报告 "
   ]
  },
  {
   "cell_type": "code",
   "execution_count": 386,
   "metadata": {
    "collapsed": true
   },
   "outputs": [],
   "source": [
    "import urllib2\n",
    "from bs4 import BeautifulSoup"
   ]
  },
  {
   "cell_type": "code",
   "execution_count": 387,
   "metadata": {
    "collapsed": false
   },
   "outputs": [
    {
     "data": {
      "text/html": [
       "<iframe src=http://www.hprc.org.cn/wxzl/wxysl/lczf/ width=1000 height=500></iframe>"
      ],
      "text/plain": [
       "<IPython.core.display.HTML object>"
      ]
     },
     "execution_count": 387,
     "metadata": {},
     "output_type": "execute_result"
    }
   ],
   "source": [
    "from IPython.display import display_html, HTML\n",
    "HTML('<iframe src=http://www.hprc.org.cn/wxzl/wxysl/lczf/ width=1000 height=500></iframe>')"
   ]
  },
  {
   "cell_type": "code",
   "execution_count": 388,
   "metadata": {
    "collapsed": false
   },
   "outputs": [
    {
     "data": {
      "text/plain": [
       "u'./d12qgrdzfbg/201603/t20160318_369509.html'"
      ]
     },
     "execution_count": 388,
     "metadata": {},
     "output_type": "execute_result"
    }
   ],
   "source": [
    "url = \"http://www.hprc.org.cn/wxzl/wxysl/lczf/\" \n",
    "content = urllib2.urlopen(url).read().decode('gb18030') \n",
    "soup = BeautifulSoup(content, 'html.parser')  # 'html.parser'解析html的模块\n",
    "#links = soup.find_all('td', {'class', 'bl'}) \n",
    "links=soup.select('.bl a') #Select选择CSS标签,id查找用＃\n",
    "links[0]['href']"
   ]
  },
  {
   "cell_type": "code",
   "execution_count": 389,
   "metadata": {
    "collapsed": false
   },
   "outputs": [
    {
     "name": "stdout",
     "output_type": "stream",
     "text": [
      "47\n"
     ]
    }
   ],
   "source": [
    "print len(links)"
   ]
  },
  {
   "cell_type": "code",
   "execution_count": 390,
   "metadata": {
    "collapsed": false
   },
   "outputs": [
    {
     "name": "stdout",
     "output_type": "stream",
     "text": [
      "./d12qgrdzfbg/201603/t20160318_369509.html\n"
     ]
    }
   ],
   "source": [
    "print links[0]['href']"
   ]
  },
  {
   "cell_type": "code",
   "execution_count": 391,
   "metadata": {
    "collapsed": false
   },
   "outputs": [
    {
     "data": {
      "text/plain": [
       "<a href=\"./d12qgrdzfbg/201603/t20160318_369509.html\" target=\"_blank\" title=\"2016\\u5e74\\u653f\\u5e9c\\u5de5\\u4f5c\\u62a5\\u544a\">2016\\u5e74\\u653f\\u5e9c\\u5de5\\u4f5c\\u62a5\\u544a</a>"
      ]
     },
     "execution_count": 391,
     "metadata": {},
     "output_type": "execute_result"
    }
   ],
   "source": [
    "links=soup.select('.bl a[href]')\n",
    "links[0]"
   ]
  },
  {
   "cell_type": "code",
   "execution_count": 392,
   "metadata": {
    "collapsed": false
   },
   "outputs": [
    {
     "data": {
      "text/plain": [
       "u'http://www.hprc.org.cn/wxzl/wxysl/lczf/dishiyijie/201103/t20110315_153641.html'"
      ]
     },
     "execution_count": 392,
     "metadata": {},
     "output_type": "execute_result"
    }
   ],
   "source": [
    "hyperlinks=[url + i['href'].split('./')[1] for i in links]\n",
    "hyperlinks[5]"
   ]
  },
  {
   "cell_type": "code",
   "execution_count": 393,
   "metadata": {
    "collapsed": false
   },
   "outputs": [
    {
     "data": {
      "text/html": [
       "<iframe src=http://www.hprc.org.cn/wxzl/wxysl/lczf/dishiyijie/201103/t20110315_153641.html width=1000 height=500></iframe>"
      ],
      "text/plain": [
       "<IPython.core.display.HTML object>"
      ]
     },
     "execution_count": 393,
     "metadata": {},
     "output_type": "execute_result"
    }
   ],
   "source": [
    "from IPython.display import display_html, HTML\n",
    "HTML('<iframe src=http://www.hprc.org.cn/wxzl/wxysl/lczf/dishiyijie/201103/t20110315_153641.html \\\n",
    "width=1000 height=500></iframe>')"
   ]
  },
  {
   "cell_type": "code",
   "execution_count": 394,
   "metadata": {
    "collapsed": false
   },
   "outputs": [],
   "source": [
    "url_i = 'http://www.hprc.org.cn/wxzl/wxysl/lczf/dishiyijie/201103/t20110315_153641_1.html'\n",
    "content = urllib2.urlopen(url_i).read().decode('gb18030')  \n",
    "soup = BeautifulSoup(content, 'html.parser') \n",
    "#scripts = soup.find_all('script')\n",
    "#scripts[0]\n",
    "\n",
    "scripts = soup.select('td script')[0]"
   ]
  },
  {
   "cell_type": "code",
   "execution_count": 395,
   "metadata": {
    "collapsed": false
   },
   "outputs": [
    {
     "data": {
      "text/plain": [
       "<script>\\n\\tvar currentPage = 1;//\\u6240\\u5728\\u9875\\u4ece0\\u5f00\\u59cb\\n\\tvar prevPage = currentPage-1//\\u4e0a\\u4e00\\u9875\\n\\tvar \\u4e0b\\u4e00\\u9875Page = currentPage+1//\\u4e0b\\u4e00\\u9875\\n\\tvar countPage = 9//\\u5171\\u591a\\u5c11\\u9875\\n\\t//document.write(\"\\u5171\"+countPage+\"\\u9875&nbsp;&nbsp;\");\\n\\t\\n\\t//\\u5faa\\u73af\\n\\tvar num = 17;\\n\\tfor(var i=0+(currentPage-1-(currentPage-1)%num) ; i<=(num+(currentPage-1-(currentPage-1)%num))&&(i<countPage) ; i++){\\n\\t\\tif(countPage >1){\\n\\t\\t\\tif(currentPage==i)\\n\\t\\t\\t\\tdocument.write(\"\\u3010<span style=\\\\\"color:#FF0000;\\\\\" class=\\\\\"hui14_30_h\\\\\">\"+(i+1)+\"</span>\\u3011&nbsp;\");\\n\\t\\t\\telse if(i==0)\\n\\t\\t\\t\\tdocument.write(\"<a href=\\\\\"t20110315_153641.html\\\\\" class=\\\\\"hui14_30_h\\\\\">\\u3010\"+(i+1)+\"\\u3011</a>&nbsp;\");\\n\\t\\t\\telse\\n\\t\\t\\t\\tdocument.write(\"<a href=\\\\\"t20110315_153641\"+\"_\" + i + \".\"+\"html\\\\\" class=\\\\\"hui14_30_h\\\\\">\\u3010\"+(i+1)+\"\\u3011</a>&nbsp;\");\\n\\t\\t}\\t\\n\\t}\\n\\t\\n\\tdocument.write(\"<br><br>\");\\n\\t//\\u8bbe\\u7f6e\\u4e0a\\u4e00\\u9875\\u4ee3\\u7801\\n\\tif(countPage>1&&currentPage!=0&&currentPage!=1)\\n\\t\\tdocument.write(\"<a href=\\\\\"t20110315_153641\"+\"_\" + prevPage + \".\"+\"html\\\\\"><span style=\\\\\"color:#0033FF;font-weight:bold\\\\\">\\u4e0a\\u4e00\\u9875</span></a>&nbsp;\");\\n\\telse if(countPage>1&&currentPage!=0&&currentPage==1)\\n\\t\\tdocument.write(\"<a href=\\\\\"t20110315_153641.html\\\\\"><span style=\\\\\"color:#0033FF;font-weight:bold\\\\\">\\u4e0a\\u4e00\\u9875</span></a>&nbsp;\");\\n\\t//else\\n\\t//\\tdocument.write(\"\\u4e0a\\u4e00\\u9875 &nbsp;\");\\n\\t\\n\\t\\n\\t//\\u8bbe\\u7f6e\\u4e0b\\u4e00\\u9875\\u4ee3\\u7801 \\n\\tif(countPage>1&&currentPage!=(countPage-1))\\n\\t\\tdocument.write(\"<a href=\\\\\"t20110315_153641\"+\"_\" + \\u4e0b\\u4e00\\u9875Page + \".\"+\"html\\\\\" ><span style=\\\\\"color:#0033FF;font-weight:bold\\\\\">\\u4e0b\\u4e00\\u9875</span></a> &nbsp;\");\\n\\t//else\\n\\t//\\tdocument.write(\"\\u4e0b\\u4e00\\u9875 &nbsp;\");\\n\\t\\t\\t\\t\\t \\n\\t</script>"
      ]
     },
     "execution_count": 395,
     "metadata": {},
     "output_type": "execute_result"
    }
   ],
   "source": [
    "scripts"
   ]
  },
  {
   "cell_type": "code",
   "execution_count": 396,
   "metadata": {
    "collapsed": false
   },
   "outputs": [
    {
     "name": "stdout",
     "output_type": "stream",
     "text": [
      "\n",
      "\tvar currentPage = 1;//所在页从0开始\n",
      "\tvar prevPage = currentPage-1//上一页\n",
      "\tvar 下一页Page = currentPage+1//下一页\n",
      "\tvar countPage = 9//共多少页\n",
      "\t//document.write(\"共\"+countPage+\"页&nbsp;&nbsp;\");\n",
      "\t\n",
      "\t//循环\n",
      "\tvar num = 17;\n",
      "\tfor(var i=0+(currentPage-1-(currentPage-1)%num) ; i<=(num+(currentPage-1-(currentPage-1)%num))&&(i<countPage) ; i++){\n",
      "\t\tif(countPage >1){\n",
      "\t\t\tif(currentPage==i)\n",
      "\t\t\t\tdocument.write(\"【<span style=\\\"color:#FF0000;\\\" class=\\\"hui14_30_h\\\">\"+(i+1)+\"</span>】&nbsp;\");\n",
      "\t\t\telse if(i==0)\n",
      "\t\t\t\tdocument.write(\"<a href=\\\"t20110315_153641.html\\\" class=\\\"hui14_30_h\\\">【\"+(i+1)+\"】</a>&nbsp;\");\n",
      "\t\t\telse\n",
      "\t\t\t\tdocument.write(\"<a href=\\\"t20110315_153641\"+\"_\" + i + \".\"+\"html\\\" class=\\\"hui14_30_h\\\">【\"+(i+1)+\"】</a>&nbsp;\");\n",
      "\t\t}\t\n",
      "\t}\n",
      "\t\n",
      "\tdocument.write(\"<br><br>\");\n",
      "\t//设置上一页代码\n",
      "\tif(countPage>1&&currentPage!=0&&currentPage!=1)\n",
      "\t\tdocument.write(\"<a href=\\\"t20110315_153641\"+\"_\" + prevPage + \".\"+\"html\\\"><span style=\\\"color:#0033FF;font-weight:bold\\\">上一页</span></a>&nbsp;\");\n",
      "\telse if(countPage>1&&currentPage!=0&&currentPage==1)\n",
      "\t\tdocument.write(\"<a href=\\\"t20110315_153641.html\\\"><span style=\\\"color:#0033FF;font-weight:bold\\\">上一页</span></a>&nbsp;\");\n",
      "\t//else\n",
      "\t//\tdocument.write(\"上一页 &nbsp;\");\n",
      "\t\n",
      "\t\n",
      "\t//设置下一页代码 \n",
      "\tif(countPage>1&&currentPage!=(countPage-1))\n",
      "\t\tdocument.write(\"<a href=\\\"t20110315_153641\"+\"_\" + 下一页Page + \".\"+\"html\\\" ><span style=\\\"color:#0033FF;font-weight:bold\\\">下一页</span></a> &nbsp;\");\n",
      "\t//else\n",
      "\t//\tdocument.write(\"下一页 &nbsp;\");\n",
      "\t\t\t\t\t \n",
      "\t\n"
     ]
    }
   ],
   "source": [
    "print scripts.text"
   ]
  },
  {
   "cell_type": "code",
   "execution_count": 397,
   "metadata": {
    "collapsed": false
   },
   "outputs": [
    {
     "data": {
      "text/plain": [
       "9"
      ]
     },
     "execution_count": 397,
     "metadata": {},
     "output_type": "execute_result"
    }
   ],
   "source": [
    "countPage = int(''.join(scripts).split('countPage = ')[1].split('//')[0])\n",
    "countPage"
   ]
  },
  {
   "cell_type": "code",
   "execution_count": 398,
   "metadata": {
    "collapsed": false
   },
   "outputs": [],
   "source": [
    "def crawler(url_i):\n",
    "    content = urllib2.urlopen(url_i).read().decode('gb18030')  \n",
    "    soup = BeautifulSoup(content, 'html.parser') \n",
    "    year = soup.find('span', {'class', 'huang16c'}).text[:4]\n",
    "    year = int(year)\n",
    "    report = ''.join(s.text for s in soup('p'))\n",
    "    # 找到分页信息\n",
    "    scripts = soup.find_all('script')\n",
    "    countPage = int(''.join(scripts[1]).split('countPage = ')[1].split('//')[0])\n",
    "    if countPage == 1:\n",
    "        pass\n",
    "    else:\n",
    "        for i in range(1, countPage):\n",
    "            url_child = url_i.split('.html')[0] +'_'+str(i)+'.html'\n",
    "            content = urllib2.urlopen(url_child).read().decode('gb18030') \n",
    "            soup = BeautifulSoup(content) \n",
    "            report_child = ''.join(s.text for s in soup('p'))\n",
    "            report = report + report_child\n",
    "    return year, report"
   ]
  },
  {
   "cell_type": "code",
   "execution_count": 399,
   "metadata": {
    "collapsed": false
   },
   "outputs": [
    {
     "name": "stdout",
     "output_type": "stream",
     "text": [
      "2016\n",
      "2015\n",
      "2014\n",
      "2013\n",
      "2012\n",
      "2011\n",
      "2010\n",
      "2009\n",
      "2008\n",
      "2007\n",
      "2006\n",
      "2005\n",
      "2004\n",
      "2003\n",
      "2002\n",
      "2001\n",
      "2000\n",
      "1999\n",
      "1998\n",
      "1997\n",
      "1996\n",
      "1995\n",
      "1994\n",
      "1993\n",
      "1992\n",
      "1991\n",
      "1990\n",
      "1989\n",
      "1988\n",
      "1987\n",
      "1986\n",
      "1985\n",
      "1984\n",
      "1983\n",
      "1982\n",
      "1981\n",
      "1980\n",
      "1979\n",
      "1978\n",
      "1975\n",
      "1964\n",
      "1959\n",
      "1960\n",
      "1957\n",
      "1956\n",
      "1955\n",
      "1954\n"
     ]
    }
   ],
   "source": [
    "# 抓取47年政府工作报告内容\n",
    "reports = {}\n",
    "for link in hyperlinks:\n",
    "    year, report = crawler(link)\n",
    "    print year\n",
    "    reports[year] = report "
   ]
  },
  {
   "cell_type": "code",
   "execution_count": 400,
   "metadata": {
    "collapsed": true
   },
   "outputs": [],
   "source": [
    "with open('/Users/dingjiayi/Desktop/cjc2016-gh-pages/data/govreports1954-2016.txt', 'wb') as f:\n",
    "    for r in reports:\n",
    "        line = str(r)+'\\t'+reports[r].replace('\\n', '\\t') +'\\n'\n",
    "        f.write(line.encode('utf-8'))"
   ]
  },
  {
   "cell_type": "markdown",
   "metadata": {},
   "source": [
    "2.1 天涯 抓取列表"
   ]
  },
  {
   "cell_type": "code",
   "execution_count": 401,
   "metadata": {
    "collapsed": false
   },
   "outputs": [
    {
     "data": {
      "text/html": [
       "<iframe src=http://bbs.tianya.cn/list.jsp?item=free&nextid=%d&order=8&k=PM2.5 width=1000 height=500></iframe>"
      ],
      "text/plain": [
       "<IPython.core.display.HTML object>"
      ]
     },
     "execution_count": 401,
     "metadata": {},
     "output_type": "execute_result"
    }
   ],
   "source": [
    "from IPython.display import display_html, HTML\n",
    "HTML('<iframe src=http://bbs.tianya.cn/list.jsp?item=free&nextid=%d&order=8&k=PM2.5 width=1000 height=500></iframe>')"
   ]
  },
  {
   "cell_type": "code",
   "execution_count": 402,
   "metadata": {
    "collapsed": false
   },
   "outputs": [],
   "source": [
    "page_num = 0\n",
    "url = \"http://bbs.tianya.cn/list.jsp?item=free&nextid=%d&order=8&k=PM2.5\" %page_num\n",
    "content = urllib2.urlopen(url).read() #获取网页的html文本\n",
    "soup = BeautifulSoup(content, \"lxml\") \n",
    "articles = soup.find_all('tr')"
   ]
  },
  {
   "cell_type": "code",
   "execution_count": 403,
   "metadata": {
    "collapsed": false
   },
   "outputs": [
    {
     "name": "stdout",
     "output_type": "stream",
     "text": [
      "<tr>\n",
      "<th scope=\"col\"> 标题</th>\n",
      "<th scope=\"col\">作者</th>\n",
      "<th scope=\"col\">点击</th>\n",
      "<th scope=\"col\">回复</th>\n",
      "<th scope=\"col\">发表时间</th>\n",
      "</tr>\n"
     ]
    }
   ],
   "source": [
    "print articles[0]"
   ]
  },
  {
   "cell_type": "code",
   "execution_count": 404,
   "metadata": {
    "collapsed": false
   },
   "outputs": [
    {
     "data": {
      "text/plain": [
       "50"
      ]
     },
     "execution_count": 404,
     "metadata": {},
     "output_type": "execute_result"
    }
   ],
   "source": [
    "len(articles[1:])"
   ]
  },
  {
   "cell_type": "code",
   "execution_count": 405,
   "metadata": {
    "collapsed": false
   },
   "outputs": [
    {
     "name": "stdout",
     "output_type": "stream",
     "text": [
      "<td class=\"td-title \">\n",
      "<span class=\"face\" title=\"\">\n",
      "</span>\n",
      "<a href=\"/post-free-5305449-1.shtml\" target=\"_blank\">\r\n",
      "\t\t\t\t\t\t\t严重雾霾天气 沈阳PM2.5浓度过千.找亮点(有图)<span class=\"art-ico art-ico-3\" title=\"内有0张图片\"></span>\n",
      "</a>\n",
      "</td>\n",
      "<td><a class=\"author\" href=\"http://www.tianya.cn/105514428\" target=\"_blank\">静静的莲花</a></td>\n",
      "<td>31054</td>\n",
      "<td>175</td>\n",
      "<td title=\"2015-11-09 14:17\">11-09 14:17</td>\n"
     ]
    }
   ],
   "source": [
    "for t in articles[1].find_all('td'): print t"
   ]
  },
  {
   "cell_type": "code",
   "execution_count": 406,
   "metadata": {
    "collapsed": false
   },
   "outputs": [
    {
     "name": "stdout",
     "output_type": "stream",
     "text": [
      "<td class=\"td-title \">\n",
      "<span class=\"face\" title=\"\">\n",
      "</span>\n",
      "<a href=\"/post-free-5305449-1.shtml\" target=\"_blank\">\r\n",
      "\t\t\t\t\t\t\t严重雾霾天气 沈阳PM2.5浓度过千.找亮点(有图)<span class=\"art-ico art-ico-3\" title=\"内有0张图片\"></span>\n",
      "</a>\n",
      "</td>\n",
      "<td><a class=\"author\" href=\"http://www.tianya.cn/105514428\" target=\"_blank\">静静的莲花</a></td>\n",
      "<td>31054</td>\n",
      "<td>175</td>\n",
      "<td title=\"2015-11-09 14:17\">11-09 14:17</td>\n"
     ]
    }
   ],
   "source": [
    "for t in articles[1].find_all('td'): print t"
   ]
  },
  {
   "cell_type": "code",
   "execution_count": 407,
   "metadata": {
    "collapsed": false
   },
   "outputs": [],
   "source": [
    "td = articles[1].find_all('td')"
   ]
  },
  {
   "cell_type": "code",
   "execution_count": 408,
   "metadata": {
    "collapsed": false
   },
   "outputs": [
    {
     "name": "stdout",
     "output_type": "stream",
     "text": [
      "[<td class=\"td-title \">\\n<span class=\"face\" title=\"\">\\n</span>\\n<a href=\"/post-free-5305449-1.shtml\" target=\"_blank\">\\r\\n\\t\\t\\t\\t\\t\\t\\t\\u4e25\\u91cd\\u96fe\\u973e\\u5929\\u6c14 \\u6c88\\u9633PM2.5\\u6d53\\u5ea6\\u8fc7\\u5343.\\u627e\\u4eae\\u70b9(\\u6709\\u56fe)<span class=\"art-ico art-ico-3\" title=\"\\u5185\\u67090\\u5f20\\u56fe\\u7247\"></span>\\n</a>\\n</td>, <td><a class=\"author\" href=\"http://www.tianya.cn/105514428\" target=\"_blank\">\\u9759\\u9759\\u7684\\u83b2\\u82b1</a></td>, <td>31054</td>, <td>175</td>, <td title=\"2015-11-09 14:17\">11-09 14:17</td>]\n"
     ]
    }
   ],
   "source": [
    "print td"
   ]
  },
  {
   "cell_type": "code",
   "execution_count": 409,
   "metadata": {
    "collapsed": false
   },
   "outputs": [
    {
     "name": "stdout",
     "output_type": "stream",
     "text": [
      "<td class=\"td-title \">\n",
      "<span class=\"face\" title=\"\">\n",
      "</span>\n",
      "<a href=\"/post-free-5305449-1.shtml\" target=\"_blank\">\r\n",
      "\t\t\t\t\t\t\t严重雾霾天气 沈阳PM2.5浓度过千.找亮点(有图)<span class=\"art-ico art-ico-3\" title=\"内有0张图片\"></span>\n",
      "</a>\n",
      "</td>\n"
     ]
    }
   ],
   "source": [
    "print td[0]"
   ]
  },
  {
   "cell_type": "code",
   "execution_count": 410,
   "metadata": {
    "collapsed": false
   },
   "outputs": [
    {
     "name": "stdout",
     "output_type": "stream",
     "text": [
      "严重雾霾天气 沈阳PM2.5浓度过千.找亮点(有图)\n"
     ]
    }
   ],
   "source": [
    "print td[0].text.strip()"
   ]
  },
  {
   "cell_type": "code",
   "execution_count": 411,
   "metadata": {
    "collapsed": false
   },
   "outputs": [
    {
     "name": "stdout",
     "output_type": "stream",
     "text": [
      "/post-free-5305449-1.shtml\n"
     ]
    }
   ],
   "source": [
    "print td[0].a['href']"
   ]
  },
  {
   "cell_type": "code",
   "execution_count": 412,
   "metadata": {
    "collapsed": true
   },
   "outputs": [],
   "source": [
    "records = []\n",
    "for i in articles[1:]:\n",
    "    td = i.find_all('td')\n",
    "    title = td[0].text.strip()\n",
    "    title_url = td[0].a['href']\n",
    "    author = td[1].text\n",
    "    author_url = td[1].a['href']\n",
    "    views = td[2].text\n",
    "    replies = td[3].text\n",
    "    date = td[4]['title']\n",
    "    record = title + '\\t' + title_url+ '\\t' + author + '\\t'+ author_url + '\\t' + views+ '\\t'  + replies+ '\\t'+ date\n",
    "    records.append(record)"
   ]
  },
  {
   "cell_type": "code",
   "execution_count": 413,
   "metadata": {
    "collapsed": false
   },
   "outputs": [
    {
     "name": "stdout",
     "output_type": "stream",
     "text": [
      "青岛李沧爱尔城运动工厂--可过滤PM2.5体育场馆\t/post-free-4835068-1.shtml\t眼镜兔er\thttp://www.tianya.cn/97272912\t8374\t23\t2014-12-13 10:23\n"
     ]
    }
   ],
   "source": [
    "print records[3]"
   ]
  },
  {
   "cell_type": "code",
   "execution_count": 414,
   "metadata": {
    "collapsed": true
   },
   "outputs": [],
   "source": [
    "def crawler(page_num, file_name):\n",
    "    try:\n",
    "        # open the browser\n",
    "        url = \"http://bbs.tianya.cn/list.jsp?item=free&nextid=%d&order=8&k=PM2.5\" % page_num\n",
    "        content = urllib2.urlopen(url).read() #获取网页的html文本\n",
    "        soup = BeautifulSoup(content, \"lxml\") \n",
    "        articles = soup.find_all('tr')\n",
    "        # write down info\n",
    "        for i in articles[1:]:\n",
    "            td = i.find_all('td')\n",
    "            title = td[0].text.strip()\n",
    "            title_url = td[0].a['href']\n",
    "            author = td[1].text\n",
    "            author_url = td[1].a['href']\n",
    "            views = td[2].text\n",
    "            replies = td[3].text\n",
    "            date = td[4]['title']\n",
    "            record = title + '\\t' + title_url+ '\\t' + author + '\\t'+ \\\n",
    "                        author_url + '\\t' + views+ '\\t'  + replies+ '\\t'+ date\n",
    "            with open(file_name,'a') as p: # '''Note'''：Ａppend mode, run only once!\n",
    "                        p.write(record.encode('utf-8')+\"\\n\") ##!!encode here to utf-8 to avoid encoding\n",
    "\n",
    "    except Exception, e:\n",
    "        print e\n",
    "        pass"
   ]
  },
  {
   "cell_type": "code",
   "execution_count": 415,
   "metadata": {
    "collapsed": false
   },
   "outputs": [
    {
     "name": "stdout",
     "output_type": "stream",
     "text": [
      "0\n",
      "1\n",
      "2\n",
      "3\n",
      "4\n",
      "5\n",
      "6\n",
      "7\n",
      "8\n",
      "9\n"
     ]
    }
   ],
   "source": [
    "for page_num in range(10):\n",
    "    print (page_num)\n",
    "    crawler(page_num, '/Users/dingjiayi/Desktop/data/tianyapm.txt') "
   ]
  },
  {
   "cell_type": "code",
   "execution_count": 416,
   "metadata": {
    "collapsed": false
   },
   "outputs": [
    {
     "data": {
      "text/html": [
       "<div>\n",
       "<table border=\"1\" class=\"dataframe\">\n",
       "  <thead>\n",
       "    <tr style=\"text-align: right;\">\n",
       "      <th></th>\n",
       "      <th>0</th>\n",
       "      <th>1</th>\n",
       "      <th>2</th>\n",
       "      <th>3</th>\n",
       "      <th>4</th>\n",
       "      <th>5</th>\n",
       "      <th>6</th>\n",
       "    </tr>\n",
       "  </thead>\n",
       "  <tbody>\n",
       "    <tr>\n",
       "      <th>0</th>\n",
       "      <td>严重雾霾天气 沈阳PM2.5浓度过千.找亮点(有图)</td>\n",
       "      <td>/post-free-5305449-1.shtml</td>\n",
       "      <td>静静的莲花</td>\n",
       "      <td>http://www.tianya.cn/105514428</td>\n",
       "      <td>31054</td>\n",
       "      <td>175</td>\n",
       "      <td>2015-11-09 14:17</td>\n",
       "    </tr>\n",
       "    <tr>\n",
       "      <th>1</th>\n",
       "      <td>【连活着都是奢侈】,台湾去年死于PM2.5高达六千多人.</td>\n",
       "      <td>/post-free-5345549-1.shtml</td>\n",
       "      <td>四號</td>\n",
       "      <td>http://www.tianya.cn/8240809</td>\n",
       "      <td>28563</td>\n",
       "      <td>82</td>\n",
       "      <td>2015-12-26 10:46</td>\n",
       "    </tr>\n",
       "    <tr>\n",
       "      <th>2</th>\n",
       "      <td>,【老虎画画】帝都PM2.5,需要配合的谎言</td>\n",
       "      <td>/post-free-3011875-1.shtml</td>\n",
       "      <td>唐伯虎瞎画画</td>\n",
       "      <td>http://www.tianya.cn/43393067</td>\n",
       "      <td>11494</td>\n",
       "      <td>99</td>\n",
       "      <td>2013-01-13 17:20</td>\n",
       "    </tr>\n",
       "    <tr>\n",
       "      <th>3</th>\n",
       "      <td>青岛李沧爱尔城运动工厂--可过滤PM2.5体育场馆</td>\n",
       "      <td>/post-free-4835068-1.shtml</td>\n",
       "      <td>眼镜兔er</td>\n",
       "      <td>http://www.tianya.cn/97272912</td>\n",
       "      <td>8374</td>\n",
       "      <td>23</td>\n",
       "      <td>2014-12-13 10:23</td>\n",
       "    </tr>\n",
       "    <tr>\n",
       "      <th>4</th>\n",
       "      <td>骆家辉让中国人知道什么是PM2.5</td>\n",
       "      <td>/post-free-3825633-1.shtml</td>\n",
       "      <td>没有救世主007</td>\n",
       "      <td>http://www.tianya.cn/65737926</td>\n",
       "      <td>7393</td>\n",
       "      <td>11</td>\n",
       "      <td>2013-11-21 11:26</td>\n",
       "    </tr>\n",
       "    <tr>\n",
       "      <th>5</th>\n",
       "      <td>你今天又吸入了多少PM2.5?(转载)</td>\n",
       "      <td>/post-free-4524650-1.shtml</td>\n",
       "      <td>cypress0818</td>\n",
       "      <td>http://www.tianya.cn/79828445</td>\n",
       "      <td>6562</td>\n",
       "      <td>21</td>\n",
       "      <td>2014-07-30 22:32</td>\n",
       "    </tr>\n",
       "    <tr>\n",
       "      <th>6</th>\n",
       "      <td>雾霾天无聊做了个实测室内PM2.5,有木有人来围观结果</td>\n",
       "      <td>/post-free-3856677-1.shtml</td>\n",
       "      <td>aileencyh</td>\n",
       "      <td>http://www.tianya.cn/72141286</td>\n",
       "      <td>6028</td>\n",
       "      <td>154</td>\n",
       "      <td>2013-12-03 11:57</td>\n",
       "    </tr>\n",
       "    <tr>\n",
       "      <th>7</th>\n",
       "      <td>哪个品牌的pm2.5口罩能真正防pm2.5?</td>\n",
       "      <td>/post-free-3783861-1.shtml</td>\n",
       "      <td>初秋絮语123</td>\n",
       "      <td>http://www.tianya.cn/84866276</td>\n",
       "      <td>5191</td>\n",
       "      <td>2</td>\n",
       "      <td>2013-11-04 10:57</td>\n",
       "    </tr>\n",
       "    <tr>\n",
       "      <th>8</th>\n",
       "      <td>PM2.5又爆表 还是在家骑自行车吧</td>\n",
       "      <td>/post-free-3802295-1.shtml</td>\n",
       "      <td>dgrg5t4h</td>\n",
       "      <td>http://www.tianya.cn/41225348</td>\n",
       "      <td>2381</td>\n",
       "      <td>7</td>\n",
       "      <td>2013-11-11 15:03</td>\n",
       "    </tr>\n",
       "    <tr>\n",
       "      <th>9</th>\n",
       "      <td>霾汰人的PM2.5</td>\n",
       "      <td>/post-free-3794862-1.shtml</td>\n",
       "      <td>天海原住民</td>\n",
       "      <td>http://www.tianya.cn/84967699</td>\n",
       "      <td>1823</td>\n",
       "      <td>237</td>\n",
       "      <td>2013-11-08 09:42</td>\n",
       "    </tr>\n",
       "    <tr>\n",
       "      <th>10</th>\n",
       "      <td>2015年前安徽16市均将发布PM2.5  ?蚌埠市6个(转载)</td>\n",
       "      <td>/post-free-3875481-1.shtml</td>\n",
       "      <td>仙人球1234</td>\n",
       "      <td>http://www.tianya.cn/85400642</td>\n",
       "      <td>1777</td>\n",
       "      <td>1</td>\n",
       "      <td>2013-12-11 09:16</td>\n",
       "    </tr>\n",
       "    <tr>\n",
       "      <th>11</th>\n",
       "      <td>首份PM2.5致过早死亡数据发布:雾霾致死率是交通事故的是10倍...</td>\n",
       "      <td>/post-free-4956069-1.shtml</td>\n",
       "      <td>皓骅贞</td>\n",
       "      <td>http://www.tianya.cn/98979099</td>\n",
       "      <td>1440</td>\n",
       "      <td>8</td>\n",
       "      <td>2015-02-10 15:25</td>\n",
       "    </tr>\n",
       "    <tr>\n",
       "      <th>12</th>\n",
       "      <td>PM2.5口罩:打着民族口号的民族败类!</td>\n",
       "      <td>/post-free-3067451-1.shtml</td>\n",
       "      <td>福尔摩斯再现</td>\n",
       "      <td>http://www.tianya.cn/73527666</td>\n",
       "      <td>1233</td>\n",
       "      <td>7</td>\n",
       "      <td>2013-02-15 13:08</td>\n",
       "    </tr>\n",
       "    <tr>\n",
       "      <th>13</th>\n",
       "      <td>PM2.5是什么?有哪些危害?</td>\n",
       "      <td>/post-free-3327495-1.shtml</td>\n",
       "      <td>孝心加油站</td>\n",
       "      <td>http://www.tianya.cn/79643131</td>\n",
       "      <td>1153</td>\n",
       "      <td>1</td>\n",
       "      <td>2013-05-22 18:56</td>\n",
       "    </tr>\n",
       "    <tr>\n",
       "      <th>14</th>\n",
       "      <td>被我发现潘石屹每天都要发PM2.5的秘密了,尼玛要不要说?(转载...</td>\n",
       "      <td>/post-free-3227325-1.shtml</td>\n",
       "      <td>maowx2010</td>\n",
       "      <td>http://www.tianya.cn/38464560</td>\n",
       "      <td>798</td>\n",
       "      <td>16</td>\n",
       "      <td>2013-04-19 14:32</td>\n",
       "    </tr>\n",
       "    <tr>\n",
       "      <th>15</th>\n",
       "      <td>雾霾天气下如何选择PM2.5防护性最好的口罩</td>\n",
       "      <td>/post-free-3722456-1.shtml</td>\n",
       "      <td>阿辉ORZ</td>\n",
       "      <td>http://www.tianya.cn/74159026</td>\n",
       "      <td>787</td>\n",
       "      <td>4</td>\n",
       "      <td>2013-10-11 16:30</td>\n",
       "    </tr>\n",
       "    <tr>\n",
       "      <th>16</th>\n",
       "      <td>北京每天PM2.5排放量45000吨</td>\n",
       "      <td>/post-free-3135405-1.shtml</td>\n",
       "      <td>生命智力学</td>\n",
       "      <td>http://www.tianya.cn/37814368</td>\n",
       "      <td>685</td>\n",
       "      <td>4</td>\n",
       "      <td>2013-03-16 10:20</td>\n",
       "    </tr>\n",
       "    <tr>\n",
       "      <th>17</th>\n",
       "      <td>普通口罩不能防PM2.5(转载)</td>\n",
       "      <td>/post-free-3164460-1.shtml</td>\n",
       "      <td>abcd123654123</td>\n",
       "      <td>http://www.tianya.cn/79337743</td>\n",
       "      <td>660</td>\n",
       "      <td>5</td>\n",
       "      <td>2013-03-27 00:18</td>\n",
       "    </tr>\n",
       "    <tr>\n",
       "      <th>18</th>\n",
       "      <td>屁放多了也能产生PM2.5</td>\n",
       "      <td>/post-free-3728709-1.shtml</td>\n",
       "      <td>邵伟0413</td>\n",
       "      <td>http://www.tianya.cn/72118179</td>\n",
       "      <td>625</td>\n",
       "      <td>10</td>\n",
       "      <td>2013-10-14 09:24</td>\n",
       "    </tr>\n",
       "    <tr>\n",
       "      <th>19</th>\n",
       "      <td>什么是PM2.5?(雾霾天气的罪魁祸首)</td>\n",
       "      <td>/post-free-3047027-1.shtml</td>\n",
       "      <td>烦恼皆因放不下</td>\n",
       "      <td>http://www.tianya.cn/78042296</td>\n",
       "      <td>511</td>\n",
       "      <td>0</td>\n",
       "      <td>2013-01-31 09:35</td>\n",
       "    </tr>\n",
       "    <tr>\n",
       "      <th>20</th>\n",
       "      <td>PM2.5雾霾天气的危害(转载)</td>\n",
       "      <td>/post-free-3860451-1.shtml</td>\n",
       "      <td>fengyixin1</td>\n",
       "      <td>http://www.tianya.cn/44672357</td>\n",
       "      <td>510</td>\n",
       "      <td>1</td>\n",
       "      <td>2013-12-04 21:30</td>\n",
       "    </tr>\n",
       "    <tr>\n",
       "      <th>21</th>\n",
       "      <td>pm2.5为啥各地方监测出来的不一样 (转载)</td>\n",
       "      <td>/post-free-3158854-1.shtml</td>\n",
       "      <td>htgglp</td>\n",
       "      <td>http://www.tianya.cn/64603832</td>\n",
       "      <td>504</td>\n",
       "      <td>0</td>\n",
       "      <td>2013-03-25 11:47</td>\n",
       "    </tr>\n",
       "    <tr>\n",
       "      <th>22</th>\n",
       "      <td>pm2.5严重超标该如何应对室内空气污染</td>\n",
       "      <td>/post-free-3814034-1.shtml</td>\n",
       "      <td>天边凤舞</td>\n",
       "      <td>http://www.tianya.cn/84920267</td>\n",
       "      <td>497</td>\n",
       "      <td>6</td>\n",
       "      <td>2013-11-16 12:10</td>\n",
       "    </tr>\n",
       "    <tr>\n",
       "      <th>23</th>\n",
       "      <td>浅谈PM2.5问题的治理难点及解决新法</td>\n",
       "      <td>/post-free-3738652-1.shtml</td>\n",
       "      <td>xijia99</td>\n",
       "      <td>http://www.tianya.cn/81826427</td>\n",
       "      <td>462</td>\n",
       "      <td>0</td>\n",
       "      <td>2013-10-17 14:31</td>\n",
       "    </tr>\n",
       "    <tr>\n",
       "      <th>24</th>\n",
       "      <td>PM2.5能被空气净化器去除,是真的吗?</td>\n",
       "      <td>/post-free-3282998-1.shtml</td>\n",
       "      <td>干柴有话说</td>\n",
       "      <td>http://www.tianya.cn/2816315</td>\n",
       "      <td>456</td>\n",
       "      <td>4</td>\n",
       "      <td>2013-05-08 14:15</td>\n",
       "    </tr>\n",
       "    <tr>\n",
       "      <th>25</th>\n",
       "      <td>用敌情论分析,PM2.5是一个阴谋</td>\n",
       "      <td>/post-free-3059644-1.shtml</td>\n",
       "      <td>深空幻影</td>\n",
       "      <td>http://www.tianya.cn/71311333</td>\n",
       "      <td>447</td>\n",
       "      <td>0</td>\n",
       "      <td>2013-02-07 12:52</td>\n",
       "    </tr>\n",
       "    <tr>\n",
       "      <th>26</th>\n",
       "      <td>首款PM2.5防护口罩面市 过滤效果高达99%(转载)</td>\n",
       "      <td>/post-free-2811631-1.shtml</td>\n",
       "      <td>mycool59</td>\n",
       "      <td>http://www.tianya.cn/68693170</td>\n",
       "      <td>439</td>\n",
       "      <td>5</td>\n",
       "      <td>2012-10-11 11:10</td>\n",
       "    </tr>\n",
       "    <tr>\n",
       "      <th>27</th>\n",
       "      <td>防雾霾和PM2.5,晒出你的新招数?</td>\n",
       "      <td>/post-free-4975489-1.shtml</td>\n",
       "      <td>绝地潜龙</td>\n",
       "      <td>http://www.tianya.cn/41695682</td>\n",
       "      <td>392</td>\n",
       "      <td>53</td>\n",
       "      <td>2015-02-28 20:12</td>\n",
       "    </tr>\n",
       "    <tr>\n",
       "      <th>28</th>\n",
       "      <td>一座PM2.5约等于零的中国城市(转载)</td>\n",
       "      <td>/post-free-4145948-1.shtml</td>\n",
       "      <td>碧海流年</td>\n",
       "      <td>http://www.tianya.cn/10244488</td>\n",
       "      <td>329</td>\n",
       "      <td>0</td>\n",
       "      <td>2014-02-23 23:37</td>\n",
       "    </tr>\n",
       "    <tr>\n",
       "      <th>29</th>\n",
       "      <td>广东肇庆今天的空气顺数全国第一,PM2.5为0!(有图)</td>\n",
       "      <td>/post-free-4754614-1.shtml</td>\n",
       "      <td>泣残翼海豚</td>\n",
       "      <td>http://www.tianya.cn/96233555</td>\n",
       "      <td>323</td>\n",
       "      <td>4</td>\n",
       "      <td>2014-11-06 18:03</td>\n",
       "    </tr>\n",
       "    <tr>\n",
       "      <th>...</th>\n",
       "      <td>...</td>\n",
       "      <td>...</td>\n",
       "      <td>...</td>\n",
       "      <td>...</td>\n",
       "      <td>...</td>\n",
       "      <td>...</td>\n",
       "      <td>...</td>\n",
       "    </tr>\n",
       "    <tr>\n",
       "      <th>349</th>\n",
       "      <td>远离PM2.5给家一口纯净的空气</td>\n",
       "      <td>/post-free-3759539-1.shtml</td>\n",
       "      <td>手提小石头</td>\n",
       "      <td>http://www.tianya.cn/66245958</td>\n",
       "      <td>38</td>\n",
       "      <td>0</td>\n",
       "      <td>2013-10-25 13:41</td>\n",
       "    </tr>\n",
       "    <tr>\n",
       "      <th>350</th>\n",
       "      <td>木耳防治PM2.5</td>\n",
       "      <td>/post-free-3485335-1.shtml</td>\n",
       "      <td>木耳预防</td>\n",
       "      <td>http://www.tianya.cn/82130023</td>\n",
       "      <td>38</td>\n",
       "      <td>0</td>\n",
       "      <td>2013-07-15 21:24</td>\n",
       "    </tr>\n",
       "    <tr>\n",
       "      <th>351</th>\n",
       "      <td>防pm2.5口罩哪种好,专业的更值得信赖</td>\n",
       "      <td>/post-free-4838707-1.shtml</td>\n",
       "      <td>蟑螂王小强强</td>\n",
       "      <td>http://www.tianya.cn/68184150</td>\n",
       "      <td>36</td>\n",
       "      <td>1</td>\n",
       "      <td>2014-12-15 13:52</td>\n",
       "    </tr>\n",
       "    <tr>\n",
       "      <th>352</th>\n",
       "      <td>南京青奥会开一个月 市民少吸1750吨PM2.5</td>\n",
       "      <td>/post-free-4621038-1.shtml</td>\n",
       "      <td>日出G</td>\n",
       "      <td>http://www.tianya.cn/94373334</td>\n",
       "      <td>36</td>\n",
       "      <td>0</td>\n",
       "      <td>2014-09-08 12:18</td>\n",
       "    </tr>\n",
       "    <tr>\n",
       "      <th>353</th>\n",
       "      <td>小心\"十面霾伏\" 教你6妙招净化室内空气 PM2.5</td>\n",
       "      <td>/post-free-4562456-1.shtml</td>\n",
       "      <td>dapocm</td>\n",
       "      <td>http://www.tianya.cn/93220686</td>\n",
       "      <td>36</td>\n",
       "      <td>0</td>\n",
       "      <td>2014-08-13 15:17</td>\n",
       "    </tr>\n",
       "    <tr>\n",
       "      <th>354</th>\n",
       "      <td>绿色GDP方能促成PM2.5\"抗体\"</td>\n",
       "      <td>/post-free-3093551-1.shtml</td>\n",
       "      <td>用心呵护后的痛</td>\n",
       "      <td>http://www.tianya.cn/50066116</td>\n",
       "      <td>36</td>\n",
       "      <td>0</td>\n",
       "      <td>2013-02-28 16:37</td>\n",
       "    </tr>\n",
       "    <tr>\n",
       "      <th>355</th>\n",
       "      <td>多吃橙子可抵御PM2.5</td>\n",
       "      <td>/post-free-3893433-1.shtml</td>\n",
       "      <td>男科医生任主任</td>\n",
       "      <td>http://www.tianya.cn/85813160</td>\n",
       "      <td>35</td>\n",
       "      <td>0</td>\n",
       "      <td>2013-12-15 16:36</td>\n",
       "    </tr>\n",
       "    <tr>\n",
       "      <th>356</th>\n",
       "      <td>pm2.5是什么</td>\n",
       "      <td>/post-free-2671894-1.shtml</td>\n",
       "      <td>易物记者</td>\n",
       "      <td>http://www.tianya.cn/71770109</td>\n",
       "      <td>35</td>\n",
       "      <td>0</td>\n",
       "      <td>2012-08-04 14:12</td>\n",
       "    </tr>\n",
       "    <tr>\n",
       "      <th>357</th>\n",
       "      <td>PM2.5的忧伤</td>\n",
       "      <td>/post-free-5369159-1.shtml</td>\n",
       "      <td>YaMaXuns</td>\n",
       "      <td>http://www.tianya.cn/108542435</td>\n",
       "      <td>33</td>\n",
       "      <td>2</td>\n",
       "      <td>2016-01-21 22:47</td>\n",
       "    </tr>\n",
       "    <tr>\n",
       "      <th>358</th>\n",
       "      <td>雾霾口罩哪种好真假难辨九头鹰pm2.5口罩质量稳定(转载)</td>\n",
       "      <td>/post-free-4888572-1.shtml</td>\n",
       "      <td>芷竹弘荃筠光</td>\n",
       "      <td>http://www.tianya.cn/97171375</td>\n",
       "      <td>32</td>\n",
       "      <td>0</td>\n",
       "      <td>2015-01-07 18:11</td>\n",
       "    </tr>\n",
       "    <tr>\n",
       "      <th>359</th>\n",
       "      <td>北京前天大风夜PM2.5飙升,求解释</td>\n",
       "      <td>/post-free-4810119-1.shtml</td>\n",
       "      <td>给你快乐吧</td>\n",
       "      <td>http://www.tianya.cn/96941066</td>\n",
       "      <td>32</td>\n",
       "      <td>1</td>\n",
       "      <td>2014-12-02 12:14</td>\n",
       "    </tr>\n",
       "    <tr>\n",
       "      <th>360</th>\n",
       "      <td>普通口罩不能防PM2.5(转载)</td>\n",
       "      <td>/post-free-3163365-1.shtml</td>\n",
       "      <td>abcd123654123</td>\n",
       "      <td>http://www.tianya.cn/79337743</td>\n",
       "      <td>31</td>\n",
       "      <td>0</td>\n",
       "      <td>2013-03-26 19:28</td>\n",
       "    </tr>\n",
       "    <tr>\n",
       "      <th>361</th>\n",
       "      <td>京津联防联控治理大气污染:PM2.5年均浓度降6%</td>\n",
       "      <td>/post-free-3171286-1.shtml</td>\n",
       "      <td>彩虹天堂001</td>\n",
       "      <td>http://www.tianya.cn/49275794</td>\n",
       "      <td>29</td>\n",
       "      <td>0</td>\n",
       "      <td>2013-03-29 08:46</td>\n",
       "    </tr>\n",
       "    <tr>\n",
       "      <th>362</th>\n",
       "      <td>PM2.5命名是否重要及治理</td>\n",
       "      <td>/post-free-3168273-1.shtml</td>\n",
       "      <td>柳暗花明水清</td>\n",
       "      <td>http://www.tianya.cn/73104285</td>\n",
       "      <td>29</td>\n",
       "      <td>0</td>\n",
       "      <td>2013-03-28 09:08</td>\n",
       "    </tr>\n",
       "    <tr>\n",
       "      <th>363</th>\n",
       "      <td>北京春节八天PM2.5浓度同比下降(转载)</td>\n",
       "      <td>/post-free-4118371-1.shtml</td>\n",
       "      <td>驼铃声声2014</td>\n",
       "      <td>http://www.tianya.cn/86561473</td>\n",
       "      <td>28</td>\n",
       "      <td>0</td>\n",
       "      <td>2014-02-09 22:37</td>\n",
       "    </tr>\n",
       "    <tr>\n",
       "      <th>364</th>\n",
       "      <td>PM2.5对婴儿的致畸率和早产率有显着影响(转载)</td>\n",
       "      <td>/post-free-3797036-1.shtml</td>\n",
       "      <td>慧美huimei</td>\n",
       "      <td>http://www.tianya.cn/84049677</td>\n",
       "      <td>28</td>\n",
       "      <td>0</td>\n",
       "      <td>2013-11-08 22:36</td>\n",
       "    </tr>\n",
       "    <tr>\n",
       "      <th>365</th>\n",
       "      <td>PM2.5爆表引空气净化需求火爆 美国RGF进京\"杀毒\"(转载)</td>\n",
       "      <td>/post-free-4260351-1.shtml</td>\n",
       "      <td>彼岸零一</td>\n",
       "      <td>http://www.tianya.cn/88573859</td>\n",
       "      <td>27</td>\n",
       "      <td>0</td>\n",
       "      <td>2014-04-14 10:39</td>\n",
       "    </tr>\n",
       "    <tr>\n",
       "      <th>366</th>\n",
       "      <td>让您远离PM2.5的5个小妙招</td>\n",
       "      <td>/post-free-5341013-1.shtml</td>\n",
       "      <td>malilian2015</td>\n",
       "      <td>http://www.tianya.cn/106009256</td>\n",
       "      <td>25</td>\n",
       "      <td>0</td>\n",
       "      <td>2015-12-21 15:35</td>\n",
       "    </tr>\n",
       "    <tr>\n",
       "      <th>367</th>\n",
       "      <td>关于PM2.5 你不知道的那些事儿之认知篇 (转载)</td>\n",
       "      <td>/post-free-4927159-1.shtml</td>\n",
       "      <td>肺腑之言你懂得yH</td>\n",
       "      <td>http://www.tianya.cn/85457006</td>\n",
       "      <td>25</td>\n",
       "      <td>0</td>\n",
       "      <td>2015-01-26 13:41</td>\n",
       "    </tr>\n",
       "    <tr>\n",
       "      <th>368</th>\n",
       "      <td>这个小县城PM2.5永远不爆表</td>\n",
       "      <td>/post-free-4740651-1.shtml</td>\n",
       "      <td>用心做个好茶农</td>\n",
       "      <td>http://www.tianya.cn/96061478</td>\n",
       "      <td>25</td>\n",
       "      <td>0</td>\n",
       "      <td>2014-10-31 12:00</td>\n",
       "    </tr>\n",
       "    <tr>\n",
       "      <th>369</th>\n",
       "      <td>北京向PM2.5宣战(转载)</td>\n",
       "      <td>/post-free-4067801-1.shtml</td>\n",
       "      <td>水瓶杰小杰</td>\n",
       "      <td>http://www.tianya.cn/86128178</td>\n",
       "      <td>24</td>\n",
       "      <td>0</td>\n",
       "      <td>2014-01-09 15:05</td>\n",
       "    </tr>\n",
       "    <tr>\n",
       "      <th>370</th>\n",
       "      <td>北京春节八天PM2.5浓度同比下降(转载)</td>\n",
       "      <td>/post-free-4117446-1.shtml</td>\n",
       "      <td>破土之芽2011</td>\n",
       "      <td>http://www.tianya.cn/51861975</td>\n",
       "      <td>23</td>\n",
       "      <td>0</td>\n",
       "      <td>2014-02-09 11:12</td>\n",
       "    </tr>\n",
       "    <tr>\n",
       "      <th>371</th>\n",
       "      <td>告诉你PM2.5真实的污染源,针对性治理可快速奏效!</td>\n",
       "      <td>/post-free-4909035-1.shtml</td>\n",
       "      <td>gaoyu2015</td>\n",
       "      <td>http://www.tianya.cn/98275774</td>\n",
       "      <td>23</td>\n",
       "      <td>0</td>\n",
       "      <td>2015-01-17 18:25</td>\n",
       "    </tr>\n",
       "    <tr>\n",
       "      <th>372</th>\n",
       "      <td>PM2.5污染 中国居首(转载)</td>\n",
       "      <td>/post-free-4498837-1.shtml</td>\n",
       "      <td>别人笑我太疯癫K</td>\n",
       "      <td>http://www.tianya.cn/87629692</td>\n",
       "      <td>23</td>\n",
       "      <td>0</td>\n",
       "      <td>2014-07-21 16:37</td>\n",
       "    </tr>\n",
       "    <tr>\n",
       "      <th>373</th>\n",
       "      <td>雾霾天,室内净化器检测仪PM2.5  PM10</td>\n",
       "      <td>/post-free-5355884-1.shtml</td>\n",
       "      <td>xuzhoujc</td>\n",
       "      <td>http://www.tianya.cn/99776368</td>\n",
       "      <td>22</td>\n",
       "      <td>1</td>\n",
       "      <td>2016-01-07 10:10</td>\n",
       "    </tr>\n",
       "    <tr>\n",
       "      <th>374</th>\n",
       "      <td>控制汽车尾气,降低PM2.5</td>\n",
       "      <td>/post-free-5349824-1.shtml</td>\n",
       "      <td>顶风飘万里</td>\n",
       "      <td>http://www.tianya.cn/107029859</td>\n",
       "      <td>22</td>\n",
       "      <td>0</td>\n",
       "      <td>2015-12-30 20:29</td>\n",
       "    </tr>\n",
       "    <tr>\n",
       "      <th>375</th>\n",
       "      <td>北京破五燃放爆竹致部分监测点PM2.5飙升10倍(转载)</td>\n",
       "      <td>/post-free-4114024-1.shtml</td>\n",
       "      <td>谁捆住谁的手脚</td>\n",
       "      <td>http://www.tianya.cn/86334319</td>\n",
       "      <td>22</td>\n",
       "      <td>0</td>\n",
       "      <td>2014-02-07 10:22</td>\n",
       "    </tr>\n",
       "    <tr>\n",
       "      <th>376</th>\n",
       "      <td>吸入的PM2.5或可遗传?</td>\n",
       "      <td>/post-free-5297605-1.shtml</td>\n",
       "      <td>苏凌君子善</td>\n",
       "      <td>http://www.tianya.cn/104406984</td>\n",
       "      <td>12</td>\n",
       "      <td>0</td>\n",
       "      <td>2015-10-30 14:49</td>\n",
       "    </tr>\n",
       "    <tr>\n",
       "      <th>377</th>\n",
       "      <td>温室效应使全球风速减小 如何吸附PM2.5(转载)</td>\n",
       "      <td>/post-free-4904381-1.shtml</td>\n",
       "      <td>上海维舍卡颂石</td>\n",
       "      <td>http://www.tianya.cn/97350704</td>\n",
       "      <td>12</td>\n",
       "      <td>0</td>\n",
       "      <td>2015-01-15 12:55</td>\n",
       "    </tr>\n",
       "    <tr>\n",
       "      <th>378</th>\n",
       "      <td>维舍卡颂石 吸附PM2.5(转载)</td>\n",
       "      <td>/post-free-4899887-1.shtml</td>\n",
       "      <td>上海维舍卡颂石</td>\n",
       "      <td>http://www.tianya.cn/97350704</td>\n",
       "      <td>7</td>\n",
       "      <td>0</td>\n",
       "      <td>2015-01-13 13:56</td>\n",
       "    </tr>\n",
       "  </tbody>\n",
       "</table>\n",
       "<p>379 rows × 7 columns</p>\n",
       "</div>"
      ],
      "text/plain": [
       "                                       0                           1  \\\n",
       "0             严重雾霾天气 沈阳PM2.5浓度过千.找亮点(有图)  /post-free-5305449-1.shtml   \n",
       "1           【连活着都是奢侈】,台湾去年死于PM2.5高达六千多人.  /post-free-5345549-1.shtml   \n",
       "2                 ,【老虎画画】帝都PM2.5,需要配合的谎言  /post-free-3011875-1.shtml   \n",
       "3              青岛李沧爱尔城运动工厂--可过滤PM2.5体育场馆  /post-free-4835068-1.shtml   \n",
       "4                      骆家辉让中国人知道什么是PM2.5  /post-free-3825633-1.shtml   \n",
       "5                    你今天又吸入了多少PM2.5?(转载)  /post-free-4524650-1.shtml   \n",
       "6            雾霾天无聊做了个实测室内PM2.5,有木有人来围观结果  /post-free-3856677-1.shtml   \n",
       "7                 哪个品牌的pm2.5口罩能真正防pm2.5?  /post-free-3783861-1.shtml   \n",
       "8                     PM2.5又爆表 还是在家骑自行车吧  /post-free-3802295-1.shtml   \n",
       "9                              霾汰人的PM2.5  /post-free-3794862-1.shtml   \n",
       "10      2015年前安徽16市均将发布PM2.5  ?蚌埠市6个(转载)  /post-free-3875481-1.shtml   \n",
       "11   首份PM2.5致过早死亡数据发布:雾霾致死率是交通事故的是10倍...  /post-free-4956069-1.shtml   \n",
       "12                  PM2.5口罩:打着民族口号的民族败类!  /post-free-3067451-1.shtml   \n",
       "13                       PM2.5是什么?有哪些危害?  /post-free-3327495-1.shtml   \n",
       "14   被我发现潘石屹每天都要发PM2.5的秘密了,尼玛要不要说?(转载...  /post-free-3227325-1.shtml   \n",
       "15                雾霾天气下如何选择PM2.5防护性最好的口罩  /post-free-3722456-1.shtml   \n",
       "16                    北京每天PM2.5排放量45000吨  /post-free-3135405-1.shtml   \n",
       "17                      普通口罩不能防PM2.5(转载)  /post-free-3164460-1.shtml   \n",
       "18                         屁放多了也能产生PM2.5  /post-free-3728709-1.shtml   \n",
       "19                  什么是PM2.5?(雾霾天气的罪魁祸首)  /post-free-3047027-1.shtml   \n",
       "20                      PM2.5雾霾天气的危害(转载)  /post-free-3860451-1.shtml   \n",
       "21               pm2.5为啥各地方监测出来的不一样 (转载)  /post-free-3158854-1.shtml   \n",
       "22                  pm2.5严重超标该如何应对室内空气污染  /post-free-3814034-1.shtml   \n",
       "23                   浅谈PM2.5问题的治理难点及解决新法  /post-free-3738652-1.shtml   \n",
       "24                  PM2.5能被空气净化器去除,是真的吗?  /post-free-3282998-1.shtml   \n",
       "25                     用敌情论分析,PM2.5是一个阴谋  /post-free-3059644-1.shtml   \n",
       "26           首款PM2.5防护口罩面市 过滤效果高达99%(转载)  /post-free-2811631-1.shtml   \n",
       "27                    防雾霾和PM2.5,晒出你的新招数?  /post-free-4975489-1.shtml   \n",
       "28                  一座PM2.5约等于零的中国城市(转载)  /post-free-4145948-1.shtml   \n",
       "29          广东肇庆今天的空气顺数全国第一,PM2.5为0!(有图)  /post-free-4754614-1.shtml   \n",
       "..                                   ...                         ...   \n",
       "349                     远离PM2.5给家一口纯净的空气  /post-free-3759539-1.shtml   \n",
       "350                            木耳防治PM2.5  /post-free-3485335-1.shtml   \n",
       "351                 防pm2.5口罩哪种好,专业的更值得信赖  /post-free-4838707-1.shtml   \n",
       "352             南京青奥会开一个月 市民少吸1750吨PM2.5  /post-free-4621038-1.shtml   \n",
       "353           小心\"十面霾伏\" 教你6妙招净化室内空气 PM2.5  /post-free-4562456-1.shtml   \n",
       "354                   绿色GDP方能促成PM2.5\"抗体\"  /post-free-3093551-1.shtml   \n",
       "355                         多吃橙子可抵御PM2.5  /post-free-3893433-1.shtml   \n",
       "356                             pm2.5是什么  /post-free-2671894-1.shtml   \n",
       "357                             PM2.5的忧伤  /post-free-5369159-1.shtml   \n",
       "358        雾霾口罩哪种好真假难辨九头鹰pm2.5口罩质量稳定(转载)  /post-free-4888572-1.shtml   \n",
       "359                   北京前天大风夜PM2.5飙升,求解释  /post-free-4810119-1.shtml   \n",
       "360                     普通口罩不能防PM2.5(转载)  /post-free-3163365-1.shtml   \n",
       "361            京津联防联控治理大气污染:PM2.5年均浓度降6%  /post-free-3171286-1.shtml   \n",
       "362                       PM2.5命名是否重要及治理  /post-free-3168273-1.shtml   \n",
       "363                北京春节八天PM2.5浓度同比下降(转载)  /post-free-4118371-1.shtml   \n",
       "364            PM2.5对婴儿的致畸率和早产率有显着影响(转载)  /post-free-3797036-1.shtml   \n",
       "365     PM2.5爆表引空气净化需求火爆 美国RGF进京\"杀毒\"(转载)  /post-free-4260351-1.shtml   \n",
       "366                      让您远离PM2.5的5个小妙招  /post-free-5341013-1.shtml   \n",
       "367           关于PM2.5 你不知道的那些事儿之认知篇 (转载)  /post-free-4927159-1.shtml   \n",
       "368                      这个小县城PM2.5永远不爆表  /post-free-4740651-1.shtml   \n",
       "369                       北京向PM2.5宣战(转载)  /post-free-4067801-1.shtml   \n",
       "370                北京春节八天PM2.5浓度同比下降(转载)  /post-free-4117446-1.shtml   \n",
       "371           告诉你PM2.5真实的污染源,针对性治理可快速奏效!  /post-free-4909035-1.shtml   \n",
       "372                     PM2.5污染 中国居首(转载)  /post-free-4498837-1.shtml   \n",
       "373              雾霾天,室内净化器检测仪PM2.5  PM10  /post-free-5355884-1.shtml   \n",
       "374                       控制汽车尾气,降低PM2.5  /post-free-5349824-1.shtml   \n",
       "375         北京破五燃放爆竹致部分监测点PM2.5飙升10倍(转载)  /post-free-4114024-1.shtml   \n",
       "376                        吸入的PM2.5或可遗传?  /post-free-5297605-1.shtml   \n",
       "377            温室效应使全球风速减小 如何吸附PM2.5(转载)  /post-free-4904381-1.shtml   \n",
       "378                    维舍卡颂石 吸附PM2.5(转载)  /post-free-4899887-1.shtml   \n",
       "\n",
       "                 2                               3      4    5  \\\n",
       "0            静静的莲花  http://www.tianya.cn/105514428  31054  175   \n",
       "1               四號    http://www.tianya.cn/8240809  28563   82   \n",
       "2           唐伯虎瞎画画   http://www.tianya.cn/43393067  11494   99   \n",
       "3            眼镜兔er   http://www.tianya.cn/97272912   8374   23   \n",
       "4         没有救世主007   http://www.tianya.cn/65737926   7393   11   \n",
       "5      cypress0818   http://www.tianya.cn/79828445   6562   21   \n",
       "6        aileencyh   http://www.tianya.cn/72141286   6028  154   \n",
       "7          初秋絮语123   http://www.tianya.cn/84866276   5191    2   \n",
       "8         dgrg5t4h   http://www.tianya.cn/41225348   2381    7   \n",
       "9            天海原住民   http://www.tianya.cn/84967699   1823  237   \n",
       "10         仙人球1234   http://www.tianya.cn/85400642   1777    1   \n",
       "11             皓骅贞   http://www.tianya.cn/98979099   1440    8   \n",
       "12          福尔摩斯再现   http://www.tianya.cn/73527666   1233    7   \n",
       "13           孝心加油站   http://www.tianya.cn/79643131   1153    1   \n",
       "14       maowx2010   http://www.tianya.cn/38464560    798   16   \n",
       "15           阿辉ORZ   http://www.tianya.cn/74159026    787    4   \n",
       "16           生命智力学   http://www.tianya.cn/37814368    685    4   \n",
       "17   abcd123654123   http://www.tianya.cn/79337743    660    5   \n",
       "18          邵伟0413   http://www.tianya.cn/72118179    625   10   \n",
       "19         烦恼皆因放不下   http://www.tianya.cn/78042296    511    0   \n",
       "20      fengyixin1   http://www.tianya.cn/44672357    510    1   \n",
       "21          htgglp   http://www.tianya.cn/64603832    504    0   \n",
       "22            天边凤舞   http://www.tianya.cn/84920267    497    6   \n",
       "23         xijia99   http://www.tianya.cn/81826427    462    0   \n",
       "24           干柴有话说    http://www.tianya.cn/2816315    456    4   \n",
       "25            深空幻影   http://www.tianya.cn/71311333    447    0   \n",
       "26        mycool59   http://www.tianya.cn/68693170    439    5   \n",
       "27            绝地潜龙   http://www.tianya.cn/41695682    392   53   \n",
       "28            碧海流年   http://www.tianya.cn/10244488    329    0   \n",
       "29           泣残翼海豚   http://www.tianya.cn/96233555    323    4   \n",
       "..             ...                             ...    ...  ...   \n",
       "349          手提小石头   http://www.tianya.cn/66245958     38    0   \n",
       "350           木耳预防   http://www.tianya.cn/82130023     38    0   \n",
       "351         蟑螂王小强强   http://www.tianya.cn/68184150     36    1   \n",
       "352            日出G   http://www.tianya.cn/94373334     36    0   \n",
       "353         dapocm   http://www.tianya.cn/93220686     36    0   \n",
       "354        用心呵护后的痛   http://www.tianya.cn/50066116     36    0   \n",
       "355        男科医生任主任   http://www.tianya.cn/85813160     35    0   \n",
       "356           易物记者   http://www.tianya.cn/71770109     35    0   \n",
       "357       YaMaXuns  http://www.tianya.cn/108542435     33    2   \n",
       "358         芷竹弘荃筠光   http://www.tianya.cn/97171375     32    0   \n",
       "359          给你快乐吧   http://www.tianya.cn/96941066     32    1   \n",
       "360  abcd123654123   http://www.tianya.cn/79337743     31    0   \n",
       "361        彩虹天堂001   http://www.tianya.cn/49275794     29    0   \n",
       "362         柳暗花明水清   http://www.tianya.cn/73104285     29    0   \n",
       "363       驼铃声声2014   http://www.tianya.cn/86561473     28    0   \n",
       "364       慧美huimei   http://www.tianya.cn/84049677     28    0   \n",
       "365           彼岸零一   http://www.tianya.cn/88573859     27    0   \n",
       "366   malilian2015  http://www.tianya.cn/106009256     25    0   \n",
       "367      肺腑之言你懂得yH   http://www.tianya.cn/85457006     25    0   \n",
       "368        用心做个好茶农   http://www.tianya.cn/96061478     25    0   \n",
       "369          水瓶杰小杰   http://www.tianya.cn/86128178     24    0   \n",
       "370       破土之芽2011   http://www.tianya.cn/51861975     23    0   \n",
       "371      gaoyu2015   http://www.tianya.cn/98275774     23    0   \n",
       "372       别人笑我太疯癫K   http://www.tianya.cn/87629692     23    0   \n",
       "373       xuzhoujc   http://www.tianya.cn/99776368     22    1   \n",
       "374          顶风飘万里  http://www.tianya.cn/107029859     22    0   \n",
       "375        谁捆住谁的手脚   http://www.tianya.cn/86334319     22    0   \n",
       "376          苏凌君子善  http://www.tianya.cn/104406984     12    0   \n",
       "377        上海维舍卡颂石   http://www.tianya.cn/97350704     12    0   \n",
       "378        上海维舍卡颂石   http://www.tianya.cn/97350704      7    0   \n",
       "\n",
       "                    6  \n",
       "0    2015-11-09 14:17  \n",
       "1    2015-12-26 10:46  \n",
       "2    2013-01-13 17:20  \n",
       "3    2014-12-13 10:23  \n",
       "4    2013-11-21 11:26  \n",
       "5    2014-07-30 22:32  \n",
       "6    2013-12-03 11:57  \n",
       "7    2013-11-04 10:57  \n",
       "8    2013-11-11 15:03  \n",
       "9    2013-11-08 09:42  \n",
       "10   2013-12-11 09:16  \n",
       "11   2015-02-10 15:25  \n",
       "12   2013-02-15 13:08  \n",
       "13   2013-05-22 18:56  \n",
       "14   2013-04-19 14:32  \n",
       "15   2013-10-11 16:30  \n",
       "16   2013-03-16 10:20  \n",
       "17   2013-03-27 00:18  \n",
       "18   2013-10-14 09:24  \n",
       "19   2013-01-31 09:35  \n",
       "20   2013-12-04 21:30  \n",
       "21   2013-03-25 11:47  \n",
       "22   2013-11-16 12:10  \n",
       "23   2013-10-17 14:31  \n",
       "24   2013-05-08 14:15  \n",
       "25   2013-02-07 12:52  \n",
       "26   2012-10-11 11:10  \n",
       "27   2015-02-28 20:12  \n",
       "28   2014-02-23 23:37  \n",
       "29   2014-11-06 18:03  \n",
       "..                ...  \n",
       "349  2013-10-25 13:41  \n",
       "350  2013-07-15 21:24  \n",
       "351  2014-12-15 13:52  \n",
       "352  2014-09-08 12:18  \n",
       "353  2014-08-13 15:17  \n",
       "354  2013-02-28 16:37  \n",
       "355  2013-12-15 16:36  \n",
       "356  2012-08-04 14:12  \n",
       "357  2016-01-21 22:47  \n",
       "358  2015-01-07 18:11  \n",
       "359  2014-12-02 12:14  \n",
       "360  2013-03-26 19:28  \n",
       "361  2013-03-29 08:46  \n",
       "362  2013-03-28 09:08  \n",
       "363  2014-02-09 22:37  \n",
       "364  2013-11-08 22:36  \n",
       "365  2014-04-14 10:39  \n",
       "366  2015-12-21 15:35  \n",
       "367  2015-01-26 13:41  \n",
       "368  2014-10-31 12:00  \n",
       "369  2014-01-09 15:05  \n",
       "370  2014-02-09 11:12  \n",
       "371  2015-01-17 18:25  \n",
       "372  2014-07-21 16:37  \n",
       "373  2016-01-07 10:10  \n",
       "374  2015-12-30 20:29  \n",
       "375  2014-02-07 10:22  \n",
       "376  2015-10-30 14:49  \n",
       "377  2015-01-15 12:55  \n",
       "378  2015-01-13 13:56  \n",
       "\n",
       "[379 rows x 7 columns]"
      ]
     },
     "execution_count": 416,
     "metadata": {},
     "output_type": "execute_result"
    }
   ],
   "source": [
    "import pandas as pd\n",
    "\n",
    "df = pd.read_csv('/Users/dingjiayi/Desktop/data/tianyapm.txt', sep = \"\\t\", header=None)\n",
    "df"
   ]
  },
  {
   "cell_type": "code",
   "execution_count": 417,
   "metadata": {
    "collapsed": false
   },
   "outputs": [
    {
     "data": {
      "text/plain": [
       "379"
      ]
     },
     "execution_count": 417,
     "metadata": {},
     "output_type": "execute_result"
    }
   ],
   "source": [
    "len(df)"
   ]
  },
  {
   "cell_type": "markdown",
   "metadata": {},
   "source": [
    "2.2 天涯 抓取作者信息"
   ]
  },
  {
   "cell_type": "code",
   "execution_count": 418,
   "metadata": {
    "collapsed": false
   },
   "outputs": [
    {
     "data": {
      "text/html": [
       "<div>\n",
       "<table border=\"1\" class=\"dataframe\">\n",
       "  <thead>\n",
       "    <tr style=\"text-align: right;\">\n",
       "      <th></th>\n",
       "      <th>title</th>\n",
       "      <th>link</th>\n",
       "      <th>author</th>\n",
       "      <th>author_page</th>\n",
       "      <th>click</th>\n",
       "      <th>reply</th>\n",
       "      <th>time</th>\n",
       "    </tr>\n",
       "  </thead>\n",
       "  <tbody>\n",
       "    <tr>\n",
       "      <th>0</th>\n",
       "      <td>严重雾霾天气 沈阳PM2.5浓度过千.找亮点(有图)</td>\n",
       "      <td>/post-free-5305449-1.shtml</td>\n",
       "      <td>静静的莲花</td>\n",
       "      <td>http://www.tianya.cn/105514428</td>\n",
       "      <td>31054</td>\n",
       "      <td>175</td>\n",
       "      <td>2015-11-09 14:17</td>\n",
       "    </tr>\n",
       "    <tr>\n",
       "      <th>1</th>\n",
       "      <td>【连活着都是奢侈】,台湾去年死于PM2.5高达六千多人.</td>\n",
       "      <td>/post-free-5345549-1.shtml</td>\n",
       "      <td>四號</td>\n",
       "      <td>http://www.tianya.cn/8240809</td>\n",
       "      <td>28563</td>\n",
       "      <td>82</td>\n",
       "      <td>2015-12-26 10:46</td>\n",
       "    </tr>\n",
       "  </tbody>\n",
       "</table>\n",
       "</div>"
      ],
      "text/plain": [
       "                          title                        link author  \\\n",
       "0    严重雾霾天气 沈阳PM2.5浓度过千.找亮点(有图)  /post-free-5305449-1.shtml  静静的莲花   \n",
       "1  【连活着都是奢侈】,台湾去年死于PM2.5高达六千多人.  /post-free-5345549-1.shtml     四號   \n",
       "\n",
       "                      author_page  click  reply              time  \n",
       "0  http://www.tianya.cn/105514428  31054    175  2015-11-09 14:17  \n",
       "1    http://www.tianya.cn/8240809  28563     82  2015-12-26 10:46  "
      ]
     },
     "execution_count": 418,
     "metadata": {},
     "output_type": "execute_result"
    }
   ],
   "source": [
    "df=df.rename(columns = {0:'title', 1:'link', 2:'author',3:'author_page', 4:'click', 5:'reply', 6:'time'})\n",
    "df[:2]"
   ]
  },
  {
   "cell_type": "code",
   "execution_count": 419,
   "metadata": {
    "collapsed": false
   },
   "outputs": [
    {
     "data": {
      "text/plain": [
       "0    http://www.tianya.cn/105514428\n",
       "1      http://www.tianya.cn/8240809\n",
       "2     http://www.tianya.cn/43393067\n",
       "3     http://www.tianya.cn/97272912\n",
       "4     http://www.tianya.cn/65737926\n",
       "Name: author_page, dtype: object"
      ]
     },
     "execution_count": 419,
     "metadata": {},
     "output_type": "execute_result"
    }
   ],
   "source": [
    "df.author_page[:5]"
   ]
  },
  {
   "cell_type": "code",
   "execution_count": 420,
   "metadata": {
    "collapsed": true
   },
   "outputs": [],
   "source": [
    "def author_crawler(url, file_name):\n",
    "    try:\n",
    "        content = urllib2.urlopen(url).read() #获取网页的html文本\n",
    "        soup = BeautifulSoup(content, \"lxml\")\n",
    "        link_info = soup.find_all('div', {'class', 'link-box'})\n",
    "        followed_num, fans_num = [i.a.text for i in link_info]\n",
    "        try:\n",
    "            activity = soup.find_all('span', {'class', 'subtitle'})\n",
    "            post_num, reply_num = [j.text[2:] for i in activity[:1] for j in i('a')]\n",
    "        except:\n",
    "            post_num, reply_num = 1, 0\n",
    "        record =  '\\t'.join([url, followed_num, fans_num, post_num, reply_num])\n",
    "        with open(file_name,'a') as p: # '''Note'''：Ａppend mode, run only once!\n",
    "                    p.write(record.encode('utf-8')+\"\\n\") ##!!encode here to utf-8 to avoid encoding\n",
    "\n",
    "    except Exception, e:\n",
    "        print e, url\n",
    "        record =  '\\t'.join([url, 'na', 'na', 'na', 'na'])\n",
    "        with open(file_name,'a') as p: # '''Note'''：Ａppend mode, run only once!\n",
    "                    p.write(record.encode('utf-8')+\"\\n\") ##!!encode here to utf-8 to avoid encoding\n",
    "        pass"
   ]
  },
  {
   "cell_type": "code",
   "execution_count": 421,
   "metadata": {
    "collapsed": false,
    "scrolled": true
   },
   "outputs": [
    {
     "name": "stdout",
     "output_type": "stream",
     "text": [
      "0\n",
      "10\n",
      "need more than 0 values to unpack http://www.tianya.cn/38464560\n",
      "20\n",
      "30\n",
      "40\n",
      "50\n",
      "60\n",
      "need more than 0 values to unpack http://www.tianya.cn/82024030\n",
      "70\n",
      "need more than 0 values to unpack http://www.tianya.cn/39343226\n",
      "80\n",
      "need more than 0 values to unpack http://www.tianya.cn/28481443\n",
      "90\n",
      "100\n",
      "110\n",
      "120\n",
      "130\n",
      "140\n",
      "150\n",
      "160\n",
      "170\n",
      "180\n",
      "190\n",
      "200\n",
      "210\n",
      "220\n",
      "230\n",
      "240\n",
      "250\n",
      "need more than 0 values to unpack http://www.tianya.cn/38464560\n",
      "260\n",
      "270\n",
      "280\n",
      "290\n",
      "300\n",
      "310\n",
      "320\n",
      "330\n",
      "340\n",
      "350\n",
      "360\n",
      "370\n"
     ]
    }
   ],
   "source": [
    "for k, url in enumerate(df.author_page):\n",
    "    if k % 10==0:\n",
    "        print k\n",
    "    author_crawler(url, '/Users/dingjiayi/Desktop/data/tianyapmauthor.txt') "
   ]
  },
  {
   "cell_type": "code",
   "execution_count": 422,
   "metadata": {
    "collapsed": false
   },
   "outputs": [],
   "source": [
    "url = df.author_page[1]\n",
    "content = urllib2.urlopen(url).read() #获取网页的html文本\n",
    "soup1 = BeautifulSoup(content, \"lxml\") "
   ]
  },
  {
   "cell_type": "code",
   "execution_count": 423,
   "metadata": {
    "collapsed": false
   },
   "outputs": [
    {
     "data": {
      "text/plain": [
       "[<p><span>\\u5730\\u3000\\u3000\\u533a</span>\\u5e7f\\u4e1c\\u5ee3\\u5dde</p>,\n",
       " <p><span>\\u79ef\\u3000\\u3000\\u5206</span>108858</p>,\n",
       " <p><span>\\u767b\\u5f55\\u6b21\\u6570</span>3996</p>,\n",
       " <p><span>\\u6700\\u65b0\\u767b\\u5f55</span>2016-05-15 15:51:17</p>,\n",
       " <p><span>\\u6ce8\\u518c\\u65e5\\u671f</span>2006-08-26 07:38:00</p>]"
      ]
     },
     "execution_count": 423,
     "metadata": {},
     "output_type": "execute_result"
    }
   ],
   "source": [
    "user_info"
   ]
  },
  {
   "cell_type": "code",
   "execution_count": 424,
   "metadata": {
    "collapsed": false
   },
   "outputs": [
    {
     "name": "stdout",
     "output_type": "stream",
     "text": [
      "　　区广东廣州 　　分108858 录次数3996 新登录2016-05-15 15:51:17 册日期2006-08-26 07:38:00\n",
      "14 10233\n"
     ]
    }
   ],
   "source": [
    "user_info = soup1.find('div',  {'class', 'userinfo'})('p')\n",
    "area, nid, freq_use, last_login_time, reg_time = [i.get_text()[1:] for i in user_info]\n",
    "print area, nid, freq_use, last_login_time, reg_time \n",
    "\n",
    "link_info = soup1.find_all('div', {'class', 'link-box'})\n",
    "followed_num, fans_num = [i.a.text for i in link_info]\n",
    "print followed_num, fans_num"
   ]
  },
  {
   "cell_type": "code",
   "execution_count": 425,
   "metadata": {
    "collapsed": false
   },
   "outputs": [
    {
     "name": "stdout",
     "output_type": "stream",
     "text": [
      "广东廣州 108858 3996 2016-05-15 15:51:17 2006-08-26 07:38:00\n",
      "14 10233\n"
     ]
    }
   ],
   "source": [
    "user_info = soup1.find('div',  {'class', 'userinfo'})('p')\n",
    "area, nid, freq_use, last_login_time, reg_time = [i.get_text()[4:] for i in user_info]\n",
    "print area, nid, freq_use, last_login_time, reg_time \n",
    "\n",
    "link_info = soup1.find_all('div', {'class', 'link-box'})\n",
    "followed_num, fans_num = [i.a.text for i in link_info]\n",
    "print followed_num, fans_num"
   ]
  },
  {
   "cell_type": "code",
   "execution_count": 426,
   "metadata": {
    "collapsed": false
   },
   "outputs": [
    {
     "name": "stdout",
     "output_type": "stream",
     "text": [
      "10161 16201\n"
     ]
    }
   ],
   "source": [
    "activity = soup1.find_all('span', {'class', 'subtitle'})\n",
    "post_num, reply_num = [j.text[2:] for i in activity[:1] for j in i('a')]\n",
    "print post_num, reply_num"
   ]
  },
  {
   "cell_type": "code",
   "execution_count": 427,
   "metadata": {
    "collapsed": false
   },
   "outputs": [
    {
     "name": "stdout",
     "output_type": "stream",
     "text": [
      "<span class=\"subtitle\"><a href=\"http://www.tianya.cn/8240809/bbs?t=post\">主帖10161</a>　<a href=\"http://www.tianya.cn/8240809/bbs?t=reply\">回帖16201</a></span>\n"
     ]
    }
   ],
   "source": [
    "print activity[0]"
   ]
  },
  {
   "cell_type": "code",
   "execution_count": 430,
   "metadata": {
    "collapsed": false
   },
   "outputs": [
    {
     "name": "stdout",
     "output_type": "stream",
     "text": [
      "14 10233\n"
     ]
    }
   ],
   "source": [
    "link_info = soup1.find_all('div', {'class', 'link-box'})\n",
    "followed_num, fans_num = [i.a.text for i in link_info]\n",
    "print followed_num, fans_num"
   ]
  },
  {
   "cell_type": "code",
   "execution_count": 431,
   "metadata": {
    "collapsed": false
   },
   "outputs": [
    {
     "data": {
      "text/plain": [
       "u'14'"
      ]
     },
     "execution_count": 431,
     "metadata": {},
     "output_type": "execute_result"
    }
   ],
   "source": [
    "link_info[0].a.text"
   ]
  },
  {
   "cell_type": "markdown",
   "metadata": {},
   "source": [
    "2.3  天涯 抓取回帖"
   ]
  },
  {
   "cell_type": "code",
   "execution_count": 432,
   "metadata": {
    "collapsed": false
   },
   "outputs": [
    {
     "data": {
      "text/plain": [
       "'/post-free-3011875-1.shtml'"
      ]
     },
     "execution_count": 432,
     "metadata": {},
     "output_type": "execute_result"
    }
   ],
   "source": [
    "df.link[2]"
   ]
  },
  {
   "cell_type": "code",
   "execution_count": 299,
   "metadata": {
    "collapsed": false
   },
   "outputs": [
    {
     "data": {
      "text/plain": [
       "'http://bbs.tianya.cn/post-free-3011875-1.shtml'"
      ]
     },
     "execution_count": 299,
     "metadata": {},
     "output_type": "execute_result"
    }
   ],
   "source": [
    "url = 'http://bbs.tianya.cn' + df.link[2]\n",
    "url"
   ]
  },
  {
   "cell_type": "code",
   "execution_count": 300,
   "metadata": {
    "collapsed": false
   },
   "outputs": [
    {
     "data": {
      "text/html": [
       "<iframe src=http://bbs.tianya.cn/post-free-3011875-1.shtml width=1000 height=500></iframe>"
      ],
      "text/plain": [
       "<IPython.core.display.HTML object>"
      ]
     },
     "execution_count": 300,
     "metadata": {},
     "output_type": "execute_result"
    }
   ],
   "source": [
    "from IPython.display import display_html, HTML\n",
    "HTML('<iframe src=http://bbs.tianya.cn/post-free-3011875-1.shtml width=1000 height=500></iframe>')"
   ]
  },
  {
   "cell_type": "code",
   "execution_count": 301,
   "metadata": {
    "collapsed": false
   },
   "outputs": [],
   "source": [
    "post = urllib2.urlopen(url).read() #获取网页的html文本\n",
    "post_soup = BeautifulSoup(post, \"lxml\") \n",
    "#articles = soup.find_all('tr')"
   ]
  },
  {
   "cell_type": "code",
   "execution_count": 302,
   "metadata": {
    "collapsed": false
   },
   "outputs": [
    {
     "name": "stdout",
     "output_type": "stream",
     "text": [
      "<!DOCTYPE HTML>\n",
      "<html>\n",
      " <head>\n",
      "  <meta charset=\"utf-8\"/>\n",
      "  <title>\n",
      "   ,【老虎画画】帝都PM2.5，需要配合的谎言_天涯杂谈_天涯论坛\n",
      "  </title>\n",
      "  <meta content=\",【老虎画画】帝都PM2.5，需要配合的谎言　　　　文/唐伯虎瞎画画　　帝都PM2.5录得超过1000，微薄上到处都是关于它的消息，新闻爆炸程度有如刘翔承认假跑，每一条与此有关的微薄都像足发了疯飞出来蜇人的野蜂。与上回帝都海浪中漂流事件略有不同是，微薄小秘书大概不用加班勤奋销贴了。想想手...\" name=\"description\"/>\n",
      "  <meta content=\"IE=EmulateIE9\" http-equiv=\"X-UA-Compatible\"/>\n",
      "  <meta content=\"唐伯虎瞎画画\" name=\"author\"/>\n",
      "  <meta content=\"format=xhtml; url=http://bbs.tianya.cn/m/post-free-3011875-1.shtml\" http-equiv=\"mobile-agent\"/>\n",
      "  <link href=\"http://static.tianyaui.com/global/ty/TY.css\" rel=\"stylesheet\" type=\"text/css\"/>\n",
      "  <link href=\"http://static.tianyaui.com/global/bbs/web/static/css/bbs_article_c55fffc.css\" rel=\"stylesheet\" type=\"text/css\"/>\n",
      "  <link href=\"http://static.tianyaui.com/favicon.ico\" rel=\"shortcut icon\" type=\"image/vnd.microsoft.icon\"/>\n",
      "  <script type=\"text/javascript\">\n",
      "   var bbsGlobal = {\r\n",
      "\tisEhomeItem : false,\r\n",
      "\tisNewArticle : false,\r\n",
      "\tauthorId : \"43393067\",\r\n",
      "\tauthorName : \"唐伯虎瞎画画\", \r\n",
      "\tblocktype : \"主版\",\r\n",
      "\titemType : \"主版\",\r\n",
      "\tlaibaType : \"null\",  \r\n",
      "\tpage : \"1\",\r\n",
      "\tpermission : true,\r\n",
      "\tpermissionStatus : \"开放\",\r\n",
      "\titemPermission : 1,\r\n",
      "\titemCategory : \"社会\",\r\n",
      "\tisWeiLun : false,\r\n",
      "\tisSealItem : false,\r\n",
      "\titem : \"free\",\r\n",
      "\titemName : \"天涯杂谈\",\r\n",
      "\tartId : 3011875,\r\n",
      "\tmedia : 0,\r\n",
      "\tsubType : \"\",\r\n",
      "\tad : 0,\r\n",
      "\tadshow : 0,\r\n",
      "\tadblock : 0,\r\n",
      "\twords : [{\"link\":\"http://ebook.tianya.cn/html2/chapter.aspx?bookid=75204&comefrom=tianya \",\"word\":\"养鬼\"},{\"link\":\"http://ebook.tianya.cn/html2/chapter.aspx?bookid=78822&comefrom=tianya \",\"word\":\"爱情\"},{\"link\":\"http://ebook.tianya.cn/html2/chapter.aspx?bookid=78829&comefrom=tianya \",\"word\":\"离婚\"},{\"link\":\"http://zan.tianya.cn/\",\"word\":\"原创\"},{\"link\":\"http://bbs.tianya.cn/list-410-1.shtml\",\"word\":\"主播\"},{\"link\":\"http://groups.tianya.cn/list-163029-1.shtml\",\"word\":\"日记\"},{\"link\":\"http://groups.tianya.cn/list-163907-1.shtml\",\"word\":\"吐糟\"},{\"link\":\"http://groups.tianya.cn/list-65695-1.shtml\",\"word\":\"青春\"},{\"link\":\"http://groups.tianya.cn/list-86723-1.shtml\",\"word\":\"EXO\"},{\"link\":\"http://groups.tianya.cn/list-81007-1.shtml\",\"word\":\"李易峰\"},{\"link\":\"http://groups.tianya.cn/list-9999-1.shtml\",\"word\":\"乔振宇\"},{\"link\":\"http://groups.tianya.cn/list-9619-1.shtml\",\"word\":\"陈晓\"},{\"link\":\"http://groups.tianya.cn/list-9214-1.shtml\",\"word\":\"历史\"},{\"link\":\"http://groups.tianya.cn/list-163222-1.shtml\",\"word\":\"哲学\"},{\"link\":\"http://groups.tianya.cn/list-163503-1.shtml\",\"word\":\"感动\"},{\"link\":\"http://bbs.tianya.cn/list-730-1.shtml\",\"word\":\"中山大学\"},{\"link\":\"http://groups.tianya.cn/list-14270-1.shtml\",\"word\":\"雨后\"},{\"link\":\"http://groups.tianya.cn/list-9797-1.shtml\",\"word\":\"钟汉良\"}],\r\n",
      "\tpageCount : 1,\r\n",
      "\tdashang : {\r\n",
      "\t\tmerId : \"%E5%A4%A9%E6%B6%AF%E8%AE%BA%E5%9D%9B\",\r\n",
      "\t\tmerNum : \"free-3011875\",\r\n",
      "\t\tgetName : \"%E5%94%90%E4%BC%AF%E8%99%8E%E7%9E%8E%E7%94%BB%E7%94%BB\",\r\n",
      "\t\ttime : \"1463305601406\",\r\n",
      "\t\text1 : \"3011875\",\r\n",
      "\t\text2 : \"free\",\r\n",
      "\t\text4 : \"%2C%3Cfont+color%3D600000%3E%E3%80%90%E8%80%81%E8%99%8E%E7%94%BB%E7%94%BB%E3%80%91%3C%2Ffont%3E%E5%B8%9D%E9%83%BDPM2.5%EF%BC%8C%E9%9C%80%E8%A6%81%E9%85%8D%E5%90%88%E7%9A%84%E8%B0%8E%E8%A8%80\",\r\n",
      "\t\tsign : \"0b075ec56cd80afeda00d5612b3c5d55\",\r\n",
      "\t\tamount : 0,\r\n",
      "\t\tzhiyinCount : 0,\r\n",
      "\t\tnewestRecords : null\r\n",
      "\t},\r\n",
      "\tisWenda : false,\r\n",
      "\t\r\n",
      "\tisSlide : true,\r\n",
      "\ttrueName : \"\",\r\n",
      "\tartProtectedTips : \"\"\r\n",
      "};\r\n",
      "\r\n",
      "var adsGlobal = {\r\n",
      "\t\titemId : \"free\",\r\n",
      "\t\tpageType : \"02\",\r\n",
      "\t\tpopWinId: \"16\"\r\n",
      "};\n",
      "  </script>\n",
      "  <script charset=\"utf-8\" src=\"http://static.tianyaui.com/global/ty/TY.js\" type=\"text/javascript\">\n",
      "  </script>\n",
      "  <script charset=\"utf-8\" src=\"http://static.tianyaui.com/global/bbs/web/static/js/main_e88627e.js\" type=\"text/javascript\">\n",
      "  </script>\n",
      " </head>\n",
      " <body>\n",
      "  <div id=\"top_nav_wrap\">\n",
      "   <div class=\"clearfix\" id=\"top_nav\">\n",
      "    <div class=\"top-nav-logo\">\n",
      "     <a _tystat=\"新版顶导航/Logo\" href=\"http://focus.tianya.cn/\">\n",
      "     </a>\n",
      "    </div>\n",
      "    <div class=\"top-nav-main clearfix\">\n",
      "     <div class=\"top-nav-menu clearfix\">\n",
      "      <div class=\"top-nav-fl clearfix\">\n",
      "       <ul class=\"top-nav-menu-list clearfix\">\n",
      "        <li class=\"top-nav-menu-li top-nav-menu-li-first\">\n",
      "         <a _checklocation=\"1\" _tystat=\"新版顶导航/论坛\" appstr=\"bbs\" class=\"top-nav-main-menu\" href=\"http://bbs.tianya.cn/\">\n",
      "          论坛\n",
      "         </a>\n",
      "        </li>\n",
      "        <li class=\"top-nav-menu-li\">\n",
      "         <a _checklocation=\"1\" _tystat=\"新版顶导航/分社区/聚焦\" appstr=\"focus\" class=\"top-nav-main-menu\" href=\"http://focus.tianya.cn/\">\n",
      "          聚焦\n",
      "         </a>\n",
      "        </li>\n",
      "        <li class=\"top-nav-menu-li\">\n",
      "         <a _tystat=\"新版顶导航/部落\" class=\"top-nav-main-menu\" href=\"http://groups.tianya.cn\">\n",
      "          部落\n",
      "         </a>\n",
      "        </li>\n",
      "        <li class=\"top-nav-menu-li\">\n",
      "         <a _checklocation=\"1\" _tystat=\"新版顶导航/博客\" appstr=\"blog\" class=\"top-nav-main-menu\" href=\"http://blog.tianya.cn/\">\n",
      "          博客\n",
      "         </a>\n",
      "        </li>\n",
      "        <li class=\"top-nav-menu-li\">\n",
      "         <a _checklocation=\"1\" _tystat=\"新版顶导航/问答\" appstr=\"wenda\" class=\"top-nav-main-menu\" href=\"http://wenda.tianya.cn/\">\n",
      "          问答\n",
      "         </a>\n",
      "        </li>\n",
      "        <!-- <li class=\"top-nav-menu-li\"><a _tystat=\"新版顶导航\n"
     ]
    }
   ],
   "source": [
    "print (post_soup.prettify())[:5000]"
   ]
  },
  {
   "cell_type": "code",
   "execution_count": 303,
   "metadata": {
    "collapsed": false
   },
   "outputs": [
    {
     "data": {
      "text/plain": [
       "89"
      ]
     },
     "execution_count": 303,
     "metadata": {},
     "output_type": "execute_result"
    }
   ],
   "source": [
    "pa = post_soup.find_all('div', {'class', 'atl-item'})\n",
    "len(pa)"
   ]
  },
  {
   "cell_type": "code",
   "execution_count": 304,
   "metadata": {
    "collapsed": false
   },
   "outputs": [
    {
     "name": "stdout",
     "output_type": "stream",
     "text": [
      "<div _host=\"%E5%94%90%E4%BC%AF%E8%99%8E%E7%9E%8E%E7%94%BB%E7%94%BB\" class=\"atl-item host-item\">\n",
      "<div class=\"atl-content\">\n",
      "<div class=\"atl-con-hd clearfix\">\n",
      "<div class=\"atl-con-hd-l\"></div>\n",
      "<div class=\"atl-con-hd-r\"></div>\n",
      "</div>\n",
      "<div class=\"atl-con-bd clearfix\">\n",
      "<div class=\"bbs-content clearfix\">\r\n",
      "\t\t\t\t\t\t\t　　<br/>\n",
      "　　文/唐伯虎瞎画画<br/>\n",
      "<br/>\n",
      "<br/>\n",
      "　　帝都PM2.5录得超过1000，微薄上到处都是关于它的消息，新闻爆炸程度有如刘翔承认假跑，每一条与此有关的微薄都像足发了疯飞出来蜇人的野蜂。与上回帝都海浪中漂流事件略有不同是，微薄小秘书大概不用加班勤奋销贴了。想想手握小秘书权力背后那些年轻的小姑娘小伙们，有幸得到这样一份工作，必定在人类进化史上谱写新的篇章——我毫不怀疑从他们她们当中，能进化出人类第一批双手十五指、二十指的物种精英，熟练操纵特制101键盘上100个Delete键，富士康工厂里那些日夜旋转不停的机器臂也望尘莫及。历史会牢牢将他们她们和那些人记住。<br/>\n",
      "<br/>\n",
      "　　其实PM2.5还是PM250是个什么玩意，一般人都说不出个所以然。就像那些总是会向你下不知所谓命令的领导，你不知道他是牛逼，还是2逼。只是知道，数值越高，它代表越不适合人类居住。平日里，PM2.5到底怎么样存在与危害，看不到摸不着，有个美领事馆天天免费播报吧，又不要工钱，不增加你的三公，结果差点给当成境外势力关进小黑屋，再加告它们一条侵犯国家秘密罪。如此算来PM2.5至少有2.5种以上的标准，至少我们会把它弄成这样。我们就是这么干的，无论是空气、食品，还是其它所有不同的一切。什么事进入中国，就像隔着毛玻璃播放AV，一边原声叫得人魂不守舍，一边现场配音听来却是字正腔圆的CCAV庄严朗诵体，玻璃外的你就不知该信谁。听多了，人自然就精神分裂，不开着七点档的节目，房事进行就会有困难。因此有人就认为，七点档节目的重要性，关系到种族繁衍，非常有必要加强再加强，统一再统一。北方还这么冷入骨髓，冰着冻落着雪，南方怎么能春暖开花天天度周末？都冻上呗，冬天必须是这个样子，我们的冬天有我们的标准，想暖和，等着都变成南方那么暖和再说。当然，环球报说，现在都像南方这样暖，那是绝对不可能的。<br/>\n",
      "<br/>\n",
      "　　据北京同学最直观的反映是，彩色的帝都，今天变成了灰白像片。再远一点，那是电视断了天线，屏幕都直播同一片灰色的雪。<br/>\n",
      "<br/>\n",
      "　　想想帝都的人怎么那样娇气，老舍笔下黄土之城到现在的灰白之城，除了奥运会那阵撤去过现场配音，让你见识到原声是怎么回事，你不一直生活在这样的城市之中？现在怎么就受不了了？环球报说得好，从前一直都这样，两三天你就受不了了，过去一直受得了，今天怎么就不行了？很让人怀疑你们都是被境外势力下了蛊，不能好好配合让帝都的PM2.5降下来？怎么能没有这么一点大局观呢，帝都啊！如此浪费你们的情绪与话语权。<br/>\n",
      "<br/>\n",
      "　　科洛迪在他的代表作中，写了一个说谎会长鼻子的木偶，所有听过这个故事的小孩都被警告说谎就会鼻子长长。我们现在就是那个天真的小孩，天真的相信，一切没有长长鼻子的人都是诚实的人，所以他们说的都必须真实。当有一天，我们发现他们没有长长鼻子依然说谎时，他们却告诉我们要配合他们的谎言。<br/>\n",
      "<br/>\n",
      "　　PM2.5或者PM250，正是我们需要集体配合的一个谎言。这谎言之前、现在、未来，都将是这样的：我们拥有越来越好的蓝天白云，越来越自由呼吸的空气！你除了歌颂，他除了庆祝，不需要再有其它任何事。<br/>\n",
      "<br/>\n",
      "<center><iframe frameborder=\"0\" height=\"272px\" id=\"iFrame_1801\" name=\"iFrame_1801\" scrolling=\"no\" src=\"http://apps.tianya.cn/templates/i_album_page.html?aid=1801\" width=\"680px\"></iframe></center><br/>\n",
      "</div>\n",
      "<div class=\"clearfix\" id=\"alt_action\"></div>\n",
      "<div class=\"clearfix\">\n",
      "<div class=\"host-data\">\n",
      "<span>楼主发言：3次</span> <span>发图：0张</span>\n",
      "</div>\n",
      "<div class=\"atl-reply\" id=\"alt_reply\">\n",
      "<a author=\"唐伯虎瞎画画\" authorid=\"43393067\" class=\"reportme a-link\" href=\"javascript:void(0);\" replyid=\"0\" replytime=\"2013-01-13 17:20:00\"> 举报</a> | \r\n",
      "\t\t\t\t\t\t\t<a class=\"a-link acl-share\" href=\"javascript:void(0);\">分享</a> |  \r\n",
      "\t\t\t               \t<a class=\"a-link acl-more\" href=\"javascript:void(0);\">更多</a> |\r\n",
      "\t\t\t\t\t\t\t<span><a class=\"a-link\" name=\"0\">楼主</a></span>\n",
      "<a _name=\"唐伯虎瞎画画\" _time=\"2013-01-13 17:20:00\" class=\"a-link2 replytop\" href=\"#fabu_anchor\">回复</a>\n",
      "</div>\n",
      "</div>\n",
      "<div id=\"ds-quick-box\" style=\"display:none;\"></div>\n",
      "</div>\n",
      "<div class=\"atl-con-ft clearfix\">\n",
      "<div class=\"atl-con-ft-l\"></div>\n",
      "<div class=\"atl-con-ft-r\"></div>\n",
      "<div id=\"niuren_ifm\"></div>\n",
      "</div>\n",
      "</div>\n",
      "</div>\n"
     ]
    }
   ],
   "source": [
    "print pa[0]"
   ]
  },
  {
   "cell_type": "code",
   "execution_count": 305,
   "metadata": {
    "collapsed": false
   },
   "outputs": [
    {
     "name": "stdout",
     "output_type": "stream",
     "text": [
      "文/唐伯虎瞎画画\n",
      "\n",
      "\n",
      "　　帝都PM2.5录得超过1000，微薄上到处都是关于它的消息，新闻爆炸程度有如刘翔承认假跑，每一条与此有关的微薄都像足发了疯飞出来蜇人的野蜂。与上回帝都海浪中漂流事件略有不同是，微薄小秘书大概不用加班勤奋销贴了。想想手握小秘书权力背后那些年轻的小姑娘小伙们，有幸得到这样一份工作，必定在人类进化史上谱写新的篇章——我毫不怀疑从他们她们当中，能进化出人类第一批双手十五指、二十指的物种精英，熟练操纵特制101键盘上100个Delete键，富士康工厂里那些日夜旋转不停的机器臂也望尘莫及。历史会牢牢将他们她们和那些人记住。\n",
      "\n",
      "　　其实PM2.5还是PM250是个什么玩意，一般人都说不出个所以然。就像那些总是会向你下不知所谓命令的领导，你不知道他是牛逼，还是2逼。只是知道，数值越高，它代表越不适合人类居住。平日里，PM2.5到底怎么样存在与危害，看不到摸不着，有个美领事馆天天免费播报吧，又不要工钱，不增加你的三公，结果差点给当成境外势力关进小黑屋，再加告它们一条侵犯国家秘密罪。如此算来PM2.5至少有2.5种以上的标准，至少我们会把它弄成这样。我们就是这么干的，无论是空气、食品，还是其它所有不同的一切。什么事进入中国，就像隔着毛玻璃播放AV，一边原声叫得人魂不守舍，一边现场配音听来却是字正腔圆的CCAV庄严朗诵体，玻璃外的你就不知该信谁。听多了，人自然就精神分裂，不开着七点档的节目，房事进行就会有困难。因此有人就认为，七点档节目的重要性，关系到种族繁衍，非常有必要加强再加强，统一再统一。北方还这么冷入骨髓，冰着冻落着雪，南方怎么能春暖开花天天度周末？都冻上呗，冬天必须是这个样子，我们的冬天有我们的标准，想暖和，等着都变成南方那么暖和再说。当然，环球报说，现在都像南方这样暖，那是绝对不可能的。\n",
      "\n",
      "　　据北京同学最直观的反映是，彩色的帝都，今天变成了灰白像片。再远一点，那是电视断了天线，屏幕都直播同一片灰色的雪。\n",
      "\n",
      "　　想想帝都的人怎么那样娇气，老舍笔下黄土之城到现在的灰白之城，除了奥运会那阵撤去过现场配音，让你见识到原声是怎么回事，你不一直生活在这样的城市之中？现在怎么就受不了了？环球报说得好，从前一直都这样，两三天你就受不了了，过去一直受得了，今天怎么就不行了？很让人怀疑你们都是被境外势力下了蛊，不能好好配合让帝都的PM2.5降下来？怎么能没有这么一点大局观呢，帝都啊！如此浪费你们的情绪与话语权。\n",
      "\n",
      "　　科洛迪在他的代表作中，写了一个说谎会长鼻子的木偶，所有听过这个故事的小孩都被警告说谎就会鼻子长长。我们现在就是那个天真的小孩，天真的相信，一切没有长长鼻子的人都是诚实的人，所以他们说的都必须真实。当有一天，我们发现他们没有长长鼻子依然说谎时，他们却告诉我们要配合他们的谎言。\n",
      "\n",
      "　　PM2.5或者PM250，正是我们需要集体配合的一个谎言。这谎言之前、现在、未来，都将是这样的：我们拥有越来越好的蓝天白云，越来越自由呼吸的空气！你除了歌颂，他除了庆祝，不需要再有其它任何事。\n"
     ]
    }
   ],
   "source": [
    "print pa[0].find('div', {'class', 'bbs-content'}).text.strip()"
   ]
  },
  {
   "cell_type": "code",
   "execution_count": 306,
   "metadata": {
    "collapsed": false
   },
   "outputs": [
    {
     "name": "stdout",
     "output_type": "stream",
     "text": [
      "@我爱爆料2000 85楼 2013-02-04 09:17:54　　习惯就好，要淡定　　-----------------------------　　习近平谈雾霾：用生活的淡定去面对　　你好,领导\n"
     ]
    }
   ],
   "source": [
    "print pa[87].find('div', {'class', 'bbs-content'}).text.strip()"
   ]
  },
  {
   "cell_type": "code",
   "execution_count": 307,
   "metadata": {
    "collapsed": false
   },
   "outputs": [
    {
     "data": {
      "text/plain": [
       "<a class=\"js-vip-check\" href=\"http://www.tianya.cn/43393067\" target=\"_blank\" uid=\"43393067\" uname=\"\\u5510\\u4f2f\\u864e\\u778e\\u753b\\u753b\">\\u5510\\u4f2f\\u864e\\u778e\\u753b\\u753b</a>"
      ]
     },
     "execution_count": 307,
     "metadata": {},
     "output_type": "execute_result"
    }
   ],
   "source": [
    "pa[1].a"
   ]
  },
  {
   "cell_type": "code",
   "execution_count": 308,
   "metadata": {
    "collapsed": false
   },
   "outputs": [
    {
     "name": "stdout",
     "output_type": "stream",
     "text": [
      "<a author=\"唐伯虎瞎画画\" authorid=\"43393067\" class=\"reportme a-link\" href=\"javascript:void(0);\" replyid=\"0\" replytime=\"2013-01-13 17:20:00\"> 举报</a>\n"
     ]
    }
   ],
   "source": [
    "print pa[0].find('a', class_ = 'reportme a-link')"
   ]
  },
  {
   "cell_type": "code",
   "execution_count": 309,
   "metadata": {
    "collapsed": false
   },
   "outputs": [
    {
     "name": "stdout",
     "output_type": "stream",
     "text": [
      "2013-01-13 17:20:00\n"
     ]
    }
   ],
   "source": [
    "print pa[0].find('a', class_ = 'reportme a-link')['replytime']"
   ]
  },
  {
   "cell_type": "code",
   "execution_count": 310,
   "metadata": {
    "collapsed": false
   },
   "outputs": [
    {
     "name": "stdout",
     "output_type": "stream",
     "text": [
      "唐伯虎瞎画画\n"
     ]
    }
   ],
   "source": [
    "print pa[0].find('a', class_ = 'reportme a-link')['author']"
   ]
  },
  {
   "cell_type": "code",
   "execution_count": 311,
   "metadata": {
    "collapsed": false
   },
   "outputs": [
    {
     "name": "stdout",
     "output_type": "stream",
     "text": [
      "2013-01-13 17:20:00 ---> 43393067 ---> 唐伯虎瞎画画 ---> 文/唐伯虎瞎画画\n",
      "\n",
      "\n",
      "　　帝都PM2.5录得超过1000，微薄上到处都是关于它的消息，新闻爆炸程度有如刘翔承认假跑，每一条与此有关的微薄都像足发了疯飞出来蜇人的野蜂。与上回帝都海浪中漂流事件略有不同是，微薄小秘书大概不用加班勤奋销贴了。想想手握小秘书权力背后那些年轻的小姑娘小伙们，有幸得到这样一份工作，必定在人类进化史上谱写新的篇章——我毫不怀疑从他们她们当中，能进化出人类第一批双手十五指、二十指的物种精英，熟练操纵特制101键盘上100个Delete键，富士康工厂里那些日夜旋转不停的机器臂也望尘莫及。历史会牢牢将他们她们和那些人记住。\n",
      "\n",
      "　　其实PM2.5还是PM250是个什么玩意，一般人都说不出个所以然。就像那些总是会向你下不知所谓命令的领导，你不知道他是牛逼，还是2逼。只是知道，数值越高，它代表越不适合人类居住。平日里，PM2.5到底怎么样存在与危害，看不到摸不着，有个美领事馆天天免费播报吧，又不要工钱，不增加你的三公，结果差点给当成境外势力关进小黑屋，再加告它们一条侵犯国家秘密罪。如此算来PM2.5至少有2.5种以上的标准，至少我们会把它弄成这样。我们就是这么干的，无论是空气、食品，还是其它所有不同的一切。什么事进入中国，就像隔着毛玻璃播放AV，一边原声叫得人魂不守舍，一边现场配音听来却是字正腔圆的CCAV庄严朗诵体，玻璃外的你就不知该信谁。听多了，人自然就精神分裂，不开着七点档的节目，房事进行就会有困难。因此有人就认为，七点档节目的重要性，关系到种族繁衍，非常有必要加强再加强，统一再统一。北方还这么冷入骨髓，冰着冻落着雪，南方怎么能春暖开花天天度周末？都冻上呗，冬天必须是这个样子，我们的冬天有我们的标准，想暖和，等着都变成南方那么暖和再说。当然，环球报说，现在都像南方这样暖，那是绝对不可能的。\n",
      "\n",
      "　　据北京同学最直观的反映是，彩色的帝都，今天变成了灰白像片。再远一点，那是电视断了天线，屏幕都直播同一片灰色的雪。\n",
      "\n",
      "　　想想帝都的人怎么那样娇气，老舍笔下黄土之城到现在的灰白之城，除了奥运会那阵撤去过现场配音，让你见识到原声是怎么回事，你不一直生活在这样的城市之中？现在怎么就受不了了？环球报说得好，从前一直都这样，两三天你就受不了了，过去一直受得了，今天怎么就不行了？很让人怀疑你们都是被境外势力下了蛊，不能好好配合让帝都的PM2.5降下来？怎么能没有这么一点大局观呢，帝都啊！如此浪费你们的情绪与话语权。\n",
      "\n",
      "　　科洛迪在他的代表作中，写了一个说谎会长鼻子的木偶，所有听过这个故事的小孩都被警告说谎就会鼻子长长。我们现在就是那个天真的小孩，天真的相信，一切没有长长鼻子的人都是诚实的人，所以他们说的都必须真实。当有一天，我们发现他们没有长长鼻子依然说谎时，他们却告诉我们要配合他们的谎言。\n",
      "\n",
      "　　PM2.5或者PM250，正是我们需要集体配合的一个谎言。这谎言之前、现在、未来，都将是这样的：我们拥有越来越好的蓝天白云，越来越自由呼吸的空气！你除了歌颂，他除了庆祝，不需要再有其它任何事。 \n",
      "\n",
      "2013-01-13 17:37:27 ---> 43393067 ---> 唐伯虎瞎画画 ---> 沙发不让。 \n",
      "\n",
      "2013-01-13 17:53:49 ---> 24617650 ---> 手绘人生 ---> 唉，自己坐自己的沙发。。。 \n",
      "\n",
      "2013-01-13 17:57:43 ---> 3502507 ---> 沧海渔火 ---> 甲说：造谣滴，去年外交部就澄清了，只是米国零食馆空气有问题，那是米国的空气。　　乙说：中央气象台是汉奸机构，带路党，夸大数据，意图污蔑改开成果。　　丙说：境外敌对势力使用气象武器攻击我国。　　丁说：有木有特供空气噻。。。。。 \n",
      "\n",
      "2013-01-13 18:04:27 ---> 32979823 ---> 菜见愁99 ---> 说的啥 \n",
      "\n",
      "2013-01-13 18:06:20 ---> 41774471 ---> zgh0213 ---> 光呼吸就饱了，不用吃饭了 \n",
      "\n",
      "2013-01-13 18:29:42 ---> 22984881 ---> 两人嘿咻 ---> 就像隔着毛玻璃播放AV，一边原声叫得人魂不守舍，一边现场配音听来却是字正腔圆的CCAV庄严朗诵体，玻璃外的你就不知该信谁。听多了，人自然就精神分裂， \n",
      "\n",
      "2013-01-13 19:49:17 ---> 63038021 ---> 万事从容123 ---> 你只能歌颂，他必须庆祝 \n",
      "\n",
      "2013-01-13 20:40:02 ---> 43393067 ---> 唐伯虎瞎画画 ---> @菜见愁99 4楼 　　说的啥　　-----------------------------　　嘿嘿。 \n",
      "\n",
      "2013-01-13 21:10:42 ---> 36338155 ---> 周丕东 ---> 关注 \n",
      "\n"
     ]
    }
   ],
   "source": [
    "for i in pa[:10]:\n",
    "    p_info = i.find('a', class_ = 'reportme a-link')\n",
    "    p_time = p_info['replytime']\n",
    "    p_author_id = p_info['authorid']\n",
    "    p_author_name = p_info['author']\n",
    "    p_content = i.find('div', {'class', 'bbs-content'}).text.strip()\n",
    "    p_content = p_content.replace('\\t', '')\n",
    "    print p_time, '--->', p_author_id, '--->', p_author_name,'--->', p_content, '\\n'"
   ]
  },
  {
   "cell_type": "code",
   "execution_count": 312,
   "metadata": {
    "collapsed": true
   },
   "outputs": [],
   "source": [
    "import random\n",
    "import time\n",
    "\n",
    "def crawler(url, file_name):\n",
    "    try:\n",
    "        # open the browser\n",
    "        url_1 = 'http://bbs.tianya.cn' + url\n",
    "        content = urllib2.urlopen(url_1).read() #获取网页的html文本\n",
    "        post_soup = BeautifulSoup(content, \"lxml\") \n",
    "        # how many pages in a post\n",
    "        post_form = post_soup.find('div', {'class', 'atl-pages'})\n",
    "        if post_form.form:\n",
    "            post_pages = post_form.form['onsubmit'].split(',')[-1].split(')')[0]\n",
    "            post_pages = int(post_pages)\n",
    "            url_base = '-'.join(url_1.split('-')[:-1]) + '-%d.shtml'\n",
    "        else:\n",
    "            post_pages = 1\n",
    "        # for the first page\n",
    "        pa = post_soup.find_all('div', {'class', 'atl-item'})\n",
    "        records = parsePage(pa)\n",
    "        with open(file_name,'a') as p: # '''Note'''：Ａppend mode, run only once!\n",
    "            for record in records:    \n",
    "                p.write('1'+ '\\t' + url + '\\t' + record.encode('utf-8')+\"\\n\") \n",
    "        # for the 2nd+ pages\n",
    "        if post_pages > 1:\n",
    "            for page_num in range(2, post_pages+1):\n",
    "                time.sleep(random.random())\n",
    "                flushPrint(page_num)\n",
    "                url2 =url_base  % page_num\n",
    "                content = urllib2.urlopen(url2).read() #获取网页的html文本\n",
    "                post_soup = BeautifulSoup(content, \"lxml\") \n",
    "                pa = post_soup.find_all('div', {'class', 'atl-item'})\n",
    "                records = parsePage(pa)\n",
    "                with open(file_name,'a') as p: # '''Note'''：Ａppend mode, run only once!\n",
    "                    for record in records:    \n",
    "                        p.write(str(page_num) + '\\t' +url + '\\t' + record.encode('utf-8')+\"\\n\") \n",
    "        else:\n",
    "            pass\n",
    "    except Exception, e:\n",
    "        print e\n",
    "        pass"
   ]
  },
  {
   "cell_type": "code",
   "execution_count": 313,
   "metadata": {
    "collapsed": false
   },
   "outputs": [],
   "source": [
    "url =df.link[2]\n",
    "file_name = '/Users/dingjiayi/Desktop/data/tianya_test.txt'\n",
    "crawler(url, file_name)"
   ]
  },
  {
   "cell_type": "code",
   "execution_count": 314,
   "metadata": {
    "collapsed": false
   },
   "outputs": [
    {
     "name": "stdout",
     "output_type": "stream",
     "text": [
      "/post-free-5305449-1.shtmlThis it the post of : 0\n",
      "/post-free-5345549-1.shtml"
     ]
    }
   ],
   "source": [
    "for k, link in enumerate(df.link[:2]):\n",
    "    flushPrint(link)\n",
    "    if k % 10== 0:\n",
    "        print 'This it the post of : ' + str(k)\n",
    "    file_name = '/Users/dingjiayi/Desktop/data/tianya_formal.txt'\n",
    "    crawler(link, file_name)"
   ]
  },
  {
   "cell_type": "code",
   "execution_count": 315,
   "metadata": {
    "collapsed": false
   },
   "outputs": [
    {
     "name": "stdout",
     "output_type": "stream",
     "text": [
      "/post-free-5305449-1.shtmlThis it the post of : 0\n",
      "/post-free-3875481-1.shtmlThis it the post of : 10\n",
      "/post-free-3860451-1.shtmlThis it the post of : 20\n",
      "/post-free-3112758-1.shtmlThis it the post of : 30\n",
      "/post-free-5387736-1.shtmlThis it the post of : 40\n",
      "/post-free-5324797-1.shtmlThis it the post of : 50\n",
      "/post-free-3795822-1.shtmlThis it the post of : 60\n",
      "/post-free-3097704-1.shtmlThis it the post of : 70\n",
      "/post-free-3795781-1.shtmlThis it the post of : 80\n",
      "/post-free-4218178-1.shtmlThis it the post of : 90\n",
      "/post-free-4374440-1.shtmlThis it the post of : 100\n",
      "/post-free-4707899-1.shtmlThis it the post of : 110\n",
      "/post-free-2671894-1.shtmlThis it the post of : 120\n",
      "/post-free-5341013-1.shtmlThis it the post of : 130\n",
      "/post-free-5297605-1.shtmlThis it the post of : 140\n",
      "/post-free-4899887-1.shtml"
     ]
    }
   ],
   "source": [
    "for k, link in enumerate(df.link):\n",
    "    flushPrint(link)\n",
    "    if k % 10== 0:\n",
    "        print 'This it the post of : ' + str(k)\n",
    "    file_name = '/Users/dingjiayi/Desktop/data/tianya_formal_network.txt'\n",
    "    crawler(link, file_name)"
   ]
  },
  {
   "cell_type": "code",
   "execution_count": 316,
   "metadata": {
    "collapsed": false
   },
   "outputs": [
    {
     "data": {
      "text/plain": [
       "2669"
      ]
     },
     "execution_count": 316,
     "metadata": {},
     "output_type": "execute_result"
    }
   ],
   "source": [
    "dtt = []\n",
    "with open('/Users/dingjiayi/Desktop/data/tianya_formal_network.txt', 'r') as f:\n",
    "    for line in f:\n",
    "        pnum, link, time, author_id, author, content = line.replace('\\n', '').split('\\t')\n",
    "        dtt.append([pnum, link, time, author_id, author, content])\n",
    "len(dtt)"
   ]
  },
  {
   "cell_type": "code",
   "execution_count": 317,
   "metadata": {
    "collapsed": false
   },
   "outputs": [
    {
     "data": {
      "text/html": [
       "<div>\n",
       "<table border=\"1\" class=\"dataframe\">\n",
       "  <thead>\n",
       "    <tr style=\"text-align: right;\">\n",
       "      <th></th>\n",
       "      <th>0</th>\n",
       "      <th>1</th>\n",
       "      <th>2</th>\n",
       "      <th>3</th>\n",
       "      <th>4</th>\n",
       "      <th>5</th>\n",
       "    </tr>\n",
       "  </thead>\n",
       "  <tbody>\n",
       "    <tr>\n",
       "      <th>0</th>\n",
       "      <td>1</td>\n",
       "      <td>/post-free-5305449-1.shtml</td>\n",
       "      <td>2015-11-09 14:17:00</td>\n",
       "      <td>105514428</td>\n",
       "      <td>静静的莲花</td>\n",
       "      <td>供暖季开始一周后，东　　北多地迎来持续的六级严重污染天气。11月8日，沈阳PM2.5浓度爆表...</td>\n",
       "    </tr>\n",
       "    <tr>\n",
       "      <th>1</th>\n",
       "      <td>1</td>\n",
       "      <td>/post-free-5305449-1.shtml</td>\n",
       "      <td>2015-11-09 14:18:09</td>\n",
       "      <td>105514428</td>\n",
       "      <td>静静的莲花</td>\n",
       "      <td></td>\n",
       "    </tr>\n",
       "    <tr>\n",
       "      <th>2</th>\n",
       "      <td>1</td>\n",
       "      <td>/post-free-5305449-1.shtml</td>\n",
       "      <td>2015-11-09 14:21:26</td>\n",
       "      <td>105514428</td>\n",
       "      <td>静静的莲花</td>\n",
       "      <td>加强空气治理，保证人民身体健康！</td>\n",
       "    </tr>\n",
       "    <tr>\n",
       "      <th>3</th>\n",
       "      <td>1</td>\n",
       "      <td>/post-free-5305449-1.shtml</td>\n",
       "      <td>2015-11-09 14:25:29</td>\n",
       "      <td>105514428</td>\n",
       "      <td>静静的莲花</td>\n",
       "      <td>@静静的莲花  1楼  2015-11-09 14:18:00　　　　———————————...</td>\n",
       "    </tr>\n",
       "    <tr>\n",
       "      <th>4</th>\n",
       "      <td>1</td>\n",
       "      <td>/post-free-5305449-1.shtml</td>\n",
       "      <td>2015-11-09 15:07:00</td>\n",
       "      <td>70416291</td>\n",
       "      <td>老婆叫我来巡山</td>\n",
       "      <td>要PM2.5 还是要供暖？哎</td>\n",
       "    </tr>\n",
       "    <tr>\n",
       "      <th>5</th>\n",
       "      <td>1</td>\n",
       "      <td>/post-free-5305449-1.shtml</td>\n",
       "      <td>2015-11-09 15:24:58</td>\n",
       "      <td>84439330</td>\n",
       "      <td>临安小股民</td>\n",
       "      <td>好吓人 。。。。。。</td>\n",
       "    </tr>\n",
       "    <tr>\n",
       "      <th>6</th>\n",
       "      <td>1</td>\n",
       "      <td>/post-free-5305449-1.shtml</td>\n",
       "      <td>2015-11-09 15:27:42</td>\n",
       "      <td>103878836</td>\n",
       "      <td>icewindx2015</td>\n",
       "      <td>饺子王很亮。。</td>\n",
       "    </tr>\n",
       "    <tr>\n",
       "      <th>7</th>\n",
       "      <td>1</td>\n",
       "      <td>/post-free-5305449-1.shtml</td>\n",
       "      <td>2015-11-09 15:28:43</td>\n",
       "      <td>50486279</td>\n",
       "      <td>草苞</td>\n",
       "      <td>吓人啊！吓人哪!</td>\n",
       "    </tr>\n",
       "    <tr>\n",
       "      <th>8</th>\n",
       "      <td>1</td>\n",
       "      <td>/post-free-5305449-1.shtml</td>\n",
       "      <td>2015-11-09 15:28:59</td>\n",
       "      <td>74063507</td>\n",
       "      <td>jqg00</td>\n",
       "      <td>印象中的东北不是山清水秀的吗，怎么也污染这么严重</td>\n",
       "    </tr>\n",
       "    <tr>\n",
       "      <th>9</th>\n",
       "      <td>1</td>\n",
       "      <td>/post-free-5305449-1.shtml</td>\n",
       "      <td>2015-11-09 15:33:23</td>\n",
       "      <td>46543352</td>\n",
       "      <td>小白兔vs小灰兔</td>\n",
       "      <td>好可怕</td>\n",
       "    </tr>\n",
       "  </tbody>\n",
       "</table>\n",
       "</div>"
      ],
      "text/plain": [
       "   0                           1                    2          3  \\\n",
       "0  1  /post-free-5305449-1.shtml  2015-11-09 14:17:00  105514428   \n",
       "1  1  /post-free-5305449-1.shtml  2015-11-09 14:18:09  105514428   \n",
       "2  1  /post-free-5305449-1.shtml  2015-11-09 14:21:26  105514428   \n",
       "3  1  /post-free-5305449-1.shtml  2015-11-09 14:25:29  105514428   \n",
       "4  1  /post-free-5305449-1.shtml  2015-11-09 15:07:00   70416291   \n",
       "5  1  /post-free-5305449-1.shtml  2015-11-09 15:24:58   84439330   \n",
       "6  1  /post-free-5305449-1.shtml  2015-11-09 15:27:42  103878836   \n",
       "7  1  /post-free-5305449-1.shtml  2015-11-09 15:28:43   50486279   \n",
       "8  1  /post-free-5305449-1.shtml  2015-11-09 15:28:59   74063507   \n",
       "9  1  /post-free-5305449-1.shtml  2015-11-09 15:33:23   46543352   \n",
       "\n",
       "              4                                                  5  \n",
       "0         静静的莲花  供暖季开始一周后，东　　北多地迎来持续的六级严重污染天气。11月8日，沈阳PM2.5浓度爆表...  \n",
       "1         静静的莲花                                                     \n",
       "2         静静的莲花                                   加强空气治理，保证人民身体健康！  \n",
       "3         静静的莲花  @静静的莲花  1楼  2015-11-09 14:18:00　　　　———————————...  \n",
       "4       老婆叫我来巡山                                     要PM2.5 还是要供暖？哎  \n",
       "5         临安小股民                                         好吓人 。。。。。。  \n",
       "6  icewindx2015                                            饺子王很亮。。  \n",
       "7            草苞                                           吓人啊！吓人哪!  \n",
       "8         jqg00                           印象中的东北不是山清水秀的吗，怎么也污染这么严重  \n",
       "9      小白兔vs小灰兔                                                好可怕  "
      ]
     },
     "execution_count": 317,
     "metadata": {},
     "output_type": "execute_result"
    }
   ],
   "source": [
    "dt = pd.DataFrame(dtt)\n",
    "dt[:10]"
   ]
  },
  {
   "cell_type": "code",
   "execution_count": 318,
   "metadata": {
    "collapsed": false
   },
   "outputs": [
    {
     "data": {
      "text/html": [
       "<div>\n",
       "<table border=\"1\" class=\"dataframe\">\n",
       "  <thead>\n",
       "    <tr style=\"text-align: right;\">\n",
       "      <th></th>\n",
       "      <th>page_num</th>\n",
       "      <th>link</th>\n",
       "      <th>time</th>\n",
       "      <th>author</th>\n",
       "      <th>author_name</th>\n",
       "      <th>reply</th>\n",
       "    </tr>\n",
       "  </thead>\n",
       "  <tbody>\n",
       "    <tr>\n",
       "      <th>0</th>\n",
       "      <td>1</td>\n",
       "      <td>/post-free-5305449-1.shtml</td>\n",
       "      <td>2015-11-09 14:17:00</td>\n",
       "      <td>105514428</td>\n",
       "      <td>静静的莲花</td>\n",
       "      <td>供暖季开始一周后，东　　北多地迎来持续的六级严重污染天气。11月8日，沈阳PM2.5浓度爆表...</td>\n",
       "    </tr>\n",
       "    <tr>\n",
       "      <th>1</th>\n",
       "      <td>1</td>\n",
       "      <td>/post-free-5305449-1.shtml</td>\n",
       "      <td>2015-11-09 14:18:09</td>\n",
       "      <td>105514428</td>\n",
       "      <td>静静的莲花</td>\n",
       "      <td></td>\n",
       "    </tr>\n",
       "    <tr>\n",
       "      <th>2</th>\n",
       "      <td>1</td>\n",
       "      <td>/post-free-5305449-1.shtml</td>\n",
       "      <td>2015-11-09 14:21:26</td>\n",
       "      <td>105514428</td>\n",
       "      <td>静静的莲花</td>\n",
       "      <td>加强空气治理，保证人民身体健康！</td>\n",
       "    </tr>\n",
       "  </tbody>\n",
       "</table>\n",
       "</div>"
      ],
      "text/plain": [
       "  page_num                        link                 time     author  \\\n",
       "0        1  /post-free-5305449-1.shtml  2015-11-09 14:17:00  105514428   \n",
       "1        1  /post-free-5305449-1.shtml  2015-11-09 14:18:09  105514428   \n",
       "2        1  /post-free-5305449-1.shtml  2015-11-09 14:21:26  105514428   \n",
       "\n",
       "  author_name                                              reply  \n",
       "0       静静的莲花  供暖季开始一周后，东　　北多地迎来持续的六级严重污染天气。11月8日，沈阳PM2.5浓度爆表...  \n",
       "1       静静的莲花                                                     \n",
       "2       静静的莲花                                   加强空气治理，保证人民身体健康！  "
      ]
     },
     "execution_count": 318,
     "metadata": {},
     "output_type": "execute_result"
    }
   ],
   "source": [
    "dt=dt.rename(columns = {0:'page_num', 1:'link', 2:'time', 3:'author',4:'author_name', 5:'reply'})\n",
    "dt[:3]"
   ]
  },
  {
   "cell_type": "code",
   "execution_count": 319,
   "metadata": {
    "collapsed": false
   },
   "outputs": [
    {
     "data": {
      "text/plain": [
       "0     供暖季开始一周后，东　　北多地迎来持续的六级严重污染天气。11月8日，沈阳PM2.5浓度爆表...\n",
       "1                                                      \n",
       "2                                      加强空气治理，保证人民身体健康！\n",
       "3     @静静的莲花  1楼  2015-11-09 14:18:00　　　　———————————...\n",
       "4                                        要PM2.5 还是要供暖？哎\n",
       "5                                            好吓人 。。。。。。\n",
       "6                                               饺子王很亮。。\n",
       "7                                              吓人啊！吓人哪!\n",
       "8                              印象中的东北不是山清水秀的吗，怎么也污染这么严重\n",
       "9                                                   好可怕\n",
       "10                                           东北饺子王！好犀利！\n",
       "11    @老婆叫我来巡山 2015-11-09 15:07:00　　要PM2.5 还是要供暖？哎　　...\n",
       "12                               说真的，东北太冷不适合居住，还是南方好。。。\n",
       "13               天空飘来五个字，　　人间仙境死的快。　　莫言雾霾己爆表，　　东北人民嗨起来。\n",
       "14                                              烧秸秆造成的？\n",
       "15                                            大神都不装分析帝了\n",
       "16    @老婆叫我来巡山    2015-11-09 15:07:00　　要PM2.5 还是要供暖？...\n",
       "17    @又混了一天 2015-11-09 15:55:32　　烧秸秆造成的？　　---------...\n",
       "18    @老婆叫我来巡山    2015-11-09 15:07:00　　要PM2.5 还是要供暖？...\n",
       "19                          看过这张图好多次，一直以为那个东方饺子王是p上去的水印\n",
       "20                                 正在长春的我表示已对雾霾这种东西看淡……\n",
       "21    @老婆叫我来巡山    2015-11-09 15:07:00　　要PM2.5 还是要供暖？...\n",
       "22                                             末日的感觉。。。\n",
       "23                    可能是烧火煮饭的人太多了！！~~~~　　应该制止做饭，大家吃点生冷\n",
       "24                                             肯定是你们烧秸秆\n",
       "25    真的没办法！中国整个大环境都这样，污染严重！要是哪天看见蓝天白云了，我第一个想法就是北京要开...\n",
       "26    @静静的莲花 1楼 2015-11-09 14:18　　哈尔滨人民发来贺电，同样的天，请问政...\n",
       "27    佛山海事局公务员工资福利待遇，说假话死全家　　本人最底层科员一名，在海事局工作四年多2014...\n",
       "28    不关政府的事，不关共产党的事。我们的政府忙着呢，我们的共产党忙着呢，正在全心全意为人民服务着...\n",
       "29                                     空气净化器在北方是不是特别好卖？\n",
       "                            ...                        \n",
       "70    @新昌仁慧1 16楼 2015-11-09 16:03　　@老婆叫我来巡山    2015-...\n",
       "71                      有狗日的砖家说是供暖造成的，尼玛怎么不说自行车??？？？？草！\n",
       "72    @又混了一天 2015-11-09 15:55:32　　烧秸秆造成的？　　---------...\n",
       "73    @ddmm333  70楼  2015-11-09 22:50:00　　@暴走小熊猫2015...\n",
       "74    @猎火者小说 66楼 2015-11-09 22:17　　向大家推荐一部消防题材的小说《猎火...\n",
       "75                知道为什么这么多外汇了吧，知道为什么比国外产的有竟争力吧，外部不经济造成的\n",
       "76                                       先把市区内的热电厂搬出去再说\n",
       "77    @穷矮矬纯屌丝  12楼  2015-11-09 15:41:00　　说真的，东北太冷不适合...\n",
       "78    @lichao200304  28楼  2015-11-09 17:01:00　　佛山海事局...\n",
       "79                                     还是东北乡下好，蓝天白云热炕头。\n",
       "80                                           以后得肺癌的人会很多\n",
       "81    @每天上班不休息  50楼  2015-11-09 19:46:00　　@静静的莲花 41楼...\n",
       "82                               市区人取暖的热电厂往哪搬，搬到深山老林去吧。\n",
       "83    @北方在北方的北方 2015-11-09 15:54:56　　天空飘来五个字，　　人间仙境死...\n",
       "84    @u_97947880  67楼  2015-11-09 22:29:00　　@北十字 20...\n",
       "85                                          主要还是私家车尾气排放\n",
       "86                                         快来大深圳，天天蓝天白云\n",
       "87    跟供暖有关系，现在大城市规模都扩大了，锅炉多了，小城市的污染相对要好很多。　　现在大电厂的脱...\n",
       "88                               问问沈阳市委书记市长在哪里？是否呼吸脏空气。\n",
       "89                    小火电都关了集中供暖怎么可能比原来污染还严重，供暖也不是这几年的事\n",
       "90    @waywaynoway 2015-11-09 18:27:30　　不怕美帝卫星偷窥了　　-...\n",
       "91    @marx的预言 2015-11-09 17:13:54　　不关政府的事，不关共产党的事。我...\n",
       "92    @waywaynoway    2015-11-09 18:27:30　　不怕美帝卫星偷窥了...\n",
       "93    @北十字 19楼 2015-11-09 16:07　　@老婆叫我来巡山    2015-11...\n",
       "94                                             雾茫茫如入仙景。\n",
       "95    人的生命依赖空气/水/食物而维持。俗话说，活着的人比死的人，差的就是那一口气，但如果你每呼吸...\n",
       "96                                                   哎！\n",
       "97    日前英國國家廣播公司(BBC)亦曾報導，美國科學家發表的一項研究報告顯示，中國的空氣污染平均...\n",
       "98                                  台湾人也享受到了中国特色社会主义雾霾？\n",
       "99                                                     \n",
       "Name: reply, dtype: object"
      ]
     },
     "execution_count": 319,
     "metadata": {},
     "output_type": "execute_result"
    }
   ],
   "source": [
    "dt.reply[:100]"
   ]
  },
  {
   "cell_type": "code",
   "execution_count": null,
   "metadata": {
    "collapsed": false
   },
   "outputs": [],
   "source": []
  },
  {
   "cell_type": "code",
   "execution_count": null,
   "metadata": {
    "collapsed": true
   },
   "outputs": [],
   "source": []
  }
 ],
 "metadata": {
  "kernelspec": {
   "display_name": "Python 2",
   "language": "python",
   "name": "python2"
  },
  "language_info": {
   "codemirror_mode": {
    "name": "ipython",
    "version": 2
   },
   "file_extension": ".py",
   "mimetype": "text/x-python",
   "name": "python",
   "nbconvert_exporter": "python",
   "pygments_lexer": "ipython2",
   "version": "2.7.11"
  }
 },
 "nbformat": 4,
 "nbformat_minor": 0
}
