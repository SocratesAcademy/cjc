{
 "cells": [
  {
   "cell_type": "markdown",
   "metadata": {},
   "source": [
    "##  徐灿 15210130091\n",
    "# 第二次作业"
   ]
  },
  {
   "cell_type": "markdown",
   "metadata": {
    "collapsed": true
   },
   "source": [
    "# 抓取47年政府工作报告"
   ]
  },
  {
   "cell_type": "code",
   "execution_count": 56,
   "metadata": {
    "collapsed": true
   },
   "outputs": [],
   "source": [
    "import urllib2\n",
    "from bs4 import BeautifulSoup"
   ]
  },
  {
   "cell_type": "code",
   "execution_count": 57,
   "metadata": {
    "collapsed": false,
    "scrolled": true
   },
   "outputs": [
    {
     "data": {
      "text/html": [
       "<iframe src=http://www.hprc.org.cn/wxzl/wxysl/lczf/ width=1000 height=500></iframe>"
      ],
      "text/plain": [
       "<IPython.core.display.HTML object>"
      ]
     },
     "execution_count": 57,
     "metadata": {},
     "output_type": "execute_result"
    }
   ],
   "source": [
    "from IPython.display import display_html, HTML\n",
    "HTML('<iframe src=http://www.hprc.org.cn/wxzl/wxysl/lczf/ width=1000 height=500></iframe>')"
   ]
  },
  {
   "cell_type": "code",
   "execution_count": 68,
   "metadata": {
    "collapsed": false
   },
   "outputs": [],
   "source": [
    "# get the link for each year\n",
    "url = \"http://www.hprc.org.cn/wxzl/wxysl/lczf/\" \n",
    "content = urllib2.urlopen(url).read().decode('gb18030') \n",
    "soup = BeautifulSoup(content, 'html.parser') \n",
    "links = soup.find_all('td', {'class', 'bl'})   "
   ]
  },
  {
   "cell_type": "code",
   "execution_count": 70,
   "metadata": {
    "collapsed": false
   },
   "outputs": [
    {
     "name": "stdout",
     "output_type": "stream",
     "text": [
      "47\n"
     ]
    }
   ],
   "source": [
    "links = soup.find_all('td', class_='bl') \n",
    "print len(links)"
   ]
  },
  {
   "cell_type": "code",
   "execution_count": 71,
   "metadata": {
    "collapsed": false
   },
   "outputs": [
    {
     "name": "stdout",
     "output_type": "stream",
     "text": [
      "<td class=\"bl\" width=\"274\">· <a href=\"./d12qgrdzfbg/201603/t20160318_369509.html\" target=\"_blank\" title=\"2016年政府工作报告\">2016年政府工作报告</a></td>\n"
     ]
    }
   ],
   "source": [
    "print links[0]"
   ]
  },
  {
   "cell_type": "code",
   "execution_count": 72,
   "metadata": {
    "collapsed": false
   },
   "outputs": [
    {
     "name": "stdout",
     "output_type": "stream",
     "text": [
      "<a href=\"./d12qgrdzfbg/201603/t20160318_369509.html\" target=\"_blank\" title=\"2016年政府工作报告\">2016年政府工作报告</a>\n"
     ]
    }
   ],
   "source": [
    "print links[0].a"
   ]
  },
  {
   "cell_type": "code",
   "execution_count": 73,
   "metadata": {
    "collapsed": false,
    "scrolled": true
   },
   "outputs": [
    {
     "name": "stdout",
     "output_type": "stream",
     "text": [
      "2016年政府工作报告\n"
     ]
    }
   ],
   "source": [
    "print links[0].a['title']"
   ]
  },
  {
   "cell_type": "code",
   "execution_count": 74,
   "metadata": {
    "collapsed": false
   },
   "outputs": [
    {
     "name": "stdout",
     "output_type": "stream",
     "text": [
      "./d12qgrdzfbg/201603/t20160318_369509.html\n"
     ]
    }
   ],
   "source": [
    "print links[0].a['href']"
   ]
  },
  {
   "cell_type": "code",
   "execution_count": 78,
   "metadata": {
    "collapsed": false
   },
   "outputs": [
    {
     "name": "stdout",
     "output_type": "stream",
     "text": [
      "[u'', u'd12qgrdzfbg/201603/t20160318_369509.html']\n"
     ]
    }
   ],
   "source": [
    "print links[0].a['href'].split('./')"
   ]
  },
  {
   "cell_type": "code",
   "execution_count": 79,
   "metadata": {
    "collapsed": false
   },
   "outputs": [
    {
     "name": "stdout",
     "output_type": "stream",
     "text": [
      "d12qgrdzfbg/201603/t20160318_369509.html\n"
     ]
    }
   ],
   "source": [
    "print links[0].a['href'].split('./')[1]"
   ]
  },
  {
   "cell_type": "code",
   "execution_count": 80,
   "metadata": {
    "collapsed": false
   },
   "outputs": [
    {
     "name": "stdout",
     "output_type": "stream",
     "text": [
      "http://www.hprc.org.cn/wxzl/wxysl/lczf/d12qgrdzfbg/201603/t20160318_369509.html\n"
     ]
    }
   ],
   "source": [
    "print url + links[0].a['href'].split('./')[1]"
   ]
  },
  {
   "cell_type": "code",
   "execution_count": 81,
   "metadata": {
    "collapsed": true
   },
   "outputs": [],
   "source": [
    "hyperlinks = [url + i.a['href'].split('./')[1] for i in links]"
   ]
  },
  {
   "cell_type": "code",
   "execution_count": 82,
   "metadata": {
    "collapsed": false
   },
   "outputs": [
    {
     "data": {
      "text/plain": [
       "[u'http://www.hprc.org.cn/wxzl/wxysl/lczf/d12qgrdzfbg/201603/t20160318_369509.html',\n",
       " u'http://www.hprc.org.cn/wxzl/wxysl/lczf/d12qgrdzfbg/201503/t20150318_319434.html',\n",
       " u'http://www.hprc.org.cn/wxzl/wxysl/lczf/d12qgrdzfbg/201403/t20140315_270863.html',\n",
       " u'http://www.hprc.org.cn/wxzl/wxysl/lczf/d12qgrdzfbg/201402/t20140214_266528.html',\n",
       " u'http://www.hprc.org.cn/wxzl/wxysl/lczf/dishiyijie/201402/t20140214_266527.html',\n",
       " u'http://www.hprc.org.cn/wxzl/wxysl/lczf/dishiyijie/201103/t20110315_153641.html',\n",
       " u'http://www.hprc.org.cn/wxzl/wxysl/lczf/dishiyijie/201003/t20100315_44772.html',\n",
       " u'http://www.hprc.org.cn/wxzl/wxysl/lczf/dishiyijie/200908/t20090817_27504.html',\n",
       " u'http://www.hprc.org.cn/wxzl/wxysl/lczf/dishiyijie/200908/t20090817_27495.html',\n",
       " u'http://www.hprc.org.cn/wxzl/wxysl/lczf/dishiyijie_1/200908/t20090818_27775.html',\n",
       " u'http://www.hprc.org.cn/wxzl/wxysl/lczf/dishiyijie_1/200908/t20090818_27765.html',\n",
       " u'http://www.hprc.org.cn/wxzl/wxysl/lczf/dishiyijie_1/200908/t20090818_27757.html',\n",
       " u'http://www.hprc.org.cn/wxzl/wxysl/lczf/dishiyijie_1/200908/t20090818_27756.html',\n",
       " u'http://www.hprc.org.cn/wxzl/wxysl/lczf/dishiyijie_1/200908/t20090818_27753.html',\n",
       " u'http://www.hprc.org.cn/wxzl/wxysl/lczf/dishiyijie_2/200908/t20090818_27744.html',\n",
       " u'http://www.hprc.org.cn/wxzl/wxysl/lczf/dishiyijie_2/200908/t20090818_27741.html',\n",
       " u'http://www.hprc.org.cn/wxzl/wxysl/lczf/dishiyijie_2/200908/t20090818_27738.html',\n",
       " u'http://www.hprc.org.cn/wxzl/wxysl/lczf/dishiyijie_2/200908/t20090818_27737.html',\n",
       " u'http://www.hprc.org.cn/wxzl/wxysl/lczf/dishiyijie_2/200908/t20090818_27736.html',\n",
       " u'http://www.hprc.org.cn/wxzl/wxysl/lczf/dishiyijie_3/200908/t20090818_27709.html',\n",
       " u'http://www.hprc.org.cn/wxzl/wxysl/lczf/dishiyijie_3/200908/t20090818_27708.html',\n",
       " u'http://www.hprc.org.cn/wxzl/wxysl/lczf/dishiyijie_3/200908/t20090818_27707.html',\n",
       " u'http://www.hprc.org.cn/wxzl/wxysl/lczf/dishiyijie_3/200908/t20090818_27706.html',\n",
       " u'http://www.hprc.org.cn/wxzl/wxysl/lczf/dishiyijie_3/200908/t20090818_27705.html',\n",
       " u'http://www.hprc.org.cn/wxzl/wxysl/lczf/dishiyijie_4/200908/t20090818_27702.html',\n",
       " u'http://www.hprc.org.cn/wxzl/wxysl/lczf/dishiyijie_4/200908/t20090818_27700.html',\n",
       " u'http://www.hprc.org.cn/wxzl/wxysl/lczf/dishiyijie_4/200908/t20090818_27699.html',\n",
       " u'http://www.hprc.org.cn/wxzl/wxysl/lczf/dishiyijie_4/200908/t20090818_27678.html',\n",
       " u'http://www.hprc.org.cn/wxzl/wxysl/lczf/dishiyijie_4/200908/t20090818_27644.html',\n",
       " u'http://www.hprc.org.cn/wxzl/wxysl/lczf/dishiyijie_5/200908/t20090818_27642.html',\n",
       " u'http://www.hprc.org.cn/wxzl/wxysl/lczf/dishiyijie_5/200908/t20090818_27640.html',\n",
       " u'http://www.hprc.org.cn/wxzl/wxysl/lczf/dishiyijie_5/200908/t20090818_27616.html',\n",
       " u'http://www.hprc.org.cn/wxzl/wxysl/lczf/dishiyijie_5/200908/t20090818_27615.html',\n",
       " u'http://www.hprc.org.cn/wxzl/wxysl/lczf/dishiyijie_5/200908/t20090818_27614.html',\n",
       " u'http://www.hprc.org.cn/wxzl/wxysl/lczf/dishiyijie_6/200908/t20090818_27613.html',\n",
       " u'http://www.hprc.org.cn/wxzl/wxysl/lczf/dishiyijie_6/200908/t20090818_27612.html',\n",
       " u'http://www.hprc.org.cn/wxzl/wxysl/lczf/dishiyijie_6/200908/t20090818_27611.html',\n",
       " u'http://www.hprc.org.cn/wxzl/wxysl/lczf/dishiyijie_6/200908/t20090818_27567.html',\n",
       " u'http://www.hprc.org.cn/wxzl/wxysl/lczf/dishiyijie_6/200908/t20090818_27566.html',\n",
       " u'http://www.hprc.org.cn/wxzl/wxysl/lczf/dishiyijie_7/200908/t20090818_27565.html',\n",
       " u'http://www.hprc.org.cn/wxzl/wxysl/lczf/dishiyijie_8/200908/t20090818_27564.html',\n",
       " u'http://www.hprc.org.cn/wxzl/wxysl/lczf/dishiyijie_9/200908/t20090818_27562.html',\n",
       " u'http://www.hprc.org.cn/wxzl/wxysl/lczf/dishiyijie_9/200908/t20090818_27563.html',\n",
       " u'http://www.hprc.org.cn/wxzl/wxysl/lczf/dishiyijie_10/200908/t20090818_27561.html',\n",
       " u'http://www.hprc.org.cn/wxzl/wxysl/lczf/dishiyijie_10/200908/t20090818_27560.html',\n",
       " u'http://www.hprc.org.cn/wxzl/wxysl/lczf/dishiyijie_10/200908/t20090818_27559.html',\n",
       " u'http://www.hprc.org.cn/wxzl/wxysl/lczf/dishiyijie_10/200908/t20090818_27558.html']"
      ]
     },
     "execution_count": 82,
     "metadata": {},
     "output_type": "execute_result"
    }
   ],
   "source": [
    "hyperlinks"
   ]
  },
  {
   "cell_type": "code",
   "execution_count": 84,
   "metadata": {
    "collapsed": false
   },
   "outputs": [
    {
     "data": {
      "text/plain": [
       "u'http://www.hprc.org.cn/wxzl/wxysl/lczf/dishiyijie_1/200908/t20090818_27775.html'"
      ]
     },
     "execution_count": 84,
     "metadata": {},
     "output_type": "execute_result"
    }
   ],
   "source": [
    "hyperlinks[9]"
   ]
  },
  {
   "cell_type": "code",
   "execution_count": 85,
   "metadata": {
    "collapsed": false
   },
   "outputs": [
    {
     "data": {
      "text/html": [
       "<iframe src=http://www.hprc.org.cn/wxzl/wxysl/lczf/dishiyijie_1/200908/t20090818_27775.html width=1000 height=500></iframe>"
      ],
      "text/plain": [
       "<IPython.core.display.HTML object>"
      ]
     },
     "execution_count": 85,
     "metadata": {},
     "output_type": "execute_result"
    }
   ],
   "source": [
    "from IPython.display import display_html, HTML\n",
    "HTML('<iframe src=http://www.hprc.org.cn/wxzl/wxysl/lczf/dishiyijie_1/200908/t20090818_27775.html \\\n",
    "width=1000 height=500></iframe>')\n",
    "# 2007年有分页"
   ]
  },
  {
   "cell_type": "code",
   "execution_count": 86,
   "metadata": {
    "collapsed": true
   },
   "outputs": [],
   "source": [
    "url_i = 'http://www.hprc.org.cn/wxzl/wxysl/lczf/dishiyijie_1/200908/t20090818_27775.html'\n",
    "content = urllib2.urlopen(url_i).read().decode('gb18030')  \n",
    "soup = BeautifulSoup(content, 'html.parser') \n",
    "#scripts = soup.find_all('script')\n",
    "#scripts[0]\n",
    "\n",
    "scripts = soup.select('td script')[0]"
   ]
  },
  {
   "cell_type": "code",
   "execution_count": 87,
   "metadata": {
    "collapsed": false
   },
   "outputs": [
    {
     "data": {
      "text/plain": [
       "<script>\\n\\tvar currentPage = 0;//\\u6240\\u5728\\u9875\\u4ece0\\u5f00\\u59cb\\n\\tvar prevPage = currentPage-1//\\u4e0a\\u4e00\\u9875\\n\\tvar \\u4e0b\\u4e00\\u9875Page = currentPage+1//\\u4e0b\\u4e00\\u9875\\n\\tvar countPage = 4//\\u5171\\u591a\\u5c11\\u9875\\n\\t//document.write(\"\\u5171\"+countPage+\"\\u9875&nbsp;&nbsp;\");\\n\\t\\n\\t//\\u5faa\\u73af\\n\\tvar num = 17;\\n\\tfor(var i=0+(currentPage-1-(currentPage-1)%num) ; i<=(num+(currentPage-1-(currentPage-1)%num))&&(i<countPage) ; i++){\\n\\t\\tif(countPage >1){\\n\\t\\t\\tif(currentPage==i)\\n\\t\\t\\t\\tdocument.write(\"\\u3010<span style=\\\\\"color:#FF0000;\\\\\" class=\\\\\"hui14_30_h\\\\\">\"+(i+1)+\"</span>\\u3011&nbsp;\");\\n\\t\\t\\telse if(i==0)\\n\\t\\t\\t\\tdocument.write(\"<a href=\\\\\"t20090818_27775.html\\\\\" class=\\\\\"hui14_30_h\\\\\">\\u3010\"+(i+1)+\"\\u3011</a>&nbsp;\");\\n\\t\\t\\telse\\n\\t\\t\\t\\tdocument.write(\"<a href=\\\\\"t20090818_27775\"+\"_\" + i + \".\"+\"html\\\\\" class=\\\\\"hui14_30_h\\\\\">\\u3010\"+(i+1)+\"\\u3011</a>&nbsp;\");\\n\\t\\t}\\t\\n\\t}\\n\\t\\n\\tdocument.write(\"<br><br>\");\\n\\t//\\u8bbe\\u7f6e\\u4e0a\\u4e00\\u9875\\u4ee3\\u7801\\n\\tif(countPage>1&&currentPage!=0&&currentPage!=1)\\n\\t\\tdocument.write(\"<a href=\\\\\"t20090818_27775\"+\"_\" + prevPage + \".\"+\"html\\\\\"><span style=\\\\\"color:#0033FF;font-weight:bold\\\\\">\\u4e0a\\u4e00\\u9875</span></a>&nbsp;\");\\n\\telse if(countPage>1&&currentPage!=0&&currentPage==1)\\n\\t\\tdocument.write(\"<a href=\\\\\"t20090818_27775.html\\\\\"><span style=\\\\\"color:#0033FF;font-weight:bold\\\\\">\\u4e0a\\u4e00\\u9875</span></a>&nbsp;\");\\n\\t//else\\n\\t//\\tdocument.write(\"\\u4e0a\\u4e00\\u9875 &nbsp;\");\\n\\t\\n\\t\\n\\t//\\u8bbe\\u7f6e\\u4e0b\\u4e00\\u9875\\u4ee3\\u7801 \\n\\tif(countPage>1&&currentPage!=(countPage-1))\\n\\t\\tdocument.write(\"<a href=\\\\\"t20090818_27775\"+\"_\" + \\u4e0b\\u4e00\\u9875Page + \".\"+\"html\\\\\" ><span style=\\\\\"color:#0033FF;font-weight:bold\\\\\">\\u4e0b\\u4e00\\u9875</span></a> &nbsp;\");\\n\\t//else\\n\\t//\\tdocument.write(\"\\u4e0b\\u4e00\\u9875 &nbsp;\");\\n\\t\\t\\t\\t\\t \\n\\t</script>"
      ]
     },
     "execution_count": 87,
     "metadata": {},
     "output_type": "execute_result"
    }
   ],
   "source": [
    "scripts"
   ]
  },
  {
   "cell_type": "code",
   "execution_count": 88,
   "metadata": {
    "collapsed": false
   },
   "outputs": [
    {
     "name": "stdout",
     "output_type": "stream",
     "text": [
      "\n",
      "\tvar currentPage = 0;//所在页从0开始\n",
      "\tvar prevPage = currentPage-1//上一页\n",
      "\tvar 下一页Page = currentPage+1//下一页\n",
      "\tvar countPage = 4//共多少页\n",
      "\t//document.write(\"共\"+countPage+\"页&nbsp;&nbsp;\");\n",
      "\t\n",
      "\t//循环\n",
      "\tvar num = 17;\n",
      "\tfor(var i=0+(currentPage-1-(currentPage-1)%num) ; i<=(num+(currentPage-1-(currentPage-1)%num))&&(i<countPage) ; i++){\n",
      "\t\tif(countPage >1){\n",
      "\t\t\tif(currentPage==i)\n",
      "\t\t\t\tdocument.write(\"【<span style=\\\"color:#FF0000;\\\" class=\\\"hui14_30_h\\\">\"+(i+1)+\"</span>】&nbsp;\");\n",
      "\t\t\telse if(i==0)\n",
      "\t\t\t\tdocument.write(\"<a href=\\\"t20090818_27775.html\\\" class=\\\"hui14_30_h\\\">【\"+(i+1)+\"】</a>&nbsp;\");\n",
      "\t\t\telse\n",
      "\t\t\t\tdocument.write(\"<a href=\\\"t20090818_27775\"+\"_\" + i + \".\"+\"html\\\" class=\\\"hui14_30_h\\\">【\"+(i+1)+\"】</a>&nbsp;\");\n",
      "\t\t}\t\n",
      "\t}\n",
      "\t\n",
      "\tdocument.write(\"<br><br>\");\n",
      "\t//设置上一页代码\n",
      "\tif(countPage>1&&currentPage!=0&&currentPage!=1)\n",
      "\t\tdocument.write(\"<a href=\\\"t20090818_27775\"+\"_\" + prevPage + \".\"+\"html\\\"><span style=\\\"color:#0033FF;font-weight:bold\\\">上一页</span></a>&nbsp;\");\n",
      "\telse if(countPage>1&&currentPage!=0&&currentPage==1)\n",
      "\t\tdocument.write(\"<a href=\\\"t20090818_27775.html\\\"><span style=\\\"color:#0033FF;font-weight:bold\\\">上一页</span></a>&nbsp;\");\n",
      "\t//else\n",
      "\t//\tdocument.write(\"上一页 &nbsp;\");\n",
      "\t\n",
      "\t\n",
      "\t//设置下一页代码 \n",
      "\tif(countPage>1&&currentPage!=(countPage-1))\n",
      "\t\tdocument.write(\"<a href=\\\"t20090818_27775\"+\"_\" + 下一页Page + \".\"+\"html\\\" ><span style=\\\"color:#0033FF;font-weight:bold\\\">下一页</span></a> &nbsp;\");\n",
      "\t//else\n",
      "\t//\tdocument.write(\"下一页 &nbsp;\");\n",
      "\t\t\t\t\t \n",
      "\t\n"
     ]
    }
   ],
   "source": [
    "print scripts.text"
   ]
  },
  {
   "cell_type": "code",
   "execution_count": 89,
   "metadata": {
    "collapsed": false
   },
   "outputs": [
    {
     "data": {
      "text/plain": [
       "4"
      ]
     },
     "execution_count": 89,
     "metadata": {},
     "output_type": "execute_result"
    }
   ],
   "source": [
    "countPage = int(''.join(scripts).split('countPage = ')[1].split('//')[0])\n",
    "countPage"
   ]
  },
  {
   "cell_type": "code",
   "execution_count": 90,
   "metadata": {
    "collapsed": true
   },
   "outputs": [],
   "source": [
    "def crawler(url_i):\n",
    "    content = urllib2.urlopen(url_i).read().decode('gb18030')  \n",
    "    soup = BeautifulSoup(content, 'html.parser') \n",
    "    year = soup.find('span', {'class', 'huang16c'}).text[:4]\n",
    "    year = int(year)\n",
    "    report = ''.join(s.text for s in soup('p'))\n",
    "    # 找到分页信息\n",
    "    scripts = soup.find_all('script')\n",
    "    countPage = int(''.join(scripts[1]).split('countPage = ')[1].split('//')[0])\n",
    "    if countPage == 1:\n",
    "        pass\n",
    "    else:\n",
    "        for i in range(1, countPage):\n",
    "            url_child = url_i.split('.html')[0] +'_'+str(i)+'.html'\n",
    "            content = urllib2.urlopen(url_child).read().decode('gb18030') \n",
    "            soup = BeautifulSoup(content) \n",
    "            report_child = ''.join(s.text for s in soup('p'))\n",
    "            report = report + report_child\n",
    "    return year, report"
   ]
  },
  {
   "cell_type": "code",
   "execution_count": 91,
   "metadata": {
    "collapsed": false
   },
   "outputs": [
    {
     "name": "stdout",
     "output_type": "stream",
     "text": [
      "2016\n",
      "2015\n",
      "2014\n",
      "2013\n",
      "2012\n"
     ]
    },
    {
     "name": "stderr",
     "output_type": "stream",
     "text": [
      "/Users/dustin/anaconda/lib/python2.7/site-packages/bs4/__init__.py:166: UserWarning: No parser was explicitly specified, so I'm using the best available HTML parser for this system (\"lxml\"). This usually isn't a problem, but if you run this code on another system, or in a different virtual environment, it may use a different parser and behave differently.\n",
      "\n",
      "To get rid of this warning, change this:\n",
      "\n",
      " BeautifulSoup([your markup])\n",
      "\n",
      "to this:\n",
      "\n",
      " BeautifulSoup([your markup], \"lxml\")\n",
      "\n",
      "  markup_type=markup_type))\n"
     ]
    },
    {
     "name": "stdout",
     "output_type": "stream",
     "text": [
      "2011\n",
      "2010\n",
      "2009\n",
      "2008\n",
      "2007\n",
      "2006\n",
      "2005\n",
      "2004\n",
      "2003\n",
      "2002\n",
      "2001\n",
      "2000\n",
      "1999\n",
      "1998\n",
      "1997\n",
      "1996\n",
      "1995\n",
      "1994\n",
      "1993\n",
      "1992\n",
      "1991\n",
      "1990\n",
      "1989\n",
      "1988\n",
      "1987\n",
      "1986\n",
      "1985\n",
      "1984\n",
      "1983\n",
      "1982\n",
      "1981\n",
      "1980\n",
      "1979\n",
      "1978\n",
      "1975\n",
      "1964\n",
      "1959\n",
      "1960\n",
      "1957\n",
      "1956\n",
      "1955\n",
      "1954\n"
     ]
    }
   ],
   "source": [
    "reports = {}\n",
    "for link in hyperlinks:\n",
    "    year, report = crawler(link)\n",
    "    print year\n",
    "    reports[year] = report "
   ]
  },
  {
   "cell_type": "code",
   "execution_count": 92,
   "metadata": {
    "collapsed": true
   },
   "outputs": [],
   "source": [
    "url2016 = 'http://news.xinhuanet.com/fortune/2016-03/05/c_128775704.htm'\n",
    "content = urllib2.urlopen(url2016).read()\n",
    "soup = BeautifulSoup(content, 'html.parser') \n",
    "report2016 = ''.join(s.text for s in soup('p'))"
   ]
  },
  {
   "cell_type": "code",
   "execution_count": 93,
   "metadata": {
    "collapsed": true
   },
   "outputs": [],
   "source": [
    "with open('/Users/dustin/cjc2016/data/gov_reports1954-2016.txt', 'wb') as f:\n",
    "    for r in reports:\n",
    "        line = str(r)+'\\t'+reports[r].replace('\\n', '\\t') +'\\n'\n",
    "        f.write(line.encode('utf-8'))"
   ]
  },
  {
   "cell_type": "markdown",
   "metadata": {},
   "source": [
    "## 天涯帖子抓取"
   ]
  },
  {
   "cell_type": "code",
   "execution_count": 8,
   "metadata": {
    "collapsed": true
   },
   "outputs": [],
   "source": [
    "import urllib2\n",
    "from bs4 import BeautifulSoup"
   ]
  },
  {
   "cell_type": "code",
   "execution_count": 9,
   "metadata": {
    "collapsed": false,
    "scrolled": true
   },
   "outputs": [
    {
     "data": {
      "text/html": [
       "<iframe src=http://bbs.tianya.cn/list.jsp?item=free&grade=0&order=1&su=0&k=2012 width=1000 height=500></iframe>"
      ],
      "text/plain": [
       "<IPython.core.display.HTML object>"
      ]
     },
     "execution_count": 9,
     "metadata": {},
     "output_type": "execute_result"
    }
   ],
   "source": [
    "from IPython.display import display_html, HTML\n",
    "HTML('<iframe src=http://bbs.tianya.cn/list.jsp?item=free&grade=0&order=1&su=0&k=2012 width=1000 height=500></iframe>')\n",
    "# the webpage we would like to crawl"
   ]
  },
  {
   "cell_type": "code",
   "execution_count": 10,
   "metadata": {
    "collapsed": false
   },
   "outputs": [],
   "source": [
    "url = \"http://bbs.tianya.cn/list.jsp?item=free&grade=0&order=1&su=0&k=2012\" \n",
    "content = urllib2.urlopen(url).read() #获取网页的html文本\n",
    "soup = BeautifulSoup(content, \"lxml\") \n",
    "articles = soup.find_all('tr')"
   ]
  },
  {
   "cell_type": "code",
   "execution_count": 11,
   "metadata": {
    "collapsed": false
   },
   "outputs": [
    {
     "name": "stdout",
     "output_type": "stream",
     "text": [
      "<tr>\n",
      "<th scope=\"col\"> 标题</th>\n",
      "<th scope=\"col\">作者</th>\n",
      "<th scope=\"col\">点击</th>\n",
      "<th scope=\"col\">回复</th>\n",
      "<th scope=\"col\">发表时间</th>\n",
      "</tr>\n"
     ]
    }
   ],
   "source": [
    "print articles[0]"
   ]
  },
  {
   "cell_type": "code",
   "execution_count": 12,
   "metadata": {
    "collapsed": false
   },
   "outputs": [
    {
     "name": "stdout",
     "output_type": "stream",
     "text": [
      "<tr class=\"bg\">\n",
      "<td class=\"td-title \">\n",
      "<span class=\"face\" title=\"\">\n",
      "</span>\n",
      "<a href=\"/post-free-5467490-1.shtml\" target=\"_blank\">\r\n",
      "\t\t\t\t\t\t\t2012年,我成第二个\"雷洋\"<span class=\"art-ico art-ico-3\" title=\"内有0张图片\"></span>\n",
      "</a>\n",
      "</td>\n",
      "<td><a class=\"author\" href=\"http://www.tianya.cn/112598577\" target=\"_blank\">重生0504</a></td>\n",
      "<td>708</td>\n",
      "<td>16</td>\n",
      "<td title=\"2016-05-16 23:14\">05-16 23:14</td>\n",
      "</tr>\n"
     ]
    }
   ],
   "source": [
    "print articles[1]"
   ]
  },
  {
   "cell_type": "code",
   "execution_count": 13,
   "metadata": {
    "collapsed": false
   },
   "outputs": [
    {
     "data": {
      "text/plain": [
       "50"
      ]
     },
     "execution_count": 13,
     "metadata": {},
     "output_type": "execute_result"
    }
   ],
   "source": [
    "len(articles[1:])"
   ]
  },
  {
   "cell_type": "code",
   "execution_count": 14,
   "metadata": {
    "collapsed": false
   },
   "outputs": [
    {
     "name": "stdout",
     "output_type": "stream",
     "text": [
      "<td class=\"td-title \">\n",
      "<span class=\"face\" title=\"\">\n",
      "</span>\n",
      "<a href=\"/post-free-5467490-1.shtml\" target=\"_blank\">\r\n",
      "\t\t\t\t\t\t\t2012年,我成第二个\"雷洋\"<span class=\"art-ico art-ico-3\" title=\"内有0张图片\"></span>\n",
      "</a>\n",
      "</td>\n",
      "<td><a class=\"author\" href=\"http://www.tianya.cn/112598577\" target=\"_blank\">重生0504</a></td>\n",
      "<td>708</td>\n",
      "<td>16</td>\n",
      "<td title=\"2016-05-16 23:14\">05-16 23:14</td>\n"
     ]
    }
   ],
   "source": [
    "for t in articles[1].find_all('td'): print t"
   ]
  },
  {
   "cell_type": "code",
   "execution_count": 15,
   "metadata": {
    "collapsed": false
   },
   "outputs": [],
   "source": [
    "td = articles[1].find_all('td')"
   ]
  },
  {
   "cell_type": "code",
   "execution_count": 16,
   "metadata": {
    "collapsed": false
   },
   "outputs": [
    {
     "name": "stdout",
     "output_type": "stream",
     "text": [
      "<td class=\"td-title \">\n",
      "<span class=\"face\" title=\"\">\n",
      "</span>\n",
      "<a href=\"/post-free-5467490-1.shtml\" target=\"_blank\">\r\n",
      "\t\t\t\t\t\t\t2012年,我成第二个\"雷洋\"<span class=\"art-ico art-ico-3\" title=\"内有0张图片\"></span>\n",
      "</a>\n",
      "</td>\n"
     ]
    }
   ],
   "source": [
    "print td[0]"
   ]
  },
  {
   "cell_type": "code",
   "execution_count": 17,
   "metadata": {
    "collapsed": false
   },
   "outputs": [
    {
     "name": "stdout",
     "output_type": "stream",
     "text": [
      "\n",
      "\n",
      "\n",
      "\r\n",
      "\t\t\t\t\t\t\t2012年,我成第二个\"雷洋\"\n",
      "\n",
      "\n"
     ]
    }
   ],
   "source": [
    "print td[0].text"
   ]
  },
  {
   "cell_type": "code",
   "execution_count": 18,
   "metadata": {
    "collapsed": false
   },
   "outputs": [
    {
     "name": "stdout",
     "output_type": "stream",
     "text": [
      "2012年,我成第二个\"雷洋\"\n"
     ]
    }
   ],
   "source": [
    "print td[0].text.strip()"
   ]
  },
  {
   "cell_type": "code",
   "execution_count": 19,
   "metadata": {
    "collapsed": false
   },
   "outputs": [
    {
     "name": "stdout",
     "output_type": "stream",
     "text": [
      "/post-free-5467490-1.shtml\n"
     ]
    }
   ],
   "source": [
    "print td[0].a['href']"
   ]
  },
  {
   "cell_type": "code",
   "execution_count": 20,
   "metadata": {
    "collapsed": false
   },
   "outputs": [
    {
     "name": "stdout",
     "output_type": "stream",
     "text": [
      "<td><a class=\"author\" href=\"http://www.tianya.cn/112598577\" target=\"_blank\">重生0504</a></td>\n"
     ]
    }
   ],
   "source": [
    "print td[1]"
   ]
  },
  {
   "cell_type": "code",
   "execution_count": 21,
   "metadata": {
    "collapsed": false
   },
   "outputs": [
    {
     "name": "stdout",
     "output_type": "stream",
     "text": [
      "<td>708</td>\n"
     ]
    }
   ],
   "source": [
    "print td[2]"
   ]
  },
  {
   "cell_type": "code",
   "execution_count": 22,
   "metadata": {
    "collapsed": false
   },
   "outputs": [
    {
     "name": "stdout",
     "output_type": "stream",
     "text": [
      "<td>16</td>\n"
     ]
    }
   ],
   "source": [
    "print td[3]"
   ]
  },
  {
   "cell_type": "code",
   "execution_count": 23,
   "metadata": {
    "collapsed": false
   },
   "outputs": [
    {
     "name": "stdout",
     "output_type": "stream",
     "text": [
      "<td title=\"2016-05-16 23:14\">05-16 23:14</td>\n"
     ]
    }
   ],
   "source": [
    "print td[4]"
   ]
  },
  {
   "cell_type": "code",
   "execution_count": 24,
   "metadata": {
    "collapsed": true
   },
   "outputs": [],
   "source": [
    "records = []\n",
    "for i in articles[1:]:\n",
    "    td = i.find_all('td')\n",
    "    title = td[0].text.strip()\n",
    "    title_url = td[0].a['href']\n",
    "    author = td[1].text\n",
    "    author_url = td[1].a['href']\n",
    "    views = td[2].text\n",
    "    replies = td[3].text\n",
    "    date = td[4]['title']\n",
    "    record = title + '\\t' + title_url+ '\\t' + author + '\\t'+ author_url + '\\t' + views+ '\\t'  + replies+ '\\t'+ date\n",
    "    records.append(record)"
   ]
  },
  {
   "cell_type": "code",
   "execution_count": 25,
   "metadata": {
    "collapsed": false
   },
   "outputs": [
    {
     "name": "stdout",
     "output_type": "stream",
     "text": [
      "我们其实都死于2012\t/post-free-5459192-1.shtml\t年度奇葩\thttp://www.tianya.cn/112269556\t53\t0\t2016-05-09 17:23\n"
     ]
    }
   ],
   "source": [
    "print records[2]"
   ]
  },
  {
   "cell_type": "code",
   "execution_count": 26,
   "metadata": {
    "collapsed": true
   },
   "outputs": [],
   "source": [
    "def crawler(page_num, file_name):\n",
    "    try:\n",
    "        # open the browser\n",
    "        url = \"http://bbs.tianya.cn/list.jsp?item=free&grade=0&order=1&su=0&k=2012\" \n",
    "        content = urllib2.urlopen(url).read() #获取网页的html文本\n",
    "        soup = BeautifulSoup(content, \"lxml\") \n",
    "        articles = soup.find_all('tr')\n",
    "        # write down info\n",
    "        for i in articles[1:]:\n",
    "            td = i.find_all('td')\n",
    "            title = td[0].text.strip()\n",
    "            title_url = td[0].a['href']\n",
    "            author = td[1].text\n",
    "            author_url = td[1].a['href']\n",
    "            views = td[2].text\n",
    "            replies = td[3].text\n",
    "            date = td[4]['title']\n",
    "            record = title + '\\t' + title_url+ '\\t' + author + '\\t'+ \\\n",
    "                        author_url + '\\t' + views+ '\\t'  + replies+ '\\t'+ date\n",
    "            with open(file_name,'a') as p: # '''Note'''：Ａppend mode, run only once!\n",
    "                        p.write(record.encode('utf-8')+\"\\n\") ##!!encode here to utf-8 to avoid encoding\n",
    "\n",
    "    except Exception, e:\n",
    "        print e\n",
    "        pass"
   ]
  },
  {
   "cell_type": "code",
   "execution_count": 121,
   "metadata": {
    "collapsed": false
   },
   "outputs": [
    {
     "name": "stdout",
     "output_type": "stream",
     "text": [
      "0\n",
      "1\n",
      "2\n",
      "3\n",
      "4\n",
      "5\n",
      "6\n",
      "7\n",
      "8\n",
      "9\n"
     ]
    }
   ],
   "source": [
    "# crawl all pages\n",
    "for page_num in range(10):\n",
    "    print (page_num)\n",
    "    crawler(page_num, '/Users/dustin/cjc2016/data/tianya_bbs_threads_list.txt') "
   ]
  },
  {
   "cell_type": "code",
   "execution_count": 27,
   "metadata": {
    "collapsed": false
   },
   "outputs": [
    {
     "data": {
      "text/html": [
       "<div>\n",
       "<table border=\"1\" class=\"dataframe\">\n",
       "  <thead>\n",
       "    <tr style=\"text-align: right;\">\n",
       "      <th></th>\n",
       "      <th>0</th>\n",
       "      <th>1</th>\n",
       "      <th>2</th>\n",
       "      <th>3</th>\n",
       "      <th>4</th>\n",
       "      <th>5</th>\n",
       "      <th>6</th>\n",
       "    </tr>\n",
       "  </thead>\n",
       "  <tbody>\n",
       "    <tr>\n",
       "      <th>0</th>\n",
       "      <td>2012年,我成第二个\"雷洋\"</td>\n",
       "      <td>/post-free-5467490-1.shtml</td>\n",
       "      <td>重生0504</td>\n",
       "      <td>http://www.tianya.cn/112598577</td>\n",
       "      <td>708</td>\n",
       "      <td>16</td>\n",
       "      <td>2016-05-16 23:14</td>\n",
       "    </tr>\n",
       "    <tr>\n",
       "      <th>1</th>\n",
       "      <td>嫖宿幼女罪,一个神奇的罪名(2012)</td>\n",
       "      <td>/post-free-5463710-1.shtml</td>\n",
       "      <td>黄礼</td>\n",
       "      <td>http://www.tianya.cn/111465403</td>\n",
       "      <td>26</td>\n",
       "      <td>0</td>\n",
       "      <td>2016-05-13 11:09</td>\n",
       "    </tr>\n",
       "    <tr>\n",
       "      <th>2</th>\n",
       "      <td>我们其实都死于2012</td>\n",
       "      <td>/post-free-5459192-1.shtml</td>\n",
       "      <td>年度奇葩</td>\n",
       "      <td>http://www.tianya.cn/112269556</td>\n",
       "      <td>53</td>\n",
       "      <td>0</td>\n",
       "      <td>2016-05-09 17:23</td>\n",
       "    </tr>\n",
       "    <tr>\n",
       "      <th>3</th>\n",
       "      <td>姓孙的女宝宝,叫什么名字好,想给孩子改名字,2012年出生的,属...</td>\n",
       "      <td>/post-free-5453393-1.shtml</td>\n",
       "      <td>被牛伤的双子</td>\n",
       "      <td>http://www.tianya.cn/45437954</td>\n",
       "      <td>66</td>\n",
       "      <td>2</td>\n",
       "      <td>2016-05-03 14:34</td>\n",
       "    </tr>\n",
       "    <tr>\n",
       "      <th>4</th>\n",
       "      <td>熬过了2012,我们又该怎样面对2020?</td>\n",
       "      <td>/post-free-5447273-1.shtml</td>\n",
       "      <td>bdwhg</td>\n",
       "      <td>http://www.tianya.cn/111662913</td>\n",
       "      <td>20</td>\n",
       "      <td>0</td>\n",
       "      <td>2016-04-26 11:50</td>\n",
       "    </tr>\n",
       "  </tbody>\n",
       "</table>\n",
       "</div>"
      ],
      "text/plain": [
       "                                     0                           1       2  \\\n",
       "0                      2012年,我成第二个\"雷洋\"  /post-free-5467490-1.shtml  重生0504   \n",
       "1                  嫖宿幼女罪,一个神奇的罪名(2012)  /post-free-5463710-1.shtml      黄礼   \n",
       "2                          我们其实都死于2012  /post-free-5459192-1.shtml    年度奇葩   \n",
       "3  姓孙的女宝宝,叫什么名字好,想给孩子改名字,2012年出生的,属...  /post-free-5453393-1.shtml  被牛伤的双子   \n",
       "4                熬过了2012,我们又该怎样面对2020?  /post-free-5447273-1.shtml   bdwhg   \n",
       "\n",
       "                                3    4   5                 6  \n",
       "0  http://www.tianya.cn/112598577  708  16  2016-05-16 23:14  \n",
       "1  http://www.tianya.cn/111465403   26   0  2016-05-13 11:09  \n",
       "2  http://www.tianya.cn/112269556   53   0  2016-05-09 17:23  \n",
       "3   http://www.tianya.cn/45437954   66   2  2016-05-03 14:34  \n",
       "4  http://www.tianya.cn/111662913   20   0  2016-04-26 11:50  "
      ]
     },
     "execution_count": 27,
     "metadata": {},
     "output_type": "execute_result"
    }
   ],
   "source": [
    "import pandas as pd\n",
    "\n",
    "df = pd.read_csv('/Users/dustin/cjc2016/data/tianya_bbs_threads_list.txt', sep = \"\\t\", header=None)\n",
    "df[:5]"
   ]
  },
  {
   "cell_type": "code",
   "execution_count": 28,
   "metadata": {
    "collapsed": false
   },
   "outputs": [
    {
     "data": {
      "text/plain": [
       "500"
      ]
     },
     "execution_count": 28,
     "metadata": {},
     "output_type": "execute_result"
    }
   ],
   "source": [
    "len(df)"
   ]
  },
  {
   "cell_type": "code",
   "execution_count": 29,
   "metadata": {
    "collapsed": false
   },
   "outputs": [
    {
     "data": {
      "text/html": [
       "<div>\n",
       "<table border=\"1\" class=\"dataframe\">\n",
       "  <thead>\n",
       "    <tr style=\"text-align: right;\">\n",
       "      <th></th>\n",
       "      <th>title</th>\n",
       "      <th>link</th>\n",
       "      <th>author</th>\n",
       "      <th>author_page</th>\n",
       "      <th>click</th>\n",
       "      <th>reply</th>\n",
       "      <th>time</th>\n",
       "    </tr>\n",
       "  </thead>\n",
       "  <tbody>\n",
       "    <tr>\n",
       "      <th>0</th>\n",
       "      <td>2012年,我成第二个\"雷洋\"</td>\n",
       "      <td>/post-free-5467490-1.shtml</td>\n",
       "      <td>重生0504</td>\n",
       "      <td>http://www.tianya.cn/112598577</td>\n",
       "      <td>708</td>\n",
       "      <td>16</td>\n",
       "      <td>2016-05-16 23:14</td>\n",
       "    </tr>\n",
       "    <tr>\n",
       "      <th>1</th>\n",
       "      <td>嫖宿幼女罪,一个神奇的罪名(2012)</td>\n",
       "      <td>/post-free-5463710-1.shtml</td>\n",
       "      <td>黄礼</td>\n",
       "      <td>http://www.tianya.cn/111465403</td>\n",
       "      <td>26</td>\n",
       "      <td>0</td>\n",
       "      <td>2016-05-13 11:09</td>\n",
       "    </tr>\n",
       "    <tr>\n",
       "      <th>2</th>\n",
       "      <td>我们其实都死于2012</td>\n",
       "      <td>/post-free-5459192-1.shtml</td>\n",
       "      <td>年度奇葩</td>\n",
       "      <td>http://www.tianya.cn/112269556</td>\n",
       "      <td>53</td>\n",
       "      <td>0</td>\n",
       "      <td>2016-05-09 17:23</td>\n",
       "    </tr>\n",
       "    <tr>\n",
       "      <th>3</th>\n",
       "      <td>姓孙的女宝宝,叫什么名字好,想给孩子改名字,2012年出生的,属...</td>\n",
       "      <td>/post-free-5453393-1.shtml</td>\n",
       "      <td>被牛伤的双子</td>\n",
       "      <td>http://www.tianya.cn/45437954</td>\n",
       "      <td>66</td>\n",
       "      <td>2</td>\n",
       "      <td>2016-05-03 14:34</td>\n",
       "    </tr>\n",
       "    <tr>\n",
       "      <th>4</th>\n",
       "      <td>熬过了2012,我们又该怎样面对2020?</td>\n",
       "      <td>/post-free-5447273-1.shtml</td>\n",
       "      <td>bdwhg</td>\n",
       "      <td>http://www.tianya.cn/111662913</td>\n",
       "      <td>20</td>\n",
       "      <td>0</td>\n",
       "      <td>2016-04-26 11:50</td>\n",
       "    </tr>\n",
       "  </tbody>\n",
       "</table>\n",
       "</div>"
      ],
      "text/plain": [
       "                                 title                        link  author  \\\n",
       "0                      2012年,我成第二个\"雷洋\"  /post-free-5467490-1.shtml  重生0504   \n",
       "1                  嫖宿幼女罪,一个神奇的罪名(2012)  /post-free-5463710-1.shtml      黄礼   \n",
       "2                          我们其实都死于2012  /post-free-5459192-1.shtml    年度奇葩   \n",
       "3  姓孙的女宝宝,叫什么名字好,想给孩子改名字,2012年出生的,属...  /post-free-5453393-1.shtml  被牛伤的双子   \n",
       "4                熬过了2012,我们又该怎样面对2020?  /post-free-5447273-1.shtml   bdwhg   \n",
       "\n",
       "                      author_page  click  reply              time  \n",
       "0  http://www.tianya.cn/112598577    708     16  2016-05-16 23:14  \n",
       "1  http://www.tianya.cn/111465403     26      0  2016-05-13 11:09  \n",
       "2  http://www.tianya.cn/112269556     53      0  2016-05-09 17:23  \n",
       "3   http://www.tianya.cn/45437954     66      2  2016-05-03 14:34  \n",
       "4  http://www.tianya.cn/111662913     20      0  2016-04-26 11:50  "
      ]
     },
     "execution_count": 29,
     "metadata": {},
     "output_type": "execute_result"
    }
   ],
   "source": [
    "df=df.rename(columns = {0:'title', 1:'link', 2:'author',3:'author_page', 4:'click', 5:'reply', 6:'time'})\n",
    "df[:5]"
   ]
  },
  {
   "cell_type": "code",
   "execution_count": 30,
   "metadata": {
    "collapsed": false
   },
   "outputs": [
    {
     "data": {
      "text/plain": [
       "500"
      ]
     },
     "execution_count": 30,
     "metadata": {},
     "output_type": "execute_result"
    }
   ],
   "source": [
    "len(df.link)"
   ]
  },
  {
   "cell_type": "code",
   "execution_count": 31,
   "metadata": {
    "collapsed": false
   },
   "outputs": [
    {
     "data": {
      "text/plain": [
       "0    http://www.tianya.cn/112598577\n",
       "1    http://www.tianya.cn/111465403\n",
       "2    http://www.tianya.cn/112269556\n",
       "3     http://www.tianya.cn/45437954\n",
       "4    http://www.tianya.cn/111662913\n",
       "Name: author_page, dtype: object"
      ]
     },
     "execution_count": 31,
     "metadata": {},
     "output_type": "execute_result"
    }
   ],
   "source": [
    "df.author_page[:5]"
   ]
  },
  {
   "cell_type": "code",
   "execution_count": 32,
   "metadata": {
    "collapsed": false
   },
   "outputs": [],
   "source": [
    "# user_info = soup.find('div',  {'class', 'userinfo'})('p')\n",
    "# user_infos = [i.get_text()[4:] for i in user_info]\n",
    "            \n",
    "def author_crawler(url, file_name):\n",
    "    try:\n",
    "        content = urllib2.urlopen(url).read() #获取网页的html文本\n",
    "        soup = BeautifulSoup(content, \"lxml\")\n",
    "        link_info = soup.find_all('div', {'class', 'link-box'})\n",
    "        followed_num, fans_num = [i.a.text for i in link_info]\n",
    "        try:\n",
    "            activity = soup.find_all('span', {'class', 'subtitle'})\n",
    "            post_num, reply_num = [j.text[2:] for i in activity[:1] for j in i('a')]\n",
    "        except:\n",
    "            post_num, reply_num = 1, 0\n",
    "        record =  '\\t'.join([url, followed_num, fans_num, post_num, reply_num])\n",
    "        with open(file_name,'a') as p: # '''Note'''：Ａppend mode, run only once!\n",
    "                    p.write(record.encode('utf-8')+\"\\n\") ##!!encode here to utf-8 to avoid encoding\n",
    "\n",
    "    except Exception, e:\n",
    "        print e, url\n",
    "        record =  '\\t'.join([url, 'na', 'na', 'na', 'na'])\n",
    "        with open(file_name,'a') as p: # '''Note'''：Ａppend mode, run only once!\n",
    "                    p.write(record.encode('utf-8')+\"\\n\") ##!!encode here to utf-8 to avoid encoding\n",
    "        pass"
   ]
  },
  {
   "cell_type": "code",
   "execution_count": 128,
   "metadata": {
    "collapsed": false
   },
   "outputs": [
    {
     "name": "stdout",
     "output_type": "stream",
     "text": [
      "0\n",
      "10\n",
      "need more than 0 values to unpack http://www.tianya.cn/22828933\n",
      "20\n",
      "30\n",
      "40\n",
      "need more than 0 values to unpack http://www.tianya.cn/72185064\n",
      "50\n",
      "60\n",
      "need more than 0 values to unpack http://www.tianya.cn/22828933\n",
      "70\n",
      "80\n",
      "90\n",
      "need more than 0 values to unpack http://www.tianya.cn/72185064\n",
      "100\n",
      "110\n",
      "need more than 0 values to unpack http://www.tianya.cn/22828933\n",
      "120\n",
      "130\n",
      "140\n",
      "need more than 0 values to unpack http://www.tianya.cn/72185064\n",
      "150\n",
      "160\n",
      "need more than 0 values to unpack http://www.tianya.cn/22828933\n",
      "170\n",
      "180\n",
      "190\n",
      "need more than 0 values to unpack http://www.tianya.cn/72185064\n",
      "200\n",
      "210\n",
      "need more than 0 values to unpack http://www.tianya.cn/22828933\n",
      "220\n",
      "230\n",
      "240\n",
      "need more than 0 values to unpack http://www.tianya.cn/72185064\n",
      "250\n",
      "260\n",
      "need more than 0 values to unpack http://www.tianya.cn/22828933\n",
      "270\n",
      "280\n",
      "290\n",
      "need more than 0 values to unpack http://www.tianya.cn/72185064\n",
      "300\n",
      "310\n",
      "need more than 0 values to unpack http://www.tianya.cn/22828933\n",
      "320\n",
      "330\n",
      "340\n",
      "need more than 0 values to unpack http://www.tianya.cn/72185064\n",
      "350\n",
      "360\n",
      "need more than 0 values to unpack http://www.tianya.cn/22828933\n",
      "370\n",
      "380\n",
      "390\n",
      "need more than 0 values to unpack http://www.tianya.cn/72185064\n",
      "400\n",
      "410\n",
      "need more than 0 values to unpack http://www.tianya.cn/22828933\n",
      "420\n",
      "430\n",
      "440\n",
      "need more than 0 values to unpack http://www.tianya.cn/72185064\n",
      "450\n",
      "460\n",
      "need more than 0 values to unpack http://www.tianya.cn/22828933\n",
      "470\n",
      "480\n",
      "490\n",
      "need more than 0 values to unpack http://www.tianya.cn/72185064\n"
     ]
    }
   ],
   "source": [
    "for k, url in enumerate(df.author_page):\n",
    "    if k % 10==0:\n",
    "        print k\n",
    "    author_crawler(url, '/Users/dustin/cjc2016/data/tianya_bbs_threads_author_info.txt') "
   ]
  },
  {
   "cell_type": "code",
   "execution_count": 129,
   "metadata": {
    "collapsed": true
   },
   "outputs": [],
   "source": [
    "url = df.author_page[1]\n",
    "content = urllib2.urlopen(url).read() #获取网页的html文本\n",
    "soup1 = BeautifulSoup(content, \"lxml\") "
   ]
  },
  {
   "cell_type": "markdown",
   "metadata": {},
   "source": [
    "## 抓帖子回复"
   ]
  },
  {
   "cell_type": "code",
   "execution_count": 33,
   "metadata": {
    "collapsed": false,
    "scrolled": true
   },
   "outputs": [
    {
     "data": {
      "text/html": [
       "<iframe src=http://bbs.tianya.cn/post-free-2592413-1.shtml width=1000 height=500></iframe>"
      ],
      "text/plain": [
       "<IPython.core.display.HTML object>"
      ]
     },
     "execution_count": 33,
     "metadata": {},
     "output_type": "execute_result"
    }
   ],
   "source": [
    "from IPython.display import display_html, HTML\n",
    "HTML('<iframe src=http://bbs.tianya.cn/post-free-2592413-1.shtml width=1000 height=500></iframe>')\n",
    "# the webpage we would like to crawl"
   ]
  },
  {
   "cell_type": "code",
   "execution_count": 34,
   "metadata": {
    "collapsed": false
   },
   "outputs": [],
   "source": [
    "url = 'http://bbs.tianya.cn/post-free-2592413-1.shtml'\n",
    "post = urllib2.urlopen(url).read() #获取网页的html文本\n",
    "post_soup = BeautifulSoup(post, \"lxml\") \n",
    "#articles = soup.find_all('tr')"
   ]
  },
  {
   "cell_type": "code",
   "execution_count": 35,
   "metadata": {
    "collapsed": false
   },
   "outputs": [
    {
     "name": "stdout",
     "output_type": "stream",
     "text": [
      "<!DOCTYPE HTML>\n",
      "<html>\n",
      " <head>\n",
      "  <meta charset=\"utf-8\"/>\n",
      "  <title>\n",
      "   2012预言参考(转载)_天涯杂谈_天涯论坛\n",
      "  </title>\n",
      "  <meta content=\"2012预言参考(转载)　　惊人的中国五千年预言时间:2012-06-06 14:18来源:转载 作者:佚　　纵观中国历史，似乎隐藏着一个天大的秘密。从周朝的《乾坤万年歌》，汉朝的《马前课》，唐朝的《推背图》，宋朝的《梅花诗》，再到明朝的《烧饼歌》，每一个汉人统治的长治久安的朝代都...\" name=\"description\"/>\n",
      "  <meta content=\"IE=EmulateIE9\" http-equiv=\"X-UA-Compatible\"/>\n",
      "  <meta content=\"空00012\" name=\"author\"/>\n",
      "  <meta content=\"format=xhtml; url=http://bbs.tianya.cn/m/post-free-2592413-1.shtml\" http-equiv=\"mobile-agent\"/>\n",
      "  <link href=\"http://static.tianyaui.com/global/ty/TY.css\" rel=\"stylesheet\" type=\"text/css\"/>\n",
      "  <link href=\"http://static.tianyaui.com/global/bbs/web/static/css/bbs_article_c55fffc.css\" rel=\"stylesheet\" type=\"text/css\"/>\n",
      "  <link href=\"http://static.tianyaui.com/favicon.ico\" rel=\"shortcut icon\" type=\"image/vnd.microsoft.icon\"/>\n",
      "  <link href=\"http://bbs.tianya.cn/post-free-2592413-2.shtml\" rel=\"next\"/>\n",
      "  <script type=\"text/javascript\">\n",
      "   var bbsGlobal = {\r\n",
      "\tisEhomeItem : false,\r\n",
      "\tisNewArticl\n"
     ]
    }
   ],
   "source": [
    "print (post_soup.prettify())[:1000]"
   ]
  },
  {
   "cell_type": "code",
   "execution_count": 36,
   "metadata": {
    "collapsed": false
   },
   "outputs": [
    {
     "data": {
      "text/plain": [
       "88"
      ]
     },
     "execution_count": 36,
     "metadata": {},
     "output_type": "execute_result"
    }
   ],
   "source": [
    "pa = post_soup.find_all('div', {'class', 'atl-item'})\n",
    "len(pa)"
   ]
  },
  {
   "cell_type": "code",
   "execution_count": 37,
   "metadata": {
    "collapsed": false
   },
   "outputs": [
    {
     "name": "stdout",
     "output_type": "stream",
     "text": [
      "<div _host=\"%E7%A9%BA00012\" class=\"atl-item host-item\">\n",
      "<div class=\"atl-content\">\n",
      "<div class=\"atl-con-hd clearfix\">\n",
      "<div class=\"atl-con-hd-l\"></div>\n",
      "<div class=\"atl-con-hd-r\"></div>\n",
      "</div>\n",
      "<div class=\"atl-con-bd clearfix\">\n",
      "<div class=\"bbs-content clearfix\">\r\n",
      "\t\t\t\t\t\t\t　　惊人的中国五千年预言时间:2012-06-06 14:18来源:转载 作者:佚<br/><br/><br/><br/>　　纵观中国历史，似乎隐藏着一个天大的秘密。从周朝的《乾坤万年歌》，汉朝的《马前课》，唐朝的《推背图》，宋朝的《梅花诗》，再到明朝的《烧饼歌》，每一个汉人统治的长治久安的朝代都会给我们留下一个准确而系统的预言。更为神秘的是，每一个真命天子的身边谋臣又都是道士。<br/><br/><br/>　　推背图第六象（维基百科）<br/><br/><br/>　　纵观中国历史，似乎隐藏着一个天大的秘密。从周朝的《乾坤万年歌》，汉朝的《马前课》，唐朝的《推背图》，宋朝的《梅花诗》，再到明朝的《烧饼歌》，每一个汉人统治的长治久安的朝代都会给我们留下一个准确而系统的预言。更为神秘的是，从周朝的姜子牙，汉朝的张良，唐朝的徐懋功、李靖，宋朝的苗光义，再到明朝的刘伯温，每一个真命天子的身边谋臣又都是道士。<br/><br/>　　这似乎是每一个古老民族留给我们的共同神话，也是千古以来最神秘的预言。神何时回来？在这段等神归来的日子里，人类社会将发生什么？一个个古老的文明就这样给我们留下了中间这段巨大的空白。也许我们还需要从中原这片神秘的土地和她详尽的史料、绵绵不绝的文明历程中寻找答案。<br/><br/>　　“今年祖龙死”<br/><br/>　　公元前210年，十月。旌旗蔽日，车马辚辚，秦始皇率领着他庞大的文武百官和侍从队伍离开咸阳，踏上了第五次巡行天下的征途。当秦始皇最后回望咸阳城那巍巍宫殿的时候，他不会想到：这一去，他就再也回不来了。<br/><br/>　　一年前秋天的夜晚，秦始皇的一位使者经过华阴平舒道，一个人手持玉璧拦住他的去路说，“请替我把这块玉璧交给始皇。”又趁便说道：“今年祖龙死。”使者很奇怪，正要问个究竟，这人把玉璧放在地上就不见了。使者带着玉璧回到咸阳，把事情经过报告给始皇，始皇默然良久，后命人到御府一查，发现这块玉璧竟然是八年以前他出巡渡江时沉入水中的那块儿。<br/><br/>　　车马在寒冬的风中缓缓前行，苍茫大地，衰草枯杨。曾经威武刚烈的秦始皇如今已近油尽灯枯。回想当年一统天下、叱咤风云的豪情，始皇的心中恐怕也不能不感叹人生的短暂。在死神面前，人实在是太微渺了。他想起了那因为谏阻他活埋儒生而被发配到上郡和蒙恬一起镇守边关的长子扶苏，就写下诏命给扶苏说：“请回咸阳治丧。”始皇可能终于想通了那句莫名其妙的“今年祖龙死”到底是什么意思。“龙”者，被称为真龙天子的皇帝是也。“祖” 者，始祖是也。“祖龙”不就是指他秦始皇吗？<br/><br/>　　大限已到，不可一世的秦始皇就这样死了。他所最宠信宠爱的三个人－－小儿子胡亥、丞相李斯和郎中令赵高立即就背叛了他。他们篡改诏书，命令扶苏和蒙恬自杀，并扶立胡亥为帝，这就是秦二世。<br/><br/>　　“亡秦者胡也”<br/><br/>　　秦二世是个只知吃喝享乐的花花公子，不但没有秦始皇的雄才大略，其奢侈荒淫犹有过之。就在秦二世元年七月（公元前209年），陈胜吴广在大泽乡揭竿而起，天下百姓群起而响应。原来的六国诸侯后代纷纷复国，刘邦和项羽也各自拉起了一支人马。<br/><br/>　　二世三年，秦王朝的天下早已支离破碎。赵高这个祸国殃民的太监，蒙蔽了秦二世整整三年，耍弄权术整整三年，安享富贵也整整三年。如今大势已去，赵高深恐二世追究他的罪恶，在耍弄了一个“指鹿为马”的游戏后，命阎乐在望夷宫刺死了二世。随后，赵高召集诸位公子和大臣说，“秦国本来是个诸侯国，因为始皇统一了天下，所以称帝。现在六国纷纷复国，秦国的地盘是越来越小了，再顶着个皇帝的空名儿不合适，还是称王吧。”<br/><br/>　　就这样，赵高立了子婴为秦王。秦始皇要传之子孙，万世不绝的帝位就画上了句号。这又应验了一句曾让秦始皇寝食难安的预言－－ “亡秦者胡也”。那是在秦始皇称帝六年，正当春秋鼎盛时，被派出去寻仙访道的卢生带回的谶讳：“亡秦者胡也。”始皇认为定然是胡人匈奴为患，于是命大将蒙恬率领三十万大军北击匈奴，并开始修筑万里长城。谁知天道玄远，若隐若现，预言的实际意思是，“秦王朝将亡于二世胡亥之手。”<br/><br/>　　《史记．秦始皇本纪》中记载的这两则预言，其准确程度已经让人叹为观止。但是且慢，中华民族的智慧似乎要在这一点上一再展现出她的神秘不凡来。<br/><br/>　　姜子牙：《乾坤万年歌》<br/><br/>　　就在二世死前的几个月，秦国著名将领章邯统领三十万大军在黄河以北的巨鹿城围住了刚刚复国的赵王歇。章邯本人身经百战，手下又有英勇善战的名将苏角，足智多谋的名将王离，兵强马壮，粮草丰足。前来救援赵国的诸侯结成十几座营垒，却没有一人敢与秦军决战。<br/><br/>　　就在这时，项羽挺身而出，和楚军一起抱着“此次决战，不胜则死”的决心渡过黄河。随后破釜沉舟，烧毁军营，只带着三天的干粮，向秦军冲去。项羽身穿红色战袍，骑乌骓马，手持长戟，带头冲锋陷阵，当者披靡。虽然秦军有三十万之众，而楚军只有七万，但装备精良、久经战阵的秦军做梦也没有想到，项羽的军队作战英勇，气势如虹。身穿黑衣的秦军，很快被身穿红袍的楚军分割、包围、歼灭。战鼓之声惊天动地。那些做壁上观的诸侯军队一个个伸出舌头、屏住呼吸，看着这场极其惨烈的战斗。狭路相逢勇者胜，从来没有打过败仗的苏角兵败身亡，全军覆没。项羽命令士兵饱餐一顿之后继续进攻。楚军一路兵不留行，长驱直入，锐不可挡，九战九胜，生擒王离，章邯大败而逃。<br/><br/>　　项羽随后召诸侯相见，大家都跪在地下爬着进去，连头也不敢抬起来，并颂扬项羽说“上将军的神威真了不起，自古到今没有第二个。我们情愿听从您的指挥。”诸侯的军队分路进兵，很快就攻灭了秦国。鸿门宴后，项羽封了刘邦等十八人为王，又自称西楚霸王，兵威之盛、天下莫及，一时无人敢与争锋。<br/><br/>　　谁料历史却发生了戏剧性的变化。被发配到蜀中的汉王刘邦得到了在项羽那里郁郁不得志的韩信，筑坛拜将。韩信不负刘邦所托，使尽心机，明修栈道，暗度陈仓，与汉王定了三秦；又虏魏王豹，擒赵王歇；北定燕，东定齐；南败楚兵二十万，杀了名将龙且。最后在九里山摆下绝机阵，十面埋伏，杀尽楚军数十万<br/><br/>　　项羽数度冲击，无法冲出重围，乃退回垓下。当夜，项羽听到四面都是楚歌之声，大惊失色道：“难道汉军已经完全占领了楚地吗？”随着他南征北战的美人虞姬手捧一杯酒献给项羽。项羽一饮而尽，仰天歌道：“力拔山兮气盖世，时不利兮骓不逝，骓不逝兮可奈何，虞兮虞兮奈若何？”虞姬以歌和之：“汉兵已掠地，四面楚歌声，大王意气尽，贱妾何聊生？” 虞姬歌罢，拔剑自刎。<br/><br/>　　第二天清早，项羽率领衷心追随他的最后八百壮士突出重围，来到乌江边。面对滔滔江水，乌江亭长对项羽说：“江东地方千里，民众数十万，足以称王。请大王速速渡江吧。”项羽眼望着大汉追兵的滚滚烟尘，苦笑着说，“当年我率领江东八千子弟兵渡江西征，而今一个人都没有回来。我无颜再见江东父老啦！”他把战马送给了乌江亭长，徒步与汉兵交战，力杀数百人，最后自刎身亡。<br/><br/>　　“虞兮一剑霸图空，原草千年带血红。子弟八千消灭尽，独留荒冢纪秋风。”西楚霸王就这样死了。在当年分封诸王、志得意满的时候，他可能不会想到，他根本就不是天命称帝之人。无论是雄才大略的秦始皇，还是拔山扛鼎的项羽，人力再大，也无可回天。<br/><br/>　　让我们在乌江边上，再把时间倒转八百年，回到商朝末年的渭水之滨。周文王在这里请到了元始天尊的弟子姜子牙，并以师礼视之。正是这位白发苍苍的姜子牙写下了中国历史上第一个系统预言－－《乾坤万年歌》，预言了从周代以后数千年的王朝兴替。对于周朝到汉朝的历史，姜子牙写道：“而今天下一统周。礼乐文章八百秋。串去中直传天下。却是春禾换日头。天下由来不固久。二十年间不能守。卯坐金头带直刀。削尽天下木羊首。”<br/><br/>　　第一句“而今天下一统周。礼乐文章八百秋”指周朝享有八百年的天下。第二句“串去中直传天下。却是春禾换日头。”其中“串去中直”是个字谜，谜底是“吕”，这里指大商人吕不韦暗中用自己的儿子篡夺了秦王天下之事（其事详见《史记 ．吕不韦列传》）。“春禾换日头”也是字谜，用“禾”换去“春”下的“日”，谜底是“秦”，表示秦国一统天下。秦国统一只有十几年，这就是第三句中所说的“天下由来不固久。二十年间不能守”。最后一句，“卯坐金头带直刀”也是个字谜，正是繁体的“刘”字。《史记． 项羽本纪》上也记载说，刘邦破了咸阳后，屯兵鸿门，范增对项羽说：“刘邦的云气五色斑斓，呈龙虎之状，这是天子的瑞气啊。必须马上杀掉他。”项羽于是设鸿门宴，欲杀刘邦，谁知王者不死，最后刘邦还是全身而退了。<br/><br/>　　诸葛亮：《马前课》<br/><br/>　　汉朝建立四百年，历经王莽篡汉、光武中兴，至东汉末年黄巾起义、董卓乱国，天下再度大乱，几十路诸侯拥兵自重、各霸一方。刘备寄居新野，兵不满千，将不过关、张、赵云，后得徐庶走马荐诸葛。三顾茅庐后，诸葛亮感刘备诚意，出山辅佐，大展经纶补天之手：联合孙权在赤壁打败曹操，接着席卷荆襄、夺取西川、东川，让刘备在西蜀称帝。<br/><br/>　　诸葛亮确有经天纬地之才，官方正史《三国志．诸葛亮传》上也记载着他“未出茅庐，先定天下三分”的宏论。后人在佩服他高瞻远瞩的战略眼光时，可能不会料到，他是个和姜子牙一样的预言家，并写下了中国历史上第二个系统预言身后朝代兴衰的《马前课》。该预言一共十四卦，每一卦讲述一个朝代。<br/><br/>　　清朝光绪年间，白鹤山的老和尚守元逐条破译了《马前课》中一直到光绪以前的预言。他破译的关于清朝的预言说：“水月有主，古月为君，十传绝统，相敬若宾”。守元和尚解释道：“‘水月有主’是个‘清’字，‘古月’是个‘胡’字，胡人为君，殆亦天数不可强欤？”随后他又自述道：“老僧生于嘉庆十年（公元1806年），今年八十有六，过此后不敢妄议。”如果这个老和尚再能等上十几年，就会亲眼看到1911年的辛亥革命，清朝最后一个皇帝宣统黯然退位，对这一课的解释就会完整了：“统”指“宣统”，“十传绝统”是指清朝从顺治入关称帝到宣统一共经历了十个皇帝。<br/><br/>　　对于清朝的预言是《马前课》的第九卦。第十卦就是关于中华民国的了。预言上说：“豕后牛前，千人一口”。“豕”是“猪”的意思，应在“辛亥年”，“千人一口”是个“和”字，应在宣统退位后，孙中山缔造了中华历史上的第一个共和国。<br/><br/>　　就在诸葛亮仙去以后，三分天下归于一统。随之而起的就是西晋的八王之乱，国力大衰。北方匈奴乘机而起，灭掉西晋，开始了北有五胡乱华，南有东晋偏安的百年混战，接下来就是征尘不断，长达一百六十年的南北朝对峙。公元581年，北周皇帝的岳父杨坚篡位后建立隋朝。二十六年以后，因隋炀帝奢侈无度、横征暴敛，李渊在太原起兵，同年攻破长安，一年以后隋朝终于被唐朝取代，应了《马前课》中的预言“十八男儿，起于太原”（“十八男儿”即“十八子”，为“李”字）。<br/><br/>　　李淳风和袁天罡：《推背图》<br/><br/>　　无论《乾坤万年歌》还是《马前课》，其预言之准确足以令人瞠目结舌，然而中华历史那悠久而博大精深的文化中，这样伟大的预言家竟然是每个朝代都出现一个！<br/><br/>　　李渊次子唐太宗李世民，是中国历史上最杰出的皇帝。他扫清七十二处狼烟，收伏一十八处蛮洞，改号武德，建文学馆以延一十八学士，造凌烟阁以绘二十三功臣，任用魏征、杜如晦、房玄龄等人为宰相，天下大治，四海升平。太宗皇帝手下的司天监李淳风和隐士袁天罡共同写下了《推背图》。<br/><br/>　　唐朝和五代年间，《推背图》在民间已极为流行。正史《旧唐书》记载：唐太宗看到一本《秘记》上说：“唐三世之后，则女主武王代有天下。”就召见李淳风，询问详情。李淳风回答说：“臣据像推算，其兆已成，而且此人就在陛下的宫中，身为您的眷属，三十年后当称帝，并诛戮您的子孙。”太宗说道：“那么把可疑的人都杀了，怎么样？” 李淳风回答说：“这是天命，无可祈禳回避，且王者不死，白白杀了很多无辜的人。三十年后，此人年纪大了，就会仁慈起来。现在如果杀了她，上天还会让她转生称帝，三十年后她正当壮年，性情更为狠毒，您的子孙就都会被她杀光了。”太宗觉得有理，就没有再追究下去。<br/><br/>　　李淳风随后将未来推算到了一千多年以后，并上呈太宗皇帝御览。预言以谶、颂和图的形式记录了下来。传说当李淳风推算到第59像的时候，他的好友袁天罡推了一下他的后背说：“天机不可泄漏，就推算到这里吧”。于是李淳风就把此事画作了最后一象，并题诗说：“茫茫天数此中求，世道兴衰不自由，万万千千说不尽，不如推背去归休。”这部预言也就因此称为《推背图》。<br/><br/>　　《推背图》中对于武则天称帝和安史之乱等的预言准确得几乎让人怀疑是后人在历史过后伪造的。现在我们来看一看最流行的版本－－清朝顺治年间的才子金圣叹亲手注释的《推背图》吧。<br/><br/>　　《推背图》第三十四象的谶语是“头有发，衣怕白，太平时，王杀王”，又有颂诗说：“太平又见血花飞，五色章成里外衣，洪水滔天苗不秀，中原曾见梦全非。”<br/><br/>　　1851年初，洪秀全在广东金田发动起义后，一路北伐，于1853年攻克南京，建国号“太平天国”，洪秀全称“天王”。1856年，太平天国发生内乱，执白旗的北王韦昌辉屠杀了东王杨秀清全家及其部下和士兵2万多人。随后，洪秀全又将韦昌辉及亲信200多人处死。《推背图》第三十四象就是对这段历史的预言。“头有发”指太平天国的民众留长发，但不按满清规定结辫，被称为“长毛”。“衣怕白”和“太平时，王杀王”“洪水滔天苗不秀”都喻指天王洪秀全让北王韦昌辉屠杀东王杨秀清之事。“五色章成裹外衣”：此句意指太平天国以五色旗为标志。“中原曾见梦全非”指太平天国最终败于曾国藩的湘军手下。<br/><br/>　　死于清朝初年的金圣叹当然无法批注这件他死后整整200年所发生的一系列大事，但李淳风和袁天罡何以对历史有如此深刻而准确的洞察力，却成了一个最大的谜团。似乎对他们这些跨越时空的先知来说，未来一览无遗。<br/><br/>　　邵雍：《梅花诗》<br/><br/>　　就在李淳风写下《推背图》大约250年以后，凶恶奸诈的大将军朱温废了唐昭宣帝，自己登基，改国号为梁，开始了50多年的五代十国时期，到公元960年，赵匡胤陈桥兵变，黄袍加身，建立了又一个大一统的王朝--大宋。50多年以后，到北宋真宗四年，在河北诞生了一代伟大的易学家邵雍，他以十首诗预言了身后直至今天的历史大事，总名《梅花诗》。<br/><br/>　　宋朝是中国所有统一王朝中最弱的一个。北宋刚刚建国就向辽国割让了燕云十六州。北宋末年，女真族人崛起，打败辽国后在黄龙府建立了金国。公元1125年，金国平灭辽国，随后就把兵锋直指大宋，两年以后在靖康俘虏了宋朝的徽钦二帝。这就是岳飞在《满江红》中提到的“靖康耻”。钦宗的弟弟康王赵构泥马渡江，在南京建立了南宋政权，后迁都杭州。大约150年后，南宋被忽必烈的铁骑征服。公元1279年，陆秀夫背着南宋小皇帝赵丙投海而死，其他随身将士和皇妃也都被飓风淹没在大海中。对于这段历史，《梅花诗》中以“山河虽好非完璧，不信黄金是祸胎”以及 “三百年来终一日，长天碧水叹弥弥”来预言。其中“山河虽好非完璧”指北宋割让燕云十六州之事；“黄金”者，定都黄龙府的大金是也。“三百年来终一日”指北宋在公元960年建立政权，至公元1279年灭亡，共享国祚300多年。“长天碧水叹弥弥”喻赵丙投海而死。<br/><br/>　　刘伯温：《烧饼歌》<br/><br/>　　忽必烈定都北京，建立元朝，灭亡大宋后又享国祚70年，至公元1367年被明太祖朱元璋所灭。朱元璋改元洪武，定都南京，开始了中国历史上的最后一个汉族统治的封建王朝--大明朝。明太祖手下的大谋士刘伯温也是个预言家。有一次太祖正在吃烧饼，刚刚咬了一口，内监报告刘伯温求见。太祖就把烧饼扣在一个碗下，然后让伯温进来。太祖问伯温：“先生深明数理，可知碗中是何物件？”。伯温掐指一算，说道：“半似日兮半似月，曾被金龙咬一缺，这是个烧饼啊。”太祖大惊，没有想到刘伯温的推算其验如神，就开始向他询问身后大事。君臣彼此问答，一直讲到今天历史上将要发生的大事，这就是《烧饼歌》。<br/><br/>　　纵观中国历史，似乎隐藏着一个天大的秘密。从周朝的《乾坤万年歌》，汉朝的《马前课》，唐朝的《推背图》，宋朝的《梅花诗》，再到明朝的《烧饼歌》，每一个汉人统治的长治久安的朝代都会给我们留下一个准确而系统的预言。更为神秘的是，从周朝的姜子牙，汉朝的张良，唐朝的徐懋功、李靖，宋朝的苗光义，再到明朝的刘伯温，每一个真命天子的身边谋臣又都是道士。<br/><br/>　　中国啊，这片被称为“神州”的神秘土地，难道真是神选中的土地，以那一个个精心策划的预言为蓝本，在这里上演了三千多年蓝天为幕，黄土为台的历史剧吗？他难道仅仅是为了教导我们“纷纷世事无穷尽，天数茫茫不可逃”，还是警示我们神以他无边的法力智慧操纵着历史前行的每一个脚步？<br/><br/>　　“神走了，神还会回来。”难道神真的走了吗？还是他化作和我们一样的人一次次乘愿而来，帮我们书写历史，一步步地带着我们走向一件最后注定要发生的惊天动地的历史大事？<br/><br/>　　限于篇幅，对于秦汉以下的历史都是一带而过，没有展开去讲。对于每一则预言，也只解释了其中很有限的部份，主要集中在该预言已经在社会上大面积流传后发生的历史大事对预言的应验，所以读者可能会发现整个文章描述的历史年代会有跳跃。<br/><br/>　　每个朝代一个系统预言的现象，却是非常发人深思的。这种现象在其他文明古国都没有，这就尤其显出中国文化的特殊来。尤其是这些预言对于时间、地点和人物的预测又与历史几乎没有任何出入，这种跨越时空的先知难道不是比高科技还要高科技吗？<br/><br/><br/>　　本文来自神州智慧网(http://www.szzh9.com)<br/>　　详文参考：http://www.szzh9.com/a/shengming/dingshu/2012/0606/28573.html<br/><br/>\n",
      "</div>\n",
      "<div class=\"clearfix\" id=\"alt_action\"></div>\n",
      "<div class=\"clearfix\">\n",
      "<div class=\"host-data\">\n",
      "<span>楼主发言：1次</span> <span>发图：0张</span>\n",
      "</div>\n",
      "<div class=\"atl-reply\" id=\"alt_reply\">\n",
      "<a author=\"空00012\" authorid=\"68560712\" class=\"reportme a-link\" href=\"javascript:void(0);\" replyid=\"0\" replytime=\"2012-06-18 18:30:00\"> 举报</a> | \r\n",
      "\t\t\t\t\t\t\t<a class=\"a-link acl-share\" href=\"javascript:void(0);\">分享</a> |  \r\n",
      "\t\t\t               \t<a class=\"a-link acl-more\" href=\"javascript:void(0);\">更多</a> |\r\n",
      "\t\t\t\t\t\t\t<span><a class=\"a-link\" name=\"0\">楼主</a></span>\n",
      "<a _name=\"空00012\" _time=\"2012-06-18 18:30:00\" class=\"a-link2 replytop\" href=\"#fabu_anchor\">回复</a>\n",
      "</div>\n",
      "</div>\n",
      "<div id=\"ds-quick-box\" style=\"display:none;\"></div>\n",
      "</div>\n",
      "<div class=\"atl-con-ft clearfix\">\n",
      "<div class=\"atl-con-ft-l\"></div>\n",
      "<div class=\"atl-con-ft-r\"></div>\n",
      "<div id=\"niuren_ifm\"></div>\n",
      "</div>\n",
      "</div>\n",
      "</div>\n"
     ]
    }
   ],
   "source": [
    "print pa[0]"
   ]
  },
  {
   "cell_type": "code",
   "execution_count": 38,
   "metadata": {
    "collapsed": false
   },
   "outputs": [
    {
     "name": "stdout",
     "output_type": "stream",
     "text": [
      "<!DOCTYPE HTML>\n",
      "<html>\n",
      " <head>\n",
      "  <meta charset=\"utf-8\"/>\n",
      "  <title>\n",
      "   2012预言参考(转载)_天涯杂谈_天涯论坛\n",
      "  </title>\n",
      "  <meta content=\"2012预言参考(转载)　　惊人的中国五千年预言时间:2012-06-06 14:18来源:转载 作者:佚　　纵观中国历史，似乎隐藏着一个天大的秘密。从周朝的《乾坤万年歌》，汉朝的《马前课》，唐朝的《推背图》，宋朝的《梅花诗》，再到明朝的《烧饼歌》，每一个汉人统治的长治久安的朝代都...\" name=\"description\"/>\n",
      "  <meta content=\"IE=EmulateIE9\" http-equiv=\"X-UA-Compatible\"/>\n",
      "  <meta content=\"空00012\" name=\"author\"/>\n",
      "  <meta content=\"format=xhtml; url=http://bbs.tianya.cn/m/post-free-2592413-1.shtml\" http-equiv=\"mobile-agent\"/>\n",
      "  <link href=\"http://static.tianyaui.com/global/ty/TY.css\" rel=\"stylesheet\" type=\"text/css\"/>\n",
      "  <link href=\"http://static.tianyaui.com/global/bbs/web/static/css/bbs_article_c55fffc.css\" rel=\"stylesheet\" type=\"text/css\"/>\n",
      "  <link href=\"http://static.tianyaui.com/favicon.ico\" rel=\"shortcut icon\" type=\"image/vnd.microsoft.icon\"/>\n",
      "  <link href=\"http://bbs.tianya.cn/post-free-2592413-2.shtml\" rel=\"next\"/>\n",
      "  <script type=\"text/javascript\">\n",
      "   var bbsGlobal = {\r\n",
      "\tisEhomeItem : false,\r\n",
      "\tisNewArticl\n"
     ]
    }
   ],
   "source": [
    "print (post_soup.prettify())[:1000]"
   ]
  },
  {
   "cell_type": "code",
   "execution_count": 39,
   "metadata": {
    "collapsed": false
   },
   "outputs": [
    {
     "name": "stdout",
     "output_type": "stream",
     "text": [
      "<div _host=\"%E7%A9%BA00012\" class=\"atl-item\" id=\"2\" js_restime=\"2012-06-19 14:21:18\" js_username=\"%E7%A9%BA00012\" replyid=\"78886650\">\n",
      "<div class=\"atl-head\" id=\"54fbbc9443e2899047ee2efec26f694a\">\n",
      "<div class=\"atl-head-reply\"></div>\n",
      "<div class=\"atl-info\">\n",
      "<span><strong class=\"host\">楼主</strong>：<a class=\"js-vip-check\" href=\"http://www.tianya.cn/68560712\" target=\"_blank\" uid=\"68560712\" uname=\"空00012\">空00012</a> </span>\n",
      "<span>时间：2012-06-19 14:21:18</span>\n",
      "</div>\n",
      "</div>\n",
      "<div class=\"atl-content\">\n",
      "<div class=\"atl-con-hd clearfix\">\n",
      "<div class=\"atl-con-hd-l\"></div>\n",
      "<div class=\"atl-con-hd-r\"></div>\n",
      "</div>\n",
      "<div class=\"atl-con-bd clearfix\">\n",
      "<div class=\"bbs-content\">\r\n",
      "\t\t\t\t\t\t\t　　警世预言：《陕西太白山刘伯温碑记》<br/><br/>　　来源：转帖 发布时间：2011-11-23 作者： <br/><br/><br/>　　天有眼，地有眼，人人都有一双眼，<br/><br/>　　天也翻，地也翻，逍遥自在乐无边，<br/><br/>　　贫者一万留一千，富者一万留二三，<br/><br/>　　贫富若不回心转，看看死期在眼前；<br/><br/>　　平地无有五谷种，谨防四野绝人烟，<br/><br/>　　若问瘟疫何时现，但看九冬十月间，<br/><br/>　　行善之人得一见，作恶之人不得观，<br/><br/>　　世上有人行大善，遭了此劫不上算，<br/><br/>　　还有十愁在眼前：<br/><br/>　　一愁天下乱纷纷，二愁东西饿死人，<br/><br/>　　三愁湖广遭大难，四愁各省起狼烟，<br/><br/>　　五愁人民不安然，六愁九冬十月间，<br/><br/>　　七愁有饭无人食，八愁有人无衣穿，<br/><br/>　　九愁尸体无人捡，十愁难过猪鼠年，<br/><br/>　　若得过了大劫年，才算世间不老仙，<br/><br/>　　就是铜打铁罗汉，难过七月初一十三，<br/><br/>　　任你金刚铁罗汉，除非善乃能保全，<br/><br/>　　谨防人人艰难过，关过天番龙蛇年；<br/><br/>　　幼儿好似朱洪武，四川更比汉中苦，<br/><br/>　　大狮吼如雷，胜过悼百虎，<br/><br/>　　犀牛现出尾，平地遇猛若，<br/><br/>　　若问大平年，架桥迎新主，<br/><br/>　　上元甲子到，人人哈哈笑，<br/><br/>　　问他笑什么？迎接新地主，<br/><br/>　　上管三尺日，夜无盗贼难，<br/><br/>　　虽是谋为主，主坐中央土，人民喊真主；<br/><br/>　　银钱是个宝，看破用不了，<br/><br/>　　果然是个宝，地下裂不倒，<br/><br/>　　七人一路走，引诱进了口，<br/><br/>　　三点加一勾，八王二十口，<br/><br/>　　人人喜笑，个个平安。<br/><br/>　　现试解如下：<br/><br/>　　“天有眼，地有眼，人人都有一双眼，天也翻，地也翻，逍遥自在乐无边。”<br/><br/>　　解：天理昭彰，人类历史的发展从来都是依照宇宙的演化规律在演变，而不以人们的意志为转移，人类的行为也逃不过宇宙法理的衡量（天有眼，地有眼）。因此人人又都应该以宇宙法理的善恶标准来约束自己，具有一双分辨善恶的眼睛。目前人类世风日下，道德水准在一日千里下滑，人类会发生翻天（天候异常：冰灾、雪灾、水灾、风灾、酷热、极寒）覆地（地陷、地裂、地震、火山、洪水、大陆板块移动）的变化。<br/><br/>　　“贫者一万留一千，富者一万留二三，贫富若不回心转，看看死期在眼前。”<br/><br/>　　解：这场末法大劫难，主要是以大瘟疫出现。在这场瘟疫中一万个穷人中会死去 9000人，留下1000人，而一万个富人中只能留下二、三个人。这与十六世纪韩国的著名预言书《格庵遗录》中提到的，末法时期人类如不醒悟，将在“怪疾”中毁灭，“十户难剩一”的说法不谋而合。这里的穷人是指平民百姓；富人是指达官贵人，又往往是干下伤天害理之事，当然更是难过此劫。然而无论贫富，只有“回心转”意，弃恶归善，就有可能得救，否则只能是“看看死期在眼前”。究竟是什么事，使得连平民百姓都会犯下大罪，而遭此天谴呢？ “回心转”是什么意思？如何转？<br/><br/>　　“平地无有五谷种，谨防四野绝人烟，若问瘟疫何时现，但看九冬十月间。”<br/><br/>　　解：大瘟疫发起于某年的九、十月份（阴历）。结果将是“平地无五谷，四野绝人烟”。<br/><br/>　　“行善之人得一见，作恶之人不得观，世上有人行大善，遭了此劫不上算。”<br/><br/>　　解：这场劫难来势凶猛，“作恶之人”恐怕连后悔的机会都没有，就被淘汰了。而“行善之人”可以目睹这一切。这末法乱世，有人在“行大善”，不抹去身上兽的印记，因而稀里糊涂的陪葬，真是“不上算”。<br/><br/>　　“还有十愁在眼前，一愁天下乱纷纷，二愁东西饿死人，三愁湖广遭大难，四愁各省起狼烟，五愁人民不安然，六愁九冬十月间，七愁有饭无人食，八愁有人无衣穿，九愁尸体无人检，十愁难过猪鼠年。”<br/><br/>　　解：这场劫难还会给人带来十大愁事：天下大乱，饥荒，“湖广遭大难”(可能是指水灾)，各省可能都会有乱事，百姓惶惶不可终日，还有九冬十月间发起的大瘟疫，瘟疫导致死人太多而“有饭无人食”， “尸体无人检”。“猪鼠年”是2007和2008年。<br/><br/>　　韩国预言《格庵遗录》在描述这次大劫难时说：“积尸如山毒疾死”；“六角千山鸟飞绝，八人万径人迹灭”。刘伯温在《金陵塔碑文》中从另一角度提到大瘟疫发生时的景象：“父母死，难埋葬，爹娘死，儿孙扛，万物同遭劫，虫蚁亦遭殃”。<br/><br/>　　“若得过了大劫年，才算世间不老仙；就是铜打铁罗汉，难过七月初一十三，任你金刚铁罗汉，除非善乃能保全，谨防人人艰难过，关过天番龙蛇年。”<br/><br/>　　解：不管你是世间凡人，还是金刚罗汉，只有好自为之，奉行真善，过了某年的七月初一、十三，和某“龙蛇年”（龙蛇年是2012 和2013年），才是真正的过了难关。为什么过了“龙蛇年”才是真正的过了难关？<br/><br/>　　这里刘伯温所看到的与数千年前玛雅人预测到的又走到一起了。据《玛雅预言》，古代玛雅人，以其令人惊叹的精确完善的历法运算，预测到太阳系在银河系季候中经历了5125年（从公元前3113年至公元2012年冬至日）的“大周期”后，太阳将与银河系的黄道(Ecliptic)和赤道(Equator)所形成的交叉点完全重合，此后地球将走出银河射线（光子带）的范围而进入“与银河系同步”的新阶段，人类将进入与本次文明毫无关系的一个全新的文明。<br/><br/>　　从西元1992年到2012年为“大周期”的最后一个演化期，玛雅人称之为“地球更新期”，在“地球更新期”这20年中，地球将被净化，人心也会被净化，腐败物要被完全剔除被淘汰，而好的健康的则将会被留下来并最终与银河系同步。由此可见大劫难只是地球全面净化的开始，抹去了身上的兽记，在这场大劫难中就能幸存下来，进入人类最美好的全新的未来。<br/><br/>　　“幼儿好似朱洪武，四川更比汉中苦，大狮吼如雷，胜过悼百虎，犀牛现出尾，平地遇猛若。”<br/><br/>　　解：可能是指中国出现的新的领袖人物，这人经神许可并得神帮助，势如猛狮，战胜旧恶势力，掌管天下。届时，天地还会现出异象。<br/><br/>　　“若问大平年，架桥迎新主，上元甲子到，人人哈哈笑，问他笑什么？迎接新地主，上管三尺日，夜无盗贼难，虽是谋为主，主坐中央土，人民喊真主。”<br/><br/>　　解：大劫难后发生的事。大劫难决不是世界未日、地球毁灭了，大劫难后人类将迎来太平盛世，开始新的历史纪元，所谓“上元甲子”。人民从内心赞颂“真主”。<br/><br/>　　“银钱是个宝，看破用不了，果然是个宝，地下裂不倒。七人一路走，引诱进了口，三点加一勾，八王二十口。”<br/><br/>　　解：预言之所以很隐讳，还因为其表面有一层意思，而其内部还藏有另一层意思。这里主要是破解其藏有的“字谜”，破解古代预言的“字谜”要用繁体字。<br/><br/>　　“七人一路走，引诱进了口”是“真”字。“真”字上面一横一撇象个反写的“七”，最下面一撇一捺是“人”，人上面是“一”，这是“七人一路走”；“一”上面连着那个“目”字里面多一横，“目”外围是一个大口，里边三横可拆分成七个小口，这就是“引诱进了口”。<br/><br/>　　“三点(丶)加一勾(乚)”，是“心”字。<br/><br/>　　“八王二十口”是“善”字：上面是个倒写的“八”，下面是“王”，再下面是中文数字“廿”，最下面是个“口”。<br/><br/>　　“七人一路走，引诱进了口，三点加一勾，八王二十口，”连起来就是“真心向善”之意。只有真心向善，才能保全自身，远离危险。<br/><br/>　　“人人喜笑，个个平安，人人可观，个个可传，有人印送，勿取金钱，行善者可保，作恶者难逃，敬重天地神明父母，惜字纸五谷，谨当切记。”<br/><br/>　　解：地球全面净化，进入全新的未来。<br/><br/>　　早在六百年前，刘伯温向人发出了警告，被他看到了即将到来的这场大劫难和如何破解。<br/><br/>　　玄奇的是，这预言被隐藏了几百年后才在一场地震中被震出，几年前才流传于民间。<br/>\n",
      "</div>\n",
      "<div class=\"atl-reply\">\n",
      "<a author=\"空00012\" authorid=\"68560712\" class=\"reportme a-link\" href=\"javascript:void(0);\" replyid=\"78886650\" replytime=\"2012-06-19 14:21:18\">举报</a> |\r\n",
      "\t\t\t\t\t\t\t\t\t\t\t\t\t\t\r\n",
      "\t\t\t\t\t\t\t<span>2楼</span> |\r\n",
      "\t\t\t\t\t\t\t<a class=\"a-link-2 ir-shang\" floor=\"2\" href=\"javascript:void(0);\" title=\"打赏层主\">\r\n",
      "\t\t\t\t\t\t\t\t打赏\r\n",
      "\t\t\t\t\t\t\t</a> |\r\n",
      "\t\t\t\t\t\t\t<a class=\"a-link-2 reply\" href=\"#fabu_anchor\" title=\"引用回复\">回复</a> |\r\n",
      "\t\t\t\t\t\t\t<a _stat=\"/stat/bbs/post/评论\" class=\"a-link-2 ir-remark\" floor=\"2\" href=\"javascript:void(0);\" title=\"插入评论\">\r\n",
      "\t\t\t\t\t\t\t\t评论\r\n",
      "\t\t\t\t\t\t\t</a>\n",
      "</div>\n",
      "</div>\n",
      "<div class=\"atl-con-ft clearfix\">\n",
      "<div class=\"atl-con-ft-l\"></div>\n",
      "<div class=\"atl-con-ft-r\"></div>\n",
      "</div>\n",
      "</div>\n",
      "</div>\n"
     ]
    }
   ],
   "source": [
    "print pa[1]"
   ]
  },
  {
   "cell_type": "code",
   "execution_count": 40,
   "metadata": {
    "collapsed": false
   },
   "outputs": [
    {
     "name": "stdout",
     "output_type": "stream",
     "text": [
      "<div _host=\"%E7%A9%BA00012\" class=\"atl-item\" id=\"11\" js_restime=\"2012-06-19 14:30:46\" js_username=\"%E7%A9%BA00012\" replyid=\"78886674\">\n",
      "<div class=\"atl-head\" id=\"49ba22da6d7411b992461a9d68146e64\">\n",
      "<div class=\"atl-head-reply\"></div>\n",
      "<div class=\"atl-info\">\n",
      "<span><strong class=\"host\">楼主</strong>：<a class=\"js-vip-check\" href=\"http://www.tianya.cn/68560712\" target=\"_blank\" uid=\"68560712\" uname=\"空00012\">空00012</a> </span>\n",
      "<span>时间：2012-06-19 14:30:46</span>\n",
      "</div>\n",
      "</div>\n",
      "<div class=\"atl-content\">\n",
      "<div class=\"atl-con-hd clearfix\">\n",
      "<div class=\"atl-con-hd-l\"></div>\n",
      "<div class=\"atl-con-hd-r\"></div>\n",
      "</div>\n",
      "<div class=\"atl-con-bd clearfix\">\n",
      "<div class=\"bbs-content\">\r\n",
      "\t\t\t\t\t\t\t　　陨星坠凉雍，何事旋将至<br/><br/>　　来源：转帖 发布时间：2012-5-3 作者： <br/><br/><br/>　　2月11日中午13时40分，几百块陨石从天而降，落在青海省西宁市湟中县境内，这是新中国成立以来我国境内出现的第二大陨石雨。<br/><br/>　　陨石雨也称流星雨，当星际物质或轨道特殊一点的个别小行星接近地球时，有时会进入大气层，并与大气发生剧烈的撞击、磨擦，生热、燃烧、发光，这就是我们所看到的流星，只不过其中大多在进入地球大气层时就燃烧完了，如果没有燃烧完，落在地面，则称为陨石。按现代科学的研究，陨石是来自地球以外太阳系其他天体的碎片，绝大多数来自位于火星和木星之间的小行星，少数来自月球和火星。全世界目前已收集到4万多块陨石样品，大致可分为三大类：石陨石（主要成分是硅酸盐)、铁陨石（铁镍合金）和石铁陨石（铁和硅酸盐混合物）。<br/><br/>　　《史记·天官书》中说：“星坠至地，则石也。”在古人的占星中，对流星的星占，通常与其在天空中的位置和飞行轨迹等有关，流星如果落到地面还未燃烧尽，则成为陨石，这在古人看来，其兆更为凶险——“因易主则星坠，国有大凶……”陨星从天而落，根据古人天人相应原理，人间必有重要人物陨落或重大灾难出现。<br/><br/>　　宇宙本就是全息一体的，其实，每个时代天上都会有一值星，相对应地，人间也会有一位德士值天督人，他不一定主政预事，只德载于世，镜馈实情于天，天周以应，天象以呈，或瑞，或警，主事者观而知失，屑而灾集。今人不究天文，当然无以明地理，不究其源，只重表象，又自以为是，不肯虚心向前人和历史学习，当然也就不能准确预报地震火山洪水干旱地陷等自然现象，更惶论自身的反省、忏悔与及时改过了。人间万物及日月均起于牵牛星（万物之“物”，其部首正从牛），从牵牛星左转，止于北斗。日月起于此，故天地间的一切术数、劫数、运数的变化皆起于此，并能在牛星间找到征候。其实，先人早已将银河结构和天体运行谙熟于胸，所以才定下河图为银河之图以示后人，并以太极八卦表示其理，只是今之学人太愚痴又太自大，为物质所羁，被科学所迷，被体制所缚，不愿认真地做学问，虚心求教于古人和他人，才落得“砖家叫兽”遍地皆是，但真才大德者却凤毛麟角，不招老百姓待见之窘象，实乃学者与民族之悲哀也。<br/><br/>　　2月26日，西方天空中金木双星拱月，有人言当时之象非常像一只钟，是不是老天爷准备要给某些人敲的警钟？2月28日晚，天空中血月现（更确切地说，当时是红月，而非血月，所以情况没有下面说的那么严重），血月者，凶兆也，往往预示着荒，战，冤，邪，《古兰经》言其乃**之前兆。中国古人认为：红色月亮为至阴至寒之相，兆示人间正气弱，邪气旺，怨气盛，戾气强，风云剧变，山河悲鸣，天下动荡，火光四起，故称血月；欧洲人认为，血月会唤醒黑暗魔力；印度人也认为，血月通常预示着灾难。最近几天，地象亦呈异象，继湖南益阳出现600多处塌陷后，安徽、上海、杭州、北京等地也纷纷出现路面塌陷等地质事件，大自然的警钟已经敲响了！<br/><br/>　　新中国后的三次陨石雨<br/><br/>　　1976年3月8日（农历二月八日）15时，东北吉林省吉林市遭遇新中国第一次最大型的陨石雨，覆盖面积接近500平方公里，掉下了全世界世界最大最重的石陨石——1号陨石（1770公斤，名列世界单块陨石重量之最，毛泽东闻讯后认为此象乃自己快要逝世之标志），当年正好是龙年——该年，朱毛先后去世（周去世尽管已进入1976年，但当时仍为兔年）；唐山突发7.8级大地震，24万同胞魂归九泉……<br/><br/>　　1997年2月15日（农历正月初九）23时25分，山东荷泽市鄄城县爆发了一场小型的陨石雨，覆盖面积约15平方公里——1997年2月19日，邓在香港回归前逝世；1997和1998年，中国境内遭遇连续两年的特大洪水灾害……<br/><br/>　　2012年2月11日（农历正月二十）13时40分，青海省西宁市湟中县境内降下新中国成立以来境内出现的第二大陨石雨，覆盖面积接近100平方公里——……<br/><br/>　　注：和谐年代，望大家不要刻意附会，胡乱意淫，最好远离政治是非，少给自己惹麻烦；也不要充当神棍，四处造谣，惟恐天下不乱，给自己留下罪业。我们不妨抱着敬畏、景仰与学习的姿态，看看中国传统文化能否再次证明其伟大与神奇！<br/><br/>　　神州文化有时就是这么神，这里不妨说个小故事：懂点历史典故的人都知道，老北京天安门前有正东西三门———中为正阳门、东为崇文门、西为宣武门（如今还保存有城楼的就只剩下正阳门了，最近北京又打算复建6座建国后被拆毁的城楼和标志，包括右安门外城西南角楼、永定门瓮城及箭楼、左安门外城东南角楼、天桥地表标志、内城西南角楼、地安门雁翅楼，这里面其实很有玄机和看头，知者不言），恰恰预示了元明清三个朝代的灭亡时间和要因——元江山之失，年号至正；明社稷之亡，年在崇祯；清国祚之移，号曰宣统。简言之，元亡于至正年间，含正阳门之“正”；明亡于崇祯年间，含崇文门之“崇”（以文臣庸暗而亡）；清亡于宣统年间，含宣武门之“宣”（以发难于武人而亡）。以上帝都城门之谶，纯属巧合，今人可一笑而过，不必太当真，不可太认真。<br/><br/>　　天上一星，地上一丁？<br/><br/>　　1615年，即明万历43年，广西南丹降下陨石雨，该年大旱三月（今年云南的大旱是天象？是当地人为？还是美国人的气象武器？水不在地，则必在天，而天水如龙下凡之日，祸则大矣！还有一句俗语是，大旱之后有大震，虽说不是百分之百，但发生的几率还是比较高的）各地盗贼群起，大型地震频发；次年（1616年）适逢龙年，在大明朝廷忙着赈济灾民的时候，各地起义频发，清太祖努尔哈赤即位。<br/><br/>　　1872年3月12日，大清“中兴名臣”曾国藩去世。据说其去世的前一天晚上，金陵的街道上，有很多行人看见一颗大星从上空弧线滑落，不由大惊失色，一时议论纷纷。当时正史亦有记载，言当地的消防局在城外方向看到火光闪闪，以为城外起火，派出消防队前去救火，但到了那个方向去查过后，却发现什么也没有。<br/><br/>　　2005年1月，前中共中央总书记赵紫阳逝世前后，西北兰州方向的天上也掉下了陨石，当时国内媒体也广为报道，但该陨石有点怪，轰隆隆划过了天空，派人去找却什么也没找到，有人说这暗合了赵紫阳的命运。<br/><br/>　　2004年6月5日，美国总统里根逝世的那天夜晚，华盛顿上空出现了难以解释的亮光，照亮了天空，当时有电视监控录像为证，的确非常亮，把地上照得如同白昼，闪烁了几次，但科学家一直没有找到光源。……<br/><br/>　　岁星耀，知改自缓，狂纵必灾<br/><br/>\n",
      "</div>\n",
      "<div class=\"atl-reply\">\n",
      "<a author=\"空00012\" authorid=\"68560712\" class=\"reportme a-link\" href=\"javascript:void(0);\" replyid=\"78886674\" replytime=\"2012-06-19 14:30:46\">举报</a> |\r\n",
      "\t\t\t\t\t\t\t\t\t\t\t\t\t\t\r\n",
      "\t\t\t\t\t\t\t<span>11楼</span> |\r\n",
      "\t\t\t\t\t\t\t<a class=\"a-link-2 ir-shang\" floor=\"11\" href=\"javascript:void(0);\" title=\"打赏层主\">\r\n",
      "\t\t\t\t\t\t\t\t打赏\r\n",
      "\t\t\t\t\t\t\t</a> |\r\n",
      "\t\t\t\t\t\t\t<a class=\"a-link-2 reply\" href=\"#fabu_anchor\" title=\"引用回复\">回复</a> |\r\n",
      "\t\t\t\t\t\t\t<a _stat=\"/stat/bbs/post/评论\" class=\"a-link-2 ir-remark\" floor=\"11\" href=\"javascript:void(0);\" title=\"插入评论\">\r\n",
      "\t\t\t\t\t\t\t\t评论\r\n",
      "\t\t\t\t\t\t\t</a>\n",
      "</div>\n",
      "</div>\n",
      "<div class=\"atl-con-ft clearfix\">\n",
      "<div class=\"atl-con-ft-l\"></div>\n",
      "<div class=\"atl-con-ft-r\"></div>\n",
      "</div>\n",
      "</div>\n",
      "</div>\n"
     ]
    }
   ],
   "source": [
    "print pa[10]"
   ]
  },
  {
   "cell_type": "code",
   "execution_count": 41,
   "metadata": {
    "collapsed": false
   },
   "outputs": [
    {
     "name": "stdout",
     "output_type": "stream",
     "text": [
      "惊人的中国五千年预言时间:2012-06-06 14:18来源:转载 作者:佚　　纵观中国历史，似乎隐藏着一个天大的秘密。从周朝的《乾坤万年歌》，汉朝的《马前课》，唐朝的《推背图》，宋朝的《梅花诗》，再到明朝的《烧饼歌》，每一个汉人统治的长治久安的朝代都会给我们留下一个准确而系统的预言。更为神秘的是，每一个真命天子的身边谋臣又都是道士。　　推背图第六象（维基百科）　　纵观中国历史，似乎隐藏着一个天大的秘密。从周朝的《乾坤万年歌》，汉朝的《马前课》，唐朝的《推背图》，宋朝的《梅花诗》，再到明朝的《烧饼歌》，每一个汉人统治的长治久安的朝代都会给我们留下一个准确而系统的预言。更为神秘的是，从周朝的姜子牙，汉朝的张良，唐朝的徐懋功、李靖，宋朝的苗光义，再到明朝的刘伯温，每一个真命天子的身边谋臣又都是道士。　　这似乎是每一个古老民族留给我们的共同神话，也是千古以来最神秘的预言。神何时回来？在这段等神归来的日子里，人类社会将发生什么？一个个古老的文明就这样给我们留下了中间这段巨大的空白。也许我们还需要从中原这片神秘的土地和她详尽的史料、绵绵不绝的文明历程中寻找答案。　　“今年祖龙死”　　公元前210年，十月。旌旗蔽日，车马辚辚，秦始皇率领着他庞大的文武百官和侍从队伍离开咸阳，踏上了第五次巡行天下的征途。当秦始皇最后回望咸阳城那巍巍宫殿的时候，他不会想到：这一去，他就再也回不来了。　　一年前秋天的夜晚，秦始皇的一位使者经过华阴平舒道，一个人手持玉璧拦住他的去路说，“请替我把这块玉璧交给始皇。”又趁便说道：“今年祖龙死。”使者很奇怪，正要问个究竟，这人把玉璧放在地上就不见了。使者带着玉璧回到咸阳，把事情经过报告给始皇，始皇默然良久，后命人到御府一查，发现这块玉璧竟然是八年以前他出巡渡江时沉入水中的那块儿。　　车马在寒冬的风中缓缓前行，苍茫大地，衰草枯杨。曾经威武刚烈的秦始皇如今已近油尽灯枯。回想当年一统天下、叱咤风云的豪情，始皇的心中恐怕也不能不感叹人生的短暂。在死神面前，人实在是太微渺了。他想起了那因为谏阻他活埋儒生而被发配到上郡和蒙恬一起镇守边关的长子扶苏，就写下诏命给扶苏说：“请回咸阳治丧。”始皇可能终于想通了那句莫名其妙的“今年祖龙死”到底是什么意思。“龙”者，被称为真龙天子的皇帝是也。“祖” 者，始祖是也。“祖龙”不就是指他秦始皇吗？　　大限已到，不可一世的秦始皇就这样死了。他所最宠信宠爱的三个人－－小儿子胡亥、丞相李斯和郎中令赵高立即就背叛了他。他们篡改诏书，命令扶苏和蒙恬自杀，并扶立胡亥为帝，这就是秦二世。　　“亡秦者胡也”　　秦二世是个只知吃喝享乐的花花公子，不但没有秦始皇的雄才大略，其奢侈荒淫犹有过之。就在秦二世元年七月（公元前209年），陈胜吴广在大泽乡揭竿而起，天下百姓群起而响应。原来的六国诸侯后代纷纷复国，刘邦和项羽也各自拉起了一支人马。　　二世三年，秦王朝的天下早已支离破碎。赵高这个祸国殃民的太监，蒙蔽了秦二世整整三年，耍弄权术整整三年，安享富贵也整整三年。如今大势已去，赵高深恐二世追究他的罪恶，在耍弄了一个“指鹿为马”的游戏后，命阎乐在望夷宫刺死了二世。随后，赵高召集诸位公子和大臣说，“秦国本来是个诸侯国，因为始皇统一了天下，所以称帝。现在六国纷纷复国，秦国的地盘是越来越小了，再顶着个皇帝的空名儿不合适，还是称王吧。”　　就这样，赵高立了子婴为秦王。秦始皇要传之子孙，万世不绝的帝位就画上了句号。这又应验了一句曾让秦始皇寝食难安的预言－－ “亡秦者胡也”。那是在秦始皇称帝六年，正当春秋鼎盛时，被派出去寻仙访道的卢生带回的谶讳：“亡秦者胡也。”始皇认为定然是胡人匈奴为患，于是命大将蒙恬率领三十万大军北击匈奴，并开始修筑万里长城。谁知天道玄远，若隐若现，预言的实际意思是，“秦王朝将亡于二世胡亥之手。”　　《史记．秦始皇本纪》中记载的这两则预言，其准确程度已经让人叹为观止。但是且慢，中华民族的智慧似乎要在这一点上一再展现出她的神秘不凡来。　　姜子牙：《乾坤万年歌》　　就在二世死前的几个月，秦国著名将领章邯统领三十万大军在黄河以北的巨鹿城围住了刚刚复国的赵王歇。章邯本人身经百战，手下又有英勇善战的名将苏角，足智多谋的名将王离，兵强马壮，粮草丰足。前来救援赵国的诸侯结成十几座营垒，却没有一人敢与秦军决战。　　就在这时，项羽挺身而出，和楚军一起抱着“此次决战，不胜则死”的决心渡过黄河。随后破釜沉舟，烧毁军营，只带着三天的干粮，向秦军冲去。项羽身穿红色战袍，骑乌骓马，手持长戟，带头冲锋陷阵，当者披靡。虽然秦军有三十万之众，而楚军只有七万，但装备精良、久经战阵的秦军做梦也没有想到，项羽的军队作战英勇，气势如虹。身穿黑衣的秦军，很快被身穿红袍的楚军分割、包围、歼灭。战鼓之声惊天动地。那些做壁上观的诸侯军队一个个伸出舌头、屏住呼吸，看着这场极其惨烈的战斗。狭路相逢勇者胜，从来没有打过败仗的苏角兵败身亡，全军覆没。项羽命令士兵饱餐一顿之后继续进攻。楚军一路兵不留行，长驱直入，锐不可挡，九战九胜，生擒王离，章邯大败而逃。　　项羽随后召诸侯相见，大家都跪在地下爬着进去，连头也不敢抬起来，并颂扬项羽说“上将军的神威真了不起，自古到今没有第二个。我们情愿听从您的指挥。”诸侯的军队分路进兵，很快就攻灭了秦国。鸿门宴后，项羽封了刘邦等十八人为王，又自称西楚霸王，兵威之盛、天下莫及，一时无人敢与争锋。　　谁料历史却发生了戏剧性的变化。被发配到蜀中的汉王刘邦得到了在项羽那里郁郁不得志的韩信，筑坛拜将。韩信不负刘邦所托，使尽心机，明修栈道，暗度陈仓，与汉王定了三秦；又虏魏王豹，擒赵王歇；北定燕，东定齐；南败楚兵二十万，杀了名将龙且。最后在九里山摆下绝机阵，十面埋伏，杀尽楚军数十万　　项羽数度冲击，无法冲出重围，乃退回垓下。当夜，项羽听到四面都是楚歌之声，大惊失色道：“难道汉军已经完全占领了楚地吗？”随着他南征北战的美人虞姬手捧一杯酒献给项羽。项羽一饮而尽，仰天歌道：“力拔山兮气盖世，时不利兮骓不逝，骓不逝兮可奈何，虞兮虞兮奈若何？”虞姬以歌和之：“汉兵已掠地，四面楚歌声，大王意气尽，贱妾何聊生？” 虞姬歌罢，拔剑自刎。　　第二天清早，项羽率领衷心追随他的最后八百壮士突出重围，来到乌江边。面对滔滔江水，乌江亭长对项羽说：“江东地方千里，民众数十万，足以称王。请大王速速渡江吧。”项羽眼望着大汉追兵的滚滚烟尘，苦笑着说，“当年我率领江东八千子弟兵渡江西征，而今一个人都没有回来。我无颜再见江东父老啦！”他把战马送给了乌江亭长，徒步与汉兵交战，力杀数百人，最后自刎身亡。　　“虞兮一剑霸图空，原草千年带血红。子弟八千消灭尽，独留荒冢纪秋风。”西楚霸王就这样死了。在当年分封诸王、志得意满的时候，他可能不会想到，他根本就不是天命称帝之人。无论是雄才大略的秦始皇，还是拔山扛鼎的项羽，人力再大，也无可回天。　　让我们在乌江边上，再把时间倒转八百年，回到商朝末年的渭水之滨。周文王在这里请到了元始天尊的弟子姜子牙，并以师礼视之。正是这位白发苍苍的姜子牙写下了中国历史上第一个系统预言－－《乾坤万年歌》，预言了从周代以后数千年的王朝兴替。对于周朝到汉朝的历史，姜子牙写道：“而今天下一统周。礼乐文章八百秋。串去中直传天下。却是春禾换日头。天下由来不固久。二十年间不能守。卯坐金头带直刀。削尽天下木羊首。”　　第一句“而今天下一统周。礼乐文章八百秋”指周朝享有八百年的天下。第二句“串去中直传天下。却是春禾换日头。”其中“串去中直”是个字谜，谜底是“吕”，这里指大商人吕不韦暗中用自己的儿子篡夺了秦王天下之事（其事详见《史记 ．吕不韦列传》）。“春禾换日头”也是字谜，用“禾”换去“春”下的“日”，谜底是“秦”，表示秦国一统天下。秦国统一只有十几年，这就是第三句中所说的“天下由来不固久。二十年间不能守”。最后一句，“卯坐金头带直刀”也是个字谜，正是繁体的“刘”字。《史记． 项羽本纪》上也记载说，刘邦破了咸阳后，屯兵鸿门，范增对项羽说：“刘邦的云气五色斑斓，呈龙虎之状，这是天子的瑞气啊。必须马上杀掉他。”项羽于是设鸿门宴，欲杀刘邦，谁知王者不死，最后刘邦还是全身而退了。　　诸葛亮：《马前课》　　汉朝建立四百年，历经王莽篡汉、光武中兴，至东汉末年黄巾起义、董卓乱国，天下再度大乱，几十路诸侯拥兵自重、各霸一方。刘备寄居新野，兵不满千，将不过关、张、赵云，后得徐庶走马荐诸葛。三顾茅庐后，诸葛亮感刘备诚意，出山辅佐，大展经纶补天之手：联合孙权在赤壁打败曹操，接着席卷荆襄、夺取西川、东川，让刘备在西蜀称帝。　　诸葛亮确有经天纬地之才，官方正史《三国志．诸葛亮传》上也记载着他“未出茅庐，先定天下三分”的宏论。后人在佩服他高瞻远瞩的战略眼光时，可能不会料到，他是个和姜子牙一样的预言家，并写下了中国历史上第二个系统预言身后朝代兴衰的《马前课》。该预言一共十四卦，每一卦讲述一个朝代。　　清朝光绪年间，白鹤山的老和尚守元逐条破译了《马前课》中一直到光绪以前的预言。他破译的关于清朝的预言说：“水月有主，古月为君，十传绝统，相敬若宾”。守元和尚解释道：“‘水月有主’是个‘清’字，‘古月’是个‘胡’字，胡人为君，殆亦天数不可强欤？”随后他又自述道：“老僧生于嘉庆十年（公元1806年），今年八十有六，过此后不敢妄议。”如果这个老和尚再能等上十几年，就会亲眼看到1911年的辛亥革命，清朝最后一个皇帝宣统黯然退位，对这一课的解释就会完整了：“统”指“宣统”，“十传绝统”是指清朝从顺治入关称帝到宣统一共经历了十个皇帝。　　对于清朝的预言是《马前课》的第九卦。第十卦就是关于中华民国的了。预言上说：“豕后牛前，千人一口”。“豕”是“猪”的意思，应在“辛亥年”，“千人一口”是个“和”字，应在宣统退位后，孙中山缔造了中华历史上的第一个共和国。　　就在诸葛亮仙去以后，三分天下归于一统。随之而起的就是西晋的八王之乱，国力大衰。北方匈奴乘机而起，灭掉西晋，开始了北有五胡乱华，南有东晋偏安的百年混战，接下来就是征尘不断，长达一百六十年的南北朝对峙。公元581年，北周皇帝的岳父杨坚篡位后建立隋朝。二十六年以后，因隋炀帝奢侈无度、横征暴敛，李渊在太原起兵，同年攻破长安，一年以后隋朝终于被唐朝取代，应了《马前课》中的预言“十八男儿，起于太原”（“十八男儿”即“十八子”，为“李”字）。　　李淳风和袁天罡：《推背图》　　无论《乾坤万年歌》还是《马前课》，其预言之准确足以令人瞠目结舌，然而中华历史那悠久而博大精深的文化中，这样伟大的预言家竟然是每个朝代都出现一个！　　李渊次子唐太宗李世民，是中国历史上最杰出的皇帝。他扫清七十二处狼烟，收伏一十八处蛮洞，改号武德，建文学馆以延一十八学士，造凌烟阁以绘二十三功臣，任用魏征、杜如晦、房玄龄等人为宰相，天下大治，四海升平。太宗皇帝手下的司天监李淳风和隐士袁天罡共同写下了《推背图》。　　唐朝和五代年间，《推背图》在民间已极为流行。正史《旧唐书》记载：唐太宗看到一本《秘记》上说：“唐三世之后，则女主武王代有天下。”就召见李淳风，询问详情。李淳风回答说：“臣据像推算，其兆已成，而且此人就在陛下的宫中，身为您的眷属，三十年后当称帝，并诛戮您的子孙。”太宗说道：“那么把可疑的人都杀了，怎么样？” 李淳风回答说：“这是天命，无可祈禳回避，且王者不死，白白杀了很多无辜的人。三十年后，此人年纪大了，就会仁慈起来。现在如果杀了她，上天还会让她转生称帝，三十年后她正当壮年，性情更为狠毒，您的子孙就都会被她杀光了。”太宗觉得有理，就没有再追究下去。　　李淳风随后将未来推算到了一千多年以后，并上呈太宗皇帝御览。预言以谶、颂和图的形式记录了下来。传说当李淳风推算到第59像的时候，他的好友袁天罡推了一下他的后背说：“天机不可泄漏，就推算到这里吧”。于是李淳风就把此事画作了最后一象，并题诗说：“茫茫天数此中求，世道兴衰不自由，万万千千说不尽，不如推背去归休。”这部预言也就因此称为《推背图》。　　《推背图》中对于武则天称帝和安史之乱等的预言准确得几乎让人怀疑是后人在历史过后伪造的。现在我们来看一看最流行的版本－－清朝顺治年间的才子金圣叹亲手注释的《推背图》吧。　　《推背图》第三十四象的谶语是“头有发，衣怕白，太平时，王杀王”，又有颂诗说：“太平又见血花飞，五色章成里外衣，洪水滔天苗不秀，中原曾见梦全非。”　　1851年初，洪秀全在广东金田发动起义后，一路北伐，于1853年攻克南京，建国号“太平天国”，洪秀全称“天王”。1856年，太平天国发生内乱，执白旗的北王韦昌辉屠杀了东王杨秀清全家及其部下和士兵2万多人。随后，洪秀全又将韦昌辉及亲信200多人处死。《推背图》第三十四象就是对这段历史的预言。“头有发”指太平天国的民众留长发，但不按满清规定结辫，被称为“长毛”。“衣怕白”和“太平时，王杀王”“洪水滔天苗不秀”都喻指天王洪秀全让北王韦昌辉屠杀东王杨秀清之事。“五色章成裹外衣”：此句意指太平天国以五色旗为标志。“中原曾见梦全非”指太平天国最终败于曾国藩的湘军手下。　　死于清朝初年的金圣叹当然无法批注这件他死后整整200年所发生的一系列大事，但李淳风和袁天罡何以对历史有如此深刻而准确的洞察力，却成了一个最大的谜团。似乎对他们这些跨越时空的先知来说，未来一览无遗。　　邵雍：《梅花诗》　　就在李淳风写下《推背图》大约250年以后，凶恶奸诈的大将军朱温废了唐昭宣帝，自己登基，改国号为梁，开始了50多年的五代十国时期，到公元960年，赵匡胤陈桥兵变，黄袍加身，建立了又一个大一统的王朝--大宋。50多年以后，到北宋真宗四年，在河北诞生了一代伟大的易学家邵雍，他以十首诗预言了身后直至今天的历史大事，总名《梅花诗》。　　宋朝是中国所有统一王朝中最弱的一个。北宋刚刚建国就向辽国割让了燕云十六州。北宋末年，女真族人崛起，打败辽国后在黄龙府建立了金国。公元1125年，金国平灭辽国，随后就把兵锋直指大宋，两年以后在靖康俘虏了宋朝的徽钦二帝。这就是岳飞在《满江红》中提到的“靖康耻”。钦宗的弟弟康王赵构泥马渡江，在南京建立了南宋政权，后迁都杭州。大约150年后，南宋被忽必烈的铁骑征服。公元1279年，陆秀夫背着南宋小皇帝赵丙投海而死，其他随身将士和皇妃也都被飓风淹没在大海中。对于这段历史，《梅花诗》中以“山河虽好非完璧，不信黄金是祸胎”以及 “三百年来终一日，长天碧水叹弥弥”来预言。其中“山河虽好非完璧”指北宋割让燕云十六州之事；“黄金”者，定都黄龙府的大金是也。“三百年来终一日”指北宋在公元960年建立政权，至公元1279年灭亡，共享国祚300多年。“长天碧水叹弥弥”喻赵丙投海而死。　　刘伯温：《烧饼歌》　　忽必烈定都北京，建立元朝，灭亡大宋后又享国祚70年，至公元1367年被明太祖朱元璋所灭。朱元璋改元洪武，定都南京，开始了中国历史上的最后一个汉族统治的封建王朝--大明朝。明太祖手下的大谋士刘伯温也是个预言家。有一次太祖正在吃烧饼，刚刚咬了一口，内监报告刘伯温求见。太祖就把烧饼扣在一个碗下，然后让伯温进来。太祖问伯温：“先生深明数理，可知碗中是何物件？”。伯温掐指一算，说道：“半似日兮半似月，曾被金龙咬一缺，这是个烧饼啊。”太祖大惊，没有想到刘伯温的推算其验如神，就开始向他询问身后大事。君臣彼此问答，一直讲到今天历史上将要发生的大事，这就是《烧饼歌》。　　纵观中国历史，似乎隐藏着一个天大的秘密。从周朝的《乾坤万年歌》，汉朝的《马前课》，唐朝的《推背图》，宋朝的《梅花诗》，再到明朝的《烧饼歌》，每一个汉人统治的长治久安的朝代都会给我们留下一个准确而系统的预言。更为神秘的是，从周朝的姜子牙，汉朝的张良，唐朝的徐懋功、李靖，宋朝的苗光义，再到明朝的刘伯温，每一个真命天子的身边谋臣又都是道士。　　中国啊，这片被称为“神州”的神秘土地，难道真是神选中的土地，以那一个个精心策划的预言为蓝本，在这里上演了三千多年蓝天为幕，黄土为台的历史剧吗？他难道仅仅是为了教导我们“纷纷世事无穷尽，天数茫茫不可逃”，还是警示我们神以他无边的法力智慧操纵着历史前行的每一个脚步？　　“神走了，神还会回来。”难道神真的走了吗？还是他化作和我们一样的人一次次乘愿而来，帮我们书写历史，一步步地带着我们走向一件最后注定要发生的惊天动地的历史大事？　　限于篇幅，对于秦汉以下的历史都是一带而过，没有展开去讲。对于每一则预言，也只解释了其中很有限的部份，主要集中在该预言已经在社会上大面积流传后发生的历史大事对预言的应验，所以读者可能会发现整个文章描述的历史年代会有跳跃。　　每个朝代一个系统预言的现象，却是非常发人深思的。这种现象在其他文明古国都没有，这就尤其显出中国文化的特殊来。尤其是这些预言对于时间、地点和人物的预测又与历史几乎没有任何出入，这种跨越时空的先知难道不是比高科技还要高科技吗？　　本文来自神州智慧网(http://www.szzh9.com)　　详文参考：http://www.szzh9.com/a/shengming/dingshu/2012/0606/28573.html\n"
     ]
    }
   ],
   "source": [
    "print pa[0].find('div', {'class', 'bbs-content'}).text.strip()"
   ]
  },
  {
   "cell_type": "code",
   "execution_count": 42,
   "metadata": {
    "collapsed": false
   },
   "outputs": [
    {
     "data": {
      "text/plain": [
       "<a class=\"js-vip-check\" href=\"http://www.tianya.cn/68560712\" target=\"_blank\" uid=\"68560712\" uname=\"\\u7a7a00012\">\\u7a7a00012</a>"
      ]
     },
     "execution_count": 42,
     "metadata": {},
     "output_type": "execute_result"
    }
   ],
   "source": [
    "pa[1].a"
   ]
  },
  {
   "cell_type": "code",
   "execution_count": 43,
   "metadata": {
    "collapsed": false
   },
   "outputs": [
    {
     "name": "stdout",
     "output_type": "stream",
     "text": [
      "<a author=\"空00012\" authorid=\"68560712\" class=\"reportme a-link\" href=\"javascript:void(0);\" replyid=\"0\" replytime=\"2012-06-18 18:30:00\"> 举报</a>\n"
     ]
    }
   ],
   "source": [
    "print pa[0].find('a', class_ = 'reportme a-link')"
   ]
  },
  {
   "cell_type": "code",
   "execution_count": 44,
   "metadata": {
    "collapsed": false
   },
   "outputs": [
    {
     "name": "stdout",
     "output_type": "stream",
     "text": [
      "2012-06-18 18:30:00\n"
     ]
    }
   ],
   "source": [
    "print pa[0].find('a', class_ = 'reportme a-link')['replytime']"
   ]
  },
  {
   "cell_type": "code",
   "execution_count": 45,
   "metadata": {
    "collapsed": false
   },
   "outputs": [
    {
     "name": "stdout",
     "output_type": "stream",
     "text": [
      "空00012\n"
     ]
    }
   ],
   "source": [
    "print pa[0].find('a', class_ = 'reportme a-link')['author']"
   ]
  },
  {
   "cell_type": "code",
   "execution_count": 46,
   "metadata": {
    "collapsed": false
   },
   "outputs": [
    {
     "name": "stdout",
     "output_type": "stream",
     "text": [
      "2012-06-18 18:30:00 ---> 68560712 ---> 空00012 ---> 惊人的中国五千年预言时间:2012-06-06 14:18来源:转载 作者:佚　　纵观中国历史，似乎隐藏着一个天大的秘密。从周朝的《乾坤万年歌》，汉朝的《马前课》，唐朝的《推背图》，宋朝的《梅花诗》，再到明朝的《烧饼歌》，每一个汉人统治的长治久安的朝代都会给我们留下一个准确而系统的预言。更为神秘的是，每一个真命天子的身边谋臣又都是道士。　　推背图第六象（维基百科）　　纵观中国历史，似乎隐藏着一个天大的秘密。从周朝的《乾坤万年歌》，汉朝的《马前课》，唐朝的《推背图》，宋朝的《梅花诗》，再到明朝的《烧饼歌》，每一个汉人统治的长治久安的朝代都会给我们留下一个准确而系统的预言。更为神秘的是，从周朝的姜子牙，汉朝的张良，唐朝的徐懋功、李靖，宋朝的苗光义，再到明朝的刘伯温，每一个真命天子的身边谋臣又都是道士。　　这似乎是每一个古老民族留给我们的共同神话，也是千古以来最神秘的预言。神何时回来？在这段等神归来的日子里，人类社会将发生什么？一个个古老的文明就这样给我们留下了中间这段巨大的空白。也许我们还需要从中原这片神秘的土地和她详尽的史料、绵绵不绝的文明历程中寻找答案。　　“今年祖龙死”　　公元前210年，十月。旌旗蔽日，车马辚辚，秦始皇率领着他庞大的文武百官和侍从队伍离开咸阳，踏上了第五次巡行天下的征途。当秦始皇最后回望咸阳城那巍巍宫殿的时候，他不会想到：这一去，他就再也回不来了。　　一年前秋天的夜晚，秦始皇的一位使者经过华阴平舒道，一个人手持玉璧拦住他的去路说，“请替我把这块玉璧交给始皇。”又趁便说道：“今年祖龙死。”使者很奇怪，正要问个究竟，这人把玉璧放在地上就不见了。使者带着玉璧回到咸阳，把事情经过报告给始皇，始皇默然良久，后命人到御府一查，发现这块玉璧竟然是八年以前他出巡渡江时沉入水中的那块儿。　　车马在寒冬的风中缓缓前行，苍茫大地，衰草枯杨。曾经威武刚烈的秦始皇如今已近油尽灯枯。回想当年一统天下、叱咤风云的豪情，始皇的心中恐怕也不能不感叹人生的短暂。在死神面前，人实在是太微渺了。他想起了那因为谏阻他活埋儒生而被发配到上郡和蒙恬一起镇守边关的长子扶苏，就写下诏命给扶苏说：“请回咸阳治丧。”始皇可能终于想通了那句莫名其妙的“今年祖龙死”到底是什么意思。“龙”者，被称为真龙天子的皇帝是也。“祖” 者，始祖是也。“祖龙”不就是指他秦始皇吗？　　大限已到，不可一世的秦始皇就这样死了。他所最宠信宠爱的三个人－－小儿子胡亥、丞相李斯和郎中令赵高立即就背叛了他。他们篡改诏书，命令扶苏和蒙恬自杀，并扶立胡亥为帝，这就是秦二世。　　“亡秦者胡也”　　秦二世是个只知吃喝享乐的花花公子，不但没有秦始皇的雄才大略，其奢侈荒淫犹有过之。就在秦二世元年七月（公元前209年），陈胜吴广在大泽乡揭竿而起，天下百姓群起而响应。原来的六国诸侯后代纷纷复国，刘邦和项羽也各自拉起了一支人马。　　二世三年，秦王朝的天下早已支离破碎。赵高这个祸国殃民的太监，蒙蔽了秦二世整整三年，耍弄权术整整三年，安享富贵也整整三年。如今大势已去，赵高深恐二世追究他的罪恶，在耍弄了一个“指鹿为马”的游戏后，命阎乐在望夷宫刺死了二世。随后，赵高召集诸位公子和大臣说，“秦国本来是个诸侯国，因为始皇统一了天下，所以称帝。现在六国纷纷复国，秦国的地盘是越来越小了，再顶着个皇帝的空名儿不合适，还是称王吧。”　　就这样，赵高立了子婴为秦王。秦始皇要传之子孙，万世不绝的帝位就画上了句号。这又应验了一句曾让秦始皇寝食难安的预言－－ “亡秦者胡也”。那是在秦始皇称帝六年，正当春秋鼎盛时，被派出去寻仙访道的卢生带回的谶讳：“亡秦者胡也。”始皇认为定然是胡人匈奴为患，于是命大将蒙恬率领三十万大军北击匈奴，并开始修筑万里长城。谁知天道玄远，若隐若现，预言的实际意思是，“秦王朝将亡于二世胡亥之手。”　　《史记．秦始皇本纪》中记载的这两则预言，其准确程度已经让人叹为观止。但是且慢，中华民族的智慧似乎要在这一点上一再展现出她的神秘不凡来。　　姜子牙：《乾坤万年歌》　　就在二世死前的几个月，秦国著名将领章邯统领三十万大军在黄河以北的巨鹿城围住了刚刚复国的赵王歇。章邯本人身经百战，手下又有英勇善战的名将苏角，足智多谋的名将王离，兵强马壮，粮草丰足。前来救援赵国的诸侯结成十几座营垒，却没有一人敢与秦军决战。　　就在这时，项羽挺身而出，和楚军一起抱着“此次决战，不胜则死”的决心渡过黄河。随后破釜沉舟，烧毁军营，只带着三天的干粮，向秦军冲去。项羽身穿红色战袍，骑乌骓马，手持长戟，带头冲锋陷阵，当者披靡。虽然秦军有三十万之众，而楚军只有七万，但装备精良、久经战阵的秦军做梦也没有想到，项羽的军队作战英勇，气势如虹。身穿黑衣的秦军，很快被身穿红袍的楚军分割、包围、歼灭。战鼓之声惊天动地。那些做壁上观的诸侯军队一个个伸出舌头、屏住呼吸，看着这场极其惨烈的战斗。狭路相逢勇者胜，从来没有打过败仗的苏角兵败身亡，全军覆没。项羽命令士兵饱餐一顿之后继续进攻。楚军一路兵不留行，长驱直入，锐不可挡，九战九胜，生擒王离，章邯大败而逃。　　项羽随后召诸侯相见，大家都跪在地下爬着进去，连头也不敢抬起来，并颂扬项羽说“上将军的神威真了不起，自古到今没有第二个。我们情愿听从您的指挥。”诸侯的军队分路进兵，很快就攻灭了秦国。鸿门宴后，项羽封了刘邦等十八人为王，又自称西楚霸王，兵威之盛、天下莫及，一时无人敢与争锋。　　谁料历史却发生了戏剧性的变化。被发配到蜀中的汉王刘邦得到了在项羽那里郁郁不得志的韩信，筑坛拜将。韩信不负刘邦所托，使尽心机，明修栈道，暗度陈仓，与汉王定了三秦；又虏魏王豹，擒赵王歇；北定燕，东定齐；南败楚兵二十万，杀了名将龙且。最后在九里山摆下绝机阵，十面埋伏，杀尽楚军数十万　　项羽数度冲击，无法冲出重围，乃退回垓下。当夜，项羽听到四面都是楚歌之声，大惊失色道：“难道汉军已经完全占领了楚地吗？”随着他南征北战的美人虞姬手捧一杯酒献给项羽。项羽一饮而尽，仰天歌道：“力拔山兮气盖世，时不利兮骓不逝，骓不逝兮可奈何，虞兮虞兮奈若何？”虞姬以歌和之：“汉兵已掠地，四面楚歌声，大王意气尽，贱妾何聊生？” 虞姬歌罢，拔剑自刎。　　第二天清早，项羽率领衷心追随他的最后八百壮士突出重围，来到乌江边。面对滔滔江水，乌江亭长对项羽说：“江东地方千里，民众数十万，足以称王。请大王速速渡江吧。”项羽眼望着大汉追兵的滚滚烟尘，苦笑着说，“当年我率领江东八千子弟兵渡江西征，而今一个人都没有回来。我无颜再见江东父老啦！”他把战马送给了乌江亭长，徒步与汉兵交战，力杀数百人，最后自刎身亡。　　“虞兮一剑霸图空，原草千年带血红。子弟八千消灭尽，独留荒冢纪秋风。”西楚霸王就这样死了。在当年分封诸王、志得意满的时候，他可能不会想到，他根本就不是天命称帝之人。无论是雄才大略的秦始皇，还是拔山扛鼎的项羽，人力再大，也无可回天。　　让我们在乌江边上，再把时间倒转八百年，回到商朝末年的渭水之滨。周文王在这里请到了元始天尊的弟子姜子牙，并以师礼视之。正是这位白发苍苍的姜子牙写下了中国历史上第一个系统预言－－《乾坤万年歌》，预言了从周代以后数千年的王朝兴替。对于周朝到汉朝的历史，姜子牙写道：“而今天下一统周。礼乐文章八百秋。串去中直传天下。却是春禾换日头。天下由来不固久。二十年间不能守。卯坐金头带直刀。削尽天下木羊首。”　　第一句“而今天下一统周。礼乐文章八百秋”指周朝享有八百年的天下。第二句“串去中直传天下。却是春禾换日头。”其中“串去中直”是个字谜，谜底是“吕”，这里指大商人吕不韦暗中用自己的儿子篡夺了秦王天下之事（其事详见《史记 ．吕不韦列传》）。“春禾换日头”也是字谜，用“禾”换去“春”下的“日”，谜底是“秦”，表示秦国一统天下。秦国统一只有十几年，这就是第三句中所说的“天下由来不固久。二十年间不能守”。最后一句，“卯坐金头带直刀”也是个字谜，正是繁体的“刘”字。《史记． 项羽本纪》上也记载说，刘邦破了咸阳后，屯兵鸿门，范增对项羽说：“刘邦的云气五色斑斓，呈龙虎之状，这是天子的瑞气啊。必须马上杀掉他。”项羽于是设鸿门宴，欲杀刘邦，谁知王者不死，最后刘邦还是全身而退了。　　诸葛亮：《马前课》　　汉朝建立四百年，历经王莽篡汉、光武中兴，至东汉末年黄巾起义、董卓乱国，天下再度大乱，几十路诸侯拥兵自重、各霸一方。刘备寄居新野，兵不满千，将不过关、张、赵云，后得徐庶走马荐诸葛。三顾茅庐后，诸葛亮感刘备诚意，出山辅佐，大展经纶补天之手：联合孙权在赤壁打败曹操，接着席卷荆襄、夺取西川、东川，让刘备在西蜀称帝。　　诸葛亮确有经天纬地之才，官方正史《三国志．诸葛亮传》上也记载着他“未出茅庐，先定天下三分”的宏论。后人在佩服他高瞻远瞩的战略眼光时，可能不会料到，他是个和姜子牙一样的预言家，并写下了中国历史上第二个系统预言身后朝代兴衰的《马前课》。该预言一共十四卦，每一卦讲述一个朝代。　　清朝光绪年间，白鹤山的老和尚守元逐条破译了《马前课》中一直到光绪以前的预言。他破译的关于清朝的预言说：“水月有主，古月为君，十传绝统，相敬若宾”。守元和尚解释道：“‘水月有主’是个‘清’字，‘古月’是个‘胡’字，胡人为君，殆亦天数不可强欤？”随后他又自述道：“老僧生于嘉庆十年（公元1806年），今年八十有六，过此后不敢妄议。”如果这个老和尚再能等上十几年，就会亲眼看到1911年的辛亥革命，清朝最后一个皇帝宣统黯然退位，对这一课的解释就会完整了：“统”指“宣统”，“十传绝统”是指清朝从顺治入关称帝到宣统一共经历了十个皇帝。　　对于清朝的预言是《马前课》的第九卦。第十卦就是关于中华民国的了。预言上说：“豕后牛前，千人一口”。“豕”是“猪”的意思，应在“辛亥年”，“千人一口”是个“和”字，应在宣统退位后，孙中山缔造了中华历史上的第一个共和国。　　就在诸葛亮仙去以后，三分天下归于一统。随之而起的就是西晋的八王之乱，国力大衰。北方匈奴乘机而起，灭掉西晋，开始了北有五胡乱华，南有东晋偏安的百年混战，接下来就是征尘不断，长达一百六十年的南北朝对峙。公元581年，北周皇帝的岳父杨坚篡位后建立隋朝。二十六年以后，因隋炀帝奢侈无度、横征暴敛，李渊在太原起兵，同年攻破长安，一年以后隋朝终于被唐朝取代，应了《马前课》中的预言“十八男儿，起于太原”（“十八男儿”即“十八子”，为“李”字）。　　李淳风和袁天罡：《推背图》　　无论《乾坤万年歌》还是《马前课》，其预言之准确足以令人瞠目结舌，然而中华历史那悠久而博大精深的文化中，这样伟大的预言家竟然是每个朝代都出现一个！　　李渊次子唐太宗李世民，是中国历史上最杰出的皇帝。他扫清七十二处狼烟，收伏一十八处蛮洞，改号武德，建文学馆以延一十八学士，造凌烟阁以绘二十三功臣，任用魏征、杜如晦、房玄龄等人为宰相，天下大治，四海升平。太宗皇帝手下的司天监李淳风和隐士袁天罡共同写下了《推背图》。　　唐朝和五代年间，《推背图》在民间已极为流行。正史《旧唐书》记载：唐太宗看到一本《秘记》上说：“唐三世之后，则女主武王代有天下。”就召见李淳风，询问详情。李淳风回答说：“臣据像推算，其兆已成，而且此人就在陛下的宫中，身为您的眷属，三十年后当称帝，并诛戮您的子孙。”太宗说道：“那么把可疑的人都杀了，怎么样？” 李淳风回答说：“这是天命，无可祈禳回避，且王者不死，白白杀了很多无辜的人。三十年后，此人年纪大了，就会仁慈起来。现在如果杀了她，上天还会让她转生称帝，三十年后她正当壮年，性情更为狠毒，您的子孙就都会被她杀光了。”太宗觉得有理，就没有再追究下去。　　李淳风随后将未来推算到了一千多年以后，并上呈太宗皇帝御览。预言以谶、颂和图的形式记录了下来。传说当李淳风推算到第59像的时候，他的好友袁天罡推了一下他的后背说：“天机不可泄漏，就推算到这里吧”。于是李淳风就把此事画作了最后一象，并题诗说：“茫茫天数此中求，世道兴衰不自由，万万千千说不尽，不如推背去归休。”这部预言也就因此称为《推背图》。　　《推背图》中对于武则天称帝和安史之乱等的预言准确得几乎让人怀疑是后人在历史过后伪造的。现在我们来看一看最流行的版本－－清朝顺治年间的才子金圣叹亲手注释的《推背图》吧。　　《推背图》第三十四象的谶语是“头有发，衣怕白，太平时，王杀王”，又有颂诗说：“太平又见血花飞，五色章成里外衣，洪水滔天苗不秀，中原曾见梦全非。”　　1851年初，洪秀全在广东金田发动起义后，一路北伐，于1853年攻克南京，建国号“太平天国”，洪秀全称“天王”。1856年，太平天国发生内乱，执白旗的北王韦昌辉屠杀了东王杨秀清全家及其部下和士兵2万多人。随后，洪秀全又将韦昌辉及亲信200多人处死。《推背图》第三十四象就是对这段历史的预言。“头有发”指太平天国的民众留长发，但不按满清规定结辫，被称为“长毛”。“衣怕白”和“太平时，王杀王”“洪水滔天苗不秀”都喻指天王洪秀全让北王韦昌辉屠杀东王杨秀清之事。“五色章成裹外衣”：此句意指太平天国以五色旗为标志。“中原曾见梦全非”指太平天国最终败于曾国藩的湘军手下。　　死于清朝初年的金圣叹当然无法批注这件他死后整整200年所发生的一系列大事，但李淳风和袁天罡何以对历史有如此深刻而准确的洞察力，却成了一个最大的谜团。似乎对他们这些跨越时空的先知来说，未来一览无遗。　　邵雍：《梅花诗》　　就在李淳风写下《推背图》大约250年以后，凶恶奸诈的大将军朱温废了唐昭宣帝，自己登基，改国号为梁，开始了50多年的五代十国时期，到公元960年，赵匡胤陈桥兵变，黄袍加身，建立了又一个大一统的王朝--大宋。50多年以后，到北宋真宗四年，在河北诞生了一代伟大的易学家邵雍，他以十首诗预言了身后直至今天的历史大事，总名《梅花诗》。　　宋朝是中国所有统一王朝中最弱的一个。北宋刚刚建国就向辽国割让了燕云十六州。北宋末年，女真族人崛起，打败辽国后在黄龙府建立了金国。公元1125年，金国平灭辽国，随后就把兵锋直指大宋，两年以后在靖康俘虏了宋朝的徽钦二帝。这就是岳飞在《满江红》中提到的“靖康耻”。钦宗的弟弟康王赵构泥马渡江，在南京建立了南宋政权，后迁都杭州。大约150年后，南宋被忽必烈的铁骑征服。公元1279年，陆秀夫背着南宋小皇帝赵丙投海而死，其他随身将士和皇妃也都被飓风淹没在大海中。对于这段历史，《梅花诗》中以“山河虽好非完璧，不信黄金是祸胎”以及 “三百年来终一日，长天碧水叹弥弥”来预言。其中“山河虽好非完璧”指北宋割让燕云十六州之事；“黄金”者，定都黄龙府的大金是也。“三百年来终一日”指北宋在公元960年建立政权，至公元1279年灭亡，共享国祚300多年。“长天碧水叹弥弥”喻赵丙投海而死。　　刘伯温：《烧饼歌》　　忽必烈定都北京，建立元朝，灭亡大宋后又享国祚70年，至公元1367年被明太祖朱元璋所灭。朱元璋改元洪武，定都南京，开始了中国历史上的最后一个汉族统治的封建王朝--大明朝。明太祖手下的大谋士刘伯温也是个预言家。有一次太祖正在吃烧饼，刚刚咬了一口，内监报告刘伯温求见。太祖就把烧饼扣在一个碗下，然后让伯温进来。太祖问伯温：“先生深明数理，可知碗中是何物件？”。伯温掐指一算，说道：“半似日兮半似月，曾被金龙咬一缺，这是个烧饼啊。”太祖大惊，没有想到刘伯温的推算其验如神，就开始向他询问身后大事。君臣彼此问答，一直讲到今天历史上将要发生的大事，这就是《烧饼歌》。　　纵观中国历史，似乎隐藏着一个天大的秘密。从周朝的《乾坤万年歌》，汉朝的《马前课》，唐朝的《推背图》，宋朝的《梅花诗》，再到明朝的《烧饼歌》，每一个汉人统治的长治久安的朝代都会给我们留下一个准确而系统的预言。更为神秘的是，从周朝的姜子牙，汉朝的张良，唐朝的徐懋功、李靖，宋朝的苗光义，再到明朝的刘伯温，每一个真命天子的身边谋臣又都是道士。　　中国啊，这片被称为“神州”的神秘土地，难道真是神选中的土地，以那一个个精心策划的预言为蓝本，在这里上演了三千多年蓝天为幕，黄土为台的历史剧吗？他难道仅仅是为了教导我们“纷纷世事无穷尽，天数茫茫不可逃”，还是警示我们神以他无边的法力智慧操纵着历史前行的每一个脚步？　　“神走了，神还会回来。”难道神真的走了吗？还是他化作和我们一样的人一次次乘愿而来，帮我们书写历史，一步步地带着我们走向一件最后注定要发生的惊天动地的历史大事？　　限于篇幅，对于秦汉以下的历史都是一带而过，没有展开去讲。对于每一则预言，也只解释了其中很有限的部份，主要集中在该预言已经在社会上大面积流传后发生的历史大事对预言的应验，所以读者可能会发现整个文章描述的历史年代会有跳跃。　　每个朝代一个系统预言的现象，却是非常发人深思的。这种现象在其他文明古国都没有，这就尤其显出中国文化的特殊来。尤其是这些预言对于时间、地点和人物的预测又与历史几乎没有任何出入，这种跨越时空的先知难道不是比高科技还要高科技吗？　　本文来自神州智慧网(http://www.szzh9.com)　　详文参考：http://www.szzh9.com/a/shengming/dingshu/2012/0606/28573.html \n",
      "\n",
      "2012-06-19 14:21:18 ---> 68560712 ---> 空00012 ---> 警世预言：《陕西太白山刘伯温碑记》　　来源：转帖 发布时间：2011-11-23 作者： 　　天有眼，地有眼，人人都有一双眼，　　天也翻，地也翻，逍遥自在乐无边，　　贫者一万留一千，富者一万留二三，　　贫富若不回心转，看看死期在眼前；　　平地无有五谷种，谨防四野绝人烟，　　若问瘟疫何时现，但看九冬十月间，　　行善之人得一见，作恶之人不得观，　　世上有人行大善，遭了此劫不上算，　　还有十愁在眼前：　　一愁天下乱纷纷，二愁东西饿死人，　　三愁湖广遭大难，四愁各省起狼烟，　　五愁人民不安然，六愁九冬十月间，　　七愁有饭无人食，八愁有人无衣穿，　　九愁尸体无人捡，十愁难过猪鼠年，　　若得过了大劫年，才算世间不老仙，　　就是铜打铁罗汉，难过七月初一十三，　　任你金刚铁罗汉，除非善乃能保全，　　谨防人人艰难过，关过天番龙蛇年；　　幼儿好似朱洪武，四川更比汉中苦，　　大狮吼如雷，胜过悼百虎，　　犀牛现出尾，平地遇猛若，　　若问大平年，架桥迎新主，　　上元甲子到，人人哈哈笑，　　问他笑什么？迎接新地主，　　上管三尺日，夜无盗贼难，　　虽是谋为主，主坐中央土，人民喊真主；　　银钱是个宝，看破用不了，　　果然是个宝，地下裂不倒，　　七人一路走，引诱进了口，　　三点加一勾，八王二十口，　　人人喜笑，个个平安。　　现试解如下：　　“天有眼，地有眼，人人都有一双眼，天也翻，地也翻，逍遥自在乐无边。”　　解：天理昭彰，人类历史的发展从来都是依照宇宙的演化规律在演变，而不以人们的意志为转移，人类的行为也逃不过宇宙法理的衡量（天有眼，地有眼）。因此人人又都应该以宇宙法理的善恶标准来约束自己，具有一双分辨善恶的眼睛。目前人类世风日下，道德水准在一日千里下滑，人类会发生翻天（天候异常：冰灾、雪灾、水灾、风灾、酷热、极寒）覆地（地陷、地裂、地震、火山、洪水、大陆板块移动）的变化。　　“贫者一万留一千，富者一万留二三，贫富若不回心转，看看死期在眼前。”　　解：这场末法大劫难，主要是以大瘟疫出现。在这场瘟疫中一万个穷人中会死去 9000人，留下1000人，而一万个富人中只能留下二、三个人。这与十六世纪韩国的著名预言书《格庵遗录》中提到的，末法时期人类如不醒悟，将在“怪疾”中毁灭，“十户难剩一”的说法不谋而合。这里的穷人是指平民百姓；富人是指达官贵人，又往往是干下伤天害理之事，当然更是难过此劫。然而无论贫富，只有“回心转”意，弃恶归善，就有可能得救，否则只能是“看看死期在眼前”。究竟是什么事，使得连平民百姓都会犯下大罪，而遭此天谴呢？ “回心转”是什么意思？如何转？　　“平地无有五谷种，谨防四野绝人烟，若问瘟疫何时现，但看九冬十月间。”　　解：大瘟疫发起于某年的九、十月份（阴历）。结果将是“平地无五谷，四野绝人烟”。　　“行善之人得一见，作恶之人不得观，世上有人行大善，遭了此劫不上算。”　　解：这场劫难来势凶猛，“作恶之人”恐怕连后悔的机会都没有，就被淘汰了。而“行善之人”可以目睹这一切。这末法乱世，有人在“行大善”，不抹去身上兽的印记，因而稀里糊涂的陪葬，真是“不上算”。　　“还有十愁在眼前，一愁天下乱纷纷，二愁东西饿死人，三愁湖广遭大难，四愁各省起狼烟，五愁人民不安然，六愁九冬十月间，七愁有饭无人食，八愁有人无衣穿，九愁尸体无人检，十愁难过猪鼠年。”　　解：这场劫难还会给人带来十大愁事：天下大乱，饥荒，“湖广遭大难”(可能是指水灾)，各省可能都会有乱事，百姓惶惶不可终日，还有九冬十月间发起的大瘟疫，瘟疫导致死人太多而“有饭无人食”， “尸体无人检”。“猪鼠年”是2007和2008年。　　韩国预言《格庵遗录》在描述这次大劫难时说：“积尸如山毒疾死”；“六角千山鸟飞绝，八人万径人迹灭”。刘伯温在《金陵塔碑文》中从另一角度提到大瘟疫发生时的景象：“父母死，难埋葬，爹娘死，儿孙扛，万物同遭劫，虫蚁亦遭殃”。　　“若得过了大劫年，才算世间不老仙；就是铜打铁罗汉，难过七月初一十三，任你金刚铁罗汉，除非善乃能保全，谨防人人艰难过，关过天番龙蛇年。”　　解：不管你是世间凡人，还是金刚罗汉，只有好自为之，奉行真善，过了某年的七月初一、十三，和某“龙蛇年”（龙蛇年是2012 和2013年），才是真正的过了难关。为什么过了“龙蛇年”才是真正的过了难关？　　这里刘伯温所看到的与数千年前玛雅人预测到的又走到一起了。据《玛雅预言》，古代玛雅人，以其令人惊叹的精确完善的历法运算，预测到太阳系在银河系季候中经历了5125年（从公元前3113年至公元2012年冬至日）的“大周期”后，太阳将与银河系的黄道(Ecliptic)和赤道(Equator)所形成的交叉点完全重合，此后地球将走出银河射线（光子带）的范围而进入“与银河系同步”的新阶段，人类将进入与本次文明毫无关系的一个全新的文明。　　从西元1992年到2012年为“大周期”的最后一个演化期，玛雅人称之为“地球更新期”，在“地球更新期”这20年中，地球将被净化，人心也会被净化，腐败物要被完全剔除被淘汰，而好的健康的则将会被留下来并最终与银河系同步。由此可见大劫难只是地球全面净化的开始，抹去了身上的兽记，在这场大劫难中就能幸存下来，进入人类最美好的全新的未来。　　“幼儿好似朱洪武，四川更比汉中苦，大狮吼如雷，胜过悼百虎，犀牛现出尾，平地遇猛若。”　　解：可能是指中国出现的新的领袖人物，这人经神许可并得神帮助，势如猛狮，战胜旧恶势力，掌管天下。届时，天地还会现出异象。　　“若问大平年，架桥迎新主，上元甲子到，人人哈哈笑，问他笑什么？迎接新地主，上管三尺日，夜无盗贼难，虽是谋为主，主坐中央土，人民喊真主。”　　解：大劫难后发生的事。大劫难决不是世界未日、地球毁灭了，大劫难后人类将迎来太平盛世，开始新的历史纪元，所谓“上元甲子”。人民从内心赞颂“真主”。　　“银钱是个宝，看破用不了，果然是个宝，地下裂不倒。七人一路走，引诱进了口，三点加一勾，八王二十口。”　　解：预言之所以很隐讳，还因为其表面有一层意思，而其内部还藏有另一层意思。这里主要是破解其藏有的“字谜”，破解古代预言的“字谜”要用繁体字。　　“七人一路走，引诱进了口”是“真”字。“真”字上面一横一撇象个反写的“七”，最下面一撇一捺是“人”，人上面是“一”，这是“七人一路走”；“一”上面连着那个“目”字里面多一横，“目”外围是一个大口，里边三横可拆分成七个小口，这就是“引诱进了口”。　　“三点(丶)加一勾(乚)”，是“心”字。　　“八王二十口”是“善”字：上面是个倒写的“八”，下面是“王”，再下面是中文数字“廿”，最下面是个“口”。　　“七人一路走，引诱进了口，三点加一勾，八王二十口，”连起来就是“真心向善”之意。只有真心向善，才能保全自身，远离危险。　　“人人喜笑，个个平安，人人可观，个个可传，有人印送，勿取金钱，行善者可保，作恶者难逃，敬重天地神明父母，惜字纸五谷，谨当切记。”　　解：地球全面净化，进入全新的未来。　　早在六百年前，刘伯温向人发出了警告，被他看到了即将到来的这场大劫难和如何破解。　　玄奇的是，这预言被隐藏了几百年后才在一场地震中被震出，几年前才流传于民间。 \n",
      "\n",
      "2012-06-19 14:22:45 ---> 68560712 ---> 空00012 ---> 诸葛亮预言的此际与未来　　来源：转帖 发布时间：2011-1-16 作者： 　　马前课》是中国历史上几部有名的预言之一，相传是出于三国时蜀汉丞相诸葛亮所作。这部预言全部内容只有十四课，每一课预言一个历史朝代兴衰，每一课都按历史顺序排列。当一个历史时代过去之后，回头一看就会发现诸葛亮的预言惊人地准确。而当今，我们正处于《马前课》第十二课所指出的时代境遇。　　第十二课 泽风大过卦　　第十二课 泽风大过卦─拯患救难 是唯圣人阳复而治 晦极生明　　“拯患救难 是唯圣人”，很多中国预言都提到了将会有圣人出现，在经历恐怖的大磨难后人类将进入世界大同的太平盛世，并以此作为预言的句点。　　有关灾难的程度各预言都有不同的描述，马前课虽然只用了“拯患救难是唯圣人”八个字，但在后面二句又加以注解，“阳复而治晦极生明”，所谓剥极必复，“剥”为山地剥卦，“复”为地雷复卦，在《易经》里有阴极阳生之象具物极必反之意。当我们看到最坏的情况时，圣人也将会随即出现使一切变好。　　剥卦“ 山地剥”是《易经》第二十三卦，剥象：剥落之意。主大凶象，地动山崩，一时群山崩落为平地，表示很严重的动荡、变化，而致使重大的伤害、不幸的产生，足以显示灾难严重！又卦爻由下往上，自初爻至第五爻皆阴，唯独上爻为阳爻，五阴一阳，阴柔势盛，阴长阳消，有群阴剥阳之象。“阴”代表黑暗、小人、邪恶、魔等当道，正在剥蚀“阳”所代表的光明、正义、善良的人，此时有大灾祸，不可自作聪明，否则自掘坟墓。我们只要去旧从新，以待一阳复来。　　复卦“ 地雷复”是《易经》第二十四卦，复象：雷在地中振发，为春回大地，周而复始之象，一阳来复，万事苏伸，不久就会好转。又初爻为初九，一阳爻回复于开始置，反本还原，如硕果坠地而复生为复卦。此时人们会从邪恶中渐渐觉醒，是因为此时将会有圣人的即时出现，拯救这场人类的灾难。在玛雅预言中讲到一九九二年到二零一二年这段时间是本次太阳纪的最后一个周期，其间人类“业”学习结束，一切都将全面净化与更新，接着人类就将进入一个全新的纪元。　　第十二课是预言新旧时代交替的历史变化，而十三课就是真正进入新纪元以后的事了。随着时间的推进与各预言的提示，我们相信离预言真相大白的日子已经愈来愈近了。　　第十三课 大畜卦　　第十三课 大畜卦─贤不遗野 天下一家无名无德 光耀中华　　“贤不遗野，天下一家”，是历来人们称颂、向往的理想盛世，是一个全新纪元的景象。人类在经历灾难的深刻教训后，在圣人的引导下精神道德全面回升，也体认了天下一家的和谐、美好才是人类所真正需要的，人们不再互相计，而是能互敬、互爱、互相包容，人性本善的整体大回升，此时人们都能发自内心地行善，人与人之间互相关爱、互相信赖，亲如兄弟，而不再是为了个人，为了自己的名利。　　“光耀中华”是说能使天下一家、贤不遗野将源自中国东土，中华文化也将因此兴盛传遍全球，引领全球走入一个人类全新的思维“世界大同”之象。近代预言家爱德格．凯西（Edgar Cayce）也预言了中国将有一天成为全世界信仰的发源地，因为中国将出现一种对神佛的信仰，中国将会成为全人类共同信仰的源头。　　第十四课 未济卦　　第十四课 未济卦─占得此课 易数乃终前古后今 其道穷　　很多人都以为卦都是用占卜得来的，其实预言里的卦是用推演而来的，如周朝姜太公“乾坤万年歌”、宋朝邵雍的“皇极经世”、明朝刘伯温“天地数”等等都是推演而的，因此人世间的每一朝一代甚至于个人，从大到小一切都是有一定的定数，就像手表的齿轮一样，当大大小小的轮子一启动时，到某一个点它就会有相应大大小小的事发生，每一个细节都是环环相扣，牵一发而动全身。而这些事的发生又与时间、空间相对应，假设时间轴为（直线），空间轴为（横线），当二线交会时，事件发生的时间、地点也同时在安排里，所以事情就这样的发生了，让人们以为这都是偶然的，而一切早在安排中不会出错也无人能逃出，除非修炼才能出数。这也是预言能如此准确的原因。　　这一课是讲卦象到此，预言也就到此结束。但天道循环无终就如同日月循环，这里的结束也是另一个新的开始，从古至今一个旧的文明消失，新的一个文明又会来临重新始，故曰“前古后今其道无穷”。　　顺天者生，逆天者亡　　目前我们生活在一个崇尚物质的时代，现在的人只是浸泡在金钱、成就、权力、地位、色欲、物欲横流的大环里，这一切的追求好像就变得是理所当然。然而由此带来精神世界的崩溃与瓦解，人对一切已渐失去觉知力，对于人权、正义、瘟疫、灾难、自然环境变化、甚至对预言给人的警示也丧失判断力，认为这只是谣言、噱头而不去深思问题所在。过于崇尚物质会丧失其精神层次面的东西，按《易经》六爻卦来解说，一切不好的事情发生又是由里而外的，一个人做坏事是因为他先有这样的想法之后才会实际行动去做，就像一个苹果里面已腐败，可外表却是看不出来，除非它已烂透。　　“顺天者生、逆天者亡”，天地间有一定的法则，精神层面能影响物质层面，一切皆由无形到有形，顺应天道实践中庸之道，在当今益显重要。 \n",
      "\n",
      "2012-06-19 14:23:47 ---> 68560712 ---> 空00012 ---> 大梦谁先觉的博客　　http://blog.sina.com.cn/u/2694945897　　1语辞清丽，意象深雅的预言：邵雍的《梅花诗》 2012-02-28 15:18:45 　　归档在 预言参考 　　在这无边尘世的喧嚣和无奈中，飘荡着一曲超然的清音，时刻警醒着世人：茫茫天数早命定，世道兴衰不自由的事实，那就是千古流传的神奇预言《梅花诗》。　　《梅花诗》的作者邵雍字尧夫，谥号康节，生于北宋真宗四年，他认为历史和人的命运是按照定数演化的。他以他的先天易数，用元、会、运、世等概念来推算天地的演化和历史的循环。对后世易学影响很大的《铁板神数》和《梅花心易》都是出于邵雍。　　邵雍，这位遇事先知的奇才，对于后世的历史发展做出了惊人准确的预言，写下了他的传世之作——《梅花诗》，预言了他身后在中国发生的重大历史演变。当然，和所有预言一样，他也采用了很隐诲的语言。　　梅花诗十首共计280字，原诗如下：　　荡荡天门万古开，几人归去几人来。　　山河虽好非完璧，不信黄金是祸胎。　　湖山一梦事全非，再见云龙向北飞。　　三百年来终一日，长天碧水叹弥弥。　　天地相乘数一原，忽逢甲子又兴元。　　年华二八乾坤改，看尽残花总不言。　　毕竟英雄起布衣，朱门不是旧黄畿。　　飞来燕子寻常事，开到李花春已非。　　胡儿骑马走长安，开辟中原海境宽。　　洪水乍平洪水起，清光宜向汉中看。　　汉天一白汉江秋，憔悴黄花总带愁。　　吉曜半升箕斗隐，金乌起灭海山头。　　云雾苍茫各一天，可怜西北起烽烟。　　东来暴客西来盗，还有胡儿在眼前。　　如棋世事局初残，共济和衷却大难。　　豹死犹留皮一袭，最佳秋色在长安。　　火龙蛰起燕门秋，原壁应难赵氏收。　　一院奇花春有主，连宵风雨不须愁。　　数点梅花天地春，欲将剥复问前因。　　寰中自有承平日，四海为家孰主宾。　　一 、荡荡天门万古开，几人归去几人来。山河虽好非完璧，不信黄金是祸胎。　　“荡荡天门万古开，几人归去几人来。”从字面上的意思是：荡荡通天之门万古以来头一次敞开了。多少人来到人间，又有多少人能回得去呢？这里一下子还看不清楚，在看完全诗后，才能真相大白。不过，从这第一句就可以看出邵雍身手不凡，立意高远，不仅仅是要告诉人们未来要发生的事件而已，而是要告诫人们这历史纷扰中的最终主题。　　北方的国土，“燕云十六洲”一直被外族所占领，故曰：“山河虽好非完璧”　　预言了南宋半壁江山苟安江南以及历史上罕有的“靖康之耻”，金人入寇的历史。黄：黄龙府，金国的首都。金：女真族建立的金国　　二、湖山一梦事全非，再见云龙向北飞。三百年来终一日，长天碧水叹弥弥。　　南宋建都临安（今杭州），在西湖边儿上，依山傍湖，加上南宋皇帝终日沉迷于荒淫醉梦之中，所以叫“湖山一梦事全非”。　　“再见云龙向北飞”，是指天象气数落于北方，北边降生真龙天子，新朝代要生于北方。正当南宋王朝沉湎于醉梦中时，北方的成吉思汗，励精图治，一统蒙古，并迅速扩张着自己的版图。在灭亡了金国之后，大举入侵南宋。“三百年来终一日”，指宋朝在历经三百馀年后（公元960年至1279年）终于灭亡了。　　公元1276年，元兵入侵临安，宋恭帝被俘。“长天碧水叹弥弥”是喻指宋朝最后灭亡时所上演的一幕最悲壮的场面。公元1279年，宋军残部在战败后穷途末路。因不愿被俘，大臣陆秀夫背着年仅9岁的南宋小皇帝投海而死，大将张世杰保护着杨太妃企图逃脱，结果，被一场突来的飓风淹没大海。　　三、天地相乘数一原，忽逢甲子又兴元。年华二八乾坤改，看尽残花总不言。　　“天地相乘数一原”是说天干地支相乘的年代又回到了原头，就是新朝代的气数来了。“忽逢甲子又兴元”的“忽”字隐涉了元世祖忽必烈，“兴元”指元朝兴起。经历了从元世祖至元顺帝的十位皇帝后,这个辉煌一时，曾经横跨欧亚的短命王朝，就走入了灭亡。　　若从公元1279年宋朝最后灭亡算到公元1368年元朝被灭，也差不多八十八年，1260年忽必烈即大汗位至1271年定国号为元，从忽必烈至顺帝共经十世（天数五地数五），元祚88年（应二八之数）。正所谓“年华二八干坤改”。“看尽残花总不言”一句，也影射了元顺帝时，宦官扑不花扣压警讯不上报皇帝的害元之事。正是“残花”“总不言”。　　四、毕竟英雄起布衣，朱门不是旧黄畿。飞来燕子寻常事，开到李花春已非。　　明太祖朱元璋，出身贫贱布衣，当过几年和尚，后参加农民起义的红巾军，因为骁勇善战，大显英雄本色，从一个普通士兵跃升为领袖，并于公元1368年在南京称帝。就此“朱门”不再是旧的黄土农家了。“毕竟英雄起布衣，朱门不是旧黄畿”就写明了这段历史。　　“飞来燕子寻常事”是指雄踞燕京的朱元璋四子燕王朱棣夺取帝位的历史。　　燕王得天下，仔细想来也确为“寻常事”，在情理之中。明朝在明成祖朱棣的统治下，经历了他全盛的辉煌。但明朝末年的衰败，加上多年的农民起义，使得大明王朝终于是“开到李花春已非”。　　“李花”应指明末的闯王李自成。公元1644年春，李自成率领起义军功占了北京，崇祯皇帝于紫禁城后的景山上上吊自尽，明朝灭亡，所谓“春已非”。　　五、胡儿骑马走长安，开辟中原海境宽。洪水乍平洪水起，清光宜向汉中看。　　“胡儿骑马走长安”一句是指崛起于东北的满清入主中原。 \n",
      "\n",
      "2012-06-19 14:25:24 ---> 68560712 ---> 空00012 ---> 明末，社会动荡，李自成夺取天下后，立足未稳。把守山海关的明朝大将吴三桂出于私利，投靠了满清，并引清兵入关。当时的满清，精干强盛，入关后，势如破竹，一统明末的残局，于公元1644年建都北京，成就大清帝国清朝前期，国势大兴，文治武功都非常强盛，特别是被后人称为“千古一帝”的康熙皇帝，雄才大略、励精图治，平定了各种内乱外侵，使中国的版图空前地扩展。另外，自清代开始，与海外开始进行较大规模地通商，开辟港口，正所谓“开辟中原海境宽”。　　“洪水乍平洪水起”的第一个“洪水”指的是公元1851年洪秀全领导的太平天国起义，象洪水一样席卷半个中国，历时达十八年之久，严重动摇了清王朝的统治。“洪水”的“洪”字暗示了洪秀全。　　终于在1911年，武昌起义成功，黎元洪，被拥为中华民国军政*府都督，袁世凯死后又成为总统，清王朝彻底灭亡。黎元洪的名字也嵌一个“洪”字，所以叫“洪水乍平洪水起”。“清光宜向汉中看”一句是说，清朝最终的前景(“清光”)还应该向“汉中”，也就是革命起义成功的“武汉”看。 　　六、汉天一白汉江秋，憔悴黄花总带愁。吉曜半升箕斗隐，金乌起灭海山头。　　“汉天一白汉江秋”是说经历了满清外族统治达三百年之久的中国，也就是“汉天”,终于又有了新希望。“一白”是喻指新的希望。“汉江秋”是指公元1911年的秋季，10月10日武昌起义成功，中华民国成立了，中国进入了一个崭新的时代。也就是中国于1911年的秋季在武汉又重新崛起。　　“憔悴黄花总带愁”自从民国建立后，先是袁世凯的复辟窃国，又是张勋的复辟，接着是长期的军阀混战，派系割据。国民政权就如“憔悴黄花”，总是愁事不断，故曰：“总带愁”。　　“吉曜半升箕斗隐”：“吉曜” 喻指中*华民*国青天白日满地红的国旗，“半升”指国民党统治初期，经历了长期封建统治，外族掠夺和军阀战争的中国，百废待兴。　　蒋介石领导的北伐战争刚刚成功，国家正在起步发展中，国民党政权正在巩固自己的地位，而这时gcd的势力却于暗中迅速发展壮大。“箕斗”为中国古代星相学中所讲的“二十八”宿中的星宿，这里也就是星星的意思，指gcd的势力。　　“箕斗隐”字，道明了gcd 趁内忧外患之机，于暗中迅速发展实力的史实。“金乌起灭海山头”一句的“金乌”，是古时候对太阳的别称，此处指自称太阳之国的日本。整句指日本在二战中兴起、入侵中国与最终战败投降的命运。　　七、云雾苍茫各一天，可怜西北起烽烟。东来暴客西来盗，还有胡儿在眼前。　　经历了国共内战后，中国大陆和台湾呈现了各自对立分治的局面，所谓“云雾苍茫各一天”，指共丄*产*党和国丄*民*党各自统辖一片天地。“可怜西北起烽烟”似指平定新*疆*叛乱和入藏镇丄*压*独*立运动；“东来暴客西来盗”指五○年代初中国和美国在位于中国东方的朝鲜所爆发的朝鲜战争和中印边界之战。按照“北胡南蛮”的说法，此时的“胡儿”是指苏俄无疑了。　　八、如棋世事局初残，共济和衷却大难。豹死犹留皮一袭，最佳秋色在长安。　　大意是世界局势历来像一盘棋一样，指冷战时期共产国际和西方自由民丄*主体系的对峙。九○年代以后共产国家纷纷解体，“共济和衷」来讲可谓是一大劫难。”豹死犹留皮一袭“：前苏联的版图宛如一只奔跑的豹子。豹死，也就是苏联瓦解后，共丄*产*党体系实际已经解体。”长安“喻指中国的京城，这里泛指中国。但秋色再佳，毕竟也已是秋天。　　九、火龙蛰起燕门秋，原璧应难赵氏收。一院梨花春有主，连宵风雨不须愁。　　“燕门者北京某门 “ “原璧难归赵 *** ” ，燕门秋——有肃杀之意。　　风大、雨急、夜黑，所以是“连宵风雨”。虽然迫害是前所未有的残酷，但修炼人更是前所未有的顽强。正是这群看似普通的炼功人，在这场急风暴雨式的迫害中，却表现出了超人的坚韧，和不屈不挠的精神。我们看到全世界的修炼人，团结一心，到处奔走，以各种方式寻求正义的支持，唤醒人们的良知。　　终于，人们被这种真诚打动了，越来越多的人远离邪恶；终于，人们被这种善良打动了，当被警察凌虐的修炼人主动为警察撑伞遮雨时，警察哭了；终于，人们为这种坚忍与和平打动了，许多国家的政*府和国际舆*论站在正义的一边。　　用历史宏观眼光来看，无论邪恶怎么猖狂，寒冬多么严酷，暗夜多么漫长，正义终将战胜邪恶，春天终将赶走严冬，光明终将驱散暗夜，……所以是“连宵风雨不须愁”“柳暗花明又一村”。　　十、数点梅花天地春，欲将剥复问前因。寰中自有承平日，四海为家孰主宾。　　历史似乎确实具有某种前定性，历史又确实涵有更神秘而超越人意志的另一层面的。所“谋事在人，成事在天”，所指的就是这一层面。　　“数点梅花天地春”一句是画龙点睛之笔，全诗的题目即来自这里，所以叫《梅花诗》。经过严冬考验后的……遍及中国大陆以及全世界，如凛傲霜雪的朵朵梅花迎接着春天的到来。那是正法传遍人间的时刻。天地回春，拨乱反正。到这里，诗中头一句的“荡荡天门万古开，几人归去几人来“也就清楚了。　　世界上，无论是哪一门的修炼，佛家也好、道家也好、西方的宗教也好，都讲人是来自天上，而修炼的目的就是要返本归真，重返天国。所以才有“天门开”和“几人归去”之说。　　许多人都是从非常美好的地方来的，为的就是能得到正法的融炼。然而，多少人来到这里等待得法，又有多少能得法圆满而归呢？又有多少人被这滚滚红尘所迷惑而忘记了自己的初衷，永远被埋在这人世沧桑中，再也无法回复那本有的圣洁和辉煌呢？　　“欲将剥复问前因”的“剥”、“复”为易经中的两卦。所谓剥极必复，也叫物极必反。历史如转轮，有前因必有后果。“欲将剥复问前因”也就是说，敢问这历史的跌宕往复到底是为了什么呢？作者在这里其实是暗指：人类历史的纷扰坎坷是为了某种最终的目的而安排的。　　“寰中自有承平日”意思是这无比广阔浩瀚的寰宇自然会迎来其”承平”之日。在经历了漫长的历史沧桑之后，在承受了种种磨难和痛苦之后，甚至也包括前文「连宵风雨」所指的……所遭受的史无前例的迫害之后，这茫茫寰宇终究会进入一个大同承平的时代。　　如果说人类的历史是按照了一定的规律或史前的安排在演化的话，那么这部历史大戏的结局便是个大圆满。　　“四海为家孰主宾”是说这部历史大戏的主角是位以四海为家的人物。事实上……四海为家，足迹遍满世界各地。后半句”孰主宾”，是问：在这场大型的人类历史剧中，究竟谁是主角，谁又是配角？　　纵观这预言中所描述的历史变迁，一切不是按预先排好的剧本在上演吗？也许，一切真像……也许，这正是“欲将剥复问前因”中的“前因”，也就是《梅花诗》整篇预言的主题。 \n",
      "\n",
      "2012-06-19 14:27:00 ---> 68560712 ---> 空00012 ---> <转>在这个末世之际,所有流传在世的古今中外预言中都已经展现在世人面前了,对于已经明白了解预言真实意义的人来说,他们是多么希望人们能够明白,能够相信预言中所指.但是很多人就是看也不看就去排斥,去反对,甚至去嘲讽.这些人真的是不知再说什么好了.但是在最后的时刻还有时间哪怕已经非常少了依然盼望他们能够清醒明白过来.因为生命是何等的可贵!也许等到那一时刻你才能明白那些预言者的苦心,明白你今天的固执己见是多么的可怕,明白今天的你确实在迷幻中, 明白这一切到底是怎么回事!　　现实的社会，让我们许多人变得很现实---从来不相信或不愿考虑我们的未来和来世，只注重眼前和实在利益，从而抛弃一切道德信仰。那么这种情况下，各种天灾人祸现世现报的现象就会接踵而来，一切真的很现实了。只可惜，有人真把它当成自然现象了。　　古代的预言很多，所有的预言都预言到了我们现在这个时期，要发生针对全人类的大事。但是这些预言都有一个特点，都说到现在这个时期预言就结束了；以后会怎么样，没有说法了，预言没有再往下写了。其实，古今中外的历史预言家们，几乎都是先知或者境界高深的修道人。他们用预言的方式留下文字，是为了使有缘人 ——心地善良而有悟性的人，在预言中的今天、这个历史的关键时刻，不要迷失，能够恪守正信，以期进入最后的美好未来。　　预言为什么能够留到最后？很多都是为了警醒世人，告诉世人最后怎么办，怎么留下来的，如果这个事情不能起到警示你，给你提供帮助的作用的话，他在半路也就夭折了。传世预言之所以建立了它的信誉，就是靠它对前面历史大事件预言的准确。因为前面预言得准确，建立了信誉，所以它把最重要的几句话留到了最后这个时期，告诉人们，让人们去相信它，指导你保命 ——预言是上天安排给人最后关头的做出选择时的重要警言。　　如果把预言看成一个生命，它也很苦啊。它走啊走啊走，经历了千难万险，千辛万苦地验证自己，最后它证明了自己是绝对地都是正确了的时候，它到最后一步给你递上一个金玉良言，它这么辛苦地等了千年、万年地给你递上这个话，你说你那个时候对它不屑一顾，那你可就真的不知道将来要后悔成什么样。　　只是今天的人实在太复杂了,什么也不相信,我知道许多人面对那些预言甚至已经被证实了的预言不屑一顾甚至讥笑讽刺,可是那除了对他们自己没有好处以外没有任何作用,预言是不会在乎的,告诉你预言的人也只能是为你感到惋惜.但是总是有能明白的人!他们相信善的存在,善的力量必能战胜邪恶!　　可是有些人,还是给你一个美好的祝福,希望你能在最后的时刻醒悟过来,听一听这些善劝,除了为着你的未来能够美好,它们是没有任何图报的!因为生命是可贵的!　　听预言的人有时会为此感到困扰，并问那些长者： “我们难道不能想点办法吗？”长者们则说，事情就是这样，虽然我们很想把自己知道的告诉别人，有些人有眼睛就是不看，有耳朵他就是不听，一个人要是没有悟性，你怎么说，他也不会相信的。我们当然想挽救所有的人，可是做不到，有一些人永远都不肯从迷幻中醒来，但是一定会有人觉悟的。\" \n",
      "\n",
      "2012-06-19 14:27:51 ---> 68560712 ---> 空00012 ---> 玛雅预言警示我们 人类需要觉醒时间:2012-04-08 23:30来源:李荣的会员空间 作者:李荣整理 点击:1022次　　本文来自神州智慧网(http://www.szzh9.com)　　详文参考：http://www.szzh9.com/a/shengming/dingshu/2012/0408/27588.html　　一谈到2012，很多人都有种不敢正视，不敢相信的恐惧心理。恐惧中更多的是无能为力。唯一的心理安慰也许就是“天塌下来大家一起死”。　　玛雅历法中的2012到底是怎么回事呢？　　在古代世界文明史上，玛雅文明似乎是从天而降，经历了辉煌繁盛，又神秘消失。玛雅人掌握着精深的天文学知识、完善的历法系统、繁复的数学运算以及高度抽象的思维方式。其历法的精确与完善最令人惊叹！当时的玛雅人已经计算出一年的时间是 365.2420天，现在我们的科学家计算一年的时间是365.2422天。　　目前我们所用的历法主要是基于地球围绕太阳运转的规律。而玛雅人研究的更大，他们着眼于整个银河系。地球围绕太阳在运转，而太阳系也在围绕银河系中的某一天体在运转。玛雅人计算太阳系围绕银河系转一周的时间是28000年，并且将这28000年分成4等份，每等份7000年，很类似于地球上的四季，这样就形成了相对于太阳系的银河季候。 　　据「族尔金」的玛雅历记载，在银河季候中我们的太阳系正经历着一个历时五千多年的「大周期」（The Great Cycle）。时间是从西元前3113年起到西元2012年止。在这个「大周期」中，运动着的地球以及太阳系正在通过一束来自银河系核心的银河射线（Galatic Beam）。这束射线的横截面直径为5125地球年。换言之，地球通过这束射线需要5125年之久。　　玛雅人相信，太阳系诸星体在经历完了这束银河射线作用下的「大周期」之后将会发生根本的变化，玛雅人称这个变化为「与银河系同步」（Galatic Synchronization）。这个「大周期」一共分为十三个阶段。每个阶段的演化都有着十分详细的记载。何西博士在他的著作《玛雅效应》中用了大量的图表来说明每一个阶段的演化情况，又把每一个阶段画分为二十个演化时期。每个时期历时约二十年。（20在玛雅历法中是很关键的数字，20年为一个Unial）　　从西元1992年到2012年这二十年的时期中，我们的地球已進入了「大周期」最后阶段的最后一个时期。玛雅人认为这是「与银河系同步」前的一个十分重要的时期，他们称之为「地球更新期」（Earth Regeneration Period）。在这个时期中地球要完全达到净化（Earth Purification），而「地球更新期」过后地球将走出银河射线的范围而進入「与银河系同步」的新阶段。　　西元2012年12月31日将是玛雅人长历法（Long Count Calendar）中本次人类文明结束的日子。此后，人类将進入与本次文明毫无关系的一个全新的文明。玛雅人没有提到什么原因使本次文明终结，也没有明确暗示什么大劫难的到来，而是强调一种关于全人类在精神和意识方面的觉醒和转变（Cosmic Awareness and Spiritual Transition），从而進入新的文明。西元755年，玛雅的一位僧侣预言：西元1992年以后(部分资料显示为1991年），人类有两个重大事件要发生──人类的宇宙意识觉醒和地球的净化与再生。　　按照玛雅历法的预言，2012年12月21日后地球以致银河系净化并進入一个全新的文明，在这之前的20年人类需要觉醒。换言之，是不是在2012年的那一刻到来之前一个人的觉醒与否会决定他能不能進入净化后的文明呢？　　看看我们的社会，现在的人都热心于金钱、美女、肉欲、享乐、权力和地位等等，由此而带来的精神世界的崩溃已司空见惯，对邪恶、残暴、战争、灾难、瘟疫、饥饿和疯狂的社会乱象也渐趋麻木。有几人在思考这场巨变之前自己该如何觉醒呢？　　人已经失去了做人的标准，甚至分不清善恶是非。加之这些年坏人对以真诚、善良、宽容为准则的人们的恶毒攻击和造假宣传，人们在假的报导中被蒙蔽和欺骗，善恶更是难辨。　　想要过渡到新的宇宙纪元，就必须从思想上同化新宇宙的特性。人类的觉醒需要人能抛除被灌输的假恶斗的思想，找回真正的自己；需要人理智的思考，能分善恶，辨是非，明真相。　　霍比预言和玛雅预言都讲到了周期和净化等概念，而在最后的净化之后，善良的人们就将进入新的美好时代。这与东方预言最后讲到的一连串灾难后的盛世何其相似啊！而在西方预言中则都有大审判的概念，不同民族的预言虽然千差万别，但是却有着相同的精神内涵。这一点很有趣，也很值得我们思考，预言的意义究竟是什么﹖生命的目的又是为了什么？也许等待了千万年的生命是为能在这历史最关键的时刻去辨清善恶以过渡到新纪元。　　附：　　越来越多的人关注2012，关注的应该并非这个具体的时间到底是什么时候，没有人会在到底是2012还是2013上计较。关键的是人类不久的将来是不是会迎来巨变以更新至新的纪元以及应该如何平安的过度到人类的新纪元。玛雅历法中预言的日子是2012年12月21日，即冬至日。我们研究不透玛雅历法的由来以及它的造就原理。但很多人都明白人类不会这样在失去道德约束的情况下无限制的败坏下去，物极必反，不久的将来确实会有人类向新纪元的过渡。所以在此也希望读者们不要在意于这个时间，而是在这即将迎来新纪元的时刻自己该如何分辨善恶，明白真相。　　本文来自神州智慧网(http://www.szzh9.com)　　详文参考：http://www.szzh9.com/a/shengming/dingshu/2012/0408/27588.html \n",
      "\n",
      "2012-06-19 14:28:36 ---> 68560712 ---> 空00012 ---> 月6日6时罕见金星凌日星占视为大凶兆　　来源：转帖 发布时间：2012-6-6 作者：古容 　　“金星凌日”（中央社档案照片）　　2012年最值得期待的天象是“金星凌日”。当金星凌日发生时，金星从地球与太阳之间经过，人们将看到一个小黑点从日面移过，历时6小时36分26.3秒。此次错过将再等105年，直到2117年12月11日才能再见到。北京时间金星凌日开始时间是6月6日6时9分41秒，结束时间是在12时49分31秒。　　因只有水星和金星的轨道位在地球轨道以内，所以从地球上看，太阳系内只会发生水星和金星凌日的现象。对绝大多数人来说，这是一生最后一次看到金星凌日的机会，因为下一次要再等105年。这次金星凌日时间长达6小时，据预报，2012年的“金星凌日”，中国是全世界范围内的最佳观测区之一，大部分地区都能观测到金星凌日全过程。其他亚洲地区、北美、欧洲和澳洲也都能看见。若天气晴朗，到时人们会看到有颗“小黑痣”在太阳脸上缓慢划过。　　台北市立天文科学教育馆（天文馆）表示，“行星凌日”又可视为另类日食；如同日食一般，当行星行至地球与太阳中间时，从地球上观看，便会看到行星从太阳盘面前经过，像个小黑点般一直移动。“金星凌日”虽然人们只是看到“个小黑点般一直移动”，但是天文学家就曾利用这极为罕见天象之一来测量日地距离。十七、十八世纪，天文学家利用金星凌日推算地日距离，才准确得知太阳和地球相距有一亿五千万公里之遥。也因此，人类才慢慢意识到宇宙是何等的浩瀚！　　每世纪平均发生13到14次水星凌日，而金星凌日更稀有，原因是金星的绕日轨道比水星大，绕太阳公转一周的速度比水星慢，要走到太阳与地球之间内合位置，又恰好是交点的机会少。而且由于金星和地球环绕太阳的运行轨道不在同一个平面上，因此并不是每次金星合日都会发生金星凌日现象。一般，地球在每年12月10日前后经过金星轨道的升交点，在每年6月8日前后经过金星轨道的降交点，因此，金]星凌日的机会只落在这两个日期前后。　　金星凌日和地球公转轨道平面的关系图，两平面的夹角造成金星凌日的现象。(图：维基百科）　　截至目前为止，有历史纪录、透过望远镜做精细金星凌日观测的只有6次，分别是1631年、1639年、1761年、1769年、1874年及1882年。　　两次金星凌日的间隔时间分别是：8年、121.5年、8年、105.5年，这样依次地排列下去。其中8、121.5、8和105.5年之和等于243年，是金星凌日最基本和最稳定的周期。从这金星凌日的周期推算，一个人一生中最多只可看到两次金星凌日，很多人则是一次也看不到。　　对于8年的金星合日周期，中国天文学家早在二千二百多年前就发现了。西汉的《五星占》一书记录：“五出，为日八岁，而复与营室晨出东方。”金星，中国古称“太白金星”，而太阳代表君主，帝王，权力等。因此金星凌日意味国家统治受到挑战，星占中将“金星凌日”视为大凶之兆。 \n",
      "\n",
      "2012-06-19 14:29:40 ---> 68560712 ---> 空00012 ---> 剥而复见天地之心，龙出水观沧海成尘　　常鹤鸣　　2012年古人纪年为壬辰年，壬为水，辰为土，但土中藏了水与木，辰为龙，即水龙之年。若将壬辰两字加上女字旁，即妊娠，即女人怀孕，可见地球同样也是在新的一年里孕育新的生命。逢龙必变，变好亦或是变坏。　　2012灾是肯定有的，但要知道定者无畏！切不可过贪、过骄、过欲，如此灾亦非灾。因果报应，丝毫不爽。不要因为有了2012才去念佛，要无相而颂。无论财多财少，但求心平；无论情来情去，但求心静；无论官轻官重，但求心宽；无论灾大灾小，但求心定；无论思悲思喜，但求心开。万法随缘，万缘自然。　　米鸿宾　　2012年，是干支纪历的壬辰年，名为魁罡之年。壬辰年，水大，雨水太充足，要防患于未然，尤其在投资上，要尽量少做与水有关的生意。区域性的洪水灾害会频频发生。液态食品的质量会出现新的负面效应，尤其是饮用水和饮品的质量问题，会被社会深度关注。建议不要在阳历9月6日—11月6日中生育，这个时间段出生的孩子通常会对家庭中的亲人有妨害，就像一个批次的产品有其相同的共性一样。行为过于暴躁的事象比较突出；同时，嫉恶如仇、见义勇为的事件增多。女性今年忌讳心性过度刚强，会对婚姻有所影响。今年属鸡的群体易发生情迷意乱之举较为突出（或有深度接触相关事件之现象）。切忌要洁身自好，惑乱人伦没有好结局！　　几千年来，人们深深知道——“天高地迵，觉宇宙之无穷；兴尽悲来，识盈虚之有数。”（王勃《滕王阁序》）此可谓：天网恢恢。在即将到来2012年，我们即将在夏季遇到丙午、丁未之月（阳历6月7日至8月7日间，虽然月的力量要比年的力量小，但仍应密切关注）。届时我们可以留心一品2012年的“丙午、丁未”之相，感喟一下老天如何不骗人！　　注：《容斋随笔》中五笔卷十记载“丙午、丁未”一节，其文曰：“丙午、丁未之岁，中国遇此辄有变故，非祸生于内，则夷狄外侮。”宋人柴望在《丙丁龟鉴》里统计了从秦昭襄王嬴氏五十二年到后汉天福十二年丁未年，共计1260年的时间，这中间干支为丙午、丁未的年份共出现了二十一次。这二十一次丙午、丁未之年，国家都发生了动乱、天灾或人祸。而宋以后，此律依然——1846（丙午）年太平天国起义，中华大地征战不已；1666（丙午）康熙五年，鳌拜专权；……1966、1967年是农历丙午、丁未年，史无前例的“十年浩劫”肇端于此！　　董易奇　　2012壬辰年，水气非常旺盛，壬为大海之水，辰为三合水阵之库，壬辰纳音还是长流水，俗称“水龙王”“黑龙年”。今年三元九运风水轮流转，最凶的五黄大煞落在东南巽宫，祸灾招致。病符星落在正北命宫，可谓凶多吉少。由于2012年是壬辰龙年，古历俗称水龙王、黑龙年，水土混杂，极度阴湿寒冷，整年受水湿和阴晦之气影响，整年里阴晦倒霉之事非常容易发生，并且运气稍差些的人，遇到倒霉事的几率更大。　　李居明　　2012年是一个“龙”年，中国人有逢“龙”必变之说法。1976年的龙年，便发生了很多大事。“龙”是唐山大地震的密码，龙年代表龙脉的跃动，是新力量与旧力量交替的历史时刻，因此暗喻了悲喜交集的一年，也暗藏着世纪末天灾人祸的不祥讯息。　　自从进入下元八运，由2003年开始，从香港蔓延的“非典”病变，已揭示这个八运是一个流感世纪，一切的灾病只告诉我们，要保卫地球，环保清净，同时要严惩破坏自然生态的行为，及重新检讨我们的食物及环境病毒，一切冒牌及伪诈欺骗的商业行为，应严惩不贷。八运是一个天灾人祸的大运，要提升及培养人民的道德素质，方能有良心地去共同建设和谐社会。　　2012年这个龙年，正是迈向这个健康及和谐的世运的重要一年，一切新生事物都在2012年疯狂地涌现，在传统与新潮的两大动力之中，世运来得激烈和亢奋，在这样的时代，必然会出现重要的人物。 \n",
      "\n",
      "2012-06-19 14:30:08 ---> 68560712 ---> 空00012 ---> “龙”为“辰”，为四大库之首，中国命理学上有所谓“辰戌丑未”的说法，“辰戌”为天罗地网的四隅之半。可见今年法律诉讼之情况严重。　　“辰”为水库，遇“申”开库，可知今年的年运，以公历8月8日起，即8、9两个月内最为严峻，是祸是福，是敢卜而不敢言了！“辰”为湿土，今年为“壬辰”年，水龙之年引发水灾是惊天动地的，世纪末的“水险”今年是历史性最厉害的，因为风灾水灾及海洋灾难，一触即发！但要小心的是水多会激起“火”之疯发，大型爆炸、战争及火山爆发均会引成天险。幸好“壬辰”的“辰”如不在“水地”，“辰”成为“墓”而非“库”，也就是水会受到制衡，这是唯一令人安心的地方。　　蒋开文　　2012年是中国八字换运的时间：上半年是卯运，卯运吉；下半年是丁运，丁运凶。　　2012年（壬辰年），壬偏印泄辛生日元吉，辰冲未，子印得到解放吉。印用神显吉，代表科学、教育、文化事业会有突破和发展。印显吉还代表房地产业会给政府带来较大的经济效益。印还代表外交文书、条约等，显示2012年中国会在对外签订的国际性的条约中得到利益，从而提高了国际地位，取得一些合法的国际权益。跟盟国的关系加强。辛代表西方国家，壬通关泄辛生日元吉，还代表西方国际对中国的威胁被一定程度上被化解，中国和西方发达国家的矛盾暂时减轻。　　2012年（壬辰年），辰合酉官凶，东部海疆和西部边疆环境恶化。如果地方政府的收入继续建立在对人民群众的掠夺的基础上，而不是建立在让人民共享国家发展成果上的，中国动乱必然无法避免，甚至引发大规模的抗议事件。辰合酉凶，还显示要防大的自然灾害（水旱灾害、地震、风灾等）、空难、流行病发生。辰合酉官凶，还显示2012年中国的吏治腐败不仅横行到让人民难以忍受，也发展到威胁政权的巩固上了。酉在月令上显凶，表示许多高级**的腐败案件被公开揭露。　　2012年（壬辰年），辰暗冲未财吉。政府是财政状况很好。但是未在时辰上，时辰代表下层百姓，国家的发展建立在对人民群众的掠夺的基础上的，这样的发展必然引起人民的反抗。政府必须解决好国家的发展和人民共享成果的关系问题，否则繁荣外表下积累的民怨最终不是光靠唱红歌愚弄老百姓或者用枪杆子威胁老百姓可以解决的！人民有朝一日被逼急了，即使“西方敌对势力”不挑唆，他们也会发起反抗的！　　妙法莲花　　2012年是黑云压城，因为壬水为乌云，辰为城市，壬入辰库就代表压迫的象，所以是黑云压城。因为壬水和辰紧密吸引，所以有种压迫感，所以这年人们的心情会非常压抑，因为这个干支水旺火弱，火代表快乐，所以2012年人们普遍感受的是压抑和不快乐，还有乌云遮日的信息，说明了日本国国运非常衰，太阳也代表君主和大官，这年当君主的会很没作为和压力很大。辰为水库代表水瓶子和瓶装水，水土混杂的组合代表水严重污染和发洪水，所以这年虽然水旺，但是无数的水都是被污染的水，很多人只能喝瓶装水。壬水的财为火，这个干支无财，同时水入辰库还代表财富入了库，代表的信息就是全世界人都感觉到没钱花，辰为水库为银行，钱全部集中在银行里了。　　壬辰为地支克天干土克水，代表的信息就是农民造反以下犯上，因为土代表农民，还是因为土地和房子的问题造反，辰为龙也代表当官的，也有部分当官的人造反，辰为七杀也代表黑社会造反，天干入墓，所以会有一些当官的死亡，但是因为壬辰水旺火弱，火代表战火，所以这年不会发生大的战争，只是局部地区有些小爆炸。辰为龙为皇帝代表总统和大官，辰好斗，所以这年当大官的之间会发生激烈的争权的斗争，壬入水库，水库水旺就会有很多水库被冲毁，龙一动，就发生地震，壬辰上水下辰本身就代表震字，这年全世界发生的震撼震荡震动地震的事情比以前任何时候都多，全世界会发生大规模的地震，死亡很多很多人，因为干支无财，无数的人会失业，没有了生活来源。壬辰里地支是天干的七杀劫财伤官和墓地，这三个凶神代表暴力、死亡、抢劫、赌博和黑暗，因为水就代表黑暗，所以整个一年2012年就是让人感觉很黑暗的时候，但是地球肯定不会毁灭的，只是有一部分人遇见灾难挫折而已。　　壬辰是一个下等干支，在这样的流年里都是发生的坏事比好事多的，只有八字里特别喜欢水的命遇见壬辰年才非常好。2012年的经济状况是下半年能稳定一些，因为上半年壬水的力量最大，水就是不稳定和流动的，而且水克火，火代表人的心，所以很多人就会伤心，伤心就是证明钱赚的少，也就是经济萎靡不振，房子也不值钱。水旺火弱，工业是不兴旺的，因为工业代表火和金。明年最大的事情是人类思想方面将发生很多改变，因为壬辰就代表洪水泛滥无制的状态，也就是代表人的思想找不到归宿，很多权威机构会失去权威，社会上会泛起各种思潮各种言论，各种人物粉墨登场然后转瞬即逝，因为壬水旺的时候就好比发洪水一样来的气势很吓人，但是入了辰库，就是瞬间消失了。代表的信息还有很多人聚集到一起闹事，然后一下子全跑散了。还代表发大洪山和海啸死人，虽然不会像电影里演的那样惨，但是肯定会淹死很多人的，明年一年人们很容易因为水库的问题发生大的争论。壬水入辰库就代表大家把壬水给分裂分散了，代表很多人分钱分东西，很多总体的东西会被一群人瓜分。　　钟魁星君　　2012年壬辰斗数流年命宫在辰宫，紫微斗数认为辰戌宫属于天罗地网之宫垣，即带有凶性也。经过统计所得，行经壬辰流年命宫星系基本有两大体系：【杀破贪】关联之星系；【机月同梁】关联之星系。两大星系中，数【杀破贪】最多。　　【杀破贪】性质具有刺激性与动荡性，2012年受到的影响最大。因此只要发现自己流年命宫星系为【杀破贪】，就特别要注意防范。比如减少出远门、收缩投资、保持家庭和睦、多检查身体等……另外，【机月同梁】星系则相对影响较少一点，不过仍然须预防【杀破贪】星系所入之宫垣，其产生之杀伤力不能忽视。　　从命例数据库几率与国运预测体系结合所得，2012年一定不是那么简单。以地球版图计算，除了五黄太岁在东南方位之外，还有东方、西南、西北、北方、中部皆起事端。2012年斗数四化【武曲化忌】，玄空风水六白乾金中宫立极，战争与灾难必少不了，死人更是难免了……而命宫【杀破贪】星系者冥冥中影响最大。　　2012年，东方中国犯金木交战煞，流年四绿木星飞入与运星六白金星形成金木相克之局。预期中国的国际关系异常紧张，更甚至有冲突发生，尤其注意领土纷争、贸易战等克应。另外金木交战对经济、金融影响亦大，比如股市低迷、经济大萧条加剧等等。金木交战主灾难之局，为摧毁家园之象，地震、水灾、流血事件……　　西北方得七赤破军飞入，再与运星九紫离火相克（火克金）。七赤破军主盗贼之应，预示西北方盗贼猖獗。以地球版图而论，西北方位属于美国，看来美国霸权主义如日中天。在中国版图，西北方是目前中国最敏感之地区（此不能明述），明年此方将再起事端。另外【7/9】为犯火煞，故西北方必有特大火灾发生。　　北方二黑土星巨门飞入，与运星四绿木星相克（木克土），巨门主是非之象。在世界版图中，北方由欧盟驻守，因此2012年殴债危机依然受困。　　另六白金星中宫主事，中东、非洲、中亚等国，继续有战事上演，流血死人在所难免也。　　五黄太岁之东南方以东南亚一线问题最大，包括台湾、香港、新西兰、澳洲亦在其中。　　西南方位值得留意！2012年流年三碧木星飞入，主克运星五黄土星（木克土）。三碧禄存星主内耗、纷争也。在中国版图中，西南部属于重庆、成都等地区，预期明年此区域唱红浪潮将越演越烈，斗争形势异常轰烈！尤其注意此地区意识形态之发展趋势。【3/5】相克还要提防有病毒性传染疾病事件发生。　　以上基本涵盖2012危机之核心要项，不过中国术家有些不变定律，就是“越多人认为有大件事的，反而不会发生”，否则天机哪有这么容易给你参透！　　[天理昭昭，乾坤朗朗，人生无常，重在心志，数术之言，仅供参考！] \n",
      "\n"
     ]
    }
   ],
   "source": [
    "for i in pa[:10]:\n",
    "    p_info = i.find('a', class_ = 'reportme a-link')\n",
    "    p_time = p_info['replytime']\n",
    "    p_author_id = p_info['authorid']\n",
    "    p_author_name = p_info['author']\n",
    "    p_content = i.find('div', {'class', 'bbs-content'}).text.strip()\n",
    "    p_content = p_content.replace('\\t', '')\n",
    "    print p_time, '--->', p_author_id, '--->', p_author_name,'--->', p_content, '\\n'"
   ]
  },
  {
   "cell_type": "code",
   "execution_count": 47,
   "metadata": {
    "collapsed": false
   },
   "outputs": [
    {
     "data": {
      "text/plain": [
       "<div class=\"atl-pages\"><form action=\"\" method=\"get\" onsubmit=\"return goPage(this,'free',2592413,10);\">\\n<span>\\u4e0a\\u9875</span>\\n<strong>1</strong>\\n<a href=\"/post-free-2592413-2.shtml\">2</a>\\n<a href=\"/post-free-2592413-3.shtml\">3</a>\\n<a href=\"/post-free-2592413-4.shtml\">4</a>\\n\\u2026\\n<a href=\"/post-free-2592413-10.shtml\">10</a>\\n<a class=\"js-keyboard-next\" href=\"/post-free-2592413-2.shtml\">\\u4e0b\\u9875</a>\\n\\xa0\\u5230<input class=\"pagetxt\" name=\"page\" type=\"text\"/>\\u9875\\xa0<input class=\"pagebtn\" maxlength=\"6\" name=\"gopage\" type=\"submit\" value=\"\\u786e\\u5b9a\"/></form></div>"
      ]
     },
     "execution_count": 47,
     "metadata": {},
     "output_type": "execute_result"
    }
   ],
   "source": [
    "post_soup.find('div', {'class', 'atl-pages'})#.['onsubmit']"
   ]
  },
  {
   "cell_type": "code",
   "execution_count": 48,
   "metadata": {
    "collapsed": false
   },
   "outputs": [
    {
     "data": {
      "text/plain": [
       "'10'"
      ]
     },
     "execution_count": 48,
     "metadata": {},
     "output_type": "execute_result"
    }
   ],
   "source": [
    "post_pages = post_soup.find('div', {'class', 'atl-pages'})\n",
    "post_pages = post_pages.form['onsubmit'].split(',')[-1].split(')')[0]\n",
    "post_pages\n",
    "#post_soup.select('.atl-pages')[0].select('form')[0].select('onsubmit')"
   ]
  },
  {
   "cell_type": "code",
   "execution_count": 49,
   "metadata": {
    "collapsed": false
   },
   "outputs": [
    {
     "data": {
      "text/plain": [
       "'http://bbs.tianya.cn/postfree5459192-%d.shtml'"
      ]
     },
     "execution_count": 49,
     "metadata": {},
     "output_type": "execute_result"
    }
   ],
   "source": [
    "url = 'http://bbs.tianya.cn' + df.link[2]\n",
    "url_base = ''.join(url.split('-')[:-1]) + '-%d.shtml'\n",
    "url_base"
   ]
  },
  {
   "cell_type": "code",
   "execution_count": 50,
   "metadata": {
    "collapsed": false
   },
   "outputs": [],
   "source": [
    "def parsePage(pa):\n",
    "    records = []\n",
    "    for i in pa:\n",
    "        p_info = i.find('a', class_ = 'reportme a-link')\n",
    "        p_time = p_info['replytime']\n",
    "        p_author_id = p_info['authorid']\n",
    "        p_author_name = p_info['author']\n",
    "        p_content = i.find('div', {'class', 'bbs-content'}).text.strip()\n",
    "        p_content = p_content.replace('\\t', '').replace('\\n', '')#.replace(' ', '')\n",
    "        record = p_time + '\\t' + p_author_id+ '\\t' + p_author_name + '\\t'+ p_content\n",
    "        records.append(record)\n",
    "    return records\n",
    "\n",
    "import sys\n",
    "def flushPrint(s):\n",
    "    sys.stdout.write('\\r')\n",
    "    sys.stdout.write('%s' % s)\n",
    "    sys.stdout.flush()"
   ]
  },
  {
   "cell_type": "code",
   "execution_count": 51,
   "metadata": {
    "collapsed": false
   },
   "outputs": [
    {
     "data": {
      "text/plain": [
       "<div class=\"atl-pages host-pages\"></div>"
      ]
     },
     "execution_count": 51,
     "metadata": {},
     "output_type": "execute_result"
    }
   ],
   "source": [
    "url_1 = 'http://bbs.tianya.cn' + df.link[10]\n",
    "content = urllib2.urlopen(url_1).read() #获取网页的html文本\n",
    "post_soup = BeautifulSoup(content, \"lxml\") \n",
    "pa = post_soup.find_all('div', {'class', 'atl-item'})\n",
    "b = post_soup.find('div', class_= 'atl-pages')\n",
    "b"
   ]
  },
  {
   "cell_type": "code",
   "execution_count": 52,
   "metadata": {
    "collapsed": false
   },
   "outputs": [
    {
     "data": {
      "text/plain": [
       "<div class=\"atl-pages host-pages\"></div>"
      ]
     },
     "execution_count": 52,
     "metadata": {},
     "output_type": "execute_result"
    }
   ],
   "source": [
    "url_1 = 'http://bbs.tianya.cn' + df.link[0]\n",
    "content = urllib2.urlopen(url_1).read() #获取网页的html文本\n",
    "post_soup = BeautifulSoup(content, \"lxml\") \n",
    "pa = post_soup.find_all('div', {'class', 'atl-item'})\n",
    "a = post_soup.find('div', {'class', 'atl-pages'})\n",
    "a"
   ]
  },
  {
   "cell_type": "code",
   "execution_count": 53,
   "metadata": {
    "collapsed": true
   },
   "outputs": [],
   "source": [
    "a.form"
   ]
  },
  {
   "cell_type": "code",
   "execution_count": 54,
   "metadata": {
    "collapsed": false
   },
   "outputs": [
    {
     "name": "stdout",
     "output_type": "stream",
     "text": [
      "false\n"
     ]
    }
   ],
   "source": [
    "if b.form:\n",
    "    print 'true'\n",
    "else:\n",
    "    print 'false'"
   ]
  },
  {
   "cell_type": "code",
   "execution_count": 55,
   "metadata": {
    "collapsed": false
   },
   "outputs": [],
   "source": [
    "import random\n",
    "import time\n",
    "\n",
    "def crawler(url, file_name):\n",
    "    try:\n",
    "        # open the browser\n",
    "        url_1 = 'http://bbs.tianya.cn' + url\n",
    "        content = urllib2.urlopen(url_1).read() #获取网页的html文本\n",
    "        post_soup = BeautifulSoup(content, \"lxml\") \n",
    "        # how many pages in a post\n",
    "        post_form = post_soup.find('div', {'class', 'atl-pages'})\n",
    "        if post_form.form:\n",
    "            post_pages = post_form.form['onsubmit'].split(',')[-1].split(')')[0]\n",
    "            post_pages = int(post_pages)\n",
    "            url_base = '-'.join(url_1.split('-')[:-1]) + '-%d.shtml'\n",
    "        else:\n",
    "            post_pages = 1\n",
    "        # for the first page\n",
    "        pa = post_soup.find_all('div', {'class', 'atl-item'})\n",
    "        records = parsePage(pa)\n",
    "        with open(file_name,'a') as p: # '''Note'''：Ａppend mode, run only once!\n",
    "            for record in records:    \n",
    "                p.write('1'+ '\\t' + url + '\\t' + record.encode('utf-8')+\"\\n\") \n",
    "        # for the 2nd+ pages\n",
    "        if post_pages > 1:\n",
    "            for page_num in range(2, post_pages+1):\n",
    "                time.sleep(random.random())\n",
    "                flushPrint(page_num)\n",
    "                url2 =url_base  % page_num\n",
    "                content = urllib2.urlopen(url2).read() #获取网页的html文本\n",
    "                post_soup = BeautifulSoup(content, \"lxml\") \n",
    "                pa = post_soup.find_all('div', {'class', 'atl-item'})\n",
    "                records = parsePage(pa)\n",
    "                with open(file_name,'a') as p: # '''Note'''：Ａppend mode, run only once!\n",
    "                    for record in records:    \n",
    "                        p.write(str(page_num) + '\\t' +url + '\\t' + record.encode('utf-8')+\"\\n\") \n",
    "        else:\n",
    "            pass\n",
    "    except Exception, e:\n",
    "        print e\n",
    "        pass"
   ]
  },
  {
   "cell_type": "code",
   "execution_count": 56,
   "metadata": {
    "collapsed": false
   },
   "outputs": [
    {
     "name": "stdout",
     "output_type": "stream",
     "text": [
      "/post-free-5467490-1.shtmlThis it the post of : 0\n",
      "/post-free-5353924-1.shtmlThis it the post of : 10\n",
      "/post-free-5237590-1.shtmlThis it the post of : 20\n",
      "/post-free-5138965-1.shtmlThis it the post of : 30\n",
      "/post-free-5091778-1.shtml<urlopen error [Errno 60] Operation timed out>\n",
      "/post-free-5071687-1.shtmlThis it the post of : 40\n",
      "/post-free-5044596-1.shtml<urlopen error [Errno 60] Operation timed out>\n",
      "/post-free-5467490-1.shtmlThis it the post of : 50\n",
      "/post-free-5353924-1.shtmlThis it the post of : 60\n",
      "/post-free-5237590-1.shtmlThis it the post of : 70\n",
      "<urlopen error [Errno 60] Operation timed out>\n",
      "/post-free-5138965-1.shtmlThis it the post of : 80\n",
      "/post-free-5132354-1.shtml<urlopen error [Errno 60] Operation timed out>\n",
      "/post-free-5071687-1.shtmlThis it the post of : 90\n",
      "/post-free-5040490-1.shtml<urlopen error [Errno 60] Operation timed out>\n",
      "/post-free-5467490-1.shtmlThis it the post of : 100\n",
      "/post-free-5353924-1.shtmlThis it the post of : 110\n",
      "/post-free-5351776-1.shtml<urlopen error [Errno 60] Operation timed out>\n",
      "/post-free-5237590-1.shtmlThis it the post of : 120\n",
      "/post-free-5152762-1.shtml<urlopen error [Errno 60] Operation timed out>\n",
      "/post-free-5138965-1.shtmlThis it the post of : 130\n",
      "/post-free-5071687-1.shtmlThis it the post of : 140\n",
      "/post-free-5467490-1.shtmlThis it the post of : 150\n",
      "/post-free-5353924-1.shtmlThis it the post of : 160\n",
      "/post-free-5237590-1.shtmlThis it the post of : 170\n",
      "/post-free-5138965-1.shtmlThis it the post of : 180\n",
      "/post-free-5071687-1.shtmlThis it the post of : 190\n",
      "/post-free-5040490-1.shtml<urlopen error [Errno 60] Operation timed out>\n",
      "/post-free-5467490-1.shtmlThis it the post of : 200\n",
      "/post-free-5353924-1.shtmlThis it the post of : 210\n",
      "/post-free-5237590-1.shtmlThis it the post of : 220\n",
      "/post-free-5138965-1.shtmlThis it the post of : 230\n",
      "/post-free-5071687-1.shtmlThis it the post of : 240\n",
      "<urlopen error [Errno 60] Operation timed out>\n",
      "/post-free-5467490-1.shtmlThis it the post of : 250\n",
      "/post-free-5353924-1.shtmlThis it the post of : 260\n",
      "/post-free-5269866-1.shtml<urlopen error [Errno 60] Operation timed out>\n",
      "/post-free-5237590-1.shtmlThis it the post of : 270\n",
      "/post-free-5182971-1.shtml<urlopen error [Errno 60] Operation timed out>\n",
      "/post-free-5138965-1.shtmlThis it the post of : 280\n",
      "/post-free-5089927-1.shtml<urlopen error [Errno 60] Operation timed out>\n",
      "/post-free-5071687-1.shtmlThis it the post of : 290\n",
      "/post-free-5040490-1.shtml<urlopen error [Errno 60] Operation timed out>\n",
      "/post-free-5467490-1.shtmlThis it the post of : 300\n",
      "/post-free-5353924-1.shtmlThis it the post of : 310\n",
      "/post-free-5237590-1.shtmlThis it the post of : 320\n",
      "/post-free-5138965-1.shtmlThis it the post of : 330\n",
      "/post-free-5071687-1.shtmlThis it the post of : 340\n",
      "/post-free-5044596-1.shtml<urlopen error [Errno 60] Operation timed out>\n",
      "/post-free-5467490-1.shtmlThis it the post of : 350\n",
      "/post-free-5372868-1.shtml<urlopen error [Errno 60] Operation timed out>\n",
      "/post-free-5353924-1.shtmlThis it the post of : 360\n",
      "/post-free-5313965-1.shtml<urlopen error [Errno 60] Operation timed out>\n",
      "/post-free-5237590-1.shtmlThis it the post of : 370\n",
      "/post-free-5138965-1.shtmlThis it the post of : 380\n",
      "/post-free-5078019-1.shtml<urlopen error [Errno 60] Operation timed out>\n",
      "/post-free-5071687-1.shtmlThis it the post of : 390\n",
      "/post-free-4999763-1.shtml<urlopen error [Errno 60] Operation timed out>\n",
      "/post-free-5467490-1.shtmlThis it the post of : 400\n",
      "/post-free-5353924-1.shtmlThis it the post of : 410\n",
      "/post-free-5237590-1.shtmlThis it the post of : 420\n",
      "/post-free-5162560-1.shtml<urlopen error [Errno 60] Operation timed out>\n",
      "/post-free-5138965-1.shtmlThis it the post of : 430\n",
      "/post-free-5090197-1.shtml<urlopen error [Errno 60] Operation timed out>\n",
      "/post-free-5071687-1.shtmlThis it the post of : 440\n",
      "/post-free-5467490-1.shtmlThis it the post of : 450\n",
      "/post-free-5411618-1.shtml<urlopen error [Errno 60] Operation timed out>\n",
      "/post-free-5353924-1.shtmlThis it the post of : 460\n",
      "/post-free-5349208-1.shtml<urlopen error [Errno 60] Operation timed out>\n",
      "/post-free-5237590-1.shtmlThis it the post of : 470\n",
      "/post-free-5152762-1.shtml<urlopen error [Errno 60] Operation timed out>\n",
      "/post-free-5138965-1.shtmlThis it the post of : 480\n",
      "<urlopen error [Errno 60] Operation timed out>\n",
      "/post-free-5091778-1.shtml<urlopen error [Errno 60] Operation timed out>\n",
      "/post-free-5071687-1.shtmlThis it the post of : 490\n",
      "/post-free-4999763-1.shtml<urlopen error [Errno 60] Operation timed out>\n"
     ]
    }
   ],
   "source": [
    "for k, link in enumerate(df.link):\n",
    "    flushPrint(link)\n",
    "    if k % 10== 0:\n",
    "        print 'This it the post of : ' + str(k)\n",
    "    file_name = '/Users/dustin/cjc2016/data/tianya_bbs_threads_network.txt'\n",
    "    crawler(link, file_name)"
   ]
  },
  {
   "cell_type": "code",
   "execution_count": 57,
   "metadata": {
    "collapsed": false
   },
   "outputs": [
    {
     "data": {
      "text/plain": [
       "2576"
      ]
     },
     "execution_count": 57,
     "metadata": {},
     "output_type": "execute_result"
    }
   ],
   "source": [
    "dtt = []\n",
    "with open('/Users/dustin/cjc2016/data/tianya_bbs_threads_network.txt', 'r') as f:\n",
    "    for line in f:\n",
    "        pnum, link, time, author_id, author, content = line.replace('\\n', '').split('\\t')\n",
    "        dtt.append([pnum, link, time, author_id, author, content])\n",
    "len(dtt)"
   ]
  },
  {
   "cell_type": "code",
   "execution_count": 58,
   "metadata": {
    "collapsed": false
   },
   "outputs": [
    {
     "data": {
      "text/html": [
       "<div>\n",
       "<table border=\"1\" class=\"dataframe\">\n",
       "  <thead>\n",
       "    <tr style=\"text-align: right;\">\n",
       "      <th></th>\n",
       "      <th>0</th>\n",
       "      <th>1</th>\n",
       "      <th>2</th>\n",
       "      <th>3</th>\n",
       "      <th>4</th>\n",
       "      <th>5</th>\n",
       "    </tr>\n",
       "  </thead>\n",
       "  <tbody>\n",
       "    <tr>\n",
       "      <th>0</th>\n",
       "      <td>1</td>\n",
       "      <td>/post-free-5467490-1.shtml</td>\n",
       "      <td>2016-05-16 23:14:00</td>\n",
       "      <td>112598577</td>\n",
       "      <td>重生0504</td>\n",
       "      <td>雷洋事件关注至今，相似的情景将我的回忆转到了2012年，和雷洋同属一个时代80后生人，不同的...</td>\n",
       "    </tr>\n",
       "    <tr>\n",
       "      <th>1</th>\n",
       "      <td>1</td>\n",
       "      <td>/post-free-5467490-1.shtml</td>\n",
       "      <td>2016-05-17 02:53:01</td>\n",
       "      <td>112456104</td>\n",
       "      <td>u_112456104</td>\n",
       "      <td>眼看这个社会，草民无论男女，厄运随时都会从天而降。</td>\n",
       "    </tr>\n",
       "    <tr>\n",
       "      <th>2</th>\n",
       "      <td>1</td>\n",
       "      <td>/post-free-5467490-1.shtml</td>\n",
       "      <td>2016-05-17 05:43:16</td>\n",
       "      <td>75669408</td>\n",
       "      <td>都尼玛用了吗</td>\n",
       "      <td>说什么呢？什么都表达不了!还是爆个粗吧：去踏马隔壁的!</td>\n",
       "    </tr>\n",
       "    <tr>\n",
       "      <th>3</th>\n",
       "      <td>1</td>\n",
       "      <td>/post-free-5467490-1.shtml</td>\n",
       "      <td>2016-05-17 06:06:15</td>\n",
       "      <td>48001694</td>\n",
       "      <td>苏步清</td>\n",
       "      <td>换身衣服，本质还是改不了！你们家里就没有亲人吗？无神论真的不怕做坏事得报应吗？</td>\n",
       "    </tr>\n",
       "    <tr>\n",
       "      <th>4</th>\n",
       "      <td>1</td>\n",
       "      <td>/post-free-5467490-1.shtml</td>\n",
       "      <td>2016-05-17 06:43:04</td>\n",
       "      <td>109323706</td>\n",
       "      <td>sinzs</td>\n",
       "      <td>证据很重要，可一般人很难获得。</td>\n",
       "    </tr>\n",
       "  </tbody>\n",
       "</table>\n",
       "</div>"
      ],
      "text/plain": [
       "   0                           1                    2          3            4  \\\n",
       "0  1  /post-free-5467490-1.shtml  2016-05-16 23:14:00  112598577       重生0504   \n",
       "1  1  /post-free-5467490-1.shtml  2016-05-17 02:53:01  112456104  u_112456104   \n",
       "2  1  /post-free-5467490-1.shtml  2016-05-17 05:43:16   75669408       都尼玛用了吗   \n",
       "3  1  /post-free-5467490-1.shtml  2016-05-17 06:06:15   48001694          苏步清   \n",
       "4  1  /post-free-5467490-1.shtml  2016-05-17 06:43:04  109323706        sinzs   \n",
       "\n",
       "                                                   5  \n",
       "0  雷洋事件关注至今，相似的情景将我的回忆转到了2012年，和雷洋同属一个时代80后生人，不同的...  \n",
       "1                          眼看这个社会，草民无论男女，厄运随时都会从天而降。  \n",
       "2                        说什么呢？什么都表达不了!还是爆个粗吧：去踏马隔壁的!  \n",
       "3            换身衣服，本质还是改不了！你们家里就没有亲人吗？无神论真的不怕做坏事得报应吗？  \n",
       "4                                    证据很重要，可一般人很难获得。  "
      ]
     },
     "execution_count": 58,
     "metadata": {},
     "output_type": "execute_result"
    }
   ],
   "source": [
    "dt = pd.DataFrame(dtt)\n",
    "dt[:5]"
   ]
  },
  {
   "cell_type": "code",
   "execution_count": 59,
   "metadata": {
    "collapsed": false
   },
   "outputs": [
    {
     "data": {
      "text/html": [
       "<div>\n",
       "<table border=\"1\" class=\"dataframe\">\n",
       "  <thead>\n",
       "    <tr style=\"text-align: right;\">\n",
       "      <th></th>\n",
       "      <th>page_num</th>\n",
       "      <th>link</th>\n",
       "      <th>time</th>\n",
       "      <th>author</th>\n",
       "      <th>author_name</th>\n",
       "      <th>reply</th>\n",
       "    </tr>\n",
       "  </thead>\n",
       "  <tbody>\n",
       "    <tr>\n",
       "      <th>0</th>\n",
       "      <td>1</td>\n",
       "      <td>/post-free-5467490-1.shtml</td>\n",
       "      <td>2016-05-16 23:14:00</td>\n",
       "      <td>112598577</td>\n",
       "      <td>重生0504</td>\n",
       "      <td>雷洋事件关注至今，相似的情景将我的回忆转到了2012年，和雷洋同属一个时代80后生人，不同的...</td>\n",
       "    </tr>\n",
       "    <tr>\n",
       "      <th>1</th>\n",
       "      <td>1</td>\n",
       "      <td>/post-free-5467490-1.shtml</td>\n",
       "      <td>2016-05-17 02:53:01</td>\n",
       "      <td>112456104</td>\n",
       "      <td>u_112456104</td>\n",
       "      <td>眼看这个社会，草民无论男女，厄运随时都会从天而降。</td>\n",
       "    </tr>\n",
       "    <tr>\n",
       "      <th>2</th>\n",
       "      <td>1</td>\n",
       "      <td>/post-free-5467490-1.shtml</td>\n",
       "      <td>2016-05-17 05:43:16</td>\n",
       "      <td>75669408</td>\n",
       "      <td>都尼玛用了吗</td>\n",
       "      <td>说什么呢？什么都表达不了!还是爆个粗吧：去踏马隔壁的!</td>\n",
       "    </tr>\n",
       "    <tr>\n",
       "      <th>3</th>\n",
       "      <td>1</td>\n",
       "      <td>/post-free-5467490-1.shtml</td>\n",
       "      <td>2016-05-17 06:06:15</td>\n",
       "      <td>48001694</td>\n",
       "      <td>苏步清</td>\n",
       "      <td>换身衣服，本质还是改不了！你们家里就没有亲人吗？无神论真的不怕做坏事得报应吗？</td>\n",
       "    </tr>\n",
       "    <tr>\n",
       "      <th>4</th>\n",
       "      <td>1</td>\n",
       "      <td>/post-free-5467490-1.shtml</td>\n",
       "      <td>2016-05-17 06:43:04</td>\n",
       "      <td>109323706</td>\n",
       "      <td>sinzs</td>\n",
       "      <td>证据很重要，可一般人很难获得。</td>\n",
       "    </tr>\n",
       "  </tbody>\n",
       "</table>\n",
       "</div>"
      ],
      "text/plain": [
       "  page_num                        link                 time     author  \\\n",
       "0        1  /post-free-5467490-1.shtml  2016-05-16 23:14:00  112598577   \n",
       "1        1  /post-free-5467490-1.shtml  2016-05-17 02:53:01  112456104   \n",
       "2        1  /post-free-5467490-1.shtml  2016-05-17 05:43:16   75669408   \n",
       "3        1  /post-free-5467490-1.shtml  2016-05-17 06:06:15   48001694   \n",
       "4        1  /post-free-5467490-1.shtml  2016-05-17 06:43:04  109323706   \n",
       "\n",
       "   author_name                                              reply  \n",
       "0       重生0504  雷洋事件关注至今，相似的情景将我的回忆转到了2012年，和雷洋同属一个时代80后生人，不同的...  \n",
       "1  u_112456104                          眼看这个社会，草民无论男女，厄运随时都会从天而降。  \n",
       "2       都尼玛用了吗                        说什么呢？什么都表达不了!还是爆个粗吧：去踏马隔壁的!  \n",
       "3          苏步清            换身衣服，本质还是改不了！你们家里就没有亲人吗？无神论真的不怕做坏事得报应吗？  \n",
       "4        sinzs                                    证据很重要，可一般人很难获得。  "
      ]
     },
     "execution_count": 59,
     "metadata": {},
     "output_type": "execute_result"
    }
   ],
   "source": [
    "dt=dt.rename(columns = {0:'page_num', 1:'link', 2:'time', 3:'author',4:'author_name', 5:'reply'})\n",
    "dt[:5]"
   ]
  },
  {
   "cell_type": "code",
   "execution_count": 60,
   "metadata": {
    "collapsed": false
   },
   "outputs": [
    {
     "data": {
      "text/plain": [
       "0     雷洋事件关注至今，相似的情景将我的回忆转到了2012年，和雷洋同属一个时代80后生人，不同的...\n",
       "1                             眼看这个社会，草民无论男女，厄运随时都会从天而降。\n",
       "2                           说什么呢？什么都表达不了!还是爆个粗吧：去踏马隔壁的!\n",
       "3               换身衣服，本质还是改不了！你们家里就没有亲人吗？无神论真的不怕做坏事得报应吗？\n",
       "4                                       证据很重要，可一般人很难获得。\n",
       "5                      “雷洋案中，最沉痛的，是听到一位律师这样说：这件事不会有真相了！\n",
       "6                                                   好吓人\n",
       "7     哇(⊙o⊙)哇，这事是真的吗？只听说男人嫖娼，没想到女人会被嫖娼。真是奇葩的国度！什么乱七八...\n",
       "8                                            这事好像是山东济南的\n",
       "9                                             太可怕了，这帮狗，\n",
       "10                                           感觉活在这世上好艰辛\n",
       "11                                                    。\n",
       "12                                                   渣子\n",
       "13                             我宁愿相信这不是事实，这不是我们这个国度的事实！\n",
       "14                          绝对是真的，很多人都有类式经历，首先要懂警察是干什的。\n",
       "15    河南永城市，这座地处豫鲁苏皖四省结合部，素有“豫东门户”之称的城市，因市委办公室原副主任李新...\n",
       "16    网上有人说，十多年前曼德拉去世过一次，电视报道过的，很多人都记得。但是，这样的事情却怎么也查...\n",
       "17    姓孙的女宝宝，叫什么名字好，想给孩子改名字，2012年出生的，属龙，白羊座，至于为什么给宝宝...\n",
       "18                                                   孙女\n",
       "19                                                   悟空\n",
       "20    @农家小炒野猪肉 2016-05-04 11:35:22　　孙女　　------------...\n",
       "21                                                  孙龙女\n",
       "22    中学时的政治课本里2020我国的阶段目标已经记不清了，也许根本就没必要记，还有好大差距……现...\n",
       "23    2012-------2030中国崛起的大战略二 两岸携手保钓第一枪【原创】(2011-06...\n",
       "24    最近有一个问题困扰着我，从12年毕业来到杭州。身无分文，一个月底薪1800元，每次用钱要拆开...\n",
       "25    本人84年出生，男，08年来到一线城市，白手起家。 　　2010年左右接触到游戏机，最开始是...\n",
       "26    天气要回暖了，我希望能提醒大家注意手足口病。　　2012年，我弟弟得了手足口病，却因为医生误...\n",
       "27    @孤山老妖2012 @香蕉超人1号 @小滿子 上工了:D@孤山老妖2012 @香蕉超人1号 ...\n",
       "28    近年来，天津特大爆炸事件，外滩踩踏事件，东方之星号。。。无不牵动每位国人的心，遇难者之家属均...\n",
       "29    一　2012的传说　　二　推背图的脉络　　三　道德经的论述　　四　盘古传说　　五　人类和宇宙...\n",
       "                            ...                        \n",
       "70    医生问了情况后说应该没大事儿。就开始把我弄躺到那张长课桌上，抬腿，转转腿脚，按摩。一番折腾后...\n",
       "71    诊所在马路对面的后面一个小巷子头上，黄氏中西医诊所。开了两包中药，两盒腰疼丸。　　买了15元...\n",
       "72    幸好仓库的同事们年轻小伙子有力气，人好。帮了大忙了。感谢感谢！！！　　天热，躺着出汗，不能动...\n",
       "73    同事帮着熬药后端来，喝了中药后第二天一早感到好多了，早上中午有喝了中药，好多了。能稍微慢慢地...\n",
       "74                   之后5年内的小部分上贡卡,其他医疗机构的卡也不少,早仍了,看见就疼.\n",
       "75                                               其中一个片儿\n",
       "76       记得好像是拍个片的价格有220元的370元的....多了去,加起来早赶超拍套婚纱照的价格了.\n",
       "77    跟我好像。　　高中时迷上了运动，早上跑步，天天打篮球玩双杆，慢慢腿麻木走不了路，高二暑假动的...\n",
       "78    按摩没有按照我期望的那样，让我能自由下床活动。僵卧了四五天后，终于能下床行动了！　　一个星期...\n",
       "79                 马上2016年了,2015还剩最后半个小时啦.明年聊.放假了好好拉呱 .\n",
       "80    在广州一年半多，2010年十月就回到内地省会了。不想在那里打工了，没有归属感，梦想越来越远。...\n",
       "81    到一家按摩店按摩，那个年轻小伙按的很好，开始有些效果，过来一周又去了一次，找不到店了。倒闭了...\n",
       "82    二院，省中医院，省人民医院，骨科，疼痛科，椎间盘科，普通医生，专家号，博导号，都挂过，有怀疑...\n",
       "83    坏的时候越来越多。之前疼了盘腿坐一会儿会好上一些，这个方法逐步慢慢失效了。拍片，找专家，省级...\n",
       "84    腰又开始疼了,也找不到老按摩师了,陆陆续续断断续续的大中医院也去了,也没有好办法,两年多也不...\n",
       "85    也 简单的给他说了状况,抱着试试的心态,他不想给我按摩,说贴膏药吧,效果好.问：什么膏药啊,...\n",
       "86    带着疑虑,按摩完了.不好意思拒绝,就贴了一帖.没想到晚上睡觉时候开始,膏药贴就热乎乎的,很舒...\n",
       "87    就怕再疼了,平时稍微重的活儿我都悠着点儿,不敢逞强.还专门准备了五六贴随时备着,平时稍有疼痛...\n",
       "88    过年回家我带了些膏药回去给老爹老妈贴给岳父贴,效果都很好.老爹颈椎不太好,老妈腰不好,岳父膝...\n",
       "89                                               手工膏药图片\n",
       "90    潜水多年,提笔忘字,平时也不怎么写文字,这次能写这么多,我自己都感到惊讶,算是练练手打字啦....\n",
       "91    继续拉呱.　　很多男人人都有一个田园梦,那里,有农妇山泉,有鸟语花香,有花开满园,有小菜园,...\n",
       "92    所幸我所生活的城市，有不少小山包，往南有山区。市区周遭有“齐烟九点\".大部分不收费的。这个很...\n",
       "93    暂时不能离开城市回归梦想的田园生活，只能到附近的小山包爬爬山，去河流野钓，来舒缓一下烦闷的雾...\n",
       "94    其实，大家追求的田园生活，并不是落后的农村生活。而是财务自由，有财务自由！有干净的院子，有二...\n",
       "95                                              华山远景 3月\n",
       "96                                                     \n",
       "97                3月的华山还是翠芽新发中，远看仍是满目萧瑟。5月初的华山已经是翠绿一片了。\n",
       "98                          这个膏药有卖不，我也买点来试一试，腰突半年，不好受啊。\n",
       "99                      山脚下很多烧烤摊位，方便了游人，但卫生状况能够改善一下就好了。\n",
       "Name: reply, dtype: object"
      ]
     },
     "execution_count": 60,
     "metadata": {},
     "output_type": "execute_result"
    }
   ],
   "source": [
    "dt.reply[:100]"
   ]
  }
 ],
 "metadata": {
  "kernelspec": {
   "display_name": "Python 2",
   "language": "python",
   "name": "python2"
  },
  "language_info": {
   "codemirror_mode": {
    "name": "ipython",
    "version": 2
   },
   "file_extension": ".py",
   "mimetype": "text/x-python",
   "name": "python",
   "nbconvert_exporter": "python",
   "pygments_lexer": "ipython2",
   "version": "2.7.11"
  }
 },
 "nbformat": 4,
 "nbformat_minor": 0
}
